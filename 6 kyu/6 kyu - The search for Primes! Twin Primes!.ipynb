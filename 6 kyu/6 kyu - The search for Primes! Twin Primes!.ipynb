{
 "cells": [
  {
   "cell_type": "markdown",
   "id": "39fc1ed8",
   "metadata": {},
   "source": [
    "### The search for Primes! Twin Primes! - 6 kyu, Codewars/Python"
   ]
  },
  {
   "cell_type": "code",
   "execution_count": 16,
   "id": "4a537b32",
   "metadata": {},
   "outputs": [
    {
     "data": {
      "text/plain": [
       "2"
      ]
     },
     "execution_count": 16,
     "metadata": {},
     "output_type": "execute_result"
    }
   ],
   "source": [
    "\"\"\"\n",
    "A twin prime is a prime number that is either 2 less or 2 more than another prime number—for example, \n",
    "either member of the twin prime pair (41, 43). In other words, a twin prime is a prime that has a prime \n",
    "gap of two. Sometimes the term twin prime is used for a pair of twin primes; an alternative name for this \n",
    "is prime twin or prime pair. (from wiki https://en.wikipedia.org/wiki/Twin_prime)\n",
    "\n",
    "Your mission, should you choose to accept it, is to write a function that counts the number of sets of \n",
    "twin primes from 1 to n.\n",
    "If n is wrapped by twin primes (n-1 == prime && n+1 == prime) then that should also count even though \n",
    "n+1 is outside the range.\n",
    "\n",
    "Ex n = 10\n",
    "Twin Primes are (3,5) (5,7) so your function should return 2!\n",
    "\"\"\"\n",
    "\n",
    "from operator import * # 'operator.sub' will be used to execute the subtraction operation to determine \n",
    "# the gap between two prime numbers\n",
    "\n",
    "def twin_prime(n):\n",
    "    if n < 2: # If the given input number is smaller than 2 - we return 0, because 0 and 1 are not among prime\n",
    "        # numbers\n",
    "        return 0\n",
    "    twin_primes = 0 # The initial number of twin primes is 0\n",
    "    # The main operation is to find all prime numbers from 1 to n inclusively\n",
    "    # To do that it is important to utilize the special algorithm - 'Sieve of Eratosthenes'\n",
    "    # Let's implement the above-mentioned algorithm:\n",
    "    array = [True] * (n + 2)\n",
    "    final = [] # The list will store all prime numbers\n",
    "    for i in range(2, n + 2):\n",
    "        if array[i]:\n",
    "            final.append(i) # All prime numbers are appended to the rear of the list\n",
    "        for j in range(i ** 2, n + 2, i):\n",
    "\n",
    "            array[j] = False\n",
    "    if len(final) < 2: # If the list contains no elements or just 1 element - we return 0\n",
    "        return 0\n",
    "    # Alternatively, it is necessary to use two pointers, as well as the subtraction operation to determine the \n",
    "    # suitable gap:\n",
    "    i = 0\n",
    "    j = 1\n",
    "    while j < len(final):\n",
    "        gap = abs(sub(final[i], final[j]))\n",
    "        if gap == 2:\n",
    "            twin_primes += 1 # If the gap meets the requirement - we increase the 'twin_primes' parameter by 1\n",
    "        i += 1\n",
    "        j += 1\n",
    "    return twin_primes # The total amount of twin_primes is returned\n",
    "\n",
    "twin_prime(10)"
   ]
  }
 ],
 "metadata": {
  "kernelspec": {
   "display_name": "Python 3 (ipykernel)",
   "language": "python",
   "name": "python3"
  },
  "language_info": {
   "codemirror_mode": {
    "name": "ipython",
    "version": 3
   },
   "file_extension": ".py",
   "mimetype": "text/x-python",
   "name": "python",
   "nbconvert_exporter": "python",
   "pygments_lexer": "ipython3",
   "version": "3.9.7"
  }
 },
 "nbformat": 4,
 "nbformat_minor": 5
}
