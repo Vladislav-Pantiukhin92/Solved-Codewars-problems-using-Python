{
 "cells": [
  {
   "cell_type": "markdown",
   "id": "1c68e9c2",
   "metadata": {},
   "source": [
    "### Fibonacci, Tribonacci and friends  - 6 kyu, Codewars/Python"
   ]
  },
  {
   "cell_type": "code",
   "execution_count": 36,
   "id": "afbf03a4",
   "metadata": {},
   "outputs": [
    {
     "data": {
      "text/plain": [
       "[1, 2, 3, 4, 5, 6, 7, 8, 9]"
      ]
     },
     "execution_count": 36,
     "metadata": {},
     "output_type": "execute_result"
    }
   ],
   "source": [
    "\"\"\"\n",
    "If you have completed the Tribonacci sequence kata, you would know by now that mister Fibonacci has at least a bigger brother. If not, give it a quick look to get how things work.\n",
    "Well, time to expand the family a little more: think of a Quadribonacci starting with a signature of 4 elements and each following element is the sum of the 4 previous, a Pentabonacci (well Cinquebonacci would probably sound a bit more italian, but it would also sound really awful) with a signature of 5 elements and each following element is the sum of the 5 previous, and so on.\n",
    "Well, guess what? You have to build a Xbonacci function that takes a signature of X elements - and remember each next element is the sum of the last X elements - and returns the first n elements of the so seeded sequence.\n",
    "\n",
    "xbonacci {1,1,1,1} 10 = {1,1,1,1,4,7,13,25,49,94}\n",
    "xbonacci {0,0,0,0,1} 10 = {0,0,0,0,1,1,2,4,8,16}\n",
    "xbonacci {1,0,0,0,0,0,1} 10 = {1,0,0,0,0,0,1,2,3,6}\n",
    "xbonacci {1,1} produces the Fibonacci sequence\n",
    "\"\"\"\n",
    "\n",
    "def Xbonacci(signature, n):\n",
    "    if n <= len(signature):\n",
    "        return signature[:n]\n",
    "    length = len(signature)\n",
    "    nums = length\n",
    "    x_sequence = [0] * n # We create the list of 0s\n",
    "    for i in range(length): # We copy all the existing numbers from the initial array\n",
    "        x_sequence[i] = signature[i]\n",
    "    while length < n:\n",
    "        number = 0\n",
    "        for i in range(1, nums + 1): # The loop executes the specific amount of iterations\n",
    "            # The amount of such iterations equals to the amount of previous numbers, which create the next number\n",
    "            number += x_sequence[length - i]\n",
    "        x_sequence[length] = number\n",
    "        length += 1 # Such operations are to be continued along with the length (array duration)\n",
    "    return x_sequence\n",
    "\n",
    "Xbonacci([1, 2, 3, 4, 5, 6, 7, 8, 9, 0], 9)"
   ]
  }
 ],
 "metadata": {
  "kernelspec": {
   "display_name": "Python 3",
   "language": "python",
   "name": "python3"
  },
  "language_info": {
   "codemirror_mode": {
    "name": "ipython",
    "version": 3
   },
   "file_extension": ".py",
   "mimetype": "text/x-python",
   "name": "python",
   "nbconvert_exporter": "python",
   "pygments_lexer": "ipython3",
   "version": "3.8.8"
  }
 },
 "nbformat": 4,
 "nbformat_minor": 5
}
