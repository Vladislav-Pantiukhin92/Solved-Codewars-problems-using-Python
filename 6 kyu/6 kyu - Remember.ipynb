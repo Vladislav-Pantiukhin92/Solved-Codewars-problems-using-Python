{
 "cells": [
  {
   "cell_type": "markdown",
   "id": "88fb6965",
   "metadata": {},
   "source": [
    "### Remember - 6 kyu, Codewars/Python"
   ]
  },
  {
   "cell_type": "code",
   "execution_count": 13,
   "id": "c08bcb5e",
   "metadata": {},
   "outputs": [
    {
     "data": {
      "text/plain": [
       "['p', 'i']"
      ]
     },
     "execution_count": 13,
     "metadata": {},
     "output_type": "execute_result"
    }
   ],
   "source": [
    "\"\"\"\n",
    "Write a function that takes a string and returns an array of the repeated characters (letters, numbers, \n",
    "whitespace) in the string.\n",
    "If a charater is repeated more than once, only show it once in the result array.\n",
    "Characters should be shown by the order of their first repetition. Note that this may be different from \n",
    "the order of first appearance of the character.\n",
    "Characters are case sensitive.\n",
    "For F# return a \"char list\"\n",
    "\n",
    "Examples:\n",
    "remember(\"apple\") => returns [\"p\"]\n",
    "remember(\"apPle\") => returns []          # no repeats, \"p\" != \"P\"\n",
    "remember(\"pippi\") => returns [\"p\",\"i\"]   # show \"p\" only once\n",
    "remember('Pippi') => returns [\"p\",\"i\"]   # \"p\" is repeated first\n",
    "\"\"\"\n",
    "\n",
    "def remember(str_):\n",
    "    repeated_dict = {} # To identify all the repeated characters, the dictionary will be used\n",
    "    final = [] # It is the list container, which will store only one unique instance of the repeated character\n",
    "    # (without duplicates)\n",
    "    for i in str_:\n",
    "        if i not in repeated_dict:\n",
    "            repeated_dict[i] = 1 # If the character is new, it is added as a key within the dictionary\n",
    "            # The key will correspond to the value '1' (the first occurrence of the key)\n",
    "        else:\n",
    "            # If the character is already within the dictionary - we add its instance to the list container (but \n",
    "            # only if the list container doesn't contain such an element)\n",
    "            if i not in final:\n",
    "                final.append(i)\n",
    "    return final # The list container with repeated characters, but without duplicates, is returned\n",
    "\n",
    "remember(\"pippi\")"
   ]
  }
 ],
 "metadata": {
  "kernelspec": {
   "display_name": "Python 3 (ipykernel)",
   "language": "python",
   "name": "python3"
  },
  "language_info": {
   "codemirror_mode": {
    "name": "ipython",
    "version": 3
   },
   "file_extension": ".py",
   "mimetype": "text/x-python",
   "name": "python",
   "nbconvert_exporter": "python",
   "pygments_lexer": "ipython3",
   "version": "3.9.7"
  }
 },
 "nbformat": 4,
 "nbformat_minor": 5
}
