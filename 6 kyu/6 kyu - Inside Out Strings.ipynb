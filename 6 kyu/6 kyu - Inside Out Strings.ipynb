{
 "cells": [
  {
   "cell_type": "markdown",
   "id": "5ca6419e",
   "metadata": {},
   "source": [
    "### Inside Out Strings - 6 kyu, Codewars/Python"
   ]
  },
  {
   "cell_type": "code",
   "execution_count": 2,
   "id": "9fb2e3eb",
   "metadata": {},
   "outputs": [
    {
     "data": {
      "text/plain": [
       "'atxsi'"
      ]
     },
     "execution_count": 2,
     "metadata": {},
     "output_type": "execute_result"
    }
   ],
   "source": [
    "\"\"\"\n",
    "You are given a string of words (x), for each word within the string you need to turn the word \n",
    "'inside out'. By this I mean the internal letters will move out, and the external letters move toward the centre.\n",
    "If the word is even length, all letters will move. If the length is odd, you are expected to leave the \n",
    "'middle' letter of the word where it is.\n",
    "An example should clarify:\n",
    "'taxi' would become 'atix' 'taxis' would become 'atxsi'\n",
    "\"\"\"\n",
    "\n",
    "def inside_out(st):\n",
    "# We are going to change only those words, the length of which is larger than 3\n",
    "# Other words cannot be changed:\n",
    "\n",
    "    def inside_out_func(string): # We build the internal function, which will implement the 'inside out' operation\n",
    "        # with words\n",
    "        if len(string) < 3: # Verification of the length. We have to deal only with words, which contain more than 3 characters\n",
    "            return string # Otherwise, the original word is returned\n",
    "        string = list(string) # We transform the string into the list of characters\n",
    "        length = len(string) # Let's determine the specific length as well\n",
    "        # We are going to swap characters, starting from the center (the inner content) and moving towards the \n",
    "        # beginning and the end of the word respectively\n",
    "        # The starting position will depend upon the parity of the length:\n",
    "        if length % 2 == 0: # Let's calculate the starting position, if the length is even\n",
    "            right = length // 2\n",
    "            left = right - 1\n",
    "        else: # Let's calculate the starting position, if the length is odd\n",
    "            right = (length // 2) + 1\n",
    "            left = (length // 2) - 1\n",
    "        i = 0\n",
    "        j = length - 1\n",
    "        # When the specific starting index position is determined, we are going to implement the 'inside out'\n",
    "        # swapping operation:\n",
    "        while i < left and j > right:\n",
    "            string[i], string[left] = string[left], string[i]\n",
    "            string[j], string[right] = string[right], string[j]\n",
    "            i += 1\n",
    "            left -= 1\n",
    "            j -= 1\n",
    "            right += 1\n",
    "        return \"\".join(string) # The restored string is returned\n",
    "    # We defined the 'inside_out' function. \n",
    "    # The next step is to use the 'map' function for applying the above-underlined 'inside_out_func' \n",
    "    # to each word of the given input string (if the length > 3):\n",
    "    st = st.split(\" \")\n",
    "    st = list(map(inside_out_func, st))\n",
    "    return \" \".join(st) # The string result is returned\n",
    "\n",
    "inside_out(\"taxis\")"
   ]
  }
 ],
 "metadata": {
  "kernelspec": {
   "display_name": "Python 3 (ipykernel)",
   "language": "python",
   "name": "python3"
  },
  "language_info": {
   "codemirror_mode": {
    "name": "ipython",
    "version": 3
   },
   "file_extension": ".py",
   "mimetype": "text/x-python",
   "name": "python",
   "nbconvert_exporter": "python",
   "pygments_lexer": "ipython3",
   "version": "3.9.7"
  }
 },
 "nbformat": 4,
 "nbformat_minor": 5
}
