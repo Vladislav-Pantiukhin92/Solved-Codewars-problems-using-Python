{
 "cells": [
  {
   "cell_type": "markdown",
   "id": "26c32b32",
   "metadata": {},
   "source": [
    "### Duplicate Encoder - 6 kyu, Codewars/Python"
   ]
  },
  {
   "cell_type": "code",
   "execution_count": 31,
   "id": "0455028d",
   "metadata": {},
   "outputs": [
    {
     "data": {
      "text/plain": [
       "')())())'"
      ]
     },
     "execution_count": 31,
     "metadata": {},
     "output_type": "execute_result"
    }
   ],
   "source": [
    "\"\"\"\n",
    "The goal of this exercise is to convert a string to a new string where each character in the new string \n",
    "is \"(\" if that character appears only once in the original string, or \")\" if that character appears more \n",
    "than once in the original string. Ignore capitalization when determining if a character is a duplicate.\n",
    "\n",
    "Examples\n",
    "\"din\"      =>  \"(((\"\n",
    "\"recede\"   =>  \"()()()\"\n",
    "\"Success\"  =>  \")())())\"\n",
    "\"(( @\"     =>  \"))((\" \n",
    "Notes\n",
    "Assertion messages may be unclear about what they display in some languages. If you read \"...It Should \n",
    "encode XXX\", the \"XXX\" is the expected result, not the input!\n",
    "\"\"\"\n",
    "\n",
    "from collections import Counter # 'collections.Counter' will be used for the purpose of creating \n",
    "# the dictionary, where keys are letters and values are their occurrence within the given input string\n",
    "\n",
    "def duplicate_encode(word):\n",
    "    word = word.casefold() # The lowercase conversion of all English letters\n",
    "    myDict = dict(Counter(word)) # The dictionary is created\n",
    "    # Based upon the occurrence value within the dictionary, we will make the decision, regarding the bracket's \n",
    "    # direction\n",
    "    finalStr = \"\".join([\")\" if myDict[i] > 1 else \"(\" for i in word])\n",
    "    return finalStr # The final string with brackets is returned\n",
    "\n",
    "duplicate_encode(\"Success\")"
   ]
  }
 ],
 "metadata": {
  "kernelspec": {
   "display_name": "Python 3 (ipykernel)",
   "language": "python",
   "name": "python3"
  },
  "language_info": {
   "codemirror_mode": {
    "name": "ipython",
    "version": 3
   },
   "file_extension": ".py",
   "mimetype": "text/x-python",
   "name": "python",
   "nbconvert_exporter": "python",
   "pygments_lexer": "ipython3",
   "version": "3.9.7"
  }
 },
 "nbformat": 4,
 "nbformat_minor": 5
}
