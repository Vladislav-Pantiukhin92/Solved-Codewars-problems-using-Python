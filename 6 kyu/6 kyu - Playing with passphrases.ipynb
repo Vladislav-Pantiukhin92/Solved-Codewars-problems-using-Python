{
 "cells": [
  {
   "cell_type": "markdown",
   "id": "0fa6df71",
   "metadata": {},
   "source": [
    "### Playing with passphrases - 6 kyu, Codewars/Python"
   ]
  },
  {
   "cell_type": "code",
   "execution_count": 465,
   "id": "05cad408",
   "metadata": {},
   "outputs": [
    {
     "data": {
      "text/plain": [
       "'!4897 Oj oSpC'"
      ]
     },
     "execution_count": 465,
     "metadata": {},
     "output_type": "execute_result"
    }
   ],
   "source": [
    "\"\"\"\n",
    "Everyone knows passphrases. One can choose passphrases from poems, songs, movies names and so on but \n",
    "frequently they can be guessed due to common cultural references. You can get your passphrases stronger \n",
    "by different means. One is the following:\n",
    "\n",
    "choose a text in capital letters including or not digits and non alphabetic characters,\n",
    "\n",
    "shift each letter by a given number but the transformed letter must be a letter (circular shift),\n",
    "replace each digit by its complement to 9,\n",
    "keep such as non alphabetic and non digit characters,\n",
    "downcase each letter in odd position, upcase each letter in even position (the first character \n",
    "is in position 0),\n",
    "reverse the whole result.\n",
    "Example:\n",
    "your text: \"BORN IN 2015!\", shift 1\n",
    "\n",
    "1 + 2 + 3 -> \"CPSO JO 7984!\"\n",
    "\n",
    "4 \"CpSo jO 7984!\"\n",
    "\n",
    "5 \"!4897 Oj oSpC\"\n",
    "\n",
    "With longer passphrases it's better to have a small and easy program. Would you write it?\n",
    "\"\"\"\n",
    "\n",
    "from collections import deque\n",
    "import string\n",
    "\n",
    "def play_pass(s, n):\n",
    "    uppercase_ = deque(string.ascii_uppercase)\n",
    "    uppercase_.rotate(-n) # \"Rotate\" from deque will help to shift the string\n",
    "    uppercase_ = \"\".join(uppercase_)\n",
    "    # 'str.maketrans' to transform strings and digits\n",
    "    s = s.translate(str.maketrans(string.ascii_uppercase, uppercase_))\n",
    "    s = s.translate(str.maketrans(string.digits, string.digits[::-1]))\n",
    "    final = []\n",
    "    for i, j in enumerate(list(s)):\n",
    "        if j.isalpha() and i % 2 != 0:\n",
    "            final.append(j.casefold())\n",
    "        else:\n",
    "            final.append(j)\n",
    "    return \"\".join(final)[::-1]\n",
    "    \n",
    "    \n",
    "play_pass(\"BORN IN 2015!\", 1)"
   ]
  }
 ],
 "metadata": {
  "kernelspec": {
   "display_name": "Python 3",
   "language": "python",
   "name": "python3"
  },
  "language_info": {
   "codemirror_mode": {
    "name": "ipython",
    "version": 3
   },
   "file_extension": ".py",
   "mimetype": "text/x-python",
   "name": "python",
   "nbconvert_exporter": "python",
   "pygments_lexer": "ipython3",
   "version": "3.8.8"
  }
 },
 "nbformat": 4,
 "nbformat_minor": 5
}
