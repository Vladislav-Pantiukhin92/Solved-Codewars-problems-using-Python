{
 "cells": [
  {
   "cell_type": "markdown",
   "id": "cc3cb9d8",
   "metadata": {},
   "source": [
    "### Integer depth - 6 kyu, Codewars/Python"
   ]
  },
  {
   "cell_type": "code",
   "execution_count": 23,
   "id": "75a90aa3",
   "metadata": {},
   "outputs": [
    {
     "data": {
      "text/plain": [
       "9"
      ]
     },
     "execution_count": 23,
     "metadata": {},
     "output_type": "execute_result"
    }
   ],
   "source": [
    "\"\"\"\n",
    "The depth of an integer n is defined to be how many multiples of n it is necessary to compute before \n",
    "all 10 digits have appeared at least once in some multiple.\n",
    "\n",
    "Example:\n",
    "let see n=42\n",
    "\n",
    "Multiple         value         digits     comment\n",
    "42*1              42            2,4 \n",
    "42*2              84             8         4 existed\n",
    "42*3              126           1,6        2 existed\n",
    "42*4              168            -         all existed\n",
    "42*5              210            0         2,1 existed\n",
    "42*6              252            5         2 existed\n",
    "42*7              294            9         2,4 existed\n",
    "42*8              336            3         6 existed \n",
    "42*9              378            7         3,8 existed\n",
    "\n",
    "Looking at the above table under digits column you can find all the digits from 0 to 9, \n",
    "Hence it required 9 multiples of 42 to get all the digits. So the depth of 42 is 9. \n",
    "Write a function named computeDepth which computes the depth of its integer argument.\n",
    "Only positive numbers greater than zero will be passed as an input.\n",
    "\"\"\"\n",
    "\n",
    "def compute_depth(n):\n",
    "    mySet = set(range(0, 10)) # The set of numbers is generated (0-9)\n",
    "    count = 1 # The initial depth of the given input number\n",
    "    while True:\n",
    "        for num in list(str(n * count)): # The multiplication process\n",
    "            mySet.discard(int(num)) # All the obtained digits from the given input number are discarded\n",
    "            # from the set structure\n",
    "        if not mySet: # If the set structure is empty - we return the final accumulated depth\n",
    "            return count\n",
    "        count += 1\n",
    "        \n",
    "        \n",
    "compute_depth(42)"
   ]
  }
 ],
 "metadata": {
  "kernelspec": {
   "display_name": "Python 3 (ipykernel)",
   "language": "python",
   "name": "python3"
  },
  "language_info": {
   "codemirror_mode": {
    "name": "ipython",
    "version": 3
   },
   "file_extension": ".py",
   "mimetype": "text/x-python",
   "name": "python",
   "nbconvert_exporter": "python",
   "pygments_lexer": "ipython3",
   "version": "3.9.7"
  }
 },
 "nbformat": 4,
 "nbformat_minor": 5
}
