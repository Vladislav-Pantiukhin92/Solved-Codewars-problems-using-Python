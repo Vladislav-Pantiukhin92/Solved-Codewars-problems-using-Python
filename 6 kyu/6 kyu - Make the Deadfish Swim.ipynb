{
 "cells": [
  {
   "cell_type": "markdown",
   "id": "0d29707f",
   "metadata": {},
   "source": [
    "### Make the Deadfish Swim  - 6 kuy, Codewars/Python"
   ]
  },
  {
   "cell_type": "code",
   "execution_count": 335,
   "id": "5f84703a",
   "metadata": {},
   "outputs": [
    {
     "data": {
      "text/plain": [
       "[8, 64]"
      ]
     },
     "execution_count": 335,
     "metadata": {},
     "output_type": "execute_result"
    }
   ],
   "source": [
    "\"\"\"\n",
    "Write a simple parser that will parse and run Deadfish.\n",
    "\n",
    "Deadfish has 4 commands, each 1 character long:\n",
    "\n",
    "i increments the value (initially 0)\n",
    "d decrements the value\n",
    "s squares the value\n",
    "o outputs the value into the return array\n",
    "Invalid characters should be ignored.\n",
    "\n",
    "parse('iiisdoso')  ==>  [8, 64]\n",
    "\n",
    "\"\"\"\n",
    "\n",
    "def parse(data):\n",
    "    final_result = [] # We are creating the container to store the final outcome\n",
    "    count = 0\n",
    "    for i in data:\n",
    "        if i == \"i\":\n",
    "            count += 1\n",
    "        elif i == \"d\":\n",
    "            count -= 1\n",
    "        elif i == \"s\":\n",
    "            count **= 2\n",
    "        elif i == \"o\":\n",
    "            final_result.append(count)\n",
    "        else:\n",
    "            pass\n",
    "    return final_result\n",
    "\n",
    "parse(\"iiisdoso\")"
   ]
  }
 ],
 "metadata": {
  "kernelspec": {
   "display_name": "Python 3",
   "language": "python",
   "name": "python3"
  },
  "language_info": {
   "codemirror_mode": {
    "name": "ipython",
    "version": 3
   },
   "file_extension": ".py",
   "mimetype": "text/x-python",
   "name": "python",
   "nbconvert_exporter": "python",
   "pygments_lexer": "ipython3",
   "version": "3.8.8"
  }
 },
 "nbformat": 4,
 "nbformat_minor": 5
}
