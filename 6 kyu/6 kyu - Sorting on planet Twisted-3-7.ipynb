{
 "cells": [
  {
   "cell_type": "markdown",
   "id": "39f16dc4",
   "metadata": {},
   "source": [
    "### Sorting on planet Twisted-3-7 - 6 kyu, Codewars/Python"
   ]
  },
  {
   "cell_type": "code",
   "execution_count": 24,
   "id": "9f27370f",
   "metadata": {},
   "outputs": [
    {
     "data": {
      "text/plain": [
       "[1, 2, 7, 4, 5, 6, 3, 8, 9]"
      ]
     },
     "execution_count": 24,
     "metadata": {},
     "output_type": "execute_result"
    }
   ],
   "source": [
    "\"\"\"\n",
    "#Sorting on planet Twisted-3-7\n",
    "\n",
    "There is a planet... in a galaxy far far away. It is exactly like our planet, but it has one difference: \n",
    "#The values of the digits 3 and 7 are twisted. Our 3 means 7 on the planet Twisted-3-7. And 7 means 3.\n",
    "Your task is to create a method, that can sort an array the way it would be sorted on Twisted-3-7.\n",
    "\n",
    "7 Examples from a friend from Twisted-3-7:\n",
    "\n",
    "[1,2,3,4,5,6,7,8,9] -> [1,2,7,4,5,6,3,8,9]\n",
    "[12,13,14] -> [12,14,13]\n",
    "[9,2,4,7,3] -> [2,7,4,3,9]\n",
    "There is no need for a precheck. The array will always be not null and will always contain at least one \n",
    "number.\n",
    "You should not modify the input array!\n",
    "\"\"\"\n",
    "\n",
    "from operator import * # 'operator.itemgetter()' will be used to sort the array in a specific manner\n",
    "\n",
    "def sort_twisted37(arr):\n",
    "    twisted = [] # The twisted option of the given input array\n",
    "    table = str.maketrans(\"37\", \"73\") # The convertion mechanism\n",
    "    for num in arr:\n",
    "        # The twisted array is being created\n",
    "        twisted.append(int(str(num).translate(table)))\n",
    "    # The zip_list with the original array and the twisted array is initialized (and sorted in a specific manner)\n",
    "    zip_list = sorted(list(zip(arr, twisted)), key=itemgetter(1))\n",
    "    return list(map(lambda x: x[0], zip_list)) # The transformed first part of the zip list is returned\n",
    "\n",
    "sort_twisted37([1,2,3,4,5,6,7,8,9])"
   ]
  }
 ],
 "metadata": {
  "kernelspec": {
   "display_name": "Python 3 (ipykernel)",
   "language": "python",
   "name": "python3"
  },
  "language_info": {
   "codemirror_mode": {
    "name": "ipython",
    "version": 3
   },
   "file_extension": ".py",
   "mimetype": "text/x-python",
   "name": "python",
   "nbconvert_exporter": "python",
   "pygments_lexer": "ipython3",
   "version": "3.9.7"
  }
 },
 "nbformat": 4,
 "nbformat_minor": 5
}
