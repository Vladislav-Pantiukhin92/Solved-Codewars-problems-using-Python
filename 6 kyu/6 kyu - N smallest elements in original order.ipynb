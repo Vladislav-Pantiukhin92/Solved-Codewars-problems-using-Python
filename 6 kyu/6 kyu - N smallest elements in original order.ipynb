{
 "cells": [
  {
   "cell_type": "markdown",
   "id": "2acc325e",
   "metadata": {},
   "source": [
    "### N smallest elements in original order - 6 kyu, Codewars/Python"
   ]
  },
  {
   "cell_type": "code",
   "execution_count": 3,
   "id": "cdf0cb38",
   "metadata": {},
   "outputs": [
    {
     "data": {
      "text/plain": [
       "[1, 2, 3]"
      ]
     },
     "execution_count": 3,
     "metadata": {},
     "output_type": "execute_result"
    }
   ],
   "source": [
    "\"\"\"\n",
    "Your task is to write a function that does just what the title suggests (so, fair warning, be aware that \n",
    "you are not getting out of it just throwing a lame bas sorting method there) with an array/list/vector \n",
    "of integers and the expected number n of smallest elements to return.\n",
    "\n",
    "Also:\n",
    "\n",
    "the number of elements to be returned cannot be higher than the array/list/vector length;\n",
    "elements can be duplicated;\n",
    "in case of duplicates, just return them according to the original order (see third example for more \n",
    "clarity).\n",
    "Same examples and more in the test cases:\n",
    "\n",
    "first_n_smallest([1,2,3,4,5],3) == [1,2,3]\n",
    "first_n_smallest([5,4,3,2,1],3) == [3,2,1]\n",
    "first_n_smallest([1,2,3,4,1],3) == [1,2,1]\n",
    "first_n_smallest([1,2,3,-4,0],3) == [1,-4,0]\n",
    "first_n_smallest([1,2,3,4,5],0) == []\n",
    "\"\"\"\n",
    "\n",
    "from heapq import nsmallest # 'heapq.nsmallest' will return the specific number of the smallest elements within \n",
    "# the given input array\n",
    "\n",
    "def first_n_smallest(arr, n):\n",
    "    if n == 0: # If the 'n' parameter equals to 0 - we return an empty list\n",
    "        return []\n",
    "    smallest_lst = nsmallest(n, arr) # The list with the smallest elements is returned\n",
    "    final = [] # The list container, which will store all the relevant smallest elements\n",
    "    for i in arr:\n",
    "        # Verification of the smallest element within the list\n",
    "        if i in smallest_lst and len(final) < n:\n",
    "            final.append(i)\n",
    "            smallest_lst.remove(i) # If an element is checked, it is subsequently removed\n",
    "    return final # The list is finally returned\n",
    "\n",
    "first_n_smallest([1,2,3,4,5], 3)"
   ]
  }
 ],
 "metadata": {
  "kernelspec": {
   "display_name": "Python 3 (ipykernel)",
   "language": "python",
   "name": "python3"
  },
  "language_info": {
   "codemirror_mode": {
    "name": "ipython",
    "version": 3
   },
   "file_extension": ".py",
   "mimetype": "text/x-python",
   "name": "python",
   "nbconvert_exporter": "python",
   "pygments_lexer": "ipython3",
   "version": "3.9.7"
  }
 },
 "nbformat": 4,
 "nbformat_minor": 5
}
