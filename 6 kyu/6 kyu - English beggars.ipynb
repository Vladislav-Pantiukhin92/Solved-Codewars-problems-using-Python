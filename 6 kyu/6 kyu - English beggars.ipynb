{
 "cells": [
  {
   "cell_type": "markdown",
   "id": "eae0b1ff",
   "metadata": {},
   "source": [
    "### English beggars - 6 kyu, Codewars/Python"
   ]
  },
  {
   "cell_type": "code",
   "execution_count": 32,
   "id": "a6dc4d6c",
   "metadata": {},
   "outputs": [
    {
     "data": {
      "text/plain": [
       "[9, 6]"
      ]
     },
     "execution_count": 32,
     "metadata": {},
     "output_type": "execute_result"
    }
   ],
   "source": [
    "\"\"\"\n",
    "Born a misinterpretation of this kata, your task here is pretty simple: given an array of values and an \n",
    "amount of beggars, you are supposed to return an array with the sum of what each beggar brings home, \n",
    "assuming they all take regular turns, from the first to the last.\n",
    "For example: [1,2,3,4,5] for 2 beggars will return a result of [9,6], as the first one takes [1,3,5], \n",
    "the second collects [2,4].\n",
    "The same array with 3 beggars would have in turn have produced a better out come for the second beggar: \n",
    "[5,7,3], as they will respectively take [1,4], [2,5] and [3].\n",
    "Also note that not all beggars have to take the same amount of \"offers\", meaning that the length of the \n",
    "array is not necessarily a multiple of n; length can be even shorter, in which case the last beggars will \n",
    "of course take nothing (0).\n",
    "Note: in case you don't get why this kata is about English beggars, then you are not familiar on how \n",
    "religiously queues are taken in the kingdom ;)\n",
    "Note 2: do not modify the input array.\n",
    "\"\"\"\n",
    "\n",
    "def beggars(values, n):\n",
    "    if n == 0: # If there are no beggars - we return an empty list\n",
    "        return []\n",
    "    elif n == 1: # If there is only one beggar - we return the sum of elements within the input list\n",
    "        return [sum(values)]\n",
    "    else:\n",
    "        # Otherwise, we create the array with 0s - the length of this array represents the number of beggars\n",
    "        beggars = [0] * n\n",
    "        while values:\n",
    "        # While the empty list is not empty - we are going to pop the first element and add it to the array \n",
    "        # of beggars (the specific index place will be determined, starting from [0])\n",
    "            for i in range(len(beggars)):\n",
    "                curValue = values.pop(0)\n",
    "                beggars[i] += curValue\n",
    "                if not values:\n",
    "                    return beggars\n",
    "        return beggars\n",
    "    \n",
    "beggars([1,2,3,4,5], 2)"
   ]
  }
 ],
 "metadata": {
  "kernelspec": {
   "display_name": "Python 3 (ipykernel)",
   "language": "python",
   "name": "python3"
  },
  "language_info": {
   "codemirror_mode": {
    "name": "ipython",
    "version": 3
   },
   "file_extension": ".py",
   "mimetype": "text/x-python",
   "name": "python",
   "nbconvert_exporter": "python",
   "pygments_lexer": "ipython3",
   "version": "3.9.7"
  }
 },
 "nbformat": 4,
 "nbformat_minor": 5
}
