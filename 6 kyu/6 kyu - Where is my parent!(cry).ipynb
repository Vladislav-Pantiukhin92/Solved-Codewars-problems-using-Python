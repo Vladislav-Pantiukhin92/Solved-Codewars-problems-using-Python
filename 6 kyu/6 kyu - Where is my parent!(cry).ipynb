{
 "cells": [
  {
   "cell_type": "markdown",
   "id": "1b33879b",
   "metadata": {},
   "source": [
    "### Where is my parent!?(cry) - 6 kyu, Codewars/Python"
   ]
  },
  {
   "cell_type": "code",
   "execution_count": 242,
   "id": "e3ea1e19",
   "metadata": {},
   "outputs": [
    {
     "name": "stdout",
     "output_type": "stream",
     "text": [
      "AaaaaaZzzz\n"
     ]
    }
   ],
   "source": [
    "\"\"\"\n",
    "Mothers arranged a dance party for the children in school. \n",
    "At that party, there are only mothers and their children. \n",
    "All are having great fun on the dance floor when suddenly all the lights went out. \n",
    "It's a dark night and no one can see each other. \n",
    "But you were flying nearby and you can see in the dark and have ability to teleport people anywhere you want.\n",
    "\n",
    "Legend:\n",
    "-Uppercase letters stands for mothers, lowercase stand for their children, i.e. \"A\" mother's children are \"aaaa\".\n",
    "-Function input: String contains only letters, uppercase letters are unique.\n",
    "Task:\n",
    "Place all people in alphabetical order where Mothers are followed by their children, i.e. \"aAbaBb\" => \"AaaBbb\".\n",
    "\"\"\"\n",
    "\n",
    "import re # let's import regular expressions\n",
    "\n",
    "def find_children(dancing_brigade):\n",
    "    if not dancing_brigade:\n",
    "        return \"\"\n",
    "    sort_brigade = \"\"\n",
    "    lowercase = sorted(re.findall(r\"[a-z]\", dancing_brigade)) # We are going to extract only lowercase values\n",
    "    uppercase = sorted(re.findall(r\"[A-Z]\", dancing_brigade)) # We are going to extract only uppercase values\n",
    "    for i in uppercase:\n",
    "        sort_brigade += i + (i.casefold() * lowercase.count(i.casefold())) # We concatenate mothers and children together\n",
    "    return sort_brigade\n",
    "\n",
    "print(find_children(\"AaaaaZazzz\"))"
   ]
  }
 ],
 "metadata": {
  "kernelspec": {
   "display_name": "Python 3",
   "language": "python",
   "name": "python3"
  },
  "language_info": {
   "codemirror_mode": {
    "name": "ipython",
    "version": 3
   },
   "file_extension": ".py",
   "mimetype": "text/x-python",
   "name": "python",
   "nbconvert_exporter": "python",
   "pygments_lexer": "ipython3",
   "version": "3.8.8"
  }
 },
 "nbformat": 4,
 "nbformat_minor": 5
}
