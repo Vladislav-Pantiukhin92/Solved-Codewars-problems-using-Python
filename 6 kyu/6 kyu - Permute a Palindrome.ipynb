{
 "cells": [
  {
   "cell_type": "markdown",
   "id": "9ffb8e07",
   "metadata": {},
   "source": [
    "### Permute a Palindrome - 6 kyu, Codewars/Python"
   ]
  },
  {
   "cell_type": "code",
   "execution_count": 3,
   "id": "72a8415e",
   "metadata": {},
   "outputs": [
    {
     "data": {
      "text/plain": [
       "True"
      ]
     },
     "execution_count": 3,
     "metadata": {},
     "output_type": "execute_result"
    }
   ],
   "source": [
    "\"\"\"\n",
    "Write a function that will check whether ANY permutation of the characters of the input string is a \n",
    "palindrome. Bonus points for a solution that is efficient and/or that uses only built-in language \n",
    "functions. Deem yourself brilliant if you can come up with a version that does not use any function \n",
    "whatsoever.\n",
    "\n",
    "Example\n",
    "madam -> True\n",
    "adamm -> True\n",
    "junk -> False\n",
    "\n",
    "Hint\n",
    "The brute force approach would be to generate all the permutations of the string and check each one of \n",
    "them whether it is a palindrome. However, an optimized approach will not require this at all.\n",
    "\"\"\"\n",
    "\n",
    "from collections import Counter # 'collections.Counter' will be used to create the occurrence dictionary \n",
    "# with letters from the given input string\n",
    "\n",
    "def permute_a_palindrome(input):\n",
    "    if not input: # If the given input value is None, we return True\n",
    "        return True\n",
    "    myDict = dict(Counter(input)) # The occurrence dictionary is created\n",
    "    odd_cases = 0 # The initial number of odd letter cases\n",
    "    for sym in myDict: # Dictionary iteration\n",
    "    # We need to have either all even-numbered pairs or all even-numbered pairs - 1\n",
    "        if myDict[sym] % 2 != 0:\n",
    "            odd_cases += 1\n",
    "    if odd_cases > 1: # If the number of odd letter cases > 1 - we return False\n",
    "        return False\n",
    "    return True # Otherwise, we return True\n",
    "\n",
    "permute_a_palindrome(\"madam\")"
   ]
  }
 ],
 "metadata": {
  "kernelspec": {
   "display_name": "Python 3 (ipykernel)",
   "language": "python",
   "name": "python3"
  },
  "language_info": {
   "codemirror_mode": {
    "name": "ipython",
    "version": 3
   },
   "file_extension": ".py",
   "mimetype": "text/x-python",
   "name": "python",
   "nbconvert_exporter": "python",
   "pygments_lexer": "ipython3",
   "version": "3.9.7"
  }
 },
 "nbformat": 4,
 "nbformat_minor": 5
}
