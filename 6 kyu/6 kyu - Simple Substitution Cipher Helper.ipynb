{
 "cells": [
  {
   "cell_type": "markdown",
   "id": "74cf0405",
   "metadata": {},
   "source": [
    "### Simple Substitution Cipher Helper - 6 kyu, Codewars/Python"
   ]
  },
  {
   "cell_type": "code",
   "execution_count": null,
   "id": "a243157c",
   "metadata": {},
   "outputs": [],
   "source": [
    "\"\"\"\n",
    "A simple substitution cipher replaces one character from an alphabet with a character from an alternate \n",
    "alphabet, where each character's position in an alphabet is mapped to the alternate alphabet for encoding \n",
    "or decoding.\n",
    "\n",
    "E.g.\n",
    "\n",
    "map1 = \"abcdefghijklmnopqrstuvwxyz\";\n",
    "map2 = \"etaoinshrdlucmfwypvbgkjqxz\";\n",
    "   \n",
    "cipher = Cipher(map1, map2);\n",
    "cipher.encode(\"abc\") # => \"eta\"\n",
    "cipher.encode(\"xyz\") # => \"qxz\"\n",
    "cipher.encode(\"aeiou\") # => \"eirfg\"\n",
    "   \n",
    "cipher.decode(\"eta\") # => \"abc\"\n",
    "cipher.decode(\"qxz\") # => \"xyz\"\n",
    "cipher.decode(\"eirfg\") # => \"aeiou\"\n",
    "If a character provided is not in the opposing alphabet, simply leave it as be.\n",
    "\"\"\"\n",
    "\n",
    "class Cipher(object):\n",
    "    def __init__(self, map1, map2):\n",
    "        self.original = map1 # It is the original alphabet\n",
    "        self.changed = map2 # It is the opposing alphabet\n",
    "\n",
    "    def encode(self, s): # The string method 'str.maketrans()' is implemented\n",
    "        table = str.maketrans(self.original, self.changed)\n",
    "        return s.translate(table) # The original alphabet -> the opposing alphabet\n",
    "\n",
    "    def decode(self, s): # The string method 'str.maketrans()' is implemented\n",
    "        table = str.maketrans(self.changed, self.original)\n",
    "        return s.translate(table) # The opposing alphabet -> the original alphabet"
   ]
  }
 ],
 "metadata": {
  "kernelspec": {
   "display_name": "Python 3 (ipykernel)",
   "language": "python",
   "name": "python3"
  },
  "language_info": {
   "codemirror_mode": {
    "name": "ipython",
    "version": 3
   },
   "file_extension": ".py",
   "mimetype": "text/x-python",
   "name": "python",
   "nbconvert_exporter": "python",
   "pygments_lexer": "ipython3",
   "version": "3.9.7"
  }
 },
 "nbformat": 4,
 "nbformat_minor": 5
}
