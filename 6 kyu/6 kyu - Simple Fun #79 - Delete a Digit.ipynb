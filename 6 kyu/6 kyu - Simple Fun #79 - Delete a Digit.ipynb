{
 "cells": [
  {
   "cell_type": "markdown",
   "id": "06126b42",
   "metadata": {},
   "source": [
    "### Simple Fun #79: Delete a Digit - 6 kyu, Codewars/Python"
   ]
  },
  {
   "cell_type": "code",
   "execution_count": 30,
   "id": "770b57d1",
   "metadata": {},
   "outputs": [
    {
     "data": {
      "text/plain": [
       "52"
      ]
     },
     "execution_count": 30,
     "metadata": {},
     "output_type": "execute_result"
    }
   ],
   "source": [
    "\"\"\"\n",
    "Given an integer n, find the maximal number you can obtain by deleting exactly one digit of the given number.\n",
    "Example\n",
    "For n = 152, the output should be 52;\n",
    "For n = 1001, the output should be 101.\n",
    "Input/Output\n",
    "[input] integer n\n",
    "Constraints: 10 ≤ n ≤ 1000000.\n",
    "[output] an integer\n",
    "\"\"\"\n",
    "\n",
    "def delete_digit(n):\n",
    "    final = [] # The list container, which will store all combinations of numbers for further comparison\n",
    "    n = list(str(n)) # Let's transform the input integer into the list of digits in the string form\n",
    "    # Each time through the 'for loop' we are going to add an integer, omitting a digit by concatenating the \n",
    "    # list of digits before the digit as well as the list of digits after the digit (the target digit will \n",
    "    # be omitted)\n",
    "    for i in range(len(n) - 1):\n",
    "        curNumber = int(\"\".join(n[:i] + n[i + 1:]))\n",
    "        final.append(curNumber) # All different combinations of numbers are appended to the rear of the final list\n",
    "    n = int(\"\".join(n[:-1]))\n",
    "    final.append(n)\n",
    "    # Now we have the list, filled with different numeric combinations\n",
    "    # To find the maximum number it is possible just to sort the list in ascending order, where the last element \n",
    "    # will be exactly our return result\n",
    "    final = sorted(final) \n",
    "    return final[-1]\n",
    "\n",
    "delete_digit(152)"
   ]
  }
 ],
 "metadata": {
  "kernelspec": {
   "display_name": "Python 3 (ipykernel)",
   "language": "python",
   "name": "python3"
  },
  "language_info": {
   "codemirror_mode": {
    "name": "ipython",
    "version": 3
   },
   "file_extension": ".py",
   "mimetype": "text/x-python",
   "name": "python",
   "nbconvert_exporter": "python",
   "pygments_lexer": "ipython3",
   "version": "3.9.7"
  }
 },
 "nbformat": 4,
 "nbformat_minor": 5
}
