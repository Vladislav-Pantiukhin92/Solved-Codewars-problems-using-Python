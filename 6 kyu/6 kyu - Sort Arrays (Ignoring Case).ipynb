{
 "cells": [
  {
   "cell_type": "markdown",
   "id": "aceadc8f",
   "metadata": {},
   "source": [
    "### Sort Arrays (Ignoring Case) - 6 kyu, Codewars/Python"
   ]
  },
  {
   "cell_type": "code",
   "execution_count": 345,
   "id": "a5285cfe",
   "metadata": {},
   "outputs": [
    {
     "data": {
      "text/plain": [
       "['fine', 'Hello', \"I'm\", 'there']"
      ]
     },
     "execution_count": 345,
     "metadata": {},
     "output_type": "execute_result"
    }
   ],
   "source": [
    "\"\"\"\n",
    "Sort the given array of strings in alphabetical order, case insensitive. For example:\n",
    "\n",
    "[\"Hello\", \"there\", \"I'm\", \"fine\"]  -->  [\"fine\", \"Hello\", \"I'm\", \"there\"]\n",
    "[\"C\", \"d\", \"a\", \"B\"])              -->  [\"a\", \"B\", \"C\", \"d\"]\n",
    "\n",
    "\"\"\"\n",
    "# We are going to make the similar, but the lowercase list, which is much easier to sort\n",
    "# After that, we combine the results\n",
    "# Following the sorting lowercase process, we use for loop to extract the first argument (i[1]) and add it to the new final list\n",
    "\n",
    "def sortme(words):\n",
    "    final = []\n",
    "    lowercase_list = list(map(lambda x: x.casefold(), words))\n",
    "    zip_result = list(zip(lowercase_list, words))\n",
    "    sort_lowercase_list = sorted(zip_result)\n",
    "    for i in sort_lowercase_list:\n",
    "        final.append(i[1])\n",
    "    return final\n",
    "\n",
    "\n",
    "    \n",
    "sortme([\"Hello\", \"there\", \"I'm\", \"fine\"])"
   ]
  },
  {
   "cell_type": "code",
   "execution_count": null,
   "id": "ba352ffb",
   "metadata": {},
   "outputs": [],
   "source": []
  }
 ],
 "metadata": {
  "kernelspec": {
   "display_name": "Python 3",
   "language": "python",
   "name": "python3"
  },
  "language_info": {
   "codemirror_mode": {
    "name": "ipython",
    "version": 3
   },
   "file_extension": ".py",
   "mimetype": "text/x-python",
   "name": "python",
   "nbconvert_exporter": "python",
   "pygments_lexer": "ipython3",
   "version": "3.8.8"
  }
 },
 "nbformat": 4,
 "nbformat_minor": 5
}
