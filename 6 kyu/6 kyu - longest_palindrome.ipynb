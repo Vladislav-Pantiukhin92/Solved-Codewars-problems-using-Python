{
 "cells": [
  {
   "cell_type": "markdown",
   "id": "350276c7",
   "metadata": {},
   "source": [
    "#### Longest Palindrome - 6 kyu, Codewars/Python"
   ]
  },
  {
   "cell_type": "code",
   "execution_count": 2,
   "id": "abc61cf6",
   "metadata": {},
   "outputs": [],
   "source": [
    "\"\"\"Find the length of the longest substring in the given string that is the same in reverse.\n",
    "As an example, if the input was “I like racecars that go fast”, the substring (racecar) length would be 7.\n",
    "If the length of the input string is 0, the return value must be 0.\n",
    "\n",
    "Example:\n",
    "'a' -> 1 \n",
    "'aab' -> 2  \n",
    "'abcde' -> 1\n",
    "'zzbaabcd' -> 4\n",
    "'' -> 0\n",
    "\"\"\"\n",
    "\n",
    "from collections import deque\n",
    "def longest_palindrome(string):\n",
    "    if not string: # If string is None, return 0\n",
    "        return 0\n",
    "    new_string = string[::-1] # Reversal\n",
    "    final = []\n",
    "    my_list1 = deque(list(string))\n",
    "    my_list2 = deque(list(new_string))\n",
    "    \n",
    "    # we are inspecting the similarity pattern, while shifting the first list to the left\n",
    "    while len(my_list1) > 0:\n",
    "        count = \"\"\n",
    "        for i in range(len(my_list1)):\n",
    "            if my_list1[i] == my_list2[i]:\n",
    "                count += my_list1[i]\n",
    "            else:\n",
    "                final.append(count)\n",
    "                count = \"\"\n",
    "            final.append(count)\n",
    "        my_list1.popleft()\n",
    "        my_list2.pop()\n",
    "        \n",
    "    my_list1 = deque(list(string))\n",
    "    my_list2 = deque(list(new_string))\n",
    "    \n",
    "    # we are inspecting the similarity pattern, while shifting the second list to the right\n",
    "    while len(my_list2) > 0:\n",
    "        count = \"\"\n",
    "        for i in range(len(my_list2)):\n",
    "            if my_list2[i] == my_list1[i]:\n",
    "                count += my_list2[i]\n",
    "            else:\n",
    "                final.append(count)\n",
    "                count = \"\"\n",
    "            final.append(count)\n",
    "        my_list2.popleft()\n",
    "        my_list1.pop()\n",
    "\n",
    "    index = len(final) - 1\n",
    "    while index >= 0:\n",
    "        max_word = sorted(final, key=len)[index]\n",
    "        if max_word == max_word[::-1]: #to verify that the obtained pattern is a palindrome\n",
    "            return len(max_word)\n",
    "        else:\n",
    "            index -= 1 # if not, we are shifting our choice to the left"
   ]
  }
 ],
 "metadata": {
  "kernelspec": {
   "display_name": "Python 3",
   "language": "python",
   "name": "python3"
  },
  "language_info": {
   "codemirror_mode": {
    "name": "ipython",
    "version": 3
   },
   "file_extension": ".py",
   "mimetype": "text/x-python",
   "name": "python",
   "nbconvert_exporter": "python",
   "pygments_lexer": "ipython3",
   "version": "3.8.8"
  }
 },
 "nbformat": 4,
 "nbformat_minor": 5
}
