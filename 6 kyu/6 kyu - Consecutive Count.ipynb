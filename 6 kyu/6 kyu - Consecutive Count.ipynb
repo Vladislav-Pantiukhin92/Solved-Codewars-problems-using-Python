{
 "cells": [
  {
   "cell_type": "markdown",
   "id": "427eb5ae",
   "metadata": {},
   "source": [
    "### Consecutive Count - 6 kyu, Codewars/Python"
   ]
  },
  {
   "cell_type": "code",
   "execution_count": 6,
   "id": "67d04fde",
   "metadata": {},
   "outputs": [
    {
     "data": {
      "text/plain": [
       "3"
      ]
     },
     "execution_count": 6,
     "metadata": {},
     "output_type": "execute_result"
    }
   ],
   "source": [
    "\"\"\"\n",
    "I want to know the size of the longest consecutive elements of X in Y. You will receive two arguments: \n",
    "items and key. Return the length of the longest segment of consecutive keys in the given items.\n",
    "Notes:\n",
    "The items and the key will be either an integer or a string (consisting of letters only)\n",
    "If the key does not appear in the items, return 0\n",
    "Examples\n",
    "90000, 0           -->  4\n",
    "\"abcdaaadse\", \"a\"  -->  3\n",
    "\"abcdaaadse\", \"z\"  -->  0\n",
    "\"\"\"\n",
    "\n",
    "from itertools import groupby # 'itertools.groupby' will identify consecutive values and their occurrence within \n",
    "# the given input string\n",
    "\n",
    "def get_consective_items(items, key):\n",
    "    items = str(items) # We are not able to iterate over integers, so it is important to change the data type (string)\n",
    "    maxLength = 0 # The initial length equals to 0\n",
    "# The implementation of 'itertools.groupby' to find the longest consecutive values, if they exist:\n",
    "    for i, group in groupby(items):\n",
    "        curLength = len(list(group))\n",
    "        if i == str(key):\n",
    "            if curLength > maxLength:\n",
    "                maxLength = curLength\n",
    "    return maxLength # The maxLength is returned\n",
    "\n",
    "get_consective_items(\"abcdaaadse\", \"a\")"
   ]
  }
 ],
 "metadata": {
  "kernelspec": {
   "display_name": "Python 3 (ipykernel)",
   "language": "python",
   "name": "python3"
  },
  "language_info": {
   "codemirror_mode": {
    "name": "ipython",
    "version": 3
   },
   "file_extension": ".py",
   "mimetype": "text/x-python",
   "name": "python",
   "nbconvert_exporter": "python",
   "pygments_lexer": "ipython3",
   "version": "3.9.7"
  }
 },
 "nbformat": 4,
 "nbformat_minor": 5
}
