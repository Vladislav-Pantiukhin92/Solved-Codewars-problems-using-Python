{
 "cells": [
  {
   "cell_type": "markdown",
   "id": "80dacab8",
   "metadata": {},
   "source": [
    "###  Calculate String Rotation - 6 kyu, Codewars/Python"
   ]
  },
  {
   "cell_type": "code",
   "execution_count": 241,
   "id": "ff328041",
   "metadata": {},
   "outputs": [
    {
     "data": {
      "text/plain": [
       "2"
      ]
     },
     "execution_count": 241,
     "metadata": {},
     "output_type": "execute_result"
    }
   ],
   "source": [
    "\"\"\"\n",
    "Write a function that receives two strings and returns n, where n is equal to the number of characters we should shift the first string forward to match the second. The check should be case sensitive.\n",
    "For instance, take the strings \"fatigue\" and \"tiguefa\". In this case, the first string has been rotated 5 characters forward to produce the second string, so 5 would be returned.\n",
    "If the second string isn't a valid rotation of the first string, the method returns -1.\n",
    "Examples:\n",
    "\"coffee\", \"eecoff\" => 2\n",
    "\"eecoff\", \"coffee\" => 4\n",
    "\"moose\", \"Moose\" => -1\n",
    "\"isn't\", \"'tisn\" => 2\n",
    "\"Esham\", \"Esham\" => 0\n",
    "\"dog\", \"god\" => -1\n",
    "\"\"\"\n",
    "\n",
    "from collections import deque # deque class includes the specific 'rotate' method\n",
    "\n",
    "def shifted_diff(first, second):\n",
    "    if first == second:\n",
    "        return 0\n",
    "    elif len(first) != len(second):\n",
    "        return -1\n",
    "    else:\n",
    "        count = 0\n",
    "        length = len(first)\n",
    "        first = deque(first)\n",
    "        second = deque(second)\n",
    "        while first != second: \n",
    "            first.rotate(1) # Rotation implementation with deque method\n",
    "            count += 1\n",
    "            if count == length:\n",
    "                return -1 # If rotation is completed - rotation didn't help, so it is -1\n",
    "        return count\n",
    "\n",
    "shifted_diff(\"coffee\", \"eecoff\")"
   ]
  }
 ],
 "metadata": {
  "kernelspec": {
   "display_name": "Python 3",
   "language": "python",
   "name": "python3"
  },
  "language_info": {
   "codemirror_mode": {
    "name": "ipython",
    "version": 3
   },
   "file_extension": ".py",
   "mimetype": "text/x-python",
   "name": "python",
   "nbconvert_exporter": "python",
   "pygments_lexer": "ipython3",
   "version": "3.8.8"
  }
 },
 "nbformat": 4,
 "nbformat_minor": 5
}
