{
 "cells": [
  {
   "cell_type": "markdown",
   "id": "d18f3e9f",
   "metadata": {},
   "source": [
    "### Numericals of a String - 6 kyu, Codewars/Python"
   ]
  },
  {
   "cell_type": "code",
   "execution_count": 46,
   "id": "0ea1e5f0",
   "metadata": {},
   "outputs": [
    {
     "data": {
      "text/plain": [
       "'1112111121311'"
      ]
     },
     "execution_count": 46,
     "metadata": {},
     "output_type": "execute_result"
    }
   ],
   "source": [
    "\"\"\"\n",
    "You are given an input string.\n",
    "For each symbol in the string if it's the first character occurrence, replace it with a '1', else replace \n",
    "it with the amount of times you've already seen it.\n",
    "\n",
    "Examples:\n",
    "input   =  \"Hello, World!\"\n",
    "result  =  \"1112111121311\"\n",
    "\n",
    "input   =  \"aaaaaaaaaaaa\"\n",
    "result  =  \"123456789101112\"\n",
    "There might be some non-ascii characters in the string.\n",
    "\"\"\"\n",
    "\n",
    "def numericals(s):\n",
    "# To monitor the occurrence of letters within the input string the dictionary will be initialized\n",
    "# The keys of the dictionary are letters and values of the dictionary are letters' occurrences\n",
    "    occurrence_dict = {} # The dictionary is created\n",
    "    finalStr = \"\" # The string variable will store occurrences of letters in the string form\n",
    "    for i in s:\n",
    "        if i not in occurrence_dict:\n",
    "            occurrence_dict[i] = 1 # If the letter is new - the occurrence equals to 1\n",
    "            finalStr += str(occurrence_dict[i]) # The string variable stores the occurrence\n",
    "        else:\n",
    "            occurrence_dict[i] += 1 # If the letter is not new - we increase the occurrence by 1\n",
    "            finalStr += str(occurrence_dict[i]) # The string variable stores the occurrence\n",
    "    return finalStr # The final string result is returned\n",
    "\n",
    "numericals(\"Hello, World!\")"
   ]
  }
 ],
 "metadata": {
  "kernelspec": {
   "display_name": "Python 3 (ipykernel)",
   "language": "python",
   "name": "python3"
  },
  "language_info": {
   "codemirror_mode": {
    "name": "ipython",
    "version": 3
   },
   "file_extension": ".py",
   "mimetype": "text/x-python",
   "name": "python",
   "nbconvert_exporter": "python",
   "pygments_lexer": "ipython3",
   "version": "3.9.7"
  }
 },
 "nbformat": 4,
 "nbformat_minor": 5
}
