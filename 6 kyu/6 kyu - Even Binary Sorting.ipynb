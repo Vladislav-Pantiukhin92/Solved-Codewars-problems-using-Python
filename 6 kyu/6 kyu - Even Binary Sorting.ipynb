{
 "cells": [
  {
   "cell_type": "markdown",
   "id": "5accbd47",
   "metadata": {},
   "source": [
    "### Even Binary Sorting - 6 kyu, Codewars/Python"
   ]
  },
  {
   "cell_type": "code",
   "execution_count": 57,
   "id": "d9c0c239",
   "metadata": {},
   "outputs": [
    {
     "data": {
      "text/plain": [
       "'101 111 010 001 100'"
      ]
     },
     "execution_count": 57,
     "metadata": {},
     "output_type": "execute_result"
    }
   ],
   "source": [
    "\"\"\"\n",
    "Given a string of binary numbers of length 3 sort the numbers in ascending order but only order the even \n",
    "numbers and leave all odd numbers in their place.\n",
    "Example:\n",
    "\n",
    "even_binary(\"101 111 100 001 010\") # returns \"101 111 010 001 100\"\n",
    "Note: make sure all the binary numbers have a length of 3\n",
    "\"\"\"\n",
    "\n",
    "from operator import *\n",
    "\n",
    "def even_binary(n):\n",
    "    n = n.split() # The input string is split into the list of binary numbers\n",
    "    numbers_lst = list(map(lambda x: int(x, 2), n)) # All binary numbers are transformed into integers\n",
    "# We need to obtain the zip_list with integers and their binary representation, so the 'zip' function is used here\n",
    "# The 'filter' function helps to remove iterables with odd integers  \n",
    "    filtered_zip_list = list(filter(lambda y: y[1] % 2 == 0, list(zip(n, numbers_lst))))\n",
    "# In addition to that, it is necessary to sort the array of iterables with even numbers and their binary representation\n",
    "    sort_arr = sorted(filtered_zip_list, key=itemgetter(1))\n",
    "    final = [] # We initialize the new array, which will store the new order of binary even and odd numbers\n",
    "    for i in range(len(n)):\n",
    "    # If we face an even number, we add the even minElement from the sorted array\n",
    "        if int(n[i], 2) % 2 == 0:\n",
    "            curElement = sort_arr.pop(0)[0]\n",
    "            final.append(curElement)\n",
    "        else:\n",
    "            final.append(n[i])\n",
    "    return \" \".join(final) # The string is returned\n",
    "\n",
    "even_binary(\"101 111 100 001 010\")"
   ]
  }
 ],
 "metadata": {
  "kernelspec": {
   "display_name": "Python 3 (ipykernel)",
   "language": "python",
   "name": "python3"
  },
  "language_info": {
   "codemirror_mode": {
    "name": "ipython",
    "version": 3
   },
   "file_extension": ".py",
   "mimetype": "text/x-python",
   "name": "python",
   "nbconvert_exporter": "python",
   "pygments_lexer": "ipython3",
   "version": "3.9.7"
  }
 },
 "nbformat": 4,
 "nbformat_minor": 5
}
