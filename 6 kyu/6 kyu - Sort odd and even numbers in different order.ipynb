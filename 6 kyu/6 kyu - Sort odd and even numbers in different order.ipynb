{
 "cells": [
  {
   "cell_type": "markdown",
   "id": "3cfd585b",
   "metadata": {},
   "source": [
    "### Sort odd and even numbers in different order - 6 kyu, Codewars/Python"
   ]
  },
  {
   "cell_type": "code",
   "execution_count": 41,
   "id": "3f3357f9",
   "metadata": {},
   "outputs": [
    {
     "data": {
      "text/plain": [
       "[1, 3, 8, 4, 5, 2]"
      ]
     },
     "execution_count": 41,
     "metadata": {},
     "output_type": "execute_result"
    }
   ],
   "source": [
    "\"\"\"\n",
    "You are given an array of integers. Your task is to sort odd numbers within the array in ascending order, \n",
    "and even numbers in descending order.\n",
    "Note that zero is an even number. If you have an empty array, you need to return it.\n",
    "For example:\n",
    "\n",
    "[5, 3, 2, 8, 1, 4]  -->  [1, 3, 8, 4, 5, 2]\n",
    "odd numbers ascending:   [1, 3,       5   ]\n",
    "even numbers descending: [      8, 4,    2]\n",
    "\"\"\"\n",
    "\n",
    "def sort_array(a):\n",
    "# With the assistance of the 'filter' function we create two lists:\n",
    "    odd_numbers = sorted(list(filter(lambda x: x % 2 != 0, a))) # The first (sorted) list with only odd numbers\n",
    "    even_numbers = sorted(list(filter(lambda x: x % 2 == 0, a))) # The second (sorted) list with only even numbers\n",
    "    final_arr = [0] * len(a) # Let's create another array, which will be subsequently filled with elements \n",
    "    # in proper order (right now this array is filled with 0s, by default)\n",
    "    i = 0 \n",
    "    j = len(even_numbers) - 1\n",
    "    # Through the 'enumerate' function and indices we will place both even and odd numbers in appropriate locations\n",
    "    for ind, elem in enumerate(a):\n",
    "        if elem % 2 == 0: # The code for even numbers\n",
    "            final_arr[ind] = even_numbers[j]\n",
    "            j -= 1\n",
    "        else: # The code for odd numbers\n",
    "            final_arr[ind] = odd_numbers[i]\n",
    "            i += 1\n",
    "    return final_arr # The final result is returned\n",
    "\n",
    "sort_array([5, 3, 2, 8, 1, 4])"
   ]
  }
 ],
 "metadata": {
  "kernelspec": {
   "display_name": "Python 3 (ipykernel)",
   "language": "python",
   "name": "python3"
  },
  "language_info": {
   "codemirror_mode": {
    "name": "ipython",
    "version": 3
   },
   "file_extension": ".py",
   "mimetype": "text/x-python",
   "name": "python",
   "nbconvert_exporter": "python",
   "pygments_lexer": "ipython3",
   "version": "3.9.7"
  }
 },
 "nbformat": 4,
 "nbformat_minor": 5
}
