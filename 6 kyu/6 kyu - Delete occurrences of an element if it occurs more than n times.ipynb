{
 "cells": [
  {
   "cell_type": "markdown",
   "id": "2f8aadca",
   "metadata": {},
   "source": [
    "### Delete occurrences of an element if it occurs more than n times - 6 kyu, Codewars/Python"
   ]
  },
  {
   "cell_type": "code",
   "execution_count": 57,
   "id": "a83d253b",
   "metadata": {},
   "outputs": [
    {
     "data": {
      "text/plain": [
       "[1, 2, 3, 1, 2, 3]"
      ]
     },
     "execution_count": 57,
     "metadata": {},
     "output_type": "execute_result"
    }
   ],
   "source": [
    "\"\"\"\n",
    "Enough is enough!\n",
    "Alice and Bob were on a holiday. Both of them took many pictures of the places they've been, and now they want to show Charlie their entire collection. However, Charlie doesn't like these sessions, since the motif usually repeats. He isn't fond of seeing the Eiffel tower 40 times.\n",
    "He tells them that he will only sit for the session if they show the same motif at most N times. Luckily, Alice and Bob are able to encode the motif as a number. Can you help them to remove numbers such that their list contains each number only up to N times, without changing the order?\n",
    "\n",
    "Task\n",
    "Given a list and a number, create a new list that contains each number of list at most N times, \n",
    "without reordering.\n",
    "For example if the input number is 2, and the input list is [1,2,3,1,2,1,2,3], \n",
    "you take [1,2,3,1,2], drop the next [1,2] since this would lead to 1 and 2 being in the result \n",
    "3 times, and then take 3, which leads to [1,2,3,1,2,3].\n",
    "With list [20,37,20,21] and number 1, the result would be [20,37,21].\n",
    "\"\"\"\n",
    "\n",
    "def delete_nth(order,max_e):\n",
    "    hashTable = {} # The created dictionary will monitor occurrences of numbers and drop elements, which go\n",
    "    # beyond the limit 'max_e'\n",
    "    final_array = [] # The storage of pertinent elements\n",
    "    for i in order:\n",
    "        if i not in hashTable:\n",
    "            hashTable[i] = 1 # If the key is new, it is added, and the initial occurrence starts from 1\n",
    "            final_array.append(i)\n",
    "        else:\n",
    "            # Otherwise, the occurrence is updated, at the same time the limit is observed as well\n",
    "            if hashTable[i] < max_e:\n",
    "                hashTable[i] += 1\n",
    "                final_array.append(i)\n",
    "    return final_array\n",
    "delete_nth([1,2,3,1,2,1,2,3], 2)"
   ]
  }
 ],
 "metadata": {
  "kernelspec": {
   "display_name": "Python 3 (ipykernel)",
   "language": "python",
   "name": "python3"
  },
  "language_info": {
   "codemirror_mode": {
    "name": "ipython",
    "version": 3
   },
   "file_extension": ".py",
   "mimetype": "text/x-python",
   "name": "python",
   "nbconvert_exporter": "python",
   "pygments_lexer": "ipython3",
   "version": "3.9.7"
  }
 },
 "nbformat": 4,
 "nbformat_minor": 5
}
