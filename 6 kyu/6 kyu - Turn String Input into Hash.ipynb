{
 "cells": [
  {
   "cell_type": "markdown",
   "id": "dcbae4b3",
   "metadata": {},
   "source": [
    "### Turn String Input into Hash - 6 kyu, Codewars/Python"
   ]
  },
  {
   "cell_type": "code",
   "execution_count": 1,
   "id": "3461c7f8",
   "metadata": {},
   "outputs": [
    {
     "data": {
      "text/plain": [
       "{'a': 1, 'b': 2, 'c': 3, 'd': 4}"
      ]
     },
     "execution_count": 1,
     "metadata": {},
     "output_type": "execute_result"
    }
   ],
   "source": [
    "\"\"\"\n",
    "Please write a function that will take a string as input and return a hash. The string will be formatted \n",
    "as such. The key will always be a symbol and the value will always be an integer.\n",
    "\"a=1, b=2, c=3, d=4\"\n",
    "This string should return a hash that looks like\n",
    "{ 'a': 1, 'b': 2, 'c': 3, 'd': 4}\n",
    "\"\"\"\n",
    "\n",
    "import re # Regular expression is to be used to find the pattern 'symbol=integer'\n",
    "\n",
    "def str_to_hash(st):\n",
    "    pairs = re.findall(r\"[a-z]+\\=[0-9]+\", st) # Through the regular expression all the existing patterns are found\n",
    "    final_dict = {} # The dictionary, which will store symbols as keys and integers as values\n",
    "    for i in pairs:\n",
    "    # Through the 'for loop' let's add the 'key-value' pairs to the dictionary:\n",
    "        curList = i.split(\"=\")\n",
    "        final_dict[curList[0]] = int(curList[1])\n",
    "    return final_dict # The dictionary with 'key-value' pairs is returned\n",
    "\n",
    "str_to_hash(\"a=1, b=2, c=3, d=4\")"
   ]
  }
 ],
 "metadata": {
  "kernelspec": {
   "display_name": "Python 3 (ipykernel)",
   "language": "python",
   "name": "python3"
  },
  "language_info": {
   "codemirror_mode": {
    "name": "ipython",
    "version": 3
   },
   "file_extension": ".py",
   "mimetype": "text/x-python",
   "name": "python",
   "nbconvert_exporter": "python",
   "pygments_lexer": "ipython3",
   "version": "3.9.7"
  }
 },
 "nbformat": 4,
 "nbformat_minor": 5
}
