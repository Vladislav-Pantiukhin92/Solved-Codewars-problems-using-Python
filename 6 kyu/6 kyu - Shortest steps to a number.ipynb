{
 "cells": [
  {
   "cell_type": "markdown",
   "id": "65f1b46e",
   "metadata": {},
   "source": [
    "### Shortest steps to a number - 6 kyu, Codewars/Python"
   ]
  },
  {
   "cell_type": "code",
   "execution_count": 587,
   "id": "e7bae110",
   "metadata": {},
   "outputs": [
    {
     "data": {
      "text/plain": [
       "4"
      ]
     },
     "execution_count": 587,
     "metadata": {},
     "output_type": "execute_result"
    }
   ],
   "source": [
    "\"\"\"\n",
    "Given a number, num, return the shortest amount of steps it would take from 1, to land exactly on that number.\n",
    "Description:\n",
    "A step is defined as either:\n",
    "\n",
    "Adding 1 to the number: num += 1\n",
    "Doubling the number: num *= 2\n",
    "You will always start from the number 1 and you will have to return the shortest count of steps it would take to land exactly on that number.\n",
    "\n",
    "1 <= num <= 10000\n",
    "\n",
    "Examples:\n",
    "num == 3 would return 2 steps:\n",
    "\n",
    "1 -- +1 --> 2:        1 step\n",
    "2 -- +1 --> 3:        2 steps\n",
    "\n",
    "2 steps\n",
    "num == 12 would return 4 steps:\n",
    "\n",
    "1 -- +1 --> 2:        1 step\n",
    "2 -- +1 --> 3:        2 steps\n",
    "3 -- x2 --> 6:        3 steps\n",
    "6 -- x2 --> 12:       4 steps\n",
    "\n",
    "4 steps\n",
    "num == 16 would return 4 steps:\n",
    "\n",
    "1 -- +1 --> 2:        1 step\n",
    "2 -- x2 --> 4:        2 steps\n",
    "4 -- x2 --> 8:        3 steps\n",
    "8 -- x2 --> 16:       4 steps\n",
    "\n",
    "4 steps\n",
    "\"\"\"\n",
    "\n",
    "def shortest_steps_to_num(num):\n",
    "    count = 0\n",
    "    # The simple logic - the result of division leads to the most preferable option ('- 1' or '/ 2')\n",
    "    # We are going to start from the end \n",
    "    while int(num) != 1:\n",
    "        if num % 2 != 0:\n",
    "            num -= 1\n",
    "        else:\n",
    "            num /= 2\n",
    "        count += 1\n",
    "    return count\n",
    "    \n",
    "shortest_steps_to_num(12)"
   ]
  }
 ],
 "metadata": {
  "kernelspec": {
   "display_name": "Python 3",
   "language": "python",
   "name": "python3"
  },
  "language_info": {
   "codemirror_mode": {
    "name": "ipython",
    "version": 3
   },
   "file_extension": ".py",
   "mimetype": "text/x-python",
   "name": "python",
   "nbconvert_exporter": "python",
   "pygments_lexer": "ipython3",
   "version": "3.8.8"
  }
 },
 "nbformat": 4,
 "nbformat_minor": 5
}
