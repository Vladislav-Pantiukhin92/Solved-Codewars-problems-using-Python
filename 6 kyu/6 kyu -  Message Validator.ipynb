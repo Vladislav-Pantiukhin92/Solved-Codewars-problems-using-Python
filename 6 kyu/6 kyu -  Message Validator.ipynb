{
 "cells": [
  {
   "cell_type": "markdown",
   "id": "55d1202d",
   "metadata": {},
   "source": [
    "### Message Validator - 6 kyu, Codewars/Python"
   ]
  },
  {
   "cell_type": "code",
   "execution_count": 63,
   "id": "f53a161e",
   "metadata": {},
   "outputs": [
    {
     "data": {
      "text/plain": [
       "True"
      ]
     },
     "execution_count": 63,
     "metadata": {},
     "output_type": "execute_result"
    }
   ],
   "source": [
    "\"\"\"\n",
    "In this kata, you have an input string and you should check whether it is a valid message. To decide \n",
    "that, you need to split the string by the numbers, and then compare the numbers with the number of \n",
    "characters in the following substring.\n",
    "For example \"3hey5hello2hi\" should be split into 3, hey, 5, hello, 2, hi and the function should return \n",
    "true, because \"hey\" is 3 characters, \"hello\" is 5, and \"hi\" is 2; as the numbers and the character counts \n",
    "match, the result is true.\n",
    "\n",
    "Notes:\n",
    "\n",
    "Messages are composed of only letters and digits\n",
    "Numbers may have multiple digits: e.g. \"4code13hellocodewars\" is a valid message\n",
    "Every number must match the number of character in the following substring, otherwise the message is \n",
    "invalid: e.g. \"hello5\" and \"2hi2\" are invalid\n",
    "If the message is an empty string, you should return true\n",
    "\"\"\"\n",
    "\n",
    "import re # Regular expressions will be used to verify the validity of the input message\n",
    "\n",
    "def is_a_valid_message(message):\n",
    "    replica = message\n",
    "    right_order = re.findall(r\"\\d+[a-zA-Z]+\", message)\n",
    "    # First of all, we need to check whether the message contains the proper order of digits and letters\n",
    "    # Digits are followed by words within the valid message, otherwise, it is a non-valid message\n",
    "    for i in right_order:\n",
    "        replica = replica.replace(i, \"\")\n",
    "    if replica:\n",
    "        return False\n",
    "    # After the first verification we do the following:\n",
    "    digits = re.findall(r\"\\d+\", message) # Let's extract digits from the message \n",
    "    words = re.findall(r\"[a-zA-Z]+\", message) # Let's extract words from the message\n",
    "    if len(digits) != len(words): # Besides, a non-valid message contains the different number of digit chunks and words\n",
    "        return False # So in this case we return False as well\n",
    "    zip_list = list(zip(words, digits)) # If everything is still valid, we create a zip_list (iterables with \n",
    "    # words and corresponding digits within)\n",
    "    for i in zip_list: # Through the 'for loop' we verify the validity of each iterable\n",
    "        if str(len(i[0])) != i[1]: # If the length of a word doesn't correspond to a digit - we return False\n",
    "            return False\n",
    "    return True # If no discrepancies were faced - finally we return True\n",
    "\n",
    "is_a_valid_message(\"3hey5hello2hi\")"
   ]
  }
 ],
 "metadata": {
  "kernelspec": {
   "display_name": "Python 3 (ipykernel)",
   "language": "python",
   "name": "python3"
  },
  "language_info": {
   "codemirror_mode": {
    "name": "ipython",
    "version": 3
   },
   "file_extension": ".py",
   "mimetype": "text/x-python",
   "name": "python",
   "nbconvert_exporter": "python",
   "pygments_lexer": "ipython3",
   "version": "3.9.7"
  }
 },
 "nbformat": 4,
 "nbformat_minor": 5
}
