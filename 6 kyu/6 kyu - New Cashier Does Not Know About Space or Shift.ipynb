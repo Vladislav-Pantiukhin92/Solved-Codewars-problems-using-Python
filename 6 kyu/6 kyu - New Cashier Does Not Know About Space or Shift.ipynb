{
 "cells": [
  {
   "cell_type": "markdown",
   "id": "2ec6e096",
   "metadata": {},
   "source": [
    "### New Cashier Does Not Know About Space or Shift - 6 kyu, Codewars/Python"
   ]
  },
  {
   "cell_type": "code",
   "execution_count": 17,
   "id": "58856dcc",
   "metadata": {},
   "outputs": [
    {
     "data": {
      "text/plain": [
       "'Burger Fries Chicken Pizza Pizza Pizza Sandwich Milkshake Milkshake Coke'"
      ]
     },
     "execution_count": 17,
     "metadata": {},
     "output_type": "execute_result"
    }
   ],
   "source": [
    "\"\"\"\n",
    "Some new cashiers started to work at your restaurant.\n",
    "They are good at taking orders, but they don't know how to capitalize words, or use a space bar!\n",
    "All the orders they create look something like this:\n",
    "\n",
    "\"milkshakepizzachickenfriescokeburgerpizzasandwichmilkshakepizza\"\n",
    "\n",
    "The kitchen staff are threatening to quit, because of how difficult it is to read the orders.\n",
    "Their preference is to get the orders as a nice clean string with spaces and capitals like so:\n",
    "\n",
    "\"Burger Fries Chicken Pizza Pizza Pizza Sandwich Milkshake Milkshake Coke\"\n",
    "\n",
    "The kitchen staff expect the items to be in the same order as they appear in the menu.\n",
    "The menu items are fairly simple, there is no overlap in the names of the items:\n",
    "\n",
    "1. Burger\n",
    "2. Fries\n",
    "3. Chicken\n",
    "4. Pizza\n",
    "5. Sandwich\n",
    "6. Onionrings\n",
    "7. Milkshake\n",
    "8. Coke\n",
    "\"\"\"\n",
    "\n",
    "import re\n",
    "\n",
    "# Through regular expressions we are going to find word patterns and their total count\n",
    "def get_order(order):\n",
    "    pattern_1 = re.findall(r\"burger\", order)\n",
    "    pattern_2 = re.findall(r\"fries\", order)\n",
    "    pattern_3 = re.findall(r\"chicken\", order)\n",
    "    pattern_4 = re.findall(r\"pizza\", order)\n",
    "    pattern_5 = re.findall(r\"sandwich\", order)\n",
    "    pattern_6 = re.findall(r\"onionrings\", order)\n",
    "    pattern_7 = re.findall(r\"milkshake\", order)\n",
    "    pattern_8 = re.findall(r\"coke\", order)\n",
    "    # All patterns are to be added together (list functionality makes it possible)\n",
    "    all_list = pattern_1 + pattern_2 + pattern_3 + pattern_4 + pattern_5 + pattern_6 + pattern_7 + pattern_8\n",
    "    return \" \".join(all_list).title() # Transformation back into the string type with uppercase first letters\n",
    "\n",
    "get_order(\"milkshakepizzachickenfriescokeburgerpizzasandwichmilkshakepizza\")"
   ]
  }
 ],
 "metadata": {
  "kernelspec": {
   "display_name": "Python 3",
   "language": "python",
   "name": "python3"
  },
  "language_info": {
   "codemirror_mode": {
    "name": "ipython",
    "version": 3
   },
   "file_extension": ".py",
   "mimetype": "text/x-python",
   "name": "python",
   "nbconvert_exporter": "python",
   "pygments_lexer": "ipython3",
   "version": "3.8.8"
  }
 },
 "nbformat": 4,
 "nbformat_minor": 5
}
