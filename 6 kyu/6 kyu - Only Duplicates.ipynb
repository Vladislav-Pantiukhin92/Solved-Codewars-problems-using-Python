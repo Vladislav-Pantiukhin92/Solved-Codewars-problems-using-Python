{
 "cells": [
  {
   "cell_type": "markdown",
   "id": "6e78a9c7",
   "metadata": {},
   "source": [
    "### Only Duplicates - 6 kyu, Codewars/Python"
   ]
  },
  {
   "cell_type": "code",
   "execution_count": 8,
   "id": "bd67a774",
   "metadata": {},
   "outputs": [
    {
     "data": {
      "text/plain": [
       "'cceee'"
      ]
     },
     "execution_count": 8,
     "metadata": {},
     "output_type": "execute_result"
    }
   ],
   "source": [
    "\"\"\"\n",
    "Given a string, remove any characters that are unique from the string.\n",
    "Example:\n",
    "input: \"abccdefee\"\n",
    "output: \"cceee\"\n",
    "\"\"\"\n",
    "\n",
    "from collections import Counter # 'collections.Counter' will create the dictionary, where keys are letters of \n",
    "# the given input string and values are their occurrence within the given input string\n",
    "\n",
    "def only_duplicates(string):\n",
    "    myDict = dict(Counter(string)) # The above-mentioned dictionary is created\n",
    "    # Relying upon the collected occurrence of values within the dictionary, we will remove unique values, \n",
    "    # and duplicates will remain\n",
    "    final = \"\".join([i for i in string if myDict[i] > 1]) \n",
    "    return final # The string output is returned\n",
    "\n",
    "only_duplicates(\"abccdefee\")"
   ]
  }
 ],
 "metadata": {
  "kernelspec": {
   "display_name": "Python 3 (ipykernel)",
   "language": "python",
   "name": "python3"
  },
  "language_info": {
   "codemirror_mode": {
    "name": "ipython",
    "version": 3
   },
   "file_extension": ".py",
   "mimetype": "text/x-python",
   "name": "python",
   "nbconvert_exporter": "python",
   "pygments_lexer": "ipython3",
   "version": "3.9.7"
  }
 },
 "nbformat": 4,
 "nbformat_minor": 5
}
