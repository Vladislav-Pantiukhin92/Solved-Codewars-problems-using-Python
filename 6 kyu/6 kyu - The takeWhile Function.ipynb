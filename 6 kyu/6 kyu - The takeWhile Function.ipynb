{
 "cells": [
  {
   "cell_type": "markdown",
   "id": "1383e347",
   "metadata": {},
   "source": [
    "### The takeWhile Function - 6 kyu, Codewars/Python"
   ]
  },
  {
   "cell_type": "code",
   "execution_count": 66,
   "id": "366ab6c2",
   "metadata": {},
   "outputs": [
    {
     "data": {
      "text/plain": [
       "[2, 4, 6, 8]"
      ]
     },
     "execution_count": 66,
     "metadata": {},
     "output_type": "execute_result"
    }
   ],
   "source": [
    "\"\"\"\n",
    "Here's another staple for the functional programmer. You have a sequence of values and some predicate \n",
    "for those values. You want to get the longest prefix of elements such that the predicate is true for \n",
    "each element. We'll call this the takeWhile function. It accepts two arguments. The first is the sequence \n",
    "of values, and the second is the predicate function. The function does not change the value of the \n",
    "original sequence.\n",
    "is_even = lambda x: not x % 2\n",
    "seq = [2, 4, 6, 8, 1, 2, 5, 4, 3, 2]\n",
    "take_while(seq, is_even) # -> [2, 4, 6, 8]\n",
    "Your task is to implement the takeWhile function.\n",
    "\n",
    "If you've got a span function lying around, this is a one-liner! Also, if you liked this problem, \n",
    "you'll surely love the dropWhile function.\n",
    "\"\"\"\n",
    "\n",
    "from itertools import takewhile # 'itertools.takewhile' provides the aforementioned function\n",
    "\n",
    "def take_while(arr, pred_fun):\n",
    "# Through 'itertools.takewhile' we will take elements of the input array while the condition (lambda x) is True\n",
    "# When the condition is False we return the list with previously taken elements\n",
    "    final = list(takewhile(pred_fun, arr))\n",
    "    return final\n",
    "\n",
    "take_while([2, 4, 6, 8, 1, 2, 5, 4, 3, 2], lambda x: not x % 2)"
   ]
  }
 ],
 "metadata": {
  "kernelspec": {
   "display_name": "Python 3 (ipykernel)",
   "language": "python",
   "name": "python3"
  },
  "language_info": {
   "codemirror_mode": {
    "name": "ipython",
    "version": 3
   },
   "file_extension": ".py",
   "mimetype": "text/x-python",
   "name": "python",
   "nbconvert_exporter": "python",
   "pygments_lexer": "ipython3",
   "version": "3.9.7"
  }
 },
 "nbformat": 4,
 "nbformat_minor": 5
}
