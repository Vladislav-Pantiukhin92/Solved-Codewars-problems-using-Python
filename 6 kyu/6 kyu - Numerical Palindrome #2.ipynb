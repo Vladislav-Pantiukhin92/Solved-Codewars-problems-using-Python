{
 "cells": [
  {
   "cell_type": "markdown",
   "id": "0def342a",
   "metadata": {},
   "source": [
    "### Numerical Palindrome #2 - 6 kyu, Codewars/Python"
   ]
  },
  {
   "cell_type": "code",
   "execution_count": 160,
   "id": "e4fc4e99",
   "metadata": {},
   "outputs": [
    {
     "data": {
      "text/plain": [
       "True"
      ]
     },
     "execution_count": 160,
     "metadata": {},
     "output_type": "execute_result"
    }
   ],
   "source": [
    "\"\"\"\n",
    "A palindrome is a word, phrase, number, or other sequence of characters which reads \n",
    "the same backward as forward. Examples of numerical palindromes are:\n",
    "\n",
    "2332\n",
    "110011\n",
    "54322345\n",
    "\n",
    "For this kata, single digit numbers will not be considered numerical palindromes.\n",
    "For a given number num, write a function to test if the number contains a numerical \n",
    "palindrome or not and return a boolean (true if it does and false if does not). \n",
    "Return \"Not valid\" if the input is not an integer or is less than 0.\n",
    "Note: Palindromes should be found without permutating num.\n",
    "\n",
    "palindrome(5) => false\n",
    "palindrome(1221) => true\n",
    "palindrome(141221001) => true\n",
    "palindrome(1215) => true \n",
    "palindrome(1294) => false \n",
    "palindrome(\"109982\") => \"Not valid\"\n",
    "\"\"\"\n",
    "\n",
    "def palindrome(number):\n",
    "    # If the number is not of integer type or the abs(number) is not the same - non-valid inputs \n",
    "    if not isinstance(number, int) or not number == abs(number):\n",
    "        return \"Not valid\"\n",
    "    number = str(number)\n",
    "    # The usual algorithm to find the longest palindrome in the string\n",
    "    max_len = 0 # The variable will preserve the max length\n",
    "    max_pal = \"\" # The variable will preserve the max string palindromic pattern\n",
    "    for i in range(len(number)): # With each iteration we are moving in both directions to find palindromes\n",
    "        l, r = i, i # Case with odd-length palindromes\n",
    "        while l >= 0 and r < len(number) and number[l] == number[r]:\n",
    "            if (r - l) + 1 > max_len:\n",
    "                max_len = (r - l) + 1\n",
    "                max_pal = number[l: r + 1]\n",
    "            l -= 1\n",
    "            r += 1\n",
    "    for i in range(len(number)):\n",
    "        l, r = i, i + 1 # Case with even-length palindromes\n",
    "        while l >= 0 and r < len(number) and number[l] == number[r]:\n",
    "            if (r - l) + 1 > max_len:\n",
    "                max_len = (r - l) + 1\n",
    "                max_pal = number[l: r + 1]\n",
    "            l -= 1\n",
    "            r += 1\n",
    "    if max_len > 1: # If the length > 1 - return True, otherwise False\n",
    "        return True\n",
    "    return False\n",
    "\n",
    "palindrome(141221001)"
   ]
  }
 ],
 "metadata": {
  "kernelspec": {
   "display_name": "Python 3 (ipykernel)",
   "language": "python",
   "name": "python3"
  },
  "language_info": {
   "codemirror_mode": {
    "name": "ipython",
    "version": 3
   },
   "file_extension": ".py",
   "mimetype": "text/x-python",
   "name": "python",
   "nbconvert_exporter": "python",
   "pygments_lexer": "ipython3",
   "version": "3.9.7"
  }
 },
 "nbformat": 4,
 "nbformat_minor": 5
}
