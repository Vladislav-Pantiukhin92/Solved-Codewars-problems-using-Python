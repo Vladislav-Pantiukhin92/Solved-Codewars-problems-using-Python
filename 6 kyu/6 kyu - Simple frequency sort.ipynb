{
 "cells": [
  {
   "cell_type": "markdown",
   "id": "fad99924",
   "metadata": {},
   "source": [
    "### Simple frequency sort - 6 kyu, Codewars/Python"
   ]
  },
  {
   "cell_type": "code",
   "execution_count": 13,
   "id": "06d0ef9a",
   "metadata": {},
   "outputs": [
    {
     "data": {
      "text/plain": [
       "[3, 3, 3, 5, 5, 7, 7, 2, 9]"
      ]
     },
     "execution_count": 13,
     "metadata": {},
     "output_type": "execute_result"
    }
   ],
   "source": [
    "\"\"\"\n",
    "In this Kata, you will sort elements in an array by decreasing frequency of elements. If two elements \n",
    "have the same frequency, sort them by increasing value.\n",
    "solve([2,3,5,3,7,9,5,3,7]) = [3,3,3,5,5,7,7,2,9]\n",
    "--we sort by highest frequency to lowest frequency. If two elements have same frequency, we sort by \n",
    "increasing value\n",
    "More examples in test cases.\n",
    "\n",
    "Good luck!\n",
    "\"\"\"\n",
    "\n",
    "from collections import Counter # 'collections.Counter' will count all occurrences of elements within the \n",
    "# input array\n",
    "from operator import * # 'operator.itemgetter' will be used to sort iterables with regard to the certain argument\n",
    "from itertools import groupby # 'itertools.groupby' to group unique values and their occurrences within the array\n",
    "\n",
    "def solve(arr):\n",
    "    my_list = []\n",
    "    # Below we obtain the array of lists; each list contains an element and its occurrence within the input array\n",
    "    occurrences = sorted(list(dict(Counter(arr)).items()), key=itemgetter(1), reverse=True) # All operations \n",
    "    # are done in reverse order\n",
    "    key_func = lambda x: x[1]\n",
    "    # 'itertools.groupby' executes the grouping of elements and their occurrences:\n",
    "    for key, group in groupby(occurrences, key=key_func):\n",
    "        curList = list(group)\n",
    "        length = len(curList)\n",
    "        if length == 1:\n",
    "            my_list += curList\n",
    "        else:\n",
    "            curList = sorted(curList, key=lambda x: x[0])\n",
    "            my_list += curList\n",
    "    final = []\n",
    "    for i in my_list: # Concatenation of lists to obtain the final list result of integers\n",
    "        numbers = [i[0]] * i[1]\n",
    "        final += numbers\n",
    "    return final # The final result is returned\n",
    "\n",
    "solve([2,3,5,3,7,9,5,3,7])"
   ]
  }
 ],
 "metadata": {
  "kernelspec": {
   "display_name": "Python 3 (ipykernel)",
   "language": "python",
   "name": "python3"
  },
  "language_info": {
   "codemirror_mode": {
    "name": "ipython",
    "version": 3
   },
   "file_extension": ".py",
   "mimetype": "text/x-python",
   "name": "python",
   "nbconvert_exporter": "python",
   "pygments_lexer": "ipython3",
   "version": "3.9.7"
  }
 },
 "nbformat": 4,
 "nbformat_minor": 5
}
