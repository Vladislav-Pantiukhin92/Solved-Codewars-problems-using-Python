{
 "cells": [
  {
   "cell_type": "markdown",
   "id": "21ee426c",
   "metadata": {},
   "source": [
    "### Statistics for an Athletic Association - 6 kyu, Codewars/Python"
   ]
  },
  {
   "cell_type": "code",
   "execution_count": 208,
   "id": "072c3724",
   "metadata": {},
   "outputs": [
    {
     "name": "stdout",
     "output_type": "stream",
     "text": [
      "Range: 00|47|18 Average: 01|35|15 Median: 01|32|34\n"
     ]
    }
   ],
   "source": [
    "\"\"\"\n",
    "You are the \"computer expert\" of a local Athletic Association (C.A.A.). Many teams of runners come to compete. Each time you get a string of all race results of every team who has run. For example here is a string showing the individual results of a team of 5 runners:\n",
    "\n",
    "\"01|15|59, 1|47|6, 01|17|20, 1|32|34, 2|3|17\"\n",
    "\n",
    "Each part of the string is of the form: h|m|s where h, m, s (h for hour, m for minutes, s for seconds) are positive or null integer (represented as strings) with one or two digits. Substrings in the input string are separated by , or ,.\n",
    "To compare the results of the teams you are asked for giving three statistics; range, average and median.\n",
    "\n",
    "Range : difference between the lowest and highest values. In {4, 6, 9, 3, 7} the lowest value is 3, and the highest is 9, so the range is 9 − 3 = 6.\n",
    "Mean or Average : To calculate mean, add together all of the numbers in a set and then divide the sum by the total count of numbers.\n",
    "Median : In statistics, the median is the number separating the higher half of a data sample from the lower half. The median of a finite list of numbers can be found by arranging all the observations from lowest value to highest value and picking the middle one (e.g., the median of {3, 3, 5, 9, 11} is 5) when there is an odd number of observations. If there is an even number of observations, then there is no single middle value; the median is then defined to be the mean of the two middle values (the median of {3, 5, 6, 9} is (5 + 6) / 2 = 5.5).\n",
    "Your task is to return a string giving these 3 values. For the example given above, the string result will be\n",
    "\n",
    "\"Range: 00|47|18 Average: 01|35|15 Median: 01|32|34\"\n",
    "of the form: \"Range: hh|mm|ss Average: hh|mm|ss Median: hh|mm|ss\"`\n",
    "where hh, mm, ss are integers (represented by strings) with each 2 digits.\n",
    "\n",
    "Remarks:\n",
    "if a result in seconds is ab.xy... it will be given truncated as ab.\n",
    "if the given string is \"\" you will return \"\"\n",
    "\"\"\"\n",
    "\n",
    "import re # We use regular expressions to extract digits\n",
    "# With the use of 'starmap' we obtain the entire time manifestation in seconds\n",
    "from itertools import starmap\n",
    "from statistics import mean, median # Calculation of mean and median values\n",
    "\n",
    "def stat(string):\n",
    "    if not string:\n",
    "        return \"\"\n",
    "    result = list(map(int, re.findall(r\"\\d+\", string)))\n",
    "    time_category = [3600, 60, 1] * len(result)\n",
    "    zip_list = list(zip(result, time_category))\n",
    "    seconds_list = list(starmap(lambda x, y: x * y, zip_list))\n",
    "    final_seconds_result = []\n",
    "    sec = 0\n",
    "    # With the use of 'enumerate' function we divide the total amount of seconds into 3 categories (hours, minutes, seconds)\n",
    "    for i, j in enumerate(seconds_list, 1):\n",
    "        if i % 3 == 0:\n",
    "            sec += j\n",
    "            final_seconds_result.append(sec)\n",
    "            sec = 0\n",
    "        else:\n",
    "            sec += j\n",
    "    \n",
    "    range_seconds = max(final_seconds_result) - min(final_seconds_result)\n",
    "    mean_seconds = int(mean(final_seconds_result))\n",
    "    median_seconds = int(median(final_seconds_result))\n",
    "    # Calculation of hours, minutes and seconds\n",
    "    range_h = range_seconds // 3600\n",
    "    range_min = (range_seconds - (range_h * 3600)) // 60\n",
    "    range_sec = range_seconds - ((range_h * 3600) + (range_min * 60))\n",
    "    mean_h = mean_seconds // 3600\n",
    "    mean_min = (mean_seconds - (mean_h * 3600)) // 60\n",
    "    mean_sec = mean_seconds - ((mean_h * 3600) + (mean_min * 60))\n",
    "    median_h = median_seconds // 3600\n",
    "    median_min = (median_seconds - (median_h * 3600)) // 60\n",
    "    median_sec = median_seconds - ((median_h * 3600) + (median_min * 60))\n",
    "    # 'Zfill' string method will add zeros at the front of each number (if necessary)\n",
    "    range_str = f\"Range: {str(range_h).zfill(2)}|{str(range_min).zfill(2)}|{str(range_sec).zfill(2)} \"\n",
    "    average_str = f\"Average: {str(mean_h).zfill(2)}|{str(mean_min).zfill(2)}|{str(mean_sec).zfill(2)} \"\n",
    "    median_str = f\"Median: {str(median_h).zfill(2)}|{str(median_min).zfill(2)}|{str(median_sec).zfill(2)}\"\n",
    "    return range_str + average_str + median_str\n",
    "\n",
    "print(stat(\"01|15|59, 1|47|6, 01|17|20, 1|32|34, 2|3|17\"))"
   ]
  }
 ],
 "metadata": {
  "kernelspec": {
   "display_name": "Python 3",
   "language": "python",
   "name": "python3"
  },
  "language_info": {
   "codemirror_mode": {
    "name": "ipython",
    "version": 3
   },
   "file_extension": ".py",
   "mimetype": "text/x-python",
   "name": "python",
   "nbconvert_exporter": "python",
   "pygments_lexer": "ipython3",
   "version": "3.8.8"
  }
 },
 "nbformat": 4,
 "nbformat_minor": 5
}
