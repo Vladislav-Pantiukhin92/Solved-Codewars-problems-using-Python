{
 "cells": [
  {
   "cell_type": "markdown",
   "id": "c5f795ed",
   "metadata": {},
   "source": [
    "### Equal Sides Of An Array - 6 kyu, Codewars/Python"
   ]
  },
  {
   "cell_type": "code",
   "execution_count": 80,
   "id": "c1338015",
   "metadata": {},
   "outputs": [
    {
     "data": {
      "text/plain": [
       "3"
      ]
     },
     "execution_count": 80,
     "metadata": {},
     "output_type": "execute_result"
    }
   ],
   "source": [
    "\"\"\"\n",
    "You are going to be given an array of integers. Your job is to take that array and find an index N \n",
    "where the sum of the integers to the left of N is equal to the sum of the integers to the right of N. \n",
    "If there is no index that would make this happen, return -1.\n",
    "\n",
    "For example:\n",
    "\n",
    "Let's say you are given the array {1,2,3,4,3,2,1}:\n",
    "Your function will return the index 3, because at the 3rd position of the array, the sum of left side \n",
    "of the index ({1,2,3}) and the sum of the right side of the index ({3,2,1}) both equal 6.\n",
    "\n",
    "Let's look at another one.\n",
    "You are given the array {1,100,50,-51,1,1}:\n",
    "Your function will return the index 1, because at the 1st position of the array, the sum of left side \n",
    "of the index ({1}) and the sum of the right side of the index ({50,-51,1,1}) both equal 1.\n",
    "\n",
    "Last one:\n",
    "You are given the array {20,10,-80,10,10,15,35}\n",
    "At index 0 the left side is {}\n",
    "The right side is {10,-80,10,10,15,35}\n",
    "They both are equal to 0 when added. (Empty arrays are equal to 0 in this problem)\n",
    "Index 0 is the place where the left side and right side are equal.\n",
    "\n",
    "Note: Please remember that in most programming/scripting languages the index of an array starts at 0.\n",
    "Input:\n",
    "An integer array of length 0 < arr < 1000. The numbers in the array can be any integer positive or negative.\n",
    "Output:\n",
    "The lowest index N where the side to the left of N is equal to the side to the right of N. If you do \n",
    "not find an index that fits these rules, then you will return -1.\n",
    "Note:\n",
    "If you are given an array with multiple answers, return the lowest correct index.\n",
    "\"\"\"\n",
    "\n",
    "from operator import * # 'operator.eq' will be used to compare elements/numbers\n",
    "\n",
    "def find_even_index(arr):\n",
    "    leftSum = 0 # The initial left-side sum is 0\n",
    "    rightSum = sum(arr) # The initial right-side sum is the entire sum of the given input array\n",
    "    i = 0 # The initial index\n",
    "    while i < len(arr): # Through the 'while loop' we are going to shift the pointer forward. Each time we are going \n",
    "        # to add the number to the left-side sum and subtract the number from the right-side sum\n",
    "        if i == 0:\n",
    "            rightSum -= arr[i]\n",
    "        else:\n",
    "            leftSum += arr[i - 1]\n",
    "            rightSum -= arr[i]\n",
    "        if eq(leftSum, rightSum): # Let's compare the left-side and the right-side sums\n",
    "            return i # If these sums are equal - we return the index\n",
    "        i += 1 # Let's shift the pointer forward\n",
    "    return -1 # If there are no equality options at all - finally we return -1\n",
    "find_even_index([1,2,3,4,3,2,1])"
   ]
  }
 ],
 "metadata": {
  "kernelspec": {
   "display_name": "Python 3 (ipykernel)",
   "language": "python",
   "name": "python3"
  },
  "language_info": {
   "codemirror_mode": {
    "name": "ipython",
    "version": 3
   },
   "file_extension": ".py",
   "mimetype": "text/x-python",
   "name": "python",
   "nbconvert_exporter": "python",
   "pygments_lexer": "ipython3",
   "version": "3.9.7"
  }
 },
 "nbformat": 4,
 "nbformat_minor": 5
}
