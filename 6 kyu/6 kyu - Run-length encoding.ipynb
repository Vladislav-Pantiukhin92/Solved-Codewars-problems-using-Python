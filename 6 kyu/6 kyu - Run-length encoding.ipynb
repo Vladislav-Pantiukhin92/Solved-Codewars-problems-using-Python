{
 "cells": [
  {
   "cell_type": "markdown",
   "id": "8d36fa1a",
   "metadata": {},
   "source": [
    "### Run-length encoding - 6 kyu, Codewars/Python"
   ]
  },
  {
   "cell_type": "code",
   "execution_count": 4,
   "id": "78d297c4",
   "metadata": {},
   "outputs": [
    {
     "data": {
      "text/plain": [
       "[[1, 'h'],\n",
       " [1, 'e'],\n",
       " [2, 'l'],\n",
       " [1, 'o'],\n",
       " [1, ' '],\n",
       " [1, 'w'],\n",
       " [1, 'o'],\n",
       " [1, 'r'],\n",
       " [1, 'l'],\n",
       " [1, 'd'],\n",
       " [1, '!']]"
      ]
     },
     "execution_count": 4,
     "metadata": {},
     "output_type": "execute_result"
    }
   ],
   "source": [
    "\"\"\"\n",
    "Your task is to write such a run-length encoding. For a given string, return a list (or array) of pairs \n",
    "(or arrays) [ (i1, s1), (i2, s2), …, (in, sn) ], such that one can reconstruct the original string by \n",
    "replicating the character sx ix times and concatening all those strings. \n",
    "Your run-length encoding should be minimal, ie. for all i the values si and si+1 should differ.\n",
    "\n",
    "Examples\n",
    "As the article states, RLE is a very simple form of data compression. It's only suitable for runs of data, \n",
    "as one can see in the following example:\n",
    "\n",
    "run_length_encoding(\"hello world!\")\n",
    " //=>      [[1,'h'], [1,'e'], [2,'l'], [1,'o'], [1,' '], [1,'w'], [1,'o'], [1,'r'], [1,'l'], [1,'d'], [1,'!']]\n",
    "It's very effective if the same data value occurs in many consecutive data elements:\n",
    "\n",
    "run_length_encoding(\"aaaaaaaaaaaaaaaaaaaaaaaaaaaaaaaaaabbb\")\n",
    "# => [[34,'a'], [3,'b']]\n",
    "\"\"\"\n",
    "\n",
    "from itertools import groupby # 'itertools.groupby' will be used to group similar things together\n",
    "\n",
    "def run_length_encoding(s):\n",
    "# The list comprehension procedure, where the len(list(group)) - the occurrence of letters, and the key - the \n",
    "# letter itself\n",
    "    final = [[len(list(group)), key] for key, group in groupby(s)]\n",
    "    return final # The final nested list is returned\n",
    "\n",
    "run_length_encoding(\"hello world!\")"
   ]
  }
 ],
 "metadata": {
  "kernelspec": {
   "display_name": "Python 3 (ipykernel)",
   "language": "python",
   "name": "python3"
  },
  "language_info": {
   "codemirror_mode": {
    "name": "ipython",
    "version": 3
   },
   "file_extension": ".py",
   "mimetype": "text/x-python",
   "name": "python",
   "nbconvert_exporter": "python",
   "pygments_lexer": "ipython3",
   "version": "3.9.7"
  }
 },
 "nbformat": 4,
 "nbformat_minor": 5
}
