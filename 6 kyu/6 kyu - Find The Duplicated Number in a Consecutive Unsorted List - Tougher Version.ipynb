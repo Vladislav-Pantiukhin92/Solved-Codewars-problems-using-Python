{
 "cells": [
  {
   "cell_type": "markdown",
   "id": "b4dfffe7",
   "metadata": {},
   "source": [
    "### Find The Duplicated Number in a Consecutive Unsorted List - Tougher Version - 6 kyu, Codewars/Python"
   ]
  },
  {
   "cell_type": "code",
   "execution_count": 7,
   "id": "eb22dbe6",
   "metadata": {},
   "outputs": [
    {
     "data": {
      "text/plain": [
       "3"
      ]
     },
     "execution_count": 7,
     "metadata": {},
     "output_type": "execute_result"
    }
   ],
   "source": [
    "\"\"\"\n",
    "Spin-off of this kata, here you will have to figure out an efficient strategy to solve the problem of \n",
    "finding the sole duplicate number among an unsorted array/list of numbers starting from 1 up to n.\n",
    "Hints: a solution in linear time can be found; using the most intuitive ones to search for duplicates \n",
    "that can run in O(n²) time won't work.\n",
    "\"\"\"\n",
    "\n",
    "def find_dup(arr):\n",
    "    myDict = {} # Let's create the dictionary, which will store the occurrence of integers\n",
    "    for i in arr:\n",
    "        if i not in myDict:\n",
    "            myDict[i] = 1 # If the integer is new, we add this number to the dictionary as a new key, which \n",
    "            # will correspond to the value '1'\n",
    "        else:\n",
    "            # If the key is already within the dictionary, we return it - because it is a duplicate number\n",
    "            return i\n",
    "        \n",
    "find_dup([3, 2, 5, 1, 3, 4])"
   ]
  }
 ],
 "metadata": {
  "kernelspec": {
   "display_name": "Python 3 (ipykernel)",
   "language": "python",
   "name": "python3"
  },
  "language_info": {
   "codemirror_mode": {
    "name": "ipython",
    "version": 3
   },
   "file_extension": ".py",
   "mimetype": "text/x-python",
   "name": "python",
   "nbconvert_exporter": "python",
   "pygments_lexer": "ipython3",
   "version": "3.9.7"
  }
 },
 "nbformat": 4,
 "nbformat_minor": 5
}
