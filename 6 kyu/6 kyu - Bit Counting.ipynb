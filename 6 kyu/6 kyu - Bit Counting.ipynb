{
 "cells": [
  {
   "cell_type": "markdown",
   "id": "c5f795ed",
   "metadata": {},
   "source": [
    "### Bit Counting - 6 kyu, Codewars/Python"
   ]
  },
  {
   "cell_type": "code",
   "execution_count": 15,
   "id": "8d2ac0ec",
   "metadata": {},
   "outputs": [
    {
     "data": {
      "text/plain": [
       "1"
      ]
     },
     "execution_count": 15,
     "metadata": {},
     "output_type": "execute_result"
    }
   ],
   "source": [
    "\"\"\"\n",
    "Write a function that takes an integer as input, and returns the number of bits that are equal to one \n",
    "in the binary representation of that number. You can guarantee that input is non-negative.\n",
    "Example: The binary representation of 1234 is 10011010010, so the function should return 5 in this case.\n",
    "\"\"\"\n",
    "\n",
    "def count_bits(n):\n",
    "    # This is the way we will count the number of \"1\" within the binary representation of the given input number\n",
    "    return sum(i == \"1\" for i in bin(n).lstrip(\"0b\"))\n",
    "\n",
    "count_bits(4)"
   ]
  }
 ],
 "metadata": {
  "kernelspec": {
   "display_name": "Python 3 (ipykernel)",
   "language": "python",
   "name": "python3"
  },
  "language_info": {
   "codemirror_mode": {
    "name": "ipython",
    "version": 3
   },
   "file_extension": ".py",
   "mimetype": "text/x-python",
   "name": "python",
   "nbconvert_exporter": "python",
   "pygments_lexer": "ipython3",
   "version": "3.9.7"
  }
 },
 "nbformat": 4,
 "nbformat_minor": 5
}
