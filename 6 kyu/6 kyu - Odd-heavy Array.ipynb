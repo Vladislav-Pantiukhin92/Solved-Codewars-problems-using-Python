{
 "cells": [
  {
   "cell_type": "markdown",
   "id": "ed526c69",
   "metadata": {},
   "source": [
    "### Odd-heavy Array - 6 kyu, Codewars/Python"
   ]
  },
  {
   "cell_type": "code",
   "execution_count": 95,
   "id": "a61a609c",
   "metadata": {},
   "outputs": [
    {
     "data": {
      "text/plain": [
       "False"
      ]
     },
     "execution_count": 95,
     "metadata": {},
     "output_type": "execute_result"
    }
   ],
   "source": [
    "\"\"\"\n",
    "An array is defined to be odd-heavy if it contains at least one odd element and \n",
    "every element whose value is odd is greater than every even-valued element.\n",
    "\n",
    "eg.\n",
    "\n",
    "Array [11,4,9,2,8] is odd-heavy \n",
    "because:- its odd elements [11,9] are greater than all the even elements [4,2,8]\n",
    "\n",
    "Array [11,4,9,2,3,10] is not odd-heavy\n",
    "because:- one of it's even element 10 from [4,2,10] is greater than two of its odd elements [9,3] from \n",
    "[ 11,9,3]\n",
    "write a function called isOddHeavy or is_odd_heavy that accepts an integer array and returns true if \n",
    "the array is odd-heavy else return false.\n",
    "\"\"\"\n",
    "\n",
    "def is_odd_heavy(arr):\n",
    "    if len(arr) < 1:\n",
    "        return False\n",
    "    if any(i % 2 != 0 for i in arr): # 'Any' function to verify the existence of odd numbers (at least, 1)\n",
    "        if not any(i % 2 == 0 for i in arr): # If the list contains only odd numbers - return True\n",
    "            return True\n",
    "# Otherwise, we are going to return True if the smallest odd number ([0]) > the biggest even number ([-1])\n",
    "        odd_numbers = sorted(list(filter(lambda x: x % 2 != 0, arr)))\n",
    "        even_numbers = sorted(list(filter(lambda y: y % 2 == 0, arr)))\n",
    "        return odd_numbers[0] > even_numbers[-1]\n",
    "    else:\n",
    "        return False\n",
    "    \n",
    "is_odd_heavy([0, 1, 2, 3, 4, 0, -2, -1, -4, -3])"
   ]
  }
 ],
 "metadata": {
  "kernelspec": {
   "display_name": "Python 3",
   "language": "python",
   "name": "python3"
  },
  "language_info": {
   "codemirror_mode": {
    "name": "ipython",
    "version": 3
   },
   "file_extension": ".py",
   "mimetype": "text/x-python",
   "name": "python",
   "nbconvert_exporter": "python",
   "pygments_lexer": "ipython3",
   "version": "3.8.8"
  }
 },
 "nbformat": 4,
 "nbformat_minor": 5
}
