{
 "cells": [
  {
   "cell_type": "markdown",
   "id": "75205161",
   "metadata": {},
   "source": [
    "### Separating Strings - 6 kyu, Codewars/Python"
   ]
  },
  {
   "cell_type": "code",
   "execution_count": 148,
   "id": "5910da39",
   "metadata": {},
   "outputs": [
    {
     "data": {
      "text/plain": [
       "[['T', 'M', 'i', 't', 'p', 'o', 't', 'c'],\n",
       " ['h', 'i', 's', 'h', 'o', 'f', 'h', 'e'],\n",
       " ['e', 't', '', 'e', 'w', '', 'e', 'l'],\n",
       " ['', 'o', '', '', 'e', '', '', 'l'],\n",
       " ['', 'c', '', '', 'r', '', '', ''],\n",
       " ['', 'h', '', '', 'h', '', '', ''],\n",
       " ['', 'o', '', '', 'o', '', '', ''],\n",
       " ['', 'n', '', '', 'u', '', '', ''],\n",
       " ['', 'd', '', '', 's', '', '', ''],\n",
       " ['', 'r', '', '', 'e', '', '', ''],\n",
       " ['', 'i', '', '', '', '', '', ''],\n",
       " ['', 'a', '', '', '', '', '', '']]"
      ]
     },
     "execution_count": 148,
     "metadata": {},
     "output_type": "execute_result"
    }
   ],
   "source": [
    "\"\"\"\n",
    "Create a function that takes a string and separates it into a sequence of letters.\n",
    "The array will be formatted as so:\n",
    "\n",
    "[['J','L','L','M']\n",
    ",['u','i','i','a']\n",
    ",['s','v','f','n']\n",
    ",['t','e','e','']]\n",
    "\n",
    "The function should separate each word into individual letters, with the first word \n",
    "in the sentence having its letters in the 0th index of each 2nd dimension array, and so on.\n",
    "Shorter words will have an empty string in the place once the word has already been mapped out. \n",
    "(See the last element in the last part of the array.)\n",
    "\n",
    "Examples:\n",
    "\n",
    "sep_str(\"Just Live Life Man\")\n",
    "# => [['J','L','L','M'],\n",
    "# => ['u','i','i','a'],\n",
    "# => ['s','v','f','n'],\n",
    "# => ['t','e','e','']]);\n",
    "\n",
    "sep_str(\"The Mitochondria is the powerhouse of the cell\")\n",
    "# => [ [ 'T', 'M', 'i', 't', 'p', 'o', 't', 'c' ],\n",
    "# => [ 'h', 'i', 's', 'h', 'o', 'f', 'h', 'e' ],\n",
    "# => [ 'e', 't', '', 'e', 'w', '', 'e', 'l' ],\n",
    "# => [ '', 'o', '', '', 'e', '', '', 'l' ],\n",
    "# => [ '', 'c', '', '', 'r', '', '', '' ],\n",
    "# => [ '', 'h', '', '', 'h', '', '', '' ],\n",
    "# => [ '', 'o', '', '', 'o', '', '', '' ],\n",
    "# => [ '', 'n', '', '', 'u', '', '', '' ],\n",
    "# => [ '', 'd', '', '', 's', '', '', '' ],\n",
    "# => [ '', 'r', '', '', 'e', '', '', '' ],\n",
    "# => [ '', 'i', '', '', '', '', '', '' ],\n",
    "# => [ '', 'a', '', '', '', '', '', '' ]]\n",
    "\"\"\"\n",
    "\n",
    "def sep_str(string):\n",
    "    if not string: # If the string is empty, then we return \"\"\n",
    "        return \"\"\n",
    "    # We are going to create the matrix, 2-D array with the dimension 'm * n', where 'm' is the number of words\n",
    "    # and 'n' is the length of the longest word\n",
    "    lst = string.split() # To find out the number of words we transform the string into the list type\n",
    "    length = len(sorted(lst, key=len)[-1]) # The longest word is the last element in the sorted array\n",
    "    # Below we create the matrix\n",
    "    matrix = [[0 for _ in range(len(lst))] for _ in range(length)]\n",
    "    index = 0\n",
    "    while index < length:\n",
    "        count = 0\n",
    "        for i in lst:\n",
    "            # In order to avoid the IndexError (it may take place when the word is shorter than the longest word)\n",
    "            # 'try-except' is used to add \"\" instead of the real value\n",
    "            try:\n",
    "                matrix[index][count] = i[index]\n",
    "                count += 1\n",
    "            except IndexError:\n",
    "                matrix[index][count] = \"\"\n",
    "                count += 1\n",
    "        index += 1\n",
    "    return matrix\n",
    "    \n",
    "sep_str(\"The Mitochondria is the powerhouse of the cell\")"
   ]
  }
 ],
 "metadata": {
  "kernelspec": {
   "display_name": "Python 3 (ipykernel)",
   "language": "python",
   "name": "python3"
  },
  "language_info": {
   "codemirror_mode": {
    "name": "ipython",
    "version": 3
   },
   "file_extension": ".py",
   "mimetype": "text/x-python",
   "name": "python",
   "nbconvert_exporter": "python",
   "pygments_lexer": "ipython3",
   "version": "3.9.7"
  }
 },
 "nbformat": 4,
 "nbformat_minor": 5
}
