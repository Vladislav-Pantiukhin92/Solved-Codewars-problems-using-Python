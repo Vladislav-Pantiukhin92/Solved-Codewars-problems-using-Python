{
 "cells": [
  {
   "cell_type": "markdown",
   "id": "2c97cf0a",
   "metadata": {},
   "source": [
    "### Complete Fibonacci Series - 6 kyu, Codewars/Python"
   ]
  },
  {
   "cell_type": "code",
   "execution_count": 39,
   "id": "d42fa7a5",
   "metadata": {},
   "outputs": [
    {
     "data": {
      "text/plain": [
       "[0, 1, 1, 2]"
      ]
     },
     "execution_count": 39,
     "metadata": {},
     "output_type": "execute_result"
    }
   ],
   "source": [
    "\"\"\"\n",
    "The function 'fibonacci' should return an array of fibonacci numbers. The function takes a number as \n",
    "an argument to decide how many no. of elements to produce. If the argument is less than or equal to \n",
    "0 then return empty array\n",
    "Example:\n",
    "\n",
    "fibonacci(4) # should return  [0,1,1,2]\n",
    "fibonacci(-1) # should return []\n",
    "\"\"\"\n",
    "\n",
    "# To calculate the n-th Fibonacci number we can use not only the recursive approach, but also the Dynamic \n",
    "# Programming approach - through the tabulation system, when we are going to store the results within an array\n",
    "\n",
    "def fibonacci(n):\n",
    "    if n <= 0: # The Fibonacci number cannot be <= 0 - so we return an empty list\n",
    "        return []\n",
    "    # Let's write down two main basic cases for the first two positions, which will help to calculate all other \n",
    "    # Fibonacci numbers:\n",
    "    if n == 1:\n",
    "        return [0]\n",
    "    elif n == 2:\n",
    "        return [0, 1]\n",
    "    else:\n",
    "    # The tabulation approach is active:\n",
    "        fib_arr = [0] * n \n",
    "        fib_arr[0], fib_arr[1] = 0, 1\n",
    "        for i in range(2, n):\n",
    "            fib_arr[i] = fib_arr[i - 1] + fib_arr[i - 2]\n",
    "        return fib_arr # Finally, the whole array with all calculated Fibonacci numbers is returned\n",
    "    \n",
    "fibonacci(4)"
   ]
  }
 ],
 "metadata": {
  "kernelspec": {
   "display_name": "Python 3 (ipykernel)",
   "language": "python",
   "name": "python3"
  },
  "language_info": {
   "codemirror_mode": {
    "name": "ipython",
    "version": 3
   },
   "file_extension": ".py",
   "mimetype": "text/x-python",
   "name": "python",
   "nbconvert_exporter": "python",
   "pygments_lexer": "ipython3",
   "version": "3.9.7"
  }
 },
 "nbformat": 4,
 "nbformat_minor": 5
}
