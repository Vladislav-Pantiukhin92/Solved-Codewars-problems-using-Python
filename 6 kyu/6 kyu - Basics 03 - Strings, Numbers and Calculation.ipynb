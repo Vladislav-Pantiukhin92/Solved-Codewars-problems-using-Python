{
 "cells": [
  {
   "cell_type": "markdown",
   "id": "dcbae4b3",
   "metadata": {},
   "source": [
    "### Basics 03: Strings, Numbers and Calculation - 6 kyu, Codewars/Python"
   ]
  },
  {
   "cell_type": "code",
   "execution_count": 3,
   "id": "b2d6f5dd",
   "metadata": {},
   "outputs": [
    {
     "data": {
      "text/plain": [
       "'54929268'"
      ]
     },
     "execution_count": 3,
     "metadata": {},
     "output_type": "execute_result"
    }
   ],
   "source": [
    "\"\"\"\n",
    "Here you have to do some mathematical operations on a \"dirty string\". This kata checks some basics, \n",
    "it's not too difficult.\n",
    "So what to do?\n",
    "\n",
    "Input: String which consists of two positive numbers (doubles) and exactly one operator \n",
    "like +, -, * or / always between these numbers. The string is dirty, which means that there are \n",
    "different characters inside too, not only numbers and the operator. You have to combine all digits left \n",
    "and right, perhaps with \".\" inside (doubles), and to calculate the result which has to be rounded to an \n",
    "integer and converted to a string at the end.\n",
    "Easy example:\n",
    "Input: \"gdfgdf234dg54gf*23oP42\"\n",
    "Output: \"54929268\" (because 23454*2342=54929268)\n",
    "\"\"\"\n",
    "\n",
    "import re # Regular expression is to be used to extract digits from the 'dirty' given input string\n",
    "\n",
    "def calculate_string(st):\n",
    "    math_operator = \"\".join(re.findall(r\"[+\\-*\\/]\", st)) # First of all, we are going to determine the specific \n",
    "    # math operator\n",
    "    two_parts = re.split(r\"[+\\-*\\/]\", st) # The given input string is to be split into two parts of the future \n",
    "    # 'clean' math expression\n",
    "    left_part = \"\".join(re.findall(r\"[0-9\\.]\", two_parts[0])) # Digits for the left part of the math expression\n",
    "    right_part = \"\".join(re.findall(r\"[0-9\\.]\", two_parts[1])) # Digits for the right part of the math expression\n",
    "    # Through the 'eval' function we can find the final math result in the string form:\n",
    "    return str(round(eval(f\"{left_part} {math_operator} {right_part}\")))\n",
    "\n",
    "calculate_string(\"gdfgdf234dg54gf*23oP42\")"
   ]
  }
 ],
 "metadata": {
  "kernelspec": {
   "display_name": "Python 3 (ipykernel)",
   "language": "python",
   "name": "python3"
  },
  "language_info": {
   "codemirror_mode": {
    "name": "ipython",
    "version": 3
   },
   "file_extension": ".py",
   "mimetype": "text/x-python",
   "name": "python",
   "nbconvert_exporter": "python",
   "pygments_lexer": "ipython3",
   "version": "3.9.7"
  }
 },
 "nbformat": 4,
 "nbformat_minor": 5
}
