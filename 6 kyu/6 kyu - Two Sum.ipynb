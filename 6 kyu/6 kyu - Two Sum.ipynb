{
 "cells": [
  {
   "cell_type": "markdown",
   "id": "307c48a2",
   "metadata": {},
   "source": [
    "### Two Sum - 6 kyu, Codewars/Python"
   ]
  },
  {
   "cell_type": "code",
   "execution_count": 8,
   "id": "68982013",
   "metadata": {},
   "outputs": [
    {
     "data": {
      "text/plain": [
       "(0, 1)"
      ]
     },
     "execution_count": 8,
     "metadata": {},
     "output_type": "execute_result"
    }
   ],
   "source": [
    "\"\"\"\n",
    "Write a function that takes an array of numbers (integers for the tests) and a target number. It should find two different items in the array that, when added together, give the target value. The indices of these items should then be returned in a tuple / list (depending on your language) like so: (index1, index2).\n",
    "For the purposes of this kata, some tests may have multiple answers; any valid solutions will be accepted.\n",
    "The input will always be valid (numbers will be an array of length 2 or greater, and all of the items will be numbers; target will always be the sum of two different items from that array).\n",
    "\n",
    "Based on: http://oj.leetcode.com/problems/two-sum/\n",
    "\n",
    "twoSum [1, 2, 3] 4 === (0, 2)\n",
    "\"\"\"\n",
    "\n",
    "def two_sum(numbers, target):\n",
    "    lst = []\n",
    "    # First of all, we are going to implement subtraction (each element in numbers - target)\n",
    "    # Such kind of subtraction will give us the result - value of the second element for addition\n",
    "    # Afterwards, we are going verify the existence of the value in numbers\n",
    "    # If it exists - we return the index address of the first and the second elements as a tupl\n",
    "    \n",
    "    sub_lst = list(map(lambda x: target - x, numbers)) \n",
    "    count = 0\n",
    "    for i in sub_lst:\n",
    "        if i in numbers and numbers.index(i) != count:\n",
    "            lst.append(count)\n",
    "            lst.append(numbers.index(i))\n",
    "            break\n",
    "        else:\n",
    "            count += 1\n",
    "    return tuple(sorted(lst))\n",
    "\n",
    "two_sum([2, 2, 3], 4)"
   ]
  }
 ],
 "metadata": {
  "kernelspec": {
   "display_name": "Python 3",
   "language": "python",
   "name": "python3"
  },
  "language_info": {
   "codemirror_mode": {
    "name": "ipython",
    "version": 3
   },
   "file_extension": ".py",
   "mimetype": "text/x-python",
   "name": "python",
   "nbconvert_exporter": "python",
   "pygments_lexer": "ipython3",
   "version": "3.8.8"
  }
 },
 "nbformat": 4,
 "nbformat_minor": 5
}
