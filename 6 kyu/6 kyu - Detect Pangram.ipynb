{
 "cells": [
  {
   "cell_type": "markdown",
   "id": "71186e48",
   "metadata": {},
   "source": [
    "### Detect Pangram - 6 kyu, Codewars/Python"
   ]
  },
  {
   "cell_type": "code",
   "execution_count": 7,
   "id": "8606fa89",
   "metadata": {},
   "outputs": [
    {
     "data": {
      "text/plain": [
       "True"
      ]
     },
     "execution_count": 7,
     "metadata": {},
     "output_type": "execute_result"
    }
   ],
   "source": [
    "\"\"\"\n",
    "A pangram is a sentence that contains every single letter of the alphabet at least once. For example, \n",
    "the sentence \"The quick brown fox jumps over the lazy dog\" is a pangram, because it uses the letters \n",
    "A-Z at least once (case is irrelevant).\n",
    "Given a string, detect whether or not it is a pangram. Return True if it is, False if not. Ignore numbers \n",
    "and punctuation.\n",
    "\"\"\"\n",
    "\n",
    "import string # Let's import all lowercase English letters\n",
    "import re # Regular expressions will be used to remove all non-alphabetic characters from the given input string\n",
    "\n",
    "def is_pangram(s):\n",
    "    s = s.casefold() # The lowercase transformation\n",
    "    alphabet = string.ascii_lowercase # Let's import the lowercase English alphabet\n",
    "    # We will extract only unique English letters (without duplicates) from the input string. The sorted combination \n",
    "    # of these letters should represent the original English alphabet (26 English letters):\n",
    "    result = \"\".join(sorted(list(set(re.findall(r\"[a-z]\", s)))))\n",
    "    # We have already imported the English alphabet. The final step is to compare the imported English alphabet \n",
    "    # and the sorted combination of unique English letters, removed from the input string\n",
    "    if re.fullmatch(result, alphabet): # If these letters' combinations are the same - we return True, otherwise we return False\n",
    "        return True\n",
    "    return False\n",
    "\n",
    "is_pangram(\"The quick brown fox jumps over the lazy dog\")"
   ]
  },
  {
   "cell_type": "code",
   "execution_count": null,
   "id": "a9bee3ea",
   "metadata": {},
   "outputs": [],
   "source": []
  }
 ],
 "metadata": {
  "kernelspec": {
   "display_name": "Python 3 (ipykernel)",
   "language": "python",
   "name": "python3"
  },
  "language_info": {
   "codemirror_mode": {
    "name": "ipython",
    "version": 3
   },
   "file_extension": ".py",
   "mimetype": "text/x-python",
   "name": "python",
   "nbconvert_exporter": "python",
   "pygments_lexer": "ipython3",
   "version": "3.9.7"
  }
 },
 "nbformat": 4,
 "nbformat_minor": 5
}
