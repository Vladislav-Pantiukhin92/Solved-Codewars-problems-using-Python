{
 "cells": [
  {
   "cell_type": "markdown",
   "id": "034d3878",
   "metadata": {},
   "source": [
    "### Circularly Sorted Array - 6 kyu, Codewars/Python"
   ]
  },
  {
   "cell_type": "code",
   "execution_count": 64,
   "id": "0a15a595",
   "metadata": {},
   "outputs": [
    {
     "data": {
      "text/plain": [
       "True"
      ]
     },
     "execution_count": 64,
     "metadata": {},
     "output_type": "execute_result"
    }
   ],
   "source": [
    "\"\"\"\n",
    "An array is circularly sorted if the elements are sorted in ascending order, but displaced, or rotated, \n",
    "by any number of steps.\n",
    "Complete the function/method that determines if the given array of integers is circularly sorted.\n",
    "Examples\n",
    "These arrays are circularly sorted (true):\n",
    "\n",
    "[2, 3, 4, 5, 0, 1]       -->  [0, 1] + [2, 3, 4, 5]\n",
    "[4, 5, 6, 9, 1]          -->  [1] + [4, 5, 6, 9]\n",
    "[10, 11, 6, 7, 9]        -->  [6, 7, 9] + [10, 11]\n",
    "[1, 2, 3, 4, 5]          -->  [1, 2, 3, 4, 5]\n",
    "[5, 7, 43, 987, -9, 0]   -->  [-9, 0] + [5, 7, 43, 987]\n",
    "[1, 2, 3, 4, 1]          -->  [1] + [1, 2, 3, 4]\n",
    "While these are not (false):\n",
    "\n",
    "[4, 1, 2, 5]\n",
    "[8, 7, 6, 5, 4, 3]\n",
    "[6, 7, 4, 8]\n",
    "[7, 6, 5, 4, 3, 2, 1]\n",
    "\"\"\"\n",
    "\n",
    "def circularly_sorted(arr):\n",
    "# The circularly sorted array should contain 0 or 1 discrepancy \n",
    "# The discrepancy is where the maxNumber -> the minNumber\n",
    "# If the input array contains over 1 discrepancy it is not a circularly sorted array\n",
    "\n",
    "    desc = 0 # The initial discrepancy is 0\n",
    "    for i in range(1, len(arr)):\n",
    "        if arr[i] < arr[i - 1]:\n",
    "            desc += 1\n",
    "    if arr[-1] > arr[0]:\n",
    "        desc += 1\n",
    "    if desc > 1: # If the number of discrepancies > 1 - we return False, otherwise, we return True\n",
    "        return False\n",
    "    return True\n",
    "\n",
    "circularly_sorted([2, 3, 4, 5, 0, 1])"
   ]
  }
 ],
 "metadata": {
  "kernelspec": {
   "display_name": "Python 3 (ipykernel)",
   "language": "python",
   "name": "python3"
  },
  "language_info": {
   "codemirror_mode": {
    "name": "ipython",
    "version": 3
   },
   "file_extension": ".py",
   "mimetype": "text/x-python",
   "name": "python",
   "nbconvert_exporter": "python",
   "pygments_lexer": "ipython3",
   "version": "3.9.7"
  }
 },
 "nbformat": 4,
 "nbformat_minor": 5
}
