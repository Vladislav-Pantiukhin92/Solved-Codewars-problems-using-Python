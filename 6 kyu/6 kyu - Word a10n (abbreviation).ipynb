{
 "cells": [
  {
   "cell_type": "markdown",
   "id": "72679ed3",
   "metadata": {},
   "source": [
    "### Word a10n (abbreviation) - 6 kyu, Codewars/Python"
   ]
  },
  {
   "cell_type": "code",
   "execution_count": 136,
   "id": "d78f0f00",
   "metadata": {},
   "outputs": [
    {
     "data": {
      "text/plain": [
       "'i18n'"
      ]
     },
     "execution_count": 136,
     "metadata": {},
     "output_type": "execute_result"
    }
   ],
   "source": [
    "\"\"\"\n",
    "The word i18n is a common abbreviation of internationalization in the developer community, used instead of typing the whole word and trying to spell it correctly. Similarly, a11y is an abbreviation of accessibility.\n",
    "\n",
    "Write a function that takes a string and turns any and all \"words\" (see below) within that string of length 4 or greater into an abbreviation, following these rules:\n",
    "\n",
    "A \"word\" is a sequence of alphabetical characters. By this definition, any other character like a space or hyphen (eg. \"elephant-ride\") will split up a series of letters into two words (eg. \"elephant\" and \"ride\").\n",
    "The abbreviated version of the word should have the first letter, then the number of removed characters, then the last letter (eg. \"elephant ride\" => \"e6t r2e\").\n",
    "Example\n",
    "abbreviate(\"elephant-rides are really fun!\")\n",
    "//          ^^^^^^^^*^^^^^*^^^*^^^^^^*^^^*\n",
    "// words (^):   \"elephant\" \"rides\" \"are\" \"really\" \"fun\"\n",
    "//                123456     123     1     1234     1\n",
    "// ignore short words:               X              X\n",
    "\n",
    "// abbreviate:    \"e6t\"     \"r3s\"  \"are\"  \"r4y\"   \"fun\"\n",
    "// all non-word characters (*) remain in place\n",
    "//                     \"-\"      \" \"    \" \"     \" \"     \"!\"\n",
    "=== \"e6t-r3s are r4y fun!\"\n",
    "\"\"\"\n",
    "\n",
    "import string\n",
    "\n",
    "def abbreviate(s):\n",
    "    letters = string.ascii_letters # We will check whether each symbol is an alphabet letter or not\n",
    "    my_list = []\n",
    "    str_ = \"\"\n",
    "    for i in s:\n",
    "        if i not in letters:\n",
    "            my_list.append(str_)\n",
    "            my_list.append(i)\n",
    "            str_ = \"\"\n",
    "        else:\n",
    "            str_ += i\n",
    "    my_list.append(str_)\n",
    "    final = []\n",
    "    for i in my_list:\n",
    "        if not i.isalpha():\n",
    "            final.append(i)\n",
    "        else:\n",
    "            if len(i) < 4:\n",
    "                final.append(i)\n",
    "            else:\n",
    "                # Otherwise, we are going to take the string body, except the first letter and the last letter\n",
    "                final.append(i[0] + str(len(i[1:len(i) - 1])) + i[-1])\n",
    "    return \"\".join(final)\n",
    "\n",
    "abbreviate(\"internationalization\")\n"
   ]
  }
 ],
 "metadata": {
  "kernelspec": {
   "display_name": "Python 3",
   "language": "python",
   "name": "python3"
  },
  "language_info": {
   "codemirror_mode": {
    "name": "ipython",
    "version": 3
   },
   "file_extension": ".py",
   "mimetype": "text/x-python",
   "name": "python",
   "nbconvert_exporter": "python",
   "pygments_lexer": "ipython3",
   "version": "3.8.8"
  }
 },
 "nbformat": 4,
 "nbformat_minor": 5
}
