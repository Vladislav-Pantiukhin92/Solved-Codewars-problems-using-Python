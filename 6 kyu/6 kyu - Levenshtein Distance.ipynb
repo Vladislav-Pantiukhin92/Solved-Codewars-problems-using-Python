{
 "cells": [
  {
   "cell_type": "markdown",
   "id": "9570f4a2",
   "metadata": {},
   "source": [
    "### Levenshtein Distance - 6 kyu, Codewars/Python"
   ]
  },
  {
   "cell_type": "code",
   "execution_count": null,
   "id": "4049c1a8",
   "metadata": {},
   "outputs": [],
   "source": [
    "\"\"\"\n",
    "In information theory and computer science, the Levenshtein distance is a string metric for measuring \n",
    "the difference between two sequences. Informally, the Levenshtein distance between \n",
    "two words is the minimum number of single-character edits (i.e. insertions, deletions or substitutions) \n",
    "required to change one word into the other.\n",
    "(http://en.wikipedia.org/wiki/Levenshtein_distance)\n",
    "\n",
    "Your task is to implement a function which calculates the Levenshtein distance for two arbitrary strings.\n",
    "\"\"\"\n",
    "\n",
    "import numpy as np # 'Numpy' is used to create the 2-D array, matrix for comparison\n",
    "\n",
    "# Implementation of the Levenshtein distance algorithm through the numpy matrix\n",
    "def levenshtein(a, b):\n",
    "    matrix = np.zeros((len(a) + 1, len(b) + 1))\n",
    "    for i in range(1, len(a) + 1): # Firstly, the rows are numbered\n",
    "        matrix[i][0] = i\n",
    "    for j in range(1, len(b) + 1): # Secondly, columns are numbered\n",
    "        matrix[0][j] = j\n",
    "    for x in range(1, len(a) + 1):\n",
    "        for y in range(1, len(b) + 1): # If the values are the same, we don't change the distance\n",
    "            if a[x - 1] == b[y - 1]:\n",
    "                matrix[x][y] = matrix[x - 1][y - 1]\n",
    "            else: # If the values are not the same, we find the minimum value and add 1\n",
    "                matrix[x][y] = min(matrix[x - 1][y - 1], matrix[x][y - 1], matrix[x - 1][y]) + 1\n",
    "    return int(matrix[len(a)][len(b)]) # As the final result is a float number (.0), we need to change it into the integer type"
   ]
  }
 ],
 "metadata": {
  "kernelspec": {
   "display_name": "Python 3 (ipykernel)",
   "language": "python",
   "name": "python3"
  },
  "language_info": {
   "codemirror_mode": {
    "name": "ipython",
    "version": 3
   },
   "file_extension": ".py",
   "mimetype": "text/x-python",
   "name": "python",
   "nbconvert_exporter": "python",
   "pygments_lexer": "ipython3",
   "version": "3.9.7"
  }
 },
 "nbformat": 4,
 "nbformat_minor": 5
}
