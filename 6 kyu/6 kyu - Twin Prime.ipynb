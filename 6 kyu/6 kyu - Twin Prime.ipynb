{
 "cells": [
  {
   "cell_type": "markdown",
   "id": "e1bba17c",
   "metadata": {},
   "source": [
    "### Twin Prime - 6 kyu, Codewars/Python"
   ]
  },
  {
   "cell_type": "code",
   "execution_count": 38,
   "id": "ec9d7712",
   "metadata": {},
   "outputs": [
    {
     "data": {
      "text/plain": [
       "True"
      ]
     },
     "execution_count": 38,
     "metadata": {},
     "output_type": "execute_result"
    }
   ],
   "source": [
    "\"\"\"\n",
    "A twin prime is a prime number that differs from another prime number by 2. Write a function named \n",
    "is_twin_prime which takes an int parameter and returns true if it is a twin prime, else false.\n",
    "\n",
    "Examples\n",
    "given 5, which is prime\n",
    "5 + 2 = 7, which is prime \n",
    "5 - 2 = 3, which is prime\n",
    "hence, 5 has two prime twins and it is a Twin Prime.\n",
    "given 7, which is prime\n",
    "7 - 2 = 5, which is prime\n",
    "7 + 2 = 9. which is not prime\n",
    "hence, 7 has one prime twin, and it is a Twin Prime.\n",
    "given 9, which is not prime \n",
    "hence, 9 is not a Twin Prime\n",
    "given 953, which is prime\n",
    "953 - 2 = 951, which is not prime\n",
    "953 + 2 = 955, which is not prime \n",
    "hence, 953 is not a Twin Prime\n",
    "\"\"\"\n",
    "\n",
    "# To tackle such kind of problem it is necessary to use the algorithm, titled 'Sieve of Eratosthenes', aimed\n",
    "# at finding the prime numbers from 2 to 'n': \n",
    "\n",
    "def is_twinprime(n):\n",
    "# Let's implement the above-mentioned algorithm, 'Sieve of Eratosthenes':\n",
    "    true_array = [True] * (n + 3)\n",
    "    final = [] # The list container will store prime numbers\n",
    "# Through the nested 'for loop' we are going to append prime numbers to the rear of the initialized list container:\n",
    "    for i in range(2, n + 3):\n",
    "        if true_array[i]:\n",
    "            final.append(i)\n",
    "        for j in range(i ** 2, n + 3, i):\n",
    "            true_array[j] = False\n",
    "# Now we have the list, filled with prime numbers\n",
    "    if n not in final: # If the given input number is not within the list, it is not a prime number itself - \n",
    "        # so we return False\n",
    "        return False\n",
    "# If the given input number is within the list, and the subtraction result ('n' - 2) or addition result ('n' + 2)\n",
    "# is within the list as well - we return True\n",
    "    if n - 2 in final or n + 2 in final:\n",
    "        return True\n",
    "    return False # Otherwise, we return False\n",
    "\n",
    "is_twinprime(13)"
   ]
  }
 ],
 "metadata": {
  "kernelspec": {
   "display_name": "Python 3 (ipykernel)",
   "language": "python",
   "name": "python3"
  },
  "language_info": {
   "codemirror_mode": {
    "name": "ipython",
    "version": 3
   },
   "file_extension": ".py",
   "mimetype": "text/x-python",
   "name": "python",
   "nbconvert_exporter": "python",
   "pygments_lexer": "ipython3",
   "version": "3.9.7"
  }
 },
 "nbformat": 4,
 "nbformat_minor": 5
}
