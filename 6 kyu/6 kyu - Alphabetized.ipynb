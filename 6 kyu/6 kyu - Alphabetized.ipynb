{
 "cells": [
  {
   "cell_type": "markdown",
   "id": "ec7922c4",
   "metadata": {},
   "source": [
    "### Alphabetized - 6 kyu, Codewars/Python"
   ]
  },
  {
   "cell_type": "code",
   "execution_count": 9,
   "id": "71212ff2",
   "metadata": {},
   "outputs": [
    {
     "data": {
      "text/plain": [
       "'BbeehHilloTy'"
      ]
     },
     "execution_count": 9,
     "metadata": {},
     "output_type": "execute_result"
    }
   ],
   "source": [
    "\"\"\"\n",
    "Re-order the characters of a string, so that they are concatenated into a new string in \n",
    "\"case-insensitively-alphabetical-order-of-appearance\" order. Whitespace and punctuation shall simply be removed!\n",
    "The input is restricted to contain no numerals and only words containing the english alphabet letters.\n",
    "Example:\n",
    "alphabetized(\"The Holy Bible\") # \"BbeehHilloTy\"\n",
    "\"\"\"\n",
    "\n",
    "import re # Regular expressions will be utilized to extract only alphabetic values from the given input list\n",
    "\n",
    "def alphabetized(s):\n",
    "    s = \"\".join(re.findall(r\"[a-zA-Z]\", s)) # Only lowercase and uppercase letters are to be taken\n",
    "    myDict = {} # The dictionary is initialized to store occurrences of letters (both lowercase and uppercase\n",
    "    # characters)\n",
    "    for letter in s:\n",
    "    # Keys within the created dictionary are lowercase letters\n",
    "    # Values within the created dictionary are the concatenated same lowercase and uppercase letters\n",
    "        if letter.lower() not in myDict:\n",
    "            myDict[letter.lower()] = letter\n",
    "        else:\n",
    "            myDict[letter.lower()] += letter\n",
    "    # The dictionary is transformed into the list with iterables ([key, value]). Such a list is sorted:\n",
    "    my_arr = sorted(list(myDict.items()))\n",
    "    final = \"\" # The final empty string is initialized (it will store sorted elements from iterables)\n",
    "    for i, j in my_arr:\n",
    "        final += j\n",
    "    return final # The final string is returned\n",
    "\n",
    "alphabetized(\"The Holy Bible\")"
   ]
  }
 ],
 "metadata": {
  "kernelspec": {
   "display_name": "Python 3 (ipykernel)",
   "language": "python",
   "name": "python3"
  },
  "language_info": {
   "codemirror_mode": {
    "name": "ipython",
    "version": 3
   },
   "file_extension": ".py",
   "mimetype": "text/x-python",
   "name": "python",
   "nbconvert_exporter": "python",
   "pygments_lexer": "ipython3",
   "version": "3.9.7"
  }
 },
 "nbformat": 4,
 "nbformat_minor": 5
}
