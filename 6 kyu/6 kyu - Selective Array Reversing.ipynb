{
 "cells": [
  {
   "cell_type": "markdown",
   "id": "995e4738",
   "metadata": {},
   "source": [
    "### Selective Array Reversing - 6 kyu, Codewars/Python"
   ]
  },
  {
   "cell_type": "code",
   "execution_count": 18,
   "id": "80ff9628",
   "metadata": {},
   "outputs": [
    {
     "data": {
      "text/plain": [
       "[6, 4, 2, 12, 10, 8, 16, 14]"
      ]
     },
     "execution_count": 18,
     "metadata": {},
     "output_type": "execute_result"
    }
   ],
   "source": [
    "\"\"\"\n",
    "Given an array, return the reversed version of the array (a different kind of reverse though), \n",
    "you reverse portions of the array, you'll be given a length argument which represents the length of each \n",
    "portion you are to reverse.\n",
    "E.g\n",
    "\n",
    "selReverse([1,2,3,4,5,6], 2)\n",
    " //=> [2,1, 4,3, 6,5]\n",
    "if after reversing some portions of the array and the length of the remaining portion in the array is \n",
    "not up to the length argument, just reverse them.\n",
    "\n",
    "selReverse([2,4,6,8,10,12,14,16], 3)\n",
    " //=> [6,4,2, 12,10,8, 16,14]\n",
    "selReverse(array, length)\n",
    "\n",
    "array - array to reverse\n",
    "length - length of each portion to reverse\n",
    "Note : if the length argument exceeds the array length, reverse all of them, if the length argument is \n",
    "zero do not reverse at all.\n",
    "\"\"\"\n",
    "\n",
    "def sel_reverse(arr,l):\n",
    "    if not arr or not l: # If the given input array is empty or the portion parameter is 0 - we return just\n",
    "    # the original array\n",
    "        return arr\n",
    "    final = [] # The list container, which will store the reversed slices\n",
    "    length = len(arr) # The length of the given input array\n",
    "    # We need to calculate the number of essential loops for appending reversed slices to the rear of the list container\n",
    "    loops = length // l # The number of required loops\n",
    "    if loops < 1: # If the number of loops is smaller than 1 - we should return the reversed original array\n",
    "        return sorted(arr, reverse=True)\n",
    "    # Otherwise, we are going to implement the reversed slicing process:\n",
    "    # Indexation of slices:\n",
    "    i = 0\n",
    "    j = l\n",
    "    for _ in range(loops):\n",
    "        curSlice = arr[i:j] # We pick out the slice\n",
    "        curSlice = sorted(curSlice, reverse=True) # The slice is reversed\n",
    "        # Сoncatenation of the current slice and the list container:\n",
    "        final += curSlice\n",
    "        # Indexation of the current slice is shifted forward:\n",
    "        i += l \n",
    "        j += l\n",
    "    # Following the 'for loop' operation, if remaining elements don't exist within the given input array, \n",
    "    # we return the final list container with reversed numbers:\n",
    "    if length - (loops * l) == 0:\n",
    "        return final\n",
    "    # Otherwise, we reverse the remaining elements and append them to the final list container\n",
    "    curSlice = arr[loops * l:]\n",
    "    curSlice = sorted(curSlice, reverse=True)\n",
    "    final += curSlice\n",
    "    return final # The final list container is returned\n",
    "\n",
    "sel_reverse([2,4,6,8,10,12,14,16], 3)"
   ]
  }
 ],
 "metadata": {
  "kernelspec": {
   "display_name": "Python 3 (ipykernel)",
   "language": "python",
   "name": "python3"
  },
  "language_info": {
   "codemirror_mode": {
    "name": "ipython",
    "version": 3
   },
   "file_extension": ".py",
   "mimetype": "text/x-python",
   "name": "python",
   "nbconvert_exporter": "python",
   "pygments_lexer": "ipython3",
   "version": "3.9.7"
  }
 },
 "nbformat": 4,
 "nbformat_minor": 5
}
