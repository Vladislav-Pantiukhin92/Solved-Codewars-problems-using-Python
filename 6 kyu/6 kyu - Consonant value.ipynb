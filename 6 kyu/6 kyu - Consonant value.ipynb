{
 "cells": [
  {
   "cell_type": "markdown",
   "id": "789187d1",
   "metadata": {},
   "source": [
    "### Consonant value - 6 kyu, Codewars/Python"
   ]
  },
  {
   "cell_type": "code",
   "execution_count": 115,
   "id": "4fc1d270",
   "metadata": {},
   "outputs": [
    {
     "data": {
      "text/plain": [
       "57"
      ]
     },
     "execution_count": 115,
     "metadata": {},
     "output_type": "execute_result"
    }
   ],
   "source": [
    "\"\"\"\n",
    "Given a lowercase string that has alphabetic characters only and no spaces, return the highest value \n",
    "of consonant substrings. Consonants are any letters of the alphabet except \"aeiou\".\n",
    "We shall assign the following values: a = 1, b = 2, c = 3, .... z = 26.\n",
    "For example, for the word \"zodiacs\", let's cross out the vowels. We get: \"z o d ia cs\"\n",
    "\n",
    "-- The consonant substrings are: \"z\", \"d\" and \"cs\" and the values are z = 26, d = 4 and cs = 3 + 19 = 22. \n",
    "The highest is 26.\n",
    "solve(\"zodiacs\") = 26\n",
    "\n",
    "For the word \"strength\", solve(\"strength\") = 57\n",
    "-- The consonant substrings are: \"str\" and \"ngth\" with values \"str\" = 19 + 20 + 18 = 57 and \n",
    "\"ngth\" = 14 + 7 + 20 + 8 = 49. The high\n",
    "\"\"\"\n",
    "\n",
    "import string\n",
    "import re\n",
    "\n",
    "def solve(m_string):\n",
    "    lowercase_ = string.ascii_lowercase\n",
    "    # Let's create the function to filter the values\n",
    "    def filter_values(y):\n",
    "        if y[0] not in \"aeiou\":\n",
    "            return 1\n",
    "        return 0\n",
    "    # We create a zip list: letter-value correlation\n",
    "    consonant_values = list(filter(filter_values, list(zip(lowercase_, list(range(1, 27))))))\n",
    "    # Regular expressions to extract consonant patterns\n",
    "    filtered_m_string = re.findall(r\"[bcdfghjklmnpqrstvwxyz]+\", m_string)\n",
    "    # The final operation - the max value accumulation\n",
    "    max_value = 0\n",
    "    for i in filtered_m_string:\n",
    "        cur_value = 0\n",
    "        for j in i:\n",
    "            for w in consonant_values:\n",
    "                if w[0] == j:\n",
    "                    cur_value += w[1]\n",
    "        if cur_value > max_value:\n",
    "            max_value = cur_value\n",
    "    return max_value\n",
    " \n",
    "solve(\"strength\")"
   ]
  }
 ],
 "metadata": {
  "kernelspec": {
   "display_name": "Python 3",
   "language": "python",
   "name": "python3"
  },
  "language_info": {
   "codemirror_mode": {
    "name": "ipython",
    "version": 3
   },
   "file_extension": ".py",
   "mimetype": "text/x-python",
   "name": "python",
   "nbconvert_exporter": "python",
   "pygments_lexer": "ipython3",
   "version": "3.8.8"
  }
 },
 "nbformat": 4,
 "nbformat_minor": 5
}
