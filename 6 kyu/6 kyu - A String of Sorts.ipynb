{
 "cells": [
  {
   "cell_type": "markdown",
   "id": "a6eb8138",
   "metadata": {},
   "source": [
    "### A String of Sorts - 6 kyu, Codewars/Python"
   ]
  },
  {
   "cell_type": "code",
   "execution_count": 23,
   "id": "96cec065",
   "metadata": {},
   "outputs": [
    {
     "data": {
      "text/plain": [
       "'oofs'"
      ]
     },
     "execution_count": 23,
     "metadata": {},
     "output_type": "execute_result"
    }
   ],
   "source": [
    "\"\"\"\n",
    "Define a method that accepts 2 strings as parameters. The method returns the first string sorted by the second.\n",
    "sort_string(\"foos\", \"of\")       == \"oofs\"\n",
    "sort_string(\"string\", \"gnirts\") == \"gnirts\"\n",
    "sort_string(\"banana\", \"abn\")    == \"aaabnn\"\n",
    "To elaborate, the second string defines the ordering. It is possible that in the second string characters \n",
    "repeat, so you should remove repeating characters, leaving only the first occurrence.\n",
    "Any character in the first string that does not appear in the second string should be sorted to the end \n",
    "of the result in original order.\n",
    "\"\"\"\n",
    "\n",
    "def sort_string(s, ordering):\n",
    "# First of all, we should eradicate duplicates from the ordering. It will be achieved through \n",
    "# the implementation of the dictionary with occurrences. The point is that we need to preserve only the first \n",
    "# occurrence of the value:\n",
    "    without_duplicates = \"\"\n",
    "    myDict = {} # The created dictionary\n",
    "    for i in ordering:\n",
    "        if i not in myDict:\n",
    "            myDict[i] = 1\n",
    "            without_duplicates += i # Only the first occurrence will be preserved\n",
    "    final = \"\"\n",
    "    # Right now it is necessary to loop over the ordering string without duplicates and store the specific number\n",
    "    # characters from \"s\" in the same order:\n",
    "    for j in without_duplicates:\n",
    "        letters = s.count(j) * j\n",
    "        final += letters\n",
    "        s = s.replace(j, \"\") # Those characters from 's', which have already been stored, should be deleted\n",
    "    # Finally, the letters, which don't appear within the ordering string, should be appended as well\n",
    "    final += s\n",
    "    return final # The final string is returned\n",
    "\n",
    "sort_string(\"foos\", \"of\")"
   ]
  }
 ],
 "metadata": {
  "kernelspec": {
   "display_name": "Python 3 (ipykernel)",
   "language": "python",
   "name": "python3"
  },
  "language_info": {
   "codemirror_mode": {
    "name": "ipython",
    "version": 3
   },
   "file_extension": ".py",
   "mimetype": "text/x-python",
   "name": "python",
   "nbconvert_exporter": "python",
   "pygments_lexer": "ipython3",
   "version": "3.9.7"
  }
 },
 "nbformat": 4,
 "nbformat_minor": 5
}
