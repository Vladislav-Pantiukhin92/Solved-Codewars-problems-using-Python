{
 "cells": [
  {
   "cell_type": "markdown",
   "id": "8882c048",
   "metadata": {},
   "source": [
    "### Fold an array - 6 kyu, Codewars/Python"
   ]
  },
  {
   "cell_type": "code",
   "execution_count": 2,
   "id": "94e19184",
   "metadata": {},
   "outputs": [
    {
     "name": "stdout",
     "output_type": "stream",
     "text": [
      "[14, 75, 0]\n"
     ]
    }
   ],
   "source": [
    "\"\"\"\n",
    "In this kata you have to write a method that folds a given array of integers by the middle x-times.\n",
    "An example says more than thousand words:\n",
    "\n",
    "Fold 1-times:\n",
    "[1,2,3,4,5] -> [6,6,3]\n",
    "\n",
    "A little visualization (NOT for the algorithm but for the idea of folding):\n",
    "\n",
    " Step 1         Step 2        Step 3       Step 4       Step5\n",
    "                     5/           5|         5\\          \n",
    "                    4/            4|          4\\      \n",
    "1 2 3 4 5      1 2 3/         1 2 3|       1 2 3\\       6 6 3\n",
    "----*----      ----*          ----*        ----*        ----*\n",
    "\n",
    "\n",
    "Fold 2-times:\n",
    "[1,2,3,4,5] -> [9,6]\n",
    "As you see, if the count of numbers is odd, the middle number will stay. Otherwise the fold-point is \n",
    "between the middle-numbers, so all numbers would be added in a way.\n",
    "\n",
    "The array will always contain numbers and will never be null. The parameter runs will always be a \n",
    "positive integer greater than 0 and says how many runs of folding your method has to do.\n",
    "If an array with one element is folded, it stays as the same array.\n",
    "The input array should not be modified!\n",
    "Have fun coding it and please don't forget to vote and rank this kata! :-)\n",
    "I have created other katas. Have a look if you like coding and challenges.\n",
    "\"\"\"\n",
    "\n",
    "from operator import * # 'operator.add' will be used to sum all the relevant numbers\n",
    "\n",
    "def fold_array(array, runs):\n",
    "    if eq(len(array), 1): # The case, when the length of the given input array is 1, we just return it without\n",
    "        # amendments\n",
    "        return array\n",
    "    target = array.copy() # We are not going to mutate the input, so we will utilize the copied array option\n",
    "    for _ in range(runs): # The 'for loop' within the 'runs' number of time:\n",
    "        temp_arr = []\n",
    "        if len(target) % 2 == 0: # The case, when we deal with the even length\n",
    "            i = 0 # The folding process starts with the addition of the first and the last elements with the \n",
    "            # subsequent procedure of moving forward and backward:\n",
    "            j = len(target) - 1\n",
    "            while i < j:\n",
    "                temp_arr.append(add(target[i], target[j])) # The addition result is appended to the temporary array\n",
    "                i += 1\n",
    "                j -= 1\n",
    "        else: # The case, when we deal with the odd length\n",
    "    # The folding process starts with the addition of the first and the last elements with the subsequent procedure of\n",
    "    # moving forward and backward:\n",
    "            i = 0\n",
    "            j = len(target) - 1\n",
    "            while i < j:\n",
    "                temp_arr.append(add(target[i], target[j])) # The addition result is appended to the temporary array\n",
    "                i += 1\n",
    "                j -= 1\n",
    "            temp_arr.append(target[i])\n",
    "        target = temp_arr.copy()\n",
    "    return target # The folded array is finally returned\n",
    "\n",
    "print(fold_array([-9, 9, -8, 8, 66, 23], 1))"
   ]
  }
 ],
 "metadata": {
  "kernelspec": {
   "display_name": "Python 3 (ipykernel)",
   "language": "python",
   "name": "python3"
  },
  "language_info": {
   "codemirror_mode": {
    "name": "ipython",
    "version": 3
   },
   "file_extension": ".py",
   "mimetype": "text/x-python",
   "name": "python",
   "nbconvert_exporter": "python",
   "pygments_lexer": "ipython3",
   "version": "3.9.7"
  }
 },
 "nbformat": 4,
 "nbformat_minor": 5
}
