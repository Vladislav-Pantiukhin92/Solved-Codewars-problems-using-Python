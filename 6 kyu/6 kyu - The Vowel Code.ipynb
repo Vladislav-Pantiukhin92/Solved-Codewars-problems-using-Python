{
 "cells": [
  {
   "cell_type": "markdown",
   "id": "f39f8516",
   "metadata": {},
   "source": [
    "### The Vowel Code - 6 kyu, Codewars/Python"
   ]
  },
  {
   "cell_type": "code",
   "execution_count": 29,
   "id": "8e0fe2ce",
   "metadata": {},
   "outputs": [
    {
     "name": "stdout",
     "output_type": "stream",
     "text": [
      "h2ll4\n"
     ]
    },
    {
     "data": {
      "text/plain": [
       "'hi there'"
      ]
     },
     "execution_count": 29,
     "metadata": {},
     "output_type": "execute_result"
    }
   ],
   "source": [
    "\"\"\"\n",
    "Step 1: Create a function called encode() to replace all the lowercase vowels in a given string with \n",
    "numbers according to the following pattern:\n",
    "\n",
    "a -> 1\n",
    "e -> 2\n",
    "i -> 3\n",
    "o -> 4\n",
    "u -> 5\n",
    "For example, encode(\"hello\") would return \"h2ll4\". There is no need to worry about uppercase vowels in \n",
    "this kata.\n",
    "Step 2: Now create a function called decode() to turn the numbers back into vowels according to the same \n",
    "pattern shown above.\n",
    "For example, decode(\"h3 th2r2\") would return \"hi there\".\n",
    "For the sake of simplicity, you can assume that any numbers passed into the function will correspond to vowels.\n",
    "\"\"\"\n",
    "\n",
    "# The easiest way to implement the solution is to utilize the string method str.maketrans() with str.translate()\n",
    "\n",
    "def encode(st):\n",
    "    table = str.maketrans(\"aeiou\", \"12345\") # The string method str.maketrans() - conversion of letters to numbers\n",
    "    return st.translate(table) # The converted result is returned\n",
    "    \n",
    "def decode(st):\n",
    "    table = str.maketrans(\"12345\", \"aeiou\") # The string method str.maketrans() - conversion of numbers to letters\n",
    "    return st.translate(table) # The converted result is returned\n",
    "\n",
    "print(encode(\"hello\"))\n",
    "decode(\"h3 th2r2\")"
   ]
  }
 ],
 "metadata": {
  "kernelspec": {
   "display_name": "Python 3 (ipykernel)",
   "language": "python",
   "name": "python3"
  },
  "language_info": {
   "codemirror_mode": {
    "name": "ipython",
    "version": 3
   },
   "file_extension": ".py",
   "mimetype": "text/x-python",
   "name": "python",
   "nbconvert_exporter": "python",
   "pygments_lexer": "ipython3",
   "version": "3.9.7"
  }
 },
 "nbformat": 4,
 "nbformat_minor": 5
}
