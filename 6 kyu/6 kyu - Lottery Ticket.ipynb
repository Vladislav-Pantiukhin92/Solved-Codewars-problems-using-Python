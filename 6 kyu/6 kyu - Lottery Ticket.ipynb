{
 "cells": [
  {
   "cell_type": "markdown",
   "id": "dcbae4b3",
   "metadata": {},
   "source": [
    "### Lottery Ticket - 6 kyu, Codewars/Python"
   ]
  },
  {
   "cell_type": "code",
   "execution_count": 58,
   "id": "f7767dc5",
   "metadata": {},
   "outputs": [
    {
     "data": {
      "text/plain": [
       "'Loser!'"
      ]
     },
     "execution_count": 58,
     "metadata": {},
     "output_type": "execute_result"
    }
   ],
   "source": [
    "\"\"\"\n",
    "Time to win the lottery!\n",
    "Given a lottery ticket (ticket), represented by an array of 2-value arrays, you must find out if you've \n",
    "won the jackpot.\n",
    "Example ticket:\n",
    "\n",
    "[ [ 'ABC', 65 ], [ 'HGR', 74 ], [ 'BYHT', 74 ] ]\n",
    "To do this, you must first count the 'mini-wins' on your ticket. Each subarray has both a string and \n",
    "a number within it. If the character code of any of the characters in the string matches the number, \n",
    "you get a mini win. Note you can only have one mini win per sub array.\n",
    "\n",
    "Once you have counted all of your mini wins, compare that number to the other input provided (win). \n",
    "If your total is more than or equal to (win), return 'Winner!'. Else return 'Loser!'.\n",
    "All inputs will be in the correct format. Strings on tickets are not always the same length.\n",
    "\"\"\"\n",
    "\n",
    "def bingo(ticket,win):\n",
    "    mini_wins = 0 # The initial number of mini_wins is 0\n",
    "    for i, j in ticket: # Through the 'for loop' we are going to obtain the character code of letters:\n",
    "        characters = list(map(lambda x: ord(x), list(i)))\n",
    "        if j in characters: # If the character code of the letter equals to the second argument within each \n",
    "            # iterable - the number of mini_wins is increased by 1\n",
    "            mini_wins += 1\n",
    "    if mini_wins >= win: # Finally, if the number of mini_wins equals to or larger than the 'win' argument - \n",
    "        # we return \"Winner!\"\n",
    "        return \"Winner!\"\n",
    "    return \"Loser!\" # Alternatively, we return \"Loser!\"\n",
    "\n",
    "bingo([[\"ABC\", 65],[\"HGR\", 74],[\"BYHT\", 74]], 2)"
   ]
  }
 ],
 "metadata": {
  "kernelspec": {
   "display_name": "Python 3 (ipykernel)",
   "language": "python",
   "name": "python3"
  },
  "language_info": {
   "codemirror_mode": {
    "name": "ipython",
    "version": 3
   },
   "file_extension": ".py",
   "mimetype": "text/x-python",
   "name": "python",
   "nbconvert_exporter": "python",
   "pygments_lexer": "ipython3",
   "version": "3.9.7"
  }
 },
 "nbformat": 4,
 "nbformat_minor": 5
}
