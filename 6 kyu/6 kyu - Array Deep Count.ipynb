{
 "cells": [
  {
   "cell_type": "markdown",
   "id": "d60870d2",
   "metadata": {},
   "source": [
    "### Array Deep Count - 6 kyu, Codewars/Python"
   ]
  },
  {
   "cell_type": "code",
   "execution_count": 355,
   "id": "0f4717c0",
   "metadata": {},
   "outputs": [
    {
     "data": {
      "text/plain": [
       "4"
      ]
     },
     "execution_count": 355,
     "metadata": {},
     "output_type": "execute_result"
    }
   ],
   "source": [
    "\"\"\"\n",
    "len(a) will give you the number of top-level elements in the list/array named a.\n",
    "Your task is to create a function deepCount that returns the number of ALL elements within an array, including any within inner-level arrays.\n",
    "For example:\n",
    "\n",
    "deepCount([1, 2, 3]);  \n",
    "//>>>>> 3\n",
    "deepCount([\"x\", \"y\", [\"z\"]]);  \n",
    "//>>>>> 4\n",
    "deepCount([1, 2, [3, 4, [5]]]);  \n",
    "//>>>>> 7\n",
    "The input will always be an array.\n",
    "\"\"\"\n",
    "\n",
    "def deep_count(lst):\n",
    "    count = 0\n",
    "    final = []\n",
    "    for i in lst:\n",
    "    # If the element is not of the list type - we count it as one\n",
    "    # If the list is encountered, then we add it to another list, which we can loop over later\n",
    "        if isinstance(i, list): \n",
    "            final += i\n",
    "            count += 1\n",
    "        else:\n",
    "            count += 1\n",
    "\n",
    "    while len(final) > 0: # If the final list is empty, it means that there are no more inner structures\n",
    "        # So we can finish all the iterations\n",
    "        lst = final\n",
    "        final = []\n",
    "        for i in lst:\n",
    "            if isinstance(i, list):\n",
    "                final += i\n",
    "                count += 1\n",
    "            else:\n",
    "                count += 1\n",
    "    return count\n",
    "                \n",
    "deep_count([\"x\", \"y\", [\"z\"]])"
   ]
  }
 ],
 "metadata": {
  "kernelspec": {
   "display_name": "Python 3 (ipykernel)",
   "language": "python",
   "name": "python3"
  },
  "language_info": {
   "codemirror_mode": {
    "name": "ipython",
    "version": 3
   },
   "file_extension": ".py",
   "mimetype": "text/x-python",
   "name": "python",
   "nbconvert_exporter": "python",
   "pygments_lexer": "ipython3",
   "version": "3.9.7"
  }
 },
 "nbformat": 4,
 "nbformat_minor": 5
}
