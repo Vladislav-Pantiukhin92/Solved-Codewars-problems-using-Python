{
 "cells": [
  {
   "cell_type": "markdown",
   "id": "c1251bcc",
   "metadata": {},
   "source": [
    "### Arrh, grabscrab! - 6 kyu, Codewars/Python"
   ]
  },
  {
   "cell_type": "code",
   "execution_count": 36,
   "id": "4ed82417",
   "metadata": {},
   "outputs": [
    {
     "data": {
      "text/plain": [
       "['sport', 'ports']"
      ]
     },
     "execution_count": 36,
     "metadata": {},
     "output_type": "execute_result"
    }
   ],
   "source": [
    "\"\"\"\n",
    "Pirates have notorious difficulty with enunciating. They tend to blur all the letters together and scream at people.\n",
    "At long last, we need a way to unscramble what these pirates are saying.\n",
    "Write a function that will accept a jumble of letters as well as a dictionary, and output a list of words \n",
    "that the pirate might have meant.\n",
    "For example:\n",
    "grabscrab( \"ortsp\", [\"sport\", \"parrot\", \"ports\", \"matey\"] )\n",
    "Should return [\"sport\", \"ports\"].\n",
    "Return matches in the same order as in the dictionary. Return an empty array if there are no matches.\n",
    "Good luck!\n",
    "\"\"\"\n",
    "\n",
    "def grabscrab(word, possible_words):\n",
    "    final = [] # The list container, which will store the pertinent words\n",
    "    # The following operation is to sort the input word as well as elements of the list\n",
    "    # In this case it is feasible to find the same combinations of letters, which will be finally returned as a list\n",
    "    word = \"\".join(sorted(word))\n",
    "    sorted_words = list(map(lambda x: \"\".join(sorted(x)), possible_words))\n",
    "    for i, j in enumerate(sorted_words): # If we find the combination of letters, which is similar to the input \n",
    "    # word, through the 'enumerate' function, using the pertinent index, we find the corresponding word, which \n",
    "    # is appended to the rear of the final list\n",
    "        if j == word:\n",
    "            curElement = possible_words[i]\n",
    "            final.append(curElement)\n",
    "    return final # The final list is returned\n",
    "\n",
    "grabscrab(\"ortsp\", [\"sport\", \"parrot\", \"ports\", \"matey\"])"
   ]
  }
 ],
 "metadata": {
  "kernelspec": {
   "display_name": "Python 3 (ipykernel)",
   "language": "python",
   "name": "python3"
  },
  "language_info": {
   "codemirror_mode": {
    "name": "ipython",
    "version": 3
   },
   "file_extension": ".py",
   "mimetype": "text/x-python",
   "name": "python",
   "nbconvert_exporter": "python",
   "pygments_lexer": "ipython3",
   "version": "3.9.7"
  }
 },
 "nbformat": 4,
 "nbformat_minor": 5
}
