{
 "cells": [
  {
   "cell_type": "markdown",
   "id": "c9873122",
   "metadata": {},
   "source": [
    "### Rotate Array (JS) - 6 kyu, Codewars/Python"
   ]
  },
  {
   "cell_type": "code",
   "execution_count": 65,
   "id": "510b363d",
   "metadata": {},
   "outputs": [
    {
     "data": {
      "text/plain": [
       "[4, 5, 1, 2, 3]"
      ]
     },
     "execution_count": 65,
     "metadata": {},
     "output_type": "execute_result"
    }
   ],
   "source": [
    "\"\"\"\n",
    "Note: This kata is a translation of this (Java) one: http://www.codewars.com/kata/rotate-array. \n",
    "I have not translated this first one as usual because I did not solved it, and I fear not being able to \n",
    "solve it (Java is not my cup of... tea). @cjmcgraw, if you want to use my translation on your kata feel \n",
    "free to use it.\n",
    "Create a function named \"rotate\" that takes an array and returns a new one with the elements inside \n",
    "rotated n spaces.\n",
    "If n is greater than 0 it should rotate the array to the right. If n is less than 0 it should rotate \n",
    "the array to the left. If n is 0, then it should return the array unchanged.\n",
    "Example:\n",
    "\n",
    "data = [1, 2, 3, 4, 5];\n",
    "\n",
    "rotate(data, 1) # => [5, 1, 2, 3, 4]\n",
    "rotate(data, 2) # => [4, 5, 1, 2, 3]\n",
    "rotate(data, 3) # => [3, 4, 5, 1, 2]\n",
    "rotate(data, 4) # => [2, 3, 4, 5, 1]\n",
    "rotate(data, 5) # => [1, 2, 3, 4, 5]\n",
    "\n",
    "rotate(data, 0) # => [1, 2, 3, 4, 5]\n",
    "\n",
    "rotate(data, -1) # => [2, 3, 4, 5, 1]\n",
    "rotate(data, -2) # => [3, 4, 5, 1, 2]\n",
    "rotate(data, -3) # => [4, 5, 1, 2, 3]\n",
    "rotate(data, -4) # => [5, 1, 2, 3, 4]\n",
    "rotate(data, -5) # => [1, 2, 3, 4, 5]\n",
    "Furthermore the method should take ANY array of objects and perform this operation on them:\n",
    "\n",
    "rotate(['a', 'b', 'c'], 1)     # => ['c', 'a', 'b']\n",
    "rotate([1.0, 2.0, 3.0], 1)     # => [3.0, 1.0, 2.0]\n",
    "rotate([True, True, False], 1) # => [False, True, True]\n",
    "Finally the rotation shouldn't be limited by the indices available in the array. Meaning that if we exceed the indices of the array it keeps rotating.\n",
    "Example:\n",
    "data = [1, 2, 3, 4, 5]\n",
    "\n",
    "rotate(data, 7)     # => [4, 5, 1, 2, 3]\n",
    "rotate(data, 11)    # => [5, 1, 2, 3, 4]\n",
    "rotate(data, 12478) # => [3, 4, 5, 1, 2]\n",
    "\"\"\"\n",
    "\n",
    "from collections import deque # 'collections.deque' - let's import a double-ended queue\n",
    "\n",
    "def rotate(arr, n):\n",
    "    if n == 0: # It means that it is unnecessary to rotate the input array, so the original array is returned\n",
    "        return arr\n",
    "    else:\n",
    "        arr = deque(arr) # We need to import a double-ended queue to carry out both-sided manipulations with the input array\n",
    "        if n > 0: # The left-right rotation\n",
    "            for _ in range(n):\n",
    "            # We are going to pop the last element and add it to the front of the input array\n",
    "                curElement = arr.pop()\n",
    "                arr.appendleft(curElement)\n",
    "            return list(arr) # The rotated array is returned\n",
    "        else: # The right-left rotation\n",
    "            for _ in range(abs(n)):\n",
    "            # We are going to pop the first element and add it to the rear of the input array\n",
    "                curElement = arr.popleft()\n",
    "                arr.append(curElement)\n",
    "            return list(arr) # The rotated array is returned\n",
    "        \n",
    "rotate([1, 2, 3, 4, 5], 7)"
   ]
  }
 ],
 "metadata": {
  "kernelspec": {
   "display_name": "Python 3 (ipykernel)",
   "language": "python",
   "name": "python3"
  },
  "language_info": {
   "codemirror_mode": {
    "name": "ipython",
    "version": 3
   },
   "file_extension": ".py",
   "mimetype": "text/x-python",
   "name": "python",
   "nbconvert_exporter": "python",
   "pygments_lexer": "ipython3",
   "version": "3.9.7"
  }
 },
 "nbformat": 4,
 "nbformat_minor": 5
}
