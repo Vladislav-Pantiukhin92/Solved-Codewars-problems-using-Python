{
 "cells": [
  {
   "cell_type": "markdown",
   "id": "3c804468",
   "metadata": {},
   "source": [
    "### Split and then add both sides of an array together. - 6 kyu, Codewars/Python"
   ]
  },
  {
   "cell_type": "code",
   "execution_count": 5,
   "id": "a65bb0ec",
   "metadata": {},
   "outputs": [
    {
     "data": {
      "text/plain": [
       "[10, 18]"
      ]
     },
     "execution_count": 5,
     "metadata": {},
     "output_type": "execute_result"
    }
   ],
   "source": [
    "\"\"\"\n",
    "Task\n",
    "You will receive an array as parameter that contains 1 or more integers and a number n.\n",
    "Here is a little visualization of the process:\n",
    "Step 1: Split the array in two:\n",
    "\n",
    "[1, 2, 5, 7, 2, 3, 5, 7, 8]\n",
    "      /            \\\n",
    "[1, 2, 5, 7]    [2, 3, 5, 7, 8]\n",
    "Step 2: Put the arrays on top of each other:\n",
    "\n",
    "   [1, 2, 5, 7]\n",
    "[2, 3, 5, 7, 8]\n",
    "Step 3: Add them together:\n",
    "\n",
    "[2, 4, 7, 12, 15]\n",
    "Repeat the above steps n times or until there is only one number left, and then return the array.\n",
    "Example\n",
    "Input: arr=[4, 2, 5, 3, 2, 5, 7], n=2\n",
    "\n",
    "Round 1\n",
    "-------\n",
    "step 1: [4, 2, 5]  [3, 2, 5, 7]\n",
    "\n",
    "step 2:    [4, 2, 5]\n",
    "        [3, 2, 5, 7]\n",
    "\n",
    "step 3: [3, 6, 7, 12]\n",
    "\n",
    "Round 2\n",
    "-------\n",
    "step 1: [3, 6]  [7, 12]\n",
    "\n",
    "step 2:  [3,  6]\n",
    "         [7, 12]\n",
    "\n",
    "step 3: [10, 18]\n",
    "\n",
    "Result: [10, 18]\n",
    "\"\"\"\n",
    "\n",
    "def split_and_add(numbers, n):\n",
    "    while n > 0 and len(numbers) > 1: # While the 'n' >= 0 and the length of the given input numeric array is valid - \n",
    "        # we execute the code:\n",
    "        temp_array = []\n",
    "        first = numbers[:len(numbers) // 2] # The first part of the array\n",
    "        last = numbers[len(numbers) // 2:] # The second part of the array\n",
    "        # The addition process starts with the last indices:\n",
    "        i = len(first) - 1 # The last index of the first part of the array\n",
    "        j = len(last) - 1 # The last index of the second part of the array\n",
    "        while i >= 0 and j >= 0:\n",
    "            # The addition process:\n",
    "            temp_array = [first[i] + last[j]] + temp_array\n",
    "            i -= 1\n",
    "            j -= 1\n",
    "        # The case, when two parts of the array are not equal:\n",
    "        if i >= 0:\n",
    "            temp_array = first[:i + 1] + temp_array\n",
    "        elif j >= 0:\n",
    "            temp_array = last[:j + 1] + temp_array\n",
    "        numbers = temp_array.copy()\n",
    "        n -= 1\n",
    "    return numbers # The final array is returned\n",
    "\n",
    "split_and_add([4, 2, 5, 3, 2, 5, 7], 2)"
   ]
  }
 ],
 "metadata": {
  "kernelspec": {
   "display_name": "Python 3 (ipykernel)",
   "language": "python",
   "name": "python3"
  },
  "language_info": {
   "codemirror_mode": {
    "name": "ipython",
    "version": 3
   },
   "file_extension": ".py",
   "mimetype": "text/x-python",
   "name": "python",
   "nbconvert_exporter": "python",
   "pygments_lexer": "ipython3",
   "version": "3.9.7"
  }
 },
 "nbformat": 4,
 "nbformat_minor": 5
}
