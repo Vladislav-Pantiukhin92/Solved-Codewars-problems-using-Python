{
 "cells": [
  {
   "cell_type": "markdown",
   "id": "66e7adf8",
   "metadata": {},
   "source": [
    "### Which are in? - 6 kyu, Codewars/Python"
   ]
  },
  {
   "cell_type": "code",
   "execution_count": 186,
   "id": "5c0d0a04",
   "metadata": {},
   "outputs": [
    {
     "data": {
      "text/plain": [
       "[]"
      ]
     },
     "execution_count": 186,
     "metadata": {},
     "output_type": "execute_result"
    }
   ],
   "source": [
    "\"\"\"\n",
    "Given two arrays of strings a1 and a2 return a sorted array r in lexicographical order of the strings of a1 which are substrings of strings of a2.\n",
    "Example 1:\n",
    "a1 = [\"arp\", \"live\", \"strong\"]\n",
    "\n",
    "a2 = [\"lively\", \"alive\", \"harp\", \"sharp\", \"armstrong\"]\n",
    "\n",
    "returns [\"arp\", \"live\", \"strong\"]\n",
    "\n",
    "Example 2:\n",
    "a1 = [\"tarp\", \"mice\", \"bull\"]\n",
    "\n",
    "a2 = [\"lively\", \"alive\", \"harp\", \"sharp\", \"armstrong\"]\n",
    "\n",
    "returns []\n",
    "\n",
    "Notes:\n",
    "Arrays are written in \"general\" notation. See \"Your Test Cases\" for examples in your language.\n",
    "In Shell bash a1 and a2 are strings. The return is a string where words are separated by commas.\n",
    "Beware: r must be without duplicates.\n",
    "\"\"\"\n",
    "\n",
    "import re\n",
    "# Regular expressions will be used to find patterns of array1 within array2\n",
    "def in_array(array1, array2):\n",
    "    my_string = \"-\".join(array2)\n",
    "    final = []\n",
    "    for i in array1:\n",
    "        if re.search(i, my_string):\n",
    "            final.append(i)\n",
    "    return sorted(list(set(final))) # Set is used to eradicate duplicates\n",
    "        \n",
    "in_array([\"tarp\", \"mice\", \"bull\"], [\"lively\", \"alive\", \"harp\", \"sharp\", \"armstrong\"])"
   ]
  }
 ],
 "metadata": {
  "kernelspec": {
   "display_name": "Python 3",
   "language": "python",
   "name": "python3"
  },
  "language_info": {
   "codemirror_mode": {
    "name": "ipython",
    "version": 3
   },
   "file_extension": ".py",
   "mimetype": "text/x-python",
   "name": "python",
   "nbconvert_exporter": "python",
   "pygments_lexer": "ipython3",
   "version": "3.8.8"
  }
 },
 "nbformat": 4,
 "nbformat_minor": 5
}
