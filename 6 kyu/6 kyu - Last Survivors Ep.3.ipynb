{
 "cells": [
  {
   "cell_type": "markdown",
   "id": "79a9a4c9",
   "metadata": {},
   "source": [
    "### Last Survivors Ep.3 - 6 kyu, Codewars/Python"
   ]
  },
  {
   "cell_type": "code",
   "execution_count": 753,
   "id": "cd140afc",
   "metadata": {},
   "outputs": [
    {
     "data": {
      "text/plain": [
       "'a'"
      ]
     },
     "execution_count": 753,
     "metadata": {},
     "output_type": "execute_result"
    }
   ],
   "source": [
    "\"\"\"\n",
    "Given a list of strings (of letters and spaces), and a list of numbers:\n",
    "Considering the list of strings as a 2D character array, the idea is to remove from each column, \n",
    "starting from bottom, as many letters as indicated in the list of numbers. Then return the remaining \n",
    "letters in any order as a string.\n",
    "\n",
    "If there aren't enough letters, just remove those you can.\n",
    "The strings in the list will all be of the same length.\n",
    "The list of numbers will be of the same length as the strings in the list of strings.\n",
    "Strings will contain only lowercase letters and spaces.\n",
    "There can be duplicated letters and numbers.\n",
    "Example:\n",
    "strings\n",
    "\n",
    "[\"abc\", \n",
    " \" z \", \n",
    " \" a \"]\n",
    "numbers\n",
    "\n",
    " [0,4,1]\n",
    "the output would be \"a\".\n",
    "\"\"\"\n",
    "\n",
    "def last_survivors(arr, nums):\n",
    "    print(arr, nums)\n",
    "    if len(arr) > 1: # As we are taking up the bottom-up direction, it is convenient to reverse the order\n",
    "        arr = arr[::-1]\n",
    "    for i in range(len(nums)):\n",
    "        if nums[i] == 0: # If there are 0 changes in nums - we pass it\n",
    "            pass\n",
    "        elif nums[i] > len(arr): # If there are more changes than values - we erase all values\n",
    "            index = 0\n",
    "            while index < len(arr):\n",
    "                if arr[index][i].isalpha(): # We should verify the existence of letters\n",
    "                    arr[index] = arr[index].replace(arr[index][i], \" \")\n",
    "                    index += 1\n",
    "                else:\n",
    "                    index += 1\n",
    "        else:\n",
    "            count = nums[i] # Otherwise, we introduce the counter to monitor the number of changes\n",
    "            index = 0\n",
    "            while count > 0 and index < len(arr):\n",
    "                if arr[index][i].isalpha(): # We should verify the existence of letters\n",
    "                    arr[index] = arr[index].replace(arr[index][i], \" \")\n",
    "                    index += 1\n",
    "                    count -= 1\n",
    "                else:\n",
    "                    index += 1\n",
    "    return \"\".join(arr).replace(\" \", \"\")\n",
    "                \n",
    "        \n",
    "last_survivors([\"abc\", \" z \", \" a \"], [0,4,1])"
   ]
  }
 ],
 "metadata": {
  "kernelspec": {
   "display_name": "Python 3",
   "language": "python",
   "name": "python3"
  },
  "language_info": {
   "codemirror_mode": {
    "name": "ipython",
    "version": 3
   },
   "file_extension": ".py",
   "mimetype": "text/x-python",
   "name": "python",
   "nbconvert_exporter": "python",
   "pygments_lexer": "ipython3",
   "version": "3.8.8"
  }
 },
 "nbformat": 4,
 "nbformat_minor": 5
}
