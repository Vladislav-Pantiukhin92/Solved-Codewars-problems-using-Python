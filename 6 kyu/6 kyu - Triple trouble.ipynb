{
 "cells": [
  {
   "cell_type": "markdown",
   "id": "20f1e6b4",
   "metadata": {},
   "source": [
    "### Triple trouble - 6 kyu, Codewars/Python"
   ]
  },
  {
   "cell_type": "code",
   "execution_count": 42,
   "id": "ad844928",
   "metadata": {},
   "outputs": [
    {
     "data": {
      "text/plain": [
       "1"
      ]
     },
     "execution_count": 42,
     "metadata": {},
     "output_type": "execute_result"
    }
   ],
   "source": [
    "\"\"\"\n",
    "Write a function\n",
    "triple_double(num1, num2)\n",
    "which takes numbers num1 and num2 and returns 1 if there is a straight triple of a number at any place in \n",
    "num1 and also a straight double of the same number in num2.\n",
    "\n",
    "If this isn't the case, return 0\n",
    "Examples\n",
    "\n",
    "triple_double(451999277, 41177722899) == 1\n",
    "# num1 has straight triple 999s and num2 has straight double 99s\n",
    "triple_double(1222345, 12345) == 0\n",
    "# num1 has straight triple 2s but num2 has only a single 2\n",
    "\n",
    "triple_double(12345, 12345) == 0\n",
    "triple_double(666789, 12345667) == 1\n",
    "\"\"\"\n",
    "\n",
    "import string # Let's import digits (0-9) from the string module\n",
    "import re # Regular expressions will help to find triple and double patterns within the first and the second \n",
    "# input integers\n",
    "\n",
    "def triple_double(num1, num2):\n",
    "    digits = string.digits # Digits (0-9) from the string module\n",
    "    count = 0 # The variable will count the number of triple and double patterns, \n",
    "    # which is finally to be returned\n",
    "    for i in digits:\n",
    "        triple = i * 3\n",
    "        double = i * 2\n",
    "        # The use of regular expressions to find patterns\n",
    "        result1 = re.findall(triple, str(num1))\n",
    "        result2 = re.findall(double, str(num2))\n",
    "        if result1 and result2: # If the pattern is found both within the first and the second input integers - \n",
    "            # the 'count' variable is increased by 1\n",
    "            count += 1\n",
    "    return count # The final 'count' result is returned\n",
    "\n",
    "triple_double(666789, 12345667)"
   ]
  }
 ],
 "metadata": {
  "kernelspec": {
   "display_name": "Python 3 (ipykernel)",
   "language": "python",
   "name": "python3"
  },
  "language_info": {
   "codemirror_mode": {
    "name": "ipython",
    "version": 3
   },
   "file_extension": ".py",
   "mimetype": "text/x-python",
   "name": "python",
   "nbconvert_exporter": "python",
   "pygments_lexer": "ipython3",
   "version": "3.9.7"
  }
 },
 "nbformat": 4,
 "nbformat_minor": 5
}
