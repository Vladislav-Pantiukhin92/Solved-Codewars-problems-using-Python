{
 "cells": [
  {
   "cell_type": "markdown",
   "id": "ecec9328",
   "metadata": {},
   "source": [
    "### Numerical Palindrome #5 - 6 kyu, Codewars/Python"
   ]
  },
  {
   "cell_type": "code",
   "execution_count": null,
   "id": "7aaa7c73",
   "metadata": {},
   "outputs": [],
   "source": [
    "\"\"\"\n",
    "A palindrome is a word, phrase, number, or other sequence of characters which reads the same backward as forward. Examples of numerical palindromes are:\n",
    "\n",
    "- 232\n",
    "- 110011\n",
    "- 54322345\n",
    "\n",
    "Complete the function to test if the given number (num) can be rearranged to form a numerical palindrome or not. Return a boolean (true if it can be rearranged to a palindrome, and false if it cannot). Return \"Not valid\" if the input is not an integer or is less than 0.\n",
    "\n",
    "For this kata, single digit numbers are NOT considered numerical palindromes.\n",
    "\n",
    "Examples\n",
    "5        =>  false\n",
    "2121     =>  true\n",
    "1331     =>  true \n",
    "3357665  =>  true \n",
    "1294     =>  false \n",
    "\"109982\" =>  \"Not valid\"\n",
    "-42      =>  \"Not valid\"\n",
    "\"\"\"\n",
    "\n",
    "\n",
    "from itertools import groupby\n",
    "\n",
    "def palindrome(number):\n",
    "    if not isinstance(number, int): # If the number is not of integer type - the value is not valid\n",
    "        return \"Not valid\"\n",
    "    elif number < 10: # Verification of values below 10\n",
    "        if number < 0:\n",
    "            return \"Not valid\"\n",
    "        else:\n",
    "            return False\n",
    "    else:\n",
    "        final = []\n",
    "        string_number = sorted(str(number))\n",
    "        if len(string_number) % 2 == 0:\n",
    "            for key, group in groupby(string_number):\n",
    "                final.append(len(list(group)))\n",
    "            if all(i % 2 == 0 for i in final): # If there are only values with an even amount of duplicates - return True\n",
    "            return False\n",
    "        else:\n",
    "            for key, group in groupby(string_number):\n",
    "                final.append(len(list(group)))\n",
    "            odd_nums = list(filter(lambda x: x % 2 != 0, final))\n",
    "            if len(odd_nums) > 1: # A palindrome can have only one value with an odd number of duplicates\n",
    "                return False # If more such values - return False\n",
    "            return True # Otherwise - return True\n",
    "        \n",
    "palindrome(number)"
   ]
  }
 ],
 "metadata": {
  "kernelspec": {
   "display_name": "Python 3",
   "language": "python",
   "name": "python3"
  },
  "language_info": {
   "codemirror_mode": {
    "name": "ipython",
    "version": 3
   },
   "file_extension": ".py",
   "mimetype": "text/x-python",
   "name": "python",
   "nbconvert_exporter": "python",
   "pygments_lexer": "ipython3",
   "version": "3.8.8"
  }
 },
 "nbformat": 4,
 "nbformat_minor": 5
}
