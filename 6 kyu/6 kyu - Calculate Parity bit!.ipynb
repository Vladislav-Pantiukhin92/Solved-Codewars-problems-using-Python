{
 "cells": [
  {
   "cell_type": "markdown",
   "id": "1c500df7",
   "metadata": {},
   "source": [
    "### Calculate Parity bit! - 7 kyu, Codewars/Python"
   ]
  },
  {
   "cell_type": "code",
   "execution_count": 145,
   "id": "e03f7b38",
   "metadata": {},
   "outputs": [
    {
     "data": {
      "text/plain": [
       "1"
      ]
     },
     "execution_count": 145,
     "metadata": {},
     "output_type": "execute_result"
    }
   ],
   "source": [
    "\"\"\"\n",
    "A parity bit, or check bit, is a bit added to a string of bits to ensure that the total number of 1-bits in the string is even or odd. Parity bits are used as the simplest form of error detecting code.\n",
    "You have two parameters, one being the wanted parity (always 'even' or 'odd'), and the other being the binary representation of the number you want to check.\n",
    "Your task is to return an integer (0 or 1), whose parity bit you need to add to the binary representation so that the parity of the resulting string is as expected.\n",
    "\n",
    "Example:\n",
    "\n",
    "  Parity: 'even'\n",
    "  Bin: '0101010'\n",
    "  Result: 1\n",
    "Because there is an odd number of 1-bits (3) you need to put another 1 to it to get an even number of 1-bits.\n",
    "\"\"\"\n",
    "\n",
    "def check_parity(parity, bin_str):\n",
    "    if len(parity) % 2 != 0: # Meaning that parity is 'odd'\n",
    "        if bin_str.count(\"1\") % 2 != 0:\n",
    "            return 0\n",
    "        return 1\n",
    "    else: # Meaning that parity is 'even'\n",
    "        if bin_str.count(\"1\") % 2 != 0:\n",
    "            return 1\n",
    "        return 0\n",
    "    \n",
    "check_parity(\"even\", \"101010\")"
   ]
  }
 ],
 "metadata": {
  "kernelspec": {
   "display_name": "Python 3",
   "language": "python",
   "name": "python3"
  },
  "language_info": {
   "codemirror_mode": {
    "name": "ipython",
    "version": 3
   },
   "file_extension": ".py",
   "mimetype": "text/x-python",
   "name": "python",
   "nbconvert_exporter": "python",
   "pygments_lexer": "ipython3",
   "version": "3.8.8"
  }
 },
 "nbformat": 4,
 "nbformat_minor": 5
}
