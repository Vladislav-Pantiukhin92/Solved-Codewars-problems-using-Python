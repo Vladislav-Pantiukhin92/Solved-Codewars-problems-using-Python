{
 "cells": [
  {
   "cell_type": "markdown",
   "id": "85321f95",
   "metadata": {},
   "source": [
    "### Sum two arrays - 6 kyu, Codewars/Python"
   ]
  },
  {
   "cell_type": "code",
   "execution_count": 37,
   "id": "3c22b384",
   "metadata": {},
   "outputs": [
    {
     "data": {
      "text/plain": [
       "[3, 4, 1]"
      ]
     },
     "execution_count": 37,
     "metadata": {},
     "output_type": "execute_result"
    }
   ],
   "source": [
    "\"\"\"\n",
    "Your task is to create a function called sum_arrays(), which takes two arrays consisting of integers, and \n",
    "returns the sum of those two arrays.\n",
    "The twist is that (for example) [3,2,9] does not equal 3 + 2 + 9, it would equal '3' + '2' + '9' \n",
    "converted to an integer for this kata, meaning it would equal 329. The output should be an array of the \n",
    "sum in a similar fashion to the input (for example, if the sum is 341, you would return [3,4,1]). \n",
    "Examples are given below of what two arrays should return.\n",
    "[3,2,9],[1,2] --> [3,4,1]\n",
    "[4,7,3],[1,2,3] --> [5,9,6]\n",
    "[1],[5,7,6] --> [5,7,7]\n",
    "If both arrays are empty, return an empty array.\n",
    "In some cases, there will be an array containing a negative number as the first index in the array. \n",
    "In this case treat the whole number as a negative number. See below:\n",
    "[3,2,6,6],[-7,2,2,8] --> [-3,9,6,2] # 3266 + (-7228) = -3962\n",
    "\"\"\"\n",
    "\n",
    "from operator import * # 'operator.neg' will be used to make the first element negative, if necessary\n",
    "\n",
    "def sum_arrays(array1,array2):\n",
    "    if not array1 and not array2: # The case, when both input arrays are empty\n",
    "        return []\n",
    "    elif not array1: # The case, when the first input array is empty\n",
    "        return array2\n",
    "    elif not array2: # The case, when the second input array is empty\n",
    "        return array1\n",
    "    # Let's transform arrays of integers into integers themselves\n",
    "    first_num = int(\"\".join(list(map(str, array1))))\n",
    "    second_num = int(\"\".join(list(map(str, array2))))\n",
    "    negative = False\n",
    "    sum = first_num + second_num # Let's find the sum of these integers\n",
    "    if sum < 0:\n",
    "        negative = True\n",
    "    result = list(map(int, list(str(abs(sum))))) # The sum of integers is transformed into the list of integers\n",
    "    if not negative:\n",
    "        return result # If the sum is initially negative, then we add \"-\" to the first element\n",
    "    result[0] = neg(result[0])\n",
    "    return result\n",
    "\n",
    "sum_arrays([3,2,9],[1,2])"
   ]
  }
 ],
 "metadata": {
  "kernelspec": {
   "display_name": "Python 3 (ipykernel)",
   "language": "python",
   "name": "python3"
  },
  "language_info": {
   "codemirror_mode": {
    "name": "ipython",
    "version": 3
   },
   "file_extension": ".py",
   "mimetype": "text/x-python",
   "name": "python",
   "nbconvert_exporter": "python",
   "pygments_lexer": "ipython3",
   "version": "3.9.7"
  }
 },
 "nbformat": 4,
 "nbformat_minor": 5
}
