{
 "cells": [
  {
   "cell_type": "markdown",
   "id": "ad922862",
   "metadata": {},
   "source": [
    "### Tribonacci Sequence - 6 kyu, Codewars/Python"
   ]
  },
  {
   "cell_type": "code",
   "execution_count": 35,
   "id": "5c271875",
   "metadata": {},
   "outputs": [
    {
     "data": {
      "text/plain": [
       "[1, 1, 1, 3, 5, 9, 17, 31, 57, 105]"
      ]
     },
     "execution_count": 35,
     "metadata": {},
     "output_type": "execute_result"
    }
   ],
   "source": [
    "\"\"\"\n",
    "Well met with Fibonacci bigger brother, AKA Tribonacci.\n",
    "As the name may already reveal, it works basically like a Fibonacci, but summing the last 3 (instead of 2) numbers of the sequence to generate the next. And, worse part of it, regrettably I won't get to hear non-native Italian speakers trying to pronounce it :(\n",
    "So, if we are to start our Tribonacci sequence with [1, 1, 1] as a starting input (AKA signature), we have this sequence:\n",
    "\n",
    "[1, 1 ,1, 3, 5, 9, 17, 31, ...]\n",
    "But what if we started with [0, 0, 1] as a signature? As starting with [0, 1] instead of [1, 1] basically shifts the common Fibonacci sequence by once place, you may be tempted to think that we would get the same sequence shifted by 2 places, but that is not the case and we would get:\n",
    "\n",
    "[0, 0, 1, 1, 2, 4, 7, 13, 24, ...]\n",
    "Well, you may have guessed it by now, but to be clear: you need to create a fibonacci function that given a signature array/list, returns the first n elements - signature included of the so seeded sequence.\n",
    "\n",
    "Signature will always contain 3 numbers; n will always be a non-negative number; if n == 0, then return an empty array (except in C return NULL) and be ready for anything else which is not clearly specified ;)\n",
    "If you enjoyed this kata more advanced and generalized version of it can be found in the Xbonacci kata\n",
    "[Personal thanks to Professor Jim Fowler on Coursera for his awesome classes that I really recommend to any math enthusiast and for showing me this mathematical curiosity too with his usual contagious passion :)]\n",
    "\"\"\"\n",
    "\n",
    "def tribonacci(signature, n):\n",
    "    if n == 0:\n",
    "        return []\n",
    "    elif n < 4:\n",
    "        return signature[:n]\n",
    "    tr_signature = [0] * n # Let's create the array with just 0s\n",
    "    tr_signature[0], tr_signature[1], tr_signature[2] = signature # We establish the first 3 numbers\n",
    "    start = 3\n",
    "    for i in range(n - 3):\n",
    "        # Using the list itself and index subtraction we obtain the sequence\n",
    "        tr_signature[start] = tr_signature[start - 1] + tr_signature[start - 2] + tr_signature[start - 3]\n",
    "        start += 1\n",
    "    return tr_signature\n",
    "\n",
    "tribonacci([1, 1, 1], 10)"
   ]
  }
 ],
 "metadata": {
  "kernelspec": {
   "display_name": "Python 3",
   "language": "python",
   "name": "python3"
  },
  "language_info": {
   "codemirror_mode": {
    "name": "ipython",
    "version": 3
   },
   "file_extension": ".py",
   "mimetype": "text/x-python",
   "name": "python",
   "nbconvert_exporter": "python",
   "pygments_lexer": "ipython3",
   "version": "3.8.8"
  }
 },
 "nbformat": 4,
 "nbformat_minor": 5
}
