{
 "cells": [
  {
   "cell_type": "markdown",
   "id": "22f58f14",
   "metadata": {},
   "source": [
    "### Return String As Sorted Blocks - 6 kyu, Codewars/Python"
   ]
  },
  {
   "cell_type": "code",
   "execution_count": 373,
   "id": "ddd96528",
   "metadata": {},
   "outputs": [
    {
     "data": {
      "text/plain": [
       "'bcdehjnopsxCEINOUW0234689-dhnpIUW239-2-2-2'"
      ]
     },
     "execution_count": 373,
     "metadata": {},
     "output_type": "execute_result"
    }
   ],
   "source": [
    "\"\"\"\n",
    "You will receive a string consisting of lowercase letters, uppercase letters and digits as input. Your task is to return this string as blocks separated by dashes (\"-\"). The elements of a block should be sorted with respect to the hierarchy listed below, and each block cannot contain multiple instances of the same character. Elements should be put into the first suitable block.\n",
    "\n",
    "The hierarchy is:\n",
    "\n",
    "lowercase letters (a - z), in alphabetical order\n",
    "uppercase letters (A - Z), in alphabetical order\n",
    "digits (0 - 9), in ascending order\n",
    "Examples\n",
    "\"21AxBz\" -> \"xzAB12\" - since input does not contain repeating characters, you only need 1 block\n",
    "\"abacad\" -> \"abcd-a-a\" - character \"a\" repeats 3 times, thus 3 blocks are needed\n",
    "\"\" -> \"\" - an empty input should result in an empty output\n",
    "\"hbh420sUUW222IWOxndjn93cdop69NICEep832\" -> \"bcdehjnopsxCEINOUW0234689-dhnpIUW239-2-2-2\" - a more sophisticated example\n",
    "\"\"\"\n",
    "\n",
    "import re\n",
    "from itertools import groupby\n",
    "\n",
    "def blocks(string):\n",
    "    if not string:\n",
    "        return \"\"\n",
    "    # Regular expressions will be used to split all the data into lowercase, uppercase values and digits\n",
    "    lowercase = sorted(re.findall(r\"[a-z]\", string))\n",
    "    uppercase = sorted(re.findall(r\"[A-Z]\", string))\n",
    "    digits = sorted(re.findall(r\"\\d\", string))\n",
    "    my_list = lowercase + uppercase + digits\n",
    "    final = \"\"\n",
    "    # We launch the while loop, which will be terminated if the list is totally empty\n",
    "    while my_list: \n",
    "        temp = my_list.copy()\n",
    "        # 'Groupby' from itertools is used to extract unique values\n",
    "        for key, group in groupby(my_list):\n",
    "            final += key\n",
    "            temp.remove(key) # Unique values are removed from the list\n",
    "        final += \"-\"\n",
    "        temp = \"\".join(temp)\n",
    "        # The loop with regexp, extraction and removal is repeated while there are values in the list\n",
    "        lowercase = sorted(re.findall(r\"[a-z]\", temp))\n",
    "        uppercase = sorted(re.findall(r\"[A-Z]\", temp))\n",
    "        digits = sorted(re.findall(r\"\\d\", temp))\n",
    "        my_list = lowercase + uppercase + digits\n",
    "    return final.rstrip(\"-\")\n",
    "\n",
    "blocks(\"hbh420sUUW222IWOxndjn93cdop69NICEep832\")\n"
   ]
  }
 ],
 "metadata": {
  "kernelspec": {
   "display_name": "Python 3",
   "language": "python",
   "name": "python3"
  },
  "language_info": {
   "codemirror_mode": {
    "name": "ipython",
    "version": 3
   },
   "file_extension": ".py",
   "mimetype": "text/x-python",
   "name": "python",
   "nbconvert_exporter": "python",
   "pygments_lexer": "ipython3",
   "version": "3.8.8"
  }
 },
 "nbformat": 4,
 "nbformat_minor": 5
}
