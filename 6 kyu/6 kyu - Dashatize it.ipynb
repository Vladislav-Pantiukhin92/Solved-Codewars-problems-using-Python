{
 "cells": [
  {
   "cell_type": "markdown",
   "id": "45abeaa5",
   "metadata": {},
   "source": [
    "### Dashatize it - 6 kyu, Codewars/Python"
   ]
  },
  {
   "cell_type": "code",
   "execution_count": 15,
   "id": "71664c2e",
   "metadata": {},
   "outputs": [
    {
     "data": {
      "text/plain": [
       "'2-7-4'"
      ]
     },
     "execution_count": 15,
     "metadata": {},
     "output_type": "execute_result"
    }
   ],
   "source": [
    "\"\"\"\n",
    "Given a variable n,\n",
    "If n is an integer, Return a string with dash'-'marks before and after each odd integer, but do not begin \n",
    "or end the string with a dash mark. If n is negative, then the negative sign should be removed.\n",
    "If n is not an integer, return the string \"None\".\n",
    "\n",
    "Ex:\n",
    "\n",
    "dashatize(274) -> '2-7-4'\n",
    "dashatize(6815) -> '68-1-5'\n",
    "\"\"\"\n",
    "\n",
    "from operator import * # 'operator.neg' will transform a negative number into a positive number\n",
    "\n",
    "def dashatize(n):\n",
    "    if not isinstance(n, int): # Verification of the data type: if the input data type is not an integer - \n",
    "        # we return None (in the string form)\n",
    "        return \"None\"\n",
    "    else:\n",
    "        if n < 0: # The case with negative numbers (\"-\" should be removed)\n",
    "            n = neg(n)\n",
    "        # If we deal with positive integers - we do the following operations:\n",
    "        my_list = list(str(n)) # The input integer is transformed into the list of string digits\n",
    "        for i in range(len(my_list)): # When we face an odd digit - we add \"-\" at the beginning as well as \n",
    "            # at the end of the string element\n",
    "            if int(my_list[i]) % 2 != 0:\n",
    "                my_list[i] = f\"-{my_list[i]}-\"\n",
    "        myString = \"\".join(my_list) # We transform the list into the string type\n",
    "        myString = myString.replace(\"--\", \"-\") # As some adjacent numbers are odd, it is necessary to remove \n",
    "        # double dash marks, that is, \"--\"\n",
    "        myString = myString.strip(\"-\") # We need to remove the start \"-\" and the end \"-\" as well\n",
    "        return myString # The final string result is returned\n",
    "    \n",
    "dashatize(274)"
   ]
  }
 ],
 "metadata": {
  "kernelspec": {
   "display_name": "Python 3 (ipykernel)",
   "language": "python",
   "name": "python3"
  },
  "language_info": {
   "codemirror_mode": {
    "name": "ipython",
    "version": 3
   },
   "file_extension": ".py",
   "mimetype": "text/x-python",
   "name": "python",
   "nbconvert_exporter": "python",
   "pygments_lexer": "ipython3",
   "version": "3.9.7"
  }
 },
 "nbformat": 4,
 "nbformat_minor": 5
}
