{
 "cells": [
  {
   "cell_type": "markdown",
   "id": "86f6be92",
   "metadata": {},
   "source": [
    "### Same Array? - 6 kyu, Codewars/Python"
   ]
  },
  {
   "cell_type": "code",
   "execution_count": 12,
   "id": "20bd92d9",
   "metadata": {},
   "outputs": [
    {
     "data": {
      "text/plain": [
       "True"
      ]
     },
     "execution_count": 12,
     "metadata": {},
     "output_type": "execute_result"
    }
   ],
   "source": [
    "\"\"\"\n",
    "Given two arrays, the purpose of this Kata is to check if these two arrays are the same. \"The same\" in \n",
    "this Kata means the two arrays contains arrays of 2 numbers which are same and not necessarily sorted \n",
    "the same way. i.e. [[2,5], [3,6]] is same as [[5,2], [3,6]] or [[6,3], [5,2]] or [[6,3], [2,5]] etc\n",
    "[[2,5], [3,6]] is NOT the same as [[2,3], [5,6]]\n",
    "Two empty arrays [] are the same\n",
    "[[2,5], [5,2]] is the same as [[2,5], [2,5]] but NOT the same as [[2,5]]\n",
    "[[2,5], [3,5], [6,2]] is the same as [[2,6], [5,3], [2,5]] or [[3,5], [6,2], [5,2]], etc\n",
    "An array can be empty or contain a minimun of one array of 2 integers and up to 100 array of 2 integers\n",
    "Note:\n",
    "\n",
    "[[]] is not applicable because if the array of array are to contain anything, there have to be two numbers.\n",
    "100 randomly generated tests that can contains either \"same\" or \"not same\" arrays.\n",
    "\"\"\"\n",
    "\n",
    "from itertools import chain # 'itertools.chain' will be used to transform the 2-D array into the 1-D array\n",
    "\n",
    "def same(arr_a, arr_b):\n",
    "# The idea behind the solution is that, first of all, we need to sort iterables; secondly, we need to sort \n",
    "# the input list of iterables. Finally, through 'chain.from iterable' we obtain the 1-D array in both cases.\n",
    "# So it is possible to compare it, using two variables\n",
    "    # Initially, let's sort iterables and the entire list with iterables:\n",
    "    arr_a = sorted(list(map(lambda x: sorted(x), arr_a)))\n",
    "    arr_b = sorted(list(map(lambda y: sorted(y), arr_b)))\n",
    "    # After that, we obtain 1-D arrays in both instances:\n",
    "    arr_a = list(chain.from_iterable(arr_a))\n",
    "    arr_b = list(chain.from_iterable(arr_b))\n",
    "    if len(arr_a) != len(arr_b): # We can return False immediately, if two arrays have different length\n",
    "        return False\n",
    "    # Otherwise, we are going to implement the element-by-element comparison, using two variables:\n",
    "    i = 0\n",
    "    j = 0\n",
    "    while i < len(arr_a):\n",
    "        if arr_a[i] != arr_b[j]:\n",
    "            return False # If a discrepancy case was encountered - we return False\n",
    "        i += 1\n",
    "        j += 1\n",
    "    return True # Without discrepancies we return True\n",
    "\n",
    "same([[2,5], [3,6]], [[5,2], [3,6]])"
   ]
  }
 ],
 "metadata": {
  "kernelspec": {
   "display_name": "Python 3 (ipykernel)",
   "language": "python",
   "name": "python3"
  },
  "language_info": {
   "codemirror_mode": {
    "name": "ipython",
    "version": 3
   },
   "file_extension": ".py",
   "mimetype": "text/x-python",
   "name": "python",
   "nbconvert_exporter": "python",
   "pygments_lexer": "ipython3",
   "version": "3.9.7"
  }
 },
 "nbformat": 4,
 "nbformat_minor": 5
}
