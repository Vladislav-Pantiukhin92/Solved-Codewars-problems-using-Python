{
 "cells": [
  {
   "cell_type": "markdown",
   "id": "4ad288ab",
   "metadata": {},
   "source": [
    "### More Zeros than Ones - 6 kyu, Codewars/Python"
   ]
  },
  {
   "cell_type": "code",
   "execution_count": 55,
   "id": "6f595871",
   "metadata": {},
   "outputs": [
    {
     "data": {
      "text/plain": [
       "['a', 'b', 'd']"
      ]
     },
     "execution_count": 55,
     "metadata": {},
     "output_type": "execute_result"
    }
   ],
   "source": [
    "\"\"\"\n",
    "Create a moreZeros function which will receive a string for input, and return an array (or null terminated \n",
    "string in C) containing only the characters from that string whose binary representation of its ASCII \n",
    "value consists of more zeros than ones.\n",
    "You should remove any duplicate characters, keeping the first occurence of any such duplicates, so they \n",
    "are in the same order in the final array as they first appeared in the input string.\n",
    "Examples\n",
    "\n",
    "'abcde' === [\"1100001\", \"1100010\", \"1100011\", \"1100100\", \"1100101\"]\n",
    "               True       True       False      True       False\n",
    "                   \n",
    "        --> ['a','b','d']\n",
    "    \n",
    "'DIGEST'--> ['D','I','E','T']\n",
    "All input will be valid strings of length > 0. Leading zeros in binary should not be counted.\n",
    "\"\"\"\n",
    "\n",
    "def more_zeros(s):\n",
    "    myDict = {} # The dictionary will monitor the occurrence of letters, if the occurrence > 1 - the letter \n",
    "    # will be omitted\n",
    "    myStr = \"\"\n",
    "    for i in s:\n",
    "        if i not in myDict:\n",
    "            myDict[i] = 1\n",
    "            myStr += i # All the filtered letters will be within this string\n",
    "    # Firstly, through the 'map' function we transform all letters into their ascii_code manifestation\n",
    "    ascii_code = list(map(lambda y: ord(y), list(myStr)))\n",
    "    # Secondly, the ascii_code of all letters is transformed into their binary representation\n",
    "    binary_lst = list(map(lambda x: bin(x).lstrip(\"0b\"), ascii_code))\n",
    "    # With the assistance of the 'filter' function we will remove all binary representations, where 0s < 1s\n",
    "    def filter_func(x):\n",
    "        zeros = x.count(\"0\")\n",
    "        ones = x.count(\"1\")\n",
    "        if zeros > ones:\n",
    "            return 1\n",
    "        return 0\n",
    "    binary_lst = list(filter(filter_func, binary_lst)) # The binary filtered version\n",
    "    # Finally, the binary representation is transformed back into the ascii_code\n",
    "    ascii_code = list(map(lambda x: int(x, 2), binary_lst))\n",
    "    # And the ascii_code of all letters is transformed back into the remaining, filtered letters\n",
    "    final = list(map(lambda y: chr(y), ascii_code))\n",
    "    return final # The list of filtered letters is returned\n",
    "\n",
    "more_zeros(\"abcde\")"
   ]
  }
 ],
 "metadata": {
  "kernelspec": {
   "display_name": "Python 3 (ipykernel)",
   "language": "python",
   "name": "python3"
  },
  "language_info": {
   "codemirror_mode": {
    "name": "ipython",
    "version": 3
   },
   "file_extension": ".py",
   "mimetype": "text/x-python",
   "name": "python",
   "nbconvert_exporter": "python",
   "pygments_lexer": "ipython3",
   "version": "3.9.7"
  }
 },
 "nbformat": 4,
 "nbformat_minor": 5
}
