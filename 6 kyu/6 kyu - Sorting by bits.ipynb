{
 "cells": [
  {
   "cell_type": "markdown",
   "id": "ebb9cef5",
   "metadata": {},
   "source": [
    "### Sorting by bits - 6 kyu, Codewars/Python"
   ]
  },
  {
   "cell_type": "code",
   "execution_count": 213,
   "id": "8d7f451b",
   "metadata": {},
   "outputs": [
    {
     "data": {
      "text/plain": [
       "[1, 8, 3, 3, 5, 6, 9, 7]"
      ]
     },
     "execution_count": 213,
     "metadata": {},
     "output_type": "execute_result"
    }
   ],
   "source": [
    "\"\"\"\n",
    "In this kata you're expected to sort an array of 32-bit integers in ascending order of the number of on bits they have.\n",
    "\n",
    "E.g Given the array [7, 6, 15, 8]\n",
    "\n",
    "7 has 3 on bits (000...0111)\n",
    "6 has 2 on bits (000...0011)\n",
    "15 has 4 on bits (000...1111)\n",
    "8 has 1 on bit (000...1000)\n",
    "So the array in sorted order would be [8, 6, 7, 15].\n",
    "\n",
    "In cases where two numbers have the same number of bits, compare their real values instead.\n",
    "E.g between 10 (...1010) and 12 (...1100), they both have the same number of on bits '2' but the integer 10 is less than 12 so it comes first in sorted order.\n",
    "Your task is to write the function sortBybit() that takes an array of integers and sort them as described above.\n",
    "\n",
    "sortByBit([3, 8, 3, 6, 5, 7, 9, 1]) // => [1, 8, 3, 3, 5, 6, 9, 7]\n",
    "\n",
    "\"\"\"\n",
    "\n",
    "from operator import *\n",
    "from itertools import groupby\n",
    "\n",
    "def sort_by_bit(array):\n",
    "    final = []\n",
    "    # We are going to return binary code without redundant values (\"0b\" and \"0\")\n",
    "    array = list(map(lambda x: (x, bin(x).replace(\"0b\", \"\").replace(\"0\", \"\")), array))\n",
    "    array = sorted(array, key=itemgetter(1)) # Itemgetter will sort with an emphasis on the second element\n",
    "    key_func = lambda x: x[1]\n",
    "    for key, group in groupby(array, key=key_func): # 'Groupby' will help identify the proper order\n",
    "        for j in sorted(list(group)):\n",
    "            final.append(j[0])\n",
    "    return final\n",
    "\n",
    "sort_by_bit([3, 8, 3, 6, 5, 7, 9, 1])"
   ]
  }
 ],
 "metadata": {
  "kernelspec": {
   "display_name": "Python 3",
   "language": "python",
   "name": "python3"
  },
  "language_info": {
   "codemirror_mode": {
    "name": "ipython",
    "version": 3
   },
   "file_extension": ".py",
   "mimetype": "text/x-python",
   "name": "python",
   "nbconvert_exporter": "python",
   "pygments_lexer": "ipython3",
   "version": "3.8.8"
  }
 },
 "nbformat": 4,
 "nbformat_minor": 5
}
