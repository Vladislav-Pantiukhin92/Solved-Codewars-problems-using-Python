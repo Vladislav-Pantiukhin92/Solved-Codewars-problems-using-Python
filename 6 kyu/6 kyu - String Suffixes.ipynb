{
 "cells": [
  {
   "cell_type": "markdown",
   "id": "309617b1",
   "metadata": {},
   "source": [
    "### String Suffixes - 6 kyu, Codewars/Python"
   ]
  },
  {
   "cell_type": "code",
   "execution_count": 14,
   "id": "f1c7caa5",
   "metadata": {},
   "outputs": [
    {
     "data": {
      "text/plain": [
       "11"
      ]
     },
     "execution_count": 14,
     "metadata": {},
     "output_type": "execute_result"
    }
   ],
   "source": [
    "\"\"\"\n",
    "Let's say take 2 strings, A and B, and define the similarity of the strings to be the length of the \n",
    "longest prefix common to both strings. For example, the similarity of strings abc and abd is 2, while the \n",
    "similarity of strings aaa and aaab is 3.\n",
    "write a function that calculates the sum of similarities of a string S with each of it's suffixes.\n",
    "\n",
    "Examples (input -> output):\n",
    "'ababaa' -> 11\n",
    "'abc' -> 3\n",
    "Explanation:\n",
    "\n",
    "In the first case, the suffixes of the string are ababaa, babaa, abaa, baa, aa and a. The similarities \n",
    "of each of these strings with the string ababaa are 6,0,3,0,1,1 respectively. Thus the answer is 6 + 0 + \n",
    "3 + 0 + 1 + 1 = 11.\n",
    "For the second case, the answer is simply 3 + 0 + 0 = 3.\n",
    "Note : Each string will have at least one character - no need to check for empty strings :)\n",
    "\"\"\"\n",
    "\n",
    "def string_suffix(str_):\n",
    "    final = [] # The list container, which will store similarity results between the input string and each of \n",
    "    # its suffixes\n",
    "    length = len(str_) # Let's determine the length of the input string\n",
    "    m = 0\n",
    "    def compare_func(string, pattern): # The function, aimed at calculating the similarity field of the \n",
    "        # input string and the suffix. When a discrepancy letter is encountered - we break the 'while loop'\n",
    "        # and return the final result (the similarity number)\n",
    "        i = 0\n",
    "        j = 0\n",
    "        count = 0\n",
    "        while j < len(pattern):\n",
    "            if string[i] == pattern[j]:\n",
    "                count += 1\n",
    "            else:\n",
    "                break\n",
    "            i += 1\n",
    "            j += 1\n",
    "        return count\n",
    "    # The following 'while loop' is aimed at calculating suffixes of the input string\n",
    "    while m < length:\n",
    "        curSlice = str_[m:length]\n",
    "        result = compare_func(str_, curSlice) # Each suffix is passed on to the aforementioned function\n",
    "        # When the function returns the corresponding result (the similarity range/number), the return result \n",
    "        # is appended to the rear of the array\n",
    "        final.append(result)\n",
    "        m += 1\n",
    "    return sum(final) # The final operation is to summarize all appended elements\n",
    "\n",
    "string_suffix(\"ababaa\")"
   ]
  }
 ],
 "metadata": {
  "kernelspec": {
   "display_name": "Python 3 (ipykernel)",
   "language": "python",
   "name": "python3"
  },
  "language_info": {
   "codemirror_mode": {
    "name": "ipython",
    "version": 3
   },
   "file_extension": ".py",
   "mimetype": "text/x-python",
   "name": "python",
   "nbconvert_exporter": "python",
   "pygments_lexer": "ipython3",
   "version": "3.9.7"
  }
 },
 "nbformat": 4,
 "nbformat_minor": 5
}
