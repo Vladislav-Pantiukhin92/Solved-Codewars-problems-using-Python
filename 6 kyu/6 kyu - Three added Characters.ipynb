{
 "cells": [
  {
   "cell_type": "markdown",
   "id": "dcbae4b3",
   "metadata": {},
   "source": [
    "### Three added Characters - 6 kyu, Codewars/Python"
   ]
  },
  {
   "cell_type": "code",
   "execution_count": 5,
   "id": "f6ddfb6f",
   "metadata": {},
   "outputs": [
    {
     "data": {
      "text/plain": [
       "'c'"
      ]
     },
     "execution_count": 5,
     "metadata": {},
     "output_type": "execute_result"
    }
   ],
   "source": [
    "\"\"\"\n",
    "Given two strings, the first being a random string and the second being the same as the first, but with \n",
    "three added characters somewhere in the string (three same characters),\n",
    "Write a function that returns the added character\n",
    "\n",
    "E.g\n",
    "string1 = \"hello\"\n",
    "string2 = \"aaahello\"\n",
    "\n",
    "// => 'a'\n",
    "The above is just an example; the characters could be anywhere in the string and string2 is actually shuffled.\n",
    "\n",
    "Another example\n",
    "string1 = \"abcde\"\n",
    "string2 = \"2db2a2ec\"\n",
    "\n",
    "// => '2'\n",
    "Note that the added character could also exist in the original string\n",
    "\n",
    "string1 = \"aabbcc\"\n",
    "string2 = \"aacccbbcc\"\n",
    "\n",
    "// => 'c'\n",
    "You can assume that string2 will aways be larger than string1, and there will always be three added \n",
    "characters in string2.\n",
    "\"\"\"\n",
    "\n",
    "def added_char(s1, s2):\n",
    "    s2 = list(s2) # The given input string is transformed into the list with characters\n",
    "    for i in s1: # Through the list method 'lst.remove()' we are going to extract values\n",
    "        s2.remove(i)\n",
    "    return s2[0] # Finally, the list contains three duplicates of the one value - we can return, for instance, \n",
    "# the first element (index - [0])\n",
    "added_char(\"aabbcc\",\"aacccbbcc\")"
   ]
  }
 ],
 "metadata": {
  "kernelspec": {
   "display_name": "Python 3 (ipykernel)",
   "language": "python",
   "name": "python3"
  },
  "language_info": {
   "codemirror_mode": {
    "name": "ipython",
    "version": 3
   },
   "file_extension": ".py",
   "mimetype": "text/x-python",
   "name": "python",
   "nbconvert_exporter": "python",
   "pygments_lexer": "ipython3",
   "version": "3.9.7"
  }
 },
 "nbformat": 4,
 "nbformat_minor": 5
}
