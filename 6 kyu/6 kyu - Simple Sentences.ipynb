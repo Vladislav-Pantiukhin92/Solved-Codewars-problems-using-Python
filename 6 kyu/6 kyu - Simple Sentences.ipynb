{
 "cells": [
  {
   "cell_type": "markdown",
   "id": "c5f795ed",
   "metadata": {},
   "source": [
    "### Simple Sentences - 6 kyu, Codewars/Python"
   ]
  },
  {
   "cell_type": "code",
   "execution_count": 3,
   "id": "1ae0eb6d",
   "metadata": {},
   "outputs": [
    {
     "data": {
      "text/plain": [
       "'hello, my dear.'"
      ]
     },
     "execution_count": 3,
     "metadata": {},
     "output_type": "execute_result"
    }
   ],
   "source": [
    "\"\"\"\n",
    "Implement a function, so it will produce a sentence out of the given parts.\n",
    "Array of parts could contain:\n",
    "\n",
    "words;\n",
    "commas in the middle;\n",
    "multiple periods at the end.\n",
    "Sentence making rules:\n",
    "\n",
    "there must always be a space between words;\n",
    "there must not be a space between a comma and word on the left;\n",
    "there must always be one and only one period at the end of a sentence.\n",
    "Example:\n",
    "\n",
    "makeSentence(['hello', ',', 'my', 'dear']) // returns 'hello, my dear.'\n",
    "\"\"\"\n",
    "\n",
    "from collections import deque # 'collections.deque' - a double-ended queue\n",
    "from queue import LifoQueue # Implementation of the stack structure\n",
    "\n",
    "def make_sentences(parts):\n",
    "    lst = deque(parts) # A double-ended queue\n",
    "    final = LifoQueue() # The stack structure\n",
    "    while lst:\n",
    "        curElem = lst.popleft() # An element is popped from the double-ended queue (the front elements)\n",
    "        if final.empty(): # If the stack structure is empty - we just add the first element\n",
    "            final.put(curElem)\n",
    "        else:\n",
    "            if curElem in [\",\"]: # The case, when \",\" is encountered\n",
    "                combine = f\"{final.get()}{curElem}\" # The combination is appended\n",
    "                final.put(combine)\n",
    "            elif curElem in [\".\"]: # The case, when \".\" is encountered\n",
    "                prevOne = final.get()\n",
    "                if not prevOne.endswith(\".\"):\n",
    "                    combine = f\"{prevOne}{curElem}\"\n",
    "                    final.put(combine)\n",
    "                else:\n",
    "                    final.put(prevOne)\n",
    "\n",
    "            else: # The case, when a full-fledged word is appended\n",
    "                final.put(curElem)\n",
    "    final = \" \".join(final.queue) # The stack structure is transformed into the string\n",
    "    if not final.endswith(\".\"): # It is the verification that the string ends exactly with the only dot\n",
    "        return f\"{final}.\"\n",
    "    return final # The final string output is returned\n",
    "\n",
    "\n",
    "make_sentences(['hello', ',', 'my', 'dear'])"
   ]
  }
 ],
 "metadata": {
  "kernelspec": {
   "display_name": "Python 3 (ipykernel)",
   "language": "python",
   "name": "python3"
  },
  "language_info": {
   "codemirror_mode": {
    "name": "ipython",
    "version": 3
   },
   "file_extension": ".py",
   "mimetype": "text/x-python",
   "name": "python",
   "nbconvert_exporter": "python",
   "pygments_lexer": "ipython3",
   "version": "3.9.7"
  }
 },
 "nbformat": 4,
 "nbformat_minor": 5
}
