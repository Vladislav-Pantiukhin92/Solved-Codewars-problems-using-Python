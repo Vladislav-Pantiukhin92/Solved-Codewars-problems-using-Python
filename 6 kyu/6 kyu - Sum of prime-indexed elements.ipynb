{
 "cells": [
  {
   "cell_type": "markdown",
   "id": "dcbae4b3",
   "metadata": {},
   "source": [
    "### Sum of prime-indexed elements - 6 kyu, Codewars/Python"
   ]
  },
  {
   "cell_type": "code",
   "execution_count": 2,
   "id": "98d78553",
   "metadata": {},
   "outputs": [
    {
     "data": {
      "text/plain": [
       "47"
      ]
     },
     "execution_count": 2,
     "metadata": {},
     "output_type": "execute_result"
    }
   ],
   "source": [
    "\"\"\"\n",
    "In this Kata, you will be given an integer array and your task is to return the sum of elements occupying \n",
    "prime-numbered indices.\n",
    "The first element of the array is at index 0.\n",
    "\"\"\"\n",
    "\n",
    "def total(arr):\n",
    "    length = len(arr) # The length of the given input list\n",
    "    if length < 2: # If the length is smaller than 2 - we return 0, because indices 0 and 1 are not among prime numbers\n",
    "        return 0\n",
    "    # Alternatively, we are going to execute the algorithm 'Sieve of Eratosthenes' to find prime indices of \n",
    "    # the given input list:\n",
    "    final = [] # It is the list container, which will store prime indices\n",
    "    # The algorithm, named \"Sieve of Eratosthenes\" as follows:\n",
    "    true_array = [True] * length\n",
    "    for i in range(2, length):\n",
    "        if true_array[i]:\n",
    "            final.append(i)\n",
    "            for j in range(i ** 2, length, i):\n",
    "                true_array[j] = False\n",
    "    # Now all the prime indices of the given input list are within the list container\n",
    "    finalSum = 0 # The initial sum equals to 0\n",
    "    for i in final: # Through the 'for loop' we are going to accumulate the total sum\n",
    "        finalSum += arr[i]\n",
    "    return finalSum # The total sum is returned\n",
    "\n",
    "total([1,2,3,4,5,6,7,8,9,10,11,12,13,14,15])"
   ]
  }
 ],
 "metadata": {
  "kernelspec": {
   "display_name": "Python 3 (ipykernel)",
   "language": "python",
   "name": "python3"
  },
  "language_info": {
   "codemirror_mode": {
    "name": "ipython",
    "version": 3
   },
   "file_extension": ".py",
   "mimetype": "text/x-python",
   "name": "python",
   "nbconvert_exporter": "python",
   "pygments_lexer": "ipython3",
   "version": "3.9.7"
  }
 },
 "nbformat": 4,
 "nbformat_minor": 5
}
