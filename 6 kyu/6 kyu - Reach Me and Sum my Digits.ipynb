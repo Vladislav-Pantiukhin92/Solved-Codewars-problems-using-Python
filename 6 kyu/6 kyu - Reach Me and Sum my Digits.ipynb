{
 "cells": [
  {
   "cell_type": "markdown",
   "id": "2acc325e",
   "metadata": {},
   "source": [
    "### Reach Me and Sum my Digits - 6 kyu, Codewars/Python"
   ]
  },
  {
   "cell_type": "code",
   "execution_count": 27,
   "id": "e17eee7c",
   "metadata": {},
   "outputs": [
    {
     "data": {
      "text/plain": [
       "10"
      ]
     },
     "execution_count": 27,
     "metadata": {},
     "output_type": "execute_result"
    }
   ],
   "source": [
    "\"\"\"\n",
    "We have the first value of a certain sequence, we will name it initVal. We define pattern list, patternL, \n",
    "an array that has the differences between contiguous terms of the sequence.  \n",
    "E.g: patternL = [k1, k2, k3, k4]\n",
    "The terms of the sequence will be such values that:\n",
    "\n",
    "term1 = initVal\n",
    "term2 - term1 = k1\n",
    "term3 - term2 = k2\n",
    "term4 - term3 = k3\n",
    "term5 - term4 = k4\n",
    "term6 - term5 = k1\n",
    "term7 - term6 = k2\n",
    "term8 - term7 = k3\n",
    "term9 - term8 = k4\n",
    "....  - ..... = ...\n",
    "....  - ..... = ...\n",
    "So the values of the differences between contiguous terms are cyclical and are repeated as the \n",
    "differences values of the pattern list stablishes.\n",
    "\n",
    "Let's see an example with numbers:\n",
    "\n",
    "initVal = 10\n",
    "patternL = [2, 1, 3]\n",
    "term1 = 10\n",
    "term2 = 12\n",
    "term3 = 13\n",
    "term4 = 16\n",
    "term5 = 18\n",
    "term6 = 19\n",
    "term7 = 22  # and so on...\n",
    "We can easily obtain the next terms of the sequence following the values in the pattern list. \n",
    "We see that the sixth term of the sequence, 19, has the sum of its digits 10.\n",
    "\n",
    "Make a function sumDig_nthTerm(), that receives three arguments in this order\n",
    "sumDig_nthTerm(initVal, patternL, nthTerm(ordinal number of the term in the sequence)) \n",
    "This function will output the sum of the digits of the n-th term of the sequence.\n",
    "Let's see some cases for this function:\n",
    "\n",
    "sumDig_nthTerm(10, [2, 1, 3], 6) -----> 10 # because the sixth term is 19 sum of Dig = 1 + 9 = 10. \n",
    "The sequence up to the sixth-Term is: 10, 12, 13, 16, 18, 19\n",
    "\n",
    "sumDig_nthTerm(10, [1, 2, 3], 15) ----> 10 # 37 is the 15-th term, and \n",
    "\"\"\"\n",
    "\n",
    "from collections import deque # 'collections.deque' will be used as a double-ended queue to make the cycle - \n",
    "# pattern list\n",
    "from operator import * # 'operator.eq' will compare values\n",
    "from functools import reduce # 'functools.reduce' will execute the summation operation of all elements within \n",
    "# the list\n",
    "\n",
    "def sumDig_nthTerm(initVal, patternL, nthTerm):\n",
    "    pattern = deque(patternL) # A double-ended queue\n",
    "    term = 1 # The initial term\n",
    "    while not eq(term, nthTerm):\n",
    "        curElem = pattern.popleft() # The pattern is popped\n",
    "        initVal += curElem # The pattern is added\n",
    "        term += 1 # The term is subsequently increased by 1\n",
    "        pattern.append(curElem) # The pattern is appended again\n",
    "    return reduce(lambda x, y: x + y, list(map(int, list(str(initVal))))) # All the digits of the obtained value (initVal)\n",
    "# are added together and finally returned\n",
    "\n",
    "sumDig_nthTerm(10, [2, 1, 3], 6)"
   ]
  }
 ],
 "metadata": {
  "kernelspec": {
   "display_name": "Python 3 (ipykernel)",
   "language": "python",
   "name": "python3"
  },
  "language_info": {
   "codemirror_mode": {
    "name": "ipython",
    "version": 3
   },
   "file_extension": ".py",
   "mimetype": "text/x-python",
   "name": "python",
   "nbconvert_exporter": "python",
   "pygments_lexer": "ipython3",
   "version": "3.9.7"
  }
 },
 "nbformat": 4,
 "nbformat_minor": 5
}
