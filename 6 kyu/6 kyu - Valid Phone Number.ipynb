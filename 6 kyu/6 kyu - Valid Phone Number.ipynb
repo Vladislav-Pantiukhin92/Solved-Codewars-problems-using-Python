{
 "cells": [
  {
   "cell_type": "markdown",
   "id": "b5fc39e0",
   "metadata": {},
   "source": [
    "### Valid Phone Number - 6 kyu, Codewars/Python"
   ]
  },
  {
   "cell_type": "code",
   "execution_count": 43,
   "id": "a967f675",
   "metadata": {},
   "outputs": [
    {
     "data": {
      "text/plain": [
       "True"
      ]
     },
     "execution_count": 43,
     "metadata": {},
     "output_type": "execute_result"
    }
   ],
   "source": [
    "\"\"\"\n",
    "Write a function that accepts a string, and returns true if it is in the form of a phone number.\n",
    "Assume that any integer from 0-9 in any of the spots will produce a valid phone number.\n",
    "Only worry about the following format:\n",
    "(123) 456-7890 (don't forget the space after the close parentheses)\n",
    "\n",
    "Examples:\n",
    "\n",
    "\"(123) 456-7890\"  => true\n",
    "\"(1111)555 2345\"  => false\n",
    "\"(098) 123 4567\"  => false\n",
    "\"\"\"\n",
    "\n",
    "import re # Regular expressions to verify validity of the phone number\n",
    "\n",
    "def valid_phone_number(phone_number):\n",
    "# We are going to use re.sub() to replace the pattern with \"\"\n",
    "# If the transformed string is \"\", then, the phone number is valid\n",
    "# If the transformed string contains another characters - the phone number is not valid\n",
    "    result = re.sub(r\"\\(\\d{3}\\)\\s\\d{3}\\-\\d{4}\", \"\", phone_number)\n",
    "    if not result:\n",
    "        return True\n",
    "    return False\n",
    "\n",
    "valid_phone_number(\"(123) 456-7890\")"
   ]
  }
 ],
 "metadata": {
  "kernelspec": {
   "display_name": "Python 3 (ipykernel)",
   "language": "python",
   "name": "python3"
  },
  "language_info": {
   "codemirror_mode": {
    "name": "ipython",
    "version": 3
   },
   "file_extension": ".py",
   "mimetype": "text/x-python",
   "name": "python",
   "nbconvert_exporter": "python",
   "pygments_lexer": "ipython3",
   "version": "3.9.7"
  }
 },
 "nbformat": 4,
 "nbformat_minor": 5
}
