{
 "cells": [
  {
   "cell_type": "markdown",
   "id": "c8ba85b2",
   "metadata": {},
   "source": [
    "### Smallest Permutation - 6 kyu, Codewars/Python"
   ]
  },
  {
   "cell_type": "code",
   "execution_count": 39,
   "id": "10b6898a",
   "metadata": {},
   "outputs": [
    {
     "data": {
      "text/plain": [
       "-20"
      ]
     },
     "execution_count": 39,
     "metadata": {},
     "output_type": "execute_result"
    }
   ],
   "source": [
    "\"\"\"\n",
    "Given a number, find the permutation with the smallest absolute value (no leading zeros).\n",
    "\n",
    "-20 => -20\n",
    "-32 => -23\n",
    "0 => 0\n",
    "10 => 10\n",
    "29394 => 23499\n",
    "The input will always be an integer.\n",
    "\"\"\"\n",
    "\n",
    "from operator import * # 'operator.neg' function to make numbers negative, if necessary\n",
    "\n",
    "def min_permutation(number):\n",
    "    if number > 0:\n",
    "    # If the number doesn't contain 0s and non-negative, the smallest value is in the ascending order\n",
    "        if \"0\" not in str(number): \n",
    "            return int(\"\".join(sorted(str(number))))\n",
    "    # If the number contains 0s, then all zeros should be added as the second element, other numbers should be sorted as well \n",
    "        zeros = str(number).count(\"0\") \n",
    "        number = sorted(str(number).replace(\"0\", \"\"))\n",
    "        for i in range(zeros): # 'For loop' to add all zeros as the second element\n",
    "            number.insert(1, \"0\")\n",
    "        return int(\"\".join(number))\n",
    "    else:\n",
    "        # If the number doesn't contain 0s and negative, the smallest value is in the ascending order + \"-\"\n",
    "        if \"0\" not in str(number):\n",
    "            return neg(int(\"\".join(sorted(str(abs(number))))))\n",
    "        # If the number contains 0s, then all zeros should be added as the second element, other numbers should be sorted as well \n",
    "        zeros = str(number).count(\"0\")\n",
    "        number = sorted(str(abs(number)).replace(\"0\", \"\"))\n",
    "        for i in range(zeros): # 'For loop' to add all zeros as the second element\n",
    "            number.insert(1, \"0\")\n",
    "        return neg(int(\"\".join(number))) # Finally we make the smallest value negative\n",
    "    \n",
    "min_permutation(-20)"
   ]
  }
 ],
 "metadata": {
  "kernelspec": {
   "display_name": "Python 3 (ipykernel)",
   "language": "python",
   "name": "python3"
  },
  "language_info": {
   "codemirror_mode": {
    "name": "ipython",
    "version": 3
   },
   "file_extension": ".py",
   "mimetype": "text/x-python",
   "name": "python",
   "nbconvert_exporter": "python",
   "pygments_lexer": "ipython3",
   "version": "3.9.7"
  }
 },
 "nbformat": 4,
 "nbformat_minor": 5
}
