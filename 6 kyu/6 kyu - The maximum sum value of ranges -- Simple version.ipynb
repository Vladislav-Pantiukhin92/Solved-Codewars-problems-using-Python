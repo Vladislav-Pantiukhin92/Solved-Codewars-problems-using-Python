{
 "cells": [
  {
   "cell_type": "markdown",
   "id": "19f68b61",
   "metadata": {},
   "source": [
    "### The maximum sum value of ranges -- Simple version - 6 kyu, Codewars/Python"
   ]
  },
  {
   "cell_type": "code",
   "execution_count": 154,
   "id": "fa4820af",
   "metadata": {},
   "outputs": [
    {
     "data": {
      "text/plain": [
       "6"
      ]
     },
     "execution_count": 154,
     "metadata": {},
     "output_type": "execute_result"
    }
   ],
   "source": [
    "\"\"\"\n",
    "Description:\n",
    "For example:\n",
    "\n",
    " Given arr = [1,-2,3,4,-5,-4,3,2,1], \n",
    "       range = [[1,3],[0,4],[6,8]]\n",
    " should return 6\n",
    " \n",
    " calculation process:\n",
    " range[1,3] = arr[1]+arr[2]+arr[3] = 5\n",
    " range[0,4] = arr[0]+arr[1]+arr[2]+arr[3]+arr[4] = 1\n",
    " range[6,8] = arr[6]+arr[7]+arr[8] = 6\n",
    " So the maximum sum value is 6\n",
    "Note:\n",
    "arr/$a always has at least 5 elements;\n",
    "range/$range/ranges always has at least 1 element;\n",
    "All inputs are valid;\n",
    "This is a simple version, if you want some challenge, please try the challenge version.\n",
    "Some Examples\n",
    " maxSum([1,-2,3,4,-5,-4,3,2,1],[[1,3],[0,4],[6,8]]) === 6\n",
    " maxSum([1,-2,3,4,-5,-4,3,2,1],[[1,3]]) === 5\n",
    " maxSum([1,-2,3,4,-5,-4,3,2,1],[[1,4],[2,5]]) === 0\n",
    "\"\"\"\n",
    "\n",
    "def max_sum(array, ranges):\n",
    "    maxSum = -float(\"inf\") # Representation of an infinite negative number (the starting point of the maxSum)\n",
    "    # The brute force approach is utilized to find the maxSum\n",
    "    for i in ranges:\n",
    "        if sum(array[i[0]: i[1] + 1]) > maxSum:\n",
    "            maxSum = sum(array[i[0]: i[1] + 1])\n",
    "    return maxSum\n",
    "     \n",
    "max_sum([1,-2,3,4,-5,-4,3,2,1],[[1,3],[0,4],[6,8]])"
   ]
  }
 ],
 "metadata": {
  "kernelspec": {
   "display_name": "Python 3 (ipykernel)",
   "language": "python",
   "name": "python3"
  },
  "language_info": {
   "codemirror_mode": {
    "name": "ipython",
    "version": 3
   },
   "file_extension": ".py",
   "mimetype": "text/x-python",
   "name": "python",
   "nbconvert_exporter": "python",
   "pygments_lexer": "ipython3",
   "version": "3.9.7"
  }
 },
 "nbformat": 4,
 "nbformat_minor": 5
}
