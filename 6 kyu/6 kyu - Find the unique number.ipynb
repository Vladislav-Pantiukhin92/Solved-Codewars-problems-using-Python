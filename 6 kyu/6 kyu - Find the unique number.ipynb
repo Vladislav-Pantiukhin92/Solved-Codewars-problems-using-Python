{
 "cells": [
  {
   "cell_type": "markdown",
   "id": "82d5dce5",
   "metadata": {},
   "source": [
    "### Find the unique number - 6 kyu, Codewars/Python"
   ]
  },
  {
   "cell_type": "code",
   "execution_count": 4,
   "id": "bda803f6",
   "metadata": {},
   "outputs": [
    {
     "data": {
      "text/plain": [
       "2"
      ]
     },
     "execution_count": 4,
     "metadata": {},
     "output_type": "execute_result"
    }
   ],
   "source": [
    "\"\"\"\n",
    "There is an array with some numbers. All numbers are equal except for one. Try to find it!\n",
    "\n",
    "find_uniq([ 1, 1, 1, 2, 1, 1 ]) == 2\n",
    "find_uniq([ 0, 0, 0.55, 0, 0 ]) == 0.55\n",
    "It’s guaranteed that array contains at least 3 numbers.\n",
    "The tests contain some very huge arrays, so think about performance.\n",
    "\"\"\"\n",
    "\n",
    "# To find the unique number, it is simply possible to create the dictionary, where keys are numbers and values\n",
    "# are their occurrence within the given input array\n",
    "\n",
    "from collections import Counter # The dictionary will be created through 'collections.Counter'\n",
    "\n",
    "def find_uniq(arr):\n",
    "    myDict = dict(Counter(arr)) # Creation of the dictionary\n",
    "    for i in myDict:\n",
    "        if myDict[i] == 1: # If the occurrence of a number equals to 1 within the dictionary - we return this number\n",
    "            return i # The unique number is returned\n",
    "        \n",
    "find_uniq([ 1, 1, 1, 2, 1, 1 ])"
   ]
  }
 ],
 "metadata": {
  "kernelspec": {
   "display_name": "Python 3 (ipykernel)",
   "language": "python",
   "name": "python3"
  },
  "language_info": {
   "codemirror_mode": {
    "name": "ipython",
    "version": 3
   },
   "file_extension": ".py",
   "mimetype": "text/x-python",
   "name": "python",
   "nbconvert_exporter": "python",
   "pygments_lexer": "ipython3",
   "version": "3.9.7"
  }
 },
 "nbformat": 4,
 "nbformat_minor": 5
}
