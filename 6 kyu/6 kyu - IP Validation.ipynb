{
 "cells": [
  {
   "cell_type": "markdown",
   "id": "c5f795ed",
   "metadata": {},
   "source": [
    "### IP Validation - 6 kyu, Codewars/Python"
   ]
  },
  {
   "cell_type": "code",
   "execution_count": 5,
   "id": "0357c773",
   "metadata": {},
   "outputs": [
    {
     "data": {
      "text/plain": [
       "True"
      ]
     },
     "execution_count": 5,
     "metadata": {},
     "output_type": "execute_result"
    }
   ],
   "source": [
    "\"\"\"\n",
    "Write an algorithm that will identify valid IPv4 addresses in dot-decimal format. \n",
    "IPs should be considered valid if they consist of four octets, with values between 0 and 255, inclusive.\n",
    "\n",
    "Valid inputs examples:\n",
    "Examples of valid inputs:\n",
    "1.2.3.4\n",
    "123.45.67.89\n",
    "Invalid input examples:\n",
    "1.2.3\n",
    "1.2.3.4.5\n",
    "123.456.78.90\n",
    "123.045.067.089\n",
    "Notes:\n",
    "Leading zeros (e.g. 01.02.03.04) are considered invalid\n",
    "Inputs are guaranteed to be a single string\n",
    "\"\"\"\n",
    "\n",
    "import re # Regular expressions will be used to verify the input validity\n",
    "\n",
    "def is_valid_IP(strng):\n",
    "    split_lst = strng.split(\".\") # The given input is split into chunks\n",
    "    if len(split_lst) != 4: # If the number of chunks != 4 - we return False right off the bat\n",
    "        return False\n",
    "    # We are going to use the 'filter' function to verify the input validity\n",
    "    def filter_func(x): # The filter function\n",
    "        if not x.isdigit(): # If the chunk is not a digit - it is removed\n",
    "            return 0\n",
    "        if int(x) == 0: # If the chunk starts with \"0\" and the length of the chunk > 1 - it is removed\n",
    "            if len(x) != 1:\n",
    "                return 0\n",
    "    # If the chunk starts with \"0\" or with \"-\" - it is removed\n",
    "        if x.startswith(\"0\") and len(x) > 1 or x.startswith(\"-\"):\n",
    "            return 0\n",
    "        curValue = int(x) # If the integer value is not within the envisaged numeric range - it is removed\n",
    "        if not 0 <= curValue <= 255:\n",
    "            return 0\n",
    "        else:\n",
    "            return 1 # Alternatively, the chunk remains within the list\n",
    "    result = list(filter(filter_func, split_lst))\n",
    "    if len(result) != 4: # If, following the application of the 'filter' function, the length of the list is \n",
    "        # still 4 - we return True, otherwise, we return False\n",
    "        return False\n",
    "    return True\n",
    "\n",
    "is_valid_IP(\"12.255.56.1\")"
   ]
  }
 ],
 "metadata": {
  "kernelspec": {
   "display_name": "Python 3 (ipykernel)",
   "language": "python",
   "name": "python3"
  },
  "language_info": {
   "codemirror_mode": {
    "name": "ipython",
    "version": 3
   },
   "file_extension": ".py",
   "mimetype": "text/x-python",
   "name": "python",
   "nbconvert_exporter": "python",
   "pygments_lexer": "ipython3",
   "version": "3.9.7"
  }
 },
 "nbformat": 4,
 "nbformat_minor": 5
}
