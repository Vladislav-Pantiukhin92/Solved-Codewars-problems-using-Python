{
 "cells": [
  {
   "cell_type": "markdown",
   "id": "3f4b093c",
   "metadata": {},
   "source": [
    "### How many pages in a book? - 6 kyu, Codewars/Python"
   ]
  },
  {
   "cell_type": "code",
   "execution_count": 109,
   "id": "207e5866",
   "metadata": {},
   "outputs": [
    {
     "data": {
      "text/plain": [
       "17"
      ]
     },
     "execution_count": 109,
     "metadata": {},
     "output_type": "execute_result"
    }
   ],
   "source": [
    "\"\"\"\n",
    "Every book has n pages with page numbers 1 to n. The summary is made by adding up the number of digits of all page numbers.\n",
    "Task: Given the summary, find the number of pages n the book has.\n",
    "\n",
    "Example\n",
    "If the input is summary=25, then the output must be n=17: The numbers 1 to 17 have 25 digits in total: 1234567891011121314151617.\n",
    "Be aware that you'll get enormous books having up to 100.000 pages.\n",
    "All inputs will be valid.\n",
    "\"\"\"\n",
    "\n",
    "def amount_of_pages(summary):\n",
    "    count = 0\n",
    "    string = \"\"\n",
    "    while len(string) != summary: # We just count the length of numbers, transformed into strings\n",
    "        count += 1\n",
    "        string += str(count)\n",
    "    return count\n",
    "\n",
    "\n",
    "amount_of_pages(25)\n"
   ]
  }
 ],
 "metadata": {
  "kernelspec": {
   "display_name": "Python 3",
   "language": "python",
   "name": "python3"
  },
  "language_info": {
   "codemirror_mode": {
    "name": "ipython",
    "version": 3
   },
   "file_extension": ".py",
   "mimetype": "text/x-python",
   "name": "python",
   "nbconvert_exporter": "python",
   "pygments_lexer": "ipython3",
   "version": "3.8.8"
  }
 },
 "nbformat": 4,
 "nbformat_minor": 5
}
