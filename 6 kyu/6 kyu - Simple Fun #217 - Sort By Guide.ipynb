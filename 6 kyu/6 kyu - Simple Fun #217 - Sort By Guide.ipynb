{
 "cells": [
  {
   "cell_type": "markdown",
   "id": "c6bce4cf",
   "metadata": {},
   "source": [
    "### Simple Fun #217: Sort By Guide - 6 kyu, Codewars/Python"
   ]
  },
  {
   "cell_type": "code",
   "execution_count": 260,
   "id": "1cd2a6ab",
   "metadata": {},
   "outputs": [
    {
     "data": {
      "text/plain": [
       "[78, 4, 3, 45, 56, 66, 2, 2, 4]"
      ]
     },
     "execution_count": 260,
     "metadata": {},
     "output_type": "execute_result"
    }
   ],
   "source": [
    "\"\"\"\n",
    "You're given an array of positive integers arr, and an array guide of the same length. Sort array arr using array guide by the following rules:\n",
    "if guide[i] = -1, arr[i] shouldn't be sorted;\n",
    "if guide[i] ≠ -1, arr[i] should be sorted, \n",
    "     and among all elements that should be sorted, \n",
    "     arr[i] should be the ith one (1-based).\n",
    "Input/Output\n",
    "[input] integer array arr\n",
    "Array of positive integers.\n",
    "\n",
    "1 ≤ a.length ≤ 100\n",
    "\n",
    "1 ≤ A[i] ≤ 10^4\n",
    "\n",
    "[input] integer array guide\n",
    "It is guaranteed that guide.length = a.length.\n",
    "\n",
    "[output] an integer array\n",
    "Array sorted as described above.\n",
    "Example\n",
    "For\n",
    "\n",
    "arr = [56, 78, 3, 45, 4, 66, 2, 2, 4]\n",
    "guide = [3, 1, -1, -1, 2, -1, 4, -1, 5]\n",
    "the output should be [78,4,3,45,56,66,2,2,4]\n",
    "Here's how arr was sorted:\n",
    "\n",
    "Elements 3, 45, 66 and 2 don't need to be sorted, \n",
    "so we can put them in the resulting array right away:\n",
    "[?, ?, 3, 45, ?, 66, ?, 2, ?].\n",
    "Now we need to sort the remaining elements. \n",
    "According to the guide, \n",
    "they should be sorted in the following order:\n",
    "[78, 4, 56, 2, 4]\n",
    "Thus, the final answer is:\n",
    "[78, 4, 3, 45, 56, 66, 2, 2, 4].\n",
    "\"\"\"\n",
    "\n",
    "from itertools import count\n",
    "from operator import *\n",
    "\n",
    "def sort_by_guide(array, guide):\n",
    "    # Let's create the list of None values, which is going to store the real values in the proper order in the future\n",
    "    final_array = [None] * len(array)\n",
    "    guideline = list(zip(array, guide, count())) # The zip_list stores 3 elements - real value, guide and index\n",
    "    for i in guideline:\n",
    "        if i[1] == -1: # If the guide is -1, then we focus on the index as a storage address\n",
    "            final_array[i[2]] = i[0]\n",
    "    # We remove the elements, which have already been stored in the final_array, so they are redundant\n",
    "    # Other elements are sorted to find the priority\n",
    "    sorted_filter_list = sorted(list(filter(lambda x: x[1] != -1, guideline)), key=itemgetter(1))\n",
    "    # Through 'for loop' and 'while loop' we interate over values\n",
    "    # If the value is None in the final_array, we store the first-priority real value there, then the process continues\n",
    "    for i in sorted_filter_list:\n",
    "        index = 0\n",
    "        while final_array[index]:\n",
    "            index += 1\n",
    "        final_array[index] = i[0]\n",
    "    return final_array\n",
    "                   \n",
    "sort_by_guide([56, 78, 3, 45, 4, 66, 2, 2, 4], [3, 1, -1, -1, 2, -1, 4, -1, 5])"
   ]
  }
 ],
 "metadata": {
  "kernelspec": {
   "display_name": "Python 3 (ipykernel)",
   "language": "python",
   "name": "python3"
  },
  "language_info": {
   "codemirror_mode": {
    "name": "ipython",
    "version": 3
   },
   "file_extension": ".py",
   "mimetype": "text/x-python",
   "name": "python",
   "nbconvert_exporter": "python",
   "pygments_lexer": "ipython3",
   "version": "3.9.7"
  }
 },
 "nbformat": 4,
 "nbformat_minor": 5
}
