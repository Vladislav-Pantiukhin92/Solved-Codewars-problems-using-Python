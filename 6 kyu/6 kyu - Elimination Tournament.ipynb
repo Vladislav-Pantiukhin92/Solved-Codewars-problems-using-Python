{
 "cells": [
  {
   "cell_type": "markdown",
   "id": "2acc325e",
   "metadata": {},
   "source": [
    "### Elimination Tournament - 6 kyu, Codewars/Python"
   ]
  },
  {
   "cell_type": "code",
   "execution_count": 4,
   "id": "266cc67f",
   "metadata": {},
   "outputs": [
    {
     "data": {
      "text/plain": [
       "[[9, 5, 4, 7, 6, 3, 8, 2], [9, 7, 6, 8], [9, 8], [9]]"
      ]
     },
     "execution_count": 4,
     "metadata": {},
     "output_type": "execute_result"
    }
   ],
   "source": [
    "\"\"\"\n",
    "In this Kata you will be given an array (or another language-appropriate collection) representing \n",
    "contestant ranks. You must eliminate contestant in series of rounds comparing consecutive pairs of \n",
    "ranks and store all initial and intermediate results in an array.\n",
    "During one round, the lowest rank of a pair is eliminated while the highest proceeds to the next round. \n",
    "This goes on until one contestant only is left. If the number of contestants is odd, the last one of the \n",
    "current array becomes the first of the next round.\n",
    "At the end of the competition, return the results of all the rounds in the form of array of arrays.\n",
    "\n",
    "Example:\n",
    "input = [9, 5, 4, 7, 6, 3, 8, 2];\n",
    "\n",
    "output = [\n",
    "  [9, 5, 4, 7, 6, 3, 8, 2],  // first round is initial input\n",
    "  [9, 7, 6, 8],              // results of 9 vs 5, 4 vs 7, 6 vs 3, and 8 vs 2 \n",
    "  [9, 8],                    // results of 9 vs 7 and 6 vs 8\n",
    "  [9]                        // results of 9 vs 8\n",
    "];\n",
    "Notes:\n",
    "\n",
    "Array length will alway be >= 2 and <= 100\n",
    "Elements of the array will always be >=1 and <= 100\n",
    "Input must not be altered.\n",
    "\"\"\"\n",
    "\n",
    "def tourney(inp):\n",
    "    lst = inp.copy() # The input is not altered, so we copy the given input array\n",
    "    final = [inp] # The original given input array is appended to the list container, which will be finally returned\n",
    "    odd_elem = [] # It is the list, which will store winners of each round\n",
    "    length = len(lst) # The initial length of the given input array\n",
    "    if length % 2 != 0: # The case, when the initial input is odd\n",
    "        odd_elem.append(lst.pop())\n",
    "    while lst: # Through the loop we will find winners among all pairs of contestants\n",
    "        cur_list = []\n",
    "        i = 0\n",
    "        j = 1\n",
    "        while j < len(lst):\n",
    "            cur_list.append(max(lst[i], lst[j])) # The winner is the largest element within a pair of numbers\n",
    "            i += 2\n",
    "            j += 2\n",
    "        if odd_elem: # The case, when the input is odd\n",
    "            cur_list = [odd_elem.pop()] + cur_list\n",
    "        if cur_list: # The list with winners is appended to the list container\n",
    "            final.append(cur_list)\n",
    "        lst = cur_list.copy() # The list is updated\n",
    "        if len(lst) % 2 != 0:\n",
    "            odd_elem.append(lst.pop())\n",
    "    return final # The list with transition contestants as well as with the final winner is returned\n",
    "\n",
    "tourney([9, 5, 4, 7, 6, 3, 8, 2])"
   ]
  }
 ],
 "metadata": {
  "kernelspec": {
   "display_name": "Python 3 (ipykernel)",
   "language": "python",
   "name": "python3"
  },
  "language_info": {
   "codemirror_mode": {
    "name": "ipython",
    "version": 3
   },
   "file_extension": ".py",
   "mimetype": "text/x-python",
   "name": "python",
   "nbconvert_exporter": "python",
   "pygments_lexer": "ipython3",
   "version": "3.9.7"
  }
 },
 "nbformat": 4,
 "nbformat_minor": 5
}
