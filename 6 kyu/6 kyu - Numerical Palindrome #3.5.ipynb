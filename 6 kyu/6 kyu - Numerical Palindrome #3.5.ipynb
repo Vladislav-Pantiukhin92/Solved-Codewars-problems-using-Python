{
 "cells": [
  {
   "cell_type": "markdown",
   "id": "5f8de093",
   "metadata": {},
   "source": [
    "### Numerical Palindrome #3.5 - 6 kyu, Codewars/Python"
   ]
  },
  {
   "cell_type": "code",
   "execution_count": 57,
   "id": "cba27d96",
   "metadata": {},
   "outputs": [
    {
     "data": {
      "text/plain": [
       "'Not valid'"
      ]
     },
     "execution_count": 57,
     "metadata": {},
     "output_type": "execute_result"
    }
   ],
   "source": [
    "\"\"\"\n",
    "A palindrome is a word, phrase, number, or other sequence of characters which reads the same \n",
    "backward as forward. Examples of numerical palindromes are: 2332, 110011, 54322345\n",
    "For a given number num, write a function which returns an array of all the numerical palindromes \n",
    "contained within each number. The array should be sorted in ascending order and any duplicates \n",
    "should be removed.\n",
    "In this kata, single digit numbers and numbers which start or end with zeros (such as 010 and 00) \n",
    "are NOT considered valid numerical palindromes.\n",
    "If num contains no valid palindromes, return \"No palindromes found\". Otherwise, return \"Not valid\" \n",
    "if the input is not an integer or is less than 0.\n",
    "\n",
    "Examples\n",
    "palindrome(1221)      =>  [22, 1221]\n",
    "palindrome(34322122)  =>  [22, 212, 343, 22122]\n",
    "palindrome(1001331)   =>  [33, 1001, 1331]\n",
    "palindrome(1294)      =>  \"No palindromes found\"\n",
    "palindrome(\"1221\")    =>  \"Not valid\"\n",
    "\"\"\"\n",
    "\n",
    "def palindrome(number):\n",
    "    final = []\n",
    "    if not isinstance(number, int) or number < 0: # Initial verification \n",
    "        return \"Not valid\"\n",
    "    number = str(number) # Transformation into the string type\n",
    "    # Code to identify the odd-numbered palindromes\n",
    "    for i in range(len(number)):\n",
    "        palindrome = \"\"\n",
    "        l, r = i, i\n",
    "        while l >= 0 and r < len(number) and number[l] == number[r]:\n",
    "            palindrome = number[l: r + 1]\n",
    "            # Only unique palindromes with the length > 1 are included\n",
    "            if len(palindrome) > 1 and palindrome not in final:\n",
    "                # Palindromes with 0s at the beginning and at the end of the string are ignored\n",
    "                if not palindrome.startswith(\"0\") and not palindrome.endswith(\"0\"):\n",
    "                    final.append(palindrome)\n",
    "            l -= 1\n",
    "            r += 1\n",
    "     # Code to identify the even-numbered palindromes            \n",
    "    for i in range(len(number)):\n",
    "        palindrome = \"\"\n",
    "        l, r = i, i + 1\n",
    "        while l >= 0 and r < len(number) and number[l] == number[r]:\n",
    "            palindrome = number[l: r + 1]\n",
    "            # Only unique palindromes with the length > 1 are included\n",
    "            if len(palindrome) > 1 and palindrome not in final:\n",
    "                # Palindromes with 0s at the beginning and at the end of the string are ignored\n",
    "                if not palindrome.startswith(\"0\") and not palindrome.endswith(\"0\"):\n",
    "                    final.append(palindrome)\n",
    "            l -= 1\n",
    "            r += 1\n",
    "            \n",
    "    if len(final) < 1: # The case, when the final list (container) is empty\n",
    "        return \"No palindromes found\"\n",
    "    # When the list is non-empty, then we change the type (from string to integer) and return the sorted array\n",
    "    return sorted(list(map(int, final)))\n",
    "    \n",
    "palindrome(\"22112200\")"
   ]
  }
 ],
 "metadata": {
  "kernelspec": {
   "display_name": "Python 3 (ipykernel)",
   "language": "python",
   "name": "python3"
  },
  "language_info": {
   "codemirror_mode": {
    "name": "ipython",
    "version": 3
   },
   "file_extension": ".py",
   "mimetype": "text/x-python",
   "name": "python",
   "nbconvert_exporter": "python",
   "pygments_lexer": "ipython3",
   "version": "3.9.7"
  }
 },
 "nbformat": 4,
 "nbformat_minor": 5
}
