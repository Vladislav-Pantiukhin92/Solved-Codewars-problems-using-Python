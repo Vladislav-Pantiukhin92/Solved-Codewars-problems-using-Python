{
 "cells": [
  {
   "cell_type": "markdown",
   "id": "0e089b1b",
   "metadata": {},
   "source": [
    "### Highest Rank Number in an Array - 6 kyu, Codewars/Python"
   ]
  },
  {
   "cell_type": "code",
   "execution_count": 399,
   "id": "bdddc5d2",
   "metadata": {},
   "outputs": [
    {
     "data": {
      "text/plain": [
       "37"
      ]
     },
     "execution_count": 399,
     "metadata": {},
     "output_type": "execute_result"
    }
   ],
   "source": [
    "\"\"\"\n",
    "Complete the method which returns the number which is most frequent in the given input array. If there is a tie for most frequent number, return the largest number among them.\n",
    "\n",
    "Note: no empty arrays will be given.\n",
    "\n",
    "Examples\n",
    "[12, 10, 8, 12, 7, 6, 4, 10, 12]              -->  12\n",
    "[12, 10, 8, 12, 7, 6, 4, 10, 12, 10]          -->  12\n",
    "[12, 10, 8, 8, 3, 3, 3, 3, 2, 4, 10, 12, 10]  -->   3\n",
    "\"\"\"\n",
    "\n",
    "from itertools import groupby\n",
    "from operator import *\n",
    "\n",
    "def highest_rank(arr):\n",
    "    # Just for educational purposes I am going to use quick_sort algorithm\n",
    "    def quick_sort(arr):\n",
    "        if len(arr) < 2:\n",
    "            return arr\n",
    "        else:\n",
    "            pivot = arr[0]\n",
    "            smaller = [i for i in arr if i < pivot]\n",
    "            equal = [i for i in arr if i == pivot]\n",
    "            greater = [i for i in arr if i > pivot]\n",
    "            return quick_sort(smaller) + equal + quick_sort(greater)\n",
    "    sorted_array = quick_sort(arr)\n",
    "    # The set structure helps to find out the max value if there are no duplicates\n",
    "    if sorted_array == sorted(set(sorted_array)):\n",
    "        return max(sorted_array)\n",
    "    final = [] # 'Groupby' to loop over unique values and identify their amount\n",
    "    for key, group in groupby(sorted_array):\n",
    "        final.append([key, len(list(group))])\n",
    "    sorted_final = sorted(final, key=itemgetter(1))\n",
    "    return sorted_final[-1][0] # The sought-after number is the final number in the final list of lists\n",
    "\n",
    "highest_rank([19, 14, 37, 47, 26, 49, 19, 30, 37, 26, 17, 29, 15, 17, 44, 41, 14, 46, 0])"
   ]
  }
 ],
 "metadata": {
  "kernelspec": {
   "display_name": "Python 3",
   "language": "python",
   "name": "python3"
  },
  "language_info": {
   "codemirror_mode": {
    "name": "ipython",
    "version": 3
   },
   "file_extension": ".py",
   "mimetype": "text/x-python",
   "name": "python",
   "nbconvert_exporter": "python",
   "pygments_lexer": "ipython3",
   "version": "3.8.8"
  }
 },
 "nbformat": 4,
 "nbformat_minor": 5
}
