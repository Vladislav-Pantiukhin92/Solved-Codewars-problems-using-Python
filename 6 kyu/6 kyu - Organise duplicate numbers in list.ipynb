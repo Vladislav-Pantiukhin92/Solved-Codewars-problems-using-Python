{
 "cells": [
  {
   "cell_type": "markdown",
   "id": "3c8d08ec",
   "metadata": {},
   "source": [
    "### Organise duplicate numbers in list - 6 kyu, Codewars/Python"
   ]
  },
  {
   "cell_type": "code",
   "execution_count": 1,
   "id": "688ed67e",
   "metadata": {},
   "outputs": [
    {
     "data": {
      "text/plain": [
       "[[3, 3], [2, 2], [6], [1]]"
      ]
     },
     "execution_count": 1,
     "metadata": {},
     "output_type": "execute_result"
    }
   ],
   "source": [
    "\"\"\"\n",
    "Sam is an avid collector of numbers. Every time he finds a new number he throws it on the top of his \n",
    "number-pile. Help Sam organise his collection so he can take it to the International Number Collectors \n",
    "Conference in Cologne.\n",
    "Given an array of numbers, your function should return an array of arrays, where each subarray contains \n",
    "all the duplicates of a particular number. Subarrays should be in the same order as the first occurence \n",
    "of the number they contain:\n",
    "group([3, 2, 6, 2, 1, 3])\n",
    ">>> [[3, 3], [2, 2], [6], [1]]\n",
    "Assume the input is always going to be an array of numbers. If the input is an empty array, an empty \n",
    "array should be returned.\n",
    "\"\"\"\n",
    "\n",
    "from collections import Counter # 'collections.Counter' will be used to create the dictionary, where keys are \n",
    "# numbers/elements of the input array and values are their occurrence within the input array\n",
    "\n",
    "def group(arr):\n",
    "    myDict = dict(Counter(arr)) # Let's create the above-mentioned dictionary\n",
    "    final = [] # The list container, which will store elements\n",
    "    prevNums = [] # If this list contains an element - it shouldn't be appended to the final list once again\n",
    "    for i in arr:\n",
    "        if i not in prevNums:\n",
    "            occurrence = myDict[i] # We count the occurrence of each element\n",
    "            final.append([i] * occurrence) # After that a sublist with occurrences is created and added to the \n",
    "            # final list\n",
    "            prevNums.append(i)\n",
    "    return final # The final list is returned\n",
    "\n",
    "group([3, 2, 6, 2, 1, 3])"
   ]
  }
 ],
 "metadata": {
  "kernelspec": {
   "display_name": "Python 3 (ipykernel)",
   "language": "python",
   "name": "python3"
  },
  "language_info": {
   "codemirror_mode": {
    "name": "ipython",
    "version": 3
   },
   "file_extension": ".py",
   "mimetype": "text/x-python",
   "name": "python",
   "nbconvert_exporter": "python",
   "pygments_lexer": "ipython3",
   "version": "3.9.7"
  }
 },
 "nbformat": 4,
 "nbformat_minor": 5
}
