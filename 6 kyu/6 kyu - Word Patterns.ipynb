{
 "cells": [
  {
   "cell_type": "markdown",
   "id": "b58a1a28",
   "metadata": {},
   "source": [
    "### Word Patterns - 6 kyu, Codewars/Python"
   ]
  },
  {
   "cell_type": "code",
   "execution_count": 306,
   "id": "79e42784",
   "metadata": {},
   "outputs": [
    {
     "data": {
      "text/plain": [
       "True"
      ]
     },
     "execution_count": 306,
     "metadata": {},
     "output_type": "execute_result"
    }
   ],
   "source": [
    "\"\"\"\n",
    "Write\n",
    "\n",
    "word_pattern(pattern, string)\n",
    "that given a pattern and a string str, find if str follows the same sequence as pattern.\n",
    "\n",
    "For example:\n",
    "\n",
    "word_pattern('abab', 'truck car truck car') == True\n",
    "word_pattern('aaaa', 'dog dog dog dog') == True\n",
    "word_pattern('abab', 'apple banana banana apple') == False\n",
    "word_pattern('aaaa', 'cat cat dog cat') == False\n",
    "Note: Each letter in the pattern stands for a distinct word\n",
    "\"\"\"\n",
    "\n",
    "def word_pattern(pattern, string):\n",
    "    # It is much more convenient to compare 'pattern' and 'string' if 'string' is divided into elements\n",
    "    my_list = string.split()\n",
    "    # It is obvious that we return False if two lengths are different\n",
    "    if len(pattern) != len(my_list):\n",
    "        return False\n",
    "    else:\n",
    "        # Otherwise, the dictionary with key-value pairs will be created\n",
    "        # The major idea behind the solution is that each unique key should correspond to the unique value\n",
    "        # In case of imbalance (for example, if two or more unique keys correspond to the same value, etc.)\n",
    "        # we return False\n",
    "        hashTable = {}\n",
    "        i = 0\n",
    "        j = 0\n",
    "        while i < len(pattern):\n",
    "            if pattern[i] not in hashTable:\n",
    "                if my_list[j] not in list(hashTable.values()):\n",
    "                    hashTable[pattern[i]] = my_list[j]\n",
    "                else:\n",
    "                    return False\n",
    "            else:\n",
    "                if hashTable[pattern[i]] != my_list[j]:\n",
    "                    return False\n",
    "            i += 1\n",
    "            j += 1\n",
    "        return True\n",
    "    \n",
    "word_pattern(\"abab\", \"truck car truck car\")"
   ]
  }
 ],
 "metadata": {
  "kernelspec": {
   "display_name": "Python 3 (ipykernel)",
   "language": "python",
   "name": "python3"
  },
  "language_info": {
   "codemirror_mode": {
    "name": "ipython",
    "version": 3
   },
   "file_extension": ".py",
   "mimetype": "text/x-python",
   "name": "python",
   "nbconvert_exporter": "python",
   "pygments_lexer": "ipython3",
   "version": "3.9.7"
  }
 },
 "nbformat": 4,
 "nbformat_minor": 5
}
