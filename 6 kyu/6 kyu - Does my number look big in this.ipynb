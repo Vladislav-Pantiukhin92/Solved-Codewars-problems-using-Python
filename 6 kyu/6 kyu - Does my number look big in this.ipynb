{
 "cells": [
  {
   "cell_type": "markdown",
   "id": "dcbae4b3",
   "metadata": {},
   "source": [
    "### Does my number look big in this? - 6 kyu, Codewars/Python"
   ]
  },
  {
   "cell_type": "code",
   "execution_count": 11,
   "id": "6b6ae059",
   "metadata": {},
   "outputs": [
    {
     "data": {
      "text/plain": [
       "True"
      ]
     },
     "execution_count": 11,
     "metadata": {},
     "output_type": "execute_result"
    }
   ],
   "source": [
    "\"\"\"\n",
    "A Narcissistic Number is a positive number which is the sum of its own digits, each raised to the power \n",
    "of the number of digits in a given base. In this Kata, we will restrict ourselves to decimal (base 10).\n",
    "For example, take 153 (3 digits), which is narcisstic:\n",
    "\n",
    "    1^3 + 5^3 + 3^3 = 1 + 125 + 27 = 153\n",
    "and 1652 (4 digits), which isn't:\n",
    "\n",
    "    1^4 + 6^4 + 5^4 + 2^4 = 1 + 1296 + 625 + 16 = 1938\n",
    "The Challenge:\n",
    "Your code must return true or false (not 'true' and 'false') depending upon whether the given number is \n",
    "a Narcissistic number in base 10. This may be True and False in your language, e.g. PHP.\n",
    "Error checking for text strings or other invalid inputs is not required, only valid positive non-zero \n",
    "integers will be passed into the function.\n",
    "\"\"\"\n",
    "\n",
    "from operator import * # 'operator.eq' will inspect the equality of integers\n",
    "\n",
    "def narcissistic(value):\n",
    "    if value < 10: # If the given input value contains only one element - we return True (it is a Narcissistic number)\n",
    "        return True\n",
    "    length = len(str(value)) # The length of the given input value is a power\n",
    "# Let's transform the number, taking into account the guideline:\n",
    "    transformed = sum(list(map(lambda x: pow(int(x), length), list(str(value)))))\n",
    "    if eq(value, transformed): # If the given input value and the transformed number are equal - we return True\n",
    "        return True\n",
    "    return False # Alternatively, we return False\n",
    "narcissistic(153)"
   ]
  }
 ],
 "metadata": {
  "kernelspec": {
   "display_name": "Python 3 (ipykernel)",
   "language": "python",
   "name": "python3"
  },
  "language_info": {
   "codemirror_mode": {
    "name": "ipython",
    "version": 3
   },
   "file_extension": ".py",
   "mimetype": "text/x-python",
   "name": "python",
   "nbconvert_exporter": "python",
   "pygments_lexer": "ipython3",
   "version": "3.9.7"
  }
 },
 "nbformat": 4,
 "nbformat_minor": 5
}
