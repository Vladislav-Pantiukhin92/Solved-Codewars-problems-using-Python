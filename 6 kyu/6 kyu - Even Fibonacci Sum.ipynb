{
 "cells": [
  {
   "cell_type": "markdown",
   "id": "06dd3a94",
   "metadata": {},
   "source": [
    "### Even Fibonacci Sum - 6 kyu, Codewars/Python"
   ]
  },
  {
   "cell_type": "code",
   "execution_count": 69,
   "id": "42e9d052",
   "metadata": {},
   "outputs": [
    {
     "data": {
      "text/plain": [
       "10"
      ]
     },
     "execution_count": 69,
     "metadata": {},
     "output_type": "execute_result"
    }
   ],
   "source": [
    "\"\"\"\n",
    "Give the summation of all even numbers in a Fibonacci sequence up to, but not including, the number \n",
    "passed to your function. Or, in other words, sum all the even Fibonacci numbers that are lower than the \n",
    "given number n (n is not the nth element of Fibonnacci sequence) without including n.\n",
    "The Fibonacci sequence is a series of numbers where the next value is the addition of the previous two \n",
    "values. The series starts with 0 and 1:\n",
    "0 1 1 2 3 5 8 13 21...\n",
    "\n",
    "For example:\n",
    "\n",
    "eve_fib(0)==0\n",
    "eve_fib(33)==10\n",
    "eve_fib(25997544)==19544084\n",
    "\"\"\"\n",
    "\n",
    "def even_fib(m):\n",
    "# Let's create the fibonacci sequence through the dynamic programming approach (tabulation)\n",
    "# We will prolong the fibonacci sequence while the last fibonacci number < the given 'n'\n",
    "    fib_array = [0, 1]\n",
    "    index = 1\n",
    "    while fib_array[index] < m:\n",
    "        fib_array.append(0)\n",
    "        index += 1\n",
    "        fib_array[index] = fib_array[index - 1] + fib_array[index - 2]\n",
    "    # Currently we have one fibonacci number, which is higher than the given 'n'\n",
    "    fib_array.pop() # Let's pop it\n",
    "    # After that, through the 'filter' function we remove all odd numbers and only even numbers remain within the list\n",
    "    even_num = list(filter(lambda x: x % 2 == 0, fib_array))\n",
    "    return sum(even_num) # The sum of filtered numbers is returned\n",
    "\n",
    "even_fib(10)"
   ]
  }
 ],
 "metadata": {
  "kernelspec": {
   "display_name": "Python 3 (ipykernel)",
   "language": "python",
   "name": "python3"
  },
  "language_info": {
   "codemirror_mode": {
    "name": "ipython",
    "version": 3
   },
   "file_extension": ".py",
   "mimetype": "text/x-python",
   "name": "python",
   "nbconvert_exporter": "python",
   "pygments_lexer": "ipython3",
   "version": "3.9.7"
  }
 },
 "nbformat": 4,
 "nbformat_minor": 5
}
