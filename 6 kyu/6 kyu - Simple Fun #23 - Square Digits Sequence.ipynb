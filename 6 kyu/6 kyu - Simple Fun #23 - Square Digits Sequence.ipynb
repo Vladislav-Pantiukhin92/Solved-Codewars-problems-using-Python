{
 "cells": [
  {
   "cell_type": "markdown",
   "id": "dcbae4b3",
   "metadata": {},
   "source": [
    "### Simple Fun #23: Square Digits Sequence - 6 kyu, Codewars/Python"
   ]
  },
  {
   "cell_type": "code",
   "execution_count": 4,
   "id": "435487e0",
   "metadata": {},
   "outputs": [
    {
     "data": {
      "text/plain": [
       "4"
      ]
     },
     "execution_count": 4,
     "metadata": {},
     "output_type": "execute_result"
    }
   ],
   "source": [
    "\"\"\"\n",
    "Consider a sequence of numbers a0, a1, ..., an, in which an element is equal to the sum of squared digits \n",
    "of the previous element. The sequence ends once an element that has already been in the sequence appears again.\n",
    "Given the first element a0, find the length of the sequence.\n",
    "Example\n",
    "For a0 = 16, the output should be 9\n",
    "Here's how elements of the sequence are constructed:\n",
    "\n",
    "a0 = 16\n",
    "a1 = 12 + 62 = 37\n",
    "a2 = 32 + 72 = 58\n",
    "a3 = 52 + 82 = 89\n",
    "a4 = 82 + 92 = 145\n",
    "a5 = 12 + 42 + 52 = 42\n",
    "a6 = 42 + 22 = 20\n",
    "a7 = 22 + 02 = 4\n",
    "\n",
    "a8 = 42 = 16, which has already occurred before (a0)\n",
    "Thus, there are 9 elements in the sequence.\n",
    "For a0 = 103, the output should be 4\n",
    "The sequence goes as follows: 103 -> 10 -> 1 -> 1, 4 elements altogether.\n",
    "Input/Output\n",
    "[input] integer a0\n",
    "First element of a sequence, positive integer.\n",
    "Constraints: 1 ≤ a0 ≤ 650.\n",
    "[output] an integer\n",
    "\"\"\"\n",
    "\n",
    "def square_digits_sequence(n):\n",
    "    occurrence_dict = {} # It is the dictionary, which will store numeric elements, obtained in the past\n",
    "    while n not in occurrence_dict: # We will execute the loop, while the number is not already within the dictionary\n",
    "        occurrence_dict[n] = 1 # When the new number is obtained - we keep it within the dictionary\n",
    "        n = sum(list(map(lambda x: pow(int(x), 2), list(str(n))))) # The new number is being generated\n",
    "    return len(occurrence_dict) + 1 # The final result is the length of the dictionary (the number of keys) + 1\n",
    "\n",
    "square_digits_sequence(103)"
   ]
  }
 ],
 "metadata": {
  "kernelspec": {
   "display_name": "Python 3 (ipykernel)",
   "language": "python",
   "name": "python3"
  },
  "language_info": {
   "codemirror_mode": {
    "name": "ipython",
    "version": 3
   },
   "file_extension": ".py",
   "mimetype": "text/x-python",
   "name": "python",
   "nbconvert_exporter": "python",
   "pygments_lexer": "ipython3",
   "version": "3.9.7"
  }
 },
 "nbformat": 4,
 "nbformat_minor": 5
}
