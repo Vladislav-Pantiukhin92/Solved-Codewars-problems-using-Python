{
 "cells": [
  {
   "cell_type": "markdown",
   "id": "b173d997",
   "metadata": {},
   "source": [
    "### Sort the odd - 6 kyu, Codewars/Python"
   ]
  },
  {
   "cell_type": "code",
   "execution_count": 30,
   "id": "9f09d048",
   "metadata": {},
   "outputs": [
    {
     "data": {
      "text/plain": [
       "[1, 8, 3, 6, 5, 4, 7, 2, 9, 0]"
      ]
     },
     "execution_count": 30,
     "metadata": {},
     "output_type": "execute_result"
    }
   ],
   "source": [
    "\"\"\"\n",
    "You will be given an array of numbers. You have to sort the odd numbers in ascending order while leaving \n",
    "the even numbers at their original positions.\n",
    "Examples\n",
    "[7, 1]  =>  [1, 7]\n",
    "[5, 8, 6, 3, 4]  =>  [3, 8, 6, 5, 4]\n",
    "[9, 8, 7, 6, 5, 4, 3, 2, 1, 0]  =>  [1, 8, 3, 6, 5, 4, 7, 2, 9, 0]\n",
    "\"\"\"\n",
    "\n",
    "def sort_array(source_array):\n",
    "# The chain of solution steps is the following:\n",
    "# 1 - Creation of the array with exclusively odd numbers, sorted in ascending order:\n",
    "# 2 - Replacement of odd numbers from the original array with elements from the sorted list with \n",
    "# exclusively odd numbers:\n",
    "    odd_nums = sorted(list(filter(lambda x: x % 2 != 0, source_array)))\n",
    "    i = 0\n",
    "    for j in range(len(source_array)):\n",
    "        if source_array[j] % 2 != 0: # If the number from the original array is odd - we are going to replace it \n",
    "            # with the new one from the sorted list:\n",
    "            source_array[j] = odd_nums[i]\n",
    "            i += 1\n",
    "    return source_array # The final array with sorted odd numbers is returned\n",
    "\n",
    "sort_array([9, 8, 7, 6, 5, 4, 3, 2, 1, 0])"
   ]
  }
 ],
 "metadata": {
  "kernelspec": {
   "display_name": "Python 3 (ipykernel)",
   "language": "python",
   "name": "python3"
  },
  "language_info": {
   "codemirror_mode": {
    "name": "ipython",
    "version": 3
   },
   "file_extension": ".py",
   "mimetype": "text/x-python",
   "name": "python",
   "nbconvert_exporter": "python",
   "pygments_lexer": "ipython3",
   "version": "3.9.7"
  }
 },
 "nbformat": 4,
 "nbformat_minor": 5
}
