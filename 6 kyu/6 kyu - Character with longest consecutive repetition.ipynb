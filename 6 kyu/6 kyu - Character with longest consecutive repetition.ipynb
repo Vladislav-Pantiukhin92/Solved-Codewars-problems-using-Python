{
 "cells": [
  {
   "cell_type": "markdown",
   "id": "3f46e336",
   "metadata": {},
   "source": [
    "### Character with longest consecutive repetition - 6 kyu, Codewars/Python"
   ]
  },
  {
   "cell_type": "code",
   "execution_count": 284,
   "id": "52834921",
   "metadata": {},
   "outputs": [
    {
     "data": {
      "text/plain": [
       "('u', 3)"
      ]
     },
     "execution_count": 284,
     "metadata": {},
     "output_type": "execute_result"
    }
   ],
   "source": [
    "\"\"\"\n",
    "For a given string s find the character c (or C) with longest consecutive repetition and return:\n",
    "(c, l)\n",
    "where l (or L) is the length of the repetition. If there are two or more characters \n",
    "with the same l return the first in order of appearance.\n",
    "For empty string return:\n",
    "\n",
    "('', 0)\n",
    "In JavaScript: If you use Array.sort in your solution, you might experience issues with the \n",
    "random tests as Array.sort is not stable in the Node.js version used by CodeWars. \n",
    "This is not a kata issue.\n",
    "\"\"\"\n",
    "\n",
    "def longest_repetition(chars):\n",
    "    if not chars:\n",
    "        return (\"\", 0)\n",
    "    maxLen = 0\n",
    "    maxChars = \"\"\n",
    "    i = 0\n",
    "    j = 0\n",
    "    # The main logic is that if values are equal, then we add two symbols (max_len) and accumulate the longest slice\n",
    "    while j < len(chars):\n",
    "        if chars[i] == chars[j]:\n",
    "            if (j - i) + 1 > maxLen:\n",
    "                maxLen = (j - i) + 1\n",
    "                maxChars = chars[i: j + 1]\n",
    "            j += 1\n",
    "        else:\n",
    "            # If the values are not the same, we just move the pointers and start again, comparing the new slice and \n",
    "            # new max_len with the old parameters\n",
    "            temp = j\n",
    "            i = temp\n",
    "            \n",
    "    return (maxChars[0], len(maxChars))\n",
    "                \n",
    "longest_repetition(\"cbdeuuu900\")"
   ]
  }
 ],
 "metadata": {
  "kernelspec": {
   "display_name": "Python 3 (ipykernel)",
   "language": "python",
   "name": "python3"
  },
  "language_info": {
   "codemirror_mode": {
    "name": "ipython",
    "version": 3
   },
   "file_extension": ".py",
   "mimetype": "text/x-python",
   "name": "python",
   "nbconvert_exporter": "python",
   "pygments_lexer": "ipython3",
   "version": "3.9.7"
  }
 },
 "nbformat": 4,
 "nbformat_minor": 5
}
