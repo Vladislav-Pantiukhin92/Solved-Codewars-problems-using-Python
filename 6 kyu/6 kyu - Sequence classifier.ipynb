{
 "cells": [
  {
   "cell_type": "markdown",
   "id": "8a52abdf",
   "metadata": {},
   "source": [
    "### Sequence classifier - 6 kyu, Codewars/Python"
   ]
  },
  {
   "cell_type": "code",
   "execution_count": 252,
   "id": "55814800",
   "metadata": {},
   "outputs": [
    {
     "data": {
      "text/plain": [
       "3"
      ]
     },
     "execution_count": 252,
     "metadata": {},
     "output_type": "execute_result"
    }
   ],
   "source": [
    "\"\"\"\n",
    "A series or sequence of numbers is usually the product of a function and can either be infinite or finite.\n",
    "In this kata we will only consider finite series and you are required to return a code according to the type of sequence:\n",
    "\n",
    "Code\tType\tExample\n",
    "0\tunordered\t[3,5,8,1,14,3]\n",
    "1\tstrictly increasing\t[3,5,8,9,14,23]\n",
    "2\tnot decreasing\t[3,5,8,8,14,14]\n",
    "3\tstrictly decreasing\t[14,9,8,5,3,1]\n",
    "4\tnot increasing\t[14,14,8,8,5,3]\n",
    "5\tconstant\t[8,8,8,8,8,8]\n",
    "You can expect all the inputs to be non-empty and completely numerical arrays/lists - no need to validate the data; do not go for sloppy code, as rather large inputs might be tested.\n",
    "Try to achieve a good solution that runs in linear time; also, do it functionally, meaning you need to build a pure function or, in even poorer words, do NOT modify the initial input!\n",
    "\n",
    "\"\"\"\n",
    "def sequence_classifier(arr):\n",
    "    constant = len(arr) * arr[0]\n",
    "    if constant == sum(arr): # If there are just same values, the equation is to be valid\n",
    "        return 5 \n",
    "    new_arr1 = sorted(arr) # Ascending sort\n",
    "    if new_arr1 == arr:\n",
    "        if sorted(list(set(new_arr1))) == arr: # set structure is going to eliminate duplicate values\n",
    "            return 1 # So, if there are only unique values - option 1\n",
    "        return 2 # If there are duplicate values - option 2\n",
    "    new_arr2 = sorted(arr, reverse=True) # Descending sort\n",
    "    if new_arr2 == arr:\n",
    "        if sorted(list(set(new_arr2)), reverse=True) == arr: # set structure is going to eliminate duplicate values\n",
    "            return 3 # So, if there are only unique values - option 3\n",
    "        return 4 # If there are duplicate values - option 4\n",
    "    else:\n",
    "        return 0 # If nothing meets requirements - the last option 0 remains\n",
    "    \n",
    "sequence_classifier([14, 9, 8, 5, 3, 1])"
   ]
  }
 ],
 "metadata": {
  "kernelspec": {
   "display_name": "Python 3",
   "language": "python",
   "name": "python3"
  },
  "language_info": {
   "codemirror_mode": {
    "name": "ipython",
    "version": 3
   },
   "file_extension": ".py",
   "mimetype": "text/x-python",
   "name": "python",
   "nbconvert_exporter": "python",
   "pygments_lexer": "ipython3",
   "version": "3.8.8"
  }
 },
 "nbformat": 4,
 "nbformat_minor": 5
}
