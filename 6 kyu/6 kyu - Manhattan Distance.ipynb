{
 "cells": [
  {
   "cell_type": "markdown",
   "id": "c5f795ed",
   "metadata": {},
   "source": [
    "### Manhattan Distance - 6 kyu, Codewars/Python"
   ]
  },
  {
   "cell_type": "code",
   "execution_count": 74,
   "id": "eb891e70",
   "metadata": {},
   "outputs": [
    {
     "data": {
      "text/plain": [
       "4"
      ]
     },
     "execution_count": 74,
     "metadata": {},
     "output_type": "execute_result"
    }
   ],
   "source": [
    "\"\"\"\n",
    "The distance formula can be used to find the distance between two points. What if we were trying to walk \n",
    "from point A to point B, but there were buildings in the way? We would need some other formula..but which?\n",
    "\n",
    "Manhattan Distance\n",
    "Manhattan distance is the distance between two points in a grid (like the grid-like street geography \n",
    "of the New York borough of Manhattan) calculated by only taking a vertical and/or horizontal path.\n",
    "\n",
    "Complete the function that accepts two points and returns the Manhattan Distance between the two points.\n",
    "\n",
    "The points are arrays or tuples containing the x and y coordinate in the grid. You can think of x \n",
    "as the row in the grid, and y as the column.\n",
    "\n",
    "Examples\n",
    "* Input [1, 1], [1, 1] => Output 0\n",
    "* Input [5, 4], [3, 2] => Output 4\n",
    "* Input [1, 1], [0, 3] => Output 3\n",
    "\"\"\"\n",
    "\n",
    "from operator import * # 'operator.add' (addition operation) and 'operator.sub' (subtraction operation) will be used\n",
    "\n",
    "def manhattan_distance(pointA, pointB):\n",
    "# The final result is the subtraction result of the two X-coordinates + the subtraction result of the two Y-coordinates\n",
    "    return add(abs(sub(pointA[0], pointB[0])), abs(sub(pointA[1], pointB[1])))\n",
    "\n",
    "manhattan_distance([5, 4], [3, 2])"
   ]
  }
 ],
 "metadata": {
  "kernelspec": {
   "display_name": "Python 3 (ipykernel)",
   "language": "python",
   "name": "python3"
  },
  "language_info": {
   "codemirror_mode": {
    "name": "ipython",
    "version": 3
   },
   "file_extension": ".py",
   "mimetype": "text/x-python",
   "name": "python",
   "nbconvert_exporter": "python",
   "pygments_lexer": "ipython3",
   "version": "3.9.7"
  }
 },
 "nbformat": 4,
 "nbformat_minor": 5
}
