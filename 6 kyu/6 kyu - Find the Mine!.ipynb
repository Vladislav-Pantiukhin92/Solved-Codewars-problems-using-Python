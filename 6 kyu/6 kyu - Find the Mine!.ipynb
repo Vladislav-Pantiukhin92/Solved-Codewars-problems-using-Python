{
 "cells": [
  {
   "cell_type": "markdown",
   "id": "c5f795ed",
   "metadata": {},
   "source": [
    "### Find the Mine! - 6 kyu, Codewars/Python"
   ]
  },
  {
   "cell_type": "code",
   "execution_count": 73,
   "id": "50576a57",
   "metadata": {},
   "outputs": [
    {
     "data": {
      "text/plain": [
       "[0, 0]"
      ]
     },
     "execution_count": 73,
     "metadata": {},
     "output_type": "execute_result"
    }
   ],
   "source": [
    "\"\"\"\n",
    "You've just discovered a square (NxN) field and you notice a warning sign. The sign states that there's \n",
    "a single bomb in the 2D grid-like field in front of you.\n",
    "Write a function mineLocation/MineLocation that accepts a 2D array, and returns the location of the mine. \n",
    "The mine is represented as the integer 1 in the 2D array. Areas in the 2D array that are not the mine will \n",
    "be represented as 0s.\n",
    "The location returned should be an array (Tuple<int, int> in C#) where the first element is the row index, \n",
    "and the second element is the column index of the bomb location (both should be 0 based). \n",
    "All 2D arrays passed into your function will be square (NxN), and there will only be one mine in the array.\n",
    "\n",
    "Examples:\n",
    "mineLocation( [ [1, 0, 0], [0, 0, 0], [0, 0, 0] ] ) => returns [0, 0]\n",
    "mineLocation( [ [0, 0, 0], [0, 1, 0], [0, 0, 0] ] ) => returns [1, 1]\n",
    "mineLocation( [ [0, 0, 0], [0, 0, 0], [0, 1, 0] ] ) => returns [2, 1]\n",
    "\"\"\"\n",
    "\n",
    "from functools import reduce # 'functools.reduce' will execute the summation operation within subarrays of \n",
    "# the given input list. If the summation result == 1, than we found the subarray, where \"1\" is located\n",
    "\n",
    "def mineLocation(field):\n",
    "    final = [] # The list container, which will return the location of the bomb\n",
    "    for i, j in enumerate(field): # The 'enumerate' function will count the row\n",
    "        sumResult = reduce(lambda x, y: x + y, j) # The summation operation\n",
    "        if sumResult > 0:\n",
    "            final.append(i) # The list container will store the row\n",
    "            for m, n in enumerate(j): # The 'enumerate' function will count the column\n",
    "                if n > 0:\n",
    "                    final.append(m) # The list container will store the column\n",
    "    return final # The list with the specific location of the bomb is returned\n",
    "\n",
    "mineLocation([[1, 0, 0],[0, 0, 0],[0, 0, 0]])"
   ]
  }
 ],
 "metadata": {
  "kernelspec": {
   "display_name": "Python 3 (ipykernel)",
   "language": "python",
   "name": "python3"
  },
  "language_info": {
   "codemirror_mode": {
    "name": "ipython",
    "version": 3
   },
   "file_extension": ".py",
   "mimetype": "text/x-python",
   "name": "python",
   "nbconvert_exporter": "python",
   "pygments_lexer": "ipython3",
   "version": "3.9.7"
  }
 },
 "nbformat": 4,
 "nbformat_minor": 5
}
