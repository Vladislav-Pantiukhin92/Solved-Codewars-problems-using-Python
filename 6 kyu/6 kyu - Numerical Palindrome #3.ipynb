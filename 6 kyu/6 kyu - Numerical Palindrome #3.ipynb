{
 "cells": [
  {
   "cell_type": "markdown",
   "id": "1dddd14f",
   "metadata": {},
   "source": [
    "### Numerical Palindrome #3 - 6 kyu, Codewars/Python"
   ]
  },
  {
   "cell_type": "code",
   "execution_count": 7,
   "id": "86b37974",
   "metadata": {},
   "outputs": [
    {
     "data": {
      "text/plain": [
       "5"
      ]
     },
     "execution_count": 7,
     "metadata": {},
     "output_type": "execute_result"
    }
   ],
   "source": [
    "\"\"\"\n",
    "A palindrome is a word, phrase, number, or other sequence \n",
    "of characters which reads the same backward as forward. Examples of numerical palindromes are:\n",
    "\n",
    "2332\n",
    "110011\n",
    "54322345\n",
    "\n",
    "For a given number num, write a function which returns the number of numerical \n",
    "palindromes within each number. For this kata, single digit numbers \n",
    "will NOT be considered numerical palindromes.\n",
    "Return \"Not valid\" if the input is not an integer or is less than 0.\n",
    "\n",
    "palindrome(5) => 0\n",
    "palindrome(1221) => 2 \n",
    "palindrome(141221001) => 5  \n",
    "palindrome(1294) => 0\n",
    "palindrome(\"1221\") => \"Not valid\"\n",
    "\"\"\"\n",
    "def palindrome(number):\n",
    "    if not isinstance(number, int) or number < 0: # If the input is not of integer type or below 0 (negative number)\n",
    "        return \"Not valid\"\n",
    "    final = [] # This container will preserve all the different palindromes within the input number\n",
    "    number = str(number) # To iterate over the input number it is necessary to transform it into the string type\n",
    "    maxLength = 1 # Only numbers with the length > 1 will be included\n",
    "    for i in range(len(number)):\n",
    "        l, r = i, i # Case for odd-numbered palindromes\n",
    "        while l >= 0 and r < len(number) and number[l] == number[r]:\n",
    "            if (r - l) + 1 > maxLength: \n",
    "                final.append(number[l:r + 1])\n",
    "            l -= 1 # While letters are the same, we are moving in opposite directions\n",
    "            r += 1\n",
    "    for i in range(len(number)):\n",
    "        l, r = i, i + 1 # Case for even-numbered palindromes\n",
    "        while l >= 0 and r < len(number) and number[l] == number[r]:\n",
    "            if (r - l) + 1 > maxLength:\n",
    "                final.append(number[l:r + 1])\n",
    "            l -= 1 # While letters are the same, we are moving in opposite directions\n",
    "            r += 1\n",
    "    return len(final) # The length of the container is the number of palindromes within the input\n",
    "\n",
    "palindrome(141221001)"
   ]
  }
 ],
 "metadata": {
  "kernelspec": {
   "display_name": "Python 3 (ipykernel)",
   "language": "python",
   "name": "python3"
  },
  "language_info": {
   "codemirror_mode": {
    "name": "ipython",
    "version": 3
   },
   "file_extension": ".py",
   "mimetype": "text/x-python",
   "name": "python",
   "nbconvert_exporter": "python",
   "pygments_lexer": "ipython3",
   "version": "3.9.7"
  }
 },
 "nbformat": 4,
 "nbformat_minor": 5
}
