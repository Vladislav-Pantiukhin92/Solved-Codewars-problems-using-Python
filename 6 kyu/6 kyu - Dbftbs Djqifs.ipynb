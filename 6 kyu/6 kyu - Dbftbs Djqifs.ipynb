{
 "cells": [
  {
   "cell_type": "markdown",
   "id": "663cda20",
   "metadata": {},
   "source": [
    "### Dbftbs Djqifs - 6 kyu, Codewars/Python"
   ]
  },
  {
   "cell_type": "code",
   "execution_count": 27,
   "id": "4b6746c4",
   "metadata": {},
   "outputs": [
    {
     "data": {
      "text/plain": [
       "'Gbb Znal Pbbxf'"
      ]
     },
     "execution_count": 27,
     "metadata": {},
     "output_type": "execute_result"
    }
   ],
   "source": [
    "\"\"\"\n",
    "Caesar Ciphers are one of the most basic forms of encryption. It consists of a message and a key, and it shifts the letters of the message for the value of the key.\n",
    "Read more about it here: https://en.wikipedia.org/wiki/Caesar_cipher\n",
    "Your task\n",
    "Your task is to create a function encryptor that takes 2 arguments - key and message - and returns the encrypted message.\n",
    "Make sure to only shift letters, and be sure to keep the cases of the letters the same. All punctuation, numbers, spaces, and so on should remain the same.\n",
    "Also be aware of keys greater than 26 and less than -26. There's only 26 letters in the alphabet!\n",
    "\n",
    "Examples\n",
    "A message 'Caesar Cipher' and a key of 1 returns 'Dbftbs Djqifs'.\n",
    "A message 'Caesar Cipher' and a key of -1 returns 'Bzdrzq Bhogdq'.\n",
    "\"\"\"\n",
    "\n",
    "import string\n",
    "from itertools import cycle # 'itertools.cycle' is necessary for cyclic iteration of the alphabet\n",
    "\n",
    "def encryptor(key, message):\n",
    "    final = []\n",
    "    ind = 0\n",
    "    while ind < len(message):\n",
    "        if not message[ind].isalpha(): # If values are not among the english letters - we do not change them\n",
    "            final.append(message[ind])\n",
    "        else:\n",
    "            count = abs(key) # Returns the absolute value for further count iteration\n",
    "            if message[ind].isupper(): # Code for uppercase letters\n",
    "                if key > 0:\n",
    "                    uppercase_1 = string.ascii_uppercase[string.ascii_uppercase.index(message[ind]): ]\n",
    "                    uppercase_2 = string.ascii_uppercase[ :string.ascii_uppercase.index(message[ind])]\n",
    "                    uppercase = cycle(uppercase_1 + uppercase_2)\n",
    "                    for i in uppercase: # Cyclic iteration begins\n",
    "                        if count == 0:\n",
    "                            final.append(i) # We add the specific value following the parallel counting till 0\n",
    "                            break\n",
    "                        else:\n",
    "                            count -= 1\n",
    "                else:\n",
    "                # If the key is bigger than 26 characters, we can diminish the key through the floor division\n",
    "                    count = abs(key) - ((abs(key) // 26) * 26) \n",
    "                    uppercase_1 = string.ascii_uppercase[string.ascii_uppercase.index(message[ind]) + 1: ]\n",
    "                    uppercase_2 = string.ascii_uppercase[ :string.ascii_uppercase.index(message[ind]) + 1]\n",
    "                    uppercase = uppercase_1 + uppercase_2\n",
    "                    uppercase = uppercase[::-1]\n",
    "                    for i in cycle(uppercase): # Cyclic iteration begins\n",
    "                        if count == 0:\n",
    "                            final.append(i) # We add the specific value following the parallel counting till 0\n",
    "                            break\n",
    "                        else:\n",
    "                            count -= 1\n",
    "            else:\n",
    "                # Code for lowercase letters.\n",
    "                # The same explanation applies to both uppercase and lowercase characters\n",
    "                if key > 0:\n",
    "                    lowercase_1 = string.ascii_lowercase[string.ascii_lowercase.index(message[ind]): ]\n",
    "                    lowercase_2 = string.ascii_lowercase[ :string.ascii_lowercase.index(message[ind])]\n",
    "                    lowercase = cycle(lowercase_1 + lowercase_2)\n",
    "                    for i in lowercase:\n",
    "                        if count == 0:\n",
    "                            final.append(i)\n",
    "                            break\n",
    "                        else:\n",
    "                            count -= 1\n",
    "                else:\n",
    "                    count = abs(key) - ((abs(key) // 26) * 26)\n",
    "                    lowercase_1 = string.ascii_lowercase[string.ascii_lowercase.index(message[ind]) + 1: ]\n",
    "                    lowercase_2 = string.ascii_lowercase[ :string.ascii_lowercase.index(message[ind]) + 1]\n",
    "                    lowercase =  lowercase_1 + lowercase_2\n",
    "                    lowercase = lowercase[::-1]\n",
    "                    for i in cycle(lowercase):\n",
    "                        if count == 0:\n",
    "                            final.append(i)\n",
    "                            break\n",
    "                        else:\n",
    "                            count -= 1\n",
    "        ind += 1\n",
    "    return \"\".join(final)\n",
    "    \n",
    "encryptor(-39, \"Too Many Cooks\")"
   ]
  }
 ],
 "metadata": {
  "kernelspec": {
   "display_name": "Python 3 (ipykernel)",
   "language": "python",
   "name": "python3"
  },
  "language_info": {
   "codemirror_mode": {
    "name": "ipython",
    "version": 3
   },
   "file_extension": ".py",
   "mimetype": "text/x-python",
   "name": "python",
   "nbconvert_exporter": "python",
   "pygments_lexer": "ipython3",
   "version": "3.9.7"
  }
 },
 "nbformat": 4,
 "nbformat_minor": 5
}
