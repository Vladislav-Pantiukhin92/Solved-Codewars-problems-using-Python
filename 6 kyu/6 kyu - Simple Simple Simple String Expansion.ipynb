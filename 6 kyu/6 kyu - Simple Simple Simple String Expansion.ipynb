{
 "cells": [
  {
   "cell_type": "markdown",
   "id": "837c2659",
   "metadata": {},
   "source": [
    "### Simple Simple Simple String Expansion - 6 kyu, Codewars/Python"
   ]
  },
  {
   "cell_type": "code",
   "execution_count": 25,
   "id": "52660010",
   "metadata": {},
   "outputs": [
    {
     "data": {
      "text/plain": [
       "'DDDaadddddff'"
      ]
     },
     "execution_count": 25,
     "metadata": {},
     "output_type": "execute_result"
    }
   ],
   "source": [
    "\"\"\"\n",
    "Given a string that includes alphanumeric characters (\"3a4B2d\") return the expansion of that string: \n",
    "The numeric values represent the occurrence of each letter preceding that numeric value. \n",
    "There should be no numeric characters in the final string.\n",
    "\n",
    "Notes\n",
    "The first occurrence of a numeric value should be the number of times each character behind it is repeated, until the next numeric value appears\n",
    "If there are multiple consecutive numeric characters, only the last one should be used \n",
    "(ignore the previous ones).\n",
    "Empty strings should return an empty string.\n",
    "Your code should be able to work for both lower and capital case letters.\n",
    "\n",
    "\"3D2a5d2f\"  -->  \"DDDaadddddff\"    # basic example: 3 * \"D\" + 2 * \"a\" + 5 * \"d\" + 2 * \"f\"\n",
    "\"3abc\"      -->  \"aaabbbccc\"       # not \"aaabc\", nor \"abcabcabc\"; 3 * \"a\" + 3 * \"b\" + 3 * \"c\"\n",
    "\"3d332f2a\"  -->  \"dddffaa\"         # multiple consecutive digits: 3 * \"d\" + 2 * \"f\" + 2 * \"a\"\n",
    "\"abcde\"     -->  \"abcde\"           # no digits\n",
    "\"1111\"      -->  \"\"                # no characters to repeat\n",
    "\"\"          -->  \"\"                # empty string\n",
    "\"\"\"\n",
    "\n",
    "import re # Regular expression to find the pattern\n",
    "\n",
    "def string_expansion(s):\n",
    "    start = re.findall(r\"^[a-zA-Z]+\", s) # The case, when the given input string starts with the letter/s\n",
    "    result = re.findall(r\"\\d[a-zA-Z]+\", s) # The case, when we have the combination of a digit + \n",
    "# the preceding letters\n",
    "    finalStr = \"\"\n",
    "    for i in result:\n",
    "        for j in i[1:]: # The preceding letters\n",
    "            finalStr += int(i[0]) * j # All these letters are multiplied by the integer (the front digit)\n",
    "    if start: # The case, when the front letter/s exist(s) within the given input string\n",
    "        return start[0] + finalStr\n",
    "    return finalStr # The final string is returned\n",
    "\n",
    "string_expansion(\"3D2a5d2f\")"
   ]
  }
 ],
 "metadata": {
  "kernelspec": {
   "display_name": "Python 3 (ipykernel)",
   "language": "python",
   "name": "python3"
  },
  "language_info": {
   "codemirror_mode": {
    "name": "ipython",
    "version": 3
   },
   "file_extension": ".py",
   "mimetype": "text/x-python",
   "name": "python",
   "nbconvert_exporter": "python",
   "pygments_lexer": "ipython3",
   "version": "3.9.7"
  }
 },
 "nbformat": 4,
 "nbformat_minor": 5
}
