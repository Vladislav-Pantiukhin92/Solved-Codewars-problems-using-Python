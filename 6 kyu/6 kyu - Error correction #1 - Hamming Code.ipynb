{
 "cells": [
  {
   "cell_type": "markdown",
   "id": "c5f795ed",
   "metadata": {},
   "source": [
    "### Error correction #1 - Hamming Code - 6 kyu, Codewars/Python"
   ]
  },
  {
   "cell_type": "code",
   "execution_count": 5,
   "id": "ee1c36cb",
   "metadata": {},
   "outputs": [
    {
     "name": "stdout",
     "output_type": "stream",
     "text": [
      "000111111000111000000000000111111000000111000111000111111111111000000111\n"
     ]
    },
    {
     "data": {
      "text/plain": [
       "'hey'"
      ]
     },
     "execution_count": 5,
     "metadata": {},
     "output_type": "execute_result"
    }
   ],
   "source": [
    "\"\"\"\n",
    "Background information\n",
    "The Hamming Code is used to correct errors, so-called bit flips, in data transmissions. Later in the \n",
    "description follows a detailed explanation of how it works.\n",
    "In this Kata we will implement the Hamming Code with bit length 3; this has some advantages and \n",
    "disadvantages:\n",
    "\n",
    "[ + ] It's simple to implement\n",
    "[ + ] Compared to other versions of hamming code, we can correct more mistakes\n",
    "[ - ] The size of the input triples\n",
    "Task 1: Encode function\n",
    "Implement the encode function, using the following steps:\n",
    "\n",
    "convert every letter of the text to its ASCII value; (ASCII value of space is 32)\n",
    "convert ASCII values to 8-bit binary;\n",
    "triple every bit;\n",
    "concatenate the result;\n",
    "For example:\n",
    "\n",
    "input: \"hey\"\n",
    "--> 104, 101, 121                  // ASCII values\n",
    "--> 01101000, 01100101, 01111001   // binary\n",
    "--> 000111111000111000000000 000111111000000111000111 000111111111111000000111  // tripled\n",
    "--> \"000111111000111000000000000111111000000111000111000111111111111000000111\"  // concatenated\n",
    "Task 2: Decode function:\n",
    "Check if any errors happened and correct them. Errors will be only bit flips, and not a loss of bits:\n",
    "\n",
    "111 --> 101 : this can and will happen\n",
    "111 --> 11 : this cannot happen\n",
    "Note: the length of the input string is also always divisible by 24 so that you can convert it to an \n",
    "ASCII value.\n",
    "\n",
    "Steps:\n",
    "\n",
    "Split the input into groups of three characters;\n",
    "Check if an error occurred: replace each group with the character that occurs most often, e.g. \n",
    "010 --> 0, 110 --> 1, etc;\n",
    "Take each group of 8 characters and convert that binary number;\n",
    "Convert the binary values to decimal (ASCII);\n",
    "Convert the ASCII values to characters and concatenate the result\n",
    "For example:\n",
    "\n",
    "input: \"100111111000111001000010000111111000000111001111000111110110111000010111\"\n",
    "--> 100, 111, 111, 000, 111, 001, ...  // triples\n",
    "-->  0,   1,   1,   0,   1,   0,  ...  // corrected bits\n",
    "--> 01101000, 01100101, 01111001       // bytes\n",
    "--> 104, 101, 121                      // ASCII values\n",
    "--> \"hey\"\n",
    "\"\"\"\n",
    "\n",
    "import re # Regular expression to obtain all the relevant string shunks\n",
    "\n",
    "def encode(string): # The function to encode the input\n",
    "    ascii_ = [ord(i) for i in string] # This way we obtain the ascii code\n",
    "    binary_repr = [bin(j).lstrip(\"0b\").zfill(8) for j in ascii_] # The binary representation (8 bits)\n",
    "    triple_bit = \"\".join(list(map(lambda x: \"\".join([i * 3 for i in x]), binary_repr))) # Triple bit-representation\n",
    "    return triple_bit # The triple bit-representation is returned\n",
    "\n",
    "def decode(bits): # The function to decode the input\n",
    "    result = re.findall(r\".{3}\", bits) # Here we have 3-bit chunks\n",
    "    def map_func(x): # Only the character, that occurs most often, remains\n",
    "        if x.count(\"0\") > 1:\n",
    "            return \"0\"\n",
    "        return \"1\"\n",
    "    single_bit = \"\".join(list(map(map_func, result))) # The triple bit-representation is removed\n",
    "    original = \"\".join(list(map(lambda x: chr(int(x, 2)), re.findall(r\".{8}\", single_bit)))) # The original \n",
    "    # binary representation and its transformation\n",
    "    return original # The original input is finally returned\n",
    "\n",
    "print(encode(\"hey\"))\n",
    "decode(\"000111111000111000000000000111111000000111000111000111111111111000000111\")"
   ]
  }
 ],
 "metadata": {
  "kernelspec": {
   "display_name": "Python 3 (ipykernel)",
   "language": "python",
   "name": "python3"
  },
  "language_info": {
   "codemirror_mode": {
    "name": "ipython",
    "version": 3
   },
   "file_extension": ".py",
   "mimetype": "text/x-python",
   "name": "python",
   "nbconvert_exporter": "python",
   "pygments_lexer": "ipython3",
   "version": "3.9.7"
  }
 },
 "nbformat": 4,
 "nbformat_minor": 5
}
