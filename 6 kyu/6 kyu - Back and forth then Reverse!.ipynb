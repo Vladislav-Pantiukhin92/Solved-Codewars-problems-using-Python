{
 "cells": [
  {
   "cell_type": "markdown",
   "id": "dcbae4b3",
   "metadata": {},
   "source": [
    "### Back and forth then Reverse! - 6 kyu, Codewars/Python"
   ]
  },
  {
   "cell_type": "code",
   "execution_count": 16,
   "id": "45facdd2",
   "metadata": {},
   "outputs": [
    {
     "data": {
      "text/plain": [
       "[1, 6, 5, 2, 3, 4]"
      ]
     },
     "execution_count": 16,
     "metadata": {},
     "output_type": "execute_result"
    }
   ],
   "source": [
    "\"\"\"\n",
    "A list S will be given. You need to generate a list T from it by following the given process:\n",
    "Remove the first and last element from the list S and add them to the list T.\n",
    "Reverse the list S\n",
    "Repeat the process until list S gets emptied.\n",
    "The above process results in the depletion of the list S. Your task is to generate list T without \n",
    "mutating the input List S.\n",
    "\n",
    "Example\n",
    "S = [1,2,3,4,5,6]\n",
    "T = []\n",
    "\n",
    "S = [2,3,4,5] => [5,4,3,2]\n",
    "T = [1,6]\n",
    "\n",
    "S = [4,3] => [3,4]\n",
    "T = [1,6,5,2]\n",
    "\n",
    "S = []\n",
    "T = [1,6,5,2,3,4]\n",
    "return T\n",
    "\"\"\"\n",
    "\n",
    "def arrange(s):\n",
    "    final = [] # The list, which will store elements from the given input array\n",
    "    length = len(s) # The length of the given input array\n",
    "    # To solve the problem we are going to use two pointers (left and right) for adding pairs of numbers in \n",
    "    # a certain configuration\n",
    "    i = 0 # The first pointer\n",
    "    j = length - 1 # The second pointer\n",
    "    count = 0 # Depending on the parity count (even or odd) we are going to append left-right elements or \n",
    "    # right-left elements\n",
    "    while i < j:\n",
    "        left_elem = s[i]\n",
    "        right_elem = s[j]\n",
    "        if count % 2 == 0: # The even-parity configuration \n",
    "            final.extend([left_elem, right_elem])\n",
    "        else: # The odd-parity configuration\n",
    "            final.extend([right_elem, left_elem])\n",
    "        count += 1\n",
    "        i += 1\n",
    "        j -= 1\n",
    "    if i == j: # If the length of the given input array is odd - we should append one more (central/middle) element\n",
    "        final.append(s[i])\n",
    "    return final # The final list is returned\n",
    "\n",
    "arrange([1,2,3,4,5,6])"
   ]
  }
 ],
 "metadata": {
  "kernelspec": {
   "display_name": "Python 3 (ipykernel)",
   "language": "python",
   "name": "python3"
  },
  "language_info": {
   "codemirror_mode": {
    "name": "ipython",
    "version": 3
   },
   "file_extension": ".py",
   "mimetype": "text/x-python",
   "name": "python",
   "nbconvert_exporter": "python",
   "pygments_lexer": "ipython3",
   "version": "3.9.7"
  }
 },
 "nbformat": 4,
 "nbformat_minor": 5
}
