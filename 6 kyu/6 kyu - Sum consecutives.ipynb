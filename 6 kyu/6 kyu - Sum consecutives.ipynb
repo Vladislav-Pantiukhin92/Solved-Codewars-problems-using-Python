{
 "cells": [
  {
   "cell_type": "markdown",
   "id": "ecbf997f",
   "metadata": {},
   "source": [
    "### Sum consecutives - 6 kyu, Codewars/Python"
   ]
  },
  {
   "cell_type": "code",
   "execution_count": 31,
   "id": "78bb0f77",
   "metadata": {},
   "outputs": [
    {
     "data": {
      "text/plain": [
       "[2, 14, 3]"
      ]
     },
     "execution_count": 31,
     "metadata": {},
     "output_type": "execute_result"
    }
   ],
   "source": [
    "\"\"\"\n",
    "You are given a list/array which contains only integers (positive and negative). Your job is to sum only \n",
    "the numbers that are the same and consecutive. The result should be one list.\n",
    "Extra credit if you solve it in one line. You can assume there is never an empty list/array and there will \n",
    "always be an integer.\n",
    "Same meaning: 1 == 1\n",
    "1 != -1\n",
    "#Examples:\n",
    "\n",
    "[1,4,4,4,0,4,3,3,1] # should return [1,12,0,4,6,1]\n",
    "So as you can see sum of consecutives 1 is 1 \n",
    "sum of 3 consecutives 4 is 12 \n",
    "sum of 0... and sum of 2 \n",
    "consecutives 3 is 6 ...\n",
    "\n",
    "[1,1,7,7,3] # should return [2,14,3]\n",
    "[-5,-5,7,7,12,0] # should return [-10,14,12,0]\n",
    "\"\"\"\n",
    "\n",
    "from itertools import groupby # 'itertools.groupby' will help to summarize all consecutive numbers\n",
    "\n",
    "def sum_consecutives(s):\n",
    "    final = [] # The list container, which will preserve the result\n",
    "    for key, group in groupby(s): # Within the 'for loop' the sum of numbers will be appended to the final list\n",
    "        # (if consecutive numbers exist), or just an element itself will be appended to the final list \n",
    "        # (if consecutive numbers don't exist)\n",
    "        curList = list(group)\n",
    "        curSum = sum(curList)\n",
    "        final.append(curSum)\n",
    "    return final\n",
    "\n",
    "sum_consecutives([1,1,7,7,3])"
   ]
  }
 ],
 "metadata": {
  "kernelspec": {
   "display_name": "Python 3 (ipykernel)",
   "language": "python",
   "name": "python3"
  },
  "language_info": {
   "codemirror_mode": {
    "name": "ipython",
    "version": 3
   },
   "file_extension": ".py",
   "mimetype": "text/x-python",
   "name": "python",
   "nbconvert_exporter": "python",
   "pygments_lexer": "ipython3",
   "version": "3.9.7"
  }
 },
 "nbformat": 4,
 "nbformat_minor": 5
}
