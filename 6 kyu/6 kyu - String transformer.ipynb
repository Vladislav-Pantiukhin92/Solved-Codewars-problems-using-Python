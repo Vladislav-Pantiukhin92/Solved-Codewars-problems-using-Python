{
 "cells": [
  {
   "cell_type": "markdown",
   "id": "0c98dd83",
   "metadata": {},
   "source": [
    "### String transformer - 6 kyu, Codewars/Python"
   ]
  },
  {
   "cell_type": "code",
   "execution_count": 35,
   "id": "d51e5d33",
   "metadata": {},
   "outputs": [
    {
     "data": {
      "text/plain": [
       "'iNPUT eXAMPLE'"
      ]
     },
     "execution_count": 35,
     "metadata": {},
     "output_type": "execute_result"
    }
   ],
   "source": [
    "\"\"\"\n",
    "Given a string, return a new string that has transformed based on the input:\n",
    "Change case of every character, ie. lower case to upper case, upper case to lower case.\n",
    "Reverse the order of words from the input.\n",
    "Note: You will have to handle multiple spaces, and leading/trailing spaces.\n",
    "For example:\n",
    "\"Example Input\" ==> \"iNPUT eXAMPLE\"\n",
    "You may assume the input only contain English alphabet and spaces.\n",
    "\"\"\"\n",
    "\n",
    "def string_transformer(s):\n",
    "    string = s.swapcase() # It is convenient to use the string 'swapcase' method to change the letter case\n",
    "    final_lst = string.split(\" \")[::-1] # List creation and reversal\n",
    "    return \" \".join(final_lst) # And transformation back to string\n",
    "    \n",
    "string_transformer(\"Example Input\")"
   ]
  }
 ],
 "metadata": {
  "kernelspec": {
   "display_name": "Python 3",
   "language": "python",
   "name": "python3"
  },
  "language_info": {
   "codemirror_mode": {
    "name": "ipython",
    "version": 3
   },
   "file_extension": ".py",
   "mimetype": "text/x-python",
   "name": "python",
   "nbconvert_exporter": "python",
   "pygments_lexer": "ipython3",
   "version": "3.8.8"
  }
 },
 "nbformat": 4,
 "nbformat_minor": 5
}
