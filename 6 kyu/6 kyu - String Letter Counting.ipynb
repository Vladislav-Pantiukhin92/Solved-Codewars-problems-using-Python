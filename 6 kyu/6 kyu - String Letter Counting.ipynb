{
 "cells": [
  {
   "cell_type": "markdown",
   "id": "64b55b72",
   "metadata": {},
   "source": [
    "### String Letter Counting - 6 kyu, Codewars/Python"
   ]
  },
  {
   "cell_type": "code",
   "execution_count": 123,
   "id": "46a90d6f",
   "metadata": {},
   "outputs": [
    {
     "data": {
      "text/plain": [
       "'1a1c4e1h2i2n4s4t'"
      ]
     },
     "execution_count": 123,
     "metadata": {},
     "output_type": "execute_result"
    }
   ],
   "source": [
    "\"\"\"\n",
    "Take an input string and return a string that is made up of the number of occurences of each english \n",
    "letter in the input followed by that letter, sorted alphabetically. The output string shouldn't contain \n",
    "chars missing from input (chars with 0 occurence); leave them out.\n",
    "An empty string, or one with no letters, should return an empty string.\n",
    "Notes:\n",
    "\n",
    "the input will always be valid;\n",
    "treat letters as case-insensitive\n",
    "Examples\n",
    "\"This is a test sentence.\"  ==>  \"1a1c4e1h2i2n4s4t\"\n",
    "\"\"                          ==>  \"\"\n",
    "\"555\"                       ==>  \"\"\n",
    "\"\"\"\n",
    "\n",
    "import re # Regular expressions will specialize in removing non-alphabetic values from the string\n",
    "from collections import Counter # 'collections.Counter' will count the number of occurrences\n",
    "from itertools import starmap # 'itertools.starmap' will merge occurrences and letters together as a string chunk\n",
    "\n",
    "def string_letter_count(s):\n",
    "    s = s.lower() # For starters, the lowercase conversion should be done\n",
    "    letters = \"\".join(sorted(re.findall(r\"[a-z]\", s))) # The use of regular expressions to take only letters\n",
    "    if not s: # The input string can be empty - return an empty string\n",
    "        return \"\"\n",
    "    elif not letters.isalpha(): # The input string can consist not only of letters - return an empty string\n",
    "        return \"\"\n",
    "    else: # 'collections.Counter' was used, as a result of that, we obtained initialy the dictionary of occurrences\n",
    "        # and finally the list of iterables/tuples with elements and their occurrences within\n",
    "        occurrences = list(dict(Counter(letters)).items())\n",
    "        result = list(starmap(lambda x, y: str(y) + x, occurrences)) # Elements and their occurrences are \n",
    "        # successfully merged\n",
    "        return \"\".join(result) # The string result is returned\n",
    "    \n",
    "string_letter_count(\"This is a test sentence.\")"
   ]
  }
 ],
 "metadata": {
  "kernelspec": {
   "display_name": "Python 3 (ipykernel)",
   "language": "python",
   "name": "python3"
  },
  "language_info": {
   "codemirror_mode": {
    "name": "ipython",
    "version": 3
   },
   "file_extension": ".py",
   "mimetype": "text/x-python",
   "name": "python",
   "nbconvert_exporter": "python",
   "pygments_lexer": "ipython3",
   "version": "3.9.7"
  }
 },
 "nbformat": 4,
 "nbformat_minor": 5
}
