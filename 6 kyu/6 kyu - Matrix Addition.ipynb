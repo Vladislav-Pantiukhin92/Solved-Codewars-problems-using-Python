{
 "cells": [
  {
   "cell_type": "markdown",
   "id": "c5f795ed",
   "metadata": {},
   "source": [
    "### Matrix Addition - 6 kyu, Codewars/Python"
   ]
  },
  {
   "cell_type": "code",
   "execution_count": 72,
   "id": "604c5595",
   "metadata": {},
   "outputs": [
    {
     "data": {
      "text/plain": [
       "[[3, 4, 4], [6, 4, 4], [2, 2, 4]]"
      ]
     },
     "execution_count": 72,
     "metadata": {},
     "output_type": "execute_result"
    }
   ],
   "source": [
    "\"\"\"\n",
    "Write a function that accepts two square matrices (N x N two dimensional arrays), and return the sum of \n",
    "the two. Both matrices being passed into the function will be of size N x N (square), containing only \n",
    "integers.\n",
    "How to sum two matrices:\n",
    "Take each cell [n][m] from the first matrix, and add it with the same [n][m] cell from the second matrix. \n",
    "This will be cell [n][m] of the solution matrix.\n",
    "\n",
    "Visualization:\n",
    "\n",
    "|1 2 3|     |2 2 1|     |1+2 2+2 3+1|     |3 4 4|\n",
    "|3 2 1|  +  |3 2 3|  =  |3+3 2+2 1+3|  =  |6 4 4|\n",
    "|1 1 1|     |1 1 3|     |1+1 1+1 1+3|     |2 2 4|\n",
    "Example\n",
    "matrixAddition(\n",
    "  [ [1, 2, 3],\n",
    "    [3, 2, 1],\n",
    "    [1, 1, 1] ],\n",
    "//      +\n",
    "  [ [2, 2, 1],\n",
    "    [3, 2, 3],\n",
    "    [1, 1, 3] ] )\n",
    "\n",
    "// returns:\n",
    "  [ [3, 4, 4],\n",
    "    [6, 4, 4],\n",
    "    [2, 2, 4] ]\n",
    "\"\"\"\n",
    "\n",
    "a = [[1, 2, 3],\n",
    "    [3, 2, 1],\n",
    "    [1, 1, 1]]\n",
    "\n",
    "b = [[2, 2, 1],\n",
    "    [3, 2, 3],\n",
    "    [1, 1, 3]]\n",
    "\n",
    "import numpy as np # 'numpy' library is to be used to sum values within the lists\n",
    "\n",
    "def matrix_addition(a, b):\n",
    "    final = [] # It is the list container, which will store the lists - the sum results\n",
    "    # Two pointers are to be utilized to iterate over subarrays\n",
    "    i = 0\n",
    "    j = 0\n",
    "    while i < len(a):\n",
    "        first = np.array(a[i]) # Each subarray of the first input array is the numpy array\n",
    "        second = np.array(b[j]) # Each subarray of the second input array is the numpy array\n",
    "        final.append(list(first + second)) # The sum result is appended to the list container, which is to be \n",
    "        # finally returned\n",
    "        i += 1\n",
    "        j += 1\n",
    "    return final\n",
    "\n",
    "matrix_addition(a, b)"
   ]
  }
 ],
 "metadata": {
  "kernelspec": {
   "display_name": "Python 3 (ipykernel)",
   "language": "python",
   "name": "python3"
  },
  "language_info": {
   "codemirror_mode": {
    "name": "ipython",
    "version": 3
   },
   "file_extension": ".py",
   "mimetype": "text/x-python",
   "name": "python",
   "nbconvert_exporter": "python",
   "pygments_lexer": "ipython3",
   "version": "3.9.7"
  }
 },
 "nbformat": 4,
 "nbformat_minor": 5
}
