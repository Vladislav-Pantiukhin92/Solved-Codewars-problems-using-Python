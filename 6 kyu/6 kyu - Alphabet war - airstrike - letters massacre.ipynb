{
 "cells": [
  {
   "cell_type": "markdown",
   "id": "00aaef63",
   "metadata": {},
   "source": [
    "### Alphabet war - airstrike - letters massacre - 6 kyu, Codewars/Python"
   ]
  },
  {
   "cell_type": "code",
   "execution_count": 1,
   "id": "2de79c1d",
   "metadata": {},
   "outputs": [
    {
     "data": {
      "text/plain": [
       "\"Let's fight again!\""
      ]
     },
     "execution_count": 1,
     "metadata": {},
     "output_type": "execute_result"
    }
   ],
   "source": [
    "\"\"\"\n",
    "Introduction\n",
    "There is a war and nobody knows - the alphabet war!\n",
    "There are two groups of hostile letters. The tension between left side letters and right \n",
    "side letters was too high and the war began. The letters called airstrike to help them in war - \n",
    "dashes and dots are spreaded everywhere on the battlefield.\n",
    "Task\n",
    "Write a function that accepts fight string consists of only small letters and * which means \n",
    "a bomb drop place. Return who wins the fight after bombs are exploded. When the left side \n",
    "wins return Left side wins!, when the right side wins return Right side wins!, in other case \n",
    "return Let's fight again!.\n",
    "The left side letters and their power:\n",
    "\n",
    " w - 4\n",
    " p - 3 \n",
    " b - 2\n",
    " s - 1\n",
    "The right side letters and their power:\n",
    "\n",
    " m - 4\n",
    " q - 3 \n",
    " d - 2\n",
    " z - 1\n",
    "The other letters don't have power and are only victims.\n",
    "The * bombs kill the adjacent letters ( i.e. aa*aa => a___a, **aa** => ______ );\n",
    "\n",
    "Example\n",
    "AlphabetWar(\"s*zz\");           //=> Right side wins!\n",
    "AlphabetWar(\"*zd*qm*wp*bs*\"); //=> Let's fight again!\n",
    "AlphabetWar(\"zzzz*s*\");       //=> Right side wins!\n",
    "AlphabetWar(\"www*www****z\");  //=> Left side wins!\n",
    "\"\"\"\n",
    "\n",
    "import re # Regular expressions will be used to remove the adjacent letters with the risk of explosion (\"with *\")\n",
    "from collections import Counter # 'collections.Counter' will be utilized to create the dictionary, where \n",
    "# keys are 'survived' letters after all possible removals and values are their occurrences \n",
    "\n",
    "def alphabet_war(fight):\n",
    "    powers = {\"w\": 4, \"p\": 3, \"b\": 2, \"s\": 1, \"m\": 4, \"q\": 3, \"d\": 2, \"z\": 1} # We need another dictionary \n",
    "    # to calculate the final score of right and left letters after all possible removals\n",
    "    left_lst = [\"w\", \"p\", \"b\", \"s\"] # The list of left letters\n",
    "    right_lst = [\"m\", \"q\", \"d\", \"z\"] # The list of right letters\n",
    "    left = 0 # The initial score of left letters equals to 0\n",
    "    right = 0 # The initial score of right letters equals to 0\n",
    "    result_lst = re.sub(r\"[a-z]?\\*+[a-z]?\", \"\", fight)\n",
    "    survived = dict(Counter(result_lst)) # Creation of the aforementioned dictionary\n",
    "    if not survived: # If there are no 'survived' letters after removals - nobody wins\n",
    "        return \"Let's fight again!\"\n",
    "    # Otherwise, we calculate the score of left and right letters:\n",
    "    for i in survived:\n",
    "        if i in left_lst:\n",
    "            left += powers[i] * survived[i]\n",
    "        elif i in right_lst:\n",
    "            right += powers[i] * survived[i]\n",
    "    if left == right:\n",
    "        return \"Let's fight again!\"\n",
    "    elif left > right:\n",
    "        return \"Left side wins!\"\n",
    "    else:\n",
    "        return \"Right side wins!\"\n",
    "    \n",
    "alphabet_war(\"*zd*qm*wp*bs*\")"
   ]
  }
 ],
 "metadata": {
  "kernelspec": {
   "display_name": "Python 3 (ipykernel)",
   "language": "python",
   "name": "python3"
  },
  "language_info": {
   "codemirror_mode": {
    "name": "ipython",
    "version": 3
   },
   "file_extension": ".py",
   "mimetype": "text/x-python",
   "name": "python",
   "nbconvert_exporter": "python",
   "pygments_lexer": "ipython3",
   "version": "3.9.7"
  }
 },
 "nbformat": 4,
 "nbformat_minor": 5
}
