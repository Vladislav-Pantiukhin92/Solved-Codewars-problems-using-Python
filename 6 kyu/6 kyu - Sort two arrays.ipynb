{
 "cells": [
  {
   "cell_type": "markdown",
   "id": "4837d533",
   "metadata": {},
   "source": [
    "### Sort two arrays - 6 kyu, Codewars/Python"
   ]
  },
  {
   "cell_type": "code",
   "execution_count": 7,
   "id": "25ebd431",
   "metadata": {},
   "outputs": [
    {
     "data": {
      "text/plain": [
       "[[4, 5, 3, 2, 1], [9, 8, 7, 5, 6]]"
      ]
     },
     "execution_count": 7,
     "metadata": {},
     "output_type": "execute_result"
    }
   ],
   "source": [
    "\"\"\"\n",
    "Description:\n",
    "Give you two arrays arr1 and arr2. They have the same length(length>=2). The elements of two arrays always be integer.\n",
    "\n",
    "Sort arr1 according to the ascending order of arr2; Sort arr2 according to the ascending order of arr1. Description is not easy to understand, for example:\n",
    "\n",
    "arr1=[5,4,3,2,1], \n",
    "arr2=[6,5,7,8,9]\n",
    "Let us try to sorting arr1. First, we need know the ascending order of arr2:\n",
    "\n",
    "[5,6,7,8,9]\n",
    "We can see, after sort arr2 to ascending order, some elements' index are changed:\n",
    "\n",
    "unsort arr2      ascending order arr2\n",
    "[6,5,7,8,9]--->      [5,6,7,8,9]\n",
    "\n",
    "index0(6)  --->      index1\n",
    "index1(5)  --->      index0\n",
    "index2(7)            index2(no change)\n",
    "index3(8)            index3(no change)\n",
    "index4(9)            index4(no change)\n",
    "So, wo need according to these changes to sorting arr1:\n",
    "\n",
    "unsort arr1          sorted arr1\n",
    "[5,4,3,2,1]--->      [4,5,3,2,1]\n",
    "\n",
    "index0(5)  --->      index1\n",
    "index1(4)  --->      index0\n",
    "index2(3)            index2(no change)\n",
    "index3(2)            index3(no change)\n",
    "index4(1)            index4(no change)\n",
    "\n",
    "So: sorted arr1= [4,5,3,2,1]\n",
    "And then, we sorting arr2 with the same process:\n",
    "\n",
    "unsort arr1      ascending order arr1\n",
    "[5,4,3,2,1]--->      [1,2,3,4,5]\n",
    "\n",
    "index0(5)  --->      index4\n",
    "index1(4)  --->      index3\n",
    "index2(3)            index2(no change)\n",
    "index3(2)  --->      index1\n",
    "index4(1)  --->      index0\n",
    "\n",
    "unsort arr2          sorted arr2\n",
    "[6,5,7,8,9]--->      [9,8,7,5,6]\n",
    "\n",
    "index0(6)  --->      index4\n",
    "index1(5)  --->      index3\n",
    "index2(7)            index2(no change)\n",
    "index3(8)  --->      index1\n",
    "index4(9)  --->      index0\n",
    "\n",
    "So: sorted arr2= [9,8,7,5,6]\n",
    "Finally, returns the sorted arrays by a 2D array: [sorted arr1, sorted arr2]\n",
    "\n",
    "Note: In ascending order sorting process(not the final sort), if some elements have same value, sort them according to their index; You can modify the original array, but I advise you not to do that. ;-)\n",
    "\n",
    "Some Examples and explain\n",
    "sortArrays([5,4,3,2,1],[6,5,7,8,9]) should return\n",
    "[[4,5,3,2,1],[9,8,7,5,6]]\n",
    "\n",
    "sortArrays([2,1,3,4,5],[5,6,7,8,9]) should return\n",
    "[[2,1,3,4,5],[6,5,7,8,9]]\n",
    "\n",
    "sortArrays([5,6,9,2,6,5],[3,6,7,4,8,1]) should return\n",
    "[[5,5,2,6,9,6],[4,3,1,6,8,7]]\n",
    "\n",
    "\"\"\"\n",
    "\n",
    "from itertools import count # count is used to attach index to values\n",
    "from operator import * # itemgetter will be used to sort all arrays\n",
    "\n",
    "def sort_two_arrays(arr1, arr2):\n",
    "    sort_arr1 = sorted(list(zip(arr1, count())), key=itemgetter(0))\n",
    "    sort_arr2 = sorted(list(zip(arr2, count())), key=itemgetter(0))\n",
    "    final_arr1 = []\n",
    "    final_arr2 = []\n",
    "    final = []\n",
    "    # We execute the sorting process, relying upon the index order of the other sorted list\n",
    "    for i in sort_arr2:\n",
    "        final_arr1.append(arr1[i[1]])\n",
    "    for j in sort_arr1:\n",
    "        final_arr2.append(arr2[j[1]])\n",
    "        # To obtain the nested list 'append' method with lists will be used\n",
    "    final.append(final_arr1)\n",
    "    final.append(final_arr2)\n",
    "    return final\n",
    "sort_two_arrays([5,4,3,2,1], [6,5,7,8,9])"
   ]
  }
 ],
 "metadata": {
  "kernelspec": {
   "display_name": "Python 3",
   "language": "python",
   "name": "python3"
  },
  "language_info": {
   "codemirror_mode": {
    "name": "ipython",
    "version": 3
   },
   "file_extension": ".py",
   "mimetype": "text/x-python",
   "name": "python",
   "nbconvert_exporter": "python",
   "pygments_lexer": "ipython3",
   "version": "3.8.8"
  }
 },
 "nbformat": 4,
 "nbformat_minor": 5
}
