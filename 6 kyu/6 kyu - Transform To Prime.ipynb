{
 "cells": [
  {
   "cell_type": "markdown",
   "id": "a3a62484",
   "metadata": {},
   "source": [
    "### Transform To Prime - 6 kyu, Codewars/Python"
   ]
  },
  {
   "cell_type": "code",
   "execution_count": 651,
   "id": "d9a22863",
   "metadata": {},
   "outputs": [
    {
     "data": {
      "text/plain": [
       "2"
      ]
     },
     "execution_count": 651,
     "metadata": {},
     "output_type": "execute_result"
    }
   ],
   "source": [
    "\"\"\"\n",
    "Given a List [] of n integers , find minimum number to be inserted in a list, \n",
    "so that sum of all elements of list should equal the closest prime number .\n",
    "\n",
    "Notes\n",
    "List size is at least 2 .\n",
    "List's numbers will only positives (n > 0) .\n",
    "Repetition of numbers in the list could occur .\n",
    "The newer list's sum should equal the closest prime number .\n",
    "\n",
    "Input >> Output Examples\n",
    "1- minimumNumber ({3,1,2}) ==> return (1)\n",
    "Explanation:\n",
    "Since , the sum of the list's elements equal to (6) , the minimum number to be \n",
    "inserted to transform the sum to prime number is (1) , which will make the sum of the List \n",
    "equal the closest prime number (7) .\n",
    "2-  minimumNumber ({2,12,8,4,6}) ==> return (5)\n",
    "Explanation:\n",
    "Since , the sum of the list's elements equal to (32) , the minimum number to be inserted to \n",
    "transform the sum to prime number is (5) , which will make the sum of the List equal the closest \n",
    "prime number (37) .\n",
    "3- minimumNumber ({50,39,49,6,17,28}) ==> return (2)\n",
    "Explanation:\n",
    "Since , the sum of the list's elements equal to (189) , the minimum number to be inserted \n",
    "to transform the sum to prime number is (2) , which will make the sum of the List equal the \n",
    "closest prime number (191) .\n",
    "\"\"\"\n",
    "\n",
    "def minimum_number(numbers):\n",
    "    curSum = sum(numbers)\n",
    "    final = []\n",
    "    sieve = [True] * (curSum * 2)\n",
    "    for i in range(2, curSum * 2):\n",
    "        if sieve[i]:\n",
    "            final.append(i)\n",
    "            for j in range(i ** 2, curSum * 2, i):\n",
    "                sieve[j] = False\n",
    "    if curSum in final:\n",
    "        return 0\n",
    "    return list(filter(lambda x: x > curSum, final))[0] - curSum\n",
    "    \n",
    "minimum_number([50,39,49,6,17,28])"
   ]
  }
 ],
 "metadata": {
  "kernelspec": {
   "display_name": "Python 3",
   "language": "python",
   "name": "python3"
  },
  "language_info": {
   "codemirror_mode": {
    "name": "ipython",
    "version": 3
   },
   "file_extension": ".py",
   "mimetype": "text/x-python",
   "name": "python",
   "nbconvert_exporter": "python",
   "pygments_lexer": "ipython3",
   "version": "3.8.8"
  }
 },
 "nbformat": 4,
 "nbformat_minor": 5
}
