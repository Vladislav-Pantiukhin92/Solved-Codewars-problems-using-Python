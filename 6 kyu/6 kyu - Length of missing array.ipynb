{
 "cells": [
  {
   "cell_type": "markdown",
   "id": "9c100a0e",
   "metadata": {},
   "source": [
    "### Length of missing array - 6 kyu, Codewars/Python"
   ]
  },
  {
   "cell_type": "code",
   "execution_count": 122,
   "id": "449b620f",
   "metadata": {},
   "outputs": [
    {
     "data": {
      "text/plain": [
       "3"
      ]
     },
     "execution_count": 122,
     "metadata": {},
     "output_type": "execute_result"
    }
   ],
   "source": [
    "\"\"\"\n",
    "You get an array of arrays.\n",
    "If you sort the arrays by their length, you will see, that their length-values are consecutive.\n",
    "But one array is missing!\n",
    "You have to write a method, that return the length of the missing array.\n",
    "Example:\n",
    "[[1, 2], [4, 5, 1, 1], [1], [5, 6, 7, 8, 9]] --> 3\n",
    "If the array of arrays is null/nil or empty, the method should return 0.\n",
    "When an array in the array is null or empty, the method should return 0 too!\n",
    "There will always be a missing element and its length will be always between the given arrays.\n",
    "Have fun coding it and please don't forget to vote and rank this kata! :-)\n",
    "I have created other katas. Have a look if you like coding and challenges.\n",
    "\"\"\"\n",
    "\n",
    "def get_length_of_missing_array(array_of_arrays):\n",
    "    if not array_of_arrays: # If the input array is totally empty - we return 0\n",
    "        return 0\n",
    "    elif not all(array_of_arrays): # If the input array contains None values or empty lists - we return 0 as well\n",
    "        return 0\n",
    "    # For better convenience it is possible to change the content of the input array\n",
    "    # Instead of lists the input array will contain their lengths in ascending order\n",
    "    array_of_arrays = sorted(list(map(lambda x: len(x), array_of_arrays)))\n",
    "    # The final stage is to use 'enumerate' function from the certain starting point (for instance, 1, etc.)\n",
    "    # for implementing relevant comparisons. \n",
    "    num = array_of_arrays[0] # The first element in the sorted array is the starting point of the 'enumerate' function\n",
    "    for i, j in enumerate(array_of_arrays, num):\n",
    "        if i != j: # When the discrepancy index is encountered - we return it\n",
    "            return i\n",
    "        \n",
    "get_length_of_missing_array([[1, 2], [4, 5, 1, 1], [1], [5, 6, 7, 8, 9]])"
   ]
  }
 ],
 "metadata": {
  "kernelspec": {
   "display_name": "Python 3 (ipykernel)",
   "language": "python",
   "name": "python3"
  },
  "language_info": {
   "codemirror_mode": {
    "name": "ipython",
    "version": 3
   },
   "file_extension": ".py",
   "mimetype": "text/x-python",
   "name": "python",
   "nbconvert_exporter": "python",
   "pygments_lexer": "ipython3",
   "version": "3.9.7"
  }
 },
 "nbformat": 4,
 "nbformat_minor": 5
}
