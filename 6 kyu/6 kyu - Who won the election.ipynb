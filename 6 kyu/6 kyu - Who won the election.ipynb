{
 "cells": [
  {
   "cell_type": "markdown",
   "id": "1b5aa616",
   "metadata": {},
   "source": [
    "### Who won the election? - 6 kyu, Codewars/Python"
   ]
  },
  {
   "cell_type": "code",
   "execution_count": 62,
   "id": "8f1f24ea",
   "metadata": {},
   "outputs": [
    {
     "data": {
      "text/plain": [
       "'A'"
      ]
     },
     "execution_count": 62,
     "metadata": {},
     "output_type": "execute_result"
    }
   ],
   "source": [
    "\"\"\"\n",
    "In democracy we have a lot of elections. For example, we have to vote for a class representative in \n",
    "school, for a new parliament or a new government.\n",
    "Usually, we vote for a candidate, i.e. a set of eligible candidates is given. This is done by casting a \n",
    "ballot into a ballot-box. After that, it must be counted how many ballots (= votes) a candidate got.\n",
    "A candidate will win this election if he has the absolute majority.\n",
    "\n",
    "Your Task\n",
    "Return the name of the winner. If there is no winner, return null (in Java and JavaScript), None \n",
    "(in Python) or nil (in Ruby).\n",
    "Task Description\n",
    "There are no given candidates. An elector can vote for anyone. Each ballot contains only one name and \n",
    "represents one vote for this name. A name is an arbitrary string, e.g. \"A\", \"B\", or \"XJDHD\".\n",
    "\n",
    "There are no spoiled ballots.\n",
    "\n",
    "The ballot-box is represented by an unsorted list of names. Each entry in the list corresponds to one \n",
    "vote for this name. You do not know the names in advance (because there are no candidates).\n",
    "\n",
    "A name wins the election if it gets more than n/2 votes (n = number of all votes, i.e. n is equal to the \n",
    "size of the given list).\n",
    "Examples\n",
    "#3 votes for \"A\", 2 votes for \"B\" -> \"A\" wins the election\n",
    "getWinner([\"A\", \"A\", \"A\", \"B\", \"B\"]) == \"A\" #true\n",
    "#2 votes for \"A\", 2 votes for \"B\" -> No winner\n",
    "getWinner([\"A\", \"A\", \"B\", \"B\"]) == None #true\n",
    "#1 vote for each name -> No winner\n",
    "getWinner([\"A\", \"B\", \"C\", \"D\"]) == None #true\n",
    "#3 votes for \"A\", 2 votes for \"B\", 1 vote for \"C\"  \n",
    "#-> No winner (\"A\" does not have more than n/2 = 3 votes)\n",
    "getWinner([\"A\", \"A\", \"A\", \"B\", \"B\", \"C\"]) == None #true\n",
    "Note\n",
    "Please keep in mind the list of votes can be large (n <= 1,200,000). The given list is immutable, i.e. you cannot modify the list (otherwise this could lead to vote rigging).\n",
    "Good luck and have fun.\n",
    "\"\"\"\n",
    "\n",
    "from collections import Counter # We are going to count votes with the help of the occurrence dictionary from \n",
    "# 'collections.Counter'\n",
    "\n",
    "def get_winner(ballots):\n",
    "    abs_majority = len(ballots) // 2 + 1 # Let's define the concept of absolute majority (50% + 1 or more votes)\n",
    "    votes = dict(Counter(ballots)) # The distribution of votes is represented as an occurrence dictionary, where \n",
    "    # keys are candidates and values are their total number of votes\n",
    "    for i in votes: # While looping over the dictionary, we should return the key, the corresponding value \n",
    "    # of which >= absolute majority\n",
    "        if votes[i] >= abs_majority:\n",
    "            return i\n",
    "    # If such a key wasn't found - we return None\n",
    "    return None\n",
    "\n",
    "get_winner([\"A\", \"A\", \"A\", \"B\", \"B\"])"
   ]
  }
 ],
 "metadata": {
  "kernelspec": {
   "display_name": "Python 3 (ipykernel)",
   "language": "python",
   "name": "python3"
  },
  "language_info": {
   "codemirror_mode": {
    "name": "ipython",
    "version": 3
   },
   "file_extension": ".py",
   "mimetype": "text/x-python",
   "name": "python",
   "nbconvert_exporter": "python",
   "pygments_lexer": "ipython3",
   "version": "3.9.7"
  }
 },
 "nbformat": 4,
 "nbformat_minor": 5
}
