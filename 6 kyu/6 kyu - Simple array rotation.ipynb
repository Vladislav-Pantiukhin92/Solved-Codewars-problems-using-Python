{
 "cells": [
  {
   "cell_type": "markdown",
   "id": "771749dd",
   "metadata": {},
   "source": [
    "### Simple array rotation - 6 kyu, Codewars/Python"
   ]
  },
  {
   "cell_type": "code",
   "execution_count": 20,
   "id": "657fccb3",
   "metadata": {},
   "outputs": [
    {
     "data": {
      "text/plain": [
       "'A'"
      ]
     },
     "execution_count": 20,
     "metadata": {},
     "output_type": "execute_result"
    }
   ],
   "source": [
    "\"\"\"\n",
    "In this Kata, you will be given an array and your task will be to determine if an array is in ascending \n",
    "or descending order and if it is rotated or not.\n",
    "Consider the array [1,2,3,4,5,7,12]. This array is sorted in Ascending order. If we rotate this array \n",
    "once to the left, we get [12,1,2,3,4,5,7] and twice-rotated we get [7,12,1,2,3,4,5]. These two rotated \n",
    "arrays are in Rotated Ascending order.\n",
    "Similarly, the array [9,6,5,3,1] is in Descending order, but we can rotate it to get an array in Rotated \n",
    "Descending order: [1,9,6,5,3] or [3,1,9,6,5] etc.\n",
    "Arrays will never be unsorted, except for those that are rotated as shown above. Arrays will always have \n",
    "an answer, as shown in the examples below. Arrays will never contain duplicated elements.\n",
    "More examples:\n",
    "\n",
    "solve([1,2,3,4,5,7]) = \"A\" -- Ascending\n",
    "solve([7,1,2,3,4,5]) = \"RA\" -- Rotated ascending\n",
    "solve([4,5,6,1,2,3]) = \"RA\" -- Rotated ascending\n",
    "solve([9,8,7,6]) = \"D\" -- Descending\n",
    "solve([5,9,8,7,6]) = \"RD\" -- Rotated Descending\n",
    "\"\"\"\n",
    "\n",
    "def solve(arr):\n",
    "# The major principle of the solution: while looping over elements, we will compare numbers, adjacent\n",
    "# to each other. If the previous number is smaller than the next number, we will append \"asc\" to the rear \n",
    "# of the initialized list. If the previous number is larger than the next number, we will append \"desc\" to the \n",
    "# rear of the initialized list. We will count the number of \"asc\" and \"desc\" elements and make the final \n",
    "# conclusion, predicated on the calculated proportion.\n",
    "    final = [] # The list container\n",
    "    i = 0\n",
    "    j = 1\n",
    "    # Within the 'while loop' the \"asc\" and \"desc\" elements will be added to the list container:\n",
    "    while j < len(arr):\n",
    "        if arr[i] < arr[j]:\n",
    "            final.append(\"asc\")\n",
    "        else:\n",
    "            final.append(\"desc\")\n",
    "        i += 1\n",
    "        j += 1\n",
    "    if all(i == \"desc\" for i in final): # If all elements are \"desc\" - the \"D\" is returned\n",
    "        return \"D\"\n",
    "    elif all(i == \"asc\" for i in final): # If all elements are \"asc\" - the \"A\" is returned\n",
    "        return \"A\"\n",
    "    # After that we need to add one more comparison between the last element and the first element (because \n",
    "    # we are now certain that the list rotation took place)\n",
    "    if arr[j - 1] > arr[0]:\n",
    "        final.append(\"desc\")\n",
    "    else:\n",
    "        # Finally, if the number of \"asc\" > the number of \"desc\" - we return \"RA\"\n",
    "        final.append(\"asc\")\n",
    "    if final.count(\"asc\") > final.count(\"desc\"):\n",
    "        return \"RA\"\n",
    "    return \"RD\" # Otherwise, we return \"RD\"\n",
    "\n",
    "solve([1,2,3,4,5,7])"
   ]
  }
 ],
 "metadata": {
  "kernelspec": {
   "display_name": "Python 3 (ipykernel)",
   "language": "python",
   "name": "python3"
  },
  "language_info": {
   "codemirror_mode": {
    "name": "ipython",
    "version": 3
   },
   "file_extension": ".py",
   "mimetype": "text/x-python",
   "name": "python",
   "nbconvert_exporter": "python",
   "pygments_lexer": "ipython3",
   "version": "3.9.7"
  }
 },
 "nbformat": 4,
 "nbformat_minor": 5
}
