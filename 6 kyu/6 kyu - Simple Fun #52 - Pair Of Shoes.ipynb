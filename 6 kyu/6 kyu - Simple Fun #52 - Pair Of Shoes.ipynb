{
 "cells": [
  {
   "cell_type": "markdown",
   "id": "c5f795ed",
   "metadata": {},
   "source": [
    "### Simple Fun #52: Pair Of Shoes - 6 kyu, Codewars/Python"
   ]
  },
  {
   "cell_type": "code",
   "execution_count": 68,
   "id": "2f236393",
   "metadata": {},
   "outputs": [
    {
     "data": {
      "text/plain": [
       "False"
      ]
     },
     "execution_count": 68,
     "metadata": {},
     "output_type": "execute_result"
    }
   ],
   "source": [
    "\"\"\"\n",
    "Yesterday you found some shoes in your room. Each shoe is described by two values:\n",
    "\n",
    "type indicates if it's a left or a right shoe;\n",
    "size is the size of the shoe.\n",
    "Your task is to check whether it is possible to pair the shoes you found in such a way that each pair \n",
    "consists of a right and a left shoe of an equal size.\n",
    "\n",
    "Example\n",
    "For:\n",
    "shoes = [[0, 21], \n",
    "         [1, 23], \n",
    "         [1, 21], \n",
    "         [0, 23]]\n",
    "the output should be true;\n",
    "\n",
    "For:\n",
    "shoes = [[0, 21], \n",
    "         [1, 23], \n",
    "         [1, 21], \n",
    "         [1, 23]]\n",
    "the output should be false.\n",
    "\n",
    "Input/Output\n",
    "[input] 2D integer array shoes\n",
    "Array of shoes. Each shoe is given in the format [type, size], where type is either 0 or 1 for left and \n",
    "right respectively, and size is a positive integer.\n",
    "\n",
    "Constraints: 2 ≤ shoes.length ≤ 50,  1 ≤ shoes[i][1] ≤ 100.\n",
    "[output] a boolean value\n",
    "\n",
    "true if it is possible to pair the shoes, false otherwise.\n",
    "\"\"\"\n",
    "\n",
    "shoes = [[0, 21], \n",
    "         [1, 23], \n",
    "         [1, 21], \n",
    "         [1, 23]]\n",
    "\n",
    "from operator import * # 'operator.eq' will be used to compare lists\n",
    "\n",
    "def pair_of_shoes(shoes):\n",
    "    shoesDict = {} # An empty dictionary\n",
    "    # The right or the left shoe is the key of the dictionary\n",
    "    # In the meantime, the shoe size is the value, which will be stored within the list\n",
    "    for i, j in shoes:\n",
    "        if i not in shoesDict:\n",
    "            shoesDict[i] = [j]\n",
    "        else:\n",
    "            shoesDict[i].append(j)\n",
    "    if len(shoesDict) < 2: # If the length of the obtained dictionary is just 1 (or 0), it means that the \n",
    "        # dictionary contains only right or left shoes\n",
    "        return False\n",
    "    if not eq(sorted(shoesDict[0]), sorted(shoesDict[1])): # If the lists are not equal, the size of the shoes \n",
    "        # is different, so we return False\n",
    "        return False\n",
    "    m = 0\n",
    "    n = 0\n",
    "    # The case, when the lists with shoe sizes are of the same length:\n",
    "    # We are going to compare sizes in an 'element-by-element' manner:\n",
    "    sizes1 = sorted(shoesDict[0])\n",
    "    sizes2 = sorted(shoesDict[1])\n",
    "    while m < len(sizes1):\n",
    "        if sizes1[m] != sizes2[n]: # We return False, if we encountered different non-compatible sizes\n",
    "            return False\n",
    "        m += 1\n",
    "        n += 1\n",
    "    return True # Alternatively, finally we return True\n",
    "\n",
    "pair_of_shoes(shoes)"
   ]
  }
 ],
 "metadata": {
  "kernelspec": {
   "display_name": "Python 3 (ipykernel)",
   "language": "python",
   "name": "python3"
  },
  "language_info": {
   "codemirror_mode": {
    "name": "ipython",
    "version": 3
   },
   "file_extension": ".py",
   "mimetype": "text/x-python",
   "name": "python",
   "nbconvert_exporter": "python",
   "pygments_lexer": "ipython3",
   "version": "3.9.7"
  }
 },
 "nbformat": 4,
 "nbformat_minor": 5
}
