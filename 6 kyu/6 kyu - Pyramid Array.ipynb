{
 "cells": [
  {
   "cell_type": "markdown",
   "id": "fb946342",
   "metadata": {},
   "source": [
    "### Pyramid Array - 6 kyu, Codewars/Python"
   ]
  },
  {
   "cell_type": "code",
   "execution_count": 57,
   "id": "5b54342c",
   "metadata": {},
   "outputs": [
    {
     "data": {
      "text/plain": [
       "[[1], [1, 1], [1, 1, 1]]"
      ]
     },
     "execution_count": 57,
     "metadata": {},
     "output_type": "execute_result"
    }
   ],
   "source": [
    "\"\"\"\n",
    "Write a function that when given a number >= 0, returns an Array of ascending length subarrays.\n",
    "\n",
    "pyramid(0) => [ ]\n",
    "pyramid(1) => [ [1] ]\n",
    "pyramid(2) => [ [1], [1, 1] ]\n",
    "pyramid(3) => [ [1], [1, 1], [1, 1, 1] ]\n",
    "Note: the subarrays should be filled with 1s\n",
    "\"\"\"\n",
    "\n",
    "def pyramid(n):\n",
    "    final = [] # The initial list is an empty 1-D list\n",
    "    if n == 0: # If the given input number is 0 - we just return an empty list\n",
    "        return final\n",
    "# Alternatively, we use the 'for loop' to append the specific subarrays to the rear of the final list\n",
    "    for i in range(1, n + 1):\n",
    "        sub_arr = [1] * i\n",
    "        final.append(sub_arr)\n",
    "    return final # The final list with the specific number of subarrays is returned\n",
    "\n",
    "pyramid(3)"
   ]
  }
 ],
 "metadata": {
  "kernelspec": {
   "display_name": "Python 3 (ipykernel)",
   "language": "python",
   "name": "python3"
  },
  "language_info": {
   "codemirror_mode": {
    "name": "ipython",
    "version": 3
   },
   "file_extension": ".py",
   "mimetype": "text/x-python",
   "name": "python",
   "nbconvert_exporter": "python",
   "pygments_lexer": "ipython3",
   "version": "3.9.7"
  }
 },
 "nbformat": 4,
 "nbformat_minor": 5
}
