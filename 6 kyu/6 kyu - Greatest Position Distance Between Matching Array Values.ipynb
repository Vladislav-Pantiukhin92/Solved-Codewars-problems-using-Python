{
 "cells": [
  {
   "cell_type": "markdown",
   "id": "39e480c9",
   "metadata": {},
   "source": [
    "### Greatest Position Distance Between Matching Array Values - 6 kyu, Codewars/Python"
   ]
  },
  {
   "cell_type": "code",
   "execution_count": 13,
   "id": "0efb023d",
   "metadata": {},
   "outputs": [
    {
     "data": {
      "text/plain": [
       "3"
      ]
     },
     "execution_count": 13,
     "metadata": {},
     "output_type": "execute_result"
    }
   ],
   "source": [
    "\"\"\"\n",
    "The goal of this Kata is to return the greatest distance of index positions between matching number \n",
    "values in an array or 0 if there are no matching values.\n",
    "Example: In an array with the values [0, 2, 1, 2, 4, 1] the greatest index distance is between the \n",
    "matching '1' values at index 2 and 5. Executing greatestDistance against this array would return 3. \n",
    "(i.e. 5 - 2)\n",
    "Here's the previous example in test form:\n",
    "\n",
    "test.assert_equals(greatest_distance([0, 2, 1, 2, 4, 1]), 3)\n",
    "This is based on a Kata I had completed only to realize I has misread the instructions. I enjoyed solving \n",
    "the problem I thought it was asking me to complete so I thought I'd add a new Kata for others to enjoy. \n",
    "There are no tricks in this one, good luck!\n",
    "\"\"\"\n",
    "\n",
    "def greatest_distance(arr):\n",
    "    myDict = {} # The solution envisages the creation of the specific dictionary, where keys are numbers/elements \n",
    "    # of the given input array and values are lists with indices of such elements:\n",
    "    maxDistance = 0 # The variable will store the maximum distance between index positions of duplicates\n",
    "    # During the iteration it is necessary to take into account both elements and their indices, this is why the \n",
    "    # 'enumerate' function is utilized:\n",
    "    for i, j in enumerate(arr):\n",
    "        if j not in myDict:\n",
    "            myDict[j] = [i] # We create the list with index locations of elements\n",
    "        else:\n",
    "            myDict[j].append(i)\n",
    "    # The next step is to iterate over the created dictionary itself:\n",
    "    for i in myDict:\n",
    "        if len(myDict[i]) > 1: # If the value's length (that is, the length of the list) > 1, we obtain the distance\n",
    "            # by subtracting the first index position from the last index position:\n",
    "            curList = myDict[i]\n",
    "            dist = curList[-1] - curList[0] # This way we obtain the distance\n",
    "            if dist > maxDistance: # If necessary, the maxDistance is to be instantly updated\n",
    "                maxDistance = dist\n",
    "    return maxDistance # The maxDistance is returned\n",
    "\n",
    "greatest_distance([0, 2, 1, 2, 4, 1])"
   ]
  }
 ],
 "metadata": {
  "kernelspec": {
   "display_name": "Python 3 (ipykernel)",
   "language": "python",
   "name": "python3"
  },
  "language_info": {
   "codemirror_mode": {
    "name": "ipython",
    "version": 3
   },
   "file_extension": ".py",
   "mimetype": "text/x-python",
   "name": "python",
   "nbconvert_exporter": "python",
   "pygments_lexer": "ipython3",
   "version": "3.9.7"
  }
 },
 "nbformat": 4,
 "nbformat_minor": 5
}
