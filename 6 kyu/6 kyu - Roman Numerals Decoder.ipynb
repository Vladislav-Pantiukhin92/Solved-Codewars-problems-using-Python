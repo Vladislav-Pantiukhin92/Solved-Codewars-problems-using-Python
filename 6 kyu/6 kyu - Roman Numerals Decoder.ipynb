{
 "cells": [
  {
   "cell_type": "markdown",
   "id": "bdc26cc9",
   "metadata": {},
   "source": [
    "### Roman Numerals Decoder - 6 kyu, Codewars/Python"
   ]
  },
  {
   "cell_type": "code",
   "execution_count": 125,
   "id": "576f7799",
   "metadata": {},
   "outputs": [
    {
     "data": {
      "text/plain": [
       "4"
      ]
     },
     "execution_count": 125,
     "metadata": {},
     "output_type": "execute_result"
    }
   ],
   "source": [
    "\"\"\"\n",
    "Create a function that takes a Roman numeral as its argument and returns its value as a numeric \n",
    "decimal integer. You don't need to validate the form of the Roman numeral.\n",
    "Modern Roman numerals are written by expressing each decimal digit of the number \n",
    "to be encoded separately, starting with the leftmost digit and skipping any 0s. S\n",
    "o 1990 is rendered \"MCMXC\" (1000 = M, 900 = CM, 90 = XC) \n",
    "and 2008 is rendered \"MMVIII\" (2000 = MM, 8 = VIII). \n",
    "The Roman numeral for 1666, \"MDCLXVI\", uses each letter in descending order.\n",
    "Example:\n",
    "\n",
    "solution('XXI') # should return 21\n",
    "Help:\n",
    "\n",
    "Symbol    Value\n",
    "I          1\n",
    "V          5\n",
    "X          10\n",
    "L          50\n",
    "C          100\n",
    "D          500\n",
    "M          1,000\n",
    "Courtesy of rosettacode.org\n",
    "\"\"\"\n",
    "\n",
    "def solution(roman):\n",
    "    # First of all, let's create the dictionary of keys (roman numerals) and values (decimal integers)\n",
    "    my_dict = {\"I\": 1,\n",
    "               \"V\": 5,\n",
    "               \"X\": 10,\n",
    "               \"L\": 50,\n",
    "               \"C\": 100,\n",
    "               \"D\": 500,\n",
    "               \"M\": 1000\n",
    "               }\n",
    "    final = 0\n",
    "    i = 0\n",
    "    j = 1\n",
    "    # The iteration process with two pointers are initialized\n",
    "    # The major logic is that if the previous number is bigger than the next number, we do not undertake changes\n",
    "    # So the bigger number is added to the numeric container with one-value shift\n",
    "    while j < len(roman):\n",
    "        if my_dict[roman[i]] >= my_dict[roman[j]]:\n",
    "            final += my_dict[roman[i]]\n",
    "            i += 1\n",
    "            j += 1\n",
    "        else:\n",
    "            # But if the previous number is smaller than the next one - we include the subtraction result with two-values shift\n",
    "            final += (my_dict[roman[j]] - my_dict[roman[i]])\n",
    "            i += 2\n",
    "            j += 2\n",
    "\n",
    "    try:\n",
    "        if my_dict[roman[i]]:\n",
    "            final += my_dict[roman[i]]\n",
    "            return final\n",
    "\n",
    "    except IndexError:\n",
    "        return final\n",
    "\n",
    "solution(\"IV\")"
   ]
  }
 ],
 "metadata": {
  "kernelspec": {
   "display_name": "Python 3 (ipykernel)",
   "language": "python",
   "name": "python3"
  },
  "language_info": {
   "codemirror_mode": {
    "name": "ipython",
    "version": 3
   },
   "file_extension": ".py",
   "mimetype": "text/x-python",
   "name": "python",
   "nbconvert_exporter": "python",
   "pygments_lexer": "ipython3",
   "version": "3.9.7"
  }
 },
 "nbformat": 4,
 "nbformat_minor": 5
}
