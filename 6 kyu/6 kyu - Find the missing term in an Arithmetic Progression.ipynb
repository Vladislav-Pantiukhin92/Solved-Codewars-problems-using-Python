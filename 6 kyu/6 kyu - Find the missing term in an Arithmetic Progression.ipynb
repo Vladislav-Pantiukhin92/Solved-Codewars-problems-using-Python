{
 "cells": [
  {
   "cell_type": "markdown",
   "id": "70468885",
   "metadata": {},
   "source": [
    "###  Find the missing term in an Arithmetic Progression - 6 kyu, Codewars/Python"
   ]
  },
  {
   "cell_type": "code",
   "execution_count": 23,
   "id": "f41823eb",
   "metadata": {},
   "outputs": [
    {
     "data": {
      "text/plain": [
       "7"
      ]
     },
     "execution_count": 23,
     "metadata": {},
     "output_type": "execute_result"
    }
   ],
   "source": [
    "\"\"\"\n",
    "An Arithmetic Progression is defined as one in which there is a constant difference between the consecutive terms of a given series of numbers. \n",
    "You are provided with consecutive elements of an Arithmetic Progression. \n",
    "There is however one hitch: exactly one term from the original series is missing from the set of numbers which have been given to you. \n",
    "The rest of the given series is the same as the original AP. Find the missing term.\n",
    "You have to write a function that receives a list, list size will always be at least 3 numbers. \n",
    "The missing term will never be the first or last one.\n",
    "\n",
    "Example\n",
    "find_missing([1, 3, 5, 9, 11]) == 7\n",
    "PS: This is a sample question of the facebook engineer challenge on interviewstreet. \n",
    "I found it quite fun to solve on paper using math, derive the algo that way. Have fun!\n",
    "\"\"\"\n",
    "\n",
    "def find_missing(sequence):\n",
    "    number = sequence[-1] - sequence[0] # Firsty, we find out the difference between the first and the last elements\n",
    "    step = number // len(sequence) # We calculate the standard step with a floordiv operation\n",
    "    proper_number = sequence[0]\n",
    "    index = 0\n",
    "    while proper_number == sequence[index]: # With while loop we identify the disparity\n",
    "        proper_number += step\n",
    "        index += 1\n",
    "    return proper_number # After that we return the proper number\n",
    "\n",
    "find_missing([1, 3, 5, 9, 11])"
   ]
  }
 ],
 "metadata": {
  "kernelspec": {
   "display_name": "Python 3",
   "language": "python",
   "name": "python3"
  },
  "language_info": {
   "codemirror_mode": {
    "name": "ipython",
    "version": 3
   },
   "file_extension": ".py",
   "mimetype": "text/x-python",
   "name": "python",
   "nbconvert_exporter": "python",
   "pygments_lexer": "ipython3",
   "version": "3.8.8"
  }
 },
 "nbformat": 4,
 "nbformat_minor": 5
}
