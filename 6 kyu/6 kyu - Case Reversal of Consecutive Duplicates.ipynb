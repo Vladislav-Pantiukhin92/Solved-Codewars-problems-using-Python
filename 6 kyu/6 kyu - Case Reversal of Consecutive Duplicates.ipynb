{
 "cells": [
  {
   "cell_type": "markdown",
   "id": "84a77ce4",
   "metadata": {},
   "source": [
    "### Case Reversal of Consecutive Duplicates - 6 kyu, Codewars/Python"
   ]
  },
  {
   "cell_type": "code",
   "execution_count": 10,
   "id": "b78acbbd",
   "metadata": {},
   "outputs": [
    {
     "data": {
      "text/plain": [
       "'puZZles'"
      ]
     },
     "execution_count": 10,
     "metadata": {},
     "output_type": "execute_result"
    }
   ],
   "source": [
    "\"\"\"\n",
    "The aim of this Kata is to write a function which will reverse the case of all consecutive duplicate \n",
    "letters in a string. That is, any letters that occur one after the other and are identical.\n",
    "If the duplicate letters are lowercase then they must be set to uppercase, and if they are uppercase then \n",
    "they need to be changed to lowercase.\n",
    "\n",
    "Examples:\n",
    "\n",
    "reverse_case(\"puzzles\")    Expected Result: \"puZZles\"\n",
    "reverse_case(\"massive\")    Expected Result: \"maSSive\"\n",
    "reverse_case(\"LITTLE\")     Expected Result: \"LIttLE\"\n",
    "reverse_case(\"shhh\")       Expected Result: \"sHHH\"\n",
    "Arguments passed will include only alphabetical letters A–Z or a–z.\n",
    "\"\"\"\n",
    "\n",
    "from itertools import groupby # 'itertools.groupby' will be utilized for the purpose of identifying adjacent \n",
    "# duplicates\n",
    "\n",
    "def reverse(str):\n",
    "    finalStr = \"\" # The string will store letters, which are to be finally returned\n",
    "    for key, group in groupby(str):\n",
    "        curSlice = list(group)\n",
    "        if len(curSlice) > 1: # If the value has adjacent duplicates - we change the case through the string\n",
    "            # method str.swapcase(). We don't need to know the case of letters in advance at all\n",
    "            letters = \"\".join(curSlice).swapcase()\n",
    "            finalStr += letters # Letters-adjacent duplicates with the changed case are added to the string\n",
    "        else:\n",
    "            # If the value has no adjacent duplicates - the original value is added to the string\n",
    "            finalStr += key \n",
    "    return finalStr # The final string is returned\n",
    "\n",
    "reverse(\"puzzles\")"
   ]
  }
 ],
 "metadata": {
  "kernelspec": {
   "display_name": "Python 3 (ipykernel)",
   "language": "python",
   "name": "python3"
  },
  "language_info": {
   "codemirror_mode": {
    "name": "ipython",
    "version": 3
   },
   "file_extension": ".py",
   "mimetype": "text/x-python",
   "name": "python",
   "nbconvert_exporter": "python",
   "pygments_lexer": "ipython3",
   "version": "3.9.7"
  }
 },
 "nbformat": 4,
 "nbformat_minor": 5
}
