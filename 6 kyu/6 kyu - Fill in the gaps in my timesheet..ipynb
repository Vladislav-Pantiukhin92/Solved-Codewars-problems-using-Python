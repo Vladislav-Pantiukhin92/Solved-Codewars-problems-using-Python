{
 "cells": [
  {
   "cell_type": "markdown",
   "id": "fe155783",
   "metadata": {},
   "source": [
    "### Fill in the gaps in my timesheet. - 6 kyu, Codewars/Python"
   ]
  },
  {
   "cell_type": "code",
   "execution_count": 35,
   "id": "ffa05a5e",
   "metadata": {},
   "outputs": [
    {
     "data": {
      "text/plain": [
       "[1, 1, 1, 1, 1]"
      ]
     },
     "execution_count": 35,
     "metadata": {},
     "output_type": "execute_result"
    }
   ],
   "source": [
    "\"\"\"\n",
    "Background:\n",
    "At work I need to keep a timesheet, by noting which project I was working on every 15 minutes. \n",
    "I have an timer that beeps every 15 minutes to prompt me to note down what I was working on at that point, \n",
    "but sometimes when I'm away from my desk or working continuously on one project, I don't note anything \n",
    "down and these get recorded as null.\n",
    "\n",
    "Task:\n",
    "Help me populate my timesheet by replacing any null values in the array with the correct project name \n",
    "which is given by surrounding matching values.\n",
    "\n",
    "Examples:\n",
    "fill_gaps([1,None,1]) -> [1,1,1]   # Replace None values surrounded by matching values\n",
    "fill_gaps([1,None,None,None,1]) -> [1,1,1,1,1]  # There may be multiple Nones\n",
    "fill_gaps([1,None,1,2,None,2]) -> [1,1,1,2,2,2]  # There may be multiple replacements required\n",
    "fill_gaps([1,None,2,None,2,None,1]) -> [1,None,2,2,2,None,1]  # No nesting.\n",
    "fill_gaps([1,None,2]) -> [1,None,2] # No replacement if ends don't match\n",
    "fill_gaps([None,1,None]) -> [None,1,None] # No replacement if ends don't match off the ends of the array\n",
    "fill_gaps(['codewars', None, None, 'codewars', 'real work', None, None, 'real work']) -> \n",
    "[\"codewars\", \"codewars\", \"codewars\", \"codewars\", \"real work\", \"real work\", \"real work\", \"real work\"] \n",
    "# Works with strings too\n",
    "Input:\n",
    "An array of values some of which will be null\n",
    "Output:\n",
    "An array with any consecutive null elements surrounded by equal values replaced by that value.\n",
    "Note:\n",
    "null is language specific, for Ruby it will be nil, for Python None\n",
    "\n",
    "Input will always be a valid array.\n",
    "The original array should not be modified.\n",
    "The output array might still contain null values. The values in the array can be of different data types, \n",
    "but as long as they are == they can be considered the same. In Haskell Maybe Int is used, hence numbers \n",
    "only and Nothing as an empty value\n",
    "\n",
    "Sometimes I forget to note when I stopped working on a project and started on a new one. In this case \n",
    "there will still be nulls in the resulting array. In this case I'll need to manually resolve the problem \n",
    "by checking my git logs or message timestamps for clues as to when I changed task. But that's not \n",
    "something you need to worry about in this kata.\n",
    "\"\"\"\n",
    "\n",
    "def fill_gaps(timesheet):\n",
    "    final = [] # We create a container for storing the final result\n",
    "    container_None = [] # We create a container for None values\n",
    "    for i in timesheet:\n",
    "        if i is None:\n",
    "            container_None.append(None) \n",
    "        else:\n",
    "            if len(final) < 1: # If None is not within other values, None is simply added\n",
    "                final += container_None\n",
    "                container_None = []\n",
    "                final.append(i)\n",
    "                # If there are same values around None, we change None into the specific value format\n",
    "            elif final[-1] == i: \n",
    "                final += [i] * len(container_None)\n",
    "                container_None = []\n",
    "                final.append(i)\n",
    "                # In case of values' disparity we just add None\n",
    "            elif final[-1] != i: \n",
    "                final += container_None\n",
    "                container_None = []\n",
    "                final.append(i)\n",
    "                # We should check the last option - if None is the final element (index -1)\n",
    "    return final + container_None \n",
    "            \n",
    "fill_gaps([1,None,None,None,1])"
   ]
  }
 ],
 "metadata": {
  "kernelspec": {
   "display_name": "Python 3",
   "language": "python",
   "name": "python3"
  },
  "language_info": {
   "codemirror_mode": {
    "name": "ipython",
    "version": 3
   },
   "file_extension": ".py",
   "mimetype": "text/x-python",
   "name": "python",
   "nbconvert_exporter": "python",
   "pygments_lexer": "ipython3",
   "version": "3.8.8"
  }
 },
 "nbformat": 4,
 "nbformat_minor": 5
}
