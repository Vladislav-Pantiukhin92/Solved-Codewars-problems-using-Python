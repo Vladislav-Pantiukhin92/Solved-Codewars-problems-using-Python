{
 "cells": [
  {
   "cell_type": "markdown",
   "id": "ef7e3ebd",
   "metadata": {},
   "source": [
    "### Is Integer Array? - 6 kyu, Codewars/Python"
   ]
  },
  {
   "cell_type": "code",
   "execution_count": 16,
   "id": "f1b13d63",
   "metadata": {},
   "outputs": [
    {
     "data": {
      "text/plain": [
       "False"
      ]
     },
     "execution_count": 16,
     "metadata": {},
     "output_type": "execute_result"
    }
   ],
   "source": [
    "\"\"\"\n",
    "Write a function with the signature shown below:\n",
    "\n",
    "def is_int_array(arr):\n",
    "    return True\n",
    "returns true / True if every element in an array is an integer or a float with no decimals.\n",
    "returns true / True if array is empty.\n",
    "returns false / False for every other input.\n",
    "\n",
    "\"\"\"\n",
    "def is_int_array(arr):\n",
    "    if not isinstance(arr, list): # Through isinstance we check the data type\n",
    "        return False # For starters, if it is not a list type, - we will return False\n",
    "    else:\n",
    "        if not arr: # If it is a list type, but an empty list, - we will return True\n",
    "            return True\n",
    "        else:\n",
    "            try:\n",
    "                sum(arr)\n",
    "                # We are going to convert all numeric values to floats\n",
    "                # Without that it will be impossible to use is_integer()\n",
    "                arr = list(map(float, arr)) \n",
    "                for i in arr:\n",
    "                    if not i.is_integer():\n",
    "                        return False\n",
    "                return True\n",
    "            except TypeError: # If there are non-numeric values, the sum function will not work\n",
    "                return False # As a result of that, we will return False\n",
    "\n",
    "is_int_array(\"\")"
   ]
  }
 ],
 "metadata": {
  "kernelspec": {
   "display_name": "Python 3",
   "language": "python",
   "name": "python3"
  },
  "language_info": {
   "codemirror_mode": {
    "name": "ipython",
    "version": 3
   },
   "file_extension": ".py",
   "mimetype": "text/x-python",
   "name": "python",
   "nbconvert_exporter": "python",
   "pygments_lexer": "ipython3",
   "version": "3.8.8"
  }
 },
 "nbformat": 4,
 "nbformat_minor": 5
}
