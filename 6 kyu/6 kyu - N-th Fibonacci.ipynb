{
 "cells": [
  {
   "cell_type": "markdown",
   "id": "12c9cabe",
   "metadata": {},
   "source": [
    "### N-th Fibonacci - 6 kyu, Codewars/Python"
   ]
  },
  {
   "cell_type": "code",
   "execution_count": 234,
   "id": "d5684597",
   "metadata": {},
   "outputs": [
    {
     "data": {
      "text/plain": [
       "2"
      ]
     },
     "execution_count": 234,
     "metadata": {},
     "output_type": "execute_result"
    }
   ],
   "source": [
    "\"\"\"\n",
    "I love Fibonacci numbers in general, but I must admit I love some more than others.\n",
    "I would like for you to write me a function that when given a number (n) returns the n-th number in the Fibonacci Sequence.\n",
    "For example:\n",
    "\n",
    "   nth_fib(4) == 2\n",
    "Because 2 is the 4th number in the Fibonacci Sequence.\n",
    "For reference, the first two numbers in the Fibonacci sequence are 0 and 1, and each subsequent number is the sum of the previous two.\n",
    "\"\"\"\n",
    "\n",
    "def nth_fib(number):\n",
    "    my_sequence = [0] * number\n",
    "    my_sequence[0:2] = 0, 1\n",
    "    for i in range(2, number):\n",
    "        my_sequence[i] = my_sequence[i - 1] + my_sequence[i - 2]\n",
    "    return my_sequence[number - 1]\n",
    "nth_fib(4)"
   ]
  }
 ],
 "metadata": {
  "kernelspec": {
   "display_name": "Python 3",
   "language": "python",
   "name": "python3"
  },
  "language_info": {
   "codemirror_mode": {
    "name": "ipython",
    "version": 3
   },
   "file_extension": ".py",
   "mimetype": "text/x-python",
   "name": "python",
   "nbconvert_exporter": "python",
   "pygments_lexer": "ipython3",
   "version": "3.8.8"
  }
 },
 "nbformat": 4,
 "nbformat_minor": 5
}
