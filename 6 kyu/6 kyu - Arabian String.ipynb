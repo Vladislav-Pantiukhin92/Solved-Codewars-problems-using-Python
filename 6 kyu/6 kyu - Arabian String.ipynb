{
 "cells": [
  {
   "cell_type": "markdown",
   "id": "5483d565",
   "metadata": {},
   "source": [
    "### Arabian String - 6 kyu, Codewars/Python"
   ]
  },
  {
   "cell_type": "code",
   "execution_count": 26,
   "id": "c52e2e59",
   "metadata": {},
   "outputs": [
    {
     "data": {
      "text/plain": [
       "'ExampleName'"
      ]
     },
     "execution_count": 26,
     "metadata": {},
     "output_type": "execute_result"
    }
   ],
   "source": [
    "\"\"\"\n",
    "You must create a method that can convert a string from any format into PascalCase. \n",
    "This must support symbols too.\n",
    "Don't presume the separators too much or you could be surprised.\n",
    "For example: (Input --> Output)\n",
    "\n",
    "\"example name\" --> \"ExampleName\"\n",
    "\"your-NaMe-here\" --> \"YourNameHere\"\n",
    "\"testing ABC\" --> \"TestingAbc\"\n",
    "\"\"\"\n",
    "\n",
    "import re # Regular expression, aimed at finding the word patterns within the given input string\n",
    "\n",
    "def camelize(str_):\n",
    "# The word patterns are identified, their case is converted to the lowercase positions.\n",
    "# Finally, the word patterns are concatenated and returned\n",
    "    words = \"\".join(list(map(lambda x: x.casefold().capitalize(), re.findall(r\"[a-zA-Z0-9]+\", str_))))\n",
    "    return words\n",
    "\n",
    "camelize(\"example name\")"
   ]
  }
 ],
 "metadata": {
  "kernelspec": {
   "display_name": "Python 3 (ipykernel)",
   "language": "python",
   "name": "python3"
  },
  "language_info": {
   "codemirror_mode": {
    "name": "ipython",
    "version": 3
   },
   "file_extension": ".py",
   "mimetype": "text/x-python",
   "name": "python",
   "nbconvert_exporter": "python",
   "pygments_lexer": "ipython3",
   "version": "3.9.7"
  }
 },
 "nbformat": 4,
 "nbformat_minor": 5
}
