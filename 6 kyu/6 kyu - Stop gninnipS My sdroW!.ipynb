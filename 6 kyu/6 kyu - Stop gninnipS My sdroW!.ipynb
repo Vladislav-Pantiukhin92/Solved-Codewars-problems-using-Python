{
 "cells": [
  {
   "cell_type": "markdown",
   "id": "dcac00aa",
   "metadata": {},
   "source": [
    "### Stop gninnipS My sdroW! - 6 kyu, Codewars/Python"
   ]
  },
  {
   "cell_type": "code",
   "execution_count": 12,
   "id": "3f74de97",
   "metadata": {},
   "outputs": [
    {
     "data": {
      "text/plain": [
       "'Hey wollef sroirraw'"
      ]
     },
     "execution_count": 12,
     "metadata": {},
     "output_type": "execute_result"
    }
   ],
   "source": [
    "\"\"\"\n",
    "Write a function that takes in a string of one or more words, and returns the same string, \n",
    "but with all five or more letter words reversed (Just like the name of this Kata). \n",
    "Strings passed in will consist of only letters and spaces. Spaces will be included only when more than \n",
    "one word is present.\n",
    "Examples:\n",
    "\n",
    "spinWords( \"Hey fellow warriors\" ) => returns \"Hey wollef sroirraw\" \n",
    "spinWords( \"This is a test\") => returns \"This is a test\" \n",
    "spinWords( \"This is another test\" )=> returns \"This is rehtona test\"\n",
    "\"\"\"\n",
    "\n",
    "def spin_words(sentence):\n",
    "# One-liner solution:\n",
    "# The given input string is split into words within the list, all the relevant words (len >= 5) are reversed.\n",
    "# The final concatenated result is returned\n",
    "    return \" \".join([i[::-1] if len(i) >= 5 else i for i in sentence.split()])\n",
    "\n",
    "spin_words(\"Hey fellow warriors\")"
   ]
  }
 ],
 "metadata": {
  "kernelspec": {
   "display_name": "Python 3 (ipykernel)",
   "language": "python",
   "name": "python3"
  },
  "language_info": {
   "codemirror_mode": {
    "name": "ipython",
    "version": 3
   },
   "file_extension": ".py",
   "mimetype": "text/x-python",
   "name": "python",
   "nbconvert_exporter": "python",
   "pygments_lexer": "ipython3",
   "version": "3.9.7"
  }
 },
 "nbformat": 4,
 "nbformat_minor": 5
}
