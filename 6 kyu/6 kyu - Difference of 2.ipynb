{
 "cells": [
  {
   "cell_type": "markdown",
   "id": "7da44d1c",
   "metadata": {},
   "source": [
    "### Difference of 2 - 6 kyu, Codewars/Python"
   ]
  },
  {
   "cell_type": "code",
   "execution_count": 173,
   "id": "5a3d30af",
   "metadata": {},
   "outputs": [
    {
     "data": {
      "text/plain": [
       "[(1, 3), (3, 5), (6, 8), (8, 10), (10, 12), (12, 14)]"
      ]
     },
     "execution_count": 173,
     "metadata": {},
     "output_type": "execute_result"
    }
   ],
   "source": [
    "\"\"\"\n",
    "The objective is to return all pairs of integers from a given array of integers that have a difference \n",
    "of 2. The result array should be sorted in ascending order of values.\n",
    "Assume there are no duplicate integers in the array. The order of the integers in the input array \n",
    "should not matter.\n",
    "\n",
    "Examples\n",
    "[1, 2, 3, 4]  should return [(1, 3), (2, 4)]\n",
    "[4, 1, 2, 3]  should also return [(1, 3), (2, 4)]\n",
    "[1, 23, 3, 4, 7] should return [(1, 3)]\n",
    "[4, 3, 1, 5, 6] should return [(1, 3), (3, 5), (4, 6)]\n",
    "\"\"\"\n",
    "\n",
    "def twos_difference(lst):\n",
    "    lst = sorted(lst) # For operational convenience the sorted array will be used\n",
    "    list1 = [] # First list will preserve the first element of the difference (==2)\n",
    "    list2 = [] # Second list will preserve the second element of the difference (==2)\n",
    "    for i in range(len(lst) - 1): # Through the nested loop we can find the appropriate difference between elements\n",
    "        for j in range(i + 1, len(lst)):\n",
    "            if lst[j] - lst[i] == 2:\n",
    "                list1.append(lst[i])\n",
    "                list2.append(lst[j])\n",
    "                \n",
    "    final = list(zip(list1, list2)) # To combine the final list the zip-function is used\n",
    "    return final\n",
    "    \n",
    "twos_difference([1, 3, 5, 6, 8, 10, 15, 32, 12, 14, 56])"
   ]
  }
 ],
 "metadata": {
  "kernelspec": {
   "display_name": "Python 3 (ipykernel)",
   "language": "python",
   "name": "python3"
  },
  "language_info": {
   "codemirror_mode": {
    "name": "ipython",
    "version": 3
   },
   "file_extension": ".py",
   "mimetype": "text/x-python",
   "name": "python",
   "nbconvert_exporter": "python",
   "pygments_lexer": "ipython3",
   "version": "3.9.7"
  }
 },
 "nbformat": 4,
 "nbformat_minor": 5
}
