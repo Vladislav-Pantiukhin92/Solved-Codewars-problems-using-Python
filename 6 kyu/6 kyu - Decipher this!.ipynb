{
 "cells": [
  {
   "cell_type": "markdown",
   "id": "f7d0a602",
   "metadata": {},
   "source": [
    "### Decipher this! - 6 kyu, Codewars/Python"
   ]
  },
  {
   "cell_type": "code",
   "execution_count": 395,
   "id": "f9ae41a0",
   "metadata": {},
   "outputs": [
    {
     "data": {
      "text/plain": [
       "'A wise old owl lived in an oak'"
      ]
     },
     "execution_count": 395,
     "metadata": {},
     "output_type": "execute_result"
    }
   ],
   "source": [
    "\"\"\"\n",
    "You are given a secret message you need to decipher. Here are the things you need to know to decipher it:\n",
    "For each word:\n",
    "\n",
    "the second and the last letter is switched (e.g. Hello becomes Holle)\n",
    "the first letter is replaced by its character code (e.g. H becomes 72)\n",
    "Note: there are no special characters used, only letters and spaces\n",
    "\n",
    "Examples\n",
    "\n",
    "decipherThis('72olle 103doo 100ya'); // 'Hello good day'\n",
    "decipherThis('82yade 115te 103o'); // 'Ready set go'\n",
    "\"\"\"\n",
    "\n",
    "import re\n",
    "\n",
    "def decipher_this(string):\n",
    "    my_list = []\n",
    "    for i in string.split(): # We loop over the created list\n",
    "        # If the word consists just of digits - we will execute only one operation - digits' substitution\n",
    "        if i.isdigit(): \n",
    "            letter = chr(int(i))\n",
    "            my_list.append(letter)\n",
    "        else:\n",
    "        # Otherwise, following the substitution we are going to utilize the swapping procedure\n",
    "            digits = int(\"\".join(re.findall(r\"^\\d+\", i)))\n",
    "            letter = chr(digits)\n",
    "            word = list(i.replace(str(digits), letter))\n",
    "            word[1], word[len(word) - 1] = word[len(word) - 1], word[1]\n",
    "            my_list.append(\"\".join(word))\n",
    "    return \" \".join(my_list)\n",
    "        \n",
    "decipher_this(\"65 119esi 111dl 111lw 108dvei 105n 97n 111ka\")"
   ]
  }
 ],
 "metadata": {
  "kernelspec": {
   "display_name": "Python 3",
   "language": "python",
   "name": "python3"
  },
  "language_info": {
   "codemirror_mode": {
    "name": "ipython",
    "version": 3
   },
   "file_extension": ".py",
   "mimetype": "text/x-python",
   "name": "python",
   "nbconvert_exporter": "python",
   "pygments_lexer": "ipython3",
   "version": "3.8.8"
  }
 },
 "nbformat": 4,
 "nbformat_minor": 5
}
