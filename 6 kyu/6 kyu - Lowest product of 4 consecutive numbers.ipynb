{
 "cells": [
  {
   "cell_type": "markdown",
   "id": "2acc325e",
   "metadata": {},
   "source": [
    "### Lowest product of 4 consecutive numbers - 6 kyu, Codewars/Python"
   ]
  },
  {
   "cell_type": "code",
   "execution_count": 1,
   "id": "ed7ad00d",
   "metadata": {},
   "outputs": [
    {
     "data": {
      "text/plain": [
       "24"
      ]
     },
     "execution_count": 1,
     "metadata": {},
     "output_type": "execute_result"
    }
   ],
   "source": [
    "\"\"\"\n",
    "Create a function that returns the lowest product of 4 consecutive digits in a number given as a string.\n",
    "This should only work if the number has 4 digits or more. If not, return \"Number is too small\".\n",
    "\n",
    "Example\n",
    "lowest_product(\"123456789\") --> 24 (1x2x3x4)\n",
    "lowest_product(\"35\") --> \"Number is too small\"\n",
    "\"\"\"\n",
    "\n",
    "from functools import reduce # 'functools.reduce' will be used for executing the addition operation\n",
    "\n",
    "def lowest_product(input):\n",
    "    if len(input) < 4: # If the length of the given input list < 4 - the number is too small\n",
    "        return \"Number is too small\"\n",
    "    minProd = float(\"inf\") # The initial minProduct is the positive infinity\n",
    "    i = 0\n",
    "    while i < len(input): # We will verify all the possible and pertinent digit slices to find the minProduct\n",
    "        j = i + 4\n",
    "        while j < len(input) + 1:\n",
    "            curSlice = list(map(int, list(input[i:j]))) # The pertinent digit slice (the size equals to 4)\n",
    "            if len(curSlice) == 4:\n",
    "                minProd = min(minProd, reduce(lambda x, y: x * y, curSlice)) # The minProduct value is being\n",
    "                # constantly verified and updated\n",
    "            j += 1\n",
    "        i += 1\n",
    "    return minProd # The minProduct is finally returned\n",
    "\n",
    "lowest_product(\"123456789\")"
   ]
  }
 ],
 "metadata": {
  "kernelspec": {
   "display_name": "Python 3 (ipykernel)",
   "language": "python",
   "name": "python3"
  },
  "language_info": {
   "codemirror_mode": {
    "name": "ipython",
    "version": 3
   },
   "file_extension": ".py",
   "mimetype": "text/x-python",
   "name": "python",
   "nbconvert_exporter": "python",
   "pygments_lexer": "ipython3",
   "version": "3.9.7"
  }
 },
 "nbformat": 4,
 "nbformat_minor": 5
}
