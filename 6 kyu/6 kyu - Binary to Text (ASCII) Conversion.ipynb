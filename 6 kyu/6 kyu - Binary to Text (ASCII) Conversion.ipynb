{
 "cells": [
  {
   "cell_type": "markdown",
   "id": "7728e53e",
   "metadata": {},
   "source": [
    "### Binary to Text (ASCII) Conversion - 6 kyu, Codewars/Python"
   ]
  },
  {
   "cell_type": "code",
   "execution_count": 40,
   "id": "9529f51b",
   "metadata": {},
   "outputs": [
    {
     "data": {
      "text/plain": [
       "'Hello'"
      ]
     },
     "execution_count": 40,
     "metadata": {},
     "output_type": "execute_result"
    }
   ],
   "source": [
    "\"\"\"\n",
    "Write a function that takes in a binary string and returns the equivalent decoded text (the text is ASCII encoded).\n",
    "Each 8 bits on the binary string represent 1 character on the ASCII table.\n",
    "The input string will always be a valid binary string.\n",
    "Characters can be in the range from \"00000000\" to \"11111111\" (inclusive)\n",
    "Note: In the case of an empty binary string your function should return an empty string.\n",
    "\"\"\"\n",
    "\n",
    "import re # The regular expressions are aimed at singling out the 8-character patterns from the input binary string\n",
    "\n",
    "def binary_to_string(binary):\n",
    "    result = re.findall(r\"[10]{8}\", binary) # Let's extract all 8-character patterns from the input binary string\n",
    "    result = list(map(lambda x: int(x, 2), result)) # Firstly, we transform these patterns into encoded integers\n",
    "    final = list(map(lambda x: chr(x), result)) # Secondly, we obtain the list of decoded letters, which form \n",
    "    # the final word/expression, which is to be returned\n",
    "    return \"\".join(final)\n",
    "\n",
    "binary_to_string(\"0100100001100101011011000110110001101111\")"
   ]
  }
 ],
 "metadata": {
  "kernelspec": {
   "display_name": "Python 3 (ipykernel)",
   "language": "python",
   "name": "python3"
  },
  "language_info": {
   "codemirror_mode": {
    "name": "ipython",
    "version": 3
   },
   "file_extension": ".py",
   "mimetype": "text/x-python",
   "name": "python",
   "nbconvert_exporter": "python",
   "pygments_lexer": "ipython3",
   "version": "3.9.7"
  }
 },
 "nbformat": 4,
 "nbformat_minor": 5
}
