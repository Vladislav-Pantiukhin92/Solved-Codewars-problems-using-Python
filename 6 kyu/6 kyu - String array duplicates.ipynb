{
 "cells": [
  {
   "cell_type": "markdown",
   "id": "7849c403",
   "metadata": {},
   "source": [
    "### String array duplicates - 6 kyu, Codewars/Python"
   ]
  },
  {
   "cell_type": "code",
   "execution_count": 1,
   "id": "c33cb2a1",
   "metadata": {},
   "outputs": [
    {
     "data": {
      "text/plain": [
       "['abracadabra', 'alote', 'asese']"
      ]
     },
     "execution_count": 1,
     "metadata": {},
     "output_type": "execute_result"
    }
   ],
   "source": [
    "\"\"\"\n",
    "In this Kata, you will be given an array of strings and your task is to remove all consecutive duplicate letters from each string in the array.\n",
    "For example:\n",
    "\n",
    "dup([\"abracadabra\",\"allottee\",\"assessee\"]) = [\"abracadabra\",\"alote\",\"asese\"].\n",
    "\n",
    "dup([\"kelless\",\"keenness\"]) = [\"keles\",\"kenes\"].\n",
    "\n",
    "Strings will be lowercase only, no spaces. See test cases for more examples.\n",
    "Good luck!\n",
    "\n",
    "\"\"\"\n",
    "from itertools import groupby\n",
    "\n",
    "# Through groupby and map function we extract unique values and turn them into list of strings without duplicates\n",
    "def dup(array):\n",
    "    result = list(map(lambda x: \"\".join([key for key, group in groupby(x)]), array))\n",
    "    return result\n",
    "\n",
    "\n",
    "dup([\"abracadabra\",\"allottee\",\"assessee\"])"
   ]
  }
 ],
 "metadata": {
  "kernelspec": {
   "display_name": "Python 3",
   "language": "python",
   "name": "python3"
  },
  "language_info": {
   "codemirror_mode": {
    "name": "ipython",
    "version": 3
   },
   "file_extension": ".py",
   "mimetype": "text/x-python",
   "name": "python",
   "nbconvert_exporter": "python",
   "pygments_lexer": "ipython3",
   "version": "3.8.8"
  }
 },
 "nbformat": 4,
 "nbformat_minor": 5
}
