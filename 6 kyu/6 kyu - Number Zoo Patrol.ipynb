{
 "cells": [
  {
   "cell_type": "markdown",
   "id": "ab453c23",
   "metadata": {},
   "source": [
    "### Number Zoo Patrol - 6 kyu, Codewars/Python"
   ]
  },
  {
   "cell_type": "code",
   "execution_count": 7,
   "id": "6df382cb",
   "metadata": {},
   "outputs": [
    {
     "data": {
      "text/plain": [
       "2"
      ]
     },
     "execution_count": 7,
     "metadata": {},
     "output_type": "execute_result"
    }
   ],
   "source": [
    "\"\"\"\n",
    "Write a function that takes a shuffled list of unique numbers from 1 to n with one element missing \n",
    "(which can be any number including n). Return this missing number.\n",
    "Note: huge lists will be tested.\n",
    "\n",
    "Examples:\n",
    "[1, 3, 4]  =>  2\n",
    "[1, 2, 3]  =>  4\n",
    "[4, 2, 3]  =>  1\n",
    "\"\"\"\n",
    "\n",
    "def find_missing_number(numbers):\n",
    "    if not numbers: # If the given input list is empty - we return 1\n",
    "        return 1\n",
    "    maxElement = max(numbers) # Let's find out the maxElement within the given input list\n",
    "    # After that we are going to generate the new array, which will be initially filled with \"None\"\n",
    "    my_arr = [\"None\" for _ in range(maxElement + 1)]\n",
    "    my_arr[0] = 0\n",
    "    for elem in numbers: # Numbers from the given input list will be put inside the generated list (taking into \n",
    "        # account the relevant index location)\n",
    "        my_arr[elem] = elem\n",
    "    # Finally, we are going to return either the only location with \"None\" (which means the missing number), or \n",
    "    # the maxElement + 1 (if all \"None\" values were replaced with real values from the given input list)\n",
    "    try:\n",
    "        return my_arr.index(\"None\") \n",
    "    except ValueError:\n",
    "        return maxElement + 1\n",
    "    \n",
    "find_missing_number([1, 3, 4])"
   ]
  }
 ],
 "metadata": {
  "kernelspec": {
   "display_name": "Python 3 (ipykernel)",
   "language": "python",
   "name": "python3"
  },
  "language_info": {
   "codemirror_mode": {
    "name": "ipython",
    "version": 3
   },
   "file_extension": ".py",
   "mimetype": "text/x-python",
   "name": "python",
   "nbconvert_exporter": "python",
   "pygments_lexer": "ipython3",
   "version": "3.9.7"
  }
 },
 "nbformat": 4,
 "nbformat_minor": 5
}
