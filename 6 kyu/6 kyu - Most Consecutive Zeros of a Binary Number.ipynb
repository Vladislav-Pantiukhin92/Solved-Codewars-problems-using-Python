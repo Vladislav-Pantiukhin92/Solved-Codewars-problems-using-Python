{
 "cells": [
  {
   "cell_type": "markdown",
   "id": "e4e6c6d8",
   "metadata": {},
   "source": [
    "### Most Consecutive Zeros of a Binary Number - 6 kyu, Codewars/Python"
   ]
  },
  {
   "cell_type": "code",
   "execution_count": 19,
   "id": "67f941cf",
   "metadata": {},
   "outputs": [
    {
     "data": {
      "text/plain": [
       "'Four'"
      ]
     },
     "execution_count": 19,
     "metadata": {},
     "output_type": "execute_result"
    }
   ],
   "source": [
    "\"\"\"\n",
    "Given a string (str) containing a base-10 integer between 0 and 10000, convert the integer to its binary \n",
    "representation. At that point, obtain a count of the maximum amount of consecutive 0s. From there, return \n",
    "the count in written form with a capital letter.\n",
    "\n",
    "max_consec_zeros(\"9\") => \"Two\"\n",
    "max_consec_zeros(\"13\") => \"One\"\n",
    "max_consec_zeros(\"15\") => \"Zero\"\n",
    "max_consec_zeros(\"42\") => \"One\"\n",
    "max_consec_zeros(\"550\") => \"Three\"\n",
    "\n",
    "max_consec_zeros(\"777\")\n",
    "1: \"777\"\n",
    "2: 777\n",
    "3: 1100001001\n",
    "4: 4\n",
    "5: \"Four\"\n",
    "max_consec_zeros(\"777\") => \"Four\"\n",
    "\"\"\"\n",
    "\n",
    "import re # Regular expressions will be used for the purpose of extracting the consecutive \"0\"s from the \n",
    "# binary representation of the given input number\n",
    "\n",
    "def max_consec_zeros(n):\n",
    "    binary_num = bin(int(n)).lstrip(\"0b\") # Let's obtain the binary representation of the given input number\n",
    "    mostCons = re.findall(r\"[0]+\", binary_num) # We are going to extract the consecutive \"0\"s\n",
    "    if not mostCons: # If the list contains no zeros at all - we return \"Zero\"\n",
    "        return \"Zero\"\n",
    "    # Otherwise, to obtain the longest consecutive zero string - we need to sort the length of strings:\n",
    "    mostCons = sorted(mostCons, key=len)[-1] # Our longest option is the last element of the list\n",
    "    # After that, let's create the dictionary, where keys are the number of consecutive zeros and the values are\n",
    "    # their string definition:\n",
    "    myDict = {\"0\": \"One\", \"00\": \"Two\", \"000\": \"Three\", \"0000\": \"Four\", \"00000\": \"Five\",\n",
    "              \"000000\": \"Six\", \"0000000\": \"Seven\", \"00000000\": \"Eight\", \"000000000\": \"Nine\",\n",
    "             \"0000000000\": \"Ten\", \"00000000000\": \"Eleven\", \"000000000000\": \"Twelve\",\n",
    "              \"0000000000000\": \"Thirteen\"\n",
    "             }\n",
    "    return myDict[mostCons] # We return the corresponding value of the dictionary\n",
    "\n",
    "max_consec_zeros(\"777\")"
   ]
  }
 ],
 "metadata": {
  "kernelspec": {
   "display_name": "Python 3 (ipykernel)",
   "language": "python",
   "name": "python3"
  },
  "language_info": {
   "codemirror_mode": {
    "name": "ipython",
    "version": 3
   },
   "file_extension": ".py",
   "mimetype": "text/x-python",
   "name": "python",
   "nbconvert_exporter": "python",
   "pygments_lexer": "ipython3",
   "version": "3.9.7"
  }
 },
 "nbformat": 4,
 "nbformat_minor": 5
}
