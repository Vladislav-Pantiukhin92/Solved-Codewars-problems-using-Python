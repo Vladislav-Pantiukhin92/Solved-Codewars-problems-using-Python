{
 "cells": [
  {
   "cell_type": "markdown",
   "id": "9bb1b00e",
   "metadata": {},
   "source": [
    "### Line up - 6 kyu, Codewars/Python"
   ]
  },
  {
   "cell_type": "code",
   "execution_count": 492,
   "id": "acbc9f6e",
   "metadata": {},
   "outputs": [
    {
     "data": {
      "text/plain": [
       "['red', 'green', 'black', 'white']"
      ]
     },
     "execution_count": 492,
     "metadata": {},
     "output_type": "execute_result"
    }
   ],
   "source": [
    "\"\"\"\n",
    "There are several units in a line, out of your sight. You will be given a list of hints (a list or array of strings) that indicates who is next to who in the queue, and you have to rebuild the queue of people, in appropriate order.\n",
    "\n",
    "Example\n",
    "With these hints,\n",
    "\n",
    "[\"white has black on his left\",\n",
    " \"red has green on his right\",\n",
    "  \"black has green on his left\"]\n",
    "you should reduce that the queue is the following:\n",
    "\n",
    "[\"red\", \"green\", \"black\", \"white\"]\n",
    "Notes:\n",
    "It is always possible to reduce the complete order in the queue.\n",
    "The hints can be of two different forms, such as \"white has black on his left\", or \"black has white on his right\".\n",
    "Each queue has at least two units.\n",
    "\"\"\"\n",
    "\n",
    "def line_up(hints):\n",
    "    # First of all, we are going to remove all the superfluous values\n",
    "    # Only two main arguments and the direction will remain\n",
    "    hints = list(map(lambda x: x.replace(\" has \", \" \").replace(\" on his \", \" \"), hints))\n",
    "    hints = list(map(lambda x: x.split() , hints))\n",
    "    for i in range(len(hints)):\n",
    "        # Depending on the right or left direction, the location of two arguments will be swapped\n",
    "        if hints[i][-1] == \"left\":\n",
    "            hints[i][0], hints[i][1] = hints[i][1], hints[i][0]\n",
    "            hints[i].pop() # After establishing the final location we don't need the direction anymore, we can delete it\n",
    "        else:\n",
    "            hints[i].pop()\n",
    "    \n",
    "    # We are going to use the graph algorithm to find the only path\n",
    "    # But before that it is important to identify the start and end points\n",
    "    final = []\n",
    "    hints_dict = {i[0]: i[1] for i in hints}\n",
    "    graph_dict = {i[0]: [i[1]] for i in hints}\n",
    "    hints = list(hints_dict.keys()) + list(hints_dict.values())\n",
    "    hints = list(filter(lambda x: hints.count(x) < 2, hints)) # The start and end points have no repetition\n",
    "    \n",
    "    \n",
    "    def find_path(start, end, path=[]): # The graph algorithm to find the possible path between the start and end points\n",
    "        path = path + [start]\n",
    "        if start == end:\n",
    "            return [path]\n",
    "        elif start not in graph_dict:\n",
    "            return []\n",
    "        else:\n",
    "            paths = []\n",
    "            for i in graph_dict[start]:\n",
    "                if i not in path:\n",
    "                    new_path = find_path(i, end, path)\n",
    "                    for p in new_path:\n",
    "                        paths.append(p)\n",
    "        return paths\n",
    "    # As the start and end points are still unknown, two different options are valid\n",
    "    # So both options are verified\n",
    "    # If the list is not empty - (result1 or result2) - then it is our return solution\n",
    "    result1 = find_path(hints[0], hints[1])\n",
    "    result2 = find_path(hints[1], hints[0])\n",
    "    if result1:\n",
    "        return sum(result1, []) # Finally, we should transform the nested list into the simple, 1-D list\n",
    "    return sum(result2, [])\n",
    "\n",
    "    \n",
    "line_up([\"white has black on his left\",\n",
    " \"red has green on his right\",\n",
    "  \"black has green on his left\"])"
   ]
  }
 ],
 "metadata": {
  "kernelspec": {
   "display_name": "Python 3 (ipykernel)",
   "language": "python",
   "name": "python3"
  },
  "language_info": {
   "codemirror_mode": {
    "name": "ipython",
    "version": 3
   },
   "file_extension": ".py",
   "mimetype": "text/x-python",
   "name": "python",
   "nbconvert_exporter": "python",
   "pygments_lexer": "ipython3",
   "version": "3.9.7"
  }
 },
 "nbformat": 4,
 "nbformat_minor": 5
}
