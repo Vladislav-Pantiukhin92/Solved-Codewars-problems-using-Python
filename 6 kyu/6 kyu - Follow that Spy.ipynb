{
 "cells": [
  {
   "cell_type": "markdown",
   "id": "3e643b61",
   "metadata": {},
   "source": [
    "### Follow that Spy - 6 kyu, Codewars/Python"
   ]
  },
  {
   "cell_type": "code",
   "execution_count": 145,
   "id": "362a550b",
   "metadata": {},
   "outputs": [
    {
     "data": {
      "text/plain": [
       "'one, two, three'"
      ]
     },
     "execution_count": 145,
     "metadata": {},
     "output_type": "execute_result"
    }
   ],
   "source": [
    "\"\"\"\n",
    "We are tracking down our rogue agent Matthew Knight also known as Roy Miller. He travels from places to places to avoid being tracked. Each of his travels are based on a list of itineraries in an unusual or incorrect order. The task is to determine the routes he will take in his every journey.\n",
    "\n",
    "Task\n",
    "You are given an array of routes of his itineraries. List down the only places where he will go in correct order based on his itineraries.\n",
    "\n",
    "Example\n",
    "Given the following routes:\n",
    "\n",
    "[ [USA, BRA], [JPN, PHL], [BRA, UAE], [UAE, JPN] ]\n",
    "The result will be:\n",
    "\n",
    "\"USA, BRA, UAE, JPN, PHL\"\n",
    "Note:\n",
    "\n",
    "It is safe to assume that there will be no repeating place with a different route.\n",
    "There are no empty routes.\n",
    "There will be at least one (1) route (from one waypoint to another).\n",
    "\"\"\"\n",
    "\n",
    "def find_routes(routes):\n",
    "    # We are going to create the adjacency dictionary, where key is the first element and value is the second one\n",
    "    my_dict = {}\n",
    "    for i, j in routes:\n",
    "        if i not in my_dict:\n",
    "            my_dict[i] = [j]\n",
    "        else:\n",
    "            my_dict[i].append(j)  \n",
    "    final = []\n",
    "    # Depending on the data structure we are going to make the simple list out of the list of lists or the list of tuples\n",
    "    if isinstance(routes[0], list):\n",
    "        routes = sum(routes, [])\n",
    "    else:\n",
    "        routes = sum(routes, ())\n",
    "    for i in routes:\n",
    "        if routes.count(i) == 1:\n",
    "            final.append(i)\n",
    "    # After that the initial and final destinations are identified\n",
    "    if final[0] in my_dict:\n",
    "        start_ = final[0]\n",
    "        end_ = final[1]\n",
    "    else:\n",
    "        start_ = final[1]\n",
    "        end_ = final[0]\n",
    "    # We use another function to make the path\n",
    "    def find_paths(start, end, path = []):\n",
    "        path = path + [start]\n",
    "        if start == end:\n",
    "            return path\n",
    "        elif start not in my_dict:\n",
    "            return []\n",
    "        else:\n",
    "            result = []\n",
    "            for node in my_dict[start]:\n",
    "                if node not in path:\n",
    "                    new_path = find_paths(node, end, path)\n",
    "                    for i in new_path:\n",
    "                        result.append(i)\n",
    "        return result\n",
    "    return \", \".join(find_paths(start_, end_))\n",
    "                        \n",
    "find_routes([('two', 'three'), ('one', 'two')])"
   ]
  }
 ],
 "metadata": {
  "kernelspec": {
   "display_name": "Python 3",
   "language": "python",
   "name": "python3"
  },
  "language_info": {
   "codemirror_mode": {
    "name": "ipython",
    "version": 3
   },
   "file_extension": ".py",
   "mimetype": "text/x-python",
   "name": "python",
   "nbconvert_exporter": "python",
   "pygments_lexer": "ipython3",
   "version": "3.8.8"
  }
 },
 "nbformat": 4,
 "nbformat_minor": 5
}
