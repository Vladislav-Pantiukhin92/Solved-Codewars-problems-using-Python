{
 "cells": [
  {
   "cell_type": "markdown",
   "id": "01290ba5",
   "metadata": {},
   "source": [
    "### Throwing Darts - 6 kyu, Codewars/Python"
   ]
  },
  {
   "cell_type": "code",
   "execution_count": 232,
   "id": "c8497930",
   "metadata": {},
   "outputs": [
    {
     "data": {
      "text/plain": [
       "140"
      ]
     },
     "execution_count": 232,
     "metadata": {},
     "output_type": "execute_result"
    }
   ],
   "source": [
    "\"\"\"\n",
    "You've just recently been hired to calculate scores for a Dart Board game!\n",
    "\n",
    "Scoring specifications:\n",
    "\n",
    "0 points - radius above 10\n",
    "5 points - radius between 5 and 10 inclusive\n",
    "10 points - radius less than 5\n",
    "If all radii are less than 5, award 100 BONUS POINTS!\n",
    "\n",
    "Write a function that accepts an array of radii (can be integers and/or floats), and returns a total score using the above specification.\n",
    "An empty array should return 0.\n",
    "\n",
    "Examples:\n",
    "scoreThrows( [1, 5, 11] )    =>  15\n",
    "scoreThrows( [15, 20, 30] )  =>  0\n",
    "scoreThrows( [1, 2, 3, 4] )  =>  140\n",
    "\n",
    "\"\"\"\n",
    "def score_throws(radii):\n",
    "    if not radii: # Empty list returns 0\n",
    "        return 0\n",
    "    elif all(i < 5 for i in radii): # 'All' function ensures 100 Bonus points\n",
    "        return 100 + (10 * len(radii))\n",
    "    else:\n",
    "        # Through 'filter' function each list keeps different-category values\n",
    "        # It makes possible to figure out the total point while counting the length and multiplying it by the category point\n",
    "        between = len(list(filter(lambda y: 5 <= y <= 10, radii))) * 5\n",
    "        less_five = len(list(filter(lambda z: z < 5, radii))) * 10\n",
    "    return between + less_five\n",
    "score_throws([1, 2, 3, 4])"
   ]
  }
 ],
 "metadata": {
  "kernelspec": {
   "display_name": "Python 3",
   "language": "python",
   "name": "python3"
  },
  "language_info": {
   "codemirror_mode": {
    "name": "ipython",
    "version": 3
   },
   "file_extension": ".py",
   "mimetype": "text/x-python",
   "name": "python",
   "nbconvert_exporter": "python",
   "pygments_lexer": "ipython3",
   "version": "3.8.8"
  }
 },
 "nbformat": 4,
 "nbformat_minor": 5
}
