{
 "cells": [
  {
   "cell_type": "markdown",
   "id": "36cbb78e",
   "metadata": {},
   "source": [
    "### Making Change - 6 kyu, Codewars/Python"
   ]
  },
  {
   "cell_type": "code",
   "execution_count": 334,
   "id": "19b7b8d3",
   "metadata": {},
   "outputs": [
    {
     "data": {
      "text/plain": [
       "{'Q': 1, 'D': 1, 'N': 1, 'P': 3}"
      ]
     },
     "execution_count": 334,
     "metadata": {},
     "output_type": "execute_result"
    }
   ],
   "source": [
    "\"\"\"\n",
    "Complete the method that will determine the minimum number of coins needed to make change \n",
    "for a given amount in American currency.\n",
    "Coins used will be half-dollars, quarters, dimes, nickels, and pennies, worth 50¢, 25¢, 10¢, \n",
    "5¢ and 1¢, respectively. They'll be represented by the symbols H, Q, D, N and P (symbols in Ruby, \n",
    "strings in in other languages)\n",
    "The argument passed in will be an integer representing the value in cents. The return value should \n",
    "be a hash/dictionary/object with the symbols as keys, and the numbers of coins as values. \n",
    "Coins that are not used should not be included in the hash. If the argument passed in is 0, \n",
    "then the method should return an empty hash.\n",
    "\n",
    "Examples\n",
    "make_change(0)   #-->  {}\n",
    "make_change(1)   #-->  {\"P\":1}\n",
    "make_change(43)  #-->  {\"Q\":1, \"D\":1, \"N\":1, \"P\":3}\n",
    "make_change(91)  #-->  {\"H\":1, \"Q\":1, \"D\":1, \"N\":1, \"P\":1}\n",
    "\"\"\"\n",
    "\n",
    "# To solve this problem the dynamic programming approach will be used\n",
    "def make_change(amount): # The first part is the classic coin change algorithm\n",
    "    # The major update is that the classic algorithm returned the minimum number, not the coins denominations\n",
    "    all_coins = [50, 25, 10, 5, 1]\n",
    "    dp = [float(\"inf\") for _ in range(amount + 1)]\n",
    "    used_coins = [[] for _ in range(amount + 1)]\n",
    "    dp[0] = 0\n",
    "    for i in range(1, amount + 1):\n",
    "        for j in all_coins:\n",
    "            if i - j >= 0:\n",
    "                if dp[i] > dp[i - j] + 1:\n",
    "                    dp[i] = dp[i - j] + 1\n",
    "                    used_coins[i] = [] # In this case the coins denomination is returned as well\n",
    "                    used_coins[i] = used_coins[i - j] + [j]\n",
    "                    \n",
    "    final_coins = used_coins[amount] # The final part is the creation of the dictionary structure\n",
    "    my_dict = {}\n",
    "    # If the denomination exists within the array, then we add it as a key and its occurencies are added as a value\n",
    "    if final_coins.count(50): \n",
    "        my_dict[\"H\"] = final_coins.count(50)\n",
    "    if final_coins.count(25):\n",
    "        my_dict[\"Q\"] = final_coins.count(25)\n",
    "    if final_coins.count(10):\n",
    "        my_dict[\"D\"] = final_coins.count(10)\n",
    "    if final_coins.count(5):\n",
    "        my_dict[\"N\"] = final_coins.count(5)\n",
    "    if final_coins.count(1):\n",
    "        my_dict[\"P\"] = final_coins.count(1)\n",
    "    return my_dict\n",
    "\n",
    "make_change(43)"
   ]
  }
 ],
 "metadata": {
  "kernelspec": {
   "display_name": "Python 3 (ipykernel)",
   "language": "python",
   "name": "python3"
  },
  "language_info": {
   "codemirror_mode": {
    "name": "ipython",
    "version": 3
   },
   "file_extension": ".py",
   "mimetype": "text/x-python",
   "name": "python",
   "nbconvert_exporter": "python",
   "pygments_lexer": "ipython3",
   "version": "3.9.7"
  }
 },
 "nbformat": 4,
 "nbformat_minor": 5
}
