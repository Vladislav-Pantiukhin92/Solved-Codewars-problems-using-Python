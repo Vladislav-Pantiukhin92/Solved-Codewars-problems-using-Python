{
 "cells": [
  {
   "cell_type": "markdown",
   "id": "c366b0dc",
   "metadata": {},
   "source": [
    "### first character that repeats - 6 kyu, Codewars/Python"
   ]
  },
  {
   "cell_type": "code",
   "execution_count": 33,
   "id": "1a00e6ec",
   "metadata": {},
   "outputs": [
    {
     "data": {
      "text/plain": [
       "'t'"
      ]
     },
     "execution_count": 33,
     "metadata": {},
     "output_type": "execute_result"
    }
   ],
   "source": [
    "\"\"\"\n",
    "Find the first character that repeats in a String and return that character.\n",
    "first_dup('tweet') => 't'\n",
    "first_dup('like') => None\n",
    "This is not the same as finding the character that repeats first. In that case, an input of 'tweet' would \n",
    "yield 'e'.\n",
    "Another example:\n",
    "In 'translator' you should return 't', not 'a'.\n",
    "\n",
    "v      v  \n",
    "translator\n",
    "  ^   ^\n",
    "While second 'a' appears before second 't', the first 't' is before the first 'a'.\n",
    "\"\"\"\n",
    "\n",
    "from collections import Counter # 'collections.Counter' will create the dictionary with occurrences of \n",
    "# letters within the input string\n",
    "\n",
    "def first_dup(s):\n",
    "    myDict = dict(Counter(s)) # The aforementioned dictionary is created\n",
    "    for i in s: # With the help of the 'for loop' we return the first letter with the occurrence > 1\n",
    "        if myDict[i] > 1:\n",
    "            return i\n",
    "        \n",
    "first_dup(\"tweet\")"
   ]
  }
 ],
 "metadata": {
  "kernelspec": {
   "display_name": "Python 3 (ipykernel)",
   "language": "python",
   "name": "python3"
  },
  "language_info": {
   "codemirror_mode": {
    "name": "ipython",
    "version": 3
   },
   "file_extension": ".py",
   "mimetype": "text/x-python",
   "name": "python",
   "nbconvert_exporter": "python",
   "pygments_lexer": "ipython3",
   "version": "3.9.7"
  }
 },
 "nbformat": 4,
 "nbformat_minor": 5
}
