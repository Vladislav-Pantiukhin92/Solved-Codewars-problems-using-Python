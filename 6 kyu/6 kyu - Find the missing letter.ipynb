{
 "cells": [
  {
   "cell_type": "markdown",
   "id": "c5f795ed",
   "metadata": {},
   "source": [
    "### Find the missing letter - 6 kyu, Codewars/Python"
   ]
  },
  {
   "cell_type": "code",
   "execution_count": 16,
   "id": "f0911da0",
   "metadata": {},
   "outputs": [
    {
     "data": {
      "text/plain": [
       "'e'"
      ]
     },
     "execution_count": 16,
     "metadata": {},
     "output_type": "execute_result"
    }
   ],
   "source": [
    "\"\"\"\n",
    "Find the missing letter\n",
    "Write a method that takes an array of consecutive (increasing) letters as input and that returns the \n",
    "missing letter in the array.\n",
    "\n",
    "You will always get an valid array. And it will be always exactly one letter be missing. \n",
    "The length of the array will always be at least 2.\n",
    "The array will always contain letters in only one case.\n",
    "Example:\n",
    "\n",
    "['a','b','c','d','f'] -> 'e'\n",
    "['O','Q','R','S'] -> 'P'\n",
    "(Use the English alphabet with 26 letters!)\n",
    "\"\"\"\n",
    "\n",
    "def find_missing_letter(chars):\n",
    "# With the 'map' function we are going to transform all the letters into the corresponding Unicode integers\n",
    "    chars = list(map(lambda x: ord(x), chars))\n",
    "    count = chars[0] # The initial count is the first Unicode integer within the list\n",
    "    while count in chars: # We start counting from the first Unicode integer\n",
    "        count += 1\n",
    "    return chr(count) # When the missing number is found - we return its Unicode character\n",
    "\n",
    "find_missing_letter(['a','b','c','d','f'])"
   ]
  }
 ],
 "metadata": {
  "kernelspec": {
   "display_name": "Python 3 (ipykernel)",
   "language": "python",
   "name": "python3"
  },
  "language_info": {
   "codemirror_mode": {
    "name": "ipython",
    "version": 3
   },
   "file_extension": ".py",
   "mimetype": "text/x-python",
   "name": "python",
   "nbconvert_exporter": "python",
   "pygments_lexer": "ipython3",
   "version": "3.9.7"
  }
 },
 "nbformat": 4,
 "nbformat_minor": 5
}
