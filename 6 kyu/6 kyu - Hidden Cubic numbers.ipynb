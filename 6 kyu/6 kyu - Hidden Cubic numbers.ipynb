{
 "cells": [
  {
   "cell_type": "markdown",
   "id": "2a255ee1",
   "metadata": {},
   "source": [
    "### Hidden \"Cubic\" numbers - 6 kyu, Codewars/Python"
   ]
  },
  {
   "cell_type": "code",
   "execution_count": 643,
   "id": "30ace724",
   "metadata": {},
   "outputs": [
    {
     "data": {
      "text/plain": [
       "'407 407 Lucky'"
      ]
     },
     "execution_count": 643,
     "metadata": {},
     "output_type": "execute_result"
    }
   ],
   "source": [
    "\"\"\"\n",
    "We search non-negative integer numbers, with at most 3 digits, such as the sum of the cubes of their digits is the number itself; we will call them \"cubic\" numbers.\n",
    "153 is such a \"cubic\" number : 1^3 + 5^3 + 3^3 = 153\n",
    "These \"cubic\" numbers of at most 3 digits are easy to find, even by hand, so they are \"hidden\" with other numbers and characters in a string.\n",
    "The task is to find, or not, the \"cubic\" numbers in the string and then to make the sum of these \"cubic\" numbers found in the string, if any, and to return a string such as:\n",
    "\n",
    "\"number1 number2 (and so on if necessary) sumOfCubicNumbers Lucky\" \n",
    "if \"cubic\" numbers number1, number2, ... were found.\n",
    "The numbers in the output are to be in the order in which they are encountered in the input string.\n",
    "If no cubic numbers are found return the string: `\"Unlucky\"``.\n",
    "\n",
    "Examples:\n",
    " - s = \"aqdf&0#1xyz!22[153(777.777\" \n",
    "   the groups of at most 3 digits are 0 and 1 (one digit), 22 (two digits), 153, 777, 777 (3 digits)\n",
    "   Only 0, 1, 153 are cubic and their sum is 154\n",
    "   Return: \"0 1 153 154 Lucky\"\n",
    "\n",
    "- s = \"QK29a45[&erui9026315\"\n",
    "  the groups are 29, 45, 902, 631, 5. None is cubic.\n",
    "  Return: \"Unlucky\"\n",
    "Notes\n",
    "In the string \"001234\" where 3 digits or more follow each other the first group to examine is \"001\" and the following is \"234\". If a packet of at most three digits has been taken, whether or not \"cubic\", it's over for that packet.\n",
    "\n",
    "When a continuous string of digits exceeds 3, the string is split into groups of 3 from the left. The last grouping could have 3, 2 or 1 digits.\n",
    "e.g \"24172410\" becomes 3 strings comprising \"241\", \"724\" and \"10\"\n",
    "e.g \"0785\" becomes 2 strings comprising \"078\" and \"5\".\n",
    "\"\"\"\n",
    "\n",
    "import re\n",
    "\n",
    "def is_sum_of_cubes(s):\n",
    "    true_cubic_numbers = []\n",
    "    for i in re.findall(r\"\\d{1,3}\", s): # We find patterns: 1-2-3 digit numbers\n",
    "        digit_sum = 0\n",
    "        for j in list(i): # Through the nested list we find the cubic manifestation\n",
    "            digit_sum += int(j) ** 3\n",
    "        if str(digit_sum) == i: # If the cubic result equals to the initial number, it is added to the list\n",
    "            true_cubic_numbers.append(i)\n",
    "    if true_cubic_numbers: # If the list is not empty, then, we return 'Lucky', otherwise - \"Unlucky\"\n",
    "        true_cubic_numbers.append(str(sum(list(map(int, true_cubic_numbers))))) # The sum is added as well\n",
    "        return \" \".join(true_cubic_numbers) + \" Lucky\"\n",
    "    return \"Unlucky\"\n",
    "\n",
    "is_sum_of_cubes(\"&z _upon 407298a --- ???ry, ww/100 I thought, 631str*ng and w===y -721&()\")"
   ]
  }
 ],
 "metadata": {
  "kernelspec": {
   "display_name": "Python 3",
   "language": "python",
   "name": "python3"
  },
  "language_info": {
   "codemirror_mode": {
    "name": "ipython",
    "version": 3
   },
   "file_extension": ".py",
   "mimetype": "text/x-python",
   "name": "python",
   "nbconvert_exporter": "python",
   "pygments_lexer": "ipython3",
   "version": "3.8.8"
  }
 },
 "nbformat": 4,
 "nbformat_minor": 5
}
