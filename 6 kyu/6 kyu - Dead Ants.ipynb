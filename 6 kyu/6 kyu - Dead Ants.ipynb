{
 "cells": [
  {
   "cell_type": "markdown",
   "id": "b90c08d3",
   "metadata": {},
   "source": [
    "### Dead Ants - 6 kyu, Codewars/Python"
   ]
  },
  {
   "cell_type": "code",
   "execution_count": 28,
   "id": "04032aba",
   "metadata": {},
   "outputs": [
    {
     "data": {
      "text/plain": [
       "3"
      ]
     },
     "execution_count": 28,
     "metadata": {},
     "output_type": "execute_result"
    }
   ],
   "source": [
    "\"\"\"\n",
    "An orderly trail of ants is marching across the park picnic area.\n",
    "It looks something like this:\n",
    "\n",
    "..ant..ant.ant...ant.ant..ant.ant....ant..ant.ant.ant...ant..\n",
    "But suddenly there is a rumour that a dropped chicken sandwich has been spotted on the ground ahead. \n",
    "The ants surge forward! Oh No, it's an ant stampede!!\n",
    "Some of the slower ants are trampled, and their poor little ant bodies are broken up into scattered bits.\n",
    "The resulting carnage looks like this:\n",
    "\n",
    "...ant...ant..nat.ant.t..ant...ant..ant..ant.anant..t\n",
    "Can you find how many ants have died?\n",
    "\n",
    "Notes\n",
    "When in doubt, assume that the scattered bits are from the same ant. e.g. 2 heads and 1 body = 2 dead \n",
    "ants, not 3\n",
    "\"\"\"\n",
    "\n",
    "import re # Regular expressions are aimed at extracting parts of ants (letters: \"a\", \"n\" and \"t\")\n",
    "from collections import Counter # 'collections.Counter' will be used to count the number of parts from dead ants\n",
    "\n",
    "def dead_ant_count(ants):\n",
    "    survived = ants.replace(\"ant\", \"\") # We replace the survived ants with \"\"\n",
    "    # After that, we extract letters - parts from dead ants and create the dictionary, based upon that.\n",
    "    # The dictionary with keys as letters (parts of dead ants) and values as their occurrence:\n",
    "    remains = dict(Counter(\"\".join(re.findall(r\"[ant]\", survived))))\n",
    "    if not remains: # If we have no remains - there are no dead ants - we return 0\n",
    "        return 0\n",
    "    # Otherwise, we return the maxNumber of any part of dead ants:\n",
    "    parts = []\n",
    "    for i in remains:\n",
    "        parts.append(remains[i])\n",
    "    dead_ants = sorted(parts)[-1]\n",
    "    return dead_ants # The maxNumber is returned\n",
    "\n",
    "dead_ant_count(\"...ant...ant..nat.ant.t..ant...ant..ant..ant.anant..t\")"
   ]
  }
 ],
 "metadata": {
  "kernelspec": {
   "display_name": "Python 3 (ipykernel)",
   "language": "python",
   "name": "python3"
  },
  "language_info": {
   "codemirror_mode": {
    "name": "ipython",
    "version": 3
   },
   "file_extension": ".py",
   "mimetype": "text/x-python",
   "name": "python",
   "nbconvert_exporter": "python",
   "pygments_lexer": "ipython3",
   "version": "3.9.7"
  }
 },
 "nbformat": 4,
 "nbformat_minor": 5
}
