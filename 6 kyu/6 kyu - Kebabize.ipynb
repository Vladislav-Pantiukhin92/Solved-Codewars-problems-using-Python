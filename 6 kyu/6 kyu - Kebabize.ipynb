{
 "cells": [
  {
   "cell_type": "markdown",
   "id": "9b9a84f9",
   "metadata": {},
   "source": [
    "### Kebabize - 6 kyu, Codewars/Python"
   ]
  },
  {
   "cell_type": "code",
   "execution_count": 7,
   "id": "6702837b",
   "metadata": {},
   "outputs": [
    {
     "data": {
      "text/plain": [
       "'jl-b-bhn'"
      ]
     },
     "execution_count": 7,
     "metadata": {},
     "output_type": "execute_result"
    }
   ],
   "source": [
    "\"\"\"\n",
    "Modify the kebabize function so that it converts a camel case string into a kebab case.\n",
    "\n",
    "kebabize('camelsHaveThreeHumps') // camels-have-three-humps\n",
    "kebabize('camelsHave3Humps') // camels-have-humps\n",
    "Notes:\n",
    "\n",
    "the returned string should only contain lowercase letters\n",
    "\n",
    "\"\"\"\n",
    "\n",
    "import re # We import regular expressions to find relevant patterns\n",
    "\n",
    "def kebabize(string):\n",
    "    if string.isdigit(): # If string comprises exclusively digits, return \"\"\n",
    "        return \"\"\n",
    "    elif string.isupper(): \n",
    "        # If it is entirely an uppercase string/word:\n",
    "        return \"-\".join(list(string.lower()))\n",
    "    pattern = re.compile(r\"[A-Za-z]+\")\n",
    "    only_letters = \"\".join(pattern.findall(string)) # We eradicate non-alpha values\n",
    "    first_word = re.findall(r\"^[a-z]+\", only_letters) # The first word is not capitalized, so we can temporarily remove it\n",
    "    # Following that, we identify all capitalized words:\n",
    "    lowercase_other_words = list(map(lambda x: x.lower(), re.findall(r\"[A-Z][a-z]*\", only_letters)))\n",
    "    # As the first word was previously removed, we use concatenation and transform the obtained list into string with \"-\"\n",
    "    return \"-\".join(first_word + lowercase_other_words)\n",
    "\n",
    "\n",
    "kebabize(\"6jlB0Bhn\")"
   ]
  }
 ],
 "metadata": {
  "kernelspec": {
   "display_name": "Python 3",
   "language": "python",
   "name": "python3"
  },
  "language_info": {
   "codemirror_mode": {
    "name": "ipython",
    "version": 3
   },
   "file_extension": ".py",
   "mimetype": "text/x-python",
   "name": "python",
   "nbconvert_exporter": "python",
   "pygments_lexer": "ipython3",
   "version": "3.8.8"
  }
 },
 "nbformat": 4,
 "nbformat_minor": 5
}
