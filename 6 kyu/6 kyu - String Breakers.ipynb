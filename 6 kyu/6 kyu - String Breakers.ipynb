{
 "cells": [
  {
   "cell_type": "markdown",
   "id": "2acc325e",
   "metadata": {},
   "source": [
    "### String Breakers - 6 kyu, Codewars/Python"
   ]
  },
  {
   "cell_type": "code",
   "execution_count": 28,
   "id": "21964bee",
   "metadata": {},
   "outputs": [
    {
     "data": {
      "text/plain": [
       "'Thisi\\nsanex\\nample\\nstrin\\ng'"
      ]
     },
     "execution_count": 28,
     "metadata": {},
     "output_type": "execute_result"
    }
   ],
   "source": [
    "\"\"\"\n",
    "I will give you an integer (N) and a string. Break the string up into as many substrings of N as you can \n",
    "without spaces. If there are leftover characters, include those as well.\n",
    "Example: \n",
    "\n",
    "n = 5;\n",
    "\n",
    "st = \"This is an example string\";\n",
    "\n",
    "Return value:\n",
    "Thisi\n",
    "sanex\n",
    "ample\n",
    "strin\n",
    "g\n",
    "\n",
    "Return value as a string: 'Thisi'+'\\n'+'sanex'+'\\n'+'ample'+'\\n'+'strin'+'\\n'+'g'\n",
    "\"\"\"\n",
    "\n",
    "import re # Regular expression to split the given input string into parts with the specific size of 'n'\n",
    "\n",
    "def string_breakers(n, st):\n",
    "# All the whitespaces are removed from the given input string, as well as the given input string is split into \n",
    "# chunks with the size of 'n'\n",
    "    without_space = re.findall(r\".\" + \"{\" + f\"1,{n}\" + \"}\", \"\".join(re.split(r\" \", st)))\n",
    "    return \"\\n\".join(without_space) # The obtained chunks are concatenated with '\\n'. The final string is returned\n",
    "\n",
    "string_breakers(5, \"This is an example string\")"
   ]
  }
 ],
 "metadata": {
  "kernelspec": {
   "display_name": "Python 3 (ipykernel)",
   "language": "python",
   "name": "python3"
  },
  "language_info": {
   "codemirror_mode": {
    "name": "ipython",
    "version": 3
   },
   "file_extension": ".py",
   "mimetype": "text/x-python",
   "name": "python",
   "nbconvert_exporter": "python",
   "pygments_lexer": "ipython3",
   "version": "3.9.7"
  }
 },
 "nbformat": 4,
 "nbformat_minor": 5
}
