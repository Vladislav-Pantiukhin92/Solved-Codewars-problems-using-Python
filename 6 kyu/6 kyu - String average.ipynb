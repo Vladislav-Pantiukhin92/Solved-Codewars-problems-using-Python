{
 "cells": [
  {
   "cell_type": "markdown",
   "id": "3cf7d081",
   "metadata": {},
   "source": [
    "### String average - 6 kyu, Codewars/Python"
   ]
  },
  {
   "cell_type": "code",
   "execution_count": 8,
   "id": "06245530",
   "metadata": {},
   "outputs": [
    {
     "data": {
      "text/plain": [
       "'three'"
      ]
     },
     "execution_count": 8,
     "metadata": {},
     "output_type": "execute_result"
    }
   ],
   "source": [
    "\"\"\"\n",
    "You are given a string of numbers between 0-9. Find the average of these numbers and return it as a floored whole number (ie: no decimal places) written out as a string. Eg:\n",
    "\"zero nine five two\" -> \"four\"\n",
    "If the string is empty or includes a number greater than 9, return \"n/a\"\n",
    "\"\"\"\n",
    "\n",
    "\n",
    "from statistics import mean # To calculate the mean value\n",
    "from itertools import count # To tie the string numbers with their numeric representation\n",
    "from math import * # Floor function (to round down a mean value)\n",
    "\n",
    "def average_string(string):\n",
    "    if not string:\n",
    "        return \"n/a\"\n",
    "    string_numbers = [\"zero\", \"one\", \"two\", \"three\", \"four\", \"five\", \"six\", \"seven\", \"eight\", \"nine\"]\n",
    "    final = []\n",
    "    # We create the list of tuples, where the first element[0] is the string number, and the second one[1] is its numeric representation\n",
    "    number_translator = list(zip(string_numbers, count()))\n",
    "    for i in string.split():\n",
    "        if i not in string_numbers:\n",
    "            return \"n/a\"\n",
    "    for i in string.split():\n",
    "        for j in number_translator:\n",
    "            if j[0] == i:\n",
    "                final.append(j[1])\n",
    "    average_ = floor(mean(final)) # After appending all elements we calculate the mean value\n",
    "    for i in number_translator:\n",
    "        if i[1] == average_:\n",
    "            return i[0] # Return the first match\n",
    "\n",
    "\n",
    "\n",
    "average_string(\"four six two three\")"
   ]
  }
 ],
 "metadata": {
  "kernelspec": {
   "display_name": "Python 3",
   "language": "python",
   "name": "python3"
  },
  "language_info": {
   "codemirror_mode": {
    "name": "ipython",
    "version": 3
   },
   "file_extension": ".py",
   "mimetype": "text/x-python",
   "name": "python",
   "nbconvert_exporter": "python",
   "pygments_lexer": "ipython3",
   "version": "3.8.8"
  }
 },
 "nbformat": 4,
 "nbformat_minor": 5
}
