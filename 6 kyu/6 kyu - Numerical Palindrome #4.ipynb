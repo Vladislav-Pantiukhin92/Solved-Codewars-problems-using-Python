{
 "cells": [
  {
   "cell_type": "markdown",
   "id": "89c559a3",
   "metadata": {},
   "source": [
    "### Numerical Palindrome #4 - 6 kyu, Codewars/Python"
   ]
  },
  {
   "cell_type": "code",
   "execution_count": null,
   "id": "d9e44149",
   "metadata": {},
   "outputs": [],
   "source": [
    "\"\"\"\n",
    "A palindrome is a word, phrase, number, or other sequence of characters which reads the same backward as forward. Examples of numerical palindromes are:\n",
    "\n",
    "- 2332\n",
    "- 110011\n",
    "- 54322345\n",
    "\n",
    "For a given number num, return its closest numerical palindrome which can either be smaller or larger than num. If there are 2 possible values, the larger value should be returned. If num is a numerical palindrome itself, return it.\n",
    "For this kata, single digit numbers will NOT be considered numerical palindromes.\n",
    "Also, you know the drill - be sure to return \"Not valid\" if the input is not an integer or is less than 0.\n",
    "\n",
    "palindrome(8) => 11\n",
    "palindrome(281) => 282 \n",
    "palindrome(1029) => 1001\n",
    "palindrome(1221) => 1221\n",
    "palindrome(\"1221\") => \"Not valid\"\n",
    "\n",
    "\"\"\"\n",
    "\n",
    "# We are going to use the brute force technique to verify numbers below and above the num\n",
    "def palindrome(num):\n",
    "    if not isinstance(num, int): # non-integer input - return 'not valid'\n",
    "        return \"Not valid\"\n",
    "    elif num < 0: # The same output takes place if the number is below 0\n",
    "        return \"Not valid\"\n",
    "    elif num < 10: # 11 is the optimal palindrome number for all one-digit numbers\n",
    "        return 11\n",
    "    elif str(num) == str(num)[::-1]:\n",
    "        return num # Reversal is used to verify whether the num is already a palindrome\n",
    "    else:\n",
    "        palindromes = [] # The list is created to collect first palindromes above and below the num\n",
    "        num_plus = num\n",
    "        num_minus = num\n",
    "        while True:\n",
    "            if str(num_plus) == str(num_plus)[::-1]:\n",
    "                palindromes.append(num_plus)\n",
    "                break\n",
    "            num_plus += 1\n",
    "        while True:\n",
    "            if str(num_minus) == str(num_minus)[::-1]:\n",
    "                palindromes.append(num_minus)\n",
    "                break\n",
    "            num_minus -= 1\n",
    "    my_list = list(map(lambda x: abs(x - num), palindromes))\n",
    "    if my_list[0] == my_list[1]: # If the same palindrome distance below and above the num - return the bigger number\n",
    "        return num_plus\n",
    "    elif my_list[0] > my_list[1]: # In all other cases it is necessary to pick up the number with the smaller palindrome distance\n",
    "        return num_minus\n",
    "    return num_plus\n"
   ]
  }
 ],
 "metadata": {
  "kernelspec": {
   "display_name": "Python 3",
   "language": "python",
   "name": "python3"
  },
  "language_info": {
   "codemirror_mode": {
    "name": "ipython",
    "version": 3
   },
   "file_extension": ".py",
   "mimetype": "text/x-python",
   "name": "python",
   "nbconvert_exporter": "python",
   "pygments_lexer": "ipython3",
   "version": "3.8.8"
  }
 },
 "nbformat": 4,
 "nbformat_minor": 5
}
