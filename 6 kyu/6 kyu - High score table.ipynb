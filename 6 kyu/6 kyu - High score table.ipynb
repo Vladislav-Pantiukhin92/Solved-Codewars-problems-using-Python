{
 "cells": [
  {
   "cell_type": "markdown",
   "id": "c5f795ed",
   "metadata": {},
   "source": [
    "### High score table - 6 kyu, Codewars/Python"
   ]
  },
  {
   "cell_type": "code",
   "execution_count": null,
   "id": "3bc7a510",
   "metadata": {},
   "outputs": [],
   "source": [
    "\"\"\"\n",
    "You just got done writing a function that calculates the player's final score for your new game, \n",
    "\"Flight of the cockatoo\".\n",
    "Now all you need is a high score table that can be updated with the player's final scores. \n",
    "With such a feature, the player will be motivated to try to beat his previous scores, and hopefully, \n",
    "never stop playing your game.\n",
    "The high score table will start out empty. A limit to the size of the table will be specified \n",
    "upon creation of the table.\n",
    "Here's an example of the expected behavior of the high score table :\n",
    "\n",
    "highScoreTable = HighScoreTable(3)\n",
    "highScoreTable.scores == [] # evaluates to True\n",
    "highScoreTable.update(10)\n",
    "highScoreTable.scores == [10]\n",
    "highScoreTable.update(8)\n",
    "highScoreTable.update(12)\n",
    "highScoreTable.update(5)\n",
    "highScoreTable.update(10)\n",
    "highScoreTable.scores == [12, 10, 10]\n",
    "highScoreTable.reset()\n",
    "highScoreTable.scores == []\n",
    "# And so on...\n",
    "\"\"\"\n",
    "\n",
    "class HighScoreTable:\n",
    "    \n",
    "    def __init__(self, limit): # Constructor with the limit parameter\n",
    "        self.limit = limit\n",
    "        self.scores = [] # The list of scores\n",
    "        self.size = 0 # The initial size is 0\n",
    "    \n",
    "    def update(self, score):\n",
    "        if self.size == self.limit: # If the current size and the set limit are equal - we need to replace\n",
    "            # a smaller element with a bigger one\n",
    "            self.scores.append(score)\n",
    "            self.scores.sort(reverse=True) # The sorting procedure in reverse order\n",
    "            self.scores.pop() # A smaller element is being popped\n",
    "        else:\n",
    "            self.scores.append(score) # If the current size < the set limit - we append the given input element\n",
    "            self.scores.sort(reverse=True) # The new array is sorted in reverse order again\n",
    "            self.size += 1 # The current size is increased by 1\n",
    "            \n",
    "        \n",
    "    def reset(self):\n",
    "        self.scores.clear() # The list method 'lst.clear()' - the list of scores is empty again\n",
    "        self.size = 0 # The default size is 0 again"
   ]
  }
 ],
 "metadata": {
  "kernelspec": {
   "display_name": "Python 3 (ipykernel)",
   "language": "python",
   "name": "python3"
  },
  "language_info": {
   "codemirror_mode": {
    "name": "ipython",
    "version": 3
   },
   "file_extension": ".py",
   "mimetype": "text/x-python",
   "name": "python",
   "nbconvert_exporter": "python",
   "pygments_lexer": "ipython3",
   "version": "3.9.7"
  }
 },
 "nbformat": 4,
 "nbformat_minor": 5
}
