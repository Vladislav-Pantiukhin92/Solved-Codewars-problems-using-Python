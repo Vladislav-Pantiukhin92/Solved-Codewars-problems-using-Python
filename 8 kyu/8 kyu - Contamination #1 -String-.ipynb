{
 "cells": [
  {
   "cell_type": "markdown",
   "id": "58e1f9cd",
   "metadata": {},
   "source": [
    "### Contamination #1 -String- - 8 kyu, Codewars/Python"
   ]
  },
  {
   "cell_type": "code",
   "execution_count": 1,
   "id": "17da8d23",
   "metadata": {},
   "outputs": [
    {
     "data": {
      "text/plain": [
       "'zzz'"
      ]
     },
     "execution_count": 1,
     "metadata": {},
     "output_type": "execute_result"
    }
   ],
   "source": [
    "\"\"\"\n",
    "An AI has infected a text with a character!!\n",
    "This text is now fully mutated to this character.\n",
    "If the text or the character are empty, return an empty string.\n",
    "There will never be a case when both are empty as nothing is going on!!\n",
    "Note: The character is a string of length 1 or an empty string.\n",
    "\n",
    "Example\n",
    "text before = \"abc\"\n",
    "character   = \"z\"\n",
    "text after  = \"zzz\"\n",
    "\"\"\"\n",
    "\n",
    "def contamination(text, char):\n",
    "    if not text or not char: # If the 'text' is an empty string or the 'char' is an empty string - we return \n",
    "        # an empty string\n",
    "        return \"\"\n",
    "    # Otherwise, we generate the sequence of characters (the length == len(text))\n",
    "    final = \"\".join([char for i in text])\n",
    "    return final # Finally, we return the above-mentioned generated sequence as a string\n",
    "\n",
    "contamination(\"abc\", \"z\")"
   ]
  }
 ],
 "metadata": {
  "kernelspec": {
   "display_name": "Python 3 (ipykernel)",
   "language": "python",
   "name": "python3"
  },
  "language_info": {
   "codemirror_mode": {
    "name": "ipython",
    "version": 3
   },
   "file_extension": ".py",
   "mimetype": "text/x-python",
   "name": "python",
   "nbconvert_exporter": "python",
   "pygments_lexer": "ipython3",
   "version": "3.9.7"
  }
 },
 "nbformat": 4,
 "nbformat_minor": 5
}
