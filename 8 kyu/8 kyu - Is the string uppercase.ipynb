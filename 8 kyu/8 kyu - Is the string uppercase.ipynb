{
 "cells": [
  {
   "cell_type": "markdown",
   "id": "2acc325e",
   "metadata": {},
   "source": [
    "### Is the string uppercase? - 8 kyu, Codewars/Python"
   ]
  },
  {
   "cell_type": "code",
   "execution_count": 2,
   "id": "31cbaa58",
   "metadata": {},
   "outputs": [
    {
     "data": {
      "text/plain": [
       "False"
      ]
     },
     "execution_count": 2,
     "metadata": {},
     "output_type": "execute_result"
    }
   ],
   "source": [
    "\"\"\"\n",
    "Is the string uppercase?\n",
    "Task\n",
    "Create a method to see whether the string is ALL CAPS.\n",
    "\n",
    "Examples (input -> output)\n",
    "\"c\" -> False\n",
    "\"C\" -> True\n",
    "\"hello I AM DONALD\" -> False\n",
    "\"HELLO I AM DONALD\" -> True\n",
    "\"ACSKLDFJSgSKLDFJSKLDFJ\" -> False\n",
    "\"ACSKLDFJSGSKLDFJSKLDFJ\" -> True\n",
    "In this Kata, a string is said to be in ALL CAPS whenever it does not contain any lowercase letter so any \n",
    "string containing no letters at all is trivially considered to be in ALL CAPS.\n",
    "\"\"\"\n",
    "\n",
    "import re # Regular expression is to be used to extract all the possible lowercase and uppercase letters from \n",
    "# the given input string\n",
    "\n",
    "def is_uppercase(inp):\n",
    "    result = \"\".join(re.findall(r\"[a-zA-Z]\", inp)) # All the letters are being extracted\n",
    "    if not result: # If the extraction result contains nothing - we return True\n",
    "        return True\n",
    "    if result.isupper(): # If the extraction result contains something, and all the letters are uppercase - \n",
    "        # we return True (the string method 'str.isupper()' is used)\n",
    "        return True\n",
    "    return False # Alternatively we return False\n",
    "\n",
    "is_uppercase(\"hello I AM DONALD\")"
   ]
  }
 ],
 "metadata": {
  "kernelspec": {
   "display_name": "Python 3 (ipykernel)",
   "language": "python",
   "name": "python3"
  },
  "language_info": {
   "codemirror_mode": {
    "name": "ipython",
    "version": 3
   },
   "file_extension": ".py",
   "mimetype": "text/x-python",
   "name": "python",
   "nbconvert_exporter": "python",
   "pygments_lexer": "ipython3",
   "version": "3.9.7"
  }
 },
 "nbformat": 4,
 "nbformat_minor": 5
}
