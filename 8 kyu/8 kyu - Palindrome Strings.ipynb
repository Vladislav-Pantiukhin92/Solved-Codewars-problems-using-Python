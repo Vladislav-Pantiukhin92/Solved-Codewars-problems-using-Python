{
 "cells": [
  {
   "cell_type": "markdown",
   "id": "76efe54f",
   "metadata": {},
   "source": [
    "### Palindrome Strings - 8 kyu, Codewars/Python"
   ]
  },
  {
   "cell_type": "code",
   "execution_count": 1,
   "id": "cb1dec51",
   "metadata": {},
   "outputs": [
    {
     "data": {
      "text/plain": [
       "True"
      ]
     },
     "execution_count": 1,
     "metadata": {},
     "output_type": "execute_result"
    }
   ],
   "source": [
    "\"\"\"\n",
    "A palindrome is a word, phrase, number, or other sequence of characters which reads the same backward \n",
    "or forward. This includes capital letters, punctuation, and word dividers.\n",
    "Implement a function that checks if something is a palindrome. If the input is a number, \n",
    "convert it to string first.\n",
    "\n",
    "Examples\n",
    "isPalindrome(\"anna\")   ==> true\n",
    "isPalindrome(\"walter\") ==> false\n",
    "isPalindrome(12321)    ==> true\n",
    "isPalindrome(123456)   ==> false\n",
    "\"\"\"\n",
    "# More complicated algorithm to verify the palindromic feature\n",
    "# The point is to, firstly, find the longest palindrome in the string\n",
    "# And if the length of the longest palindrome is equal to the entire length of the string, we return True,\n",
    "# because it means that the whole string is a palindrome\n",
    "\n",
    "def is_palindrome(string):\n",
    "    string = str(string) # If input is the number, we change its type\n",
    "    maxLength = 0\n",
    "    for i in range(len(string)): # Algorithm for odd-numbered palindromes\n",
    "        l, r = i, i\n",
    "        while l >= 0 and r < len(string) and string[l] == string[r]:\n",
    "            if (r - l) + 1 > maxLength:\n",
    "                maxLength = (r - l) + 1\n",
    "            l -= 1\n",
    "            r += 1\n",
    "\n",
    "    for i in range(len(string)): # Algorithm for even-numbered palindromes\n",
    "        l, r = i, i + 1\n",
    "        while l >= 0 and r < len(string) and string[l] == string[r]:\n",
    "            if (r - l) + 1 > maxLength:\n",
    "                maxLength = (r - l) + 1\n",
    "            l -= 1\n",
    "            r += 1\n",
    "    if maxLength != len(string): # Verification, whether the string and the longest palindrome are of the same length\n",
    "        return False\n",
    "    return True\n",
    "\n",
    "is_palindrome(\"anna\")"
   ]
  }
 ],
 "metadata": {
  "kernelspec": {
   "display_name": "Python 3 (ipykernel)",
   "language": "python",
   "name": "python3"
  },
  "language_info": {
   "codemirror_mode": {
    "name": "ipython",
    "version": 3
   },
   "file_extension": ".py",
   "mimetype": "text/x-python",
   "name": "python",
   "nbconvert_exporter": "python",
   "pygments_lexer": "ipython3",
   "version": "3.9.7"
  }
 },
 "nbformat": 4,
 "nbformat_minor": 5
}
