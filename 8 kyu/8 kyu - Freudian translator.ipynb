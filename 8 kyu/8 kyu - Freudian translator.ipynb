{
 "cells": [
  {
   "cell_type": "markdown",
   "id": "a7678a1e",
   "metadata": {},
   "source": [
    "### Freudian translator - 8 kyu, Codewars/Python"
   ]
  },
  {
   "cell_type": "code",
   "execution_count": 355,
   "id": "7c3c349f",
   "metadata": {},
   "outputs": [
    {
     "data": {
      "text/plain": [
       "'sex sex sex sex'"
      ]
     },
     "execution_count": 355,
     "metadata": {},
     "output_type": "execute_result"
    }
   ],
   "source": [
    "\"\"\"\n",
    "You probably know the 42 number as \"The answer to life, the universe and everything\" according to Douglas Adams' \"The Hitchhiker's Guide to the Galaxy\". For Freud, the answer was quite different.\n",
    "In the society he lived in, people-women in particular- had to repress their sexual needs and desires. This was simply how the society was at the time. Freud then wanted to study the illnesses created by this, and so he digged to the root of their desires. This led to some of the most important psychoanalytic theories to this day, Freud being the father of psychoanalysis.\n",
    "Now, basically, when a person hears about Freud, s/he hears \"sex\" because for Freud, everything was basically related to, and explained by sex.\n",
    "In this kata, the toFreud() function will take a string as its argument, and return a string with every word replaced by the explanation to everything, according to Freud. Note that an empty string, or no arguments, should result in the ouput being \"\"(empty string).\n",
    "\"\"\"\n",
    "\n",
    "import re\n",
    "\n",
    "def to_freud(sentence):\n",
    "    # We will use re.sub with '\\S+' to change everything (except spaces) into 'sex' \n",
    "    transform_sent = re.sub(r\"\\S+\", \"sex\", sentence) \n",
    "    return transform_sent\n",
    "    \n",
    "to_freud(\"This is a test\")"
   ]
  }
 ],
 "metadata": {
  "kernelspec": {
   "display_name": "Python 3",
   "language": "python",
   "name": "python3"
  },
  "language_info": {
   "codemirror_mode": {
    "name": "ipython",
    "version": 3
   },
   "file_extension": ".py",
   "mimetype": "text/x-python",
   "name": "python",
   "nbconvert_exporter": "python",
   "pygments_lexer": "ipython3",
   "version": "3.8.8"
  }
 },
 "nbformat": 4,
 "nbformat_minor": 5
}
