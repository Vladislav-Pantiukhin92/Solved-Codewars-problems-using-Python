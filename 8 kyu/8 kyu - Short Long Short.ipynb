{
 "cells": [
  {
   "cell_type": "markdown",
   "id": "06afe7b0",
   "metadata": {},
   "source": [
    "### Short Long Short - 8 kyu, Codewars/Python"
   ]
  },
  {
   "cell_type": "code",
   "execution_count": 147,
   "id": "9697c81e",
   "metadata": {},
   "outputs": [
    {
     "data": {
      "text/plain": [
       "'1221'"
      ]
     },
     "execution_count": 147,
     "metadata": {},
     "output_type": "execute_result"
    }
   ],
   "source": [
    "\"\"\"\n",
    "Given 2 strings, a and b, return a string of the form short+long+short, with the shorter string on the outside and the longer string on the inside. The strings will not be the same length, but they may be empty ( zero length ).\n",
    "Hint for R users:\n",
    "\n",
    "The length of string is not always the same as the number of characters\n",
    "For example: (Input1, Input2) --> output\n",
    "\n",
    "(\"1\", \"22\") --> \"1221\"\n",
    "(\"22\", \"1\") --> \"1221\"\n",
    "\"\"\"\n",
    "\n",
    "def solution(a, b):\n",
    "    final = []\n",
    "    final.append(a)\n",
    "    final.append(b)\n",
    "    final = sorted(final, key=len)\n",
    "    final.append(final[0])\n",
    "    return \"\".join(final)\n",
    "    \n",
    "solution(\"22\", \"1\")"
   ]
  }
 ],
 "metadata": {
  "kernelspec": {
   "display_name": "Python 3",
   "language": "python",
   "name": "python3"
  },
  "language_info": {
   "codemirror_mode": {
    "name": "ipython",
    "version": 3
   },
   "file_extension": ".py",
   "mimetype": "text/x-python",
   "name": "python",
   "nbconvert_exporter": "python",
   "pygments_lexer": "ipython3",
   "version": "3.8.8"
  }
 },
 "nbformat": 4,
 "nbformat_minor": 5
}
