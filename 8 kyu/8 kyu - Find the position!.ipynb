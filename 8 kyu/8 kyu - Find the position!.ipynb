{
 "cells": [
  {
   "cell_type": "markdown",
   "id": "951ec814",
   "metadata": {},
   "source": [
    "### Find the position! - 8 kyu, Codewars/Python"
   ]
  },
  {
   "cell_type": "code",
   "execution_count": 17,
   "id": "64b18a9a",
   "metadata": {},
   "outputs": [
    {
     "data": {
      "text/plain": [
       "'Position of alphabet: 1'"
      ]
     },
     "execution_count": 17,
     "metadata": {},
     "output_type": "execute_result"
    }
   ],
   "source": [
    "\"\"\"\n",
    "When provided with a letter, return its position in the alphabet.\n",
    "Input :: \"a\"\n",
    "Ouput :: \"Position of alphabet: 1\"\n",
    "\"\"\"\n",
    "\n",
    "import string # Let's import the lowercase English letters (26) from the 'string' module\n",
    "\n",
    "def position(alphabet):\n",
    "    lowercase_ = string.ascii_lowercase # The lowercase English alphabet\n",
    "    myDict = {} # The dictionary, which will store English letters as keys and their position within the \n",
    "    # English alphabet as values (it will be attained through the implementation of the 'enumerate' function)\n",
    "    for i, j in enumerate(lowercase_, 1):\n",
    "        myDict[j] = i\n",
    "    return f\"Position of alphabet: {myDict[alphabet]}\" # The position of the given input letter is returned\n",
    "\n",
    "position(\"a\")"
   ]
  }
 ],
 "metadata": {
  "kernelspec": {
   "display_name": "Python 3 (ipykernel)",
   "language": "python",
   "name": "python3"
  },
  "language_info": {
   "codemirror_mode": {
    "name": "ipython",
    "version": 3
   },
   "file_extension": ".py",
   "mimetype": "text/x-python",
   "name": "python",
   "nbconvert_exporter": "python",
   "pygments_lexer": "ipython3",
   "version": "3.9.7"
  }
 },
 "nbformat": 4,
 "nbformat_minor": 5
}
