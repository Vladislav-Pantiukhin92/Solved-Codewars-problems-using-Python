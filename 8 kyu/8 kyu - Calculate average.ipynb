{
 "cells": [
  {
   "cell_type": "markdown",
   "id": "dcbae4b3",
   "metadata": {},
   "source": [
    "### Calculate average - 8 kyu, Codewars/Python"
   ]
  },
  {
   "cell_type": "code",
   "execution_count": 3,
   "id": "9bbfc35f",
   "metadata": {},
   "outputs": [
    {
     "data": {
      "text/plain": [
       "2.0"
      ]
     },
     "execution_count": 3,
     "metadata": {},
     "output_type": "execute_result"
    }
   ],
   "source": [
    "\"\"\"\n",
    "Write a function which calculates the average of the numbers in a given list.\n",
    "Note: Empty arrays should return 0.\n",
    "\"\"\"\n",
    "\n",
    "import numpy as np # 'numpy' will help to find the mean/average value\n",
    "\n",
    "def find_average(numbers):\n",
    "    if not numbers: # If the given input list contains no elements - the mean/average value is 0\n",
    "        return 0\n",
    "    return np.array(numbers).mean() # Otherwise, the 'mean()' function is used\n",
    "\n",
    "find_average([1, 2, 3])"
   ]
  }
 ],
 "metadata": {
  "kernelspec": {
   "display_name": "Python 3 (ipykernel)",
   "language": "python",
   "name": "python3"
  },
  "language_info": {
   "codemirror_mode": {
    "name": "ipython",
    "version": 3
   },
   "file_extension": ".py",
   "mimetype": "text/x-python",
   "name": "python",
   "nbconvert_exporter": "python",
   "pygments_lexer": "ipython3",
   "version": "3.9.7"
  }
 },
 "nbformat": 4,
 "nbformat_minor": 5
}
