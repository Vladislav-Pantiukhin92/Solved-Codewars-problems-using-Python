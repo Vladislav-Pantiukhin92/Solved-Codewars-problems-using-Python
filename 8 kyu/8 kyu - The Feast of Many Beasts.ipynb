{
 "cells": [
  {
   "cell_type": "markdown",
   "id": "c5f795ed",
   "metadata": {},
   "source": [
    "### The Feast of Many Beasts - 8 kyu, Codewars/Python"
   ]
  },
  {
   "cell_type": "code",
   "execution_count": 67,
   "id": "4b47ee94",
   "metadata": {},
   "outputs": [
    {
     "data": {
      "text/plain": [
       "True"
      ]
     },
     "execution_count": 67,
     "metadata": {},
     "output_type": "execute_result"
    }
   ],
   "source": [
    "\"\"\"\n",
    "All of the animals are having a feast! Each animal is bringing one dish. There is just one rule: \n",
    "the dish must start and end with the same letters as the animal's name. For example, the great blue \n",
    "heron is bringing garlic naan and the chickadee is bringing chocolate cake.\n",
    "Write a function feast that takes the animal's name and dish as arguments and returns true or false \n",
    "to indicate whether the beast is allowed to bring the dish to the feast.\n",
    "Assume that beast and dish are always lowercase strings, and that each has at least two letters. \n",
    "beast and dish may contain hyphens and spaces, but these will not appear at the beginning or end of \n",
    "the string. They will not contain numerals.\n",
    "\"\"\"\n",
    "\n",
    "def feast(beast, dish):\n",
    "    first_letter = beast[0] # The first letter of the beast\n",
    "    last_letter = beast[-1] # The last letter of the beast\n",
    "    if dish.startswith(first_letter) and dish.endswith(last_letter): # If the first and the last letters of \n",
    "        # the beast and the dish are the same - we return True\n",
    "        return True\n",
    "    return False # Alternatively, we return False\n",
    "\n",
    "feast(\"great blue heron\", \"garlic naan\")\n"
   ]
  }
 ],
 "metadata": {
  "kernelspec": {
   "display_name": "Python 3 (ipykernel)",
   "language": "python",
   "name": "python3"
  },
  "language_info": {
   "codemirror_mode": {
    "name": "ipython",
    "version": 3
   },
   "file_extension": ".py",
   "mimetype": "text/x-python",
   "name": "python",
   "nbconvert_exporter": "python",
   "pygments_lexer": "ipython3",
   "version": "3.9.7"
  }
 },
 "nbformat": 4,
 "nbformat_minor": 5
}
