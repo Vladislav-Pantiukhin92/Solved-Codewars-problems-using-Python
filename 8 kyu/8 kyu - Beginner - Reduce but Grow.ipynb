{
 "cells": [
  {
   "cell_type": "markdown",
   "id": "2fcd798a",
   "metadata": {},
   "source": [
    "### Beginner - Reduce but Grow - 8 kyu, Codewars/Python"
   ]
  },
  {
   "cell_type": "code",
   "execution_count": 22,
   "id": "75ccbff9",
   "metadata": {},
   "outputs": [
    {
     "data": {
      "text/plain": [
       "24"
      ]
     },
     "execution_count": 22,
     "metadata": {},
     "output_type": "execute_result"
    }
   ],
   "source": [
    "\"\"\"\n",
    "Given a non-empty array of integers, return the result of multiplying the values together in order. \n",
    "Example:\n",
    "[1, 2, 3, 4] => 1 * 2 * 3 * 4 = 24\n",
    "\"\"\"\n",
    "\n",
    "from functools import reduce # 'functools.reduce' will be used to multiply all values within the given input \n",
    "# list together\n",
    "\n",
    "def grow(arr):\n",
    "    result = reduce(lambda x, y: x * y, arr) # We obtain the product of all elements from the given input list\n",
    "    return result # The product result is returned\n",
    "\n",
    "grow([1, 2, 3, 4])"
   ]
  }
 ],
 "metadata": {
  "kernelspec": {
   "display_name": "Python 3 (ipykernel)",
   "language": "python",
   "name": "python3"
  },
  "language_info": {
   "codemirror_mode": {
    "name": "ipython",
    "version": 3
   },
   "file_extension": ".py",
   "mimetype": "text/x-python",
   "name": "python",
   "nbconvert_exporter": "python",
   "pygments_lexer": "ipython3",
   "version": "3.9.7"
  }
 },
 "nbformat": 4,
 "nbformat_minor": 5
}
