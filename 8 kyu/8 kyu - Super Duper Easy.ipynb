{
 "cells": [
  {
   "cell_type": "markdown",
   "id": "8b1cb1dd",
   "metadata": {},
   "source": [
    "### Super Duper Easy - 8 kyu, Codewars/Python"
   ]
  },
  {
   "cell_type": "code",
   "execution_count": 10,
   "id": "2d8c4fe2",
   "metadata": {},
   "outputs": [
    {
     "data": {
      "text/plain": [
       "56"
      ]
     },
     "execution_count": 10,
     "metadata": {},
     "output_type": "execute_result"
    }
   ],
   "source": [
    "\"\"\"\n",
    "Make a function that returns the value multiplied by 50 and increased by 6. If the value entered is a \n",
    "string it should return \"Error\".\n",
    "\"\"\"\n",
    "\n",
    "from operator import * # The module will execute the multiplication and summation operations\n",
    "\n",
    "def problem(a):\n",
    "    if isinstance(a, str): # If the given data input is a string - we return \"Error\"\n",
    "        return \"Error\"\n",
    "    # If the given data input is not a string - we multiply it by 50 and increase the obtained result by 6\n",
    "    multiplied = mul(a, 50) \n",
    "    final = add(multiplied, 6)\n",
    "    return final # The final result is returned\n",
    "\n",
    "problem(1)"
   ]
  }
 ],
 "metadata": {
  "kernelspec": {
   "display_name": "Python 3 (ipykernel)",
   "language": "python",
   "name": "python3"
  },
  "language_info": {
   "codemirror_mode": {
    "name": "ipython",
    "version": 3
   },
   "file_extension": ".py",
   "mimetype": "text/x-python",
   "name": "python",
   "nbconvert_exporter": "python",
   "pygments_lexer": "ipython3",
   "version": "3.9.7"
  }
 },
 "nbformat": 4,
 "nbformat_minor": 5
}
