{
 "cells": [
  {
   "cell_type": "markdown",
   "id": "bc2d2fcd",
   "metadata": {},
   "source": [
    "### Count Odd Numbers below n - 8 kyu, Codewars/Python"
   ]
  },
  {
   "cell_type": "code",
   "execution_count": 245,
   "id": "e2bcc649",
   "metadata": {},
   "outputs": [
    {
     "data": {
      "text/plain": [
       "7"
      ]
     },
     "execution_count": 245,
     "metadata": {},
     "output_type": "execute_result"
    }
   ],
   "source": [
    "\"\"\"\n",
    "Given a number n, return the number of positive odd numbers below n, EASY!\n",
    "\n",
    "oddCount(7) //=> 3, i.e [1, 3, 5]\n",
    "oddCount(15) //=> 7, i.e [1, 3, 5, 7, 9, 11, 13]\n",
    "Expect large Inputs!\n",
    "\"\"\"\n",
    "\n",
    "def odd_count(n):\n",
    "    return n // 2\n",
    "odd_count(15)"
   ]
  }
 ],
 "metadata": {
  "kernelspec": {
   "display_name": "Python 3",
   "language": "python",
   "name": "python3"
  },
  "language_info": {
   "codemirror_mode": {
    "name": "ipython",
    "version": 3
   },
   "file_extension": ".py",
   "mimetype": "text/x-python",
   "name": "python",
   "nbconvert_exporter": "python",
   "pygments_lexer": "ipython3",
   "version": "3.8.8"
  }
 },
 "nbformat": 4,
 "nbformat_minor": 5
}
