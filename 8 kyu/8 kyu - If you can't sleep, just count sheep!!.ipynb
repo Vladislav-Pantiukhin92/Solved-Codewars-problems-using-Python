{
 "cells": [
  {
   "cell_type": "markdown",
   "id": "e289b500",
   "metadata": {},
   "source": [
    "### If you can't sleep, just count sheep!! - 8 kyu, Codewars/Python"
   ]
  },
  {
   "cell_type": "code",
   "execution_count": 20,
   "id": "932ff6e9",
   "metadata": {},
   "outputs": [
    {
     "data": {
      "text/plain": [
       "'1 sheep...2 sheep...3 sheep...'"
      ]
     },
     "execution_count": 20,
     "metadata": {},
     "output_type": "execute_result"
    }
   ],
   "source": [
    "\"\"\"\n",
    "If you can't sleep, just count sheep!!\n",
    "\n",
    "Task:\n",
    "Given a non-negative integer, 3 for example, return a string with a murmur: \"1 sheep...2 sheep...3 sheep...\". Input will always be valid, i.e. no negative integers.\n",
    "\"\"\"\n",
    "\n",
    "def count_sheep(n):\n",
    "    string = \"\"\n",
    "    for i in range(1, n + 1):\n",
    "        string += f\"{i} sheep...\"\n",
    "    return string\n",
    "        \n",
    "\n",
    "count_sheep(3)"
   ]
  }
 ],
 "metadata": {
  "kernelspec": {
   "display_name": "Python 3",
   "language": "python",
   "name": "python3"
  },
  "language_info": {
   "codemirror_mode": {
    "name": "ipython",
    "version": 3
   },
   "file_extension": ".py",
   "mimetype": "text/x-python",
   "name": "python",
   "nbconvert_exporter": "python",
   "pygments_lexer": "ipython3",
   "version": "3.8.8"
  }
 },
 "nbformat": 4,
 "nbformat_minor": 5
}
