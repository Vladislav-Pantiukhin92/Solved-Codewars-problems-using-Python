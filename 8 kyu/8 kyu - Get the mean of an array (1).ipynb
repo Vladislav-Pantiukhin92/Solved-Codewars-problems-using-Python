{
 "cells": [
  {
   "cell_type": "markdown",
   "id": "fdf2c0a0",
   "metadata": {},
   "source": [
    "### Get the mean of an array - 8 kyu, Codewars/Python"
   ]
  },
  {
   "cell_type": "code",
   "execution_count": 8,
   "id": "0b48851a",
   "metadata": {},
   "outputs": [
    {
     "data": {
      "text/plain": [
       "'The *** does not like the ****'"
      ]
     },
     "execution_count": 8,
     "metadata": {},
     "output_type": "execute_result"
    }
   ],
   "source": [
    "\"\"\"\n",
    "Codewars Weekly has gained popularity in the past months and is receiving lots of fan letters. \n",
    "Unfortunately, some of the readers use offensive words and the editor wants to keep the magazine family friendly.\n",
    "To manage this, you have been asked to implement a censorship algorithm. You will be given the fan letter \n",
    "text and a list of forbiddenWords. Your algorithm should replace all occurrences of the forbidden words \n",
    "in the text with sequences of asterisks of the same length.\n",
    "Be careful to censor only words, no one want to see \"classic\" spelled as \"cl***ic\".\n",
    "\n",
    "Input/Output\n",
    "[input] string text\n",
    "\n",
    "Text to censor, composed of mixed case English (or non-English, for random cases) words separated \n",
    "by a single whitespace character each. No punctuation is used. All words may consist of Latin alphabet \n",
    "letters only.\n",
    "\n",
    "[input] string array forbiddenWords\n",
    "The list of words to censor, all in lowercase.\n",
    "[output] a string\n",
    "The censored text. Its length should be the same as the length of text.\n",
    "\n",
    "Example:\n",
    "For text = \"The cat does not like the fire\" and forbiddenWords = [\"cat\",\"fire\"], the output should be \n",
    "\"The *** does not like the ****\".\n",
    "\"\"\"\n",
    "\n",
    "from queue import LifoQueue # The stack structure\n",
    "from collections import deque # A double-ended queue/deque structure\n",
    "\n",
    "\n",
    "def censor_this(text, forbidden_words):\n",
    "    lst = LifoQueue() # The stack structure is initialized\n",
    "    text = text.split() # The given input string is split into separate words within the list\n",
    "    text = deque(text) # The deque structure is initialized as well\n",
    "    while text:\n",
    "        curWord = text.popleft() # The word is extracted from the deque structure\n",
    "        # If the popped element is among the forbidden words - we replace it by the specific number of \"*\"\n",
    "        if curWord.lower() in forbidden_words:\n",
    "            length = len(curWord) # In this case the number of \"*\" equals to the length\n",
    "            replace = \"*\" * length\n",
    "            lst.put(replace) # The obtained collection of \"*\" is put inside the stack\n",
    "        else:\n",
    "        # If the popped element is not among the forbidden words - we put the original word inside the stack\n",
    "            lst.put(curWord)\n",
    "    result = lst.queue\n",
    "    return \" \".join(result) # The final step is to 'stringify' the list of words and return the obtained string\n",
    "\n",
    "censor_this(\"The cat does not like the fire\", [\"cat\",\"fire\"])"
   ]
  }
 ],
 "metadata": {
  "kernelspec": {
   "display_name": "Python 3 (ipykernel)",
   "language": "python",
   "name": "python3"
  },
  "language_info": {
   "codemirror_mode": {
    "name": "ipython",
    "version": 3
   },
   "file_extension": ".py",
   "mimetype": "text/x-python",
   "name": "python",
   "nbconvert_exporter": "python",
   "pygments_lexer": "ipython3",
   "version": "3.9.7"
  }
 },
 "nbformat": 4,
 "nbformat_minor": 5
}
