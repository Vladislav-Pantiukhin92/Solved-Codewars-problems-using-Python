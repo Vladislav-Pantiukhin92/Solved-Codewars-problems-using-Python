{
 "cells": [
  {
   "cell_type": "markdown",
   "id": "c5f795ed",
   "metadata": {},
   "source": [
    "### No Loops 2 - You only need one - 8 kyu, Codewars/Python"
   ]
  },
  {
   "cell_type": "code",
   "execution_count": 1,
   "id": "e4bfbffb",
   "metadata": {},
   "outputs": [
    {
     "data": {
      "text/plain": [
       "True"
      ]
     },
     "execution_count": 1,
     "metadata": {},
     "output_type": "execute_result"
    }
   ],
   "source": [
    "\"\"\"\n",
    "*** No Loops Allowed ***\n",
    "\n",
    "You will be given an array a and a value x. All you need to do is check whether the provided array \n",
    "contains the value, without using a loop.\n",
    "Array can contain numbers or strings. x can be either. Return true if the array contains the value, \n",
    "false if not. With strings you will need to account for case.\n",
    "\"\"\"\n",
    "\n",
    "def check(a, x):\n",
    "    return x in a # If the given input number (or a string) is within the array - we return True\n",
    "# Alternatively, we return False\n",
    "\n",
    "check([66, 101], 66)"
   ]
  }
 ],
 "metadata": {
  "kernelspec": {
   "display_name": "Python 3 (ipykernel)",
   "language": "python",
   "name": "python3"
  },
  "language_info": {
   "codemirror_mode": {
    "name": "ipython",
    "version": 3
   },
   "file_extension": ".py",
   "mimetype": "text/x-python",
   "name": "python",
   "nbconvert_exporter": "python",
   "pygments_lexer": "ipython3",
   "version": "3.9.7"
  }
 },
 "nbformat": 4,
 "nbformat_minor": 5
}
