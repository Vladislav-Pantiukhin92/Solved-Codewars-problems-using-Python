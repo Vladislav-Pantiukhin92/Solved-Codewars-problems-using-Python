{
 "cells": [
  {
   "cell_type": "markdown",
   "id": "4f7680a1",
   "metadata": {},
   "source": [
    "### Simple multiplication - 8 kyu, Codewars/Python"
   ]
  },
  {
   "cell_type": "code",
   "execution_count": 18,
   "id": "39d82e98",
   "metadata": {},
   "outputs": [
    {
     "data": {
      "text/plain": [
       "16"
      ]
     },
     "execution_count": 18,
     "metadata": {},
     "output_type": "execute_result"
    }
   ],
   "source": [
    "\"\"\"\n",
    "This kata is about multiplying a given number by eight if it is an even number and by nine otherwise.\n",
    "\"\"\"\n",
    "\n",
    "from operator import * # the multiplication operator will be utilized\n",
    "\n",
    "def simple_multiplication(number):\n",
    "    if number % 2 == 0: # The case, when the given input number is even (the number is multiplied by 8)\n",
    "        return mul(number, 8)\n",
    "    return mul(number, 9) # The case, when the given input number is odd (the number is multiplied by 9)\n",
    "\n",
    "simple_multiplication(2)"
   ]
  }
 ],
 "metadata": {
  "kernelspec": {
   "display_name": "Python 3 (ipykernel)",
   "language": "python",
   "name": "python3"
  },
  "language_info": {
   "codemirror_mode": {
    "name": "ipython",
    "version": 3
   },
   "file_extension": ".py",
   "mimetype": "text/x-python",
   "name": "python",
   "nbconvert_exporter": "python",
   "pygments_lexer": "ipython3",
   "version": "3.9.7"
  }
 },
 "nbformat": 4,
 "nbformat_minor": 5
}
