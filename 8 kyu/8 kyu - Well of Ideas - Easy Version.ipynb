{
 "cells": [
  {
   "cell_type": "markdown",
   "id": "3b96d0ed",
   "metadata": {},
   "source": [
    "### Well of Ideas - Easy Version - 8 kyu, Codewars/Python"
   ]
  },
  {
   "cell_type": "code",
   "execution_count": 14,
   "id": "603f7072",
   "metadata": {},
   "outputs": [
    {
     "data": {
      "text/plain": [
       "'Publish!'"
      ]
     },
     "execution_count": 14,
     "metadata": {},
     "output_type": "execute_result"
    }
   ],
   "source": [
    "\"\"\"\n",
    "For every good kata idea there seem to be quite a few bad ones!\n",
    "In this kata you need to check the provided array (x) for good ideas 'good' and bad ideas 'bad'. \n",
    "If there are one or two good ideas, return 'Publish!', if there are more than 2 return \n",
    "'I smell a series!'. If there are no good ideas, as is often the case, return 'Fail!'.\n",
    "\"\"\"\n",
    "\n",
    "from collections import Counter # 'collections.Counter' will count the number of good ideas through the \n",
    "# dictionary structure\n",
    "\n",
    "def well(x):\n",
    "    ideas_dict = dict(Counter(x)) # The dictionary structure is created (the key is either \"bad\" or \"good\")\n",
    "    try: # Through the 'try-except' expression we verify the existence of the relevant dictionary key (\"good\")\n",
    "        result = ideas_dict[\"good\"] # If the key exists:\n",
    "        if result < 3: # If the corresponding value is smaller than 3 - we return just \"Publish!\"\n",
    "            return \"Publish!\"\n",
    "        # If the corresponding value is larger than 2 - we return \"I smell a series!\"\n",
    "        return \"I smell a series!\"\n",
    "    except KeyError: # If the key doesn't exist at all - we return \"Fail!\"\n",
    "        return \"Fail!\"\n",
    "    \n",
    "well(['good', 'bad', 'bad', 'bad', 'bad'])"
   ]
  }
 ],
 "metadata": {
  "kernelspec": {
   "display_name": "Python 3 (ipykernel)",
   "language": "python",
   "name": "python3"
  },
  "language_info": {
   "codemirror_mode": {
    "name": "ipython",
    "version": 3
   },
   "file_extension": ".py",
   "mimetype": "text/x-python",
   "name": "python",
   "nbconvert_exporter": "python",
   "pygments_lexer": "ipython3",
   "version": "3.9.7"
  }
 },
 "nbformat": 4,
 "nbformat_minor": 5
}
