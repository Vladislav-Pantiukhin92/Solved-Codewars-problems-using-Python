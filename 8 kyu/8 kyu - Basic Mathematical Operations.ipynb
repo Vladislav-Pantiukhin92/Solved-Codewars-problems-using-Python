{
 "cells": [
  {
   "cell_type": "markdown",
   "id": "e02d8947",
   "metadata": {},
   "source": [
    "### Basic Mathematical Operations - 8 kyu, Codewars/Python"
   ]
  },
  {
   "cell_type": "code",
   "execution_count": 25,
   "id": "b096b085",
   "metadata": {},
   "outputs": [
    {
     "data": {
      "text/plain": [
       "11"
      ]
     },
     "execution_count": 25,
     "metadata": {},
     "output_type": "execute_result"
    }
   ],
   "source": [
    "\"\"\"\n",
    "Your task is to create a function that does four basic mathematical operations.\n",
    "The function should take three arguments - operation(string/char), value1(number), value2(number).\n",
    "The function should return result of numbers after applying the chosen operation.\n",
    "Examples(Operator, value1, value2) --> output\n",
    "('+', 4, 7) --> 11\n",
    "('-', 15, 18) --> -3\n",
    "('*', 5, 5) --> 25\n",
    "('/', 49, 7) --> 7\n",
    "\"\"\"\n",
    "\n",
    "def basic_op(operator, value1, value2):\n",
    "    # We are going to create the string math expression and run it through the 'eval()' method:\n",
    "    return eval(f\"{value1} {operator} {value2}\")\n",
    "\n",
    "basic_op(\"+\", 4, 7)"
   ]
  }
 ],
 "metadata": {
  "kernelspec": {
   "display_name": "Python 3 (ipykernel)",
   "language": "python",
   "name": "python3"
  },
  "language_info": {
   "codemirror_mode": {
    "name": "ipython",
    "version": 3
   },
   "file_extension": ".py",
   "mimetype": "text/x-python",
   "name": "python",
   "nbconvert_exporter": "python",
   "pygments_lexer": "ipython3",
   "version": "3.9.7"
  }
 },
 "nbformat": 4,
 "nbformat_minor": 5
}
