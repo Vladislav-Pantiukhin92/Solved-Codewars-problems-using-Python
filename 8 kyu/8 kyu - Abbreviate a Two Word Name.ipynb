{
 "cells": [
  {
   "cell_type": "markdown",
   "id": "add693b3",
   "metadata": {},
   "source": [
    "### Abbreviate a Two Word Name - 8 kyu, Codewars/Python"
   ]
  },
  {
   "cell_type": "code",
   "execution_count": 8,
   "id": "aa075fe2",
   "metadata": {},
   "outputs": [
    {
     "data": {
      "text/plain": [
       "'S.H'"
      ]
     },
     "execution_count": 8,
     "metadata": {},
     "output_type": "execute_result"
    }
   ],
   "source": [
    "\"\"\"\n",
    "Write a function to convert a name into initials. This kata strictly takes two words with one space in \n",
    "between them.\n",
    "The output should be two capital letters with a dot separating them.\n",
    "It should look like this:\n",
    "\n",
    "Sam Harris => S.H\n",
    "\n",
    "patrick feeney => P.F\n",
    "\"\"\"\n",
    "\n",
    "import re # Regular expressions will be used to extract capital letters from the given input string\n",
    "\n",
    "def abbrev_name(name):\n",
    "# Initially, let's utilize two string methods - str.lower() - for lowercase convertion of all letters, as well as\n",
    "# str.title() - to make the first letters of words uppercase (if necessary)\n",
    "    name = name.lower().title()\n",
    "    capital_letters = re.findall(r\"[A-Z]\", name) # Extraction of capital letters\n",
    "    return \".\".join(capital_letters) # Concatenation of two capital letters with a dot \".\". The final result is returned\n",
    "\n",
    "abbrev_name(\"Sam Harris\")"
   ]
  }
 ],
 "metadata": {
  "kernelspec": {
   "display_name": "Python 3 (ipykernel)",
   "language": "python",
   "name": "python3"
  },
  "language_info": {
   "codemirror_mode": {
    "name": "ipython",
    "version": 3
   },
   "file_extension": ".py",
   "mimetype": "text/x-python",
   "name": "python",
   "nbconvert_exporter": "python",
   "pygments_lexer": "ipython3",
   "version": "3.9.7"
  }
 },
 "nbformat": 4,
 "nbformat_minor": 5
}
