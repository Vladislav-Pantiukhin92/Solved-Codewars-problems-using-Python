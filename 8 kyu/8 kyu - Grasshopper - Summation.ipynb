{
 "cells": [
  {
   "cell_type": "markdown",
   "id": "5f225984",
   "metadata": {},
   "source": [
    "### Grasshopper - Summation - 8 kyu, Codewars/Python"
   ]
  },
  {
   "cell_type": "code",
   "execution_count": 3,
   "id": "c25c7031",
   "metadata": {},
   "outputs": [
    {
     "data": {
      "text/plain": [
       "36"
      ]
     },
     "execution_count": 3,
     "metadata": {},
     "output_type": "execute_result"
    }
   ],
   "source": [
    "\"\"\"\n",
    "Summation\n",
    "Write a program that finds the summation of every number from 1 to num. The number will always be a \n",
    "positive integer greater than 0.\n",
    "For example:\n",
    "summation(2) -> 3\n",
    "1 + 2\n",
    "\n",
    "summation(8) -> 36\n",
    "1 + 2 + 3 + 4 + 5 + 6 + 7 + 8\n",
    "\"\"\"\n",
    "\n",
    "def summation(num):\n",
    "    # First of all, let's generate the list of numbers from 1 to 'num' inclusively:\n",
    "    range_of_numbers = list(range(1, num + 1))\n",
    "    return sum(range_of_numbers) # After that we implement the summation function. The result is returned\n",
    "\n",
    "summation(8)"
   ]
  }
 ],
 "metadata": {
  "kernelspec": {
   "display_name": "Python 3 (ipykernel)",
   "language": "python",
   "name": "python3"
  },
  "language_info": {
   "codemirror_mode": {
    "name": "ipython",
    "version": 3
   },
   "file_extension": ".py",
   "mimetype": "text/x-python",
   "name": "python",
   "nbconvert_exporter": "python",
   "pygments_lexer": "ipython3",
   "version": "3.9.7"
  }
 },
 "nbformat": 4,
 "nbformat_minor": 5
}
