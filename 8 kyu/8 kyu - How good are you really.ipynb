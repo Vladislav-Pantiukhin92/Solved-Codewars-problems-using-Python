{
 "cells": [
  {
   "cell_type": "markdown",
   "id": "becc319e",
   "metadata": {},
   "source": [
    "### How good are you really? - 8 kyu, Codewars/Python"
   ]
  },
  {
   "cell_type": "code",
   "execution_count": 2,
   "id": "d3a145aa",
   "metadata": {},
   "outputs": [
    {
     "data": {
      "text/plain": [
       "True"
      ]
     },
     "execution_count": 2,
     "metadata": {},
     "output_type": "execute_result"
    }
   ],
   "source": [
    "\"\"\"\n",
    "There was a test in your class and you passed it. Congratulations!\n",
    "But you're an ambitious person. You want to know if you're better than the average student in your class.\n",
    "\n",
    "You receive an array with your peers' test scores. Now calculate the average and compare your score!\n",
    "Return True if you're better, else False!\n",
    "\n",
    "Note:\n",
    "Your points are not included in the array of your class's points. For calculating the average point you may add your point to the given array!\n",
    "\"\"\"\n",
    "\n",
    "from statistics import mean\n",
    "\n",
    "def better_than_average(class_points, your_points):\n",
    "    class_points.append(your_points)\n",
    "    average = mean(class_points)\n",
    "    return your_points > average\n",
    "\n",
    "better_than_average([100, 40, 34, 57, 29, 72, 57, 88], 75)"
   ]
  }
 ],
 "metadata": {
  "kernelspec": {
   "display_name": "Python 3",
   "language": "python",
   "name": "python3"
  },
  "language_info": {
   "codemirror_mode": {
    "name": "ipython",
    "version": 3
   },
   "file_extension": ".py",
   "mimetype": "text/x-python",
   "name": "python",
   "nbconvert_exporter": "python",
   "pygments_lexer": "ipython3",
   "version": "3.8.8"
  }
 },
 "nbformat": 4,
 "nbformat_minor": 5
}
