{
 "cells": [
  {
   "cell_type": "markdown",
   "id": "756798c5",
   "metadata": {},
   "source": [
    "### Sum of differences in array - 8 kyu, Codewars/Python"
   ]
  },
  {
   "cell_type": "code",
   "execution_count": 20,
   "id": "656e7df0",
   "metadata": {},
   "outputs": [
    {
     "data": {
      "text/plain": [
       "9"
      ]
     },
     "execution_count": 20,
     "metadata": {},
     "output_type": "execute_result"
    }
   ],
   "source": [
    "\"\"\"\n",
    "Your task is to sum the differences between consecutive pairs in the array in descending order.\n",
    "Example\n",
    "[2, 1, 10]  -->  9\n",
    "In descending order: [10, 2, 1]\n",
    "Sum: (10 - 2) + (2 - 1) = 8 + 1 = 9\n",
    "\n",
    "If the array is empty or the array has only one element the result should be 0 (Nothing in Haskell, None in Rust).\n",
    "\"\"\"\n",
    "\n",
    "from operator import * # 'operator.sub' will be used to find the difference between two adjacent numbers within \n",
    "# the given input list\n",
    "\n",
    "def sum_of_differences(arr):\n",
    "    if len(arr) < 2: # If the given input list contains 0 elements or just 1 element - we return 0\n",
    "        return 0\n",
    "    sumDiff = 0 # The initial sum of differences is 0\n",
    "    arr = sorted(arr, reverse=True) # The given input list is sorted in descending order\n",
    "    # Using two pointers, we are going to find the difference between adjacent numbers\n",
    "    i = 0\n",
    "    j = 1\n",
    "    while j < len(arr):\n",
    "        sumDiff += sub(arr[i], arr[j]) # Each time the sum of differences is increased by the current difference\n",
    "        i += 1\n",
    "        j += 1\n",
    "    return sumDiff # The total sum of differences is finally returned\n",
    "\n",
    "sum_of_differences([10, 2, 1])"
   ]
  }
 ],
 "metadata": {
  "kernelspec": {
   "display_name": "Python 3 (ipykernel)",
   "language": "python",
   "name": "python3"
  },
  "language_info": {
   "codemirror_mode": {
    "name": "ipython",
    "version": 3
   },
   "file_extension": ".py",
   "mimetype": "text/x-python",
   "name": "python",
   "nbconvert_exporter": "python",
   "pygments_lexer": "ipython3",
   "version": "3.9.7"
  }
 },
 "nbformat": 4,
 "nbformat_minor": 5
}
