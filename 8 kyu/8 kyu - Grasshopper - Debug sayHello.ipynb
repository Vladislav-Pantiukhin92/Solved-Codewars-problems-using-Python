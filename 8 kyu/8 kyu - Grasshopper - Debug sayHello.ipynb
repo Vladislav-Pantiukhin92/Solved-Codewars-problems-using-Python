{
 "cells": [
  {
   "cell_type": "markdown",
   "id": "dcbae4b3",
   "metadata": {},
   "source": [
    "### Grasshopper - Debug sayHello - 8 kyu, Codewars/Python"
   ]
  },
  {
   "cell_type": "code",
   "execution_count": 8,
   "id": "a7ce348d",
   "metadata": {},
   "outputs": [
    {
     "data": {
      "text/plain": [
       "'Hello, Mr. Spock'"
      ]
     },
     "execution_count": 8,
     "metadata": {},
     "output_type": "execute_result"
    }
   ],
   "source": [
    "\"\"\"\n",
    "Debugging sayHello function\n",
    "The starship Enterprise has run into some problem when creating a program to greet everyone as they come \n",
    "aboard. It is your job to fix the code and get the program working again!\n",
    "Example output:\n",
    "Hello, Mr. Spock\n",
    "\"\"\"\n",
    "\n",
    "def say_hello(name):\n",
    "    return f\"Hello, {name}\" # With the help of the 'f-string' and the 'return' statement, the problem will be solved\n",
    "say_hello(\"Mr. Spock\")"
   ]
  }
 ],
 "metadata": {
  "kernelspec": {
   "display_name": "Python 3 (ipykernel)",
   "language": "python",
   "name": "python3"
  },
  "language_info": {
   "codemirror_mode": {
    "name": "ipython",
    "version": 3
   },
   "file_extension": ".py",
   "mimetype": "text/x-python",
   "name": "python",
   "nbconvert_exporter": "python",
   "pygments_lexer": "ipython3",
   "version": "3.9.7"
  }
 },
 "nbformat": 4,
 "nbformat_minor": 5
}
