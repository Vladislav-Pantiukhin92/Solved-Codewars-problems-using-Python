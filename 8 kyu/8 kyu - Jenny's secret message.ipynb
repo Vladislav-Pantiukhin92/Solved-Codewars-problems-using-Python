{
 "cells": [
  {
   "cell_type": "markdown",
   "id": "75ec932a",
   "metadata": {},
   "source": [
    "### Jenny's secret message - 8 kyu, Codewars/Python"
   ]
  },
  {
   "cell_type": "code",
   "execution_count": 16,
   "id": "36b93f4e",
   "metadata": {},
   "outputs": [
    {
     "data": {
      "text/plain": [
       "'Hello, my love!'"
      ]
     },
     "execution_count": 16,
     "metadata": {},
     "output_type": "execute_result"
    }
   ],
   "source": [
    "\"\"\"\n",
    "Jenny has written a function that returns a greeting for a user. However, she's in love with Johnny, \n",
    "and would like to greet him slightly different. She added a special case to her function, but she made a mistake.\n",
    "Can you help her?\n",
    "\"\"\"\n",
    "\n",
    "def greet(name): # We need to correct the mistake: the relevant condition with \"Johnny\" should be placed first:\n",
    "    if name == \"Johnny\":\n",
    "        return \"Hello, my love!\"\n",
    "    # The final part is the general return feedback:\n",
    "    return f\"Hello, {name}!\"\n",
    "greet(\"Johnny\")"
   ]
  }
 ],
 "metadata": {
  "kernelspec": {
   "display_name": "Python 3 (ipykernel)",
   "language": "python",
   "name": "python3"
  },
  "language_info": {
   "codemirror_mode": {
    "name": "ipython",
    "version": 3
   },
   "file_extension": ".py",
   "mimetype": "text/x-python",
   "name": "python",
   "nbconvert_exporter": "python",
   "pygments_lexer": "ipython3",
   "version": "3.9.7"
  }
 },
 "nbformat": 4,
 "nbformat_minor": 5
}
