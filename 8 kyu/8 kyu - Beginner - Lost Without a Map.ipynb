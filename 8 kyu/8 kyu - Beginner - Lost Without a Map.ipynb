{
 "cells": [
  {
   "cell_type": "markdown",
   "id": "99957259",
   "metadata": {},
   "source": [
    "### Beginner - Lost Without a Map - 8 kyu, Codewars/Python"
   ]
  },
  {
   "cell_type": "code",
   "execution_count": 2,
   "id": "c81fe0a5",
   "metadata": {},
   "outputs": [
    {
     "data": {
      "text/plain": [
       "[2, 4, 6]"
      ]
     },
     "execution_count": 2,
     "metadata": {},
     "output_type": "execute_result"
    }
   ],
   "source": [
    "\"\"\"\n",
    "Given an array of integers, return a new array with each value doubled.\n",
    "For example:\n",
    "\n",
    "[1, 2, 3] --> [2, 4, 6]\n",
    "\"\"\"\n",
    "\n",
    "import numpy as np # Numpy will be used to double all elements at once\n",
    "\n",
    "def maps(a):\n",
    "    return list(np.array(a) * 2)\n",
    "    \n",
    "maps([1, 2, 3])"
   ]
  }
 ],
 "metadata": {
  "kernelspec": {
   "display_name": "Python 3",
   "language": "python",
   "name": "python3"
  },
  "language_info": {
   "codemirror_mode": {
    "name": "ipython",
    "version": 3
   },
   "file_extension": ".py",
   "mimetype": "text/x-python",
   "name": "python",
   "nbconvert_exporter": "python",
   "pygments_lexer": "ipython3",
   "version": "3.8.8"
  }
 },
 "nbformat": 4,
 "nbformat_minor": 5
}
