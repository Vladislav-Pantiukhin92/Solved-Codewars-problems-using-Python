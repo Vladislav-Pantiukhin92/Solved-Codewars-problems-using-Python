{
 "cells": [
  {
   "cell_type": "markdown",
   "id": "536023e1",
   "metadata": {},
   "source": [
    "### Swap Values - 8 kyu, Codewars/Python"
   ]
  },
  {
   "cell_type": "code",
   "execution_count": 28,
   "id": "64faf0c6",
   "metadata": {},
   "outputs": [
    {
     "data": {
      "text/plain": [
       "[2, 1]"
      ]
     },
     "execution_count": 28,
     "metadata": {},
     "output_type": "execute_result"
    }
   ],
   "source": [
    "\"\"\"\n",
    "I would like to be able to pass an array with two elements to my swapValues function to swap the values. \n",
    "However it appears that the values aren't changing.\n",
    "Can you figure out what's wrong here?\n",
    "\"\"\"\n",
    "\n",
    "def swap_values(args):\n",
    "# The swapping procedure should be executed as follows (a,b = b,a):\n",
    "    args[0], args[1] = args[1], args[0]\n",
    "    return args # The list with swapped elements is returned\n",
    "swap_values([1,2])"
   ]
  }
 ],
 "metadata": {
  "kernelspec": {
   "display_name": "Python 3 (ipykernel)",
   "language": "python",
   "name": "python3"
  },
  "language_info": {
   "codemirror_mode": {
    "name": "ipython",
    "version": 3
   },
   "file_extension": ".py",
   "mimetype": "text/x-python",
   "name": "python",
   "nbconvert_exporter": "python",
   "pygments_lexer": "ipython3",
   "version": "3.9.7"
  }
 },
 "nbformat": 4,
 "nbformat_minor": 5
}
