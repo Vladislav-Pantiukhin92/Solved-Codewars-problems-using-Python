{
 "cells": [
  {
   "cell_type": "markdown",
   "id": "b364d266",
   "metadata": {},
   "source": [
    "### Merge two sorted arrays into one - 8 kyu, Codewars/Python"
   ]
  },
  {
   "cell_type": "code",
   "execution_count": 135,
   "id": "600accdd",
   "metadata": {},
   "outputs": [
    {
     "name": "stdout",
     "output_type": "stream",
     "text": [
      "[1, 2, 3, 4, 5, 7, 9, 10, 11, 12]\n"
     ]
    }
   ],
   "source": [
    "\"\"\"\n",
    "You are given two sorted arrays that both only contain integers. Your task is to find a way to merge them into a single one, sorted in asc order. Complete the function mergeArrays(arr1, arr2), where arr1 and arr2 are the original sorted arrays.\n",
    "You don't need to worry about validation, since arr1 and arr2 must be arrays with 0 or more Integers. If both arr1 and arr2 are empty, then just return an empty array.\n",
    "Note: arr1 and arr2 may be sorted in different orders. Also arr1 and arr2 may have same integers. Remove duplicated in the returned result.\n",
    "\n",
    "Examples (input -> output)\n",
    "* [1, 2, 3, 4, 5], [6, 7, 8, 9, 10] -> [1, 2, 3, 4, 5, 6, 7, 8, 9, 10]\n",
    "\n",
    "* [1, 3, 5, 7, 9], [10, 8, 6, 4, 2] -> [1, 2, 3, 4, 5, 6, 7, 8, 9, 10]\n",
    "\n",
    "* [1, 3, 5, 7, 9, 11, 12], [1, 2, 3, 4, 5, 10, 12] -> [1, 2, 3, 4, 5, 7, 9, 10, 11, 12]\n",
    "Happy coding!\n",
    "\"\"\"\n",
    "\n",
    "def merge_arrays(array1, array2):\n",
    "    array1.extend(array2) # Firstly, we merge two arrays together\n",
    "    array1 = list(set(array1)) # Set() is used to drop duplicate values\n",
    "    for i in range(len(array1)): # After that, we use the bubble sort to sort the combined array\n",
    "        for j in range(len(array1) - i - 1):\n",
    "            if array1[j + 1] < array1[j]:\n",
    "                temp = array1[j + 1]\n",
    "                array1[j + 1] = array1[j]\n",
    "                array1[j] = temp\n",
    "    return array1\n",
    "    \n",
    "print(merge_arrays([1, 3, 5, 7, 9, 11, 12], [1, 2, 3, 4, 5, 10, 12]))"
   ]
  }
 ],
 "metadata": {
  "kernelspec": {
   "display_name": "Python 3",
   "language": "python",
   "name": "python3"
  },
  "language_info": {
   "codemirror_mode": {
    "name": "ipython",
    "version": 3
   },
   "file_extension": ".py",
   "mimetype": "text/x-python",
   "name": "python",
   "nbconvert_exporter": "python",
   "pygments_lexer": "ipython3",
   "version": "3.8.8"
  }
 },
 "nbformat": 4,
 "nbformat_minor": 5
}
