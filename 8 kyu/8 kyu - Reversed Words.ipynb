{
 "cells": [
  {
   "cell_type": "markdown",
   "id": "c5f795ed",
   "metadata": {},
   "source": [
    "### Reversed Words - 8 kyu, Codewars/Python"
   ]
  },
  {
   "cell_type": "code",
   "execution_count": 79,
   "id": "64f1ea66",
   "metadata": {},
   "outputs": [
    {
     "data": {
      "text/plain": [
       "'battle no requires which that is victory greatest The'"
      ]
     },
     "execution_count": 79,
     "metadata": {},
     "output_type": "execute_result"
    }
   ],
   "source": [
    "\"\"\"\n",
    "Complete the solution so that it reverses all of the words within the string passed in.\n",
    "Example(Input --> Output):\n",
    "\"The greatest victory is that which requires no battle\" --> \"battle no requires which that is victory greatest The\"\n",
    "\"\"\"\n",
    "\n",
    "def reverse_words(s):\n",
    "    s = s.split() # The given input string is split into the list of separate words\n",
    "    s.reverse() # The list of separate words is reversed\n",
    "    return \" \".join(s) # The list of separate words is transformed into the output string, which is to be returned\n",
    "\n",
    "reverse_words(\"The greatest victory is that which requires no battle\")"
   ]
  }
 ],
 "metadata": {
  "kernelspec": {
   "display_name": "Python 3 (ipykernel)",
   "language": "python",
   "name": "python3"
  },
  "language_info": {
   "codemirror_mode": {
    "name": "ipython",
    "version": 3
   },
   "file_extension": ".py",
   "mimetype": "text/x-python",
   "name": "python",
   "nbconvert_exporter": "python",
   "pygments_lexer": "ipython3",
   "version": "3.9.7"
  }
 },
 "nbformat": 4,
 "nbformat_minor": 5
}
