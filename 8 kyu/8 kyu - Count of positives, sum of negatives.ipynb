{
 "cells": [
  {
   "cell_type": "markdown",
   "id": "5b56641e",
   "metadata": {},
   "source": [
    "### Count of positives / sum of negatives - 8 kyu, Codewars/Python"
   ]
  },
  {
   "cell_type": "code",
   "execution_count": 1,
   "id": "37d62ce4",
   "metadata": {},
   "outputs": [
    {
     "data": {
      "text/plain": [
       "[10, -65]"
      ]
     },
     "execution_count": 1,
     "metadata": {},
     "output_type": "execute_result"
    }
   ],
   "source": [
    "\"\"\"\n",
    "Given an array of integers.\n",
    "Return an array, where the first element is the count of positives numbers and the second element is \n",
    "sum of negative numbers. 0 is neither positive nor negative.\n",
    "If the input is an empty array or is null, return an empty array.\n",
    "Example\n",
    "For input [1, 2, 3, 4, 5, 6, 7, 8, 9, 10, -11, -12, -13, -14, -15], you should return [10, -65].\n",
    "\"\"\"\n",
    "\n",
    "def count_positives_sum_negatives(arr):\n",
    "    if not arr: # If the given input array is empty - we return an empty list\n",
    "        return []\n",
    "    # Alternatively, we create two lists through the implementation of the 'filter' function:\n",
    "    positives = len(list(filter(lambda x: x > 0, arr))) # The list with only positive numbers\n",
    "    negatives = sum(list(filter(lambda x: x < 0, arr))) # The list with only negative numbers\n",
    "    # The return result is [length of the list with positive numbers, sum of elements within the list with \n",
    "    # negative numbers]\n",
    "    return [positives, negatives]\n",
    "    \n",
    "count_positives_sum_negatives([1, 2, 3, 4, 5, 6, 7, 8, 9, 10, -11, -12, -13, -14, -15])"
   ]
  }
 ],
 "metadata": {
  "kernelspec": {
   "display_name": "Python 3 (ipykernel)",
   "language": "python",
   "name": "python3"
  },
  "language_info": {
   "codemirror_mode": {
    "name": "ipython",
    "version": 3
   },
   "file_extension": ".py",
   "mimetype": "text/x-python",
   "name": "python",
   "nbconvert_exporter": "python",
   "pygments_lexer": "ipython3",
   "version": "3.9.7"
  }
 },
 "nbformat": 4,
 "nbformat_minor": 5
}
