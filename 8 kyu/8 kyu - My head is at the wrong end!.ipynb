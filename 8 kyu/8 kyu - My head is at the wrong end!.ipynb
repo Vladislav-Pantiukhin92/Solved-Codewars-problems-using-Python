{
 "cells": [
  {
   "cell_type": "markdown",
   "id": "c5f795ed",
   "metadata": {},
   "source": [
    "### My head is at the wrong end! - 8 kyu, Codewars/Python"
   ]
  },
  {
   "cell_type": "code",
   "execution_count": 75,
   "id": "584a5b86",
   "metadata": {},
   "outputs": [
    {
     "data": {
      "text/plain": [
       "['head', 'body', 'tail']"
      ]
     },
     "execution_count": 75,
     "metadata": {},
     "output_type": "execute_result"
    }
   ],
   "source": [
    "\"\"\"\n",
    "You're at the zoo... all the meerkats look weird. Something has gone terribly wrong - someone has gone \n",
    "and switched their heads and tails around!\n",
    "\n",
    "Save the animals by switching them back. You will be given an array which will have three values (tail, \n",
    "body, head). It is your job to re-arrange the array so that the animal is the right way round (head, \n",
    "body, tail).\n",
    "\n",
    "Same goes for all the other arrays/lists that you will get in the tests: you have to change the element \n",
    "positions with the same exact logics.\n",
    "Simples!\n",
    "\"\"\"\n",
    "\n",
    "def fix_the_meerkat(arr):\n",
    "    return list(reversed(arr)) # To solve the problem, we need just to reverse the given input list\n",
    "\n",
    "fix_the_meerkat([\"tail\", \"body\", \"head\"])"
   ]
  }
 ],
 "metadata": {
  "kernelspec": {
   "display_name": "Python 3 (ipykernel)",
   "language": "python",
   "name": "python3"
  },
  "language_info": {
   "codemirror_mode": {
    "name": "ipython",
    "version": 3
   },
   "file_extension": ".py",
   "mimetype": "text/x-python",
   "name": "python",
   "nbconvert_exporter": "python",
   "pygments_lexer": "ipython3",
   "version": "3.9.7"
  }
 },
 "nbformat": 4,
 "nbformat_minor": 5
}
