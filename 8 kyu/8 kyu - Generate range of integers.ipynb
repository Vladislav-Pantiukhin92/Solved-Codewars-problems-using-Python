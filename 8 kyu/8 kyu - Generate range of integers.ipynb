{
 "cells": [
  {
   "cell_type": "markdown",
   "id": "58909ea0",
   "metadata": {},
   "source": [
    "### Generate range of integers - 8 kyu, Codewars/Python"
   ]
  },
  {
   "cell_type": "code",
   "execution_count": 27,
   "id": "5f9c550c",
   "metadata": {},
   "outputs": [
    {
     "data": {
      "text/plain": [
       "[2, 4, 6, 8, 10]"
      ]
     },
     "execution_count": 27,
     "metadata": {},
     "output_type": "execute_result"
    }
   ],
   "source": [
    "\"\"\"\n",
    "Implement a function named generateRange(min, max, step), which takes three arguments and generates \n",
    "a range of integers from min to max, with the step. The first integer is the minimum value, the second \n",
    "is the maximum of the range and the third is the step. (min < max)\n",
    "Task\n",
    "Implement a function named\n",
    "\n",
    "generate_range(2, 10, 2) # should return list of [2,4,6,8,10]\n",
    "generate_range(1, 10, 3) # should return list of [1,4,7,10]\n",
    "Note\n",
    "min < max\n",
    "step > 0\n",
    "the range does not HAVE to include max (depending on the step)\n",
    "\"\"\"\n",
    "\n",
    "def generate_range(min, max, step):\n",
    "# Through the 'range' function the list with relevant numbers is to be generated and returned:\n",
    "    return list(range(min, max + 1, step))\n",
    "\n",
    "generate_range(2, 10, 2)"
   ]
  }
 ],
 "metadata": {
  "kernelspec": {
   "display_name": "Python 3 (ipykernel)",
   "language": "python",
   "name": "python3"
  },
  "language_info": {
   "codemirror_mode": {
    "name": "ipython",
    "version": 3
   },
   "file_extension": ".py",
   "mimetype": "text/x-python",
   "name": "python",
   "nbconvert_exporter": "python",
   "pygments_lexer": "ipython3",
   "version": "3.9.7"
  }
 },
 "nbformat": 4,
 "nbformat_minor": 5
}
