{
 "cells": [
  {
   "cell_type": "markdown",
   "id": "67c0bc31",
   "metadata": {},
   "source": [
    "### Count by X - 8 kyu, Codewars/Python"
   ]
  },
  {
   "cell_type": "code",
   "execution_count": 15,
   "id": "30f40088",
   "metadata": {},
   "outputs": [
    {
     "data": {
      "text/plain": [
       "[1, 2, 3, 4, 5]"
      ]
     },
     "execution_count": 15,
     "metadata": {},
     "output_type": "execute_result"
    }
   ],
   "source": [
    "\"\"\"\n",
    "Create a function with two arguments that will return an array of the first (n) multiples of (x).\n",
    "Assume both the given number and the number of times to count will be positive numbers greater than 0.\n",
    "Return the results as an array (or list in Python, Haskell or Elixir).\n",
    "Examples:\n",
    "\n",
    "count_by(1,10) #should return [1,2,3,4,5,6,7,8,9,10]\n",
    "count_by(2,5) #should return [2,4,6,8,10]\n",
    "\"\"\"\n",
    "\n",
    "def count_by(x, n):\n",
    "    # We are going to generate the corresponding sequence of numbers from x to x * n inclusively. \n",
    "    # The relevant step is 'x':\n",
    "    return list(range(x, x * n + 1, x)) # The generated sequence is returned\n",
    "\n",
    "count_by(1, 5)"
   ]
  }
 ],
 "metadata": {
  "kernelspec": {
   "display_name": "Python 3 (ipykernel)",
   "language": "python",
   "name": "python3"
  },
  "language_info": {
   "codemirror_mode": {
    "name": "ipython",
    "version": 3
   },
   "file_extension": ".py",
   "mimetype": "text/x-python",
   "name": "python",
   "nbconvert_exporter": "python",
   "pygments_lexer": "ipython3",
   "version": "3.9.7"
  }
 },
 "nbformat": 4,
 "nbformat_minor": 5
}
