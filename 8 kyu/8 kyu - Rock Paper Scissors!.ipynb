{
 "cells": [
  {
   "cell_type": "markdown",
   "id": "4be5f1b0",
   "metadata": {},
   "source": [
    "### Rock Paper Scissors! - 8 kyu, Codewars/Python"
   ]
  },
  {
   "cell_type": "code",
   "execution_count": 203,
   "id": "b6e3d405",
   "metadata": {},
   "outputs": [
    {
     "data": {
      "text/plain": [
       "'Player 2 won!'"
      ]
     },
     "execution_count": 203,
     "metadata": {},
     "output_type": "execute_result"
    }
   ],
   "source": [
    "\"\"\"\n",
    "Let's play! You have to return which player won! In case of a draw return Draw!.\n",
    "\n",
    "Examples:\n",
    "\n",
    "rps('scissors','paper') // Player 1 won!\n",
    "rps('scissors','rock') // Player 2 won!\n",
    "rps('paper','paper') // Draw!\n",
    "\"\"\"\n",
    "\n",
    "import re\n",
    "\n",
    "def rps(p1, p2):\n",
    "    if re.fullmatch(p1, p2):\n",
    "        return \"Draw!\"\n",
    "    p = p1 + p2\n",
    "    if re.match(r\"scissors\", p):\n",
    "        if re.findall(r\"paper$\", p):\n",
    "            return \"Player 1 won!\"\n",
    "        else:\n",
    "            return \"Player 2 won!\"\n",
    "    elif re.match(r\"paper\", p):\n",
    "        if re.findall(r\"rock$\", p):\n",
    "            return \"Player 1 won!\"\n",
    "        else:\n",
    "            return \"Player 2 won!\"\n",
    "    else:\n",
    "        if re.findall(r\"scissors$\", p):\n",
    "            return \"Player 1 won!\"\n",
    "        else:\n",
    "            return \"Player 2 won!\"\n",
    "            \n",
    "rps(\"scissors\", \"rock\")"
   ]
  }
 ],
 "metadata": {
  "kernelspec": {
   "display_name": "Python 3",
   "language": "python",
   "name": "python3"
  },
  "language_info": {
   "codemirror_mode": {
    "name": "ipython",
    "version": 3
   },
   "file_extension": ".py",
   "mimetype": "text/x-python",
   "name": "python",
   "nbconvert_exporter": "python",
   "pygments_lexer": "ipython3",
   "version": "3.8.8"
  }
 },
 "nbformat": 4,
 "nbformat_minor": 5
}
