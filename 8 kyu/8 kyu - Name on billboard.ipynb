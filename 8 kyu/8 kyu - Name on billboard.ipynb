{
 "cells": [
  {
   "cell_type": "markdown",
   "id": "dcbae4b3",
   "metadata": {},
   "source": [
    "### Name on billboard - 8 kyu, Codewars/Python"
   ]
  },
  {
   "cell_type": "code",
   "execution_count": 9,
   "id": "4d7b5cd0",
   "metadata": {},
   "outputs": [
    {
     "data": {
      "text/plain": [
       "600"
      ]
     },
     "execution_count": 9,
     "metadata": {},
     "output_type": "execute_result"
    }
   ],
   "source": [
    "\"\"\"\n",
    "You can print your name on a billboard ad. Find out how much it will cost you. Each letter has a default \n",
    "price of £30, but that can be different if you are given 2 parameters instead of 1.\n",
    "You can not use multiplier \"*\" operator.\n",
    "If your name would be Jeong-Ho Aristotelis, ad would cost £600. 20 leters * 30 = 600 (Space counts as a letter).\n",
    "\"\"\"\n",
    "\n",
    "from functools import reduce # 'functools.reduce' will be utilized to execute the summation operation within \n",
    "# the obtained list with the letter price\n",
    "\n",
    "def billboard(name, price=30):\n",
    "    name = list(name)\n",
    "    final = [] # The list will store the price for each letter/character\n",
    "# Each time when we pop an element from the given input name - we add the established price to the list\n",
    "    while name:\n",
    "        name.pop()\n",
    "        final.append(price)\n",
    "# The final step is to sum all prices within the list and return the result\n",
    "    return reduce(lambda x, y: x + y, final)\n",
    "\n",
    "billboard(\"Jeong-Ho Aristotelis\")"
   ]
  }
 ],
 "metadata": {
  "kernelspec": {
   "display_name": "Python 3 (ipykernel)",
   "language": "python",
   "name": "python3"
  },
  "language_info": {
   "codemirror_mode": {
    "name": "ipython",
    "version": 3
   },
   "file_extension": ".py",
   "mimetype": "text/x-python",
   "name": "python",
   "nbconvert_exporter": "python",
   "pygments_lexer": "ipython3",
   "version": "3.9.7"
  }
 },
 "nbformat": 4,
 "nbformat_minor": 5
}
