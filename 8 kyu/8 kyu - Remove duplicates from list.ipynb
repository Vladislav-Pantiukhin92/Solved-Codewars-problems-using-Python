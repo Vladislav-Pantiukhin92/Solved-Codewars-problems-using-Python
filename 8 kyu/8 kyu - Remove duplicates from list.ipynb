{
 "cells": [
  {
   "cell_type": "markdown",
   "id": "f1dcb1ea",
   "metadata": {},
   "source": [
    "### Remove duplicates from list - 8 kyu, Codewars/Python"
   ]
  },
  {
   "cell_type": "code",
   "execution_count": 26,
   "id": "1283a0ea",
   "metadata": {},
   "outputs": [
    {
     "data": {
      "text/plain": [
       "[1, 2, 3, 4, 5, 6, 7]"
      ]
     },
     "execution_count": 26,
     "metadata": {},
     "output_type": "execute_result"
    }
   ],
   "source": [
    "\"\"\"\n",
    "Define a function that removes duplicates from an array of numbers and returns it as a result.\n",
    "The order of the sequence has to stay the same.\n",
    "\"\"\"\n",
    "\n",
    "def distinct(seq):\n",
    "    final = [] # The list container, which will store unique elements (without duplicates)\n",
    "    myDict = {} # The dictionary, which will add keys and their occurrence within the given input list as values\n",
    "    for i in seq:\n",
    "        if i not in myDict: # If an element is not within the dictionary - we add it to the list and dictionary\n",
    "            myDict[i] = 1\n",
    "            final.append(i)\n",
    "        else:\n",
    "            myDict[i] += 1 # Otherwise, it is a duplicate, so it is not added to the list\n",
    "    return final # The list with unique elements without duplicates is returned\n",
    "\n",
    "distinct([1, 2, 2, 3, 3, 4, 4, 5, 6, 7, 7, 7])"
   ]
  }
 ],
 "metadata": {
  "kernelspec": {
   "display_name": "Python 3 (ipykernel)",
   "language": "python",
   "name": "python3"
  },
  "language_info": {
   "codemirror_mode": {
    "name": "ipython",
    "version": 3
   },
   "file_extension": ".py",
   "mimetype": "text/x-python",
   "name": "python",
   "nbconvert_exporter": "python",
   "pygments_lexer": "ipython3",
   "version": "3.9.7"
  }
 },
 "nbformat": 4,
 "nbformat_minor": 5
}
