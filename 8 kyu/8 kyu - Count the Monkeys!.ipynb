{
 "cells": [
  {
   "cell_type": "markdown",
   "id": "38126703",
   "metadata": {},
   "source": [
    "### Count the Monkeys! - 8 kyu, Codewars/Python"
   ]
  },
  {
   "cell_type": "code",
   "execution_count": 2,
   "id": "22d3525e",
   "metadata": {},
   "outputs": [
    {
     "data": {
      "text/plain": [
       "[1, 2, 3, 4, 5, 6, 7, 8, 9, 10]"
      ]
     },
     "execution_count": 2,
     "metadata": {},
     "output_type": "execute_result"
    }
   ],
   "source": [
    "\"\"\"\n",
    "You take your son to the forest to see the monkeys. You know that there are a certain number there (n), \n",
    "but your son is too young to just appreciate the full number, he has to start counting them from 1.\n",
    "As a good parent, you will sit and count with him. Given the number (n), populate an array with all \n",
    "numbers up to and including that number, but excluding zero.\n",
    "For example(Input --> Output):\n",
    "\n",
    "10 --> [1, 2, 3, 4, 5, 6, 7, 8, 9, 10]\n",
    " 1 --> [1]\n",
    "\"\"\"\n",
    "\n",
    "def monkey_count(n):\n",
    "    # The list with numbers from 1 to 'n' inclusively is generated\n",
    "    return list(range(1, n + 1)) # The generated list is returned\n",
    "monkey_count(10)"
   ]
  }
 ],
 "metadata": {
  "kernelspec": {
   "display_name": "Python 3 (ipykernel)",
   "language": "python",
   "name": "python3"
  },
  "language_info": {
   "codemirror_mode": {
    "name": "ipython",
    "version": 3
   },
   "file_extension": ".py",
   "mimetype": "text/x-python",
   "name": "python",
   "nbconvert_exporter": "python",
   "pygments_lexer": "ipython3",
   "version": "3.9.7"
  }
 },
 "nbformat": 4,
 "nbformat_minor": 5
}
