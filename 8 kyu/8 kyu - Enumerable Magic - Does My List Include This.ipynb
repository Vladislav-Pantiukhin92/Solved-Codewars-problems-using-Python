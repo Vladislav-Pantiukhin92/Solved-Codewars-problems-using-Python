{
 "cells": [
  {
   "cell_type": "markdown",
   "id": "c5f795ed",
   "metadata": {},
   "source": [
    "### Enumerable Magic - Does My List Include This? - 8 kyu, Codewars/Python"
   ]
  },
  {
   "cell_type": "code",
   "execution_count": 2,
   "id": "c016525d",
   "metadata": {},
   "outputs": [
    {
     "data": {
      "text/plain": [
       "True"
      ]
     },
     "execution_count": 2,
     "metadata": {},
     "output_type": "execute_result"
    }
   ],
   "source": [
    "\"\"\"\n",
    "Create a method that accepts a list and an item, and returns true if the item belongs to the list, \n",
    "otherwise false.\n",
    "\"\"\"\n",
    "\n",
    "def include(arr,item):\n",
    "    # We are going to use the function \"any\" to figure out the existence of the given input item within the \n",
    "    # given input array\n",
    "    return any(i == item for i in arr) # The function 'any' will return either True or False\n",
    "\n",
    "include([1,2,3,4], 3)"
   ]
  }
 ],
 "metadata": {
  "kernelspec": {
   "display_name": "Python 3 (ipykernel)",
   "language": "python",
   "name": "python3"
  },
  "language_info": {
   "codemirror_mode": {
    "name": "ipython",
    "version": 3
   },
   "file_extension": ".py",
   "mimetype": "text/x-python",
   "name": "python",
   "nbconvert_exporter": "python",
   "pygments_lexer": "ipython3",
   "version": "3.9.7"
  }
 },
 "nbformat": 4,
 "nbformat_minor": 5
}
