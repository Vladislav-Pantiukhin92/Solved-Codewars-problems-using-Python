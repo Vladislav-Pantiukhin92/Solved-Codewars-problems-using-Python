{
 "cells": [
  {
   "cell_type": "markdown",
   "id": "c5f795ed",
   "metadata": {},
   "source": [
    "### All Star Code Challenge #18 - 8 kyu, Codewars/Python"
   ]
  },
  {
   "cell_type": "code",
   "execution_count": 3,
   "id": "10c3c93d",
   "metadata": {},
   "outputs": [
    {
     "data": {
      "text/plain": [
       "1"
      ]
     },
     "execution_count": 3,
     "metadata": {},
     "output_type": "execute_result"
    }
   ],
   "source": [
    "\"\"\"\n",
    "All Star Code Challenge #18\n",
    "Create a function that accepts 2 string arguments and returns an integer of the count of occurrences \n",
    "the 2nd argument is found in the first one.\n",
    "If no occurrences can be found, a count of 0 should be returned.\n",
    "\n",
    "(\"Hello\", \"o\")  ==>  1\n",
    "(\"Hello\", \"l\")  ==>  2\n",
    "(\"\", \"z\")       ==>  0\n",
    "\n",
    "Notes:\n",
    "The first argument can be an empty string\n",
    "The second string argument will always be of length 1\n",
    "\"\"\"\n",
    "\n",
    "def str_count(strng, letter):\n",
    "    return strng.count(letter) # To solve the problem, the string method 'str.count()' will be used\n",
    "\n",
    "str_count(\"Hello\", \"o\")"
   ]
  }
 ],
 "metadata": {
  "kernelspec": {
   "display_name": "Python 3 (ipykernel)",
   "language": "python",
   "name": "python3"
  },
  "language_info": {
   "codemirror_mode": {
    "name": "ipython",
    "version": 3
   },
   "file_extension": ".py",
   "mimetype": "text/x-python",
   "name": "python",
   "nbconvert_exporter": "python",
   "pygments_lexer": "ipython3",
   "version": "3.9.7"
  }
 },
 "nbformat": 4,
 "nbformat_minor": 5
}
