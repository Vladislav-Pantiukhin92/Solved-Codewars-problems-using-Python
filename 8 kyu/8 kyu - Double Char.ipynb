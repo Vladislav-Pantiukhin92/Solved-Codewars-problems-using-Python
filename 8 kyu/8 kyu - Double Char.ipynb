{
 "cells": [
  {
   "cell_type": "markdown",
   "id": "9d67cb9a",
   "metadata": {},
   "source": [
    "### Double Char - 8 kyu, Codewars/Python"
   ]
  },
  {
   "cell_type": "code",
   "execution_count": 45,
   "id": "0fba5f9a",
   "metadata": {},
   "outputs": [
    {
     "data": {
      "text/plain": [
       "'SSttrriinngg'"
      ]
     },
     "execution_count": 45,
     "metadata": {},
     "output_type": "execute_result"
    }
   ],
   "source": [
    "\"\"\"\n",
    "Given a string, you have to return a string in which each character (case-sensitive) is repeated once.\n",
    "\n",
    "Examples (Input -> Output):\n",
    "* \"String\"      -> \"SSttrriinngg\"\n",
    "* \"Hello World\" -> \"HHeelllloo  WWoorrlldd\"\n",
    "* \"1234!_ \"     -> \"11223344!!__  \"\n",
    "Good Luck!\n",
    "\"\"\"\n",
    "\n",
    "def double_char(s):\n",
    "    s = list(s) # Let's split the input string into the list of letters, which are to be subsequently doubled\n",
    "    final = list(map(lambda x: x * 2, s)) # Using the 'map' function we double each letter, so the list with \n",
    "    # doubled letters is obtained\n",
    "    return \"\".join(final) # The final operation is to make the string output \n",
    "double_char(\"String\" )"
   ]
  }
 ],
 "metadata": {
  "kernelspec": {
   "display_name": "Python 3 (ipykernel)",
   "language": "python",
   "name": "python3"
  },
  "language_info": {
   "codemirror_mode": {
    "name": "ipython",
    "version": 3
   },
   "file_extension": ".py",
   "mimetype": "text/x-python",
   "name": "python",
   "nbconvert_exporter": "python",
   "pygments_lexer": "ipython3",
   "version": "3.9.7"
  }
 },
 "nbformat": 4,
 "nbformat_minor": 5
}
