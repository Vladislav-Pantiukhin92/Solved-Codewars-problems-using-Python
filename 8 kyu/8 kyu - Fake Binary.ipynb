{
 "cells": [
  {
   "cell_type": "markdown",
   "id": "9a3525e6",
   "metadata": {},
   "source": [
    "### Fake Binary - 8 kyu, Codewars/Python"
   ]
  },
  {
   "cell_type": "code",
   "execution_count": 21,
   "id": "c9ca588c",
   "metadata": {},
   "outputs": [
    {
     "data": {
      "text/plain": [
       "'01011110001100111'"
      ]
     },
     "execution_count": 21,
     "metadata": {},
     "output_type": "execute_result"
    }
   ],
   "source": [
    "\"\"\"\n",
    "Given a string of digits, you should replace any digit below 5 with '0' and any digit 5 and above with '1'. Return the resulting string.\n",
    "Note: input will never be an empty string\n",
    "\"\"\"\n",
    "\n",
    "# To solve such kind of problem we are going to use the string method 'str.maketrans()' + string.translate()\n",
    "\n",
    "def fake_bin(x):\n",
    "    table = str.maketrans(\"0123456789\", \"0000011111\")\n",
    "    result = x.translate(table)\n",
    "    return result # The final result is returned (the binary string)\n",
    "\n",
    "fake_bin(\"45385593107843568\")"
   ]
  }
 ],
 "metadata": {
  "kernelspec": {
   "display_name": "Python 3 (ipykernel)",
   "language": "python",
   "name": "python3"
  },
  "language_info": {
   "codemirror_mode": {
    "name": "ipython",
    "version": 3
   },
   "file_extension": ".py",
   "mimetype": "text/x-python",
   "name": "python",
   "nbconvert_exporter": "python",
   "pygments_lexer": "ipython3",
   "version": "3.9.7"
  }
 },
 "nbformat": 4,
 "nbformat_minor": 5
}
