{
 "cells": [
  {
   "cell_type": "markdown",
   "id": "dcbae4b3",
   "metadata": {},
   "source": [
    "### Array plus array - 8 kyu, Codewars/Python"
   ]
  },
  {
   "cell_type": "code",
   "execution_count": 6,
   "id": "578b3410",
   "metadata": {},
   "outputs": [
    {
     "data": {
      "text/plain": [
       "21"
      ]
     },
     "execution_count": 6,
     "metadata": {},
     "output_type": "execute_result"
    }
   ],
   "source": [
    "\"\"\"\n",
    "I'm new to coding and now I want to get the sum of two arrays...actually the sum of all their elements. \n",
    "I'll appreciate for your help.\n",
    "P.S. Each array includes only integer numbers. Output is a number too.\n",
    "\"\"\"\n",
    "\n",
    "from functools import reduce # 'functools.reduce' will help to sum all elements from two given input lists\n",
    "from itertools import chain # 'itertools.chain' will help to concatenate two given input lists together\n",
    "\n",
    "def array_plus_array(arr1,arr2):\n",
    "    combined_arr = list(chain(arr1, arr2)) # The merged list is obtained\n",
    "    return reduce(lambda x, y: x + y, combined_arr) # The summation operation, and its result is returned\n",
    "array_plus_array([1, 2, 3], [4, 5, 6])"
   ]
  }
 ],
 "metadata": {
  "kernelspec": {
   "display_name": "Python 3 (ipykernel)",
   "language": "python",
   "name": "python3"
  },
  "language_info": {
   "codemirror_mode": {
    "name": "ipython",
    "version": 3
   },
   "file_extension": ".py",
   "mimetype": "text/x-python",
   "name": "python",
   "nbconvert_exporter": "python",
   "pygments_lexer": "ipython3",
   "version": "3.9.7"
  }
 },
 "nbformat": 4,
 "nbformat_minor": 5
}
