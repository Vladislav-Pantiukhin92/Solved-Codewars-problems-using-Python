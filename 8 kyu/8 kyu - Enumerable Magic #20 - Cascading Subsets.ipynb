{
 "cells": [
  {
   "cell_type": "markdown",
   "id": "dd349c67",
   "metadata": {},
   "source": [
    "### Enumerable Magic #20 - Cascading Subsets - 8 kyu, Codewars/Python"
   ]
  },
  {
   "cell_type": "code",
   "execution_count": 250,
   "id": "6b68195f",
   "metadata": {},
   "outputs": [
    {
     "data": {
      "text/plain": [
       "[[1, 2], [2, 3], [3, 4]]"
      ]
     },
     "execution_count": 250,
     "metadata": {},
     "output_type": "execute_result"
    }
   ],
   "source": [
    "\"\"\"\n",
    "Create a method each_cons that accepts a list and a number n, and returns cascading subsets of the list of size n, like so:\n",
    "\n",
    "each_cons([1,2,3,4], 2)\n",
    "  #=> [[1,2], [2,3], [3,4]]\n",
    "\n",
    "each_cons([1,2,3,4], 3)\n",
    "  #=> [[1,2,3],[2,3,4]]\n",
    "  \n",
    "As you can see, the lists are cascading; ie, they overlap, but never out of order.\n",
    "\"\"\"\n",
    "\n",
    "def each_cons(lst, n):\n",
    "    final = []\n",
    "    low = 0\n",
    "    high = n\n",
    "    while high <= len(lst):\n",
    "        final.append(lst[low:high])\n",
    "        high += 1\n",
    "        low += 1\n",
    "    return final\n",
    "\n",
    "each_cons([1,2,3,4], 2)"
   ]
  }
 ],
 "metadata": {
  "kernelspec": {
   "display_name": "Python 3",
   "language": "python",
   "name": "python3"
  },
  "language_info": {
   "codemirror_mode": {
    "name": "ipython",
    "version": 3
   },
   "file_extension": ".py",
   "mimetype": "text/x-python",
   "name": "python",
   "nbconvert_exporter": "python",
   "pygments_lexer": "ipython3",
   "version": "3.8.8"
  }
 },
 "nbformat": 4,
 "nbformat_minor": 5
}
