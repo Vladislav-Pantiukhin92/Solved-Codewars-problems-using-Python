{
 "cells": [
  {
   "cell_type": "markdown",
   "id": "69f39364",
   "metadata": {},
   "source": [
    "### Removing Elements - 8 kyu, Codewars/Python"
   ]
  },
  {
   "cell_type": "code",
   "execution_count": 2,
   "id": "ce677d6e",
   "metadata": {},
   "outputs": [
    {
     "name": "stdout",
     "output_type": "stream",
     "text": [
      "['Keep', 'Keep', 'Keep']\n"
     ]
    }
   ],
   "source": [
    "\"\"\"\n",
    "Take an array and remove every second element from the array. Always keep the first element and start removing with the next element.\n",
    "Example:\n",
    "\n",
    "[\"Keep\", \"Remove\", \"Keep\", \"Remove\", \"Keep\", ...] --> [\"Keep\", \"Keep\", \"Keep\", ...]\n",
    "\n",
    "None of the arrays will be empty, so you don't have to worry about that!\n",
    "\n",
    "\"\"\"\n",
    "\n",
    "def remove_every_other(my_list):\n",
    "    final = []\n",
    "    for i, j in enumerate(my_list): # 'Enumerate' function to iterate over both index and value\n",
    "        if i % 2 == 0:\n",
    "            final.append(j)\n",
    "    return final\n",
    "    \n",
    "    \n",
    "print(remove_every_other([\"Keep\", \"Remove\", \"Keep\", \"Remove\", \"Keep\"]))"
   ]
  }
 ],
 "metadata": {
  "kernelspec": {
   "display_name": "Python 3",
   "language": "python",
   "name": "python3"
  },
  "language_info": {
   "codemirror_mode": {
    "name": "ipython",
    "version": 3
   },
   "file_extension": ".py",
   "mimetype": "text/x-python",
   "name": "python",
   "nbconvert_exporter": "python",
   "pygments_lexer": "ipython3",
   "version": "3.8.8"
  }
 },
 "nbformat": 4,
 "nbformat_minor": 5
}
