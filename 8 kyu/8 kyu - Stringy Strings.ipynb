{
 "cells": [
  {
   "cell_type": "markdown",
   "id": "3068b0b0",
   "metadata": {},
   "source": [
    "### Stringy Strings - 8 kyu, Codewars/Python"
   ]
  },
  {
   "cell_type": "code",
   "execution_count": 213,
   "id": "81f0ef30",
   "metadata": {},
   "outputs": [
    {
     "data": {
      "text/plain": [
       "'101'"
      ]
     },
     "execution_count": 213,
     "metadata": {},
     "output_type": "execute_result"
    }
   ],
   "source": [
    "\"\"\"\n",
    "write me a function stringy that takes a size and returns a string of alternating '1s' and '0s'.\n",
    "\n",
    "the string should start with a 1.\n",
    "a string with size 6 should return :'101010'.\n",
    "with size 4 should return : '1010'.\n",
    "with size 12 should return : '101010101010'.\n",
    "The size will always be positive and will only use whole numbers.\n",
    "\"\"\"\n",
    "\n",
    "def stringy(size):\n",
    "    if size == 1:\n",
    "        return \"1\"\n",
    "    elif size == 2:\n",
    "        return \"10\"\n",
    "    else:\n",
    "        if size % 2 == 0:\n",
    "            return \"10\" * (size // 2)\n",
    "        return \"10\" * ((size - 1) // 2) + \"1\"\n",
    "    \n",
    "stringy(3)"
   ]
  }
 ],
 "metadata": {
  "kernelspec": {
   "display_name": "Python 3",
   "language": "python",
   "name": "python3"
  },
  "language_info": {
   "codemirror_mode": {
    "name": "ipython",
    "version": 3
   },
   "file_extension": ".py",
   "mimetype": "text/x-python",
   "name": "python",
   "nbconvert_exporter": "python",
   "pygments_lexer": "ipython3",
   "version": "3.8.8"
  }
 },
 "nbformat": 4,
 "nbformat_minor": 5
}
