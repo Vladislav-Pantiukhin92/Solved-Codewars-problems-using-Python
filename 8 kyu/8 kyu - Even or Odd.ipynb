{
 "cells": [
  {
   "cell_type": "markdown",
   "id": "97b2042a",
   "metadata": {},
   "source": [
    "### Even or Odd - 8 kyu, Codewars/Python"
   ]
  },
  {
   "cell_type": "code",
   "execution_count": 14,
   "id": "2469dd12",
   "metadata": {},
   "outputs": [
    {
     "data": {
      "text/plain": [
       "'Odd'"
      ]
     },
     "execution_count": 14,
     "metadata": {},
     "output_type": "execute_result"
    }
   ],
   "source": [
    "\"\"\"\n",
    "Create a function that takes an integer as an argument and returns \"Even\" for even numbers or \"Odd\" for \n",
    "odd numbers.\n",
    "\"\"\"\n",
    "\n",
    "def even_or_odd(number):\n",
    "# To return the result we need to divide the input integer by 2. As a result of this division we obtain either \n",
    "# an integer number or a float number:\n",
    "    result  = (number / 2).is_integer() # Identification of the division result\n",
    "    if result: # If an integer number is obtained - we return \"Even\"\n",
    "        return \"Even\"\n",
    "    return \"Odd\" # If a float number is obtained - we return \"Odd\"\n",
    "\n",
    "even_or_odd(5)"
   ]
  }
 ],
 "metadata": {
  "kernelspec": {
   "display_name": "Python 3 (ipykernel)",
   "language": "python",
   "name": "python3"
  },
  "language_info": {
   "codemirror_mode": {
    "name": "ipython",
    "version": 3
   },
   "file_extension": ".py",
   "mimetype": "text/x-python",
   "name": "python",
   "nbconvert_exporter": "python",
   "pygments_lexer": "ipython3",
   "version": "3.9.7"
  }
 },
 "nbformat": 4,
 "nbformat_minor": 5
}
