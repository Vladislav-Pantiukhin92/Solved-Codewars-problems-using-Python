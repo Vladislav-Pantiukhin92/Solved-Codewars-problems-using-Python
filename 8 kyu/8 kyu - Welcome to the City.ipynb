{
 "cells": [
  {
   "cell_type": "markdown",
   "id": "7a54049b",
   "metadata": {},
   "source": [
    "### Welcome to the City - 8 kyu, Codewars/Python"
   ]
  },
  {
   "cell_type": "code",
   "execution_count": 19,
   "id": "fab82e31",
   "metadata": {},
   "outputs": [
    {
     "data": {
      "text/plain": [
       "'Hello, John Smith! Welcome to Phoenix, Arizona!'"
      ]
     },
     "execution_count": 19,
     "metadata": {},
     "output_type": "execute_result"
    }
   ],
   "source": [
    "\"\"\"\n",
    "Create a method sayHello/say_hello/SayHello that takes as input a name, city, and state to welcome a \n",
    "person. Note that name will be an array consisting of one or more values that should be joined together \n",
    "with one space between each, and the length of the name array in test cases will vary.\n",
    "Example:\n",
    "\n",
    "say_hello(['John', 'Smith'], 'Phoenix', 'Arizona')\n",
    "This example will return the string Hello, John Smith! Welcome to Phoenix, Arizona!\n",
    "\"\"\"\n",
    "\n",
    "def say_hello(name, city, state):\n",
    "    whole_name = \" \".join(name) # All elements of the given input list are transformed into the string name\n",
    "    return f\"Hello, {whole_name}! Welcome to {city}, {state}!\" # Through the 'f-string we return the obtained result'\n",
    "\n",
    "say_hello(['John', 'Smith'], 'Phoenix', 'Arizona')"
   ]
  }
 ],
 "metadata": {
  "kernelspec": {
   "display_name": "Python 3 (ipykernel)",
   "language": "python",
   "name": "python3"
  },
  "language_info": {
   "codemirror_mode": {
    "name": "ipython",
    "version": 3
   },
   "file_extension": ".py",
   "mimetype": "text/x-python",
   "name": "python",
   "nbconvert_exporter": "python",
   "pygments_lexer": "ipython3",
   "version": "3.9.7"
  }
 },
 "nbformat": 4,
 "nbformat_minor": 5
}
