{
 "cells": [
  {
   "cell_type": "markdown",
   "id": "f065793e",
   "metadata": {},
   "source": [
    "### To square(root) or not to square(root) - 8 kyu, Codewars/Python"
   ]
  },
  {
   "cell_type": "code",
   "execution_count": 259,
   "id": "1678854e",
   "metadata": {},
   "outputs": [
    {
     "data": {
      "text/plain": [
       "[2, 9, 3, 49, 4, 1]"
      ]
     },
     "execution_count": 259,
     "metadata": {},
     "output_type": "execute_result"
    }
   ],
   "source": [
    "\"\"\"\n",
    "Write a method, that will get an integer array as parameter and will process every number from this array.\n",
    "Return a new array with processing every number of the input-array like this:\n",
    "If the number has an integer square root, take this, otherwise square the number.\n",
    "\n",
    "Example\n",
    "[4,3,9,7,2,1] -> [2,9,3,49,4,1]\n",
    "Notes\n",
    "The input array will always contain only positive numbers, and will never be empty or null.\n",
    "\"\"\"\n",
    "\n",
    "from math import *\n",
    "\n",
    "def square_or_square_root(arr):\n",
    "    final = []\n",
    "    for i in arr:\n",
    "        if sqrt(i).is_integer():\n",
    "            final.append(int(sqrt(i)))\n",
    "        else:\n",
    "            final.append(i ** 2)\n",
    "    return final\n",
    "\n",
    "square_or_square_root([4,3,9,7,2,1])"
   ]
  }
 ],
 "metadata": {
  "kernelspec": {
   "display_name": "Python 3",
   "language": "python",
   "name": "python3"
  },
  "language_info": {
   "codemirror_mode": {
    "name": "ipython",
    "version": 3
   },
   "file_extension": ".py",
   "mimetype": "text/x-python",
   "name": "python",
   "nbconvert_exporter": "python",
   "pygments_lexer": "ipython3",
   "version": "3.8.8"
  }
 },
 "nbformat": 4,
 "nbformat_minor": 5
}
