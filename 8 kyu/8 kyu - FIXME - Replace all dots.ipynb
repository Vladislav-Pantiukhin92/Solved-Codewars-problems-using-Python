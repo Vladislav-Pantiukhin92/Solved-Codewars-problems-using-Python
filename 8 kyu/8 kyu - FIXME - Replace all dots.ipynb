{
 "cells": [
  {
   "cell_type": "markdown",
   "id": "14417b70",
   "metadata": {},
   "source": [
    "### FIXME: Replace all dots - 8 kyu, Codewars/Python"
   ]
  },
  {
   "cell_type": "code",
   "execution_count": 39,
   "id": "a26b7808",
   "metadata": {},
   "outputs": [
    {
     "data": {
      "text/plain": [
       "'one-two-three'"
      ]
     },
     "execution_count": 39,
     "metadata": {},
     "output_type": "execute_result"
    }
   ],
   "source": [
    "\"\"\"\n",
    "The code provided is supposed replace all the dots . in the specified String str with dashes -\n",
    "But it's not working properly.\n",
    "Task\n",
    "Fix the bug so we can all go home early.\n",
    "Notes\n",
    "String str will never be null.\n",
    "\"\"\"\n",
    "\n",
    "def replace_dots(str):\n",
    "    return str.replace(\".\", \"-\") # The string method 'str.replace()' will be used\n",
    "\n",
    "replace_dots(\"one.two.three\")"
   ]
  }
 ],
 "metadata": {
  "kernelspec": {
   "display_name": "Python 3 (ipykernel)",
   "language": "python",
   "name": "python3"
  },
  "language_info": {
   "codemirror_mode": {
    "name": "ipython",
    "version": 3
   },
   "file_extension": ".py",
   "mimetype": "text/x-python",
   "name": "python",
   "nbconvert_exporter": "python",
   "pygments_lexer": "ipython3",
   "version": "3.9.7"
  }
 },
 "nbformat": 4,
 "nbformat_minor": 5
}
