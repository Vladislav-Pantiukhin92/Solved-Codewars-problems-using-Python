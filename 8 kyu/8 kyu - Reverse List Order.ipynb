{
 "cells": [
  {
   "cell_type": "markdown",
   "id": "d636ab4c",
   "metadata": {},
   "source": [
    "### Reverse List Order - 8 kyu, Codewars/Python"
   ]
  },
  {
   "cell_type": "code",
   "execution_count": 2,
   "id": "811a8283",
   "metadata": {},
   "outputs": [
    {
     "data": {
      "text/plain": [
       "[4, 3, 2, 1]"
      ]
     },
     "execution_count": 2,
     "metadata": {},
     "output_type": "execute_result"
    }
   ],
   "source": [
    "\"\"\"\n",
    "In this kata you will create a function that takes in a list and returns a list with the reverse order.\n",
    "Examples (Input -> Output)\n",
    "* [1, 2, 3, 4]  -> [4, 3, 2, 1]\n",
    "* [9, 2, 0, 7]  -> [7, 0, 2, 9]\n",
    "\"\"\"\n",
    "\n",
    "def reverse_list(l):\n",
    "    return l[::-1] # The reversed given input list is finally returned\n",
    "reverse_list([1,2,3,4])"
   ]
  }
 ],
 "metadata": {
  "kernelspec": {
   "display_name": "Python 3 (ipykernel)",
   "language": "python",
   "name": "python3"
  },
  "language_info": {
   "codemirror_mode": {
    "name": "ipython",
    "version": 3
   },
   "file_extension": ".py",
   "mimetype": "text/x-python",
   "name": "python",
   "nbconvert_exporter": "python",
   "pygments_lexer": "ipython3",
   "version": "3.9.7"
  }
 },
 "nbformat": 4,
 "nbformat_minor": 5
}
