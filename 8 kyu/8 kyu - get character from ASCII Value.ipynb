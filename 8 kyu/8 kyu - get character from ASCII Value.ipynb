{
 "cells": [
  {
   "cell_type": "markdown",
   "id": "dcbae4b3",
   "metadata": {},
   "source": [
    "### get character from ASCII Value - 8 kyu, Codewars/Python"
   ]
  },
  {
   "cell_type": "code",
   "execution_count": 6,
   "id": "bc9b1ca3",
   "metadata": {},
   "outputs": [
    {
     "data": {
      "text/plain": [
       "'A'"
      ]
     },
     "execution_count": 6,
     "metadata": {},
     "output_type": "execute_result"
    }
   ],
   "source": [
    "\"\"\"\n",
    "Write a function get_char() / getChar() which takes a number and returns the corresponding ASCII char \n",
    "for that value.\n",
    "Example:\n",
    "get_char(65)\n",
    "should return:\n",
    "'A'\n",
    "For ASCII table, you can refer to http://www.asciitable.com/\n",
    "\"\"\"\n",
    "\n",
    "def get_char(c):\n",
    "    return chr(c) # To solve the problem it is necessary to use the 'chr' method for implementing the \n",
    "# conversion of an integer to its unicode manifestation\n",
    "get_char(65)"
   ]
  }
 ],
 "metadata": {
  "kernelspec": {
   "display_name": "Python 3 (ipykernel)",
   "language": "python",
   "name": "python3"
  },
  "language_info": {
   "codemirror_mode": {
    "name": "ipython",
    "version": 3
   },
   "file_extension": ".py",
   "mimetype": "text/x-python",
   "name": "python",
   "nbconvert_exporter": "python",
   "pygments_lexer": "ipython3",
   "version": "3.9.7"
  }
 },
 "nbformat": 4,
 "nbformat_minor": 5
}
