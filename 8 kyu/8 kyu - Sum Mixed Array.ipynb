{
 "cells": [
  {
   "cell_type": "markdown",
   "id": "ee7d552f",
   "metadata": {},
   "source": [
    "### Sum Mixed Array - 8 kyu, Codewars/Python"
   ]
  },
  {
   "cell_type": "code",
   "execution_count": 3,
   "id": "93d0ec57",
   "metadata": {},
   "outputs": [
    {
     "data": {
      "text/plain": [
       "42"
      ]
     },
     "execution_count": 3,
     "metadata": {},
     "output_type": "execute_result"
    }
   ],
   "source": [
    "\"\"\"\n",
    "Given an array of integers as strings and numbers, return the sum of the array values as if all were numbers.\n",
    "Return your answer as a number.\n",
    "\"\"\"\n",
    "\n",
    "from functools import reduce # 'functools.reduce' will be utilized to sum all numbers within the given input list\n",
    "\n",
    "def sum_mix(arr):\n",
    "    numbers = list(map(int, arr)) # Transformation of string numbers into integers\n",
    "    return reduce(lambda x, y: x + y, numbers) # The summation result is returned\n",
    "\n",
    "sum_mix(['5', '0', 9, 3, 2, 1, '9', 6, 7])"
   ]
  }
 ],
 "metadata": {
  "kernelspec": {
   "display_name": "Python 3 (ipykernel)",
   "language": "python",
   "name": "python3"
  },
  "language_info": {
   "codemirror_mode": {
    "name": "ipython",
    "version": 3
   },
   "file_extension": ".py",
   "mimetype": "text/x-python",
   "name": "python",
   "nbconvert_exporter": "python",
   "pygments_lexer": "ipython3",
   "version": "3.9.7"
  }
 },
 "nbformat": 4,
 "nbformat_minor": 5
}
