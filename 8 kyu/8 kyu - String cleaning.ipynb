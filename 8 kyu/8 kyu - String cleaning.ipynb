{
 "cells": [
  {
   "cell_type": "markdown",
   "id": "251ba048",
   "metadata": {},
   "source": [
    "### String cleaning - 8 kyu, Codewars/Python"
   ]
  },
  {
   "cell_type": "code",
   "execution_count": 158,
   "id": "68a76959",
   "metadata": {},
   "outputs": [
    {
     "data": {
      "text/plain": [
       "'This looks great!'"
      ]
     },
     "execution_count": 158,
     "metadata": {},
     "output_type": "execute_result"
    }
   ],
   "source": [
    "\"\"\"\n",
    "Your boss decided to save money by purchasing some cut-rate optical character recognition software for scanning in the text of old novels to your database. \n",
    "At first it seems to capture words okay, but you quickly notice that it throws in a lot of numbers at random places in the text.\n",
    "\n",
    "Examples (input -> output)\n",
    "'! !'                 -> '! !'\n",
    "'123456789'           -> ''\n",
    "'This looks5 grea8t!' -> 'This looks great!'\n",
    "Your harried co-workers are looking to you for a solution to take this garbled text and remove all of the numbers. \n",
    "Your program will take in a string and clean out all numeric characters, and return a string with spacing and special characters ~#$%^&!@*():;\"'.,? all intact.\n",
    "\"\"\"\n",
    "\n",
    "import re\n",
    "\n",
    "def string_clean(s):\n",
    "    return \"\".join(re.findall(r\"[^\\d]\", s)) # Regexp will return everything except digits\n",
    "    \n",
    "string_clean(\"This looks5 grea8t!\")"
   ]
  }
 ],
 "metadata": {
  "kernelspec": {
   "display_name": "Python 3",
   "language": "python",
   "name": "python3"
  },
  "language_info": {
   "codemirror_mode": {
    "name": "ipython",
    "version": 3
   },
   "file_extension": ".py",
   "mimetype": "text/x-python",
   "name": "python",
   "nbconvert_exporter": "python",
   "pygments_lexer": "ipython3",
   "version": "3.8.8"
  }
 },
 "nbformat": 4,
 "nbformat_minor": 5
}
