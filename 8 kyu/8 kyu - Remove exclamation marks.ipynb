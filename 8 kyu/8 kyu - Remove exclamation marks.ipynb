{
 "cells": [
  {
   "cell_type": "markdown",
   "id": "d6d0ecd7",
   "metadata": {},
   "source": [
    "### Remove exclamation marks - 8 kyu, Codewars/Python"
   ]
  },
  {
   "cell_type": "code",
   "execution_count": 11,
   "id": "4552f908",
   "metadata": {},
   "outputs": [
    {
     "data": {
      "text/plain": [
       "'Hello World'"
      ]
     },
     "execution_count": 11,
     "metadata": {},
     "output_type": "execute_result"
    }
   ],
   "source": [
    "\"\"\"\n",
    "Write function RemoveExclamationMarks which removes all exclamation marks from a given string.\n",
    "\"\"\"\n",
    "\n",
    "from queue import LifoQueue # We are going to use the stack structure in order to filter out the words from \n",
    "# the given input string\n",
    "\n",
    "def remove_exclamation_marks(s):\n",
    "    s = list(s) # The given input string is turned into the list with separate words\n",
    "    lst = LifoQueue() # The stack structure is initialized\n",
    "    while s:\n",
    "        # While there are elements within the list, the first element is extracted, and if it is not an exclamation \n",
    "        # mark, the element is put inside the stack structure\n",
    "        curElement = s.pop(0)\n",
    "        if curElement != \"!\":\n",
    "            lst.put(curElement)\n",
    "    final = \"\".join(lst.queue) # Finally, the stack is turned into the output string, which is returned\n",
    "    return final\n",
    "\n",
    "remove_exclamation_marks(\"Hello World!\")"
   ]
  }
 ],
 "metadata": {
  "kernelspec": {
   "display_name": "Python 3 (ipykernel)",
   "language": "python",
   "name": "python3"
  },
  "language_info": {
   "codemirror_mode": {
    "name": "ipython",
    "version": 3
   },
   "file_extension": ".py",
   "mimetype": "text/x-python",
   "name": "python",
   "nbconvert_exporter": "python",
   "pygments_lexer": "ipython3",
   "version": "3.9.7"
  }
 },
 "nbformat": 4,
 "nbformat_minor": 5
}
