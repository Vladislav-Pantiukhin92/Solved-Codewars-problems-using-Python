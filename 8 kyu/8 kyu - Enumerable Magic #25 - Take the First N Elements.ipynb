{
 "cells": [
  {
   "cell_type": "markdown",
   "id": "e95efa7d",
   "metadata": {},
   "source": [
    "### Enumerable Magic #25 - Take the First N Elements - 8 kyu, Codewars/Python"
   ]
  },
  {
   "cell_type": "code",
   "execution_count": 23,
   "id": "3b7dfcb1",
   "metadata": {},
   "outputs": [
    {
     "data": {
      "text/plain": [
       "[0, 1, 2]"
      ]
     },
     "execution_count": 23,
     "metadata": {},
     "output_type": "execute_result"
    }
   ],
   "source": [
    "\"\"\"\n",
    "Create a function that accepts a list/array and a number n, and returns a list/array of the first n \n",
    "elements from the list/array.\n",
    "\"\"\"\n",
    "\n",
    "from itertools import islice # 'itertools.islice' will be used to return the corresponding slice of the \n",
    "# given input list\n",
    "\n",
    "def take(arr,n):\n",
    "    mySlice = list(islice(arr, n)) # The relevant slice of the given input list is obtained\n",
    "    return mySlice # The relevant slice is returned\n",
    "\n",
    "take([0, 1, 2, 3, 5, 8, 13], 3)"
   ]
  }
 ],
 "metadata": {
  "kernelspec": {
   "display_name": "Python 3 (ipykernel)",
   "language": "python",
   "name": "python3"
  },
  "language_info": {
   "codemirror_mode": {
    "name": "ipython",
    "version": 3
   },
   "file_extension": ".py",
   "mimetype": "text/x-python",
   "name": "python",
   "nbconvert_exporter": "python",
   "pygments_lexer": "ipython3",
   "version": "3.9.7"
  }
 },
 "nbformat": 4,
 "nbformat_minor": 5
}
