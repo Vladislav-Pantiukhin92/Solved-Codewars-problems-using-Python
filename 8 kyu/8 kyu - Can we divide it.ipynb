{
 "cells": [
  {
   "cell_type": "markdown",
   "id": "5df52060",
   "metadata": {},
   "source": [
    "### Can we divide it? - 8 kyu, Codewars/Python"
   ]
  },
  {
   "cell_type": "code",
   "execution_count": 24,
   "id": "2bbfa027",
   "metadata": {},
   "outputs": [
    {
     "data": {
      "text/plain": [
       "True"
      ]
     },
     "execution_count": 24,
     "metadata": {},
     "output_type": "execute_result"
    }
   ],
   "source": [
    "\"\"\"\n",
    "Your task is to create the functionisDivideBy (or is_divide_by) to check if an integer number is \n",
    "divisible by both integers a and b.\n",
    "A few cases:\n",
    "\n",
    "(-12, 2, -6)  ->  true\n",
    "(-12, 2, -5)  ->  false\n",
    "\n",
    "(45, 1, 6)    ->  false\n",
    "(45, 5, 15)   ->  true\n",
    "\n",
    "(4, 1, 4)     ->  true\n",
    "(15, -5, 3)   ->  true\n",
    "\"\"\"\n",
    "\n",
    "def is_divide_by(number, a, b):\n",
    "    # We should verify the division condition:\n",
    "    if number % a == 0 and number % b == 0: \n",
    "        return True\n",
    "    return False\n",
    "\n",
    "is_divide_by(-12, 2, -6)"
   ]
  }
 ],
 "metadata": {
  "kernelspec": {
   "display_name": "Python 3 (ipykernel)",
   "language": "python",
   "name": "python3"
  },
  "language_info": {
   "codemirror_mode": {
    "name": "ipython",
    "version": 3
   },
   "file_extension": ".py",
   "mimetype": "text/x-python",
   "name": "python",
   "nbconvert_exporter": "python",
   "pygments_lexer": "ipython3",
   "version": "3.9.7"
  }
 },
 "nbformat": 4,
 "nbformat_minor": 5
}
