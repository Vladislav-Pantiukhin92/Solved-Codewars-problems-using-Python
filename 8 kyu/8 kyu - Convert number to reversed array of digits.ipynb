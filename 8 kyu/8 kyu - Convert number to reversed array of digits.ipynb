{
 "cells": [
  {
   "cell_type": "markdown",
   "id": "66d39c72",
   "metadata": {},
   "source": [
    "### Convert number to reversed array of digits - 8 kyu, Codewars/Python"
   ]
  },
  {
   "cell_type": "code",
   "execution_count": 33,
   "id": "5b50a33c",
   "metadata": {},
   "outputs": [
    {
     "data": {
      "text/plain": [
       "[7, 9, 5, 8, 4, 3]"
      ]
     },
     "execution_count": 33,
     "metadata": {},
     "output_type": "execute_result"
    }
   ],
   "source": [
    "\"\"\"\n",
    "Convert number to reversed array of digits\n",
    "Given a random non-negative number, you have to return the digits of this number \n",
    "within an array in reverse order.\n",
    "\n",
    "Example:\n",
    "348597 => [7,9,5,8,4,3]\n",
    "0 => [0]\n",
    "\"\"\"\n",
    "\n",
    "def digitize(n):\n",
    "    return list(map(int, list(str(n)[::-1])))\n",
    "    \n",
    "digitize(348597)"
   ]
  }
 ],
 "metadata": {
  "kernelspec": {
   "display_name": "Python 3 (ipykernel)",
   "language": "python",
   "name": "python3"
  },
  "language_info": {
   "codemirror_mode": {
    "name": "ipython",
    "version": 3
   },
   "file_extension": ".py",
   "mimetype": "text/x-python",
   "name": "python",
   "nbconvert_exporter": "python",
   "pygments_lexer": "ipython3",
   "version": "3.9.7"
  }
 },
 "nbformat": 4,
 "nbformat_minor": 5
}
