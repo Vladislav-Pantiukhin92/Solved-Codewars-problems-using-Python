{
 "cells": [
  {
   "cell_type": "markdown",
   "id": "5c57e9e9",
   "metadata": {},
   "source": [
    "### Get the mean of an array - 8 kyu, Codewars/Python"
   ]
  },
  {
   "cell_type": "code",
   "execution_count": 7,
   "id": "6ca7a716",
   "metadata": {},
   "outputs": [
    {
     "data": {
      "text/plain": [
       "25"
      ]
     },
     "execution_count": 7,
     "metadata": {},
     "output_type": "execute_result"
    }
   ],
   "source": [
    "\"\"\"\n",
    "It's the academic year's end, fateful moment of your school report. The averages must be calculated. \n",
    "All the students come to you and entreat you to calculate their average for them. Easy ! \n",
    "You just need to write a script.\n",
    "Return the average of the given array rounded down to its nearest integer.\n",
    "The array will never be empty.\n",
    "\"\"\"\n",
    "\n",
    "import numpy as np # 'numpy' is imported to find the mean value of elements within the given input array\n",
    "\n",
    "def get_average(marks):\n",
    "    array = np.array(marks)\n",
    "    return int(array.mean()) # The mean value is returned\n",
    "\n",
    "get_average([1, 5, 87, 45, 8, 8])"
   ]
  }
 ],
 "metadata": {
  "kernelspec": {
   "display_name": "Python 3 (ipykernel)",
   "language": "python",
   "name": "python3"
  },
  "language_info": {
   "codemirror_mode": {
    "name": "ipython",
    "version": 3
   },
   "file_extension": ".py",
   "mimetype": "text/x-python",
   "name": "python",
   "nbconvert_exporter": "python",
   "pygments_lexer": "ipython3",
   "version": "3.9.7"
  }
 },
 "nbformat": 4,
 "nbformat_minor": 5
}
