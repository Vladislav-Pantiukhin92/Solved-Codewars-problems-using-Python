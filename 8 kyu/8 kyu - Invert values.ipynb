{
 "cells": [
  {
   "cell_type": "markdown",
   "id": "8893782f",
   "metadata": {},
   "source": [
    "### Invert values - 8 kyu, Codewars/Python"
   ]
  },
  {
   "cell_type": "code",
   "execution_count": 172,
   "id": "45e4b395",
   "metadata": {},
   "outputs": [
    {
     "data": {
      "text/plain": [
       "[-1, 2, -3, 4, -5]"
      ]
     },
     "execution_count": 172,
     "metadata": {},
     "output_type": "execute_result"
    }
   ],
   "source": [
    "\"\"\"\n",
    "Given a set of numbers, return the additive inverse of each. Each positive becomes negatives, \n",
    "and the negatives become positives.\n",
    "\n",
    "invert([1,2,3,4,5]) == [-1,-2,-3,-4,-5]\n",
    "invert([1,-2,3,-4,5]) == [-1,2,-3,4,-5]\n",
    "invert([]) == []\n",
    "You can assume that all values are integers. Do not mutate the input array/list.\n",
    "\"\"\"\n",
    "\n",
    "def invert(lst):\n",
    "    if not lst:\n",
    "        return []\n",
    "    return list(map(lambda x: x * -1, lst)) # Result may be achieved through the multiplication by -1\n",
    "    \n",
    "invert([1,-2,3,-4,5])"
   ]
  }
 ],
 "metadata": {
  "kernelspec": {
   "display_name": "Python 3 (ipykernel)",
   "language": "python",
   "name": "python3"
  },
  "language_info": {
   "codemirror_mode": {
    "name": "ipython",
    "version": 3
   },
   "file_extension": ".py",
   "mimetype": "text/x-python",
   "name": "python",
   "nbconvert_exporter": "python",
   "pygments_lexer": "ipython3",
   "version": "3.9.7"
  }
 },
 "nbformat": 4,
 "nbformat_minor": 5
}
