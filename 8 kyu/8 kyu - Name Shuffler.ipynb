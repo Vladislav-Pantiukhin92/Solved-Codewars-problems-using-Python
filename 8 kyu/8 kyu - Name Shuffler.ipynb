{
 "cells": [
  {
   "cell_type": "markdown",
   "id": "d06abe70",
   "metadata": {},
   "source": [
    "### Name Shuffler - 8 kyu, Codewars/Python"
   ]
  },
  {
   "cell_type": "code",
   "execution_count": 10,
   "id": "20d0c9c1",
   "metadata": {},
   "outputs": [
    {
     "data": {
      "text/plain": [
       "'McClane john'"
      ]
     },
     "execution_count": 10,
     "metadata": {},
     "output_type": "execute_result"
    }
   ],
   "source": [
    "\"\"\"\n",
    "Write a function that returns a string in which firstname is swapped with last name.\n",
    "name_shuffler('john McClane'); => \"McClane john\"\n",
    "\"\"\"\n",
    "\n",
    "def name_shuffler(str_):\n",
    "    final = str_.split()\n",
    "    final.reverse()\n",
    "    return \" \".join(final)\n",
    "  \n",
    "name_shuffler('john McClane')"
   ]
  }
 ],
 "metadata": {
  "kernelspec": {
   "display_name": "Python 3",
   "language": "python",
   "name": "python3"
  },
  "language_info": {
   "codemirror_mode": {
    "name": "ipython",
    "version": 3
   },
   "file_extension": ".py",
   "mimetype": "text/x-python",
   "name": "python",
   "nbconvert_exporter": "python",
   "pygments_lexer": "ipython3",
   "version": "3.8.8"
  }
 },
 "nbformat": 4,
 "nbformat_minor": 5
}
