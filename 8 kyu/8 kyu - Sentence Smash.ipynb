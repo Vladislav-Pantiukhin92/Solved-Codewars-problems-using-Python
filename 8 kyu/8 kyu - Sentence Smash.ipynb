{
 "cells": [
  {
   "cell_type": "markdown",
   "id": "8101b55c",
   "metadata": {},
   "source": [
    "### Sentence Smash - 8 kyu, Codewars/Python"
   ]
  },
  {
   "cell_type": "code",
   "execution_count": 88,
   "id": "912ef765",
   "metadata": {},
   "outputs": [
    {
     "data": {
      "text/plain": [
       "'hello world this is great'"
      ]
     },
     "execution_count": 88,
     "metadata": {},
     "output_type": "execute_result"
    }
   ],
   "source": [
    "\"\"\"\n",
    "Sentence Smash\n",
    "Write a function that takes an array of words and smashes them together \n",
    "into a sentence and returns the sentence. You can ignore any need to sanitize \n",
    "words or add punctuation, but you should add spaces between each word. Be careful, \n",
    "there shouldn't be a space at the beginning or the end of the sentence!\n",
    "Example\n",
    "['hello', 'world', 'this', 'is', 'great']  =>  'hello world this is great'\n",
    "\n",
    "\"\"\"\n",
    "\n",
    "\n",
    "def smash(words):\n",
    "    return \" \".join(words)\n",
    "smash(['hello', 'world', 'this', 'is', 'great'])"
   ]
  }
 ],
 "metadata": {
  "kernelspec": {
   "display_name": "Python 3",
   "language": "python",
   "name": "python3"
  },
  "language_info": {
   "codemirror_mode": {
    "name": "ipython",
    "version": 3
   },
   "file_extension": ".py",
   "mimetype": "text/x-python",
   "name": "python",
   "nbconvert_exporter": "python",
   "pygments_lexer": "ipython3",
   "version": "3.8.8"
  }
 },
 "nbformat": 4,
 "nbformat_minor": 5
}
