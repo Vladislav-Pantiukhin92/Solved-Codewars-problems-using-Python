{
 "cells": [
  {
   "cell_type": "markdown",
   "id": "dcbae4b3",
   "metadata": {},
   "source": [
    "### Opposites Attract - 8 kyu, Codewars/Python"
   ]
  },
  {
   "cell_type": "code",
   "execution_count": 7,
   "id": "f2876b69",
   "metadata": {},
   "outputs": [
    {
     "data": {
      "text/plain": [
       "True"
      ]
     },
     "execution_count": 7,
     "metadata": {},
     "output_type": "execute_result"
    }
   ],
   "source": [
    "\"\"\"\n",
    "Timmy & Sarah think they are in love, but around where they live, they will only know once they pick a \n",
    "flower each. If one of the flowers has an even number of petals and the other has an odd number of petals \n",
    "it means they are in love.\n",
    "Write a function that will take the number of petals of each flower and return true if they are in love \n",
    "and false if they aren't.\n",
    "\"\"\"\n",
    "\n",
    "def lovefunc(flower1, flower2):\n",
    "    flowers = [flower1, flower2] # The list with two parameters\n",
    "# Through the 'all' function we will be able to inspect the possibility of the True or False return value\n",
    "    if all(i % 2 == 0 for i in flowers) or all(i % 2 != 0 for i in flowers):\n",
    "    # If all values are odd, or all values are even - we return False\n",
    "        return False\n",
    "    return True # If the parity of parameters is different - we return True\n",
    "lovefunc(1, 4)"
   ]
  }
 ],
 "metadata": {
  "kernelspec": {
   "display_name": "Python 3 (ipykernel)",
   "language": "python",
   "name": "python3"
  },
  "language_info": {
   "codemirror_mode": {
    "name": "ipython",
    "version": 3
   },
   "file_extension": ".py",
   "mimetype": "text/x-python",
   "name": "python",
   "nbconvert_exporter": "python",
   "pygments_lexer": "ipython3",
   "version": "3.9.7"
  }
 },
 "nbformat": 4,
 "nbformat_minor": 5
}
