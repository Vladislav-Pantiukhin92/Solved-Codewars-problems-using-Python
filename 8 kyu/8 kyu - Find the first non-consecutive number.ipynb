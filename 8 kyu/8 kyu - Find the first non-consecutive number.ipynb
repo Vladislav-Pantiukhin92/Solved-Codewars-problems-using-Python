{
 "cells": [
  {
   "cell_type": "markdown",
   "id": "a5b1673b",
   "metadata": {},
   "source": [
    "### Find the first non-consecutive number - 8 kyu, Codewars/Python"
   ]
  },
  {
   "cell_type": "code",
   "execution_count": 20,
   "id": "173d3177",
   "metadata": {},
   "outputs": [
    {
     "name": "stdout",
     "output_type": "stream",
     "text": [
      "6\n"
     ]
    }
   ],
   "source": [
    "\"\"\"\n",
    "Your task is to find the first element of an array that is not consecutive.\n",
    "By not consecutive we mean not exactly 1 larger than the previous element of the array.\n",
    "E.g. If we have an array [1,2,3,4,6,7,8] then 1 then 2 then 3 then 4 are all consecutive but 6 is not, so that's the first non-consecutive number.\n",
    "If the whole array is consecutive then return null2.\n",
    "The array will always have at least 2 elements1 and all elements will be numbers. The numbers will also all be unique and in ascending order. The numbers could be positive or negative and the first non-consecutive could be either too!\n",
    "\"\"\"\n",
    "\n",
    "\n",
    "def first_non_consecutive(arr):\n",
    "    if arr == list(range(arr[0], arr[-1])):\n",
    "        return None\n",
    "    for i, j in enumerate(arr, arr[0]):\n",
    "        if i != j:\n",
    "            return j\n",
    "    \n",
    "print(first_non_consecutive([1,2,3,4,6,7,8]))"
   ]
  }
 ],
 "metadata": {
  "kernelspec": {
   "display_name": "Python 3",
   "language": "python",
   "name": "python3"
  },
  "language_info": {
   "codemirror_mode": {
    "name": "ipython",
    "version": 3
   },
   "file_extension": ".py",
   "mimetype": "text/x-python",
   "name": "python",
   "nbconvert_exporter": "python",
   "pygments_lexer": "ipython3",
   "version": "3.8.8"
  }
 },
 "nbformat": 4,
 "nbformat_minor": 5
}
