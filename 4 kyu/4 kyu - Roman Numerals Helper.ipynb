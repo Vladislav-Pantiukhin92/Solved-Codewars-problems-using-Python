{
 "cells": [
  {
   "cell_type": "markdown",
   "id": "ba4c6095",
   "metadata": {},
   "source": [
    "### Roman Numerals Helper - 4 kyu, Codewars/Python"
   ]
  },
  {
   "cell_type": "code",
   "execution_count": null,
   "id": "516dbf7d",
   "metadata": {},
   "outputs": [],
   "source": [
    "\"\"\"\n",
    "Create a RomanNumerals class that can convert a roman numeral to and from an integer value. \n",
    "It should follow the API demonstrated in the examples below. Multiple roman numeral values will \n",
    "be tested for each helper method.\n",
    "Modern Roman numerals are written by expressing each digit separately starting with the left most \n",
    "digit and skipping any digit with a value of zero. In Roman numerals 1990 is rendered: \n",
    "1000=M, 900=CM, 90=XC; resulting in MCMXC. 2008 is written as 2000=MM, 8=VIII; or MMVIII. \n",
    "1666 uses each Roman symbol in descending order: MDCLXVI.\n",
    "Input range : 1 <= n < 4000\n",
    "In this kata 4 should be represented as IV, NOT as IIII (the \"watchmaker's four\").\n",
    "\n",
    "Examples\n",
    "RomanNumerals.to_roman(1000) # should return 'M'\n",
    "RomanNumerals.from_roman('M') # should return 1000\n",
    "\"\"\"\n",
    "\n",
    "class RomanNumerals:\n",
    "    # The key to solving this problem is to create the full-fledged and relevant dictionary for both functions\n",
    "    def to_roman(val):\n",
    "        # Let's create the relevant dictionary for translating decimal numbers into Roman numerals:\n",
    "        toRoman = {1000: \"M\", 900: \"CM\", 500: \"D\", 400: \"CD\",\n",
    "                        100: \"C\", 90: \"XC\", 50: \"L\", 40: \"XL\",\n",
    "                        10: \"X\", 9: \"IX\", 5: \"V\", 4: \"IV\", 1: \"I\"}\n",
    "        string = \"\"\n",
    "        while val != 0:\n",
    "            curNumber = float(\"inf\")\n",
    "            curKey = 0\n",
    "            for i in toRoman:\n",
    "                # Each time the appropriate Roman numeral - the number, which gives the minimum result, following \n",
    "                # the floor division (but the result should not equal to 0)\n",
    "                if curNumber > val // i > 0:\n",
    "                    curNumber = val // i\n",
    "                    curKey = i\n",
    "            string += toRoman[curKey]\n",
    "            # Each time the appropriate number is subtracted from 'val' (it continues while 'val' != 0)\n",
    "            val -= curKey\n",
    "        return string\n",
    "\n",
    "    def from_roman(roman_num):\n",
    "        # Let's create the relevant dictionary for translating Roman numerals into decimal numbers:\n",
    "        fromRoman = {\"M\": 1000, \"CM\": 900, \"D\": 500, \"CD\": 400, \n",
    "                          \"C\": 100, \"XC\": 90, \"L\": 50, \"XL\": 40,\n",
    "                          \"X\": 10, \"IX\": 9, \"V\": 5, \"IV\": 4, \"I\": 1}\n",
    "        i = 0\n",
    "        final_num = 0\n",
    "        # In this case the most preferable choice if there are two Roman numerals in the dictionary \n",
    "        # If two Roman numerals (their combination) don't exist in the dictionary - we take only one Roman numeral\n",
    "        # as the most preferable option\n",
    "        while i < len(roman_num):\n",
    "            if i + 1 < len(roman_num) and roman_num[i:i + 2] in fromRoman:\n",
    "                final_num += fromRoman[roman_num[i:i + 2]]\n",
    "                i += 2\n",
    "            else:\n",
    "                final_num += fromRoman[roman_num[i]]\n",
    "                i += 1\n",
    "        return final_num"
   ]
  }
 ],
 "metadata": {
  "kernelspec": {
   "display_name": "Python 3 (ipykernel)",
   "language": "python",
   "name": "python3"
  },
  "language_info": {
   "codemirror_mode": {
    "name": "ipython",
    "version": 3
   },
   "file_extension": ".py",
   "mimetype": "text/x-python",
   "name": "python",
   "nbconvert_exporter": "python",
   "pygments_lexer": "ipython3",
   "version": "3.9.7"
  }
 },
 "nbformat": 4,
 "nbformat_minor": 5
}
