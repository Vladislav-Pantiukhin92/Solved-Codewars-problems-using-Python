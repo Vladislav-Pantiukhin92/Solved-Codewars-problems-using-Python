{
 "cells": [
  {
   "cell_type": "markdown",
   "id": "f1fa7e43",
   "metadata": {},
   "source": [
    "### Strip Comments - 4 kyu, Codewars/Python"
   ]
  },
  {
   "cell_type": "code",
   "execution_count": 1,
   "id": "a15a28b1",
   "metadata": {},
   "outputs": [
    {
     "data": {
      "text/plain": [
       "'apples, pears\\ngrapes\\nbananas'"
      ]
     },
     "execution_count": 1,
     "metadata": {},
     "output_type": "execute_result"
    }
   ],
   "source": [
    "\"\"\"\n",
    "Complete the solution so that it strips all text that follows any of a set of comment markers passed in. \n",
    "Any whitespace at the end of the line should also be stripped out.\n",
    "Example:\n",
    "\n",
    "Given an input string of:\n",
    "\n",
    "apples, pears # and bananas\n",
    "grapes\n",
    "bananas !apples\n",
    "The output expected would be:\n",
    "\n",
    "apples, pears\n",
    "grapes\n",
    "bananas\n",
    "\"\"\"\n",
    "\n",
    "import re\n",
    "\n",
    "def strip_comments(strng, markers):\n",
    "    if not strng: # If the input string is empty - return \"\"\n",
    "        return \"\"\n",
    "    end_space = False\n",
    "    if strng.endswith(\"\\n\"): # If the input string ends with \"\\n\" we should take it into account later\n",
    "        end_space = True\n",
    "    start_space = False\n",
    "    if strng.startswith(\"\\n\"): # If the input string starts with \"\\n\" we should take it into account later as well\n",
    "        start_space = True\n",
    "    all_rows = re.findall(r\"[^\\n]+\", strng) # New rows will be represented as independent elements within the list\n",
    "    end_markers = False\n",
    "    for j in markers:\n",
    "        if j in all_rows[-1]:\n",
    "            end_markers = True # The circumstance, when \"\\n\" should be added at the end of the string\n",
    "    for i in markers: # If there are underlined markers within the text, the second half of the string should be removed\n",
    "        all_rows = list(map(lambda x: x.split(i)[0].rstrip(), all_rows))\n",
    "    final = \"\\n\".join(all_rows) # The list of strings is transformed into the output string\n",
    "    # The final step is to determine the existence of \"\\n\" values at the edges\n",
    "    if end_space and not end_markers:\n",
    "        if start_space:\n",
    "            return \"\\n\" + final + \"\\n\"\n",
    "        else:\n",
    "            return final + \"\\n\"\n",
    "    else:\n",
    "        if start_space:\n",
    "            return \"\\n\" + final\n",
    "        else:\n",
    "            return final\n",
    "        \n",
    "strip_comments(\"apples, pears # and bananas\\ngrapes\\nbananas !apples\", [\"#\", \"!\"])"
   ]
  }
 ],
 "metadata": {
  "kernelspec": {
   "display_name": "Python 3 (ipykernel)",
   "language": "python",
   "name": "python3"
  },
  "language_info": {
   "codemirror_mode": {
    "name": "ipython",
    "version": 3
   },
   "file_extension": ".py",
   "mimetype": "text/x-python",
   "name": "python",
   "nbconvert_exporter": "python",
   "pygments_lexer": "ipython3",
   "version": "3.9.7"
  }
 },
 "nbformat": 4,
 "nbformat_minor": 5
}
