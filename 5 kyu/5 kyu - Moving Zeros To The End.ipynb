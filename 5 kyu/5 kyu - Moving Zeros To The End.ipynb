{
 "cells": [
  {
   "cell_type": "markdown",
   "id": "dcbae4b3",
   "metadata": {},
   "source": [
    "### Moving Zeros To The End - 5 kyu, Codewars/Python"
   ]
  },
  {
   "cell_type": "code",
   "execution_count": 7,
   "id": "7f08e643",
   "metadata": {},
   "outputs": [
    {
     "data": {
      "text/plain": [
       "[1, 1, 2, 1, 3, 0, 0]"
      ]
     },
     "execution_count": 7,
     "metadata": {},
     "output_type": "execute_result"
    }
   ],
   "source": [
    "\"\"\"\n",
    "Write an algorithm that takes an array and moves all of the zeros to the end, preserving the order \n",
    "of the other elements.\n",
    "move_zeros([1, 0, 1, 2, 0, 1, 3]) # returns [1, 1, 2, 1, 3, 0, 0]\n",
    "\"\"\"\n",
    "\n",
    "def move_zeros(lst):\n",
    "    final_arr = [0 for _ in range(len(lst))] # We create the new array, which is initially filled with default zeros\n",
    "    i = 0\n",
    "    for j in lst: # During the 'for loop' iterations, if a non-zero element is encountered - we add it to the \n",
    "        # recently created array (while the initialized pointer is moving forward)\n",
    "        if j != 0:\n",
    "            final_arr[i] = j\n",
    "            i += 1\n",
    "    return final_arr # We don't need to add zeros, because these elements are already by default within the array \n",
    "move_zeros([1, 0, 1, 2, 0, 1, 3])"
   ]
  }
 ],
 "metadata": {
  "kernelspec": {
   "display_name": "Python 3 (ipykernel)",
   "language": "python",
   "name": "python3"
  },
  "language_info": {
   "codemirror_mode": {
    "name": "ipython",
    "version": 3
   },
   "file_extension": ".py",
   "mimetype": "text/x-python",
   "name": "python",
   "nbconvert_exporter": "python",
   "pygments_lexer": "ipython3",
   "version": "3.9.7"
  }
 },
 "nbformat": 4,
 "nbformat_minor": 5
}
