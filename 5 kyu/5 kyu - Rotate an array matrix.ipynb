{
 "cells": [
  {
   "cell_type": "markdown",
   "id": "c5f795ed",
   "metadata": {},
   "source": [
    "### Rotate an array matrix - 5 kyu, Codewars/Python"
   ]
  },
  {
   "cell_type": "code",
   "execution_count": 17,
   "id": "68b33646",
   "metadata": {},
   "outputs": [
    {
     "data": {
      "text/plain": [
       "[[7, 4, 1], [8, 5, 2], [9, 6, 3]]"
      ]
     },
     "execution_count": 17,
     "metadata": {},
     "output_type": "execute_result"
    }
   ],
   "source": [
    "\"\"\"\n",
    "Write a rotate function that rotates a two-dimensional array (a matrix) either clockwise or anti-clockwise \n",
    "by 90 degrees, and returns the rotated array.\n",
    "The function accepts two parameters: an array, and a string specifying the direction or rotation. \n",
    "The direction will be either \"clockwise\" or \"counter-clockwise\".\n",
    "Here is an example of how your function will be used:\n",
    "\n",
    "matrix = [[1, 2, 3],\n",
    "          [4, 5, 6],\n",
    "          [7, 8, 9]]\n",
    "\n",
    "rotate(matrix, \"clockwise\") #  Would return  [[7, 4, 1], [8, 5, 2],  [9, 6, 3]]\n",
    "To help you visualize the rotated matrix, here it is formatted as a grid:\n",
    "\n",
    " [[7, 4, 1],\n",
    "  [8, 5, 2],\n",
    "  [9, 6, 3]]\n",
    "Rotated counter-clockwise it would looks like this:\n",
    "\n",
    " [[3, 6, 9],\n",
    "  [2, 5, 8],\n",
    "  [1, 4, 7]]\n",
    "\"\"\"\n",
    "\n",
    "matrix = [[1, 2, 3],\n",
    "          [4, 5, 6],\n",
    "          [7, 8, 9]]\n",
    "\n",
    "def rotate(matrix, direction):\n",
    "    final = [[] for _ in range(len(matrix[0]))] # The list with new configurations, which is to be finally returned\n",
    "    if direction == \"clockwise\": # The case, when the specific direction is \"clockwise\":\n",
    "        loc = 0\n",
    "        j = 0\n",
    "        # All the new clockwise configurations are created through the 'for loop' iterations:\n",
    "        for _ in range(len(matrix[0])):\n",
    "            for i in matrix:\n",
    "                final[loc] = [i[j]] + final[loc]\n",
    "            loc += 1\n",
    "            j += 1\n",
    "        return final # The new matrix is returned\n",
    "    else: # The case, when the specific direction is \"counter-clockwise\":\n",
    "        loc = 0\n",
    "        j = len(matrix[0]) - 1\n",
    "        # All the new counter-clockwise configurations are created through the 'for loop' iterations:\n",
    "        for _ in range(len(matrix[0])):\n",
    "            for i in matrix:\n",
    "                final[loc].append(i[j])\n",
    "            loc += 1\n",
    "            j -= 1\n",
    "        return final # The new matrix is returned\n",
    "    \n",
    "rotate(matrix, \"clockwise\")"
   ]
  }
 ],
 "metadata": {
  "kernelspec": {
   "display_name": "Python 3 (ipykernel)",
   "language": "python",
   "name": "python3"
  },
  "language_info": {
   "codemirror_mode": {
    "name": "ipython",
    "version": 3
   },
   "file_extension": ".py",
   "mimetype": "text/x-python",
   "name": "python",
   "nbconvert_exporter": "python",
   "pygments_lexer": "ipython3",
   "version": "3.9.7"
  }
 },
 "nbformat": 4,
 "nbformat_minor": 5
}
