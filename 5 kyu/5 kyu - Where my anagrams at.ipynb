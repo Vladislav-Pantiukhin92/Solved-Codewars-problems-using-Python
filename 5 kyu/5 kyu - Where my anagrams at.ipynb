{
 "cells": [
  {
   "cell_type": "markdown",
   "id": "dcbae4b3",
   "metadata": {},
   "source": [
    "### Where my anagrams at? - 5 kyu, Codewars/Python"
   ]
  },
  {
   "cell_type": "code",
   "execution_count": 8,
   "id": "ae8f59ce",
   "metadata": {},
   "outputs": [
    {
     "data": {
      "text/plain": [
       "['aabb', 'bbaa']"
      ]
     },
     "execution_count": 8,
     "metadata": {},
     "output_type": "execute_result"
    }
   ],
   "source": [
    "\"\"\"\n",
    "What is an anagram? Well, two words are anagrams of each other if they both contain the same letters. \n",
    "For example:\n",
    "'abba' & 'baab' == true\n",
    "'abba' & 'bbaa' == true\n",
    "'abba' & 'abbba' == false\n",
    "'abba' & 'abca' == false\n",
    "Write a function that will find all the anagrams of a word from a list. You will be given two inputs a \n",
    "word and an array with words. You should return an array of all the anagrams or an empty array if there \n",
    "are none. For example:\n",
    "anagrams('abba', ['aabb', 'abcd', 'bbaa', 'dada']) => ['aabb', 'bbaa']\n",
    "anagrams('racer', ['crazer', 'carer', 'racar', 'caers', 'racer']) => ['carer', 'racer']\n",
    "anagrams('laser', ['lazing', 'lazy',  'lacer']) => []\n",
    "\"\"\"\n",
    "\n",
    "from collections import Counter # 'collections.Counter' is to be used for counting the occurrence of letters\n",
    "\n",
    "def anagrams(word, words):\n",
    "    main_pattern = dict(Counter(word)) # Let's create the dictionary - the major pattern, which is necessary \n",
    "    # to focus on, while comparing other words with the 'word' parameter\n",
    "    def filter_func(x): # The filter_function is defined to filter out the words, which don't meet the anagram's \n",
    "        # requirement\n",
    "        current_pattern = dict(Counter(x))\n",
    "        if main_pattern == current_pattern: # If two patterns are equal - we preserve an element within the list of words\n",
    "            return 1\n",
    "        return 0 # Alternatively, it is going to be removed\n",
    "    final = list(filter(filter_func, words))\n",
    "    return final # The list with anagrams is returned\n",
    "\n",
    "anagrams('abba', ['aabb', 'abcd', 'bbaa', 'dada'])"
   ]
  }
 ],
 "metadata": {
  "kernelspec": {
   "display_name": "Python 3 (ipykernel)",
   "language": "python",
   "name": "python3"
  },
  "language_info": {
   "codemirror_mode": {
    "name": "ipython",
    "version": 3
   },
   "file_extension": ".py",
   "mimetype": "text/x-python",
   "name": "python",
   "nbconvert_exporter": "python",
   "pygments_lexer": "ipython3",
   "version": "3.9.7"
  }
 },
 "nbformat": 4,
 "nbformat_minor": 5
}
