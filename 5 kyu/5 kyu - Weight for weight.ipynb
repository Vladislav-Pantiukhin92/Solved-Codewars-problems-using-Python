{
 "cells": [
  {
   "cell_type": "markdown",
   "id": "c5f795ed",
   "metadata": {},
   "source": [
    "### Weight for weight - 5 kyu, Codewars/Python"
   ]
  },
  {
   "cell_type": "code",
   "execution_count": 1,
   "id": "b1281cb8",
   "metadata": {},
   "outputs": [
    {
     "data": {
      "text/plain": [
       "'100 180 90 56 65 74 68 86 99'"
      ]
     },
     "execution_count": 1,
     "metadata": {},
     "output_type": "execute_result"
    }
   ],
   "source": [
    "\"\"\"\n",
    "My friend John and I are members of the \"Fat to Fit Club (FFC)\". John is worried because each month \n",
    "a list with the weights of members is published and each month he is the last on the list which means \n",
    "he is the heaviest.\n",
    "I am the one who establishes the list so I told him: \"Don't worry any more, I will modify the order \n",
    "of the list\". It was decided to attribute a \"weight\" to numbers. The weight of a number will be from \n",
    "now on the sum of its digits.\n",
    "\n",
    "For example 99 will have \"weight\" 18, 100 will have \"weight\" 1 so in the list 100 will come before 99.\n",
    "\n",
    "Given a string with the weights of FFC members in normal order can you give this string ordered \n",
    "by \"weights\" of these numbers?\n",
    "\n",
    "Example:\n",
    "\"56 65 74 100 99 68 86 180 90\" ordered by numbers weights becomes: \n",
    "\n",
    "\"100 180 90 56 65 74 68 86 99\"\n",
    "When two numbers have the same \"weight\", let us class them as if they were strings \n",
    "(alphabetical ordering) and not numbers:\n",
    "\n",
    "180 is before 90 since, having the same \"weight\" (9), it comes before as a string.\n",
    "All numbers in the list are positive numbers and the list can be empty.\n",
    "\"\"\"\n",
    "\n",
    "from operator import * # 'operator.itemgetter' is to be used to sort the array of tuples in a specific manner\n",
    "from itertools import groupby # 'itertools.groupby' will be utilized to find all the similar sequences\n",
    "\n",
    "def order_weight(strng):\n",
    "    if strng.isspace(): # If the given input string is just the chunk of spaces - we return \"\"\n",
    "        return \"\"\n",
    "    myString = strng\n",
    "    final = [] # It is the list container, which will store all the elements, using the calculated order\n",
    "    my_list_str = list(map(lambda x: x.strip(), myString.strip().split())) # All the whitespaces are removed, \n",
    "    # as well as the given input string is transformed into the list with numeric elements\n",
    "    my_list_int = list(map(lambda y: sum(list(map(int, list(y)))), my_list_str)) # The summation operation is applied\n",
    "    zip_list = sorted(list(zip(my_list_str, my_list_int)), key=itemgetter(1)) # The list is sorted, using the specific manner\n",
    "    key_func = lambda x: x[1]\n",
    "    # Implementation of the 'itertools.groupby' to find the sequence patterns:\n",
    "    for key, group in groupby(zip_list, key=key_func):\n",
    "        mySeq = list(group)\n",
    "        if len(mySeq) > 1: # The length of the sequence >= 2\n",
    "            curList = sorted(list(map(lambda x: x[0], mySeq)), key=str)\n",
    "            final.extend(curList) # The array with all the ordered elements is appended to the list container\n",
    "        else: # The case, when the length of the sequence equals to just 1\n",
    "            curList = list(map(lambda x: x[0], mySeq))\n",
    "            final.extend(curList) # The array with all the ordered elements is appended to the list container\n",
    "    return \" \".join(final) # The specifically ordered list is transformed into the string of numbers with \n",
    "# necessary whitespaces and finally returned\n",
    "\n",
    "order_weight(\"56 65 74 100 99 68 86 180 90\")"
   ]
  }
 ],
 "metadata": {
  "kernelspec": {
   "display_name": "Python 3 (ipykernel)",
   "language": "python",
   "name": "python3"
  },
  "language_info": {
   "codemirror_mode": {
    "name": "ipython",
    "version": 3
   },
   "file_extension": ".py",
   "mimetype": "text/x-python",
   "name": "python",
   "nbconvert_exporter": "python",
   "pygments_lexer": "ipython3",
   "version": "3.9.7"
  }
 },
 "nbformat": 4,
 "nbformat_minor": 5
}
