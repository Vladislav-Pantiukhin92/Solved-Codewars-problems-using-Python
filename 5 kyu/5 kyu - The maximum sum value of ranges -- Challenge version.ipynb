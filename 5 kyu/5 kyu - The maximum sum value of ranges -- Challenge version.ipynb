{
 "cells": [
  {
   "cell_type": "markdown",
   "id": "880f5f00",
   "metadata": {},
   "source": [
    "### The maximum sum value of ranges -- Challenge version - 5 kyu, Codewars/Python"
   ]
  },
  {
   "cell_type": "code",
   "execution_count": 241,
   "id": "b75da50a",
   "metadata": {},
   "outputs": [
    {
     "data": {
      "text/plain": [
       "-6"
      ]
     },
     "execution_count": 241,
     "metadata": {},
     "output_type": "execute_result"
    }
   ],
   "source": [
    "\"\"\"\n",
    "Description\n",
    "Given a list of integers A, for each pair of integers (first, last) in list ranges, calculate the sum of the values in A between indices first and last (both inclusive), and return the greatest resulting sum.\n",
    "\n",
    "Example\n",
    "A = [1, -2, 3, 4, -5, -4, 3, 2, 1]\n",
    "ranges = [(1, 3), (0, 4), (6, 8)]\n",
    "\n",
    "result = 6\n",
    "For ranges[0] = (1, 3) the sum is A[1] + A[2] + A[3] = 5\n",
    "For ranges[1] = (0, 4) the sum is A[0] + A[1] + A[2] + A[3] + A[4] = 1\n",
    "For ranges[2] = (6, 8) the sum is A[6] + A[7] + A[8] = 6\n",
    "The greatest sum is 6\n",
    "Notes\n",
    "The list of ranges will never be empty;\n",
    "This is a challenge version, you should implement an efficient algorithm to avoid timing out;\n",
    "If this task is too difficult for you, try the simple version.\n",
    "About random testcases\n",
    "Small tests: 100 testcases\n",
    "each integers-list : 5-20 elements\n",
    "each ranges-list : 1-6 elements\n",
    "Big tests: 50 testcases\n",
    "each integers-list : 100000 elements\n",
    "each ranges-list : 10000 elements\n",
    "\"\"\"\n",
    "\n",
    "from itertools import accumulate # The cumulative sum will be used in the array\n",
    "\n",
    "def max_sum(array, ranges):\n",
    "    lst = list(accumulate(array)) # The cumulative sum of numbers is created within the array\n",
    "    maxSum = -float(\"inf\") # As the starting point the maxSum is an infinite negative number\n",
    "    for i in ranges:\n",
    "        if i[0] == 0: # If the first number within the tuple is 0, it means we subtract nothing (that is 0)\n",
    "            if lst[i[1]] - 0 > maxSum:\n",
    "                maxSum = lst[i[1]] - 0\n",
    "        else: # In other cases we compare the subtraction result with the maxSum (and if necessary, we update it)\n",
    "             if lst[i[1]] - lst[i[0] - 1] > maxSum: \n",
    "                    maxSum = lst[i[1]] - lst[i[0] - 1]\n",
    "    return maxSum\n",
    "\n",
    "max_sum([-73, 98, -58, -7, -13, 62, -55], [(0, 4), (4, 6), (0, 6)])"
   ]
  }
 ],
 "metadata": {
  "kernelspec": {
   "display_name": "Python 3 (ipykernel)",
   "language": "python",
   "name": "python3"
  },
  "language_info": {
   "codemirror_mode": {
    "name": "ipython",
    "version": 3
   },
   "file_extension": ".py",
   "mimetype": "text/x-python",
   "name": "python",
   "nbconvert_exporter": "python",
   "pygments_lexer": "ipython3",
   "version": "3.9.7"
  }
 },
 "nbformat": 4,
 "nbformat_minor": 5
}
