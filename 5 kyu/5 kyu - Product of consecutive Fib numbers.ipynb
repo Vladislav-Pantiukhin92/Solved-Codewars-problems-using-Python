{
 "cells": [
  {
   "cell_type": "markdown",
   "id": "fe18c040",
   "metadata": {},
   "source": [
    "### Product of consecutive Fib numbers - 5 kyu, Codewars/Python"
   ]
  },
  {
   "cell_type": "code",
   "execution_count": 247,
   "id": "7d88cbe0",
   "metadata": {},
   "outputs": [
    {
     "data": {
      "text/plain": [
       "[21, 34, True]"
      ]
     },
     "execution_count": 247,
     "metadata": {},
     "output_type": "execute_result"
    }
   ],
   "source": [
    "\"\"\"The Fibonacci numbers are the numbers in the following integer sequence (Fn):\n",
    "\n",
    "0, 1, 1, 2, 3, 5, 8, 13, 21, 34, 55, 89, 144, 233, ...\n",
    "\n",
    "such as\n",
    "\n",
    "F(n) = F(n-1) + F(n-2) with F(0) = 0 and F(1) = 1.\n",
    "\n",
    "Given a number, say prod (for product), we search two Fibonacci numbers F(n) and F(n+1) verifying\n",
    "\n",
    "F(n) * F(n+1) = prod.\n",
    "\n",
    "Your function productFib takes an integer (prod) and returns an array:\n",
    "\n",
    "[F(n), F(n+1), true] or {F(n), F(n+1), 1} or (F(n), F(n+1), True)\n",
    "depending on the language if F(n) * F(n+1) = prod.\n",
    "\n",
    "If you don't find two consecutive F(n) verifying F(n) * F(n+1) = prodyou will return\n",
    "\n",
    "[F(n), F(n+1), false] or {F(n), F(n+1), 0} or (F(n), F(n+1), False)\n",
    "F(n) being the smallest one such as F(n) * F(n+1) > prod.\n",
    "\n",
    "Some Examples of Return:\n",
    "(depend on the language)\n",
    "\n",
    "productFib(714) # should return (21, 34, true), \n",
    "                # since F(8) = 21, F(9) = 34 and 714 = 21 * 34\n",
    "\n",
    "productFib(800) # should return (34, 55, false), \n",
    "                # since F(8) = 21, F(9) = 34, F(10) = 55 and 21 * 34 < 800 < 34 * 55\n",
    "-----\n",
    "productFib(714) # should return [21, 34, true], \n",
    "productFib(800) # should return [34, 55, false], \n",
    "-----\n",
    "productFib(714) # should return {21, 34, 1}, \n",
    "productFib(800) # should return {34, 55, 0},        \n",
    "-----\n",
    "productFib(714) # should return {21, 34, true}, \n",
    "productFib(800) # should return {34, 55, false}, \"\"\"\n",
    "\n",
    "\n",
    "def productFib(prod):\n",
    "    if prod == 1:\n",
    "        return [1, 1, True]\n",
    "    sequence = [0] * 3\n",
    "    sequence[0:2] = 0, 1\n",
    "    index = 2\n",
    "    final_product = 1\n",
    "    while final_product < prod:\n",
    "        final_product = 1\n",
    "        sequence[index] = sequence[index - 1] + sequence[index - 2]\n",
    "        final_product = final_product * sequence[index] * sequence[index - 1]\n",
    "        index += 1\n",
    "        sequence.append(0)\n",
    "    sequence.pop()\n",
    "    if sequence[-1] * sequence[-2] != prod:\n",
    "        return [sequence[-2], sequence[-1], False]\n",
    "    return [sequence[-2], sequence[-1], True]\n",
    "productFib(714)"
   ]
  }
 ],
 "metadata": {
  "kernelspec": {
   "display_name": "Python 3",
   "language": "python",
   "name": "python3"
  },
  "language_info": {
   "codemirror_mode": {
    "name": "ipython",
    "version": 3
   },
   "file_extension": ".py",
   "mimetype": "text/x-python",
   "name": "python",
   "nbconvert_exporter": "python",
   "pygments_lexer": "ipython3",
   "version": "3.8.8"
  }
 },
 "nbformat": 4,
 "nbformat_minor": 5
}
