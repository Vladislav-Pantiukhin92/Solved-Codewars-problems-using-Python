{
 "cells": [
  {
   "cell_type": "markdown",
   "id": "850909b9",
   "metadata": {},
   "source": [
    "### First non-repeating character - 5 kyu, Codewars/Python"
   ]
  },
  {
   "cell_type": "code",
   "execution_count": 31,
   "id": "dc2ebd4f",
   "metadata": {},
   "outputs": [
    {
     "data": {
      "text/plain": [
       "'T'"
      ]
     },
     "execution_count": 31,
     "metadata": {},
     "output_type": "execute_result"
    }
   ],
   "source": [
    "\"\"\"\n",
    "Write a function named first_non_repeating_letter that takes a string input, and returns the \n",
    "first character that is not repeated anywhere in the string.\n",
    "For example, if given the input 'stress', the function should return 't', \n",
    "since the letter t only occurs once in the string, and occurs first in the string.\n",
    "As an added challenge, upper- and lowercase letters are considered the same character, \n",
    "but the function should return the correct case for the initial letter. For example, the \n",
    "input 'sTreSS' should return 'T'.\n",
    "If a string contains all repeating characters, it should return an empty string (\"\") or \n",
    "None -- see sample tests.\n",
    "\n",
    "\"\"\"\n",
    "\n",
    "from itertools import groupby # Let's import the itertools library to work with unique values\n",
    "\n",
    "def first_non_repeating_letter(string):\n",
    "    lowercase_list = string.casefold() # To make the task much easier, for starters, we utilize only lowercase letters\n",
    "    sort_lowercase_list = sorted(lowercase_list) # To work with the groupby library, first of all, we should sort the list\n",
    "    lst = []\n",
    "    final = []\n",
    "    for key, group in groupby(sort_lowercase_list): # We identify the unique symbols\n",
    "        lst.append((key, len(list(group))))\n",
    "    lst = list(filter(lambda x: x[1] == 1, lst)) # Only unique values will remain in the list\n",
    "    if not lst:\n",
    "        return \"\"\n",
    "    for i in lowercase_list:\n",
    "        if len(final) == 1:\n",
    "            break\n",
    "        for j in lst:\n",
    "            if j[0] == i:\n",
    "                final.append(i)\n",
    "    final.append(final[0].upper()) # As previously we worked with lowercase symbols, we should add the uppercase option as well\n",
    "    for i in final: # We return the unique value within the initial string\n",
    "        if i in string:\n",
    "            return i\n",
    "    \n",
    "\n",
    "first_non_repeating_letter('sTreSS')"
   ]
  }
 ],
 "metadata": {
  "kernelspec": {
   "display_name": "Python 3",
   "language": "python",
   "name": "python3"
  },
  "language_info": {
   "codemirror_mode": {
    "name": "ipython",
    "version": 3
   },
   "file_extension": ".py",
   "mimetype": "text/x-python",
   "name": "python",
   "nbconvert_exporter": "python",
   "pygments_lexer": "ipython3",
   "version": "3.8.8"
  }
 },
 "nbformat": 4,
 "nbformat_minor": 5
}
