{
 "cells": [
  {
   "cell_type": "markdown",
   "id": "1413f610",
   "metadata": {},
   "source": [
    "### ROT13 - 5 kyu, Codewars/Python"
   ]
  },
  {
   "cell_type": "code",
   "execution_count": 244,
   "id": "be7a2646",
   "metadata": {},
   "outputs": [
    {
     "data": {
      "text/plain": [
       "'ROT13 example.'"
      ]
     },
     "execution_count": 244,
     "metadata": {},
     "output_type": "execute_result"
    }
   ],
   "source": [
    "\"\"\"\n",
    "How can you tell an extrovert from an introvert at NSA? Va gur ryringbef, gur rkgebireg ybbxf ng gur BGURE thl'f fubrf.\n",
    "I found this joke on USENET, but the punchline is scrambled. \n",
    "Maybe you can decipher it? According to Wikipedia, ROT13 (http://en.wikipedia.org/wiki/ROT13) is frequently used to obfuscate jokes on USENET.\n",
    "Hint: For this task you're only supposed to substitue characters. Not spaces, punctuation, numbers etc. Test examples:\n",
    "\n",
    "rot13(\"EBG13 rknzcyr.\") == \"ROT13 example.\";\n",
    "rot13(\"This is my first ROT13 excercise!\" == \"Guvf vf zl svefg EBG13 rkprepvfr!\"\n",
    "\n",
    "\"\"\"\n",
    "\n",
    "import string\n",
    "\n",
    "def rot13(message):\n",
    "    final = \"\"\n",
    "    # Let's import the uppercase and lowercase strings and double them to encompass all the 13-symbols shifts\n",
    "    uppercase = string.ascii_uppercase * 2 \n",
    "    lowercase = string.ascii_lowercase * 2\n",
    "    for i in message:\n",
    "        if i in uppercase:\n",
    "            final += uppercase[uppercase.index(i) + 13]\n",
    "        elif i in lowercase:\n",
    "            final += lowercase[lowercase.index(i) + 13]\n",
    "        else:\n",
    "            final += i # If values do not belong to uppercase or lowercase strings, then, we add them as just they are\n",
    "    return final\n",
    "\n",
    "rot13(\"EBG13 rknzcyr.\")"
   ]
  }
 ],
 "metadata": {
  "kernelspec": {
   "display_name": "Python 3",
   "language": "python",
   "name": "python3"
  },
  "language_info": {
   "codemirror_mode": {
    "name": "ipython",
    "version": 3
   },
   "file_extension": ".py",
   "mimetype": "text/x-python",
   "name": "python",
   "nbconvert_exporter": "python",
   "pygments_lexer": "ipython3",
   "version": "3.8.8"
  }
 },
 "nbformat": 4,
 "nbformat_minor": 5
}
