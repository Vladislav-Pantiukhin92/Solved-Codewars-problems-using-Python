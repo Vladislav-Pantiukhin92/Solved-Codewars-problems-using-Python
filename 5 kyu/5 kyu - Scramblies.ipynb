{
 "cells": [
  {
   "cell_type": "markdown",
   "id": "c5f795ed",
   "metadata": {},
   "source": [
    "### Scramblies - 5 kyu, Codewars/Python"
   ]
  },
  {
   "cell_type": "code",
   "execution_count": 71,
   "id": "7ec58020",
   "metadata": {},
   "outputs": [
    {
     "data": {
      "text/plain": [
       "True"
      ]
     },
     "execution_count": 71,
     "metadata": {},
     "output_type": "execute_result"
    }
   ],
   "source": [
    "\"\"\"\n",
    "Complete the function scramble(str1, str2) that returns true if a portion of str1 characters can be \n",
    "rearranged to match str2, otherwise returns false.\n",
    "Notes:\n",
    "\n",
    "Only lower case letters will be used (a-z). No punctuation or digits will be included.\n",
    "Performance needs to be considered.\n",
    "Examples\n",
    "scramble('rkqodlw', 'world') ==> True\n",
    "scramble('cedewaraaossoqqyt', 'codewars') ==> True\n",
    "scramble('katas', 'steak') ==> False\n",
    "\"\"\"\n",
    "\n",
    "from collections import Counter # 'collections.Counter' will be used to count letters' occurrences\n",
    "\n",
    "def scramble(s1, s2):\n",
    "    myDict = dict(Counter(s2)) # The occurrence dictionary is created\n",
    "    for i in myDict:\n",
    "        if myDict[i] > s1.count(i): # The first given input string should contain all values from the \n",
    "            # occurrence dictionary in order to obtain the True value\n",
    "            return False\n",
    "    return True\n",
    "    \n",
    "scramble(\"rkqodlw\", \"world\")"
   ]
  }
 ],
 "metadata": {
  "kernelspec": {
   "display_name": "Python 3 (ipykernel)",
   "language": "python",
   "name": "python3"
  },
  "language_info": {
   "codemirror_mode": {
    "name": "ipython",
    "version": 3
   },
   "file_extension": ".py",
   "mimetype": "text/x-python",
   "name": "python",
   "nbconvert_exporter": "python",
   "pygments_lexer": "ipython3",
   "version": "3.9.7"
  }
 },
 "nbformat": 4,
 "nbformat_minor": 5
}
