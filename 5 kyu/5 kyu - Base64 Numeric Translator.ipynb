{
 "cells": [
  {
   "cell_type": "markdown",
   "id": "f253c93b",
   "metadata": {},
   "source": [
    "### Base64 Numeric Translator - 5 kyu, Codewars/Python"
   ]
  },
  {
   "cell_type": "code",
   "execution_count": 59,
   "id": "87b2a293",
   "metadata": {},
   "outputs": [
    {
     "data": {
      "text/plain": [
       "64"
      ]
     },
     "execution_count": 59,
     "metadata": {},
     "output_type": "execute_result"
    }
   ],
   "source": [
    "\"\"\"\n",
    "Base64 Numeric Translator\n",
    "Our standard numbering system is (Base 10). That includes 0 through 9. Binary is (Base 2), only 1’s and 0’s. And Hexadecimal is (Base 16) (0, 1, 2, 3, 4, 5, 6, 7, 8, 9, A, B, C, D, E, F). A hexadecimal “F” has a (Base 10) value of 15. (Base 64) has 64 individual characters which translate in value in (Base 10) from between 0 to 63.\n",
    "####Write a method that will convert a string from (Base 64) to it's (Base 10) integer value.\n",
    "\n",
    "The (Base 64) characters from least to greatest will be\n",
    "\n",
    "ABCDEFGHIJKLMNOPQRSTUVWXYZabcdefghijklmnopqrstuvwxyz0123456789+/\n",
    "Where 'A' is equal to 0 and '/' is equal to 63.\n",
    "\n",
    "Just as in standard (Base 10) when you get to the highest individual integer 9 the next number adds an additional place and starts at the beginning 10; so also (Base 64) when you get to the 63rd digit '/' and the next number adds an additional place and starts at the beginning \"BA\".\n",
    "\n",
    "Example:\n",
    "\n",
    "base64_to_base10(\"/\") # => 63\n",
    "base64_to_base10(\"BA\") # => 64\n",
    "base64_to_base10(\"BB\") # => 65\n",
    "base64_to_base10(\"BC\") # => 66\n",
    "Write a method base64_to_base10 that will take a string (Base 64) number and output it's (Base 10) value as an integer.\n",
    "\"\"\"\n",
    "\n",
    "def base64_to_base10(string):\n",
    "    alphabet = \"ABCDEFGHIJKLMNOPQRSTUVWXYZabcdefghijklmnopqrstuvwxyz0123456789+/\"\n",
    "    final = 0\n",
    "    loop = len(string) - 1\n",
    "    ind = 0\n",
    "    # The solution essence is through the power of numbers, starting from the length - 1\n",
    "    while ind < len(string):\n",
    "        final += (64 ** loop) * alphabet.index(string[ind])\n",
    "        ind += 1\n",
    "        loop -= 1\n",
    "    return final\n",
    "    \n",
    "base64_to_base10(\"BA\")"
   ]
  }
 ],
 "metadata": {
  "kernelspec": {
   "display_name": "Python 3 (ipykernel)",
   "language": "python",
   "name": "python3"
  },
  "language_info": {
   "codemirror_mode": {
    "name": "ipython",
    "version": 3
   },
   "file_extension": ".py",
   "mimetype": "text/x-python",
   "name": "python",
   "nbconvert_exporter": "python",
   "pygments_lexer": "ipython3",
   "version": "3.9.7"
  }
 },
 "nbformat": 4,
 "nbformat_minor": 5
}
