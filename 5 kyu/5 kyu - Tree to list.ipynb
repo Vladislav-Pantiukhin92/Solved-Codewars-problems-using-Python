{
 "cells": [
  {
   "cell_type": "markdown",
   "id": "a9ab6a61",
   "metadata": {},
   "source": [
    "### Tree to list - 5 kyu, Codewars/Python"
   ]
  },
  {
   "cell_type": "code",
   "execution_count": null,
   "id": "75d14cdd",
   "metadata": {},
   "outputs": [],
   "source": [
    "\"\"\"\n",
    "Given the root of a tree with an arbitrary number of child nodes, return a list containing the nodes' \n",
    "data in breadth-first order (left to right, top to bottom).\n",
    "Child nodes are stored in a list. An empty tree is represented by an empty list.\n",
    "Example:\n",
    "\n",
    "           1\n",
    "          / \\\n",
    "         2   3  -> [1,2,3,4,5,6,7]\n",
    "        /|\\   \\\n",
    "       4 5 6   7\n",
    "\n",
    "\"\"\"\n",
    "\n",
    "# We are going to execute the Breadth-First Search algorithm:\n",
    "\n",
    "from collections import deque # Let's import the queue structure from 'collections.deque'\n",
    "\n",
    "class Node:\n",
    "    def __init__(self, data, child_nodes=None):\n",
    "        self.data = data\n",
    "        self.child_nodes = [] if child_nodes is None else child_nodes\n",
    "\n",
    "def tree_to_list(tree_root): # The Breadth-First Search (BFS) algorithm\n",
    "# The level-by-level traversal of nodes within the Tree\n",
    "    if not tree_root: # If the Tree is empty - we return an empty list\n",
    "        return []\n",
    "# Otherwise, let's start implementing the BFS-algorithm:\n",
    "\n",
    "    visited = [] # The list with visited/traversed nodes of the given input Tree\n",
    "    queue = deque() # The queue/deque structure, which will help to implement the level-by-level traversal of nodes\n",
    "    visited.append(tree_root)\n",
    "    queue.append(tree_root)\n",
    "    while queue: # Execution of the conditional loop, while the queue/deque structure contains nodes/elements\n",
    "        current = queue.popleft()\n",
    "        for node in current.child_nodes:\n",
    "            if node not in visited:\n",
    "                visited.append(node)\n",
    "                queue.append(node)\n",
    "# Right now the list contains nodes, we should extract values from these nodes through the 'map' function\n",
    "    visited = list(map(lambda x: x.data, visited))\n",
    "    return visited # The list with values is returned"
   ]
  }
 ],
 "metadata": {
  "kernelspec": {
   "display_name": "Python 3 (ipykernel)",
   "language": "python",
   "name": "python3"
  },
  "language_info": {
   "codemirror_mode": {
    "name": "ipython",
    "version": 3
   },
   "file_extension": ".py",
   "mimetype": "text/x-python",
   "name": "python",
   "nbconvert_exporter": "python",
   "pygments_lexer": "ipython3",
   "version": "3.9.7"
  }
 },
 "nbformat": 4,
 "nbformat_minor": 5
}
