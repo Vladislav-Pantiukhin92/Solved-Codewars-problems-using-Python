{
 "cells": [
  {
   "cell_type": "markdown",
   "id": "d0ea9717",
   "metadata": {},
   "source": [
    "### Simple Fun #166: Best Match - 5 kyu, Codewars/Python"
   ]
  },
  {
   "cell_type": "code",
   "execution_count": 42,
   "id": "5b4f41ee",
   "metadata": {},
   "outputs": [
    {
     "data": {
      "text/plain": [
       "1"
      ]
     },
     "execution_count": 42,
     "metadata": {},
     "output_type": "execute_result"
    }
   ],
   "source": [
    "\"\"\"\n",
    "\"AL-AHLY\" and \"Zamalek\" are the best teams in Egypt, but \"AL-AHLY\" always wins the matches between them. \n",
    "\"Zamalek\" managers want to know what is the best match they've played so far.\n",
    "The best match is the match they lost with the minimum goal difference. If there is more than one match \n",
    "with the same difference, choose the one \"Zamalek\" scored more goals in.\n",
    "Given the information about all matches they played, return the index of the best match (0-based). \n",
    "If more than one valid result, return the smallest index.\n",
    "Example\n",
    "For ALAHLYGoals = [6,4] and zamalekGoals = [1,2], the output should be 1 (2 in COBOL).\n",
    "Because 4 - 2 is less than 6 - 1\n",
    "For ALAHLYGoals = [1,2,3,4,5] and zamalekGoals = [0,1,2,3,4], the output should be 4.\n",
    "The goal difference of all matches are 1, but at 4th match \"Zamalek\" scored more goals in. So the result \n",
    "is 4 (5 in COBOL).\n",
    "Input/Output\n",
    "[input] integer array ALAHLYGoals\n",
    "The number of goals \"AL-AHLY\" scored in each match.\n",
    "[input] integer array zamalekGoals\n",
    "The number of goals \"Zamalek\" scored in each match. It is guaranteed that zamalekGoals[i] < ALAHLYGoals[i] \n",
    "for each element.\n",
    "\n",
    "[output] an integer\n",
    "Index of the best match.\n",
    "\"\"\"\n",
    "\n",
    "from itertools import starmap # 'itertools.starmap' will be utilized to find the difference between goals\n",
    "\n",
    "def best_match(goals1, goals2):\n",
    "    # First of all, let's find the difference between all goals of two teams\n",
    "    zip_list = list(zip(goals1, goals2))\n",
    "    difference = list(starmap(lambda x, y: x - y, zip_list))\n",
    "    # After that, we need to find the minDifference through the implementation of 'starmap' function\n",
    "    # and 'min' operator\n",
    "    minDifference = min(difference)\n",
    "    # Let's reproduce indices of elements as well:\n",
    "    indices = list(range(0, len(goals1)))\n",
    "# Through the 'filter' function we will be able to remove all iterables, which don't meet requirements, \n",
    "# concerning the minDifference and the maxAmount of goals, made by the second team\n",
    "    combined_ = list(filter(lambda x: x[0] == minDifference, list(zip(difference, goals2, indices))))\n",
    "    sort_arr = sorted(combined_, key=lambda x: x[1])\n",
    "    maxGoals = max(list(map(lambda x: x[1], sort_arr)))\n",
    "    sort_arr = list(filter(lambda x: x[1] == maxGoals, sort_arr))\n",
    "    # Finally we have the list, where it is necessary to return the first element and its second argument - \n",
    "    # that is, the pertinent index\n",
    "    return sort_arr[0][2]\n",
    "\n",
    "best_match([6,4], [1,2])"
   ]
  }
 ],
 "metadata": {
  "kernelspec": {
   "display_name": "Python 3 (ipykernel)",
   "language": "python",
   "name": "python3"
  },
  "language_info": {
   "codemirror_mode": {
    "name": "ipython",
    "version": 3
   },
   "file_extension": ".py",
   "mimetype": "text/x-python",
   "name": "python",
   "nbconvert_exporter": "python",
   "pygments_lexer": "ipython3",
   "version": "3.9.7"
  }
 },
 "nbformat": 4,
 "nbformat_minor": 5
}
