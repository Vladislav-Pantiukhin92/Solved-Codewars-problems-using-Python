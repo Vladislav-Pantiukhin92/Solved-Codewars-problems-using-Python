{
 "cells": [
  {
   "cell_type": "markdown",
   "id": "c5f795ed",
   "metadata": {},
   "source": [
    "### Distinct contiguous elements in every window of size k - 5 kyu, Codewars/Python"
   ]
  },
  {
   "cell_type": "code",
   "execution_count": 11,
   "id": "c6e09f90",
   "metadata": {},
   "outputs": [
    {
     "data": {
      "text/plain": [
       "[3, 4, 4, 3]"
      ]
     },
     "execution_count": 11,
     "metadata": {},
     "output_type": "execute_result"
    }
   ],
   "source": [
    "\"\"\"\n",
    "Count distinct elements in every window of size k\n",
    "Given an array of size n and an integer k, return the count of distinct contiguous numbers for all \n",
    "windows of size k. Consider that k is always lower or equals to n.\n",
    "\n",
    "Example:\n",
    "``` Input: arr = {1, 2, 1, 3, 4, 2, 3} k = 4 Since we have n = 7 and k = 4, we have 4 windows with \n",
    "4 contiguous elements.\n",
    "Answer: [3,4,4,3]\n",
    "\n",
    "<h2>Explanation:</h2>\n",
    "First window is {1, 2, 1, 3} and we have 3 distinct numbers;\n",
    "Second window is {2, 1, 3, 4} and we have 4 distinct numbers;\n",
    "Third window is {1, 3, 4, 2} and we have 4 distinct numbers;\n",
    "Fourth window is {3, 4, 2, 3} and we have 3 distinct numbers.\n",
    "\n",
    "<br>\n",
    "\n",
    "<h2>WARNING:</h2>\n",
    "Be careful about the performances: your function will have to manage 150 random tests with arrays of \n",
    "length between 10000 and 20000 and size of the window between 1000 and 10000!\n",
    "\"\"\"\n",
    "\n",
    "from collections import Counter # 'collections.Counter' will be used to initialize the dictionary with \n",
    "# elements as keys and their occurrences as values\n",
    "\n",
    "def count_contiguous_distinct(k, arr):\n",
    "    final = [] # It is the list container, which will store the amount of distinct numbers\n",
    "    myDict = dict(Counter(arr[:k])) # The dictionary is created\n",
    "    final.append(len(myDict)) # The first amount is appended\n",
    "    i = 0\n",
    "    j = k\n",
    "    # We are going to use the 'while' loop to figure out the length of the dictionary within each iteration\n",
    "    # through the subtraction of the first element and addition of the last one:\n",
    "    while j < len(arr):\n",
    "        myDict[arr[i]] -= 1 # The first element is removed\n",
    "        if myDict[arr[i]] == 0:\n",
    "            del myDict[arr[i]] # The case, when the 'key-value' pair is deleted from the dictionary\n",
    "        if arr[j] in myDict: # The last element is added\n",
    "            myDict[arr[j]] += 1\n",
    "        else:\n",
    "            myDict[arr[j]] = 1\n",
    "        final.append(len(myDict)) # The length of the dictionary is appended to the list container\n",
    "        i += 1\n",
    "        j += 1\n",
    "    return final # The final list with all numbers of distinct elements is returned\n",
    "\n",
    "count_contiguous_distinct(4, [1, 2, 1, 3, 4, 2, 3])"
   ]
  }
 ],
 "metadata": {
  "kernelspec": {
   "display_name": "Python 3 (ipykernel)",
   "language": "python",
   "name": "python3"
  },
  "language_info": {
   "codemirror_mode": {
    "name": "ipython",
    "version": 3
   },
   "file_extension": ".py",
   "mimetype": "text/x-python",
   "name": "python",
   "nbconvert_exporter": "python",
   "pygments_lexer": "ipython3",
   "version": "3.9.7"
  }
 },
 "nbformat": 4,
 "nbformat_minor": 5
}
