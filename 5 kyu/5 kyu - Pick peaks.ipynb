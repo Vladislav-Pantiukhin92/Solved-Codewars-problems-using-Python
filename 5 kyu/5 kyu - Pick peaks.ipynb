{
 "cells": [
  {
   "cell_type": "markdown",
   "id": "c5f795ed",
   "metadata": {},
   "source": [
    "### Pick peaks - 5 kyu, Codewars/Python"
   ]
  },
  {
   "cell_type": "code",
   "execution_count": 2,
   "id": "e184cc80",
   "metadata": {},
   "outputs": [
    {
     "data": {
      "text/plain": [
       "{'pos': [2, 4], 'peaks': [3, 2]}"
      ]
     },
     "execution_count": 2,
     "metadata": {},
     "output_type": "execute_result"
    }
   ],
   "source": [
    "\"\"\"\n",
    "In this kata, you will write a function that returns the positions and the values of the \"peaks\" \n",
    "(or local maxima) of a numeric array.\n",
    "For example, the array arr = [0, 1, 2, 5, 1, 0] has a peak at position 3 with a value of 5 \n",
    "(since arr[3] equals 5).\n",
    "\n",
    "The output will be returned as an object with two properties: pos and peaks. Both of these properties \n",
    "should be arrays. If there is no peak in the given array, then the output should be {pos: [], peaks: []}.\n",
    "\n",
    "Example: pickPeaks([3, 2, 3, 6, 4, 1, 2, 3, 2, 1, 2, 3]) should return {pos: [3, 7], \n",
    "peaks: [6, 3]} (or equivalent in other languages).\n",
    "\n",
    "All input arrays will be valid integer arrays (although it could still be empty), so you won't need \n",
    "to validate the input.\n",
    "\n",
    "The first and last elements of the array will not be considered as peaks (in the context of \n",
    "a mathematical function, we don't know what is after and before and therefore, we don't know if it is \n",
    "a peak or not).\n",
    "\n",
    "Also, beware of plateaus !!! [1, 2, 2, 2, 1] has a peak while [1, 2, 2, 2, 3] and [1, 2, 2, 2, 2] do not. \n",
    "In case of a plateau-peak, please only return the position and value of the beginning of the plateau. \n",
    "For example: pickPeaks([1, 2, 2, 2, 1]) returns {pos: [1], peaks: [2]} (or equivalent in other languages)\n",
    "\"\"\"\n",
    "\n",
    "from queue import LifoQueue\n",
    "from operator import *\n",
    "\n",
    "def pick_peaks(arr):\n",
    "    if len(arr) < 3: # If the length of the given input array < 3 - we return the default result\n",
    "        return {\"pos\": [], \"peaks\": []}\n",
    "    myArray = arr.copy() # Let's preserve the original composition of the given input array\n",
    "    lst = LifoQueue() # The stack structure is going to be used to solve the problem\n",
    "    final = [] # It is the list container, which will store the change of values ('+', '0', '-')\n",
    "    index_count = -1 # The initial index dimension\n",
    "    indices = [] # It is the list container, which will store indices of peaks\n",
    "    while arr: # The loop is valid, while the array contains elements\n",
    "        curElem = arr.pop(0)\n",
    "        if lst.empty(): # The case, when the stack structure is empty\n",
    "            lst.put(curElem)\n",
    "            index_count += 1\n",
    "        else: # The case, when the stack structure is not empty\n",
    "            if lst.queue[-1] < curElem: # When the popped element is larger than the previous one\n",
    "                final.append(\"+\") # The change is positive\n",
    "                lst.put(curElem)\n",
    "                index_count += 1\n",
    "            elif eq(lst.queue[-1], curElem): # When the previous element and the popped one are equal\n",
    "                final.append(\"0\") # The change is neutral\n",
    "                lst.put(curElem)\n",
    "                index_count += 1\n",
    "            else: # When the popped element is smaller than the previous one\n",
    "                if not final:\n",
    "                    lst.put(curElem)\n",
    "                    index_count += 1\n",
    "                    final.append(\"-\") # The change is negative\n",
    "                elif final[-1] == \"+\": # The case, when the peak is identified\n",
    "                    indices.append(index_count) # The list container will store the peak's index\n",
    "                    lst.put(curElem)\n",
    "                    final.append(\"-\")\n",
    "                    index_count += 1\n",
    "                elif final[-1] == \"0\": # The case of the plateau-peak\n",
    "                    i = index_count\n",
    "                    j = len(final) - 1\n",
    "                    while j >= 0 and eq(final[j], \"0\"): # This way we are going to find the initial element of this \n",
    "                    # plateau-peak\n",
    "                        j -= 1\n",
    "                        i -= 1\n",
    "                    if final[j] == \"+\":\n",
    "                        indices.append(i) # The index of the plateau-peak is appended\n",
    "                    lst.put(curElem)\n",
    "                    final.append(\"-\")\n",
    "                    index_count += 1\n",
    "                else:\n",
    "                    lst.put(curElem)\n",
    "                    final.append(\"-\")\n",
    "                    index_count += 1\n",
    "    exactElem = [myArray[i] for i in indices] # Through all the appended indices we are getting the real elements\n",
    "    final = {\"pos\": indices, \"peaks\": exactElem} # The final dictionary, which is to be returned\n",
    "    return final # The dictionary with positions and real elements is returned\n",
    "\n",
    "pick_peaks([2,1,3,1,2,2,2,2,1])"
   ]
  }
 ],
 "metadata": {
  "kernelspec": {
   "display_name": "Python 3 (ipykernel)",
   "language": "python",
   "name": "python3"
  },
  "language_info": {
   "codemirror_mode": {
    "name": "ipython",
    "version": 3
   },
   "file_extension": ".py",
   "mimetype": "text/x-python",
   "name": "python",
   "nbconvert_exporter": "python",
   "pygments_lexer": "ipython3",
   "version": "3.9.7"
  }
 },
 "nbformat": 4,
 "nbformat_minor": 5
}
