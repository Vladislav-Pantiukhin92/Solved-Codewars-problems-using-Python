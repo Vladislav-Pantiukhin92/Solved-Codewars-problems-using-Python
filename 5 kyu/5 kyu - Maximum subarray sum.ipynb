{
 "cells": [
  {
   "cell_type": "markdown",
   "id": "976c4f32",
   "metadata": {},
   "source": [
    "### Maximum subarray sum - 5 kyu, Codewars/Python"
   ]
  },
  {
   "cell_type": "code",
   "execution_count": 742,
   "id": "a276e00d",
   "metadata": {},
   "outputs": [
    {
     "data": {
      "text/plain": [
       "6"
      ]
     },
     "execution_count": 742,
     "metadata": {},
     "output_type": "execute_result"
    }
   ],
   "source": [
    "\"\"\"\n",
    "The maximum sum subarray problem consists in finding the maximum sum of a contiguous subsequence in an array or list of integers:\n",
    "\n",
    "max_sequence([-2, 1, -3, 4, -1, 2, 1, -5, 4])\n",
    "# should be 6: [4, -1, 2, 1]\n",
    "Easy case is when the list is made up of only positive numbers and the maximum sum is the sum of the whole array. If the list is made up of only negative numbers, return 0 instead.\n",
    "Empty list is considered to have zero greatest sum. Note that the empty list or array is also a valid sublist/subarray.\n",
    "\"\"\"\n",
    "\n",
    "def max_sequence(arr):\n",
    "    # We are going to verify the sum of all possible substrings, using the for and while loops\n",
    "    # Two loops will help to implement the direct and reversal mutual iteration\n",
    "    sum_number = 0\n",
    "    for i in range(len(arr)): \n",
    "        n = len(arr) - 1\n",
    "        while n != i:\n",
    "            if sum(arr[i:n + 1]) > sum_number:\n",
    "                sum_number = sum(arr[i:n + 1])\n",
    "            n -= 1\n",
    "    return sum_number\n",
    "\n",
    "max_sequence([-2, 1, -3, 4, -1, 2, 1, -5, 4])"
   ]
  }
 ],
 "metadata": {
  "kernelspec": {
   "display_name": "Python 3",
   "language": "python",
   "name": "python3"
  },
  "language_info": {
   "codemirror_mode": {
    "name": "ipython",
    "version": 3
   },
   "file_extension": ".py",
   "mimetype": "text/x-python",
   "name": "python",
   "nbconvert_exporter": "python",
   "pygments_lexer": "ipython3",
   "version": "3.8.8"
  }
 },
 "nbformat": 4,
 "nbformat_minor": 5
}
