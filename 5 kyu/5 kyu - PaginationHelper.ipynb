{
 "cells": [
  {
   "cell_type": "markdown",
   "id": "dcbae4b3",
   "metadata": {},
   "source": [
    "### PaginationHelper - 5 kyu, Codewars/Python"
   ]
  },
  {
   "cell_type": "code",
   "execution_count": null,
   "id": "6b3c9c4c",
   "metadata": {},
   "outputs": [],
   "source": [
    "\"\"\"\n",
    "For this exercise you will be strengthening your page-fu mastery. You will complete the PaginationHelper \n",
    "class, which is a utility class helpful for querying paging information related to an array.\n",
    "The class is designed to take in an array of values and an integer indicating how many items will be \n",
    "allowed per each page. The types of values contained within the collection/array are not relevant.\n",
    "The following are some examples of how this class is used:\n",
    "\n",
    "helper = PaginationHelper(['a','b','c','d','e','f'], 4)\n",
    "helper.page_count() # should == 2\n",
    "helper.item_count() # should == 6\n",
    "helper.page_item_count(0)  # should == 4\n",
    "helper.page_item_count(1) # last page - should == 2\n",
    "helper.page_item_count(2) # should == -1 since the page is invalid\n",
    "\n",
    "# page_index takes an item index and returns the page that it belongs on\n",
    "helper.page_index(5) # should == 1 (zero based index)\n",
    "helper.page_index(2) # should == 0\n",
    "helper.page_index(20) # should == -1\n",
    "helper.page_index(-10) # should == -1 because negative indexes are invalid\n",
    "\"\"\"\n",
    "\n",
    "class PaginationHelper:\n",
    "    def __init__(self, collection, items_per_page): # Constructor\n",
    "        self.collection = collection # The list with values\n",
    "        self.items_per_page = items_per_page # The number of elements per page\n",
    "\n",
    "    def item_count(self): # The number of elements is the length of the list\n",
    "        length = len(self.collection)\n",
    "        return length\n",
    "\n",
    "    def page_count(self): # The function, aimed at calculating the number of relevant pages\n",
    "        length = len(self.collection) # The length of the list with elements\n",
    "        division_result = length / self.items_per_page # To obtain the number we should divide the length by \n",
    "        # the number of items per page\n",
    "        if division_result.is_integer(): # If the result is an integer - we return this integer\n",
    "            return int(division_result)\n",
    "        return int(division_result) + 1 # Alternatively, we return the integer, increased by 1\n",
    "\n",
    "    def page_item_count(self, page_index): # The function, aimed at calculating the number of items within the \n",
    "        # specific page\n",
    "        number_of_pages = self.page_count()\n",
    "        if page_index >= number_of_pages: # We need to return -1, if the page index is beyond the number of pages\n",
    "            return -1\n",
    "        length = len(self.collection)\n",
    "        if page_index == number_of_pages - 1: # The most difficult case - when the page index is the last one - \n",
    "            # so it is necessary to calculate the remaining items:\n",
    "            result = length - ((number_of_pages - 1) * self.items_per_page)\n",
    "            return result\n",
    "        return self.items_per_page # Alternatively, we are going to return the default value - items per page\n",
    "        \n",
    "    def page_index(self, item_index): # The function, aimed at identifying the page index\n",
    "        if item_index < 0: # Verification of the valid index, we return -1, if item_index is smaller than 0\n",
    "            return -1\n",
    "        length = len(self.collection)\n",
    "        if item_index >= length: # The same return result (-1) if item_index is beyond the length of the list\n",
    "            return -1\n",
    "        # The major stage is to iterate over the list, using the 'window', the length of which is the number of items per page\n",
    "        page_index = 0\n",
    "        item_count = self.items_per_page\n",
    "        while item_count - 1 < item_index:\n",
    "            page_index += 1\n",
    "            item_count += self.items_per_page\n",
    "        return page_index"
   ]
  }
 ],
 "metadata": {
  "kernelspec": {
   "display_name": "Python 3 (ipykernel)",
   "language": "python",
   "name": "python3"
  },
  "language_info": {
   "codemirror_mode": {
    "name": "ipython",
    "version": 3
   },
   "file_extension": ".py",
   "mimetype": "text/x-python",
   "name": "python",
   "nbconvert_exporter": "python",
   "pygments_lexer": "ipython3",
   "version": "3.9.7"
  }
 },
 "nbformat": 4,
 "nbformat_minor": 5
}
