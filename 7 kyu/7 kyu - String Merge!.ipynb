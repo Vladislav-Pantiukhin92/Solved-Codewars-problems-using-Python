{
 "cells": [
  {
   "cell_type": "markdown",
   "id": "20055c32",
   "metadata": {},
   "source": [
    "### String Merge! - 7 kyu, Codewars/Python"
   ]
  },
  {
   "cell_type": "code",
   "execution_count": 16,
   "id": "2568187c",
   "metadata": {},
   "outputs": [
    {
     "data": {
      "text/plain": [
       "'jasamson'"
      ]
     },
     "execution_count": 16,
     "metadata": {},
     "output_type": "execute_result"
    }
   ],
   "source": [
    "\"\"\"\n",
    "Given two words and a letter, return a single word that's a combination of both words, merged at the point where the given letter first appears in each word. The returned word should have the beginning of the first word and the ending of the second, with the dividing letter in the middle. You can assume both words will contain the dividing letter.\n",
    "\n",
    "Examples\n",
    "(\"hello\", \"world\", \"l\")       ==>  \"held\"\n",
    "(\"coding\", \"anywhere\", \"n\")   ==>  \"codinywhere\"\n",
    "(\"jason\", \"samson\", \"s\")      ==>  \"jasamson\"\n",
    "(\"wonderful\", \"people\", \"e\")  ==>  \"wondeople\"\n",
    "\"\"\"\n",
    "\n",
    "def string_merge(string1, string2, letter):\n",
    "    string1 = string1.split(letter)[0]\n",
    "    string2 = \"\".join(string2.split(letter, 1)[1:])\n",
    "    return string1 + letter + string2\n",
    "\n",
    "string_merge(\"jason\", \"samson\", \"s\")"
   ]
  }
 ],
 "metadata": {
  "kernelspec": {
   "display_name": "Python 3",
   "language": "python",
   "name": "python3"
  },
  "language_info": {
   "codemirror_mode": {
    "name": "ipython",
    "version": 3
   },
   "file_extension": ".py",
   "mimetype": "text/x-python",
   "name": "python",
   "nbconvert_exporter": "python",
   "pygments_lexer": "ipython3",
   "version": "3.8.8"
  }
 },
 "nbformat": 4,
 "nbformat_minor": 5
}
