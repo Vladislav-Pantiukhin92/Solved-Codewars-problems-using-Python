{
 "cells": [
  {
   "cell_type": "markdown",
   "id": "269d7ac0",
   "metadata": {},
   "source": [
    "### Swap items in a dictionary - 7 kyu, Codewars/Python"
   ]
  },
  {
   "cell_type": "code",
   "execution_count": 600,
   "id": "5991ea4e",
   "metadata": {},
   "outputs": [
    {
     "data": {
      "text/plain": [
       "{'21': ['Age'], 'Cream': ['Ice', 'Light', 'Double']}"
      ]
     },
     "execution_count": 600,
     "metadata": {},
     "output_type": "execute_result"
    }
   ],
   "source": [
    "from itertools import groupby\n",
    "from operator import *\n",
    "\n",
    "A = {'Ice': 'Cream', 'Age': '21', 'Light': 'Cream', 'Double': 'Cream'}\n",
    "\n",
    "def switch_dict(my_dict):\n",
    "    # We transform the dictionary into the list of tuples with key-value pairs\n",
    "    my_dict = sorted(list(my_dict.items()), key=itemgetter(1)) # We execute the value-oriented sort\n",
    "    final = {} # New dictionary is created\n",
    "    key_func = lambda x: x[1] # We use the 'groupby' to find unique keys and lists of values (former keys)\n",
    "    for key, group in groupby(my_dict, key=key_func):\n",
    "        final[key] = [i[0] for i in list(group)]\n",
    "    return final\n",
    "    \n",
    "switch_dict(A)"
   ]
  }
 ],
 "metadata": {
  "kernelspec": {
   "display_name": "Python 3",
   "language": "python",
   "name": "python3"
  },
  "language_info": {
   "codemirror_mode": {
    "name": "ipython",
    "version": 3
   },
   "file_extension": ".py",
   "mimetype": "text/x-python",
   "name": "python",
   "nbconvert_exporter": "python",
   "pygments_lexer": "ipython3",
   "version": "3.8.8"
  }
 },
 "nbformat": 4,
 "nbformat_minor": 5
}
