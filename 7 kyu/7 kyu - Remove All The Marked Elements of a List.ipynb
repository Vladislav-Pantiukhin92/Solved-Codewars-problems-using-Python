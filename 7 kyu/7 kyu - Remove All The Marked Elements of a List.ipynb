{
 "cells": [
  {
   "cell_type": "markdown",
   "id": "edba3071",
   "metadata": {},
   "source": [
    "### Remove All The Marked Elements of a List - 7 kyu, Codewars/Python"
   ]
  },
  {
   "cell_type": "code",
   "execution_count": 1,
   "id": "cd774f92",
   "metadata": {},
   "outputs": [],
   "source": [
    "\"\"\"\n",
    "Define a method/function that removes from a given array of integers all the values contained in a second array.\n",
    "\n",
    "Examples (input -> output):\n",
    "* [1, 1, 2 ,3 ,1 ,2 ,3 ,4], [1, 3] -> [2, 2, 4]\n",
    "* [1, 1, 2 ,3 ,1 ,2 ,3 ,4, 4, 3 ,5, 6, 7, 2, 8], [1, 3, 4, 2] -> [5, 6 ,7 ,8]\n",
    "* [8, 2, 7, 2, 3, 4, 6, 5, 4, 4, 1, 2 , 3], [2, 4, 3] -> [8, 7, 6, 5, 1]\n",
    "Enjoy it!!\n",
    "\"\"\"\n",
    "\n",
    "class List:\n",
    "    def remove_(self, integer_list, values_list):\n",
    "        final_list = list(filter(lambda x: x not in values_list, integer_list))\n",
    "        return final_list "
   ]
  }
 ],
 "metadata": {
  "kernelspec": {
   "display_name": "Python 3",
   "language": "python",
   "name": "python3"
  },
  "language_info": {
   "codemirror_mode": {
    "name": "ipython",
    "version": 3
   },
   "file_extension": ".py",
   "mimetype": "text/x-python",
   "name": "python",
   "nbconvert_exporter": "python",
   "pygments_lexer": "ipython3",
   "version": "3.8.8"
  }
 },
 "nbformat": 4,
 "nbformat_minor": 5
}
