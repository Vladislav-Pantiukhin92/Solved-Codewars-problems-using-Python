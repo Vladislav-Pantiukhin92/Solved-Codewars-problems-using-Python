{
 "cells": [
  {
   "cell_type": "markdown",
   "id": "87fe1aa4",
   "metadata": {},
   "source": [
    "### Return the closest number multiple of 10 - 7 kyu, Codewars/Python"
   ]
  },
  {
   "cell_type": "code",
   "execution_count": 251,
   "id": "01f87904",
   "metadata": {},
   "outputs": [
    {
     "data": {
      "text/plain": [
       "30"
      ]
     },
     "execution_count": 251,
     "metadata": {},
     "output_type": "execute_result"
    }
   ],
   "source": [
    "\"\"\"\n",
    "Given a number return the closest number to it that is divisible by 10.\n",
    "\n",
    "Example input:\n",
    "\n",
    "22\n",
    "25\n",
    "37\n",
    "\n",
    "Expected output:\n",
    "\n",
    "20\n",
    "30\n",
    "40\n",
    "\"\"\"\n",
    "\n",
    "from math import *\n",
    "\n",
    "def closest_multiple_10(i):\n",
    "    if i % 5 == 0:\n",
    "        i += 1\n",
    "        return round(i / 10) * 10\n",
    "    return round(i / 10) * 10\n",
    "    \n",
    "closest_multiple_10(25)"
   ]
  }
 ],
 "metadata": {
  "kernelspec": {
   "display_name": "Python 3",
   "language": "python",
   "name": "python3"
  },
  "language_info": {
   "codemirror_mode": {
    "name": "ipython",
    "version": 3
   },
   "file_extension": ".py",
   "mimetype": "text/x-python",
   "name": "python",
   "nbconvert_exporter": "python",
   "pygments_lexer": "ipython3",
   "version": "3.8.8"
  }
 },
 "nbformat": 4,
 "nbformat_minor": 5
}
