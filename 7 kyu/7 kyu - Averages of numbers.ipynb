{
 "cells": [
  {
   "cell_type": "markdown",
   "id": "96da07bd",
   "metadata": {},
   "source": [
    "### Averages of numbers - 7 kyu, Codewars/Python"
   ]
  },
  {
   "cell_type": "code",
   "execution_count": 5,
   "id": "6efd2393",
   "metadata": {},
   "outputs": [
    {
     "data": {
      "text/plain": [
       "[2, 4, 3, -4.5]"
      ]
     },
     "execution_count": 5,
     "metadata": {},
     "output_type": "execute_result"
    }
   ],
   "source": [
    "\"\"\"\n",
    "#Get the averages of these numbers\n",
    "Write a method, that gets an array of integer-numbers and return an array of the averages of each \n",
    "integer-number and his follower, if there is one.\n",
    "Example:\n",
    "\n",
    "Input:  [ 1, 3, 5, 1, -10]\n",
    "Output:  [ 2, 4, 3, -4.5]\n",
    "If the array has 0 or 1 values or is null, your method should return an empty array.\n",
    "\"\"\"\n",
    "\n",
    "from statistics import mean # Calculation of the mean value\n",
    "\n",
    "def averages(arr):\n",
    "    if not arr or len(arr) < 2: # If the given input array is empty or contains only 1 element - we return an \n",
    "        # empty list\n",
    "        return []\n",
    "    final = [] # The list container, which will store median values\n",
    "    i = 0\n",
    "    j = 1\n",
    "    while j < len(arr):\n",
    "    # Through the 'while loop' we find the median value of two adjacent numeric elements\n",
    "        average = mean([arr[i], arr[j]])\n",
    "        final.append(average)\n",
    "        i += 1\n",
    "        j += 1\n",
    "    return final # The final list with median values is returned\n",
    "\n",
    "averages([1, 3, 5, 1, -10])"
   ]
  }
 ],
 "metadata": {
  "kernelspec": {
   "display_name": "Python 3 (ipykernel)",
   "language": "python",
   "name": "python3"
  },
  "language_info": {
   "codemirror_mode": {
    "name": "ipython",
    "version": 3
   },
   "file_extension": ".py",
   "mimetype": "text/x-python",
   "name": "python",
   "nbconvert_exporter": "python",
   "pygments_lexer": "ipython3",
   "version": "3.9.7"
  }
 },
 "nbformat": 4,
 "nbformat_minor": 5
}
