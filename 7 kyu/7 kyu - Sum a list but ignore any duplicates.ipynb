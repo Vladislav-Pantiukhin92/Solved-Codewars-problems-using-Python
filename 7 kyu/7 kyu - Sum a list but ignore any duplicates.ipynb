{
 "cells": [
  {
   "cell_type": "markdown",
   "id": "c5dcfe6d",
   "metadata": {},
   "source": [
    "### Sum a list but ignore any duplicates - 7 kyu, Codewars/Python"
   ]
  },
  {
   "cell_type": "code",
   "execution_count": 3,
   "id": "45f5bd6d",
   "metadata": {},
   "outputs": [
    {
     "data": {
      "text/plain": [
       "10"
      ]
     },
     "execution_count": 3,
     "metadata": {},
     "output_type": "execute_result"
    }
   ],
   "source": [
    "\"\"\"\n",
    "Please write a function that sums a list, but ignores any duplicate items in the list.\n",
    "For instance, for the list [3, 4, 3, 6] , the function should return 10.\n",
    "\"\"\"\n",
    "\n",
    "from itertools import groupby # 'itertools.groupby' will identify duplicates and omit these numbers\n",
    "\n",
    "def sum_no_duplicates(l):\n",
    "    l = sorted(l) # 'itertools.groupby' can be implemented only if the given input list is sorted\n",
    "    total = 0 # The initial sum equals to 0\n",
    "    for key, group in groupby(l): # The 'key' is an element, and the 'group' is the list of duplicates\n",
    "        duplicates = list(group)\n",
    "        if len(duplicates) == 1: # If there is only one element (without duplicates), it is taken into account\n",
    "            total += key\n",
    "    return total # The total sum is returned\n",
    "\n",
    "sum_no_duplicates([3, 4, 3, 6])"
   ]
  }
 ],
 "metadata": {
  "kernelspec": {
   "display_name": "Python 3 (ipykernel)",
   "language": "python",
   "name": "python3"
  },
  "language_info": {
   "codemirror_mode": {
    "name": "ipython",
    "version": 3
   },
   "file_extension": ".py",
   "mimetype": "text/x-python",
   "name": "python",
   "nbconvert_exporter": "python",
   "pygments_lexer": "ipython3",
   "version": "3.9.7"
  }
 },
 "nbformat": 4,
 "nbformat_minor": 5
}
