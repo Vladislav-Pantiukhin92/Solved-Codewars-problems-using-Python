{
 "cells": [
  {
   "cell_type": "markdown",
   "id": "3be9e1fb",
   "metadata": {},
   "source": [
    "### Help the Fruit Guy - 7 kyu, Codewars/Python"
   ]
  },
  {
   "cell_type": "code",
   "execution_count": 12,
   "id": "e2e620fa",
   "metadata": {},
   "outputs": [
    {
     "data": {
      "text/plain": [
       "['apple', 'banana', 'apple']"
      ]
     },
     "execution_count": 12,
     "metadata": {},
     "output_type": "execute_result"
    }
   ],
   "source": [
    "\"\"\"\n",
    "Our fruit guy has a bag of fruit (represented as an array of strings) where some fruits are rotten. \n",
    "He wants to replace all the rotten pieces of fruit with fresh ones. For example, \n",
    "given [\"apple\",\"rottenBanana\",\"apple\"] the replaced array should be [\"apple\",\"banana\",\"apple\"]. \n",
    "Your task is to implement a method that accepts an array of strings containing fruits should returns \n",
    "an array of strings where all the rotten fruits are replaced by good ones.\n",
    "\n",
    "Notes\n",
    "If the array is null/nil/None or empty you should return empty array ([]).\n",
    "The rotten fruit name will be in this camelcase (rottenFruit).\n",
    "The returned array should be in lowercase.\n",
    "\"\"\"\n",
    "\n",
    "def remove_rotten(bag_of_fruits):\n",
    "    if not bag_of_fruits: # If the given input list is empty - we return an empty list\n",
    "        return []\n",
    "# Through the implementation of the 'map' function we are going to remove the 'rotten' part:\n",
    "    bag_of_fruits = list(map(lambda x: x.replace(\"rotten\", \"\"), bag_of_fruits))\n",
    "# Through the implementation of the 'map' function we are going to execute the lowercase conversion:\n",
    "    final = list(map(lambda x: x.casefold(), bag_of_fruits))\n",
    "    return final # The final list with lowercase fresh fruits is returned\n",
    "\n",
    "remove_rotten([\"apple\",\"rottenBanana\",\"apple\"])"
   ]
  }
 ],
 "metadata": {
  "kernelspec": {
   "display_name": "Python 3 (ipykernel)",
   "language": "python",
   "name": "python3"
  },
  "language_info": {
   "codemirror_mode": {
    "name": "ipython",
    "version": 3
   },
   "file_extension": ".py",
   "mimetype": "text/x-python",
   "name": "python",
   "nbconvert_exporter": "python",
   "pygments_lexer": "ipython3",
   "version": "3.9.7"
  }
 },
 "nbformat": 4,
 "nbformat_minor": 5
}
