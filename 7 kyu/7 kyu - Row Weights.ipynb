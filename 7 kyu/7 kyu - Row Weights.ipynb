{
 "cells": [
  {
   "cell_type": "markdown",
   "id": "85fd008e",
   "metadata": {},
   "source": [
    "### Row Weights - 7 kyu, Codewars/Python"
   ]
  },
  {
   "cell_type": "code",
   "execution_count": 41,
   "id": "55d624a2",
   "metadata": {},
   "outputs": [
    {
     "data": {
      "text/plain": [
       "(120, 140)"
      ]
     },
     "execution_count": 41,
     "metadata": {},
     "output_type": "execute_result"
    }
   ],
   "source": [
    "\"\"\"\n",
    "Several people are standing in a row divided into two teams.\n",
    "The first person goes into team 1, the second goes into team 2, the third goes into team 1, and so on.\n",
    "Given an array of positive integers (the weights of the people), return a new array/tuple of two integers, \n",
    "where the first one is the total weight of team 1, and the second one is the total weight of team 2.\n",
    "\"\"\"\n",
    "\n",
    "def row_weights(array):\n",
    "    first_team = 0 # The initial weight of the first team is 0\n",
    "    second_team = 0 # The initial weight of the second team is 0\n",
    "# With the help of the 'enumerate' function let's figure out the distribution of weights between the first \n",
    "# team and the second team:\n",
    "    for i, j in enumerate(array):\n",
    "        if i % 2 == 0: # If the index is even, the weight goes to the first team\n",
    "            first_team += j\n",
    "        else:\n",
    "            second_team += j # If the index is odd, the weight goes to the second team\n",
    "    return (first_team, second_team) # The tuple with the proper distribution of weights between the first \n",
    "# team and the second team is returned\n",
    "\n",
    "row_weights([50,60,70,80])"
   ]
  }
 ],
 "metadata": {
  "kernelspec": {
   "display_name": "Python 3 (ipykernel)",
   "language": "python",
   "name": "python3"
  },
  "language_info": {
   "codemirror_mode": {
    "name": "ipython",
    "version": 3
   },
   "file_extension": ".py",
   "mimetype": "text/x-python",
   "name": "python",
   "nbconvert_exporter": "python",
   "pygments_lexer": "ipython3",
   "version": "3.9.7"
  }
 },
 "nbformat": 4,
 "nbformat_minor": 5
}
