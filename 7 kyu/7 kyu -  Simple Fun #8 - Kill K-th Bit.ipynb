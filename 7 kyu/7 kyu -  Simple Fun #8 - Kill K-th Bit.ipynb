{
 "cells": [
  {
   "cell_type": "markdown",
   "id": "c5f795ed",
   "metadata": {},
   "source": [
    "### Simple Fun #8: Kill K-th Bit - 7 kyu, Codewars/Python"
   ]
  },
  {
   "cell_type": "code",
   "execution_count": 14,
   "id": "9e3879fa",
   "metadata": {},
   "outputs": [
    {
     "data": {
      "text/plain": [
       "33"
      ]
     },
     "execution_count": 14,
     "metadata": {},
     "output_type": "execute_result"
    }
   ],
   "source": [
    "\"\"\"\n",
    "In order to stop the Mad Coder evil genius you need to decipher the encrypted message he sent to his \n",
    "minions. The message contains several numbers that, when typed into a supercomputer, will launch a \n",
    "missile into the sky blocking out the sun, and making all the people on Earth grumpy and sad.\n",
    "You figured out that some numbers have a modified single digit in their binary representation. \n",
    "More specifically, in the given number n the kth bit from the right was initially set to 0, \n",
    "but its current value might be different. It's now up to you to write a function that will change \n",
    "the kth bit of n back to 0.\n",
    "\n",
    "Example\n",
    "For n = 37 and k = 3, the output should be 33.\n",
    "\n",
    "3710 = 1001012 ~> 1000012 = 3310\n",
    "\n",
    "For n = 37 and k = 4, the output should be 37.\n",
    "\n",
    "The 4th bit is 0 already (looks like the Mad Coder forgot to encrypt this number), \n",
    "so the answer is still 37.\n",
    "\n",
    "Input/Output\n",
    "[input] integer n\n",
    "Constraints: 0 ≤ n ≤ 231 - 1.\n",
    "\n",
    "[input] integer k\n",
    "The 1-based index of the changed bit (counting from the right).\n",
    "Constraints: 1 ≤ k ≤ 31.\n",
    "[output] an integer\n",
    "\"\"\"\n",
    "\n",
    "def kill_kth_bit(n, k):\n",
    "    final = list(bin(n).lstrip(\"0b\")) # First of all, let's create the binary representation of the given \n",
    "    # input number\n",
    "    if k > len(final): # If the location replacement parameter > the length of the binary representation - \n",
    "        # we return the original number\n",
    "        return n\n",
    "    final[-k] = \"0\" # The target location element is replaced with \"0\"\n",
    "    return int(\"\".join(final), 2) # The binary representation is transformed into the integer, which is finally returned\n",
    "\n",
    "kill_kth_bit(37, 3)"
   ]
  }
 ],
 "metadata": {
  "kernelspec": {
   "display_name": "Python 3 (ipykernel)",
   "language": "python",
   "name": "python3"
  },
  "language_info": {
   "codemirror_mode": {
    "name": "ipython",
    "version": 3
   },
   "file_extension": ".py",
   "mimetype": "text/x-python",
   "name": "python",
   "nbconvert_exporter": "python",
   "pygments_lexer": "ipython3",
   "version": "3.9.7"
  }
 },
 "nbformat": 4,
 "nbformat_minor": 5
}
