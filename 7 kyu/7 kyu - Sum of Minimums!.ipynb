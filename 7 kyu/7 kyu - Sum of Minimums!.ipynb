{
 "cells": [
  {
   "cell_type": "markdown",
   "id": "ed922db4",
   "metadata": {},
   "source": [
    "### Sum of Minimums! - 7 kyu, Codewars/Python"
   ]
  },
  {
   "cell_type": "code",
   "execution_count": 14,
   "id": "0d38c9e4",
   "metadata": {},
   "outputs": [
    {
     "data": {
      "text/plain": [
       "9"
      ]
     },
     "execution_count": 14,
     "metadata": {},
     "output_type": "execute_result"
    }
   ],
   "source": [
    "\"\"\"\n",
    "Given a 2D ( nested ) list ( array, vector, .. ) of size m * n, your task is to find the sum of the minimum values in each row.\n",
    "For Example:\n",
    "\n",
    "[ [ 1, 2, 3, 4, 5 ]        #  minimum value of row is 1\n",
    ", [ 5, 6, 7, 8, 9 ]        #  minimum value of row is 5\n",
    ", [ 20, 21, 34, 56, 100 ]  #  minimum value of row is 20\n",
    "]\n",
    "So the function should return 26 because the sum of the minimums is 1 + 5 + 20 = 26.\n",
    "Note: You will always be given a non-empty list containing positive values.\n",
    "\"\"\"\n",
    "\n",
    "def sum_of_minimums(numbers):\n",
    "    return sum(min(i) for i in numbers)\n",
    "    \n",
    "sum_of_minimums([[7,9,8,6,2], [6,3,5,4,3], [5,8,7,4,5]])"
   ]
  }
 ],
 "metadata": {
  "kernelspec": {
   "display_name": "Python 3 (ipykernel)",
   "language": "python",
   "name": "python3"
  },
  "language_info": {
   "codemirror_mode": {
    "name": "ipython",
    "version": 3
   },
   "file_extension": ".py",
   "mimetype": "text/x-python",
   "name": "python",
   "nbconvert_exporter": "python",
   "pygments_lexer": "ipython3",
   "version": "3.9.7"
  }
 },
 "nbformat": 4,
 "nbformat_minor": 5
}
