{
 "cells": [
  {
   "cell_type": "markdown",
   "id": "2af27492",
   "metadata": {},
   "source": [
    "### Sum even numbers - 7 kyu, Codewars/Python"
   ]
  },
  {
   "cell_type": "code",
   "execution_count": 54,
   "id": "5ddb076f",
   "metadata": {},
   "outputs": [
    {
     "data": {
      "text/plain": [
       "30"
      ]
     },
     "execution_count": 54,
     "metadata": {},
     "output_type": "execute_result"
    }
   ],
   "source": [
    "\"\"\"\n",
    "Complete the function that takes a sequence of numbers as single parameter. Your function must return \n",
    "the sum of the even values of this sequence.\n",
    "Only numbers without decimals like 4 or 4.0 can be even.\n",
    "The input is a sequence of numbers: integers and/or floats.\n",
    "Examples\n",
    "[4, 3, 1, 2, 5, 10, 6, 7, 9, 8]  -->  30   # because 4 + 2 + 10 + 6 + 8 = 30\n",
    "[]                               -->  0\n",
    "\n",
    "\"\"\"\n",
    "\n",
    "def sum_even_numbers(seq):\n",
    "    def filter_func(a): # It is the 'filter' function to find only the pertinent numeric elements\n",
    "        if isinstance(a, int) and a % 2 == 0: # A pertinent numeric element is an integer and an even number\n",
    "            return 1\n",
    "        return 0\n",
    "    total = sum(list(filter(filter_func, seq))) # Finally, we need to sum all even numbers and return the result\n",
    "    return total # The final result is returned\n",
    "\n",
    "sum_even_numbers([4, 3, 1, 2, 5, 10, 6, 7, 9, 8])"
   ]
  }
 ],
 "metadata": {
  "kernelspec": {
   "display_name": "Python 3 (ipykernel)",
   "language": "python",
   "name": "python3"
  },
  "language_info": {
   "codemirror_mode": {
    "name": "ipython",
    "version": 3
   },
   "file_extension": ".py",
   "mimetype": "text/x-python",
   "name": "python",
   "nbconvert_exporter": "python",
   "pygments_lexer": "ipython3",
   "version": "3.9.7"
  }
 },
 "nbformat": 4,
 "nbformat_minor": 5
}
