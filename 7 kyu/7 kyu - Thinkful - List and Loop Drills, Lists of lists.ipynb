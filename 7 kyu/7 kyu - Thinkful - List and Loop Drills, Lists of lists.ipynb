{
 "cells": [
  {
   "cell_type": "markdown",
   "id": "d012b099",
   "metadata": {},
   "source": [
    "### Thinkful - List and Loop Drills: Lists of lists - 7 kyu, Codewars/Python"
   ]
  },
  {
   "cell_type": "code",
   "execution_count": 9,
   "id": "9c17f935",
   "metadata": {},
   "outputs": [
    {
     "data": {
      "text/plain": [
       "3"
      ]
     },
     "execution_count": 9,
     "metadata": {},
     "output_type": "execute_result"
    }
   ],
   "source": [
    "\"\"\"\n",
    "You have a two-dimensional list in the following format:\n",
    "\n",
    "data = [[2, 5], [3, 4], [8, 7]]\n",
    "Each sub-list contains two items, and each item in the sub-lists is an integer.\n",
    "\n",
    "Write a function process_data()/processData() that processes each sub-list like so:\n",
    "\n",
    "[2, 5] --> 2 - 5 --> -3\n",
    "[3, 4] --> 3 - 4 --> -1\n",
    "[8, 7] --> 8 - 7 --> 1\n",
    "and then returns the product of all the processed sub-lists: -3 * -1 * 1 --> 3.\n",
    "\n",
    "For input, you can trust that neither the main list nor the sublists will be empty.\n",
    "\"\"\"\n",
    "\n",
    "from itertools import starmap # We import 'starmap' as it applies function on iterables within another iterable\n",
    "from functools import reduce # We import 'reduce' as it can apply function (in our case - product) on elements\n",
    "\n",
    "def process_data(data):\n",
    "    data = list(starmap(lambda x, y: x - y, data))\n",
    "    data = reduce(lambda x, y: x * y, data)\n",
    "    return data\n",
    "\n",
    "process_data([[2, 5], [3, 4], [8, 7]])"
   ]
  }
 ],
 "metadata": {
  "kernelspec": {
   "display_name": "Python 3",
   "language": "python",
   "name": "python3"
  },
  "language_info": {
   "codemirror_mode": {
    "name": "ipython",
    "version": 3
   },
   "file_extension": ".py",
   "mimetype": "text/x-python",
   "name": "python",
   "nbconvert_exporter": "python",
   "pygments_lexer": "ipython3",
   "version": "3.8.8"
  }
 },
 "nbformat": 4,
 "nbformat_minor": 5
}
