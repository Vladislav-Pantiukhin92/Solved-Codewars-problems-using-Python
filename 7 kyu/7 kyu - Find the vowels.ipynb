{
 "cells": [
  {
   "cell_type": "markdown",
   "id": "2afc547d",
   "metadata": {},
   "source": [
    "### Find the vowels - 7 kyu, Codewars/Python"
   ]
  },
  {
   "cell_type": "code",
   "execution_count": 3,
   "id": "2540cc0c",
   "metadata": {},
   "outputs": [
    {
     "data": {
      "text/plain": [
       "[1, 2, 4, 6]"
      ]
     },
     "execution_count": 3,
     "metadata": {},
     "output_type": "execute_result"
    }
   ],
   "source": [
    "\"\"\"\n",
    "We want to know the index of the vowels in a given word, for example, there are two vowels in the word super (the second and fourth letters).\n",
    "So given a string \"super\", we should return a list of [2, 4].\n",
    "\n",
    "Some examples:\n",
    "Mmmm  => []\n",
    "Super => [2,4]\n",
    "Apple => [1,5]\n",
    "YoMama -> [1,2,4,6]\n",
    "NOTES\n",
    "Vowels in this context refers to: a e i o u y (including upper case)\n",
    "This is indexed from [1..n] (not zero indexed!)\n",
    "\n",
    "\"\"\"\n",
    "def vowel_indices(word):\n",
    "    word = word.casefold()\n",
    "    return [i for i, j in enumerate(word, 1) if j in \"aeiouy\"]\n",
    "    \n",
    "vowel_indices(\"YoMama\")"
   ]
  }
 ],
 "metadata": {
  "kernelspec": {
   "display_name": "Python 3",
   "language": "python",
   "name": "python3"
  },
  "language_info": {
   "codemirror_mode": {
    "name": "ipython",
    "version": 3
   },
   "file_extension": ".py",
   "mimetype": "text/x-python",
   "name": "python",
   "nbconvert_exporter": "python",
   "pygments_lexer": "ipython3",
   "version": "3.8.8"
  }
 },
 "nbformat": 4,
 "nbformat_minor": 5
}
