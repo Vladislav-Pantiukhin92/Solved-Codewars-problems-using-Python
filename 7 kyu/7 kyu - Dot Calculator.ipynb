{
 "cells": [
  {
   "cell_type": "markdown",
   "id": "6518394d",
   "metadata": {},
   "source": [
    "### Dot Calculator - 7 kyu, Codewars/Python"
   ]
  },
  {
   "cell_type": "code",
   "execution_count": 251,
   "id": "72af953c",
   "metadata": {},
   "outputs": [
    {
     "data": {
      "text/plain": [
       "'..'"
      ]
     },
     "execution_count": 251,
     "metadata": {},
     "output_type": "execute_result"
    }
   ],
   "source": [
    "\"\"\"\n",
    "Dot Calculator\n",
    "You have to write a calculator that receives strings for input. The dots will represent the number in the equation. There will be dots on one side, an operator, and dots again after the operator. The dots and the operator will be separated by one space.\n",
    "\n",
    "Here are the following valid operators :\n",
    "\n",
    "+ Addition\n",
    "- Subtraction\n",
    "* Multiplication\n",
    "// Integer Division\n",
    "Your Work (Task)\n",
    "You'll have to return a string that contains dots, as many the equation returns. If the result is 0, return the empty string. When it comes to subtraction, the first number will always be greater than or equal to the second number.\n",
    "\n",
    "Examples (Input => Output)\n",
    "* \"..... + ...............\" => \"....................\"\n",
    "* \"..... - ...\"             => \"..\"\n",
    "* \"..... - .\"               => \"....\"\n",
    "* \"..... * ...\"             => \"...............\"\n",
    "* \"..... * ..\"              => \"..........\"\n",
    "* \"..... // ..\"             => \"..\"\n",
    "* \"..... // .\"              => \".....\"\n",
    "* \". // ..\"                 => \"\"\n",
    "* \".. - ..\"                 => \"\"\n",
    "\n",
    "\"\"\"\n",
    "\n",
    "import re\n",
    "from operator import * # I will use functions, associated with the intrinsic operators of Python\n",
    "\n",
    "def calculator(txt):\n",
    "    # We are going to transform all the dots into the numeric representation through the length function\n",
    "    first_number = len(re.findall(r\"[.]+\", txt)[0]) \n",
    "    second_number = len(re.findall(r\"[.]+\", txt)[1])\n",
    "    if \"+\" in txt:\n",
    "        return add(first_number, second_number) * \".\" # Addition operator\n",
    "    elif \"-\" in txt:\n",
    "        return sub(first_number, second_number) * \".\" # Subtraction operator\n",
    "    elif \"*\" in txt:\n",
    "        return mul(first_number, second_number) * \".\" # Multiplication operator\n",
    "    else:\n",
    "        return floordiv(first_number, second_number) * \".\" # Floor division operator\n",
    "\n",
    "\n",
    "\n",
    "\n",
    "calculator(\"..... - ...\")"
   ]
  }
 ],
 "metadata": {
  "kernelspec": {
   "display_name": "Python 3",
   "language": "python",
   "name": "python3"
  },
  "language_info": {
   "codemirror_mode": {
    "name": "ipython",
    "version": 3
   },
   "file_extension": ".py",
   "mimetype": "text/x-python",
   "name": "python",
   "nbconvert_exporter": "python",
   "pygments_lexer": "ipython3",
   "version": "3.8.8"
  }
 },
 "nbformat": 4,
 "nbformat_minor": 5
}
