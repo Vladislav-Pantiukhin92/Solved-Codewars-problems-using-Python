{
 "cells": [
  {
   "cell_type": "markdown",
   "id": "d32f61c3",
   "metadata": {},
   "source": [
    "### Check the exam - 7 kyu, Codewars/Python"
   ]
  },
  {
   "cell_type": "code",
   "execution_count": 16,
   "id": "a7b2ca8e",
   "metadata": {},
   "outputs": [
    {
     "data": {
      "text/plain": [
       "6"
      ]
     },
     "execution_count": 16,
     "metadata": {},
     "output_type": "execute_result"
    }
   ],
   "source": [
    "\"\"\"\n",
    "The first input array is the key to the correct answers to an exam, like [\"a\", \"a\", \"b\", \"d\"]. The second one contains a student's submitted answers.\n",
    "The two arrays are not empty and are the same length. Return the score for this array of answers, giving +4 for each correct answer, -1 for each incorrect answer, and +0 for each blank answer, represented as an empty string (in C the space character is used).\n",
    "If the score < 0, return 0.\n",
    "For example:\n",
    "\n",
    "checkExam([\"a\", \"a\", \"b\", \"b\"], [\"a\", \"c\", \"b\", \"d\"]) → 6\n",
    "checkExam([\"a\", \"a\", \"c\", \"b\"], [\"a\", \"a\", \"b\",  \"\"]) → 7\n",
    "checkExam([\"a\", \"a\", \"b\", \"c\"], [\"a\", \"a\", \"b\", \"c\"]) → 16\n",
    "checkExam([\"b\", \"c\", \"b\", \"a\"], [\"\",  \"a\", \"a\", \"c\"]) → 0\n",
    "\"\"\"\n",
    "\n",
    "def check_exam(arr1, arr2):\n",
    "    # We are going to launch two pointers for both lists\n",
    "    i = 0 # First pointer\n",
    "    j = 0 # Second pointer\n",
    "    score = 0\n",
    "    # While moving parallel pointers, we are going to make parallel comparisons\n",
    "    while i < len(arr1):\n",
    "        if arr1[i] == arr2[j]:\n",
    "            score += 4\n",
    "        else:\n",
    "            if arr2[j]:\n",
    "                score -= 1 # The case with '+0 scores' is not included, because it doesn't make sense\n",
    "        i += 1\n",
    "        j += 1\n",
    "        \n",
    "    if score < 0:\n",
    "        return 0\n",
    "    return score\n",
    "                   \n",
    "check_exam([\"a\", \"a\", \"b\", \"b\"], [\"a\", \"c\", \"b\", \"d\"])"
   ]
  }
 ],
 "metadata": {
  "kernelspec": {
   "display_name": "Python 3 (ipykernel)",
   "language": "python",
   "name": "python3"
  },
  "language_info": {
   "codemirror_mode": {
    "name": "ipython",
    "version": 3
   },
   "file_extension": ".py",
   "mimetype": "text/x-python",
   "name": "python",
   "nbconvert_exporter": "python",
   "pygments_lexer": "ipython3",
   "version": "3.9.7"
  }
 },
 "nbformat": 4,
 "nbformat_minor": 5
}
