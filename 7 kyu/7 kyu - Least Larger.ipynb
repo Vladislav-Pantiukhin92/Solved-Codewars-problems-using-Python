{
 "cells": [
  {
   "cell_type": "markdown",
   "id": "e91087ec",
   "metadata": {},
   "source": [
    "### Least Larger - 7 kyu, Codewars/Python"
   ]
  },
  {
   "cell_type": "code",
   "execution_count": 380,
   "id": "ff565397",
   "metadata": {},
   "outputs": [
    {
     "data": {
      "text/plain": [
       "3"
      ]
     },
     "execution_count": 380,
     "metadata": {},
     "output_type": "execute_result"
    }
   ],
   "source": [
    "\"\"\"\n",
    "Given an array of numbers and an index, return either the index of the smallest number \n",
    "that is larger than the element at the given index, or -1 if there is no such index \n",
    "( or, where applicable, Nothing or a similarly empty value ).\n",
    "\n",
    "Notes\n",
    "Multiple correct answers may be possible. In this case, return any one of them.\n",
    "The given index will be inside the given array.\n",
    "The given array will, therefore, never be empty.\n",
    "\n",
    "Example\n",
    "least_larger( [4, 1, 3, 5, 6], 0 )  ->  3\n",
    "least_larger( [4, 1, 3, 5, 6], 4 )  -> -1\n",
    "\"\"\"\n",
    "\n",
    "def least_larger(a, i):\n",
    "    if not any(j > a[i] for j in a): # If there are no bigger numbers - return -1 (through 'any' function)\n",
    "        return -1\n",
    "    return a.index(min([j for j in a if j > a[i]])) # Return the min number (its index) among the list of bigger numbers\n",
    "    \n",
    "least_larger([4, 1, 3, 5, 6], 0)"
   ]
  }
 ],
 "metadata": {
  "kernelspec": {
   "display_name": "Python 3 (ipykernel)",
   "language": "python",
   "name": "python3"
  },
  "language_info": {
   "codemirror_mode": {
    "name": "ipython",
    "version": 3
   },
   "file_extension": ".py",
   "mimetype": "text/x-python",
   "name": "python",
   "nbconvert_exporter": "python",
   "pygments_lexer": "ipython3",
   "version": "3.9.7"
  }
 },
 "nbformat": 4,
 "nbformat_minor": 5
}
