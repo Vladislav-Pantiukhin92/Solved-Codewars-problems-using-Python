{
 "cells": [
  {
   "cell_type": "markdown",
   "id": "2c456cbd",
   "metadata": {},
   "source": [
    "### Simple Fun #176: Reverse Letter - 7 kyu, Codewars/Python"
   ]
  },
  {
   "cell_type": "code",
   "execution_count": 66,
   "id": "07ce9c08",
   "metadata": {},
   "outputs": [
    {
     "data": {
      "text/plain": [
       "'nortlu'"
      ]
     },
     "execution_count": 66,
     "metadata": {},
     "output_type": "execute_result"
    }
   ],
   "source": [
    "\"\"\"\n",
    "Given a string str, reverse it omitting all non-alphabetic characters.\n",
    "Example\n",
    "For str = \"krishan\", the output should be \"nahsirk\".\n",
    "For str = \"ultr53o?n\", the output should be \"nortlu\".\n",
    "\n",
    "Input/Output\n",
    "[input] string str\n",
    "A string consists of lowercase latin letters, digits and symbols.\n",
    "\n",
    "[output] a string\n",
    "\"\"\"\n",
    "\n",
    "import re\n",
    "\n",
    "def reverse_letter(string):\n",
    "    # Combination of regular expressions + string reversal + \"\".join() string method\n",
    "    return \"\".join(re.findall(r\"[a-zA-Z]+\", string))[::-1]         \n",
    "    \n",
    "reverse_letter(\"ultr53o?n\")"
   ]
  }
 ],
 "metadata": {
  "kernelspec": {
   "display_name": "Python 3 (ipykernel)",
   "language": "python",
   "name": "python3"
  },
  "language_info": {
   "codemirror_mode": {
    "name": "ipython",
    "version": 3
   },
   "file_extension": ".py",
   "mimetype": "text/x-python",
   "name": "python",
   "nbconvert_exporter": "python",
   "pygments_lexer": "ipython3",
   "version": "3.9.7"
  }
 },
 "nbformat": 4,
 "nbformat_minor": 5
}
