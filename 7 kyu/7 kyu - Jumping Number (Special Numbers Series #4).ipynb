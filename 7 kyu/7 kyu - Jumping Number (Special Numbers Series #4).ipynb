{
 "cells": [
  {
   "cell_type": "markdown",
   "id": "565f766b",
   "metadata": {},
   "source": [
    "### Jumping Number (Special Numbers Series #4) - 7 kyu, Codewars/Python"
   ]
  },
  {
   "cell_type": "code",
   "execution_count": 13,
   "id": "25f25251",
   "metadata": {},
   "outputs": [
    {
     "data": {
      "text/plain": [
       "'Not!!'"
      ]
     },
     "execution_count": 13,
     "metadata": {},
     "output_type": "execute_result"
    }
   ],
   "source": [
    "\"\"\"\n",
    "Jumping number is the number that All adjacent digits in it differ by 1.\n",
    "Given a number, Find if it is Jumping or not.\n",
    "\n",
    "Number passed is always Positive.\n",
    "Return the result as String.\n",
    "The difference between ‘9’ and ‘0’ is not considered as 1.\n",
    "All single digit numbers are considered as Jumping numbers.\n",
    "\n",
    "jumpingNumber(79) ==> return \"Not!!\"\n",
    "\"\"\"\n",
    "\n",
    "def jumping_number(number):\n",
    "    if number < 10: # If it is a single-digit number - it is always the jumping number!\n",
    "        return \"Jumping!!\"\n",
    "    # Otherwise, we need to split the given input number into digits and calculate the distance between all the \n",
    "    # adjacent digits, using two pointers:\n",
    "    numbers_lst = list(map(int, list(str(number))))\n",
    "    # Let's use two pointers:\n",
    "    i = 0\n",
    "    j = 1\n",
    "    while j < len(numbers_lst):\n",
    "        # The distance is the absolute value of the subtraction operation:\n",
    "        if abs(numbers_lst[i] - numbers_lst[j]) != 1: # If the obtained distance doesn't equal to 1, it is not a \n",
    "            # jumping number!\n",
    "            return \"Not!!\"\n",
    "        i += 1\n",
    "        j += 1\n",
    "    return \"Jumping!!\" # Following the 'while loop', if the distance always meets the envisaged requirement - it is \n",
    "# a jumping number!\n",
    "\n",
    "jumping_number(79)"
   ]
  }
 ],
 "metadata": {
  "kernelspec": {
   "display_name": "Python 3 (ipykernel)",
   "language": "python",
   "name": "python3"
  },
  "language_info": {
   "codemirror_mode": {
    "name": "ipython",
    "version": 3
   },
   "file_extension": ".py",
   "mimetype": "text/x-python",
   "name": "python",
   "nbconvert_exporter": "python",
   "pygments_lexer": "ipython3",
   "version": "3.9.7"
  }
 },
 "nbformat": 4,
 "nbformat_minor": 5
}
