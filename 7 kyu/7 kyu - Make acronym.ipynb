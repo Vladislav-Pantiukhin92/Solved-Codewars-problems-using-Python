{
 "cells": [
  {
   "cell_type": "markdown",
   "id": "cec02dff",
   "metadata": {},
   "source": [
    "### Make acronym - 7 kyu, Codewars/Python"
   ]
  },
  {
   "cell_type": "code",
   "execution_count": 4,
   "id": "67a945e1",
   "metadata": {},
   "outputs": [
    {
     "data": {
      "text/plain": [
       "'CW'"
      ]
     },
     "execution_count": 4,
     "metadata": {},
     "output_type": "execute_result"
    }
   ],
   "source": [
    "\"\"\"\n",
    "Write function which takes a string and make an acronym of it.\n",
    "Rule of making acronym in this kata:\n",
    "\n",
    "split string to words by space char\n",
    "take every first letter from word in given string\n",
    "uppercase it\n",
    "join them toghether\n",
    "Eg:\n",
    "\n",
    "Code wars -> C, w -> C W -> CW\n",
    "\"\"\"\n",
    "\n",
    "def to_acronym(inp):\n",
    "    list_of_words = inp.split() # Initially, we need to split the given input string into the list of words\n",
    "    # Secondly, it is necessary to extract the first letters and make them uppercase\n",
    "    first_letters = \"\".join(list(map(lambda x: x[0].upper(), list_of_words)))\n",
    "    return first_letters # Finally, it is relevant to return the merged first uppercase letters as a string\n",
    "\n",
    "to_acronym(\"Code wars\")"
   ]
  }
 ],
 "metadata": {
  "kernelspec": {
   "display_name": "Python 3 (ipykernel)",
   "language": "python",
   "name": "python3"
  },
  "language_info": {
   "codemirror_mode": {
    "name": "ipython",
    "version": 3
   },
   "file_extension": ".py",
   "mimetype": "text/x-python",
   "name": "python",
   "nbconvert_exporter": "python",
   "pygments_lexer": "ipython3",
   "version": "3.9.7"
  }
 },
 "nbformat": 4,
 "nbformat_minor": 5
}
