{
 "cells": [
  {
   "cell_type": "markdown",
   "id": "c5f795ed",
   "metadata": {},
   "source": [
    "### Spacify - 7 kyu, Codewars/Python"
   ]
  },
  {
   "cell_type": "code",
   "execution_count": 78,
   "id": "bcced4e9",
   "metadata": {},
   "outputs": [
    {
     "data": {
      "text/plain": [
       "'h e l l o   w o r l d'"
      ]
     },
     "execution_count": 78,
     "metadata": {},
     "output_type": "execute_result"
    }
   ],
   "source": [
    "\"\"\"\n",
    "Modify the spacify function so that it returns the given string with spaces inserted between each character.\n",
    "\n",
    "spacify(\"hello world\") # returns \"h e l l o   w o r l d\"\n",
    "\"\"\"\n",
    "def spacify(string):\n",
    "    # There are two major steps. The first step is to split the given input string into the list of separate values\n",
    "    # The second and the final step is to merge all values together with the gap/space between adjacent characters\n",
    "    return \" \".join(list(string)) # The new string is returned\n",
    "spacify(\"hello world\")"
   ]
  }
 ],
 "metadata": {
  "kernelspec": {
   "display_name": "Python 3 (ipykernel)",
   "language": "python",
   "name": "python3"
  },
  "language_info": {
   "codemirror_mode": {
    "name": "ipython",
    "version": 3
   },
   "file_extension": ".py",
   "mimetype": "text/x-python",
   "name": "python",
   "nbconvert_exporter": "python",
   "pygments_lexer": "ipython3",
   "version": "3.9.7"
  }
 },
 "nbformat": 4,
 "nbformat_minor": 5
}
