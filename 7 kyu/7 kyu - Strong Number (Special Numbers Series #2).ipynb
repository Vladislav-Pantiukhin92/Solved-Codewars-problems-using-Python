{
 "cells": [
  {
   "cell_type": "markdown",
   "id": "9f2b54fe",
   "metadata": {},
   "source": [
    "### Strong Number (Special Numbers Series #2) - 7 kyu, Codewars/Python"
   ]
  },
  {
   "cell_type": "code",
   "execution_count": 40,
   "id": "8b699115",
   "metadata": {},
   "outputs": [
    {
     "data": {
      "text/plain": [
       "'Not Strong !!'"
      ]
     },
     "execution_count": 40,
     "metadata": {},
     "output_type": "execute_result"
    }
   ],
   "source": [
    "\"\"\"\n",
    "Strong number is the number that the sum of the factorial of its digits is equal to number itself.\n",
    "For example, 145 is strong, since 1! + 4! + 5! = 1 + 24 + 120 = 145.\n",
    "Task\n",
    "Given a number, Find if it is Strong or not and return either \"STRONG!!!!\" or \"Not Strong !!\".\n",
    "\n",
    "Notes\n",
    "Number passed is always Positive.\n",
    "Return the result as String\n",
    "Input >> Output Examples\n",
    "strong_num(1) ==> return \"STRONG!!!!\"\n",
    "Since, the sum of its digits' factorial (1) is equal to number itself, then its a Strong.\n",
    "\n",
    "strong_num(123) ==> return \"Not Strong !!\"\n",
    "Since the sum of its digits' factorial of 1! + 2! + 3! = 9 is not equal to number itself, then \n",
    "it's Not Strong .\n",
    "\n",
    "strong_num(2)  ==>  return \"STRONG!!!!\"\n",
    "Since the sum of its digits' factorial of 2! = 2 is equal to number itself, then its a Strong.\n",
    "\n",
    "strong_num(150) ==> return \"Not Strong !!\"\n",
    "Since the sum of its digits' factorial of 1! + 5! + 0! = 122 is not equal to number itself, Then it's Not Strong .\n",
    "\"\"\"\n",
    "\n",
    "from math import * # Through the 'math module' it is feasible to figure out the factorial\n",
    "\n",
    "def strong_num(number):\n",
    "# Through the 'math module' and the 'map' function we find the sum of digits' factorials\n",
    "    factorial_sum = sum(list(map(lambda x: factorial(int(x)), list(str(number)))))\n",
    "    if number == factorial_sum: # If the obtained sum and the given input number are equal - it is the strong number\n",
    "        return \"STRONG!!!!\"\n",
    "    return \"Not Strong !!\" # Otherwise, the given input number is not a strong number\n",
    "\n",
    "strong_num(123)"
   ]
  }
 ],
 "metadata": {
  "kernelspec": {
   "display_name": "Python 3 (ipykernel)",
   "language": "python",
   "name": "python3"
  },
  "language_info": {
   "codemirror_mode": {
    "name": "ipython",
    "version": 3
   },
   "file_extension": ".py",
   "mimetype": "text/x-python",
   "name": "python",
   "nbconvert_exporter": "python",
   "pygments_lexer": "ipython3",
   "version": "3.9.7"
  }
 },
 "nbformat": 4,
 "nbformat_minor": 5
}
