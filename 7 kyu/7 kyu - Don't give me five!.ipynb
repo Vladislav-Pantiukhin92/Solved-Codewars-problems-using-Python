{
 "cells": [
  {
   "cell_type": "markdown",
   "id": "236e6c66",
   "metadata": {},
   "source": [
    "### Don't give me five! - 7 kyu, Codewars/Python"
   ]
  },
  {
   "cell_type": "code",
   "execution_count": 405,
   "id": "f3c50951",
   "metadata": {},
   "outputs": [
    {
     "data": {
      "text/plain": [
       "8"
      ]
     },
     "execution_count": 405,
     "metadata": {},
     "output_type": "execute_result"
    }
   ],
   "source": [
    "\"\"\"\n",
    "Don't give me five!\n",
    "In this kata you get the start number and the end number of a region and should return the count of all numbers except numbers with a 5 in it. The start and the end number are both inclusive!\n",
    "\n",
    "Examples:\n",
    "\n",
    "1,9 -> 1,2,3,4,6,7,8,9 -> Result 8\n",
    "4,17 -> 4,6,7,8,9,10,11,12,13,14,16,17 -> Result 12\n",
    "The result may contain fives. ;-)\n",
    "The start number will always be smaller than the end number. Both numbers can be also negative!\n",
    "\n",
    "I'm very curious for your solutions and the way you solve it. Maybe someone of you will find an easy pure mathematics solution.\n",
    "Have fun coding it and please don't forget to vote and rank this kata! :-)\n",
    "\"\"\"\n",
    "def dont_give_me_five(start, end):\n",
    "    count = 0\n",
    "    final = list(range(start, end + 1))\n",
    "    for i in final: # If there are 5s in the string_number, the number is not included\n",
    "        if \"5\" not in str(i):\n",
    "            count += 1\n",
    "    return count\n",
    "dont_give_me_five(1, 9)"
   ]
  }
 ],
 "metadata": {
  "kernelspec": {
   "display_name": "Python 3",
   "language": "python",
   "name": "python3"
  },
  "language_info": {
   "codemirror_mode": {
    "name": "ipython",
    "version": 3
   },
   "file_extension": ".py",
   "mimetype": "text/x-python",
   "name": "python",
   "nbconvert_exporter": "python",
   "pygments_lexer": "ipython3",
   "version": "3.8.8"
  }
 },
 "nbformat": 4,
 "nbformat_minor": 5
}
