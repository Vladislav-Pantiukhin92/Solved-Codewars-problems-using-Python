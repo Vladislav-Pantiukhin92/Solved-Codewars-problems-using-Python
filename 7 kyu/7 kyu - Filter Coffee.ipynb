{
 "cells": [
  {
   "cell_type": "markdown",
   "id": "c5f795ed",
   "metadata": {},
   "source": [
    "### Filter Coffee - 7 kyu, Codewars/Python"
   ]
  },
  {
   "cell_type": "code",
   "execution_count": 9,
   "id": "960beea5",
   "metadata": {},
   "outputs": [
    {
     "data": {
      "text/plain": [
       "'1,2,2'"
      ]
     },
     "execution_count": 9,
     "metadata": {},
     "output_type": "execute_result"
    }
   ],
   "source": [
    "\"\"\"\n",
    "You love coffee and want to know what beans you can afford to buy it.\n",
    "The first argument to your search function will be a number which represents your budget.\n",
    "The second argument will be an array of coffee bean prices.\n",
    "Your 'search' function should return the stores that sell coffee within your budget.\n",
    "The search function should return a string of prices for the coffees beans you can afford. \n",
    "The prices in this string are to be sorted in ascending order.\n",
    "\"\"\"\n",
    "\n",
    "def search(budget, prices):\n",
    "# Using the 'filter' function, elements which don't meet the budget, are being removed\n",
    "# The second step is to sort the array (in ascending order) and transform all elements into string numbers\n",
    "    afford_lst = list(map(str, sorted(list(filter(lambda x: x <= budget, prices)))))\n",
    "# Finally, we create and return the string result\n",
    "    return \",\".join(afford_lst)\n",
    "\n",
    "search(3, [6, 1, 2, 9, 2])"
   ]
  }
 ],
 "metadata": {
  "kernelspec": {
   "display_name": "Python 3 (ipykernel)",
   "language": "python",
   "name": "python3"
  },
  "language_info": {
   "codemirror_mode": {
    "name": "ipython",
    "version": 3
   },
   "file_extension": ".py",
   "mimetype": "text/x-python",
   "name": "python",
   "nbconvert_exporter": "python",
   "pygments_lexer": "ipython3",
   "version": "3.9.7"
  }
 },
 "nbformat": 4,
 "nbformat_minor": 5
}
