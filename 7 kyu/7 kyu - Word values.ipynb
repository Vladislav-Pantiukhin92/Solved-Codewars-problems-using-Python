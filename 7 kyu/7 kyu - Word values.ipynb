{
 "cells": [
  {
   "cell_type": "markdown",
   "id": "0dcc7a56",
   "metadata": {},
   "source": [
    "### Word values - 7 kyu, Codewars/Python"
   ]
  },
  {
   "cell_type": "code",
   "execution_count": 12,
   "id": "574b15ae",
   "metadata": {},
   "outputs": [
    {
     "data": {
      "text/plain": [
       "[6, 24]"
      ]
     },
     "execution_count": 12,
     "metadata": {},
     "output_type": "execute_result"
    }
   ],
   "source": [
    "\"\"\"\n",
    "Given a string \"abc\" and assuming that each letter in the string has a value equal to its position in the \n",
    "alphabet, our string will have a value of 1 + 2 + 3 = 6. This means that: a = 1, b = 2, c = 3 ....z = 26.\n",
    "You will be given a list of strings and your task will be to return the values of the strings as \n",
    "explained above multiplied by the position of that string in the list. For our purpose, position begins with 1.\n",
    "\n",
    "nameValue [\"abc\",\"abc abc\"] should return [6,24] because of [ 6 * 1, 12 * 2 ]. Note how spaces are ignored.\n",
    "\n",
    "\"abc\" has a value of 6, while \"abc abc\" has a value of 12. Now, the value at position 1 is multiplied \n",
    "by 1 while the value at position 2 is multiplied by 2.\n",
    "Input will only contain lowercase characters and spaces.\n",
    "\"\"\"\n",
    "\n",
    "import string # Through the use of the 'string' module, we are going to import the 26 lowercase English letters\n",
    "\n",
    "def name_value(my_list):\n",
    "    final = [] # It is the list, which will store positions\n",
    "    lowercase = string.ascii_lowercase # The English lowercase alphabet\n",
    "    # Through the use of the 'enumerate' function, we need to accumulate positions:\n",
    "    for i, j in enumerate(my_list, 1):\n",
    "        total = 0\n",
    "        curWord = j\n",
    "        for char in curWord:\n",
    "            if char.isalpha(): # We have to deal only with alphabetic values (spaces are omitted)\n",
    "                total += (lowercase.index(char) + 1)\n",
    "        final.append(total * i) # It is of paramount importance to take into account the position of words within \n",
    "        # the given input list as well\n",
    "    return final # The list with positions is returned\n",
    "\n",
    "name_value([\"abc\",\"abc abc\"])"
   ]
  }
 ],
 "metadata": {
  "kernelspec": {
   "display_name": "Python 3 (ipykernel)",
   "language": "python",
   "name": "python3"
  },
  "language_info": {
   "codemirror_mode": {
    "name": "ipython",
    "version": 3
   },
   "file_extension": ".py",
   "mimetype": "text/x-python",
   "name": "python",
   "nbconvert_exporter": "python",
   "pygments_lexer": "ipython3",
   "version": "3.9.7"
  }
 },
 "nbformat": 4,
 "nbformat_minor": 5
}
