{
 "cells": [
  {
   "cell_type": "markdown",
   "id": "c5f795ed",
   "metadata": {},
   "source": [
    "### Method For Counting Total Occurence Of Specific Digits - 7 kyu, Codewars/Python"
   ]
  },
  {
   "cell_type": "code",
   "execution_count": 70,
   "id": "25e1d6d1",
   "metadata": {},
   "outputs": [
    {
     "data": {
      "text/plain": [
       "[(1, 3), (3, 2)]"
      ]
     },
     "execution_count": 70,
     "metadata": {},
     "output_type": "execute_result"
    }
   ],
   "source": [
    "\"\"\"\n",
    "We need a method in the List Class that may count specific digits from a given list of integers. \n",
    "This marked digits will be given in a second list. The method .count_spec_digits()/.countSpecDigits() \n",
    "will accept two arguments, a list of an uncertain amount of integers integers_lists/integersLists \n",
    "(and of an uncertain amount of digits, too) and a second list, digits_list/digitsList that has the \n",
    "specific digits to count which length cannot be be longer than 10 (It's obvious, we've got ten digits). \n",
    "The method will output a list of tuples, each tuple having two elements, the first one will be a digit \n",
    "to count, and second one, its corresponding total frequency in all the integers of the first list. \n",
    "This list of tuples should be ordered with the same order that the digits have in digitsList\n",
    "\n",
    "Let's see some cases:\n",
    "\n",
    "l = List()\n",
    "\n",
    "integers_list =  [1, 1, 2 ,3 ,1 ,2 ,3 ,4]\n",
    "digits_list = [1, 3]\n",
    "l.count_spec_digits(integers_list, digits_list) == [(1, 3), (3, 2)]\n",
    "\n",
    "integers_list = [-18, -31, 81, -19, 111, -888]\n",
    "digits_list = [1, 8, 4]\n",
    "l.count_spec_digits(integers_list, digits_list) == [(1, 7), (8, 5), (4, 0)]\n",
    "\n",
    "integers_list = [-77, -65, 56, -79, 6666, 222]\n",
    "digits_list = [1, 8, 4]\n",
    "l.count_spec_digits(integers_list, digits_list) == [(1, 0), (8, 0), (4, 0)]\n",
    "\"\"\"\n",
    "\n",
    "class List(object):\n",
    "    def count_spec_digits(self, integers_list, digits_list):\n",
    "        final = [] # It is the list, which will store tuples\n",
    "    # The next step is to turn the list into the string chunk with digits and count the number of digits\n",
    "        string_digits = \"\".join(list(map(lambda x: str(abs(x)), integers_list)))\n",
    "        for i in digits_list:\n",
    "            # The tuple with the digit and its occurrence within the string chunk is appended to the list\n",
    "            final.append((i, string_digits.count(str(i))))\n",
    "        return final # The list with tuples is returned\n",
    "    \n",
    "a = List()\n",
    "a.count_spec_digits([1, 1, 2 ,3 ,1 ,2 ,3 ,4], [1, 3])"
   ]
  }
 ],
 "metadata": {
  "kernelspec": {
   "display_name": "Python 3 (ipykernel)",
   "language": "python",
   "name": "python3"
  },
  "language_info": {
   "codemirror_mode": {
    "name": "ipython",
    "version": 3
   },
   "file_extension": ".py",
   "mimetype": "text/x-python",
   "name": "python",
   "nbconvert_exporter": "python",
   "pygments_lexer": "ipython3",
   "version": "3.9.7"
  }
 },
 "nbformat": 4,
 "nbformat_minor": 5
}
