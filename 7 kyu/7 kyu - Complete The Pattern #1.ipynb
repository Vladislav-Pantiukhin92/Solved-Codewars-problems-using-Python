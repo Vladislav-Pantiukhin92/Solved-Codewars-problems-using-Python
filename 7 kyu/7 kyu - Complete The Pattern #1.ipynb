{
 "cells": [
  {
   "cell_type": "markdown",
   "id": "0b7fd4d5",
   "metadata": {},
   "source": [
    "### Complete The Pattern #1 - 7 kyu, Codewars/Python"
   ]
  },
  {
   "cell_type": "code",
   "execution_count": 50,
   "id": "a744d8ed",
   "metadata": {},
   "outputs": [
    {
     "data": {
      "text/plain": [
       "'1\\n22'"
      ]
     },
     "execution_count": 50,
     "metadata": {},
     "output_type": "execute_result"
    }
   ],
   "source": [
    "\"\"\"\n",
    "You have to write a function pattern which returns the following Pattern(See Pattern & Examples) upto n \n",
    "number of rows.\n",
    "Note: Returning the pattern is not the same as Printing the pattern.\n",
    "Rules/Note:\n",
    "If n < 1 then it should return \"\" i.e. empty string.\n",
    "There are no whitespaces in the pattern.\n",
    "\n",
    "Pattern:\n",
    "1\n",
    "22\n",
    "333\n",
    "....\n",
    ".....\n",
    "nnnnnn\n",
    "\"\"\"\n",
    "\n",
    "def pattern(n):\n",
    "    finalStr = \"\" # An empty string, which will store the pattern, and is to be finally returned\n",
    "    # The 'for loop' is to be used for that:\n",
    "    for i in range(1, n + 1):\n",
    "        finalStr += str(i) * i + \"\\n\"\n",
    "    return finalStr.rstrip() # The string with the pattern is returned\n",
    "\n",
    "pattern(2)"
   ]
  }
 ],
 "metadata": {
  "kernelspec": {
   "display_name": "Python 3 (ipykernel)",
   "language": "python",
   "name": "python3"
  },
  "language_info": {
   "codemirror_mode": {
    "name": "ipython",
    "version": 3
   },
   "file_extension": ".py",
   "mimetype": "text/x-python",
   "name": "python",
   "nbconvert_exporter": "python",
   "pygments_lexer": "ipython3",
   "version": "3.9.7"
  }
 },
 "nbformat": 4,
 "nbformat_minor": 5
}
