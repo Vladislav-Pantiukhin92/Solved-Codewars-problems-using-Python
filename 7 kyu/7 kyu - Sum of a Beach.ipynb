{
 "cells": [
  {
   "cell_type": "markdown",
   "id": "dcbae4b3",
   "metadata": {},
   "source": [
    "### Find the smallest integer in the array - 8 kyu, Codewars/Python"
   ]
  },
  {
   "cell_type": "code",
   "execution_count": 14,
   "id": "0560c29b",
   "metadata": {},
   "outputs": [
    {
     "data": {
      "text/plain": [
       "3"
      ]
     },
     "execution_count": 14,
     "metadata": {},
     "output_type": "execute_result"
    }
   ],
   "source": [
    "\"\"\"\n",
    "Beaches are filled with sand, water, fish, and sun. Given a string, calculate how many times the words \n",
    "\"Sand\", \"Water\", \"Fish\", and \"Sun\" appear without overlapping (regardless of the case).\n",
    "Examples\n",
    "sum_of_a_beach(\"WAtErSlIde\")                    ==>  1\n",
    "sum_of_a_beach(\"GolDeNSanDyWateRyBeaChSuNN\")    ==>  3\n",
    "sum_of_a_beach(\"gOfIshsunesunFiSh\")             ==>  4\n",
    "sum_of_a_beach(\"cItYTowNcARShoW\")               ==>  0\n",
    "\"\"\"\n",
    "\n",
    "import re # Regular expressions will identify the patterns (\"Sand\", \"Water\", \"Fish\", \"Sun\") without overlapping\n",
    "\n",
    "def sum_of_a_beach(beach):\n",
    "# To make the problem easier - let's use only lowercase letters:\n",
    "    beach = beach.casefold() # The lowercase conversion\n",
    "    patterns_found = re.findall(r\"sand|water|fish|sun\", beach) # The found patterns are stored within the list\n",
    "    return len(patterns_found) # The length of this list is returned\n",
    "\n",
    "sum_of_a_beach(\"GolDeNSanDyWateRyBeaChSuNN\")"
   ]
  }
 ],
 "metadata": {
  "kernelspec": {
   "display_name": "Python 3 (ipykernel)",
   "language": "python",
   "name": "python3"
  },
  "language_info": {
   "codemirror_mode": {
    "name": "ipython",
    "version": 3
   },
   "file_extension": ".py",
   "mimetype": "text/x-python",
   "name": "python",
   "nbconvert_exporter": "python",
   "pygments_lexer": "ipython3",
   "version": "3.9.7"
  }
 },
 "nbformat": 4,
 "nbformat_minor": 5
}
