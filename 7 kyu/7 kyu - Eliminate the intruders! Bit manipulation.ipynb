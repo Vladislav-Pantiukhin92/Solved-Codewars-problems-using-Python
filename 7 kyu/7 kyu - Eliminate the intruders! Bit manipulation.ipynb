{
 "cells": [
  {
   "cell_type": "markdown",
   "id": "c55e4be9",
   "metadata": {},
   "source": [
    "### Eliminate the intruders! Bit manipulation - 7 kyu, Codewars/Python"
   ]
  },
  {
   "cell_type": "code",
   "execution_count": 171,
   "id": "07fe3129",
   "metadata": {},
   "outputs": [
    {
     "data": {
      "text/plain": [
       "0"
      ]
     },
     "execution_count": 171,
     "metadata": {},
     "output_type": "execute_result"
    }
   ],
   "source": [
    "\"\"\"\n",
    "You are given a string representing a number in binary. Your task is to delete all the unset \n",
    "bits in this string and return the corresponding number (after keeping only the '1's).\n",
    "\n",
    "In practice, you should implement this function:\n",
    "\n",
    "def eliminate_unset_bits(number):\n",
    "Examples\n",
    "eliminate_unset_bits(\"11010101010101\") ->  255 (= 11111111)\n",
    "eliminate_unset_bits(\"111\") ->  7\n",
    "eliminate_unset_bits(\"1000000\") -> 1\n",
    "eliminate_unset_bits(\"000\") -> 0\n",
    "\"\"\"\n",
    "\n",
    "import re # Regular expressions to extract 1s\n",
    "\n",
    "def eliminate_unset_bits(number):\n",
    "    try:\n",
    "        return int(\"\".join(re.findall(r\"1\", number)), 2)\n",
    "    except ValueError: # ValueError - it means that the string is empty, so return 0\n",
    "        return 0\n",
    "\n",
    "eliminate_unset_bits(\"000\")"
   ]
  }
 ],
 "metadata": {
  "kernelspec": {
   "display_name": "Python 3 (ipykernel)",
   "language": "python",
   "name": "python3"
  },
  "language_info": {
   "codemirror_mode": {
    "name": "ipython",
    "version": 3
   },
   "file_extension": ".py",
   "mimetype": "text/x-python",
   "name": "python",
   "nbconvert_exporter": "python",
   "pygments_lexer": "ipython3",
   "version": "3.9.7"
  }
 },
 "nbformat": 4,
 "nbformat_minor": 5
}
