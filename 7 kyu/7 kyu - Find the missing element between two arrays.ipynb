{
 "cells": [
  {
   "cell_type": "markdown",
   "id": "7dac2ee7",
   "metadata": {},
   "source": [
    "### Find the missing element between two arrays - 7 kyu, Codewars/Python"
   ]
  },
  {
   "cell_type": "code",
   "execution_count": 58,
   "id": "84c1d4af",
   "metadata": {},
   "outputs": [
    {
     "data": {
      "text/plain": [
       "2"
      ]
     },
     "execution_count": 58,
     "metadata": {},
     "output_type": "execute_result"
    }
   ],
   "source": [
    "\"\"\"\n",
    "Given two integer arrays where the second array is a shuffled duplicate of the first array with one \n",
    "element missing, find the missing element.\n",
    "Please note, there may be duplicates in the arrays, so checking if a numerical value exists in one and \n",
    "not the other is not a valid solution.\n",
    "\n",
    "find_missing([1, 2, 2, 3], [1, 2, 3]) => 2\n",
    "find_missing([6, 1, 3, 6, 8, 2], [3, 6, 6, 1, 2]) => 8\n",
    "The first array will always have at least one element.\n",
    "\"\"\"\n",
    "\n",
    "from operator import * # 'operator.eq' will compare elements\n",
    "\n",
    "def find_missing(arr1, arr2):\n",
    "    arr1 = sorted(arr1) # The first sorted given input list\n",
    "    arr2 = sorted(arr2) # The second sorted given input list\n",
    "    i = 0 # The pointer for the first given input list\n",
    "    j = 0 # The pointer for the second given input list\n",
    "    while j < len(arr2):\n",
    "        if not eq(arr1[i], arr2[j]): # If elements are not equal - we return the element from the first array\n",
    "            return arr1[i]\n",
    "        i += 1\n",
    "        j += 1\n",
    "    return arr1[-1] # If all elements are equal, the return result is the last element from the first array\n",
    "\n",
    "find_missing([1, 2, 2, 3], [1, 2, 3])"
   ]
  }
 ],
 "metadata": {
  "kernelspec": {
   "display_name": "Python 3 (ipykernel)",
   "language": "python",
   "name": "python3"
  },
  "language_info": {
   "codemirror_mode": {
    "name": "ipython",
    "version": 3
   },
   "file_extension": ".py",
   "mimetype": "text/x-python",
   "name": "python",
   "nbconvert_exporter": "python",
   "pygments_lexer": "ipython3",
   "version": "3.9.7"
  }
 },
 "nbformat": 4,
 "nbformat_minor": 5
}
