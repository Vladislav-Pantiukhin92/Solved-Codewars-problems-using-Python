{
 "cells": [
  {
   "cell_type": "markdown",
   "id": "c5f795ed",
   "metadata": {},
   "source": [
    "### esreveR - 7 kyu, Codewars/Python"
   ]
  },
  {
   "cell_type": "code",
   "execution_count": 6,
   "id": "6f47185e",
   "metadata": {},
   "outputs": [
    {
     "data": {
      "text/plain": [
       "[3, 2, 1]"
      ]
     },
     "execution_count": 6,
     "metadata": {},
     "output_type": "execute_result"
    }
   ],
   "source": [
    "\"\"\"\n",
    "Write a function reverse which reverses a list (or in clojure's case, any list-like data structure)\n",
    "(the dedicated builtin(s) functionalities are deactivated)\n",
    "\"\"\"\n",
    "\n",
    "def reverse(lst):\n",
    "    length = len(lst) # It is the length of the given input array\n",
    "    # The swapping procedure, using two pointers, is to be utilized\n",
    "    i = 0 # The first pointer\n",
    "    j = length - 1 # The second pointer\n",
    "    while i < j: # The 'while loop' is implemented\n",
    "        lst[i], lst[j] = lst[j], lst[i] # The swapping procedure\n",
    "        i += 1\n",
    "        j -= 1\n",
    "    return lst # The final result is returned\n",
    "\n",
    "reverse([1,2,3])"
   ]
  }
 ],
 "metadata": {
  "kernelspec": {
   "display_name": "Python 3 (ipykernel)",
   "language": "python",
   "name": "python3"
  },
  "language_info": {
   "codemirror_mode": {
    "name": "ipython",
    "version": 3
   },
   "file_extension": ".py",
   "mimetype": "text/x-python",
   "name": "python",
   "nbconvert_exporter": "python",
   "pygments_lexer": "ipython3",
   "version": "3.9.7"
  }
 },
 "nbformat": 4,
 "nbformat_minor": 5
}
