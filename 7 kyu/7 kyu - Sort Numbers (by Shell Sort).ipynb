{
 "cells": [
  {
   "cell_type": "markdown",
   "id": "687cbea5",
   "metadata": {},
   "source": [
    "### Sort Numbers (by Shell Sort) - 7 kyu, Codewars/Python. "
   ]
  },
  {
   "cell_type": "code",
   "execution_count": 15,
   "id": "caaec4f5",
   "metadata": {},
   "outputs": [
    {
     "data": {
      "text/plain": [
       "[1, 2, 3, 5, 10]"
      ]
     },
     "execution_count": 15,
     "metadata": {},
     "output_type": "execute_result"
    }
   ],
   "source": [
    "\"\"\"\n",
    "Finish the solution so that it sorts the passed in array of numbers. \n",
    "If the function passes in an empty array or null/nil value then it should return an empty array.\n",
    "\n",
    "For example:\n",
    "\n",
    "solution([1,2,3,10,5]) # should return [1,2,3,5,10]\n",
    "solution(None) # should return []\n",
    "\"\"\"\n",
    "\n",
    "# Implementation of the Shell Sort algorithm \n",
    "# The Shell Sort algorithm is the improved version of the Insertion Sort algorithm\n",
    "\n",
    "def solution(nums):\n",
    "    if not nums:\n",
    "        return []\n",
    "    # The major point is that the comparison and swapping procedure is implemented between elements which are at a certain distance\n",
    "    gap = len(nums) // 2\n",
    "    while gap > 0:\n",
    "        for i in range(gap, len(nums)):\n",
    "            j = i\n",
    "            while j >= gap and nums[j - gap] > nums[j]:\n",
    "                nums[j - gap], nums[j] = nums[j], nums[j - gap]\n",
    "                j -= gap\n",
    "        gap //= 2\n",
    "    return nums\n",
    "\n",
    "solution([1,2,3,10,5])"
   ]
  }
 ],
 "metadata": {
  "kernelspec": {
   "display_name": "Python 3 (ipykernel)",
   "language": "python",
   "name": "python3"
  },
  "language_info": {
   "codemirror_mode": {
    "name": "ipython",
    "version": 3
   },
   "file_extension": ".py",
   "mimetype": "text/x-python",
   "name": "python",
   "nbconvert_exporter": "python",
   "pygments_lexer": "ipython3",
   "version": "3.9.7"
  }
 },
 "nbformat": 4,
 "nbformat_minor": 5
}
