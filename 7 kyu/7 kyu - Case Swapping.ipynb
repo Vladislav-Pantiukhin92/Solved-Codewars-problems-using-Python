{
 "cells": [
  {
   "cell_type": "markdown",
   "id": "86c6c5e1",
   "metadata": {},
   "source": [
    "### Case Swapping - 7 kyu, Codewars/Python"
   ]
  },
  {
   "cell_type": "code",
   "execution_count": 233,
   "id": "f1d90142",
   "metadata": {},
   "outputs": [
    {
     "data": {
      "text/plain": [
       "'cODEwARS'"
      ]
     },
     "execution_count": 233,
     "metadata": {},
     "output_type": "execute_result"
    }
   ],
   "source": [
    "\"\"\"\n",
    "Given a string, swap the case for each of the letters.\n",
    "\n",
    "Examples\n",
    "\"\"           -->   \"\"\n",
    "\"CodeWars\"   -->   \"cODEwARS\"\n",
    "\"abc\"        -->   \"ABC\"\n",
    "\"ABC\"        -->   \"abc\"\n",
    "\"123235\"     -->   \"123235\"\n",
    "\"\"\"\n",
    "\n",
    "def swap(string_):\n",
    "    return string_.swapcase()\n",
    "swap(\"CodeWars\")"
   ]
  }
 ],
 "metadata": {
  "kernelspec": {
   "display_name": "Python 3",
   "language": "python",
   "name": "python3"
  },
  "language_info": {
   "codemirror_mode": {
    "name": "ipython",
    "version": 3
   },
   "file_extension": ".py",
   "mimetype": "text/x-python",
   "name": "python",
   "nbconvert_exporter": "python",
   "pygments_lexer": "ipython3",
   "version": "3.8.8"
  }
 },
 "nbformat": 4,
 "nbformat_minor": 5
}
