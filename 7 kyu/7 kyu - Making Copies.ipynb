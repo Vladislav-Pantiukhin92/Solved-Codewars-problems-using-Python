{
 "cells": [
  {
   "cell_type": "markdown",
   "id": "83d81176",
   "metadata": {},
   "source": [
    "### Making Copies - 7 kyu, Codewars/Python"
   ]
  },
  {
   "cell_type": "code",
   "execution_count": 11,
   "id": "985e8cad",
   "metadata": {},
   "outputs": [
    {
     "data": {
      "text/plain": [
       "[1, 2, 3, 4]"
      ]
     },
     "execution_count": 11,
     "metadata": {},
     "output_type": "execute_result"
    }
   ],
   "source": [
    "\"\"\"\n",
    "Write a function that takes a list (in Python) or array (in other languages) of numbers, and makes a \n",
    "copy of it.\n",
    "Note that you may have troubles if you do not return an actual copy, item by item, just a pointer or \n",
    "an alias for an existing list or array.\n",
    "If not a list or array is given as a parameter in interpreted languages, the function should raise an error.\n",
    "Examples:\n",
    "\n",
    "t = [1, 2, 3, 4]\n",
    "t_copy = copy_list(t)\n",
    "\n",
    "t[1] += 5\n",
    "t = [1, 7, 3, 4]\n",
    "t_copy = [1, 2, 3, 4]\n",
    "\"\"\"\n",
    "\n",
    "def copy_list(l):\n",
    "# To find the solution, let's utilize the list method 'lst.copy()'\n",
    "    final = l.copy()\n",
    "    return final # The copy of the given input list is returned\n",
    "copy_list([1, 2, 3, 4])"
   ]
  }
 ],
 "metadata": {
  "kernelspec": {
   "display_name": "Python 3 (ipykernel)",
   "language": "python",
   "name": "python3"
  },
  "language_info": {
   "codemirror_mode": {
    "name": "ipython",
    "version": 3
   },
   "file_extension": ".py",
   "mimetype": "text/x-python",
   "name": "python",
   "nbconvert_exporter": "python",
   "pygments_lexer": "ipython3",
   "version": "3.9.7"
  }
 },
 "nbformat": 4,
 "nbformat_minor": 5
}
