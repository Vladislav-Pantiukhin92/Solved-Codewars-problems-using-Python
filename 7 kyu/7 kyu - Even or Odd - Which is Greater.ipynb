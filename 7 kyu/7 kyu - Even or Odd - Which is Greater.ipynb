{
 "cells": [
  {
   "cell_type": "markdown",
   "id": "6a641550",
   "metadata": {},
   "source": [
    "### Even or Odd - Which is Greater? - 7 kyu, Codewars/Python"
   ]
  },
  {
   "cell_type": "code",
   "execution_count": 59,
   "id": "9daca3fa",
   "metadata": {},
   "outputs": [
    {
     "data": {
      "text/plain": [
       "'Odd is greater than Even'"
      ]
     },
     "execution_count": 59,
     "metadata": {},
     "output_type": "execute_result"
    }
   ],
   "source": [
    "\"\"\"\n",
    "Given a string of digits confirm whether the sum of all the individual even digits are greater than \n",
    "the sum of all the indiviudal odd digits. Always a string of numbers will be given.\n",
    "If the sum of even numbers is greater than the odd numbers return: \"Even is greater than Odd\"\n",
    "If the sum of odd numbers is greater than the sum of even numbers return: \"Odd is greater than Even\"\n",
    "If the total of both even and odd numbers are identical return: \"Even and Odd are the same\"\n",
    "\"\"\"\n",
    "\n",
    "from operator import * # 'operator.eq' will be utilized to compare numbers\n",
    "\n",
    "def even_or_odd(s):\n",
    "    list_of_numbers = list(map(int, list(s))) # All numbers are integers now\n",
    "    even_numbers = sum(list(filter(lambda x: x % 2 == 0, list_of_numbers))) # The sum of even numbers\n",
    "    odd_numbers = sum(list(filter(lambda x: x % 2 != 0, list_of_numbers))) # The sum of odd numbers\n",
    "    if not eq(even_numbers, odd_numbers): # The case, when the calculated sums are not equal\n",
    "        if even_numbers > odd_numbers:\n",
    "            return \"Even is greater than Odd\" # The case, when the sum of even numbers is the largest one\n",
    "        return \"Odd is greater than Even\" # The case, when the sum of odd numbers is the largest one\n",
    "    return \"Even and Odd are the same\" # The case, when the calculated sums are totally equal\n",
    "\n",
    "even_or_odd(\"123\")"
   ]
  }
 ],
 "metadata": {
  "kernelspec": {
   "display_name": "Python 3 (ipykernel)",
   "language": "python",
   "name": "python3"
  },
  "language_info": {
   "codemirror_mode": {
    "name": "ipython",
    "version": 3
   },
   "file_extension": ".py",
   "mimetype": "text/x-python",
   "name": "python",
   "nbconvert_exporter": "python",
   "pygments_lexer": "ipython3",
   "version": "3.9.7"
  }
 },
 "nbformat": 4,
 "nbformat_minor": 5
}
