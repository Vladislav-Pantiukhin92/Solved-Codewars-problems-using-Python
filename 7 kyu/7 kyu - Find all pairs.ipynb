{
 "cells": [
  {
   "cell_type": "markdown",
   "id": "dbf1d241",
   "metadata": {},
   "source": [
    "### Find all pairs - 7 kyu, Codewars/Python"
   ]
  },
  {
   "cell_type": "code",
   "execution_count": 60,
   "id": "abfd33cc",
   "metadata": {},
   "outputs": [
    {
     "data": {
      "text/plain": [
       "4"
      ]
     },
     "execution_count": 60,
     "metadata": {},
     "output_type": "execute_result"
    }
   ],
   "source": [
    "\"\"\"\n",
    "You are given array of integers, your task will be to count all pairs in that array and return their count.\n",
    "Notes:\n",
    "Array can be empty or contain only one value; in this case return 0\n",
    "If there are more pairs of a certain number, count each pair only once. E.g.: for [0, 0, 0, 0] the return value is 2 (= 2 pairs of 0s)\n",
    "Random tests: maximum array length is 1000, range of values in array is between 0 and 1000\n",
    "Examples\n",
    "[1, 2, 5, 6, 5, 2]  -->  2\n",
    "...because there are 2 pairs: 2 and 5\n",
    "\n",
    "[1, 2, 2, 20, 6, 20, 2, 6, 2]  -->  4\n",
    "...because there are 4 pairs: 2, 20, 6 and 2 (again)\n",
    "\"\"\"\n",
    "\n",
    "from collections import Counter # 'collections.Counter' is to be used to create the occurrence dictionary\n",
    "\n",
    "def duplicates(arr):\n",
    "    myDict = dict(Counter(arr)) # The occurrence dictionary is created\n",
    "    pairs = 0 # The initial count of pairs equals to 0\n",
    "    for i in myDict:\n",
    "        if myDict[i] % 2 == 0: # If the occurrence of elements is even-numbered, - we obtain the amount of \n",
    "            # pairs through the floor division by 2\n",
    "            pairs += (myDict[i] // 2)\n",
    "        else:\n",
    "            myDict[i] -= 1 # The case, when the occurrence of elements is odd-numbered, - we obtain the amount \n",
    "            # of pairs through the subtraction (-1) and through the floor division by 2 as well\n",
    "            pairs += (myDict[i] // 2)\n",
    "    return pairs # The amount of pairs is returned\n",
    "\n",
    "duplicates([1, 2, 2, 20, 6, 20, 2, 6, 2])"
   ]
  }
 ],
 "metadata": {
  "kernelspec": {
   "display_name": "Python 3 (ipykernel)",
   "language": "python",
   "name": "python3"
  },
  "language_info": {
   "codemirror_mode": {
    "name": "ipython",
    "version": 3
   },
   "file_extension": ".py",
   "mimetype": "text/x-python",
   "name": "python",
   "nbconvert_exporter": "python",
   "pygments_lexer": "ipython3",
   "version": "3.9.7"
  }
 },
 "nbformat": 4,
 "nbformat_minor": 5
}
