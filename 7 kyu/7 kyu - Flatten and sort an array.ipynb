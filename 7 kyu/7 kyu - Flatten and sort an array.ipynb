{
 "cells": [
  {
   "cell_type": "markdown",
   "id": "dcbae4b3",
   "metadata": {},
   "source": [
    "### Flatten and sort an array - 7 kyu, Codewars/Python"
   ]
  },
  {
   "cell_type": "code",
   "execution_count": 1,
   "id": "39b05901",
   "metadata": {},
   "outputs": [
    {
     "data": {
      "text/plain": [
       "[1, 2, 3, 4, 5, 6, 7, 8, 9]"
      ]
     },
     "execution_count": 1,
     "metadata": {},
     "output_type": "execute_result"
    }
   ],
   "source": [
    "\"\"\"\n",
    "Challenge:\n",
    "Given a two-dimensional array of integers, return the flattened version of the array with all the \n",
    "integers in the sorted (ascending) order.\n",
    "Example:\n",
    "Given [[3, 2, 1], [4, 6, 5], [], [9, 7, 8]], your function should return [1, 2, 3, 4, 5, 6, 7, 8, 9].\n",
    "\"\"\"\n",
    "from itertools import chain # 'itertools.chain' will be used to flatten the given input list\n",
    "\n",
    "def flatten_and_sort(arr):\n",
    "    flattened_lst = list(chain.from_iterable(arr)) # The flattened list with numbers is obtained\n",
    "    # The final operation is to sort the flattened list in ascending order.\n",
    "    # It can be attained through the implementation of the Bubble Sort algorithm:\n",
    "    def bubbleSort(array): # The Bubble Sort algorithm\n",
    "        for i in range(len(array)): # We are going to utilize the nested 'for loop':\n",
    "            for j in range(len(array) - i - 1):\n",
    "            # The major principle behind the algorithm is to swap adjacent elements, if necessary:\n",
    "                if array[j] > array[j + 1]: # If the next element is smaller than the previous element - these \n",
    "                    # adjacent numbers are to be swapped\n",
    "                    temp = array[j]\n",
    "                    array[j] = array[j + 1]\n",
    "                    array[j + 1] = temp\n",
    "        return array\n",
    "    result = bubbleSort(flattened_lst) # Using the Bubble Sort function, the sorted flattened array is returned\n",
    "    return result \n",
    "\n",
    "flatten_and_sort([[3, 2, 1], [4, 6, 5], [], [9, 7, 8]])"
   ]
  }
 ],
 "metadata": {
  "kernelspec": {
   "display_name": "Python 3 (ipykernel)",
   "language": "python",
   "name": "python3"
  },
  "language_info": {
   "codemirror_mode": {
    "name": "ipython",
    "version": 3
   },
   "file_extension": ".py",
   "mimetype": "text/x-python",
   "name": "python",
   "nbconvert_exporter": "python",
   "pygments_lexer": "ipython3",
   "version": "3.9.7"
  }
 },
 "nbformat": 4,
 "nbformat_minor": 5
}
