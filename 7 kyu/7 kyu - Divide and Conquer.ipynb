{
 "cells": [
  {
   "cell_type": "markdown",
   "id": "1639b125",
   "metadata": {},
   "source": [
    "### Divide and Conquer - 7 kyu, Codewars/Python"
   ]
  },
  {
   "cell_type": "code",
   "execution_count": 10,
   "id": "73a48ea9",
   "metadata": {},
   "outputs": [
    {
     "data": {
      "text/plain": [
       "14"
      ]
     },
     "execution_count": 10,
     "metadata": {},
     "output_type": "execute_result"
    }
   ],
   "source": [
    "\"\"\"\n",
    "Given a mixed array of number and string representations of integers, add up the string integers and \n",
    "subtract this from the total of the non-string integers.\n",
    "Return as a number.\n",
    "\"\"\"\n",
    "\n",
    "def div_con(x):\n",
    "    integers = list(filter(lambda y: isinstance(y, int), x)) # The list with only integers\n",
    "    string_numbers = list(filter(lambda y: isinstance(y, str), x)) # The list with only string numbers\n",
    "    if not string_numbers: # If the list with string numbers is empty - we return just the sum of integers from \n",
    "        # the first list\n",
    "        return sum(integers)\n",
    "    # Alternatively, we transform all string numbers from the second list into integers:\n",
    "    string_numbers = list(map(int, string_numbers)) \n",
    "    if not integers: # If the list with integers is empty - we return the sum of string numbers from the second list\n",
    "        return 0 - sum(string_numbers)\n",
    "    # If both lists are non-empty - we return the difference of their sums:\n",
    "    return sum(integers) - sum(string_numbers)\n",
    "div_con(['5', '0', 9, 3, 2, 1, '9', 6, 7])"
   ]
  }
 ],
 "metadata": {
  "kernelspec": {
   "display_name": "Python 3 (ipykernel)",
   "language": "python",
   "name": "python3"
  },
  "language_info": {
   "codemirror_mode": {
    "name": "ipython",
    "version": 3
   },
   "file_extension": ".py",
   "mimetype": "text/x-python",
   "name": "python",
   "nbconvert_exporter": "python",
   "pygments_lexer": "ipython3",
   "version": "3.9.7"
  }
 },
 "nbformat": 4,
 "nbformat_minor": 5
}
