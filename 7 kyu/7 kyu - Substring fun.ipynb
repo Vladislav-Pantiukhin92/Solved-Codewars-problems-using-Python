{
 "cells": [
  {
   "cell_type": "markdown",
   "id": "32c1248f",
   "metadata": {},
   "source": [
    "### Substring fun - 7 kyu, Codewars/Python"
   ]
  },
  {
   "cell_type": "code",
   "execution_count": 250,
   "id": "2e0d239b",
   "metadata": {},
   "outputs": [
    {
     "data": {
      "text/plain": [
       "'yes'"
      ]
     },
     "execution_count": 250,
     "metadata": {},
     "output_type": "execute_result"
    }
   ],
   "source": [
    "\"\"\"\n",
    "Complete the function that takes an array of words.\n",
    "You must concatenate the nth letter from each word to construct a new word which should be returned as a string, where n is the position of the word in the list.\n",
    "For example:\n",
    "\n",
    "[\"yoda\", \"best\", \"has\"]  -->  \"yes\"\n",
    "  ^        ^        ^\n",
    "  n=0     n=1     n=2\n",
    "Note: Test cases contain valid input only - i.e. a string array or an empty array; and each word will have enough letters.\n",
    "\"\"\"\n",
    "\n",
    "from itertools import count # itertools.count() will be used to create the zip_list\n",
    "\n",
    "def nth_char(words):\n",
    "    final = \"\"\n",
    "    lst = list(zip(words, count()))\n",
    "    for i in lst:\n",
    "        final += i[0][i[1]] # Index implies the order of extracting letters\n",
    "    return final\n",
    "\n",
    "nth_char([\"yoda\", \"best\", \"has\"])"
   ]
  }
 ],
 "metadata": {
  "kernelspec": {
   "display_name": "Python 3",
   "language": "python",
   "name": "python3"
  },
  "language_info": {
   "codemirror_mode": {
    "name": "ipython",
    "version": 3
   },
   "file_extension": ".py",
   "mimetype": "text/x-python",
   "name": "python",
   "nbconvert_exporter": "python",
   "pygments_lexer": "ipython3",
   "version": "3.8.8"
  }
 },
 "nbformat": 4,
 "nbformat_minor": 5
}
