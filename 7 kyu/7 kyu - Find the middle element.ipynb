{
 "cells": [
  {
   "cell_type": "markdown",
   "id": "945ca433",
   "metadata": {},
   "source": [
    "### Find the middle element - 7 kyu, Codewars/Python"
   ]
  },
  {
   "cell_type": "code",
   "execution_count": 17,
   "id": "2b53d131",
   "metadata": {},
   "outputs": [
    {
     "data": {
      "text/plain": [
       "0"
      ]
     },
     "execution_count": 17,
     "metadata": {},
     "output_type": "execute_result"
    }
   ],
   "source": [
    "\"\"\"\n",
    "As a part of this Kata, you need to create a function that when provided with a triplet, returns the index of the numerical element that lies between the other two elements.\n",
    "The input to the function will be an array of three distinct numbers (Haskell: a tuple).\n",
    "For example:\n",
    "\n",
    "gimme([2, 3, 1]) => 0\n",
    "2 is the number that fits between 1 and 3 and the index of 2 in the input array is 0.\n",
    "Another example (just to make sure it is clear):\n",
    "\n",
    "gimme([5, 10, 14]) => 1\n",
    "10 is the number that fits between 5 and 14 and the index of 10 in the input array is 1.\n",
    "\"\"\"\n",
    "\n",
    "from itertools import count # We use 'count' to merge index and value together\n",
    "\n",
    "def gimme(input_array):\n",
    "    return sorted(list(zip(input_array, count())))[1][1] # Following the ascending sort we can pick out the middle index\n",
    "   \n",
    "gimme([2, 3, 1])"
   ]
  }
 ],
 "metadata": {
  "kernelspec": {
   "display_name": "Python 3",
   "language": "python",
   "name": "python3"
  },
  "language_info": {
   "codemirror_mode": {
    "name": "ipython",
    "version": 3
   },
   "file_extension": ".py",
   "mimetype": "text/x-python",
   "name": "python",
   "nbconvert_exporter": "python",
   "pygments_lexer": "ipython3",
   "version": "3.8.8"
  }
 },
 "nbformat": 4,
 "nbformat_minor": 5
}
