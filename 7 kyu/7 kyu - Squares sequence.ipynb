{
 "cells": [
  {
   "cell_type": "markdown",
   "id": "dcac00aa",
   "metadata": {},
   "source": [
    "### Squares sequence - 7 kyu, Codewars/Python"
   ]
  },
  {
   "cell_type": "code",
   "execution_count": 15,
   "id": "c897ad55",
   "metadata": {},
   "outputs": [
    {
     "data": {
      "text/plain": [
       "[2, 4, 16, 256, 65536]"
      ]
     },
     "execution_count": 15,
     "metadata": {},
     "output_type": "execute_result"
    }
   ],
   "source": [
    "\"\"\"\n",
    "Complete the function that returns an array of length n, starting with the given number x and the squares \n",
    "of the previous number. If n is negative or zero, return an empty array/list.\n",
    "Examples\n",
    "2, 5  -->  [2, 4, 16, 256, 65536]\n",
    "3, 3  -->  [3, 9, 81]\n",
    "\"\"\"\n",
    "\n",
    "def squares(x, n):\n",
    "    if n <= 0: # When the 'n' parameter <= 0 we return an empty list\n",
    "        return []\n",
    "    final = [x] # The first number is already appended to the list\n",
    "    for _ in range(n - 1): # The specific number of loops to add new squared numbers\n",
    "        final.append(pow(final[-1], 2))\n",
    "    return final # The filled list is finally returned\n",
    "\n",
    "squares(2, 5)"
   ]
  }
 ],
 "metadata": {
  "kernelspec": {
   "display_name": "Python 3 (ipykernel)",
   "language": "python",
   "name": "python3"
  },
  "language_info": {
   "codemirror_mode": {
    "name": "ipython",
    "version": 3
   },
   "file_extension": ".py",
   "mimetype": "text/x-python",
   "name": "python",
   "nbconvert_exporter": "python",
   "pygments_lexer": "ipython3",
   "version": "3.9.7"
  }
 },
 "nbformat": 4,
 "nbformat_minor": 5
}
