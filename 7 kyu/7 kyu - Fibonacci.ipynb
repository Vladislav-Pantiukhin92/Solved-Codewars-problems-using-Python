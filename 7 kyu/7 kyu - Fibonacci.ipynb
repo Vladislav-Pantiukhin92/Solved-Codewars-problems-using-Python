{
 "cells": [
  {
   "cell_type": "markdown",
   "id": "3a70d9c5",
   "metadata": {},
   "source": [
    "### Fibonacci - 7 kyu, Codewars/Python"
   ]
  },
  {
   "cell_type": "code",
   "execution_count": 238,
   "id": "3cca4c36",
   "metadata": {},
   "outputs": [
    {
     "data": {
      "text/plain": [
       "55"
      ]
     },
     "execution_count": 238,
     "metadata": {},
     "output_type": "execute_result"
    }
   ],
   "source": [
    "\"\"\"\n",
    "Create function fib that returns n'th element of Fibonacci sequence (classic programming task).\n",
    "\"\"\"\n",
    "# Using tabulation method from DP we can calculate the n\n",
    "\n",
    "def fibonacci(n: int) -> int:\n",
    "    my_list = [0, 0]\n",
    "    my_list[0], my_list[1] = 0, 1\n",
    "    for i in range(2, n + 1):\n",
    "        my_list.append(0)\n",
    "        my_list[i] = my_list[i - 1] + my_list[i - 2]\n",
    "    return my_list[n]\n",
    "        \n",
    "fibonacci(10)"
   ]
  }
 ],
 "metadata": {
  "kernelspec": {
   "display_name": "Python 3",
   "language": "python",
   "name": "python3"
  },
  "language_info": {
   "codemirror_mode": {
    "name": "ipython",
    "version": 3
   },
   "file_extension": ".py",
   "mimetype": "text/x-python",
   "name": "python",
   "nbconvert_exporter": "python",
   "pygments_lexer": "ipython3",
   "version": "3.8.8"
  }
 },
 "nbformat": 4,
 "nbformat_minor": 5
}
