{
 "cells": [
  {
   "cell_type": "markdown",
   "id": "b270c4bf",
   "metadata": {},
   "source": [
    "### Basic Calculator - 7 kyu, Codewars/Python"
   ]
  },
  {
   "cell_type": "code",
   "execution_count": null,
   "id": "42a63d75",
   "metadata": {},
   "outputs": [],
   "source": [
    "\"\"\"\n",
    "Write a function called calculate that takes 3 values. The first and third values are numbers. \n",
    "The second value is a character. If the character is \"+\" , \"-\", \"*\", or \"/\", the function will return \n",
    "the result of the corresponding mathematical function on the two numbers. If the string is not one of the \n",
    "specified characters, the function should return null (throw an ArgumentException in C#).\n",
    "\n",
    "calculate(2,\"+\", 4); //Should return 6\n",
    "calculate(6,\"-\", 1.5); //Should return 4.5\n",
    "calculate(-4,\"*\", 8); //Should return -32\n",
    "calculate(49,\"/\", -7); //Should return -7\n",
    "calculate(8,\"m\", 2); //Should return null\n",
    "calculate(4,\"/\",0) //should return null\n",
    "Keep in mind, you cannot divide by zero. If an attempt to divide by zero is made, return null \n",
    "(throw an ArgumentException in C#)/(None in Python).\n",
    "\"\"\"\n",
    "\n",
    "def calculate(num1, operation, num2):\n",
    "# We need to take into account the range of math operators:\n",
    "    math_operators = [\"+\", \"-\", \"/\", \"*\"]\n",
    "    if operation not in math_operators: # If the given input value is not within the list with math operators - \n",
    "        # we return None\n",
    "        return None\n",
    "# Through the 'try-except' statement we are going to verify the possibility of calculating the string math \n",
    "# expression, using the 'eval' function:\n",
    "    try:\n",
    "        return eval(f\"{num1} {operation} {num2}\") # The f-string + the 'eval' function --> the valid return result\n",
    "    except ZeroDivisionError: # Such kind of exception is to be raised if we divide the number by zero - \n",
    "        # we return None as well\n",
    "        return None\n",
    "    \n",
    "calculate(2,\"+\", 4)"
   ]
  }
 ],
 "metadata": {
  "kernelspec": {
   "display_name": "Python 3 (ipykernel)",
   "language": "python",
   "name": "python3"
  },
  "language_info": {
   "codemirror_mode": {
    "name": "ipython",
    "version": 3
   },
   "file_extension": ".py",
   "mimetype": "text/x-python",
   "name": "python",
   "nbconvert_exporter": "python",
   "pygments_lexer": "ipython3",
   "version": "3.9.7"
  }
 },
 "nbformat": 4,
 "nbformat_minor": 5
}
