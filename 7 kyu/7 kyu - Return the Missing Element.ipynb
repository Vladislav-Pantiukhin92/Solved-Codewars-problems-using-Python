{
 "cells": [
  {
   "cell_type": "markdown",
   "id": "dcbae4b3",
   "metadata": {},
   "source": [
    "### Return the Missing Element - 7 kyu, Codewars/Python"
   ]
  },
  {
   "cell_type": "code",
   "execution_count": 5,
   "id": "cdacc43e",
   "metadata": {},
   "outputs": [
    {
     "data": {
      "text/plain": [
       "8"
      ]
     },
     "execution_count": 5,
     "metadata": {},
     "output_type": "execute_result"
    }
   ],
   "source": [
    "\"\"\"\n",
    "Fellow code warrior, we need your help! We seem to have lost one of our sequence elements, and we need \n",
    "your help to retrieve it!\n",
    "Our sequence given was supposed to contain all of the integers from 0 to 9 (in no particular order), \n",
    "but one of them seems to be missing.\n",
    "Write a function that accepts a sequence of unique integers between 0 and 9 (inclusive), and returns the \n",
    "missing element.\n",
    "Examples:\n",
    "[0, 5, 1, 3, 2, 9, 7, 6, 4] --> 8\n",
    "[9, 2, 4, 5, 7, 0, 8, 6, 1] --> 3\n",
    "\"\"\"\n",
    "\n",
    "def get_missing_element(seq):\n",
    "# The solution can be split into two stages. The first stage is to sort the array in ascending order.\n",
    "# To sort the array let's implement the Insertion Sort algorithm:\n",
    "    def insertionSort(array): # The Insertion Sort algorithm function\n",
    "# The major principle of the algorithm is to divide the array into two subarrays. The first subarray contains \n",
    "# only one element. The second subarray contains all other elements.\n",
    "# While looping, we need to take elements from the second subarray and insert them in the first subarray (the \n",
    "# proper position)\n",
    "        for i in range(1, len(array)):\n",
    "            j = i\n",
    "            while j > 0 and array[j] < array[j - 1]:\n",
    "                array[j - 1], array[j] = array[j], array[j - 1]\n",
    "                j -= 1\n",
    "        return array\n",
    "    sorted_arr = insertionSort(seq) # Now we possess the sorted array\n",
    "# We can determine whether the missing number is 0 or 9, and return it right off the bat\n",
    "    if sorted_arr[0] != 0: \n",
    "        return 0\n",
    "    elif sorted_arr[-1] != 9:\n",
    "        return 9\n",
    "# If the missing number is neither 0 nor 9 - we can compare each sorted element with the full-fledged sorted\n",
    "# sequence from 0 to 9. If the discrepancy takes place, the number from the full-fledged sequence is returned\n",
    "    curNumber = 0\n",
    "    i = 0\n",
    "    while i < len(sorted_arr):\n",
    "        if sorted_arr[i] != curNumber:\n",
    "            return curNumber\n",
    "        i += 1\n",
    "        curNumber += 1\n",
    "        \n",
    "get_missing_element([0, 5, 1, 3, 2, 9, 7, 6, 4])"
   ]
  }
 ],
 "metadata": {
  "kernelspec": {
   "display_name": "Python 3 (ipykernel)",
   "language": "python",
   "name": "python3"
  },
  "language_info": {
   "codemirror_mode": {
    "name": "ipython",
    "version": 3
   },
   "file_extension": ".py",
   "mimetype": "text/x-python",
   "name": "python",
   "nbconvert_exporter": "python",
   "pygments_lexer": "ipython3",
   "version": "3.9.7"
  }
 },
 "nbformat": 4,
 "nbformat_minor": 5
}
