{
 "cells": [
  {
   "cell_type": "markdown",
   "id": "8053b5be",
   "metadata": {},
   "source": [
    "### Rotate for a Max - 7 kyu, Codewars/Python"
   ]
  },
  {
   "cell_type": "code",
   "execution_count": 48,
   "id": "4829cc65",
   "metadata": {},
   "outputs": [
    {
     "data": {
      "text/plain": [
       "507992495"
      ]
     },
     "execution_count": 48,
     "metadata": {},
     "output_type": "execute_result"
    }
   ],
   "source": [
    "\"\"\"\n",
    "You have the following sequence of numbers:\n",
    "56789 -> 67895 -> 68957 -> 68579 -> 68597\n",
    "and you must return the greatest: 68957.\n",
    "Task\n",
    "Write function max_rot(n) which given a positive integer n returns \n",
    "the maximum number you got doing rotations similar to the above example.\n",
    "\n",
    "So max_rot (or maxRot or ... depending on the language) is such as:\n",
    "max_rot(56789) should return 68957\n",
    "max_rot(38458215) should return 85821534\n",
    "\"\"\"\n",
    "\n",
    "def max_rot(number):\n",
    "    final = [number]\n",
    "    # To remove and add values we should transform the integer type into the list type\n",
    "    number = list(str(number))\n",
    "    for i in range(len(number)):\n",
    "        number.append(number[i])\n",
    "        del number[i]\n",
    "        final.append(int(\"\".join(number)))\n",
    "    return max(final) # The greatest value is the max value\n",
    "\n",
    "max_rot(507992495)"
   ]
  }
 ],
 "metadata": {
  "kernelspec": {
   "display_name": "Python 3 (ipykernel)",
   "language": "python",
   "name": "python3"
  },
  "language_info": {
   "codemirror_mode": {
    "name": "ipython",
    "version": 3
   },
   "file_extension": ".py",
   "mimetype": "text/x-python",
   "name": "python",
   "nbconvert_exporter": "python",
   "pygments_lexer": "ipython3",
   "version": "3.9.7"
  }
 },
 "nbformat": 4,
 "nbformat_minor": 5
}
