{
 "cells": [
  {
   "cell_type": "markdown",
   "id": "dcbae4b3",
   "metadata": {},
   "source": [
    "### Even numbers in an array - 7 kyu, Codewars/Python"
   ]
  },
  {
   "cell_type": "code",
   "execution_count": 4,
   "id": "1c5242cb",
   "metadata": {},
   "outputs": [
    {
     "data": {
      "text/plain": [
       "[4, 6, 8]"
      ]
     },
     "execution_count": 4,
     "metadata": {},
     "output_type": "execute_result"
    }
   ],
   "source": [
    "\"\"\"\n",
    "Given an array of numbers, return a new array of length number containing the last even numbers from the \n",
    "original array (in the same order). The original array will be not empty and will contain at least \n",
    "\"number\" even numbers.\n",
    "For example:\n",
    "\n",
    "([1, 2, 3, 4, 5, 6, 7, 8, 9], 3) => [4, 6, 8]\n",
    "([-22, 5, 3, 11, 26, -6, -7, -8, -9, -8, 26], 2) => [-8, 26]\n",
    "([6, -25, 3, 7, 5, 5, 7, -3, 23], 1) => [6]\n",
    "\"\"\"\n",
    "\n",
    "def even_numbers(arr, n):\n",
    "    final = [] # It is the list container, which will store even numbers from the given input array\n",
    "    while len(final) != n: # We are going to implement the loop, while the length of the list container \n",
    "        # doesn't equal to the specific 'n' parameter\n",
    "        curNumber = arr.pop() # We need to take the last even numbers, so it is important to just pop elements\n",
    "        if curNumber % 2 == 0: # The parity verification\n",
    "            final.append(curNumber)\n",
    "    return final[::-1] # We need to reverse the list with even elements to finally return it\n",
    "\n",
    "even_numbers([1, 2, 3, 4, 5, 6, 7, 8, 9], 3)"
   ]
  }
 ],
 "metadata": {
  "kernelspec": {
   "display_name": "Python 3 (ipykernel)",
   "language": "python",
   "name": "python3"
  },
  "language_info": {
   "codemirror_mode": {
    "name": "ipython",
    "version": 3
   },
   "file_extension": ".py",
   "mimetype": "text/x-python",
   "name": "python",
   "nbconvert_exporter": "python",
   "pygments_lexer": "ipython3",
   "version": "3.9.7"
  }
 },
 "nbformat": 4,
 "nbformat_minor": 5
}
