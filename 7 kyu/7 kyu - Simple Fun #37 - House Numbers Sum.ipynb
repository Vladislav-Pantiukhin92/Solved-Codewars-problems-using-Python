{
 "cells": [
  {
   "cell_type": "markdown",
   "id": "c5f795ed",
   "metadata": {},
   "source": [
    "### Simple Fun #37: House Numbers Sum - 7 kyu, Codewars/Python"
   ]
  },
  {
   "cell_type": "code",
   "execution_count": 82,
   "id": "01f6fbd6",
   "metadata": {},
   "outputs": [
    {
     "data": {
      "text/plain": [
       "11"
      ]
     },
     "execution_count": 82,
     "metadata": {},
     "output_type": "execute_result"
    }
   ],
   "source": [
    "\"\"\"\n",
    "A boy is walking a long way from school to his home. To make the walk more fun he decides to add up all \n",
    "the numbers of the houses that he passes by during his walk. Unfortunately, not all of the houses have \n",
    "numbers written on them, and on top of that the boy is regularly taking turns to change streets, so the \n",
    "numbers don't appear to him in any particular order.\n",
    "At some point during the walk the boy encounters a house with number 0 written on it, which surprises \n",
    "him so much that he stops adding numbers to his total right after seeing that house.\n",
    "For the given sequence of houses determine the sum that the boy will get. It is guaranteed that there \n",
    "will always be at least one 0 house on the path.\n",
    "\n",
    "Example\n",
    "For inputArray = [5, 1, 2, 3, 0, 1, 5, 0, 2], the output should be 11.\n",
    "\n",
    "The answer was obtained as 5 + 1 + 2 + 3 = 11.\n",
    "Input/Output\n",
    "[input] integer array inputArray\n",
    "\n",
    "Constraints: 5 ≤ inputArray.length ≤ 50, 0 ≤ inputArray[i] ≤ 10.\n",
    "[output] an integer\n",
    "\"\"\"\n",
    "\n",
    "from itertools import takewhile # With the help of 'itertools.takewhile' we are going to take elements from \n",
    "# the given input list, while these elements != 0\n",
    "\n",
    "def house_numbers_sum(inp):\n",
    "    # The sum of these taken elements is returned\n",
    "    return sum(list(takewhile(lambda x: x != 0, inp)))\n",
    "\n",
    "house_numbers_sum([5, 1, 2, 3, 0, 1, 5, 0, 2])"
   ]
  }
 ],
 "metadata": {
  "kernelspec": {
   "display_name": "Python 3 (ipykernel)",
   "language": "python",
   "name": "python3"
  },
  "language_info": {
   "codemirror_mode": {
    "name": "ipython",
    "version": 3
   },
   "file_extension": ".py",
   "mimetype": "text/x-python",
   "name": "python",
   "nbconvert_exporter": "python",
   "pygments_lexer": "ipython3",
   "version": "3.9.7"
  }
 },
 "nbformat": 4,
 "nbformat_minor": 5
}
