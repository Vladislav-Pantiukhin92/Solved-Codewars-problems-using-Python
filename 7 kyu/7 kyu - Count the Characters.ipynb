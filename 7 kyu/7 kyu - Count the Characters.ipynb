{
 "cells": [
  {
   "cell_type": "markdown",
   "id": "6916ae3f",
   "metadata": {},
   "source": [
    "### Count the Characters - 7 kyu, Codewars/Python"
   ]
  },
  {
   "cell_type": "code",
   "execution_count": 15,
   "id": "dc28c312",
   "metadata": {},
   "outputs": [
    {
     "data": {
      "text/plain": [
       "4"
      ]
     },
     "execution_count": 15,
     "metadata": {},
     "output_type": "execute_result"
    }
   ],
   "source": [
    "\"\"\"\n",
    "The goal of this kata is to write a function that takes two inputs: a string and a character. \n",
    "The function will count the number of times that character appears in the string. \n",
    "The count is case insensitive.\n",
    "For example:\n",
    "\n",
    "count_char(\"fizzbuzz\",\"z\") => 4\n",
    "count_char(\"Fancy fifth fly aloof\",\"f\") => 5\n",
    "The character can be any alphanumeric character.\n",
    "\"\"\"\n",
    "\n",
    "def count_char(string, letter):\n",
    "# Given that the solution is case-insensitive, let's use the string method 'str.lower()' to make the letter case\n",
    "# equal:\n",
    "    string = string.lower() # The lowercase conversion of the given input string\n",
    "    letter = letter.lower() # The lowercase conversion of the given input letter/character\n",
    "    return string.count(letter) # The count of the specific letter within the given input string is returned\n",
    "\n",
    "count_char(\"fizzbuzz\",\"z\")"
   ]
  }
 ],
 "metadata": {
  "kernelspec": {
   "display_name": "Python 3 (ipykernel)",
   "language": "python",
   "name": "python3"
  },
  "language_info": {
   "codemirror_mode": {
    "name": "ipython",
    "version": 3
   },
   "file_extension": ".py",
   "mimetype": "text/x-python",
   "name": "python",
   "nbconvert_exporter": "python",
   "pygments_lexer": "ipython3",
   "version": "3.9.7"
  }
 },
 "nbformat": 4,
 "nbformat_minor": 5
}
