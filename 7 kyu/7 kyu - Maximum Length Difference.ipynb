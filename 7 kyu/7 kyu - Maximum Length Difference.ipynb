{
 "cells": [
  {
   "cell_type": "markdown",
   "id": "604889a3",
   "metadata": {},
   "source": [
    "### Maximum Length Difference -  - 7 kyu, Codewars/Python"
   ]
  },
  {
   "cell_type": "code",
   "execution_count": null,
   "id": "0a602647",
   "metadata": {},
   "outputs": [],
   "source": [
    "\"\"\"\n",
    "You are given two arrays a1 and a2 of strings. Each string is composed with letters from a to z. Let x be any string in the first array and y be any string in the second array.\n",
    "Find max(abs(length(x) − length(y)))\n",
    "If a1 and/or a2 are empty return -1 in each language except in Haskell (F#) where you will return Nothing (None).\n",
    "\n",
    "Example:\n",
    "a1 = [\"hoqq\", \"bbllkw\", \"oox\", \"ejjuyyy\", \"plmiis\", \"xxxzgpsssa\", \"xxwwkktt\", \"znnnnfqknaz\", \"qqquuhii\", \"dvvvwz\"]\n",
    "a2 = [\"cccooommaaqqoxii\", \"gggqaffhhh\", \"tttoowwwmmww\"]\n",
    "mxdiflg(a1, a2) --> 13\n",
    "Bash note:\n",
    "input : 2 strings with substrings separated by ,\n",
    "output: number as a string\n",
    "\"\"\"\n",
    "\n",
    "from itertools import product # Cartesian product to combine strings\n",
    "from itertools import starmap #Starmap to find the length difference between strings\n",
    "\n",
    "def mxdiflg(a1, a2):\n",
    "    if not a1 or not a2:\n",
    "        return -1\n",
    "    numeric_1 = list(map(lambda x: len(x), a1))\n",
    "    numeric_2 = list(map(lambda y: len(y), a2))\n",
    "    result = max(list(starmap(lambda x, y: abs(x - y), list(product(numeric_1, numeric_2)))))\n",
    "    return result\n"
   ]
  }
 ],
 "metadata": {
  "kernelspec": {
   "display_name": "Python 3",
   "language": "python",
   "name": "python3"
  },
  "language_info": {
   "codemirror_mode": {
    "name": "ipython",
    "version": 3
   },
   "file_extension": ".py",
   "mimetype": "text/x-python",
   "name": "python",
   "nbconvert_exporter": "python",
   "pygments_lexer": "ipython3",
   "version": "3.8.8"
  }
 },
 "nbformat": 4,
 "nbformat_minor": 5
}
