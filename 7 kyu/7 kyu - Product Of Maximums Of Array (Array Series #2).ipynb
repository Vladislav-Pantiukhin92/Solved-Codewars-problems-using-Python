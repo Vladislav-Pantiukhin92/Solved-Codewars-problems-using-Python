{
 "cells": [
  {
   "cell_type": "markdown",
   "id": "71e04a55",
   "metadata": {},
   "source": [
    "### Product Of Maximums Of Array (Array Series #2) - 7 kyu, Codewars/Python"
   ]
  },
  {
   "cell_type": "code",
   "execution_count": 30,
   "id": "4d5ec1e1",
   "metadata": {},
   "outputs": [
    {
     "data": {
      "text/plain": [
       "720"
      ]
     },
     "execution_count": 30,
     "metadata": {},
     "output_type": "execute_result"
    }
   ],
   "source": [
    "\"\"\"\n",
    "Given an array/list [] of integers, find the product of the k maximal numbers.\n",
    "\"\"\"\n",
    "\n",
    "from heapq import nlargest # 'heapq.nlargest' will return the slice with 'k' maxElements from the given input list\n",
    "from functools import reduce # 'functools.reduce' will be used to find the product of 'k' maxElements within \n",
    "# the given input list\n",
    "\n",
    "def max_product(lst, n_largest_elements):\n",
    "    result = nlargest(n_largest_elements, lst) # The slice is obtained\n",
    "    return reduce(lambda x, y: x * y, result) # The product of elements within the obtained slice is returned\n",
    "\n",
    "max_product({8, 10 , 9, 7}, 3)"
   ]
  }
 ],
 "metadata": {
  "kernelspec": {
   "display_name": "Python 3 (ipykernel)",
   "language": "python",
   "name": "python3"
  },
  "language_info": {
   "codemirror_mode": {
    "name": "ipython",
    "version": 3
   },
   "file_extension": ".py",
   "mimetype": "text/x-python",
   "name": "python",
   "nbconvert_exporter": "python",
   "pygments_lexer": "ipython3",
   "version": "3.9.7"
  }
 },
 "nbformat": 4,
 "nbformat_minor": 5
}
