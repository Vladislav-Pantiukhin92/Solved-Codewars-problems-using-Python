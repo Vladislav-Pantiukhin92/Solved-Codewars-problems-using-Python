{
 "cells": [
  {
   "cell_type": "markdown",
   "id": "2acc325e",
   "metadata": {},
   "source": [
    "### Simple equation reversal - 7 kyu, Codewars/Python"
   ]
  },
  {
   "cell_type": "code",
   "execution_count": 5,
   "id": "b54d5c1d",
   "metadata": {},
   "outputs": [
    {
     "data": {
      "text/plain": [
       "'y/b*100'"
      ]
     },
     "execution_count": 5,
     "metadata": {},
     "output_type": "execute_result"
    }
   ],
   "source": [
    "\"\"\"\n",
    "Given a mathematical equation that has *,+,-,/, reverse it as follows:\n",
    "solve(\"100*b/y\") = \"y/b*100\"\n",
    "solve(\"a+b-c/d*30\") = \"30*d/c-b+a\"\n",
    "\"\"\"\n",
    "\n",
    "import re # Regular expression to find numbers, which are to be reversed in a specific manner\n",
    "\n",
    "def solve(eq):\n",
    "    reverse = eq[::-1] # The given input string is reversed\n",
    "    numbers = re.findall(r\"\\d+\", eq) # All the numbers are found\n",
    "    result = re.sub(r\"\\d+\", \" \", reverse) # All the found numbers are replaced with a whitespace\n",
    "    final = [] # The list will store the final configuration\n",
    "    for i in result:\n",
    "        if i.isspace(): # The whitespace means we pop the number and insert it\n",
    "            final.append(numbers.pop())\n",
    "        else:\n",
    "            final.append(i)\n",
    "    return \"\".join(final) # The final result is concatenated and returned\n",
    "\n",
    "solve(\"100*b/y\")"
   ]
  }
 ],
 "metadata": {
  "kernelspec": {
   "display_name": "Python 3 (ipykernel)",
   "language": "python",
   "name": "python3"
  },
  "language_info": {
   "codemirror_mode": {
    "name": "ipython",
    "version": 3
   },
   "file_extension": ".py",
   "mimetype": "text/x-python",
   "name": "python",
   "nbconvert_exporter": "python",
   "pygments_lexer": "ipython3",
   "version": "3.9.7"
  }
 },
 "nbformat": 4,
 "nbformat_minor": 5
}
