{
 "cells": [
  {
   "cell_type": "markdown",
   "id": "8199a139",
   "metadata": {},
   "source": [
    "### Palindrome chain length - 7 kyu, Codewars/Python"
   ]
  },
  {
   "cell_type": "code",
   "execution_count": 8,
   "id": "308bcdb7",
   "metadata": {},
   "outputs": [
    {
     "data": {
      "text/plain": [
       "4"
      ]
     },
     "execution_count": 8,
     "metadata": {},
     "output_type": "execute_result"
    }
   ],
   "source": [
    "\"\"\"\n",
    "Number is a palindrome if it is equal to the number with digits in reversed order. For example, 5, 44, \n",
    "171, 4884 are palindromes, and 43, 194, 4773 are not.\n",
    "Write a function which takes a positive integer and returns the number of special steps needed to obtain \n",
    "a palindrome. The special step is: \"reverse the digits, and add to the original number\". If the resulting \n",
    "number is not a palindrome, repeat the procedure with the sum until the resulting number is a palindrome.\n",
    "If the input number is already a palindrome, the number of steps is 0.\n",
    "\n",
    "Example\n",
    "For example, start with 87:\n",
    "\n",
    "  87 +   78 =  165     - step 1, not a palindrome\n",
    " 165 +  561 =  726     - step 2, not a palindrome\n",
    " 726 +  627 = 1353     - step 3, not a palindrome\n",
    "1353 + 3531 = 4884     - step 4, palindrome!\n",
    "4884 is a palindrome and we needed 4 steps to obtain it, so answer for 87 is 4.\n",
    "\"\"\"\n",
    "\n",
    "def palindrome_chain_length(n):\n",
    "# Initially, let's determine the function, which will verify the palindromic nature of the given input number:\n",
    "    def is_palindrome(string):\n",
    "# The given input number is a palindrome if the maxLength equals to the length of the given input number (in \n",
    "# the string form)\n",
    "        maxLength = 0 # The initial maxLength equals to 0\n",
    "    # The subsequent step is to calculate the maxLength of the existing palindromic sequence:\n",
    "     # To do that the 'for loop' will be used\n",
    "        for i in range(len(string)): # The loop for even-numbered palindromes\n",
    "            l, r = i, i\n",
    "            # Two pointers are moving in opposite directions:\n",
    "            while l >= 0 and r < len(string) and string[l] == string[r]: \n",
    "                if (r - l) + 1 > maxLength:\n",
    "                    maxLength = (r - l) + 1 # If necessary, the maxLength will be constantly updated\n",
    "                l -= 1\n",
    "                r += 1\n",
    "        for i in range(len(string)): # The loop for odd-numbered palindromes\n",
    "            l, r = i, i + 1\n",
    "            # Two pointers are moving in opposite directions:\n",
    "            while l >= 0 and r < len(string) and string[l] == string[r]:\n",
    "                if (r - l) + 1 > maxLength:\n",
    "                    maxLength = (r - l) + 1 # If necessary, the maxLength will be constantly updated\n",
    "                l -= 1\n",
    "                r += 1\n",
    "        # The maxLength is obtained. The next step is to compare the full length of the given input list and the \n",
    "        # maxLength\n",
    "        if maxLength == len(string): # If these lengths are equal, we return True\n",
    "            return True\n",
    "        return False # Alternatively, we return False\n",
    "    steps = 0\n",
    "    n = str(n)\n",
    "    # The final operation is to calculate the total number of steps, required to attain the full-fledged palindromic \n",
    "    # sequence, using the previously created function:\n",
    "    result = is_palindrome(n)\n",
    "    while not result:\n",
    "        n = str(int(n) + int(n[::-1]))\n",
    "        steps += 1\n",
    "        result = is_palindrome(n)\n",
    "    return steps # The total amount of steps is returned\n",
    "\n",
    "palindrome_chain_length(87)"
   ]
  }
 ],
 "metadata": {
  "kernelspec": {
   "display_name": "Python 3 (ipykernel)",
   "language": "python",
   "name": "python3"
  },
  "language_info": {
   "codemirror_mode": {
    "name": "ipython",
    "version": 3
   },
   "file_extension": ".py",
   "mimetype": "text/x-python",
   "name": "python",
   "nbconvert_exporter": "python",
   "pygments_lexer": "ipython3",
   "version": "3.9.7"
  }
 },
 "nbformat": 4,
 "nbformat_minor": 5
}
