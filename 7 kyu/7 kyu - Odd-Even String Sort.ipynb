{
 "cells": [
  {
   "cell_type": "markdown",
   "id": "591637bf",
   "metadata": {},
   "source": [
    "### Odd-Even String Sort - 7 kyu, Codewars/Python"
   ]
  },
  {
   "cell_type": "code",
   "execution_count": 6,
   "id": "f40c521d",
   "metadata": {},
   "outputs": [
    {
     "data": {
      "text/plain": [
       "'CdWr oeas'"
      ]
     },
     "execution_count": 6,
     "metadata": {},
     "output_type": "execute_result"
    }
   ],
   "source": [
    "\"\"\"\n",
    "Given a string s. You have to return another string such that even-indexed and odd-indexed characters \n",
    "of s are grouped and groups are space-separated (see sample below)\n",
    "Note: \n",
    "0 is considered to be an even index. \n",
    "All input strings are valid with no spaces\n",
    "input: 'CodeWars'\n",
    "output 'CdWr oeas'\n",
    "\n",
    "S[0] = 'C'\n",
    "S[1] = 'o'\n",
    "S[2] = 'd'\n",
    "S[3] = 'e'\n",
    "S[4] = 'W'\n",
    "S[5] = 'a'\n",
    "S[6] = 'r'\n",
    "S[7] = 's'\n",
    "Even indices 0, 2, 4, 6, so we have 'CdWr' as the first group\n",
    "odd ones are 1, 3, 5, 7, so the second group is 'oeas'\n",
    "And the final string to return is 'Cdwr oeas'\n",
    "\"\"\"\n",
    "\n",
    "def sort_my_string(s):\n",
    "    even_indexed = \"\" # Even-indexed characters from the given input string will be stored here\n",
    "    odd_indexed = \"\" # Odd-indexed characters from the given input string will be stored here\n",
    "    # Through the use of \"enumerate\" function it will be possible to determine the index parity of numbers:\n",
    "    for i, j in enumerate(s):\n",
    "        if i % 2 == 0: # It is the case for even-indexed letters\n",
    "            even_indexed += j\n",
    "        else: # It is the case for odd-indexed letters\n",
    "            odd_indexed += j\n",
    "    return f\"{even_indexed} {odd_indexed}\" # With the help of f-string we return the obtained result\n",
    "\n",
    "sort_my_string('CodeWars')"
   ]
  }
 ],
 "metadata": {
  "kernelspec": {
   "display_name": "Python 3 (ipykernel)",
   "language": "python",
   "name": "python3"
  },
  "language_info": {
   "codemirror_mode": {
    "name": "ipython",
    "version": 3
   },
   "file_extension": ".py",
   "mimetype": "text/x-python",
   "name": "python",
   "nbconvert_exporter": "python",
   "pygments_lexer": "ipython3",
   "version": "3.9.7"
  }
 },
 "nbformat": 4,
 "nbformat_minor": 5
}
