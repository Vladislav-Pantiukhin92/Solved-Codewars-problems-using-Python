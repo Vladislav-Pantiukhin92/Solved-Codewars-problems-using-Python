{
 "cells": [
  {
   "cell_type": "markdown",
   "id": "14417b70",
   "metadata": {},
   "source": [
    "### Number Pairs - 7 kyu, Codewars/Python"
   ]
  },
  {
   "cell_type": "code",
   "execution_count": 36,
   "id": "09bf8765",
   "metadata": {},
   "outputs": [
    {
     "data": {
      "text/plain": [
       "[23, 64, 53, 17, 88]"
      ]
     },
     "execution_count": 36,
     "metadata": {},
     "output_type": "execute_result"
    }
   ],
   "source": [
    "\"\"\"\n",
    "In this Kata the aim is to compare each pair of integers from 2 arrays, and return a new array of large numbers.\n",
    "Note: Both arrays have the same dimensions.\n",
    "Example:\n",
    "\n",
    "arr1 = [13, 64, 15, 17, 88]\n",
    "arr2 = [23, 14, 53, 17, 80]\n",
    "get_larger_numbers(arr1, arr2) == [23, 64, 53, 17, 88]\n",
    "\"\"\"\n",
    "\n",
    "def get_larger_numbers(a, b):\n",
    "    i = 0\n",
    "    j = 0\n",
    "    k = 0\n",
    "    final = [0] * len(a) # We create the new array, which will be filled with the largest numbers from both \n",
    "    # input arrays\n",
    "    while i < len(a):\n",
    "        final[k] = max(a[i], b[j]) # The largest number is picked out and inserted within the final array\n",
    "        i += 1\n",
    "        j += 1\n",
    "        k += 1\n",
    "    return final # The final array is returned\n",
    "\n",
    "get_larger_numbers([13, 64, 15, 17, 88], [23, 14, 53, 17, 80])"
   ]
  }
 ],
 "metadata": {
  "kernelspec": {
   "display_name": "Python 3 (ipykernel)",
   "language": "python",
   "name": "python3"
  },
  "language_info": {
   "codemirror_mode": {
    "name": "ipython",
    "version": 3
   },
   "file_extension": ".py",
   "mimetype": "text/x-python",
   "name": "python",
   "nbconvert_exporter": "python",
   "pygments_lexer": "ipython3",
   "version": "3.9.7"
  }
 },
 "nbformat": 4,
 "nbformat_minor": 5
}
