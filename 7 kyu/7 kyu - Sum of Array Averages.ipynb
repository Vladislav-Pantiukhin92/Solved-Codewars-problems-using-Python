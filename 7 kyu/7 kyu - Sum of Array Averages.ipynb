{
 "cells": [
  {
   "cell_type": "markdown",
   "id": "4b984960",
   "metadata": {},
   "source": [
    "### Sum of Array Averages - 7 kyu, Codewars/Python"
   ]
  },
  {
   "cell_type": "code",
   "execution_count": 64,
   "id": "834c06b6",
   "metadata": {},
   "outputs": [
    {
     "data": {
      "text/plain": [
       "3"
      ]
     },
     "execution_count": 64,
     "metadata": {},
     "output_type": "execute_result"
    }
   ],
   "source": [
    "\"\"\"\n",
    "Program a function sumAverage(arr) where arr is an array containing arrays full of numbers, for example:\n",
    "\n",
    "sum_average([[1, 2, 2, 1], [2, 2, 2, 1]]);\n",
    "First, determine the average of each array. Then, return the sum of all the averages.\n",
    "\n",
    "All numbers will be less than 100 and greater than -100.\n",
    "arr will contain a maximum of 50 arrays.\n",
    "After calculating all the averages, add them all together, then round down, as shown in the example below:\n",
    "The example given: sumAverage([[3, 4, 1, 3, 5, 1, 4], [21, 54, 33, 21, 77]]), the answer being 44.\n",
    "\n",
    "Calculate the average of each individual array:\n",
    "[3, 4, 1, 3, 5, 1, 4] = (3 + 4 + 1 + 3 + 5 + 1 + 4) / 7 = 3\n",
    "[21, 54, 33, 21, 77] = (21 + 54 + 33 + 21 + 77) / 5 = 41.2\n",
    "Add the average of each array together:\n",
    "3 + 41.2 = 44.2\n",
    "Round the final average down:\n",
    "import math\n",
    "math.floor(44.2) = 44\n",
    "\"\"\"\n",
    "\n",
    "from statistics import mean # Calculation of the mean/average value\n",
    "from math import * # The use of the 'floor.math' function\n",
    "\n",
    "def sum_average(arr):\n",
    "    return floor(sum(list(map(lambda x: mean(x), arr)))) # The final mean/average value is returned\n",
    "\n",
    "sum_average([[1, 2, 2, 1], [2, 2, 2, 1]])"
   ]
  }
 ],
 "metadata": {
  "kernelspec": {
   "display_name": "Python 3 (ipykernel)",
   "language": "python",
   "name": "python3"
  },
  "language_info": {
   "codemirror_mode": {
    "name": "ipython",
    "version": 3
   },
   "file_extension": ".py",
   "mimetype": "text/x-python",
   "name": "python",
   "nbconvert_exporter": "python",
   "pygments_lexer": "ipython3",
   "version": "3.9.7"
  }
 },
 "nbformat": 4,
 "nbformat_minor": 5
}
