{
 "cells": [
  {
   "cell_type": "markdown",
   "id": "d9b442a4",
   "metadata": {},
   "source": [
    "### Unscrambled eggs - 7 kyu, Codewars/Python"
   ]
  },
  {
   "cell_type": "code",
   "execution_count": 7,
   "id": "fa484d9e",
   "metadata": {},
   "outputs": [
    {
     "data": {
      "text/plain": [
       "'Beginner'"
      ]
     },
     "execution_count": 7,
     "metadata": {},
     "output_type": "execute_result"
    }
   ],
   "source": [
    "\"\"\"\n",
    "Unscramble the eggs.\n",
    "\n",
    "The string given to your function has had an \"egg\" inserted directly after each consonant. \n",
    "You need to return the string before it became eggcoded.\n",
    "\n",
    "Example\n",
    "unscrambleEggs(\"Beggegeggineggneggeregg\"); => \"Beginner\"\n",
    "//             \"B---eg---in---n---er---\"\n",
    "Kata is supposed to be for beginners to practice regular expressions, so commenting would be appreciated.\n",
    "\"\"\"\n",
    "\n",
    "import re # Regular expression to replace the 'egg' construction with \"\"\n",
    "\n",
    "def unscramble_eggs(word):\n",
    "    return re.sub(r\"egg\", \"\", word) # The final result is returned\n",
    "\n",
    "unscramble_eggs(\"Beggegeggineggneggeregg\")"
   ]
  }
 ],
 "metadata": {
  "kernelspec": {
   "display_name": "Python 3 (ipykernel)",
   "language": "python",
   "name": "python3"
  },
  "language_info": {
   "codemirror_mode": {
    "name": "ipython",
    "version": 3
   },
   "file_extension": ".py",
   "mimetype": "text/x-python",
   "name": "python",
   "nbconvert_exporter": "python",
   "pygments_lexer": "ipython3",
   "version": "3.9.7"
  }
 },
 "nbformat": 4,
 "nbformat_minor": 5
}
