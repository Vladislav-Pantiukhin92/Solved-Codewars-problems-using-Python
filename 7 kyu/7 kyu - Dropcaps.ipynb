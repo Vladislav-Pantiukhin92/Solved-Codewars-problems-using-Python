{
 "cells": [
  {
   "cell_type": "markdown",
   "id": "a38dd496",
   "metadata": {},
   "source": [
    "### Dropcaps - 7 kyu, Codewars/Python"
   ]
  },
  {
   "cell_type": "code",
   "execution_count": 87,
   "id": "4ee877a3",
   "metadata": {},
   "outputs": [
    {
     "data": {
      "text/plain": [
       "'Apple of Banana'"
      ]
     },
     "execution_count": 87,
     "metadata": {},
     "output_type": "execute_result"
    }
   ],
   "source": [
    "\"\"\"\n",
    "DropCaps means that the first letter of the starting word of the paragraph should be in caps and the remaining lowercase, just like you see in the newspaper.\n",
    "But for a change, let\"s do that for each and every word of the given String. Your task is to capitalize every word that has length greater than 2, leaving smaller words as they are.\n",
    "*should work also on Leading and Trailing Spaces and caps.\n",
    "\n",
    "\"apple\"            => \"Apple\"\n",
    "\"apple of banana\"  => \"Apple of Banana\"\n",
    "\"one   space\"      => \"One   Space \n",
    "\"   space WALK   \" => \"   Space Walk   \" \n",
    "Note: you will be provided atleast one word and should take string as input and return string as output.\n",
    "\"\"\"\n",
    "\n",
    "import re\n",
    "\n",
    "def drop_cap(str_):\n",
    "    if not str_:\n",
    "        return \"\"\n",
    "    else:\n",
    "        # Extraction of the words > 2 symbols with regular expressions\n",
    "        words = list(map(lambda x: x.casefold(), re.findall(r\"[a-zA-Z0-9,]{3,}\", str_)))\n",
    "        # Capitalization with title()\n",
    "        words = list(map(lambda x: x.title(), words))\n",
    "        list_filter = list(filter(lambda x: len(x) > 2, str_.split()))\n",
    "        # We create a zip list with old and new word versions\n",
    "        # Other symbols remain unchanged\n",
    "        zip_list = list(zip(list_filter, words))\n",
    "        for i in zip_list:\n",
    "            # The old version of the word is replaced with the new version of the word\n",
    "            str_ = str_.replace(i[0], i[1])\n",
    "        return str_\n",
    "\n",
    "drop_cap(\"apple of banana\")"
   ]
  }
 ],
 "metadata": {
  "kernelspec": {
   "display_name": "Python 3",
   "language": "python",
   "name": "python3"
  },
  "language_info": {
   "codemirror_mode": {
    "name": "ipython",
    "version": 3
   },
   "file_extension": ".py",
   "mimetype": "text/x-python",
   "name": "python",
   "nbconvert_exporter": "python",
   "pygments_lexer": "ipython3",
   "version": "3.8.8"
  }
 },
 "nbformat": 4,
 "nbformat_minor": 5
}
