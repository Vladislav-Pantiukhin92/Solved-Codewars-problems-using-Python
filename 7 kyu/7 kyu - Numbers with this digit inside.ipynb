{
 "cells": [
  {
   "cell_type": "markdown",
   "id": "c3c4dc1e",
   "metadata": {},
   "source": [
    "### Numbers with this digit inside - 7 kyu, Codewars/Python"
   ]
  },
  {
   "cell_type": "code",
   "execution_count": 21,
   "id": "bd02151a",
   "metadata": {},
   "outputs": [
    {
     "data": {
      "text/plain": [
       "[3, 22, 110]"
      ]
     },
     "execution_count": 21,
     "metadata": {},
     "output_type": "execute_result"
    }
   ],
   "source": [
    "\"\"\"\n",
    "You have to search all numbers from inclusive 1 to inclusive a given number x, that have the given digit d in it.\n",
    "The value of d will always be 0 - 9.\n",
    "The value of x will always be greater than 0.\n",
    "\n",
    "You have to return as an array\n",
    "\n",
    "the count of these numbers,\n",
    "their sum\n",
    "and their product.\n",
    "\n",
    "For example:\n",
    "x = 11\n",
    "d = 1\n",
    "->\n",
    "Numbers: 1, 10, 11\n",
    "Return: [3, 22, 110]\n",
    "\n",
    "If there are no numbers, which include the digit, return [0,0,0].\n",
    "\"\"\"\n",
    "\n",
    "from functools import reduce # 'functools.reduce' will be used to calculate the sum, as well as the product \n",
    "# of numbers\n",
    "\n",
    "def numbers_with_digit_inside(x, d):\n",
    "    range_of_numbers = list(range(1, x + 1)) # Generation of the list with relevant numbers\n",
    "    string_numbers = list(map(str, range_of_numbers)) # Integers are transformed into string numbers\n",
    "    def filter_func(number): # The 'filter' function will remove elements, which don't contain the 'd' digit\n",
    "        if str(d) in number:\n",
    "            return 1\n",
    "        return 0\n",
    "    with_ones = list(map(int, list(filter(filter_func, string_numbers))))\n",
    "    if not with_ones: # If the list contains no elements - we return [0,0,0]\n",
    "        return [0,0,0]\n",
    "    # Alternatively, we do the following operation:\n",
    "    count = len(with_ones) # The count - the length of the obtained list\n",
    "    sum_ = reduce(lambda x, y: x + y, with_ones) # The summation operation\n",
    "    product = reduce(lambda x, y: x * y, with_ones) # The product operation\n",
    "    return [count, sum_, product] # The list with three results is returned\n",
    "\n",
    "numbers_with_digit_inside(11, 1)"
   ]
  }
 ],
 "metadata": {
  "kernelspec": {
   "display_name": "Python 3 (ipykernel)",
   "language": "python",
   "name": "python3"
  },
  "language_info": {
   "codemirror_mode": {
    "name": "ipython",
    "version": 3
   },
   "file_extension": ".py",
   "mimetype": "text/x-python",
   "name": "python",
   "nbconvert_exporter": "python",
   "pygments_lexer": "ipython3",
   "version": "3.9.7"
  }
 },
 "nbformat": 4,
 "nbformat_minor": 5
}
