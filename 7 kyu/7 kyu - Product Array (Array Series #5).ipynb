{
 "cells": [
  {
   "cell_type": "markdown",
   "id": "c5f795ed",
   "metadata": {},
   "source": [
    "### Product Array (Array Series #5) - 7 kyu, Codewars/Python"
   ]
  },
  {
   "cell_type": "code",
   "execution_count": 13,
   "id": "1cf3d052",
   "metadata": {},
   "outputs": [
    {
     "data": {
      "text/plain": [
       "[180, 600, 360, 300, 900]"
      ]
     },
     "execution_count": 13,
     "metadata": {},
     "output_type": "execute_result"
    }
   ],
   "source": [
    "\"\"\"\n",
    "Given an array/list [] of integers , Construct a product array Of same size Such That prod[i] \n",
    "is equal to The Product of all the elements of Arr[] except Arr[i].\n",
    "\n",
    "Notes\n",
    "Array/list size is at least 2 .\n",
    "Array/list's numbers Will be only Positives\n",
    "Repetition of numbers in the array/list could occur.\n",
    "\n",
    "Input >> Output Examples\n",
    "productArray ({12,20}) ==>  return {20,12}\n",
    "Explanation:\n",
    "The first element in prod [] array 20 is the product of all array's elements except the first element\n",
    "The second element 12 is the product of all array's elements except the second element .\n",
    "\n",
    "productArray ({1,5,2}) ==> return {10,2,5}\n",
    "Explanation:\n",
    "The first element 10 is the product of all array's elements except the first element 1\n",
    "The second element 2 is the product of all array's elements except the second element 5\n",
    "The Third element 5 is the product of all array's elements except the Third element 2.\n",
    "\n",
    "productArray ({10,3,5,6,2}) return ==> {180,600,360,300,900}\n",
    "Explanation:\n",
    "The first element 180 is the product of all array's elements except the first element 10\n",
    "The second element 600 is the product of all array's elements except the second element 3\n",
    "The Third element 360 is the product of all array's elements except the third element 5\n",
    "The Fourth element 300 is the product of all array's elements except the fourth element 6\n",
    "Finally ,The Fifth element 900 is the product of all array's elements except the fifth element 2\n",
    "\"\"\"\n",
    "\n",
    "from functools import reduce # 'functools.reduce' will be used to sum all elements together and obtain the product\n",
    "\n",
    "def product_array(numbers):\n",
    "    allProduct = reduce(lambda x, y: x * y, numbers) # It is the joint product of all elements\n",
    "    final = [allProduct // i for i in numbers] # The list with relevant elements (product - element) is generated\n",
    "    return final # The final result is returned\n",
    "\n",
    "product_array([10,3,5,6,2])"
   ]
  }
 ],
 "metadata": {
  "kernelspec": {
   "display_name": "Python 3 (ipykernel)",
   "language": "python",
   "name": "python3"
  },
  "language_info": {
   "codemirror_mode": {
    "name": "ipython",
    "version": 3
   },
   "file_extension": ".py",
   "mimetype": "text/x-python",
   "name": "python",
   "nbconvert_exporter": "python",
   "pygments_lexer": "ipython3",
   "version": "3.9.7"
  }
 },
 "nbformat": 4,
 "nbformat_minor": 5
}
