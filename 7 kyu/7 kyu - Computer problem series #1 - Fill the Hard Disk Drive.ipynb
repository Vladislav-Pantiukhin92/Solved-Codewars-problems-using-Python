{
 "cells": [
  {
   "cell_type": "markdown",
   "id": "dcac00aa",
   "metadata": {},
   "source": [
    "### Computer problem series #1: Fill the Hard Disk Drive - 7 kyu, Codewars/Python"
   ]
  },
  {
   "cell_type": "code",
   "execution_count": 9,
   "id": "9a49284d",
   "metadata": {},
   "outputs": [
    {
     "data": {
      "text/plain": [
       "3"
      ]
     },
     "execution_count": 9,
     "metadata": {},
     "output_type": "execute_result"
    }
   ],
   "source": [
    "\"\"\"\n",
    "Your task is to determine how many files of the copy queue you will be able to save into your \n",
    "Hard Disk Drive. The files must be saved in the order they appear in the queue.\n",
    "\n",
    "Input:\n",
    "Array of file sizes (0 <= s <= 100)\n",
    "Capacity of the HD (0 <= c <= 500)\n",
    "Output:\n",
    "Number of files that can be fully saved in the HD.\n",
    "Examples:\n",
    "save([4,4,4,3,3], 12) -> 3\n",
    "# 4+4+4 <= 12, but 4+4+4+3 > 12\n",
    "save([4,4,4,3,3], 11) -> 2\n",
    "# 4+4 <= 11, but 4+4+4 > 11\n",
    "Do not expect any negative or invalid inputs.\n",
    "\"\"\"\n",
    "\n",
    "from itertools import accumulate # 'itertools.accumulate' will generate the cumulative sum within the given \n",
    "# input list\n",
    "from operator import * # 'operator.eq' will compare elements (if values are equal - we return True, alternatively - False)\n",
    "\n",
    "def save(sizes, hd):\n",
    "# The use of the 'enumerate' function:\n",
    "    for i, j in enumerate(list(accumulate(sizes))):\n",
    "# The case, when the cumulative sum equals to the 'hd' parameter:\n",
    "        if eq(j, hd): \n",
    "            return i + 1 # The 'index plus 1' is finally returned\n",
    "# The case, when the cumulative sum is already larger than the relevant given input:\n",
    "        elif j > hd: \n",
    "            return i # The current index is finally returned\n",
    "# Otherwise, we return the entire length of the given input list\n",
    "    return len(sizes)\n",
    "\n",
    "save([4,4,4,3,3], 12)"
   ]
  }
 ],
 "metadata": {
  "kernelspec": {
   "display_name": "Python 3 (ipykernel)",
   "language": "python",
   "name": "python3"
  },
  "language_info": {
   "codemirror_mode": {
    "name": "ipython",
    "version": 3
   },
   "file_extension": ".py",
   "mimetype": "text/x-python",
   "name": "python",
   "nbconvert_exporter": "python",
   "pygments_lexer": "ipython3",
   "version": "3.9.7"
  }
 },
 "nbformat": 4,
 "nbformat_minor": 5
}
