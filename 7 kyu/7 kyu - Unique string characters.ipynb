{
 "cells": [
  {
   "cell_type": "markdown",
   "id": "f78514f5",
   "metadata": {},
   "source": [
    "### Unique string characters - 7 kyu, Codewars/Python"
   ]
  },
  {
   "cell_type": "code",
   "execution_count": 18,
   "id": "9f21069e",
   "metadata": {},
   "outputs": [
    {
     "data": {
      "text/plain": [
       "'ybzc'"
      ]
     },
     "execution_count": 18,
     "metadata": {},
     "output_type": "execute_result"
    }
   ],
   "source": [
    "\"\"\"\n",
    "In this Kata, you will be given two strings a and b and your task will be to return the characters that \n",
    "are not common in the two strings.\n",
    "For example:\n",
    "\n",
    "solve(\"xyab\",\"xzca\") = \"ybzc\" \n",
    "--The first string has 'yb' which is not in the second string. \n",
    "--The second string has 'zc' which is not in the first string. \n",
    "Notice also that you return the characters from the first string concatenated with those from the second \n",
    "string.\n",
    "\"\"\"\n",
    "\n",
    "def solve(a,b):\n",
    "# To obtain the unique characters, we are going to use the set method 'set1.symmetric_difference(set2)':\n",
    "    unique_chars = list(set(a).symmetric_difference(set(b)))\n",
    "# The unique characters are obtained.\n",
    "    finalChars = \"\"\n",
    "    concatenated = a + b\n",
    "# As a final string result, it is of importance to return all the characters in proper order:\n",
    "    for i in concatenated:\n",
    "        if i in unique_chars:\n",
    "            finalChars += i\n",
    "    return finalChars # The final string is returned\n",
    "\n",
    "solve(\"xyab\",\"xzca\")"
   ]
  }
 ],
 "metadata": {
  "kernelspec": {
   "display_name": "Python 3 (ipykernel)",
   "language": "python",
   "name": "python3"
  },
  "language_info": {
   "codemirror_mode": {
    "name": "ipython",
    "version": 3
   },
   "file_extension": ".py",
   "mimetype": "text/x-python",
   "name": "python",
   "nbconvert_exporter": "python",
   "pygments_lexer": "ipython3",
   "version": "3.9.7"
  }
 },
 "nbformat": 4,
 "nbformat_minor": 5
}
