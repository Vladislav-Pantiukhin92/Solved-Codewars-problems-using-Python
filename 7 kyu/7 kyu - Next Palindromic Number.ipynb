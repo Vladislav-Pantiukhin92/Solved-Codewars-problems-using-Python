{
 "cells": [
  {
   "cell_type": "markdown",
   "id": "13e5fe80",
   "metadata": {},
   "source": [
    "### Next Palindromic Number. - 7 kyu, Codewars/Python"
   ]
  },
  {
   "cell_type": "code",
   "execution_count": 6,
   "id": "162de148",
   "metadata": {},
   "outputs": [
    {
     "data": {
      "text/plain": [
       "22"
      ]
     },
     "execution_count": 6,
     "metadata": {},
     "output_type": "execute_result"
    }
   ],
   "source": [
    "\"\"\"\n",
    "There were and still are many problem in CW about palindrome numbers and palindrome strings. We suposse \n",
    "that you know which kind of numbers they are. If not, you may search about them using your favourite \n",
    "search engine.\n",
    "In this kata you will be given a positive integer, val and you have to create the function \n",
    "next_pal()(nextPal Javascript) that will output the smallest palindrome number higher than val.\n",
    "\n",
    "Let's see:\n",
    "For Python\n",
    "next_pal(11) == 22\n",
    "\n",
    "next_pal(188) == 191\n",
    "\n",
    "next_pal(191) == 202\n",
    "\n",
    "next_pal(2541) == 2552\n",
    "You will be receiving values higher than 10, all valid.\n",
    "\"\"\"\n",
    "\n",
    "from operator import * # 'operator.eq' will compare elements\n",
    "\n",
    "def next_pal(val):\n",
    "# The function, aimed at finding the longest palindromic substring:\n",
    "    def is_palindrome(string):\n",
    "        max_len = 0 # The initial max_length of the palindromic substring is 0\n",
    "# There are two major cases - with the odd length and the even length\n",
    "        for i in range(len(string)): # The odd-numbered case\n",
    "            l, r = i, i\n",
    "            while l >= 0 and r < len(string) and string[l] == string[r]:\n",
    "                if (r - l) + 1 > max_len:\n",
    "                    max_len = (r - l) + 1\n",
    "                l -= 1\n",
    "                r += 1\n",
    "        for i in range(len(string)): # The even-numbered case\n",
    "            l, r = i, i + 1\n",
    "            while l >= 0 and r < len(string) and string[l] == string[r]:\n",
    "                if (r - l) + 1 > max_len:\n",
    "                    max_len = (r - l) + 1\n",
    "                l -= 1\n",
    "                r += 1\n",
    "        if eq(max_len, len(string)): # If the longest palindromic substring equals to the given input string\n",
    "            # itself - we return True\n",
    "            return True\n",
    "        return False # In case of inequality - we return False\n",
    "# The search of the smallest palindromic numeric sequence, following the given input value:\n",
    "    number = val + 1\n",
    "    while not is_palindrome(str(number)): # If the palindromic function returns True - we finally return the \n",
    "        # smallest palindromic number\n",
    "        number += 1\n",
    "    return number\n",
    "\n",
    "next_pal(11)"
   ]
  }
 ],
 "metadata": {
  "kernelspec": {
   "display_name": "Python 3 (ipykernel)",
   "language": "python",
   "name": "python3"
  },
  "language_info": {
   "codemirror_mode": {
    "name": "ipython",
    "version": 3
   },
   "file_extension": ".py",
   "mimetype": "text/x-python",
   "name": "python",
   "nbconvert_exporter": "python",
   "pygments_lexer": "ipython3",
   "version": "3.9.7"
  }
 },
 "nbformat": 4,
 "nbformat_minor": 5
}
