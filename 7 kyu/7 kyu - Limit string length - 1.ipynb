{
 "cells": [
  {
   "cell_type": "markdown",
   "id": "fee82180",
   "metadata": {},
   "source": [
    "### Limit string length - 1 - 7 kyu, Codewars/Python"
   ]
  },
  {
   "cell_type": "code",
   "execution_count": 55,
   "id": "9c70f97f",
   "metadata": {},
   "outputs": [
    {
     "data": {
      "text/plain": [
       "'Tes...'"
      ]
     },
     "execution_count": 55,
     "metadata": {},
     "output_type": "execute_result"
    }
   ],
   "source": [
    "\"\"\"\n",
    "The function must return the truncated version of the given string up to the given limit followed \n",
    "by \"...\" if the result is shorter than the original. Return the same string if nothing was truncated.\n",
    "Example:\n",
    "\n",
    "solution('Testing String', 3) --> 'Tes...'\n",
    "solution('Testing String', 8) --> 'Testing ...'\n",
    "solution('Test', 8)           --> 'Test'\n",
    "\"\"\"\n",
    "\n",
    "from itertools import islice # 'itertools.islice' will be used to extract the specific slice of values\n",
    "\n",
    "def solution(st, limit): \n",
    "    length = len(st) # The length of the given input string\n",
    "    if limit >= length: # If the limit value is equal to or larger than the length of the given input string - \n",
    "        # we return the string without changes/separate slices\n",
    "        return st\n",
    "    # Alternatively, the slice is obtained\n",
    "    curSlice = \"\".join(list(islice(st, limit)))\n",
    "    return f\"{curSlice}...\" # With the help of the 'f-string' we return the obtained string expression\n",
    "\n",
    "solution(\"Testing String\", 3)"
   ]
  }
 ],
 "metadata": {
  "kernelspec": {
   "display_name": "Python 3 (ipykernel)",
   "language": "python",
   "name": "python3"
  },
  "language_info": {
   "codemirror_mode": {
    "name": "ipython",
    "version": 3
   },
   "file_extension": ".py",
   "mimetype": "text/x-python",
   "name": "python",
   "nbconvert_exporter": "python",
   "pygments_lexer": "ipython3",
   "version": "3.9.7"
  }
 },
 "nbformat": 4,
 "nbformat_minor": 5
}
