{
 "cells": [
  {
   "cell_type": "markdown",
   "id": "d43dea0d",
   "metadata": {},
   "source": [
    "### Sort an array by value and index - 7 kyu, Codewars/Python"
   ]
  },
  {
   "cell_type": "code",
   "execution_count": 36,
   "id": "e88e38aa",
   "metadata": {},
   "outputs": [
    {
     "data": {
      "text/plain": [
       "[2, 3, 4, 23, 5]"
      ]
     },
     "execution_count": 36,
     "metadata": {},
     "output_type": "execute_result"
    }
   ],
   "source": [
    "\"\"\"\n",
    "Sort an array by value and index\n",
    "Your task is to sort an array of integer numbers by the product of the value and the index of the positions.\n",
    "For sorting the index starts at 1, NOT at 0!\n",
    "The sorting has to be ascending.\n",
    "The array will never be null and will always contain numbers.\n",
    "Example:\n",
    "\n",
    "Input: 23, 2, 3, 4, 5\n",
    "Product of value and index:\n",
    "23 => 23 * 1 = 23  -> Output-Pos 4\n",
    " 2 =>  2 * 2 = 4   -> Output-Pos 1\n",
    " 3 =>  3 * 3 = 9   -> Output-Pos 2\n",
    " 4 =>  4 * 4 = 16  -> Output-Pos 3\n",
    " 5 =>  5 * 5 = 25  -> Output-Pos 5\n",
    "\n",
    "Output: 2, 3, 4, 23, 5\n",
    "\"\"\"\n",
    "\n",
    "from operator import * # 'operator.itemgetter()' is to be utilized to sort the array in a specific manner\n",
    "\n",
    "def sort_by_value_and_index(arr):\n",
    "    my_array = [] # The list container, which will store the product of an element and its index\n",
    "    # Through the 'enumerate' function we are going to obtain the product of each element and append it to the \n",
    "    # rear of the list container:\n",
    "    for i, j in enumerate(arr, 1):\n",
    "        curProduct = i * j\n",
    "        my_array.append(curProduct)\n",
    "    # The next step is to obtain the zip_list, sorted in a specific manner (the focus is on the second argument)\n",
    "    zip_list = sorted(list(zip(arr, my_array)), key=itemgetter(1))\n",
    "    # Through the 'map' function we extract the specifically sorted first part of the zip_list:\n",
    "    final = list(map(lambda x: x[0], zip_list))\n",
    "    return final # The list is finally returned\n",
    "\n",
    "sort_by_value_and_index([23,2,3,4,5])"
   ]
  }
 ],
 "metadata": {
  "kernelspec": {
   "display_name": "Python 3 (ipykernel)",
   "language": "python",
   "name": "python3"
  },
  "language_info": {
   "codemirror_mode": {
    "name": "ipython",
    "version": 3
   },
   "file_extension": ".py",
   "mimetype": "text/x-python",
   "name": "python",
   "nbconvert_exporter": "python",
   "pygments_lexer": "ipython3",
   "version": "3.9.7"
  }
 },
 "nbformat": 4,
 "nbformat_minor": 5
}
