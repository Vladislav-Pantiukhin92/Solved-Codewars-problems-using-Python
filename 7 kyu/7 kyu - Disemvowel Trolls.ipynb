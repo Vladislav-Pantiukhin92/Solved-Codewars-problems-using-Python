{
 "cells": [
  {
   "cell_type": "markdown",
   "id": "dcac00aa",
   "metadata": {},
   "source": [
    "### Disemvowel Trolls - 7 kyu, Codewars/Python"
   ]
  },
  {
   "cell_type": "code",
   "execution_count": 11,
   "id": "9619f2b5",
   "metadata": {},
   "outputs": [
    {
     "data": {
      "text/plain": [
       "'Ths wbst s fr lsrs LL!'"
      ]
     },
     "execution_count": 11,
     "metadata": {},
     "output_type": "execute_result"
    }
   ],
   "source": [
    "\"\"\"\n",
    "Trolls are attacking your comment section!\n",
    "A common way to deal with this situation is to remove all of the vowels from the trolls' comments, \n",
    "neutralizing the threat.\n",
    "Your task is to write a function that takes a string and return a new string with all vowels removed.\n",
    "For example, the string \"This website is for losers LOL!\" would become \"Ths wbst s fr lsrs LL!\".\n",
    "Note: for this kata y isn't considered a vowel.\n",
    "\"\"\"\n",
    "\n",
    "def disemvowel(string_):\n",
    "# We are going to use the string method 'str.maketrans()' for the conversion of vowels:\n",
    "# The given input string is split into words (the list of words). The use of the 'map' function - conversion\n",
    "# of all the words in a separate manner\n",
    "# One-liner solution:\n",
    "    return (\" \".join(list(map(lambda x: \"\".join(x.translate(str.maketrans(\"aeiouAEIOU\", 10 * \" \")).\n",
    "                                                split(\" \")),string_.split(\" \")))))\n",
    "\n",
    "disemvowel(\"This website is for losers LOL!\")"
   ]
  }
 ],
 "metadata": {
  "kernelspec": {
   "display_name": "Python 3 (ipykernel)",
   "language": "python",
   "name": "python3"
  },
  "language_info": {
   "codemirror_mode": {
    "name": "ipython",
    "version": 3
   },
   "file_extension": ".py",
   "mimetype": "text/x-python",
   "name": "python",
   "nbconvert_exporter": "python",
   "pygments_lexer": "ipython3",
   "version": "3.9.7"
  }
 },
 "nbformat": 4,
 "nbformat_minor": 5
}
