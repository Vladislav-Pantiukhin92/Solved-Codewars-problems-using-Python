{
 "cells": [
  {
   "cell_type": "markdown",
   "id": "374ec340",
   "metadata": {},
   "source": [
    "### Binary Addition - 7 kyu, Codewars/Python"
   ]
  },
  {
   "cell_type": "code",
   "execution_count": 11,
   "id": "41bc640e",
   "metadata": {},
   "outputs": [
    {
     "data": {
      "text/plain": [
       "'1110'"
      ]
     },
     "execution_count": 11,
     "metadata": {},
     "output_type": "execute_result"
    }
   ],
   "source": [
    "\"\"\"\n",
    "Implement a function that adds two numbers together and returns their sum in binary. The conversion \n",
    "can be done before, or after the addition.\n",
    "The binary number returned should be a string.\n",
    "Examples:(Input1, Input2 --> Output (explanation)))\n",
    "\n",
    "1, 1 --> \"10\" (1 + 1 = 2 in decimal or 10 in binary)\n",
    "5, 9 --> \"1110\" (5 + 9 = 14 in decimal or 1110 in binary)\n",
    "\"\"\"\n",
    "\n",
    "from operator import * # 'operator.add' will replicate the internal summation work of Python\n",
    "\n",
    "def add_binary(a,b):\n",
    "# The chain of steps: two numbers are added together -> binary representation of the summation result is obtained\n",
    "# -> the \"0b\" is removed, and the final string is returned\n",
    "    return bin(add(a, b)).lstrip(\"0b\")\n",
    "\n",
    "add_binary(5,9)"
   ]
  }
 ],
 "metadata": {
  "kernelspec": {
   "display_name": "Python 3 (ipykernel)",
   "language": "python",
   "name": "python3"
  },
  "language_info": {
   "codemirror_mode": {
    "name": "ipython",
    "version": 3
   },
   "file_extension": ".py",
   "mimetype": "text/x-python",
   "name": "python",
   "nbconvert_exporter": "python",
   "pygments_lexer": "ipython3",
   "version": "3.9.7"
  }
 },
 "nbformat": 4,
 "nbformat_minor": 5
}
