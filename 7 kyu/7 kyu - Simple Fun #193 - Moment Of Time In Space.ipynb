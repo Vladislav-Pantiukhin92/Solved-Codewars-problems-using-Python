{
 "cells": [
  {
   "cell_type": "markdown",
   "id": "d18708a3",
   "metadata": {},
   "source": [
    "### Simple Fun #193: Moment Of Time In Space - 7 kyu, Codewars/Python"
   ]
  },
  {
   "cell_type": "code",
   "execution_count": 625,
   "id": "aa7c920f",
   "metadata": {},
   "outputs": [
    {
     "data": {
      "text/plain": [
       "[False, False, True]"
      ]
     },
     "execution_count": 625,
     "metadata": {},
     "output_type": "execute_result"
    }
   ],
   "source": [
    "\"\"\"\n",
    "You are given a moment in time and space. What you must do is break it down into time and space, \n",
    "to determine if that moment is from the past, present or future.\n",
    "\n",
    "Time is the sum of characters that increase time (i.e. numbers in range ['1'..'9'].\n",
    "Space in the number of characters which do not increase time (i.e. all characters \n",
    "but those that increase time).\n",
    "\n",
    "The moment of time is determined as follows:\n",
    "If time is greater than space, then the moment is from the future. \n",
    "If time is less than space, then the moment is from the past. Otherwise, it is the present moment.\n",
    "\n",
    "You should return an array of three elements, two of which are false, and one is true. \n",
    "The true value should be at the 1st, 2nd or 3rd place for past, present and future respectively.\n",
    "\n",
    "Examples\n",
    "For moment = \"01:00 pm\", the output should be [true, false, false].\n",
    "time equals 1, and space equals 7, so the moment is from the past.\n",
    "For moment = \"12:02 pm\", the output should be [false, true, false].\n",
    "time equals 5, and space equals 5, which means that it's a present moment.\n",
    "\n",
    "For moment = \"12:30 pm\", the output should be [false, false, true].\n",
    "time equals 6, space equals 5, so the moment is from the future.\n",
    "\n",
    "Input/Output\n",
    "[input] string moment\n",
    "The moment of time and space that the input time came from.\n",
    "\n",
    "[output] a boolean array\n",
    "Array of three elements, two of which are false, and one is true. \n",
    "The true value should be at the 1st, 2nd or 3rd place for past, present and future respectively.\n",
    "\"\"\"\n",
    "\n",
    "import re\n",
    "from functools import reduce # Functools for addition operation\n",
    "\n",
    "def moment_of_time_in_space(moment):\n",
    "    # The nested list - the preferable element of which we are going to pick out after all operations\n",
    "    final = [[False for _ in range(3)] for _ in range(3)]\n",
    "    final[0][0] = True\n",
    "    final[1][1] = True\n",
    "    final[2][2] = True\n",
    "    # Through the use of regular expressions we identify time values (digits except 0) and space values (other values)\n",
    "    time = reduce(lambda x, y: x + y, list(map(int, re.findall(r\"[1-9]\", moment))))\n",
    "    space = len(re.findall(r\"[^1-9]\", moment))\n",
    "    # The simple comparison of numbers\n",
    "    if time - space < 0:\n",
    "        return final[0]\n",
    "    elif time - space == 0:\n",
    "        return final[1]\n",
    "    return final[2]\n",
    "    \n",
    "    \n",
    "moment_of_time_in_space(\"12:30 pm\")"
   ]
  }
 ],
 "metadata": {
  "kernelspec": {
   "display_name": "Python 3",
   "language": "python",
   "name": "python3"
  },
  "language_info": {
   "codemirror_mode": {
    "name": "ipython",
    "version": 3
   },
   "file_extension": ".py",
   "mimetype": "text/x-python",
   "name": "python",
   "nbconvert_exporter": "python",
   "pygments_lexer": "ipython3",
   "version": "3.8.8"
  }
 },
 "nbformat": 4,
 "nbformat_minor": 5
}
