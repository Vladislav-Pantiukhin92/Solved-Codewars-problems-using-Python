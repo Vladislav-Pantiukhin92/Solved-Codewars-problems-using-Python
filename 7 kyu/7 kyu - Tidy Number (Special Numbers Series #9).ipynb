{
 "cells": [
  {
   "cell_type": "markdown",
   "id": "c5f795ed",
   "metadata": {},
   "source": [
    "### Tidy Number (Special Numbers Series #9) - 7 kyu, Codewars/Python"
   ]
  },
  {
   "cell_type": "code",
   "execution_count": 12,
   "id": "65fea1ed",
   "metadata": {},
   "outputs": [
    {
     "data": {
      "text/plain": [
       "False"
      ]
     },
     "execution_count": 12,
     "metadata": {},
     "output_type": "execute_result"
    }
   ],
   "source": [
    "\"\"\"\n",
    "A Tidy number is a number whose digits are in non-decreasing order.\n",
    "\n",
    "Task\n",
    "Given a number, Find if it is Tidy or not .\n",
    "\n",
    "Warm-up (Highly recommended)\n",
    "Playing With Numbers Series\n",
    "Notes\n",
    "Number passed is always Positive .\n",
    "\n",
    "Return the result as a Boolean\n",
    "\n",
    "Input >> Output Examples\n",
    "tidyNumber (12) ==> return (true)\n",
    "Explanation:\n",
    "The number's digits { 1 , 2 } are in non-Decreasing Order (i.e) 1 <= 2 .\n",
    "\n",
    "tidyNumber (32) ==> return (false)\n",
    "Explanation:\n",
    "The Number's Digits { 3, 2} are not in non-Decreasing Order (i.e) 3 > 2 .\n",
    "\n",
    "tidyNumber (1024) ==> return (false)\n",
    "Explanation:\n",
    "The Number's Digits {1 , 0, 2, 4} are not in non-Decreasing Order as 0 <= 1 .\n",
    "\n",
    "tidyNumber (13579) ==> return (true)\n",
    "Explanation:\n",
    "The number's digits {1 , 3, 5, 7, 9} are in non-Decreasing Order .\n",
    "\n",
    "tidyNumber (2335) ==> return (true)\n",
    "Explanation:\n",
    "The number's digits {2 , 3, 3, 5} are in non-Decreasing Order , Note 3 <= 3\n",
    "\"\"\"\n",
    "\n",
    "def tidyNumber(n): # The non-decreasing order means that all elements (digits) are sorted in ascending order\n",
    "# If the original given input number equals to its sorted option - we return True, otherwise we return False\n",
    "    return str(n) == \"\".join(sorted(str(n)))\n",
    "\n",
    "tidyNumber(1024)"
   ]
  }
 ],
 "metadata": {
  "kernelspec": {
   "display_name": "Python 3 (ipykernel)",
   "language": "python",
   "name": "python3"
  },
  "language_info": {
   "codemirror_mode": {
    "name": "ipython",
    "version": 3
   },
   "file_extension": ".py",
   "mimetype": "text/x-python",
   "name": "python",
   "nbconvert_exporter": "python",
   "pygments_lexer": "ipython3",
   "version": "3.9.7"
  }
 },
 "nbformat": 4,
 "nbformat_minor": 5
}
