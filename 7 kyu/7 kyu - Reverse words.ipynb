{
 "cells": [
  {
   "cell_type": "markdown",
   "id": "2acc325e",
   "metadata": {},
   "source": [
    "### Reverse words - 7 kyu, Codewars/Python"
   ]
  },
  {
   "cell_type": "code",
   "execution_count": 6,
   "id": "6c807593",
   "metadata": {},
   "outputs": [
    {
     "data": {
      "text/plain": [
       "'sihT si na !elpmaxe'"
      ]
     },
     "execution_count": 6,
     "metadata": {},
     "output_type": "execute_result"
    }
   ],
   "source": [
    "\"\"\"\n",
    "Complete the function that accepts a string parameter, and reverses each word in the string. \n",
    "All spaces in the string should be retained.\n",
    "\n",
    "Examples\n",
    "\"This is an example!\" ==> \"sihT si na !elpmaxe\"\n",
    "\"double  spaces\"      ==> \"elbuod  secaps\"\n",
    "\"\"\"\n",
    "\n",
    "import re # Regular expression to find spaces\n",
    "\n",
    "def reverse_words(text):\n",
    "    my_list = list(map(lambda x: x[::-1], text.split())) # All the words are being reversed through the \n",
    "    # implementation of the 'map' function\n",
    "    spaces = re.findall(r\"\\s+\", text) # All the spaces are found\n",
    "    # We return the new string with reversed words, while keeping all the whitespaces in place\n",
    "    return \"\".join([i + spaces.pop(0) if spaces else i + \"\" for i in my_list])\n",
    "\n",
    "reverse_words(\"This is an example!\")"
   ]
  }
 ],
 "metadata": {
  "kernelspec": {
   "display_name": "Python 3 (ipykernel)",
   "language": "python",
   "name": "python3"
  },
  "language_info": {
   "codemirror_mode": {
    "name": "ipython",
    "version": 3
   },
   "file_extension": ".py",
   "mimetype": "text/x-python",
   "name": "python",
   "nbconvert_exporter": "python",
   "pygments_lexer": "ipython3",
   "version": "3.9.7"
  }
 },
 "nbformat": 4,
 "nbformat_minor": 5
}
