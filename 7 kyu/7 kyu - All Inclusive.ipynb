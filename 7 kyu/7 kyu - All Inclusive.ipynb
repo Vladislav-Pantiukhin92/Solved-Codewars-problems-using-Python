{
 "cells": [
  {
   "cell_type": "markdown",
   "id": "c4d550f3",
   "metadata": {},
   "source": [
    "### All Inclusive? - 7 kyu, Codewars/Python"
   ]
  },
  {
   "cell_type": "code",
   "execution_count": 30,
   "id": "f5a481b0",
   "metadata": {},
   "outputs": [
    {
     "data": {
      "text/plain": [
       "True"
      ]
     },
     "execution_count": 30,
     "metadata": {},
     "output_type": "execute_result"
    }
   ],
   "source": [
    "\"\"\"\n",
    "Input:\n",
    "\n",
    "- a string strng\n",
    "- an array of strings arr\n",
    "Output of function contain_all_rots(strng, arr) (or containAllRots or contain-all-rots):\n",
    "\n",
    "- a boolean true if all rotations of strng are included in arr (C returns 1)\n",
    "- false otherwise (C returns 0)\n",
    "Examples:\n",
    "contain_all_rots(\n",
    "  \"bsjq\", [\"bsjq\", \"qbsj\", \"sjqb\", \"twZNsslC\", \"jqbs\"]) -> true\n",
    "\n",
    "contain_all_rots(\n",
    "  \"Ajylvpy\", [\"Ajylvpy\", \"ylvpyAj\", \"jylvpyA\", \"lvpyAjy\", \"pyAjylv\", \"vpyAjyl\", \"ipywee\"]) -> false)\n",
    "Note:\n",
    "Though not correct in a mathematical sense\n",
    "\n",
    "we will consider that there are no rotations of strng == \"\"\n",
    "and for any array arr: contain_all_rots(\"\", arr) --> true\n",
    "\n",
    "\"\"\"\n",
    "\n",
    "from collections import deque # Deque is used to rotate the string\n",
    "\n",
    "def contain_all_rots(strng, arr):\n",
    "    if not strng: # If string is empty, meaning - \"\", return True\n",
    "        return True\n",
    "    collection_rotation = [] # All rotation options are collected within the created container\n",
    "    length = len(strng)\n",
    "    strng = deque(strng)\n",
    "    count = 0\n",
    "    while count < length:\n",
    "        strng.rotate(1) # We rotate the string and add the result to our container\n",
    "        collection_rotation.append(\"\".join(strng))\n",
    "        count += 1\n",
    "    for i in collection_rotation:\n",
    "        if i not in arr: # If arr doesn't comprise some rotation options - return False\n",
    "            return False\n",
    "    return True # Otherwise - return True\n",
    "\n",
    "contain_all_rots(\"bsjq\", [\"bsjq\", \"qbsj\", \"sjqb\", \"twZNsslC\", \"jqbs\"])"
   ]
  }
 ],
 "metadata": {
  "kernelspec": {
   "display_name": "Python 3",
   "language": "python",
   "name": "python3"
  },
  "language_info": {
   "codemirror_mode": {
    "name": "ipython",
    "version": 3
   },
   "file_extension": ".py",
   "mimetype": "text/x-python",
   "name": "python",
   "nbconvert_exporter": "python",
   "pygments_lexer": "ipython3",
   "version": "3.8.8"
  }
 },
 "nbformat": 4,
 "nbformat_minor": 5
}
