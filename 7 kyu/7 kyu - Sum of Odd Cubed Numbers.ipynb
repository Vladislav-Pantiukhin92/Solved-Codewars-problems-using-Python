{
 "cells": [
  {
   "cell_type": "markdown",
   "id": "57eb5e89",
   "metadata": {},
   "source": [
    "### Sum of Odd Cubed Numbers - 7 kyu, Codewars/Python"
   ]
  },
  {
   "cell_type": "code",
   "execution_count": 54,
   "id": "2a17cea2",
   "metadata": {},
   "outputs": [
    {
     "data": {
      "text/plain": [
       "28"
      ]
     },
     "execution_count": 54,
     "metadata": {},
     "output_type": "execute_result"
    }
   ],
   "source": [
    "\"\"\"\n",
    "Find the sum of the odd numbers within an array, after cubing the initial integers. The function should \n",
    "return undefined/None/nil/NULL if any of the values aren't numbers.\n",
    "Note: Booleans should not be considered as numbers.\n",
    "\"\"\"\n",
    "\n",
    "def cube_odd(arr):\n",
    "# First of all, we need to inspect the data type of elements within the given input list (with the help of \n",
    "# the 'all' function):\n",
    "    if not all(type(i) == int for i in arr):\n",
    "        return None # If, at least, one element is not an integer - we return None\n",
    "# The next operation is to obtain the cubed numbers within the given input list:\n",
    "    cubed_numbers = list(map(lambda x: pow(x, 3), arr))\n",
    "# With the assistance of the 'filter' function we are going to sum only odd numbers:\n",
    "    odd_sum = sum(list(filter(lambda x: x % 2 != 0, cubed_numbers)))\n",
    "    return odd_sum # The summation result is returned\n",
    "\n",
    "cube_odd([1, 2, 3, 4])"
   ]
  }
 ],
 "metadata": {
  "kernelspec": {
   "display_name": "Python 3 (ipykernel)",
   "language": "python",
   "name": "python3"
  },
  "language_info": {
   "codemirror_mode": {
    "name": "ipython",
    "version": 3
   },
   "file_extension": ".py",
   "mimetype": "text/x-python",
   "name": "python",
   "nbconvert_exporter": "python",
   "pygments_lexer": "ipython3",
   "version": "3.9.7"
  }
 },
 "nbformat": 4,
 "nbformat_minor": 5
}
