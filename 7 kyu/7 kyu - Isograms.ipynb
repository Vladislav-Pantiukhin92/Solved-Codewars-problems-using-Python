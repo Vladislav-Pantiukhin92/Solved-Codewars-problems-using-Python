{
 "cells": [
  {
   "cell_type": "markdown",
   "id": "1204731a",
   "metadata": {},
   "source": [
    "### Isograms - 7 kyu, Codewars/Python"
   ]
  },
  {
   "cell_type": "code",
   "execution_count": 9,
   "id": "2a727723",
   "metadata": {},
   "outputs": [
    {
     "data": {
      "text/plain": [
       "True"
      ]
     },
     "execution_count": 9,
     "metadata": {},
     "output_type": "execute_result"
    }
   ],
   "source": [
    "\"\"\"\n",
    "An isogram is a word that has no repeating letters, consecutive or non-consecutive. Implement a function \n",
    "that determines whether a string that contains only letters is an isogram. Assume the empty string is an \n",
    "isogram. Ignore letter case.\n",
    "Example: (Input --> Output)\n",
    "\n",
    "\"Dermatoglyphics\" --> true\n",
    "\"aba\" --> false\n",
    "\"moOse\" --> false (ignore letter case)\n",
    "\"\"\"\n",
    "\n",
    "def is_isogram(string): \n",
    "    string = string.casefold() # Lowercase convertion\n",
    "    # The given input string is an isogram if the length of the original string equals to the length of the set of \n",
    "    # string characters. The point is that if the string contains duplicates - the set structure will remove them.\n",
    "    return len(string) == len(set(string))\n",
    "\n",
    "is_isogram(\"Dermatoglyphics\")"
   ]
  }
 ],
 "metadata": {
  "kernelspec": {
   "display_name": "Python 3 (ipykernel)",
   "language": "python",
   "name": "python3"
  },
  "language_info": {
   "codemirror_mode": {
    "name": "ipython",
    "version": 3
   },
   "file_extension": ".py",
   "mimetype": "text/x-python",
   "name": "python",
   "nbconvert_exporter": "python",
   "pygments_lexer": "ipython3",
   "version": "3.9.7"
  }
 },
 "nbformat": 4,
 "nbformat_minor": 5
}
