{
 "cells": [
  {
   "cell_type": "markdown",
   "id": "c710414f",
   "metadata": {},
   "source": [
    "### Sort Numbers (by Insertion Sort) - 7 kyu, Codewars/Python. "
   ]
  },
  {
   "cell_type": "code",
   "execution_count": 10,
   "id": "b29500d5",
   "metadata": {},
   "outputs": [
    {
     "data": {
      "text/plain": [
       "[1, 2, 3, 5, 10]"
      ]
     },
     "execution_count": 10,
     "metadata": {},
     "output_type": "execute_result"
    }
   ],
   "source": [
    "\"\"\"\n",
    "Finish the solution so that it sorts the passed in array of numbers. \n",
    "If the function passes in an empty array or null/nil value then it should return an empty array.\n",
    "\n",
    "For example:\n",
    "\n",
    "solution([1,2,3,10,5]) # should return [1,2,3,5,10]\n",
    "solution(None) # should return []\n",
    "\"\"\"\n",
    "\n",
    "# Implementation of Insertion Sort: each iteration envisages the insertion of elements from the right into \n",
    "# the relevant, pertinent location on the left (it is preceded by the division of the input array into two parts)\n",
    "\n",
    "def solution(nums):\n",
    "    if not nums:\n",
    "        return []\n",
    "    for i in range(1, len(nums)):\n",
    "        j = i\n",
    "        while j > 0 and nums[j] < nums[j - 1]:\n",
    "            nums[j - 1], nums[j] = nums[j], nums[j - 1]\n",
    "            j -= 1\n",
    "    return nums\n",
    "\n",
    "solution([1,2,3,10,5])"
   ]
  }
 ],
 "metadata": {
  "kernelspec": {
   "display_name": "Python 3 (ipykernel)",
   "language": "python",
   "name": "python3"
  },
  "language_info": {
   "codemirror_mode": {
    "name": "ipython",
    "version": 3
   },
   "file_extension": ".py",
   "mimetype": "text/x-python",
   "name": "python",
   "nbconvert_exporter": "python",
   "pygments_lexer": "ipython3",
   "version": "3.9.7"
  }
 },
 "nbformat": 4,
 "nbformat_minor": 5
}
