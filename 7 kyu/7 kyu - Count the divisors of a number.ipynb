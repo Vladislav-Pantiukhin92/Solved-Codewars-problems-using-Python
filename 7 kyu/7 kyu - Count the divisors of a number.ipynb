{
 "cells": [
  {
   "cell_type": "markdown",
   "id": "ff668cf8",
   "metadata": {},
   "source": [
    "### Count the divisors of a number - 7 kyu, Codewars/Python"
   ]
  },
  {
   "cell_type": "code",
   "execution_count": 562,
   "id": "669723f3",
   "metadata": {},
   "outputs": [
    {
     "data": {
      "text/plain": [
       "6"
      ]
     },
     "execution_count": 562,
     "metadata": {},
     "output_type": "execute_result"
    }
   ],
   "source": [
    "\"\"\"\n",
    "Count the number of divisors of a positive integer n.\n",
    "Random tests go up to n = 500000.\n",
    "\n",
    "Examples (input --> output)\n",
    "4 --> 3 (1, 2, 4)\n",
    "5 --> 2 (1, 5)\n",
    "12 --> 6 (1, 2, 3, 4, 6, 12)\n",
    "30 --> 8 (1, 2, 3, 5, 6, 10, 15, 30)\n",
    "\"\"\"\n",
    "def divisors(number):\n",
    "    count = 0\n",
    "    half_num = number // 2\n",
    "    while half_num > 0:\n",
    "        if number % half_num == 0:\n",
    "            count += 1\n",
    "        half_num -= 1\n",
    "    return count + 1 # '+ 1' because the number itself is included as well\n",
    "    \n",
    "divisors(12)"
   ]
  }
 ],
 "metadata": {
  "kernelspec": {
   "display_name": "Python 3",
   "language": "python",
   "name": "python3"
  },
  "language_info": {
   "codemirror_mode": {
    "name": "ipython",
    "version": 3
   },
   "file_extension": ".py",
   "mimetype": "text/x-python",
   "name": "python",
   "nbconvert_exporter": "python",
   "pygments_lexer": "ipython3",
   "version": "3.8.8"
  }
 },
 "nbformat": 4,
 "nbformat_minor": 5
}
