{
 "cells": [
  {
   "cell_type": "markdown",
   "id": "b9f17bf6",
   "metadata": {},
   "source": [
    "### Array element parity - 7 kyu, Codewars/Python"
   ]
  },
  {
   "cell_type": "code",
   "execution_count": 52,
   "id": "f5c2e828",
   "metadata": {},
   "outputs": [
    {
     "data": {
      "text/plain": [
       "-4"
      ]
     },
     "execution_count": 52,
     "metadata": {},
     "output_type": "execute_result"
    }
   ],
   "source": [
    "\"\"\"\n",
    "In this Kata, you will be given an array of integers whose elements have both a negative and a positive \n",
    "value, except for one integer that is either only negative or only positive. Your task will be to find \n",
    "that integer.\n",
    "Examples:\n",
    "\n",
    "[1, -1, 2, -2, 3] => 3\n",
    "3 has no matching negative appearance\n",
    "\n",
    "[-3, 1, 2, 3, -1, -4, -2] => -4\n",
    "-4 has no matching positive appearance\n",
    "\n",
    "[1, -1, 2, -2, 3, 3] => 3\n",
    "(the only-positive or only-negative integer may appear more than once)\n",
    "\"\"\"\n",
    "\n",
    "from operator import * # The operator module will be used to make the number negative\n",
    "\n",
    "def solve(arr):\n",
    "    negatives = list(filter(lambda x: x < 0, arr)) # It is the list with only negative numbers\n",
    "    positives = list(filter(lambda y: y > 0, arr)) # It is the list with only positive numbers\n",
    "    for i in negatives: # If the negative number exists, but the same positive number doesn't exist - we return \n",
    "        # such a number\n",
    "        if abs(i) not in positives:\n",
    "            return i\n",
    "    # If the positive number exists, but the same negative number doesn't exist - we return \n",
    "        # such a number\n",
    "    for j in positives:\n",
    "        if neg(j) not in negatives:\n",
    "            return j\n",
    "        \n",
    "solve([-3, 1, 2, 3, -1, -4, -2])"
   ]
  }
 ],
 "metadata": {
  "kernelspec": {
   "display_name": "Python 3 (ipykernel)",
   "language": "python",
   "name": "python3"
  },
  "language_info": {
   "codemirror_mode": {
    "name": "ipython",
    "version": 3
   },
   "file_extension": ".py",
   "mimetype": "text/x-python",
   "name": "python",
   "nbconvert_exporter": "python",
   "pygments_lexer": "ipython3",
   "version": "3.9.7"
  }
 },
 "nbformat": 4,
 "nbformat_minor": 5
}
