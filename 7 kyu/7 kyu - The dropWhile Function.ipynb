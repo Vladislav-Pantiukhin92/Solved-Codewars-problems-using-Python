{
 "cells": [
  {
   "cell_type": "markdown",
   "id": "1d5776dd",
   "metadata": {},
   "source": [
    "### The dropWhile Function - 7 kyu, Codewars/Python"
   ]
  },
  {
   "cell_type": "code",
   "execution_count": 34,
   "id": "ee8b4fa0",
   "metadata": {},
   "outputs": [
    {
     "data": {
      "text/plain": [
       "[1, 2, 5, 4, 3, 2]"
      ]
     },
     "execution_count": 34,
     "metadata": {},
     "output_type": "execute_result"
    }
   ],
   "source": [
    "\"\"\"\n",
    "Yet another staple for the functional programmer. You have a sequence of values and some predicate for \n",
    "those values. You want to remove the longest prefix of elements such that the predicate is true for each \n",
    "element. We'll call this the dropWhile function. It accepts two arguments. The first is the sequence of \n",
    "values, and the second is the predicate function. The function does not change the value of the original sequence.\n",
    "def isEven(num):\n",
    "  return num % 2 == 0\n",
    "arr = [2,4,6,8,1,2,5,4,3,2]\n",
    "\n",
    "dropWhile(arr, isEven) == [1,2,5,4,3,2] # True\n",
    "Your task is to implement the dropWhile function. If you've got a span function lying around, this is \n",
    "a one-liner! Alternatively, if you have a takeWhile function on your hands, then combined with the \n",
    "dropWhile function, you can implement the span function in one line. This is the beauty of functional \n",
    "programming: there are a whole host of useful functions, many of which can be implemented in terms of each other.\n",
    "\"\"\"\n",
    "def isEven(num):\n",
    "    return num % 2 == 0\n",
    "\n",
    "from itertools import dropwhile # 'itertools.dropwhile' will help to drop elements, while the condition is met\n",
    "# As soon as the condition is not met, the remaining list is returned\n",
    "\n",
    "def drop_while(arr, pred):\n",
    "    result = list(dropwhile(pred, arr))\n",
    "    return result # The remaining list is returned\n",
    "\n",
    "drop_while([2,4,6,8,1,2,5,4,3,2], isEven)"
   ]
  }
 ],
 "metadata": {
  "kernelspec": {
   "display_name": "Python 3 (ipykernel)",
   "language": "python",
   "name": "python3"
  },
  "language_info": {
   "codemirror_mode": {
    "name": "ipython",
    "version": 3
   },
   "file_extension": ".py",
   "mimetype": "text/x-python",
   "name": "python",
   "nbconvert_exporter": "python",
   "pygments_lexer": "ipython3",
   "version": "3.9.7"
  }
 },
 "nbformat": 4,
 "nbformat_minor": 5
}
