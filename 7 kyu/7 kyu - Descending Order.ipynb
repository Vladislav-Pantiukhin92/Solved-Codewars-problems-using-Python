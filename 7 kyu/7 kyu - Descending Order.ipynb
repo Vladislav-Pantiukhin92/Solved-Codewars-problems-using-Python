{
 "cells": [
  {
   "cell_type": "markdown",
   "id": "b2947bc6",
   "metadata": {},
   "source": [
    "### Descending Order - 7 kyu, Codewars/Python"
   ]
  },
  {
   "cell_type": "code",
   "execution_count": 15,
   "id": "1b50bc37",
   "metadata": {},
   "outputs": [
    {
     "data": {
      "text/plain": [
       "987654321"
      ]
     },
     "execution_count": 15,
     "metadata": {},
     "output_type": "execute_result"
    }
   ],
   "source": [
    "\"\"\"\n",
    "Your task is to make a function that can take any non-negative integer as an argument and return it with \n",
    "its digits in descending order. Essentially, rearrange the digits to create the highest possible number.\n",
    "Examples:\n",
    "Input: 42145 Output: 54421\n",
    "Input: 145263 Output: 654321\n",
    "Input: 123456789 Output: 987654321\n",
    "\"\"\"\n",
    "\n",
    "def descending_order(num):\n",
    "# To transform the number we need to change the data type of the given input numeric element:\n",
    "    num = str(num) # Integer type -> String type\n",
    "    nums_list = list(map(int, list(num))) # String type -> List type\n",
    "    # After that we should sort the array. To do that it is feasible to utilize the Bubble Sort algorithm:\n",
    "    # We need to sort the array in decreasing order. In view of that, smaller numbers should be placed in front of\n",
    "    # larger numbers:\n",
    "    for i in range(len(nums_list)):\n",
    "        for j in range(len(nums_list) - i - 1):\n",
    "            if nums_list[j] < nums_list[j + 1]:\n",
    "                nums_list[j], nums_list[j + 1] = nums_list[j + 1], nums_list[j] # Swapping process\n",
    "    # The transformed list of numbers should be turned into the integer type again:\n",
    "    final = int(\"\".join(list(map(str, nums_list))))\n",
    "    return final # The obtained integer is returned\n",
    "\n",
    "descending_order(123456789)"
   ]
  }
 ],
 "metadata": {
  "kernelspec": {
   "display_name": "Python 3 (ipykernel)",
   "language": "python",
   "name": "python3"
  },
  "language_info": {
   "codemirror_mode": {
    "name": "ipython",
    "version": 3
   },
   "file_extension": ".py",
   "mimetype": "text/x-python",
   "name": "python",
   "nbconvert_exporter": "python",
   "pygments_lexer": "ipython3",
   "version": "3.9.7"
  }
 },
 "nbformat": 4,
 "nbformat_minor": 5
}
