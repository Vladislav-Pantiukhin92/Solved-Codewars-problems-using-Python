{
 "cells": [
  {
   "cell_type": "markdown",
   "id": "6b4c3363",
   "metadata": {},
   "source": [
    "### Odd or Even? - 7 kyu, Codewars/Python"
   ]
  },
  {
   "cell_type": "code",
   "execution_count": 16,
   "id": "0c56210b",
   "metadata": {},
   "outputs": [
    {
     "data": {
      "text/plain": [
       "'odd'"
      ]
     },
     "execution_count": 16,
     "metadata": {},
     "output_type": "execute_result"
    }
   ],
   "source": [
    "\"\"\"\n",
    "Given a list of integers, determine whether the sum of its elements is odd or even.\n",
    "Give your answer as a string matching \"odd\" or \"even\".\n",
    "If the input array is empty consider it as: [0] (array with a zero).\n",
    "\n",
    "Examples:\n",
    "Input: [0]\n",
    "Output: \"even\"\n",
    "\n",
    "Input: [0, 1, 4]\n",
    "Output: \"odd\"\n",
    "\n",
    "Input: [0, -1, -5]\n",
    "Output: \"even\"\n",
    "\"\"\"\n",
    "\n",
    "from functools import reduce # 'functools.reduce' makes it possible to carry out the summation operation \n",
    "# within the given input array\n",
    "\n",
    "def odd_or_even(arr):\n",
    "    num_res = reduce(lambda x, y: x + y, arr) # The summation operation (all elements are summed)\n",
    "    result = (num_res / 2).is_integer() # Verification of the obtained division result\n",
    "    if result: # If the obtained division result is an integer - we return \"even\"\n",
    "        return \"even\"\n",
    "    return \"odd\" # If the obtained division result is a float number - we return \"odd\"\n",
    "\n",
    "odd_or_even([0, 1, 4])"
   ]
  }
 ],
 "metadata": {
  "kernelspec": {
   "display_name": "Python 3 (ipykernel)",
   "language": "python",
   "name": "python3"
  },
  "language_info": {
   "codemirror_mode": {
    "name": "ipython",
    "version": 3
   },
   "file_extension": ".py",
   "mimetype": "text/x-python",
   "name": "python",
   "nbconvert_exporter": "python",
   "pygments_lexer": "ipython3",
   "version": "3.9.7"
  }
 },
 "nbformat": 4,
 "nbformat_minor": 5
}
