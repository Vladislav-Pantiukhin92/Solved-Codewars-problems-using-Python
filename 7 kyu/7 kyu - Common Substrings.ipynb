{
 "cells": [
  {
   "cell_type": "markdown",
   "id": "b3b9e829",
   "metadata": {},
   "source": [
    "### Common Substrings - 7 kyu, Codewars/Python"
   ]
  },
  {
   "cell_type": "code",
   "execution_count": 314,
   "id": "98203e9c",
   "metadata": {},
   "outputs": [
    {
     "data": {
      "text/plain": [
       "False"
      ]
     },
     "execution_count": 314,
     "metadata": {},
     "output_type": "execute_result"
    }
   ],
   "source": [
    "\"\"\"\n",
    "Given 2 strings, your job is to find out if there is a substring that appears in both strings. \n",
    "You will return true if you find a substring that appears in both strings, or false if you do not. \n",
    "We only care about substrings that are longer than one letter long.\n",
    "\n",
    "#Examples:\n",
    "\n",
    "*Example 1*\n",
    "SubstringTest(\"Something\",\"Fun\"); //Returns false\n",
    "\n",
    "*Example 2*\n",
    "SubstringTest(\"Something\",\"Home\"); //Returns true\n",
    "In the above example, example 2 returns true because both of the inputs contain the substring \"me\". \n",
    "(soMEthing and hoME)\n",
    "In example 1, the method will return false because something and fun contain no common substrings. \n",
    "(We do not count the 'n' as a substring in this Kata because it is only 1 character long)\n",
    "\n",
    "#Rules: Lowercase and uppercase letters are the same. So 'A' == 'a'.\n",
    "We only count substrings that are > 1 in length.\n",
    "\n",
    "#Input: Two strings with both lower and upper cases. #Output: A boolean value determining \n",
    "if there is a common substring between the two inputs.\n",
    "\"\"\"\n",
    "\n",
    "import numpy as np # 'numpy' to create the 2-D array, matrix\n",
    "\n",
    "def substring_test(s1, s2):\n",
    "    matrix = np.zeros((len(s1) + 1, len(s2) + 1))\n",
    "    maxResult = 0\n",
    "    # The dynamic programming approach will be used to solve this problem\n",
    "    for i in range(1, len(s1) + 1):\n",
    "        for j in range(1, len(s2) + 1):\n",
    "            if s1.lower()[i - 1] == s2.lower()[j - 1]:\n",
    "                matrix[i][j] = matrix[i - 1][j - 1] + 1\n",
    "                maxResult = max(maxResult, matrix[i][j])\n",
    "            else:\n",
    "                matrix[i][j] = 0\n",
    "    return maxResult > 1\n",
    "    \n",
    "substring_test(\"Something\",\"Fun\")"
   ]
  }
 ],
 "metadata": {
  "kernelspec": {
   "display_name": "Python 3 (ipykernel)",
   "language": "python",
   "name": "python3"
  },
  "language_info": {
   "codemirror_mode": {
    "name": "ipython",
    "version": 3
   },
   "file_extension": ".py",
   "mimetype": "text/x-python",
   "name": "python",
   "nbconvert_exporter": "python",
   "pygments_lexer": "ipython3",
   "version": "3.9.7"
  }
 },
 "nbformat": 4,
 "nbformat_minor": 5
}
