{
 "cells": [
  {
   "cell_type": "markdown",
   "id": "7dfbee44",
   "metadata": {},
   "source": [
    "### Are the numbers in order?  - 7 kuy, Codewars/Python"
   ]
  },
  {
   "cell_type": "code",
   "execution_count": 10,
   "id": "7acae406",
   "metadata": {},
   "outputs": [
    {
     "data": {
      "text/plain": [
       "True"
      ]
     },
     "execution_count": 10,
     "metadata": {},
     "output_type": "execute_result"
    }
   ],
   "source": [
    "\"\"\"Are the numbers in order?\n",
    "In this Kata, your function receives an array of integers as input. Your task is to determine whether the numbers are in ascending order. An array is said to be in ascending order if there are no two adjacent integers where the left integer exceeds the right integer in value.\n",
    "For the purposes of this Kata, you may assume that all inputs are valid, i.e. non-empty arrays containing only integers.\n",
    "Note that an array of 1 integer is automatically considered to be sorted in ascending order since all (zero) adjacent pairs of integers satisfy the condition that the left integer does not exceed the right integer in value. An empty list is considered a degenerate case and therefore will not be tested in this Kata - feel free to raise an Issue if you see such a list being tested.\n",
    "\n",
    "For example:\n",
    "\n",
    "in_asc_order([1,2,4,7,19]) # returns True\n",
    "in_asc_order([1,2,3,4,5]) # returns True\n",
    "in_asc_order([1,6,10,18,2,4,20]) # returns False\n",
    "in_asc_order([9,8,7,6,5,4,3,2,1]) # returns False because the numbers are in DESCENDING order\n",
    "N.B. If your solution passes all fixed tests but fails at the random tests, make sure you aren't mutating the input array.\"\"\"\n",
    "\n",
    "\n",
    "def in_asc_order(arr):\n",
    "    # Let's try to sort the array with our own hands:\n",
    "    new_array = arr.copy() # First of all, we are going to sort the duplicate array\n",
    "    # For that we utilize the insertion sort algorithm\n",
    "    for i in range(1, len(new_array)):\n",
    "        j = i\n",
    "        while new_array[j] < new_array[j - 1] and j > 0:\n",
    "            new_array[j - 1], new_array[j] = new_array[j], new_array[j - 1]\n",
    "            j -= 1\n",
    "    # After that we create the list of tuples with two elements in each tuple\n",
    "    # If there are differences (>= 1) between these two elements across tuples, then the array is not sorted\n",
    "    zip_result = list(zip(arr, new_array))\n",
    "    differences = 0\n",
    "    for value in zip_result:\n",
    "        if value[0] != value[1]:\n",
    "            differences += 1\n",
    "    if differences > 0:\n",
    "        return False\n",
    "    return True\n",
    "    \n",
    "in_asc_order([1,2,3,4,5])"
   ]
  }
 ],
 "metadata": {
  "kernelspec": {
   "display_name": "Python 3",
   "language": "python",
   "name": "python3"
  },
  "language_info": {
   "codemirror_mode": {
    "name": "ipython",
    "version": 3
   },
   "file_extension": ".py",
   "mimetype": "text/x-python",
   "name": "python",
   "nbconvert_exporter": "python",
   "pygments_lexer": "ipython3",
   "version": "3.8.8"
  }
 },
 "nbformat": 4,
 "nbformat_minor": 5
}
