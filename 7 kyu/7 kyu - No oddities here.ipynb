{
 "cells": [
  {
   "cell_type": "markdown",
   "id": "7ba2938f",
   "metadata": {},
   "source": [
    "### No oddities here - 7 kyu, Codewars/Python"
   ]
  },
  {
   "cell_type": "code",
   "execution_count": 6,
   "id": "f111f54c",
   "metadata": {},
   "outputs": [
    {
     "data": {
      "text/plain": [
       "[0, 2]"
      ]
     },
     "execution_count": 6,
     "metadata": {},
     "output_type": "execute_result"
    }
   ],
   "source": [
    "\"\"\"\n",
    "Write a small function that returns the values of an array that are not odd.\n",
    "All values in the array will be integers. Return the good values in the order they are given.\n",
    "\"\"\"\n",
    "\n",
    "def no_odds(values):\n",
    "    # Implementation of the 'filter' function with even numbers:\n",
    "    return list(filter(lambda x: x % 2 == 0, values))\n",
    "no_odds([0, 1, 2, 3])"
   ]
  }
 ],
 "metadata": {
  "kernelspec": {
   "display_name": "Python 3 (ipykernel)",
   "language": "python",
   "name": "python3"
  },
  "language_info": {
   "codemirror_mode": {
    "name": "ipython",
    "version": 3
   },
   "file_extension": ".py",
   "mimetype": "text/x-python",
   "name": "python",
   "nbconvert_exporter": "python",
   "pygments_lexer": "ipython3",
   "version": "3.9.7"
  }
 },
 "nbformat": 4,
 "nbformat_minor": 5
}
