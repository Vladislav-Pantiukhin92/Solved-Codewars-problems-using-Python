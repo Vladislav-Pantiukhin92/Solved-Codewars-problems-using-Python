{
 "cells": [
  {
   "cell_type": "markdown",
   "id": "03a06029",
   "metadata": {},
   "source": [
    "### Summing a number's digits - 7 kyu, Codewars/Python"
   ]
  },
  {
   "cell_type": "code",
   "execution_count": 409,
   "id": "4d6928fb",
   "metadata": {},
   "outputs": [
    {
     "data": {
      "text/plain": [
       "18"
      ]
     },
     "execution_count": 409,
     "metadata": {},
     "output_type": "execute_result"
    }
   ],
   "source": [
    "\"\"\"\n",
    "Write a function named sumDigits which takes a number as input and returns the sum of the absolute value of each of the number's decimal digits.\n",
    "\n",
    "For example: (Input --> Output)\n",
    "\n",
    "10 --> 1\n",
    "99 --> 18\n",
    "-32 --> 5\n",
    "Let's assume that all numbers in the input will be integer values.\n",
    "\"\"\"\n",
    "\n",
    "from functools import reduce # 'Reduce' will be used as a sum function\n",
    "\n",
    "def sum_digits(number):\n",
    "    return reduce(lambda x, y: x + y, list(map(int, list(str(abs(number))))))\n",
    "\n",
    "sum_digits(-99)"
   ]
  }
 ],
 "metadata": {
  "kernelspec": {
   "display_name": "Python 3",
   "language": "python",
   "name": "python3"
  },
  "language_info": {
   "codemirror_mode": {
    "name": "ipython",
    "version": 3
   },
   "file_extension": ".py",
   "mimetype": "text/x-python",
   "name": "python",
   "nbconvert_exporter": "python",
   "pygments_lexer": "ipython3",
   "version": "3.8.8"
  }
 },
 "nbformat": 4,
 "nbformat_minor": 5
}
