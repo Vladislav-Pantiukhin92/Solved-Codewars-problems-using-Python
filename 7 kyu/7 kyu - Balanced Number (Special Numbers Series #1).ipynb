{
 "cells": [
  {
   "cell_type": "markdown",
   "id": "1d4dc3fc",
   "metadata": {},
   "source": [
    "### Balanced Number (Special Numbers Series #1) - 7 kyu, Codewars/Python"
   ]
  },
  {
   "cell_type": "code",
   "execution_count": 51,
   "id": "145ad64a",
   "metadata": {},
   "outputs": [
    {
     "data": {
      "text/plain": [
       "'Balanced'"
      ]
     },
     "execution_count": 51,
     "metadata": {},
     "output_type": "execute_result"
    }
   ],
   "source": [
    "\"\"\"\n",
    "Balanced number is the number that * The sum of all digits to the left of the middle digit(s) and the \n",
    "sum of all digits to the right of the middle digit(s) are equal.\n",
    "\n",
    "Task:\n",
    "Given a number, Find if it is Balanced or not.\n",
    "\"\"\"\n",
    "\n",
    "def balanced_num(number):\n",
    "    if number < 100: # If the given input number is smaller than 100 - it is obvious that this number is balanced!\n",
    "        return \"Balanced\"\n",
    "    number = list(str(number))\n",
    "    length = len(number)\n",
    "# If the given input number is larger than 99 - we should find, initially, the middle element/s, which is/are \n",
    "# to be omitted:\n",
    "    middle = length // 2 # The middle location\n",
    "    if length % 2 != 0: # The case, when the length of the given input number is odd:\n",
    "    # In this case, only one (the middle) element is to be omitted\n",
    "        left_sum = sum(list(map(int, number[:middle])))\n",
    "        right_sum = sum(list(map(int, number[middle + 1:])))\n",
    "        if left_sum == right_sum: # Let's verify the equality of summation results\n",
    "            return \"Balanced\"\n",
    "        return \"Not Balanced\"\n",
    "    else: # The case, when the length of the given input number is even:\n",
    "    # In this case, two elements are to be omitted\n",
    "        left_sum = sum(list(map(int, number[:middle - 1])))\n",
    "        right_sum = sum(list(map(int, number[middle + 1:])))\n",
    "        if left_sum == right_sum: # Let's verify the equality of summation results\n",
    "            return \"Balanced\"\n",
    "        return \"Not Balanced\"\n",
    "    \n",
    "balanced_num(424)"
   ]
  }
 ],
 "metadata": {
  "kernelspec": {
   "display_name": "Python 3 (ipykernel)",
   "language": "python",
   "name": "python3"
  },
  "language_info": {
   "codemirror_mode": {
    "name": "ipython",
    "version": 3
   },
   "file_extension": ".py",
   "mimetype": "text/x-python",
   "name": "python",
   "nbconvert_exporter": "python",
   "pygments_lexer": "ipython3",
   "version": "3.9.7"
  }
 },
 "nbformat": 4,
 "nbformat_minor": 5
}
