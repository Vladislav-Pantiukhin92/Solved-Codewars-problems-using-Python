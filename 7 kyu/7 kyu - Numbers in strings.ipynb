{
 "cells": [
  {
   "cell_type": "markdown",
   "id": "c7014267",
   "metadata": {},
   "source": [
    "### Numbers in strings - 7 kyu, Codewars/Python"
   ]
  },
  {
   "cell_type": "code",
   "execution_count": 17,
   "id": "eef8a948",
   "metadata": {},
   "outputs": [
    {
     "data": {
      "text/plain": [
       "695"
      ]
     },
     "execution_count": 17,
     "metadata": {},
     "output_type": "execute_result"
    }
   ],
   "source": [
    "\"\"\"\n",
    "In this Kata, you will be given a string that has lowercase letters and numbers. Your task is to compare \n",
    "the number groupings and return the largest number. Numbers will not have leading zeros.\n",
    "For example, solve(\"gh12cdy695m1\") = 695, because this is the largest of all number groupings.\n",
    "\"\"\"\n",
    "\n",
    "import re # We need to use the regular expression pattern to extract all numbers\n",
    "\n",
    "def solve(s):\n",
    "    numbers = re.findall(r\"\\d+\", s) # The numbers are extracted as a list of numeric elements\n",
    "    # It is significant to sort the list (in ascending order) and return the last (the largest element) as \n",
    "    # an integer:\n",
    "    return int(sorted(numbers, key=int)[-1])\n",
    "solve(\"gh12cdy695m1\")"
   ]
  }
 ],
 "metadata": {
  "kernelspec": {
   "display_name": "Python 3 (ipykernel)",
   "language": "python",
   "name": "python3"
  },
  "language_info": {
   "codemirror_mode": {
    "name": "ipython",
    "version": 3
   },
   "file_extension": ".py",
   "mimetype": "text/x-python",
   "name": "python",
   "nbconvert_exporter": "python",
   "pygments_lexer": "ipython3",
   "version": "3.9.7"
  }
 },
 "nbformat": 4,
 "nbformat_minor": 5
}
