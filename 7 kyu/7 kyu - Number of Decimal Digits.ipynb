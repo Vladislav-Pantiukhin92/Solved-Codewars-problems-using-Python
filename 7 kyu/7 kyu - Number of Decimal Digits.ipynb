{
 "cells": [
  {
   "cell_type": "markdown",
   "id": "f14f075b",
   "metadata": {},
   "source": [
    "### Number of Decimal Digits - 7 kyu, Codewars/Python"
   ]
  },
  {
   "cell_type": "code",
   "execution_count": 8,
   "id": "ad734d58",
   "metadata": {},
   "outputs": [
    {
     "data": {
      "text/plain": [
       "1"
      ]
     },
     "execution_count": 8,
     "metadata": {},
     "output_type": "execute_result"
    }
   ],
   "source": [
    "\"\"\"\n",
    "Determine the total number of digits in the integer (n>=0) given as input to the function. \n",
    "For example, 9 is a single digit, 66 has 2 digits and 128685 has 6 digits. Be careful to avoid \n",
    "overflows/underflows.\n",
    "All inputs will be valid.\n",
    "\"\"\"\n",
    "\n",
    "# To solve the problem it is just necessary to return the total length of the given input number in the string form\n",
    "\n",
    "def digits(n):\n",
    "    return len(str(n)) # The length of the 'stringified' given input integer is returned\n",
    "\n",
    "digits(1)"
   ]
  }
 ],
 "metadata": {
  "kernelspec": {
   "display_name": "Python 3 (ipykernel)",
   "language": "python",
   "name": "python3"
  },
  "language_info": {
   "codemirror_mode": {
    "name": "ipython",
    "version": 3
   },
   "file_extension": ".py",
   "mimetype": "text/x-python",
   "name": "python",
   "nbconvert_exporter": "python",
   "pygments_lexer": "ipython3",
   "version": "3.9.7"
  }
 },
 "nbformat": 4,
 "nbformat_minor": 5
}
