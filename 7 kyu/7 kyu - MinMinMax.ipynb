{
 "cells": [
  {
   "cell_type": "markdown",
   "id": "c5f795ed",
   "metadata": {},
   "source": [
    "### MinMinMax - 7 kyu, Codewars/Python"
   ]
  },
  {
   "cell_type": "code",
   "execution_count": 65,
   "id": "d767a2a0",
   "metadata": {},
   "outputs": [
    {
     "data": {
      "text/plain": [
       "[-23, -22, 24]"
      ]
     },
     "execution_count": 65,
     "metadata": {},
     "output_type": "execute_result"
    }
   ],
   "source": [
    "\"\"\"\n",
    "Given an unsorted array of integers, find the smallest number in the array, the largest number in the \n",
    "array, and the smallest number between the two array bounds that is not in the array.\n",
    "For instance, given the array [-1, 4, 5, -23, 24], the smallest number is -23, the largest number is 24, \n",
    "and the smallest number between the array bounds is -22. You may assume the input is well-formed.\n",
    "You solution should return an array [smallest, minimumAbsent, largest]\n",
    "The smallest integer should be the integer from the array with the lowest value.\n",
    "The largest integer should be the integer from the array with the highest value.\n",
    "The minimumAbsent is the smallest number between the largest and the smallest number that is not in \n",
    "the array.\n",
    "\n",
    "minMinMax([-1, 4, 5, -23, 24]); //[-23, -22, 24]\n",
    "minMinMax([1, 3, -3, -2, 8, -1]); //[-3, 0, 8]\n",
    "minMinMax([2, -4, 8, -5, 9, 7]); //[-5, -3,9]\n",
    "\"\"\"\n",
    "\n",
    "def minMinMax(arr):\n",
    "# For starters, let's sort the given input array in ascending order. To do that, let's use the Insertion Sort \n",
    "# algorithm:\n",
    "    def insertionSort(array): # The Insertion Sort algorithm\n",
    "        for i in range(1, len(array)):\n",
    "            j = i\n",
    "            while j > 0 and array[j] < array[j - 1]:\n",
    "                array[j - 1], array[j] = array[j], array[j - 1]\n",
    "                j -= 1\n",
    "        return array\n",
    "    sortedList = insertionSort(arr) # Here we obtain the array, sorted in ascending order\n",
    "    # The minElement and the maxElement are the first element and the last element within the sorted array\n",
    "    minElem, maxElem = sortedList[0], sortedList[-1]\n",
    "    # Below is the search process to find the middle element (the smallest number, which is not within the \n",
    "    # given input array):\n",
    "    middleElem = minElem + 1\n",
    "    while middleElem in arr:\n",
    "        middleElem += 1\n",
    "    # The list with the minElement, the middle element and the maxElement is returned\n",
    "    return [minElem, middleElem, maxElem]\n",
    "\n",
    "minMinMax([-1, 4, 5, -23, 24])"
   ]
  }
 ],
 "metadata": {
  "kernelspec": {
   "display_name": "Python 3 (ipykernel)",
   "language": "python",
   "name": "python3"
  },
  "language_info": {
   "codemirror_mode": {
    "name": "ipython",
    "version": 3
   },
   "file_extension": ".py",
   "mimetype": "text/x-python",
   "name": "python",
   "nbconvert_exporter": "python",
   "pygments_lexer": "ipython3",
   "version": "3.9.7"
  }
 },
 "nbformat": 4,
 "nbformat_minor": 5
}
