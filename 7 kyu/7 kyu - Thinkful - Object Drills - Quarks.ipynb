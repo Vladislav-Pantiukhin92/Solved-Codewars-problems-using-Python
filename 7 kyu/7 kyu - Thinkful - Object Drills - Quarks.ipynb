{
 "cells": [
  {
   "cell_type": "markdown",
   "id": "dcbae4b3",
   "metadata": {},
   "source": [
    "### Thinkful - Object Drills: Quarks - 7 kyu, Codewars/Python"
   ]
  },
  {
   "cell_type": "code",
   "execution_count": null,
   "id": "cef7cc81",
   "metadata": {},
   "outputs": [],
   "source": [
    "\"\"\"\n",
    "Your Quark class should allow you to create quarks of any valid color (\"red\", \"blue\", and \"green\") and \n",
    "any valid flavor ('up', 'down', 'strange', 'charm', 'top', and 'bottom').\n",
    "Every quark has the same baryon_number (BaryonNumber in C#): 1/3.\n",
    "Every quark should have an .interact() (.Interact() in C#) method that allows any quark to interact with \n",
    "another quark via the strong force. When two quarks interact they exchange colors.\n",
    "\"\"\"\n",
    "\n",
    "class Quark(object):\n",
    "    def __init__(self, color, flavor, baryon_number = 1.0 / 3): # Constructor\n",
    "    # We need to underline some attributes:\n",
    "        self.color = color\n",
    "        self.flavor = flavor\n",
    "        self.baryon_number = baryon_number\n",
    "        \n",
    "    def interact(self, another_object): # The method, aimed at swapping colors of objects in case of their\n",
    "        # interaction\n",
    "        self.color, another_object.color = another_object.color, self.color\n",
    "        return"
   ]
  }
 ],
 "metadata": {
  "kernelspec": {
   "display_name": "Python 3 (ipykernel)",
   "language": "python",
   "name": "python3"
  },
  "language_info": {
   "codemirror_mode": {
    "name": "ipython",
    "version": 3
   },
   "file_extension": ".py",
   "mimetype": "text/x-python",
   "name": "python",
   "nbconvert_exporter": "python",
   "pygments_lexer": "ipython3",
   "version": "3.9.7"
  }
 },
 "nbformat": 4,
 "nbformat_minor": 5
}
