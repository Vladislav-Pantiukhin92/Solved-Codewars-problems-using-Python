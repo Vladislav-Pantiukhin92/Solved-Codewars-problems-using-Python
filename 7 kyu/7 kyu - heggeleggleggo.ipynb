{
 "cells": [
  {
   "cell_type": "markdown",
   "id": "b08ef0c4",
   "metadata": {},
   "source": [
    "### heggeleggleggo - 7 kyu, Codewars/Python"
   ]
  },
  {
   "cell_type": "code",
   "execution_count": 685,
   "id": "b93a6afd",
   "metadata": {},
   "outputs": [
    {
     "data": {
      "text/plain": [
       "'FeggUNegg KeggATeggA'"
      ]
     },
     "execution_count": 685,
     "metadata": {},
     "output_type": "execute_result"
    }
   ],
   "source": [
    "\"\"\"\n",
    "Egg Talk.\n",
    "Insert an \"egg\" after each consonant. If there are no consonants, there will be no eggs. Argument will consist of a string with only alphabetic characters and possibly some spaces.\n",
    "\n",
    "eg:\n",
    "\n",
    "hello => heggeleggleggo\n",
    "eggs => egegggeggsegg\n",
    "FUN KATA => FeggUNegg KeggATeggA\n",
    "\"\"\"\n",
    "\n",
    "import string \n",
    "\n",
    "def heggeleggleggo(word):\n",
    "    # Removal of vowels from the alphabet, which will be used for translation\n",
    "    consonants = string.ascii_letters.translate(str.maketrans(\"aeiouAEIOU\", \"          \")).replace(\" \", \"\")\n",
    "    return \"\".join([i + \"egg\" if i in consonants else i for i in list(word)])\n",
    " \n",
    "heggeleggleggo(\"FUN KATA\")"
   ]
  }
 ],
 "metadata": {
  "kernelspec": {
   "display_name": "Python 3",
   "language": "python",
   "name": "python3"
  },
  "language_info": {
   "codemirror_mode": {
    "name": "ipython",
    "version": 3
   },
   "file_extension": ".py",
   "mimetype": "text/x-python",
   "name": "python",
   "nbconvert_exporter": "python",
   "pygments_lexer": "ipython3",
   "version": "3.8.8"
  }
 },
 "nbformat": 4,
 "nbformat_minor": 5
}
