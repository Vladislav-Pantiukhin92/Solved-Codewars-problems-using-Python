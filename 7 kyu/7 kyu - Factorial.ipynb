{
 "cells": [
  {
   "cell_type": "markdown",
   "id": "5052995d",
   "metadata": {},
   "source": [
    "### Factorial - 7 kyu, Codewars/Python"
   ]
  },
  {
   "cell_type": "code",
   "execution_count": 38,
   "id": "93c33646",
   "metadata": {},
   "outputs": [
    {
     "data": {
      "text/plain": [
       "3628800"
      ]
     },
     "execution_count": 38,
     "metadata": {},
     "output_type": "execute_result"
    }
   ],
   "source": [
    "\"\"\"\n",
    "In mathematics, the factorial of a non-negative integer n, denoted by n!, is the product of all positive integers less than or equal to n. For example: 5! = 5 * 4 * 3 * 2 * 1 = 120. \n",
    "By convention the value of 0! is 1.\n",
    "\n",
    "Write a function to calculate factorial for a given input. \n",
    "If input is below 0 or above 12 throw an exception of type ArgumentOutOfRangeException (C#) or \n",
    "IllegalArgumentException (Java) or RangeException (PHP) or throw a RangeError (JavaScript) or \n",
    "ValueError (Python) or return -1 (C).\n",
    "\"\"\"\n",
    "\n",
    "# We will use recursion\n",
    "def factorial(number):\n",
    "    if not 0 <= number < 13:\n",
    "        raise ValueError()\n",
    "    else:\n",
    "        if number == 0:\n",
    "            return 1\n",
    "        elif number == 1:\n",
    "            return 1\n",
    "        else:\n",
    "            return number * factorial(number - 1) \n",
    "factorial(10)"
   ]
  }
 ],
 "metadata": {
  "kernelspec": {
   "display_name": "Python 3",
   "language": "python",
   "name": "python3"
  },
  "language_info": {
   "codemirror_mode": {
    "name": "ipython",
    "version": 3
   },
   "file_extension": ".py",
   "mimetype": "text/x-python",
   "name": "python",
   "nbconvert_exporter": "python",
   "pygments_lexer": "ipython3",
   "version": "3.8.8"
  }
 },
 "nbformat": 4,
 "nbformat_minor": 5
}
