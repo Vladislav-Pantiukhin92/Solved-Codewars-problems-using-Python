{
 "cells": [
  {
   "cell_type": "markdown",
   "id": "14417b70",
   "metadata": {},
   "source": [
    "### Nice Array - 7 kyu, Codewars/Python"
   ]
  },
  {
   "cell_type": "code",
   "execution_count": 33,
   "id": "3b1b47ca",
   "metadata": {},
   "outputs": [
    {
     "data": {
      "text/plain": [
       "True"
      ]
     },
     "execution_count": 33,
     "metadata": {},
     "output_type": "execute_result"
    }
   ],
   "source": [
    "\"\"\"\n",
    "A Nice array is defined to be an array where for every value n in the array, there is also an element \n",
    "n - 1 or n + 1 in the array.\n",
    "examples:\n",
    "\n",
    "[2, 10, 9, 3] is a nice array because\n",
    "\n",
    " 2 =  3 - 1\n",
    "10 =  9 + 1\n",
    " 3 =  2 + 1\n",
    " 9 = 10 - 1\n",
    "\n",
    "[4, 2, 3] is a nice array because\n",
    "\n",
    "4 = 3 + 1\n",
    "2 = 3 - 1\n",
    "3 = 2 + 1 (or 3 = 4 - 1)\n",
    "\n",
    "[4, 2, 1] is a not a nice array because\n",
    "\n",
    "for n = 4, there is neither n - 1 = 3 nor n + 1 = 5\n",
    "Write a function named isNice/IsNice that returns true if its array argument is a Nice array, else false. \n",
    "An empty array is not considered nice.\n",
    "\"\"\"\n",
    "\n",
    "def is_nice(arr):\n",
    "    if not arr: # If the given input array is empty - we immediately return False\n",
    "        return False\n",
    "# Alternatively, we will check the validity of the following condition:\n",
    "    for i in arr:\n",
    "        condition = False # The default status of the condition is \"False\"\n",
    "        if i - 1 in arr or i + 1 in arr: # If the condition is valid, the \"False\" status is replaced with the \n",
    "            # status \"True\"\n",
    "            condition = True\n",
    "        if not condition: # If the condition is still False - we return False\n",
    "            return False\n",
    "    return True # Otherwise, we return True\n",
    "\n",
    "is_nice([4, 2, 3])"
   ]
  }
 ],
 "metadata": {
  "kernelspec": {
   "display_name": "Python 3 (ipykernel)",
   "language": "python",
   "name": "python3"
  },
  "language_info": {
   "codemirror_mode": {
    "name": "ipython",
    "version": 3
   },
   "file_extension": ".py",
   "mimetype": "text/x-python",
   "name": "python",
   "nbconvert_exporter": "python",
   "pygments_lexer": "ipython3",
   "version": "3.9.7"
  }
 },
 "nbformat": 4,
 "nbformat_minor": 5
}
