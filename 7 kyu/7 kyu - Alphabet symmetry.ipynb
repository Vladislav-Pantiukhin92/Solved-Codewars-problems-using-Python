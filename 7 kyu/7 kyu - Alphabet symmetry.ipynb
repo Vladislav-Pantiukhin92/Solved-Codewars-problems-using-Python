{
 "cells": [
  {
   "cell_type": "markdown",
   "id": "dcbae4b3",
   "metadata": {},
   "source": [
    "### Alphabet symmetry - 7 kyu, Codewars/Python"
   ]
  },
  {
   "cell_type": "code",
   "execution_count": 35,
   "id": "93e8d8d3",
   "metadata": {},
   "outputs": [
    {
     "data": {
      "text/plain": [
       "[4, 3, 1]"
      ]
     },
     "execution_count": 35,
     "metadata": {},
     "output_type": "execute_result"
    }
   ],
   "source": [
    "\"\"\"\n",
    "Consider the word \"abode\". We can see that the letter a is in position 1 and b is in position 2. \n",
    "In the alphabet, a and b are also in positions 1 and 2. Notice also that d and e in abode occupy the \n",
    "positions they would occupy in the alphabet, which are positions 4 and 5.\n",
    "Given an array of words, return an array of the number of letters that occupy their positions in the \n",
    "alphabet for each word. For example,\n",
    "\n",
    "solve([\"abode\",\"ABc\",\"xyzD\"]) = [4, 3, 1]\n",
    "See test cases for more examples.\n",
    "\n",
    "Input will consist of alphabet characters, both uppercase and lowercase. No spaces.\n",
    "\"\"\"\n",
    "\n",
    "import string # Let's import the lowercase English letters (26) from the 'string' module\n",
    "\n",
    "def solve(arr):\n",
    "    lowercase_ = string.ascii_lowercase # The English alphabet is imported\n",
    "# To make the problem easier, let's execute the all-encompassing lowercase conversion\n",
    "    arr = list(map(lambda x: x.casefold(), arr)) # All words within the given input list are lowercase now\n",
    "    final = [] # The list, which will store proper positions\n",
    "# We are going to loop over the words within the given input list:\n",
    "    for word in arr:\n",
    "        positions = 0 # The initial number of positions is always 0\n",
    "        i = 0 \n",
    "        j = 0 \n",
    "        while i < len(word) and i < len(lowercase_):\n",
    "            if word[i] == lowercase_[j]:\n",
    "                positions += 1 \n",
    "            i += 1\n",
    "            j += 1\n",
    "        final.append(positions) # Each time the number of positions as regards the specific word is stored \n",
    "        # within the list\n",
    "    return final # Finally, the list with positions is returned\n",
    "solve([\"abode\",\"ABc\",\"xyzD\"])"
   ]
  }
 ],
 "metadata": {
  "kernelspec": {
   "display_name": "Python 3 (ipykernel)",
   "language": "python",
   "name": "python3"
  },
  "language_info": {
   "codemirror_mode": {
    "name": "ipython",
    "version": 3
   },
   "file_extension": ".py",
   "mimetype": "text/x-python",
   "name": "python",
   "nbconvert_exporter": "python",
   "pygments_lexer": "ipython3",
   "version": "3.9.7"
  }
 },
 "nbformat": 4,
 "nbformat_minor": 5
}
