{
 "cells": [
  {
   "cell_type": "markdown",
   "id": "dcbae4b3",
   "metadata": {},
   "source": [
    "### letters only, please! - 7 kyu, Codewars/Python"
   ]
  },
  {
   "cell_type": "code",
   "execution_count": 15,
   "id": "cf78b595",
   "metadata": {},
   "outputs": [
    {
     "data": {
      "text/plain": [
       "'tree'"
      ]
     },
     "execution_count": 15,
     "metadata": {},
     "output_type": "execute_result"
    }
   ],
   "source": [
    "\"\"\"\n",
    "Let's assume we need \"clean\" strings. Clean means a string should only contain letters a-z, A-Z and \n",
    "spaces. We assume that there are no double spaces or line breaks.\n",
    "Write a function that takes a string and returns a string without the unnecessary characters.\n",
    "\"\"\"\n",
    "\n",
    "from collections import deque # 'collections.deque' will create a double-ended queue to pop the front elements\n",
    "\n",
    "def remove_chars(s):\n",
    "    final = [] # It is the list, which will store valid elements (letters and spaces)\n",
    "    s = deque(list(s))\n",
    "    while s:\n",
    "        curChar = s.popleft() # The element is popped\n",
    "        if curChar.isalpha() or curChar.isspace(): # If the popped element is a letter (lowercase/uppercase)\n",
    "            # or the popped element is a space - we append this element to the rear of the list\n",
    "            final.append(curChar)\n",
    "    return \"\".join(final) # Finally, the list with valid values should be 'stringified' and returned\n",
    "\n",
    "remove_chars(\".tree1\")"
   ]
  }
 ],
 "metadata": {
  "kernelspec": {
   "display_name": "Python 3 (ipykernel)",
   "language": "python",
   "name": "python3"
  },
  "language_info": {
   "codemirror_mode": {
    "name": "ipython",
    "version": 3
   },
   "file_extension": ".py",
   "mimetype": "text/x-python",
   "name": "python",
   "nbconvert_exporter": "python",
   "pygments_lexer": "ipython3",
   "version": "3.9.7"
  }
 },
 "nbformat": 4,
 "nbformat_minor": 5
}
