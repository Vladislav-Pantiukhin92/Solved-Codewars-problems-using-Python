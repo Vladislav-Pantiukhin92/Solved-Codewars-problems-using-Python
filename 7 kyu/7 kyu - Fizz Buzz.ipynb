{
 "cells": [
  {
   "cell_type": "markdown",
   "id": "e3c17392",
   "metadata": {},
   "source": [
    "### Fizz Buzz - 7 kyu, Codewars/Python"
   ]
  },
  {
   "cell_type": "code",
   "execution_count": 439,
   "id": "4e771f55",
   "metadata": {},
   "outputs": [
    {
     "data": {
      "text/plain": [
       "[1, 2, 'Fizz']"
      ]
     },
     "execution_count": 439,
     "metadata": {},
     "output_type": "execute_result"
    }
   ],
   "source": [
    "\"\"\"\n",
    "Return an array containing the numbers from 1 to N, where N is the parametered value.\n",
    "Replace certain values however if any of the following conditions are met:\n",
    "\n",
    "If the value is a multiple of 3: use the value \"Fizz\" instead\n",
    "If the value is a multiple of 5: use the value \"Buzz\" instead\n",
    "If the value is a multiple of 3 & 5: use the value \"FizzBuzz\" instead\n",
    "N will never be less than 1.\n",
    "\n",
    "Method calling example:\n",
    "\n",
    "fizzbuzz(3) -->  [1, 2, \"Fizz\"]\n",
    "\"\"\"\n",
    "\n",
    "def fizzbuzz(number):\n",
    "    index = 1\n",
    "    final = []\n",
    "    while index != number + 1:\n",
    "        if index % 3 == 0:\n",
    "            if index % 5 == 0:\n",
    "                final.append(\"FizzBuzz\")\n",
    "            else:\n",
    "                final.append(\"Fizz\")\n",
    "        elif index % 5 == 0:\n",
    "            final.append(\"Buzz\")\n",
    "        else:\n",
    "            final.append(index)\n",
    "        index += 1\n",
    "    return final\n",
    " \n",
    "fizzbuzz(3)"
   ]
  }
 ],
 "metadata": {
  "kernelspec": {
   "display_name": "Python 3",
   "language": "python",
   "name": "python3"
  },
  "language_info": {
   "codemirror_mode": {
    "name": "ipython",
    "version": 3
   },
   "file_extension": ".py",
   "mimetype": "text/x-python",
   "name": "python",
   "nbconvert_exporter": "python",
   "pygments_lexer": "ipython3",
   "version": "3.8.8"
  }
 },
 "nbformat": 4,
 "nbformat_minor": 5
}
