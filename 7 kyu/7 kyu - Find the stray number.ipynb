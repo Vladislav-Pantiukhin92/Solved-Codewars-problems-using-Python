{
 "cells": [
  {
   "cell_type": "markdown",
   "id": "5ad0826c",
   "metadata": {},
   "source": [
    "### Find the stray number - 7 kyu, Codewars/Python"
   ]
  },
  {
   "cell_type": "code",
   "execution_count": 21,
   "id": "b3a90269",
   "metadata": {},
   "outputs": [
    {
     "data": {
      "text/plain": [
       "3"
      ]
     },
     "execution_count": 21,
     "metadata": {},
     "output_type": "execute_result"
    }
   ],
   "source": [
    "\"\"\"\n",
    "You are given an odd-length array of integers, in which all of them are the same, except for one single number.\n",
    "Complete the method which accepts such an array, and returns that single different number.\n",
    "The input array will always be valid! (odd-length >= 3)\n",
    "\n",
    "Examples\n",
    "[1, 1, 2] ==> 2\n",
    "[17, 17, 3, 17, 17, 17, 17] ==> 3\n",
    "\"\"\"\n",
    "\n",
    "from collections import Counter # 'collections.Counter' will make it possible to create the dictionary, where \n",
    "# keys are elements/numbers of the given input list, and values are their occurrence within the given input list\n",
    "\n",
    "def stray(arr):\n",
    "    myDict = dict(Counter(arr)) # The dictionary is created\n",
    "    # We return the key from the dictionary, which corresponds to the value 1\n",
    "    for i in myDict:\n",
    "        if myDict[i] == 1:\n",
    "            return i\n",
    "        \n",
    "stray([17, 17, 3, 17, 17, 17, 17])"
   ]
  }
 ],
 "metadata": {
  "kernelspec": {
   "display_name": "Python 3 (ipykernel)",
   "language": "python",
   "name": "python3"
  },
  "language_info": {
   "codemirror_mode": {
    "name": "ipython",
    "version": 3
   },
   "file_extension": ".py",
   "mimetype": "text/x-python",
   "name": "python",
   "nbconvert_exporter": "python",
   "pygments_lexer": "ipython3",
   "version": "3.9.7"
  }
 },
 "nbformat": 4,
 "nbformat_minor": 5
}
