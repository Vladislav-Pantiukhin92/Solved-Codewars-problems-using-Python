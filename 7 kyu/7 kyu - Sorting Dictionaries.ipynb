{
 "cells": [
  {
   "cell_type": "markdown",
   "id": "c5f795ed",
   "metadata": {},
   "source": [
    "### Sorting Dictionaries - 7 kyu, Codewars/Python"
   ]
  },
  {
   "cell_type": "code",
   "execution_count": 7,
   "id": "fa2dfbaa",
   "metadata": {},
   "outputs": [
    {
     "data": {
      "text/plain": [
       "[(1, 3), (2, 2), (3, 1)]"
      ]
     },
     "execution_count": 7,
     "metadata": {},
     "output_type": "execute_result"
    }
   ],
   "source": [
    "\"\"\"\n",
    "Python dictionaries are inherently unsorted. So what do you do if you need to sort the contents of \n",
    "a dictionary?\n",
    "Create a function that returns a sorted list of (key, value) tuples (Javascript: arrays of 2 items).\n",
    "The list must be sorted by the value and be sorted largest to smallest.\n",
    "\n",
    "Examples\n",
    "sort_dict({3:1, 2:2, 1:3}) == [(1,3), (2,2), (3,1)]\n",
    "sort_dict({1:2, 2:4, 3:6}) == [(3,6), (2,4), (1,2)]\n",
    "\"\"\"\n",
    "\n",
    "from operator import * # 'operator.itemgetter()' will be used to sort the array of tuples in a specific manner\n",
    "\n",
    "def sort_dict(d):\n",
    "    # The dictonary method 'dict.items()' is applied to create the array of iterables (tuples)\n",
    "    # Finally, we return the array of tuples, sorted in descending order (the sorting focus is on the second \n",
    "    # argument - [1])\n",
    "    return sorted(list(d.items()), key=itemgetter(1), reverse=True)\n",
    "\n",
    "sort_dict({3:1, 2:2, 1:3})"
   ]
  }
 ],
 "metadata": {
  "kernelspec": {
   "display_name": "Python 3 (ipykernel)",
   "language": "python",
   "name": "python3"
  },
  "language_info": {
   "codemirror_mode": {
    "name": "ipython",
    "version": 3
   },
   "file_extension": ".py",
   "mimetype": "text/x-python",
   "name": "python",
   "nbconvert_exporter": "python",
   "pygments_lexer": "ipython3",
   "version": "3.9.7"
  }
 },
 "nbformat": 4,
 "nbformat_minor": 5
}
