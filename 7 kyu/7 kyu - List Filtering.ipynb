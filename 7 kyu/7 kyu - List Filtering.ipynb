{
 "cells": [
  {
   "cell_type": "markdown",
   "id": "dcbae4b3",
   "metadata": {},
   "source": [
    "### List Filtering - 7 kyu, Codewars/Python"
   ]
  },
  {
   "cell_type": "code",
   "execution_count": 31,
   "id": "f8341054",
   "metadata": {},
   "outputs": [
    {
     "data": {
      "text/plain": [
       "[1, 2]"
      ]
     },
     "execution_count": 31,
     "metadata": {},
     "output_type": "execute_result"
    }
   ],
   "source": [
    "\"\"\"\n",
    "In this kata you will create a function that takes a list of non-negative integers and strings and \n",
    "returns a new list with the strings filtered out.\n",
    "Example\n",
    "filter_list([1,2,'a','b']) == [1,2]\n",
    "filter_list([1,'a','b',0,15]) == [1,0,15]\n",
    "filter_list([1,2,'aasf','1','123',123]) == [1,2,123]\n",
    "\"\"\"\n",
    "\n",
    "def filter_list(l):\n",
    "# Through the 'filter' function and the 'isinstance()' verification we are going to remove non-digit elements\n",
    "# from the given input list\n",
    "    final = list(filter(lambda x: isinstance(x, int), l))\n",
    "    return final # The list with just digits is finally returned\n",
    "filter_list([1,2,'a','b'])"
   ]
  }
 ],
 "metadata": {
  "kernelspec": {
   "display_name": "Python 3 (ipykernel)",
   "language": "python",
   "name": "python3"
  },
  "language_info": {
   "codemirror_mode": {
    "name": "ipython",
    "version": 3
   },
   "file_extension": ".py",
   "mimetype": "text/x-python",
   "name": "python",
   "nbconvert_exporter": "python",
   "pygments_lexer": "ipython3",
   "version": "3.9.7"
  }
 },
 "nbformat": 4,
 "nbformat_minor": 5
}
