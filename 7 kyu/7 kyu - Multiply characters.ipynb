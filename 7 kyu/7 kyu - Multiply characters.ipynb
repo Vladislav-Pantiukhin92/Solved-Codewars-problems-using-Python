{
 "cells": [
  {
   "cell_type": "markdown",
   "id": "a228aaee",
   "metadata": {},
   "source": [
    "### Multiply characters - 7 kyu, Codewars/Python"
   ]
  },
  {
   "cell_type": "code",
   "execution_count": 52,
   "id": "02f3883c",
   "metadata": {},
   "outputs": [
    {
     "data": {
      "text/plain": [
       "'huehuehuehuehuehuehuehuehuehuehuehuehuehue'"
      ]
     },
     "execution_count": 52,
     "metadata": {},
     "output_type": "execute_result"
    }
   ],
   "source": [
    "\"\"\"\n",
    "Here we have a function that help us spam our hearty laughter. But is not working! I need you to find out why...\n",
    "Expected results:\n",
    "\n",
    "spam(1)  ==> \"hue\"\n",
    "spam(6)  ==> \"huehuehuehuehuehue\"\n",
    "spam(14) ==> \"huehuehuehuehuehuehuehuehuehuehuehuehuehue\"\n",
    "\"\"\"\n",
    "\n",
    "def spam(number):\n",
    "# We return the concatenated list with \"hue\":\n",
    "    return \"\".join([\"hue\" for i in range(number)])\n",
    "\n",
    "spam(14)"
   ]
  }
 ],
 "metadata": {
  "kernelspec": {
   "display_name": "Python 3 (ipykernel)",
   "language": "python",
   "name": "python3"
  },
  "language_info": {
   "codemirror_mode": {
    "name": "ipython",
    "version": 3
   },
   "file_extension": ".py",
   "mimetype": "text/x-python",
   "name": "python",
   "nbconvert_exporter": "python",
   "pygments_lexer": "ipython3",
   "version": "3.9.7"
  }
 },
 "nbformat": 4,
 "nbformat_minor": 5
}
