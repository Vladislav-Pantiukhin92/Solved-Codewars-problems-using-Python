{
 "cells": [
  {
   "cell_type": "markdown",
   "id": "2b1110be",
   "metadata": {},
   "source": [
    "### Multiply Word in String - 7 kyu, Codewars/Python"
   ]
  },
  {
   "cell_type": "code",
   "execution_count": 6,
   "id": "be3f4672",
   "metadata": {},
   "outputs": [
    {
     "data": {
      "text/plain": [
       "'string-string-string-string-string'"
      ]
     },
     "execution_count": 6,
     "metadata": {},
     "output_type": "execute_result"
    }
   ],
   "source": [
    "\"\"\"\n",
    "You are to write an function that takes a string as it's first paramter. This string will be a string of words.\n",
    "You are expected to then use the second parameter, which will be an integer, to find the corresponding \n",
    "word in the given string. The first word would be represented by 0.\n",
    "\n",
    "Once you have the located string you are finally going to multiply by it the third provided paramater, \n",
    "which will also be an interger. You are additionally required to add a hyphen in between each word.\n",
    "\n",
    "Example:\n",
    "\n",
    "modify_multiply (\"This is a string\",3,5) \n",
    "Should return\n",
    "\n",
    "\"string-string-string-string-string\"\n",
    "\n",
    "Since the 3rd word is 'string'(starting from 0 remember) and the third paramater indicates that it should \n",
    "be repeated 5 times.\n",
    "\"\"\"\n",
    "\n",
    "def modify_multiply(st, loc, num):\n",
    "    list_of_words = st.split() # The given input string is split into the list of words\n",
    "    targetElem = list_of_words[loc] # The target word/element is found, using the 'loc' parameter\n",
    "    # Finally, we need to generate the list of target words with \"-\" and transform it into the return string\n",
    "    return \"\".join([targetElem + \"-\" for _ in range(num)]).strip(\"-\") # The final string without redundant \"-\" \n",
    "# is returned\n",
    "\n",
    "modify_multiply(\"This is a string\",3,5)"
   ]
  }
 ],
 "metadata": {
  "kernelspec": {
   "display_name": "Python 3 (ipykernel)",
   "language": "python",
   "name": "python3"
  },
  "language_info": {
   "codemirror_mode": {
    "name": "ipython",
    "version": 3
   },
   "file_extension": ".py",
   "mimetype": "text/x-python",
   "name": "python",
   "nbconvert_exporter": "python",
   "pygments_lexer": "ipython3",
   "version": "3.9.7"
  }
 },
 "nbformat": 4,
 "nbformat_minor": 5
}
