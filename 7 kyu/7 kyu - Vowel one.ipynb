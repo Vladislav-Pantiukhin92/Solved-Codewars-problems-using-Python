{
 "cells": [
  {
   "cell_type": "markdown",
   "id": "a2f7e4c8",
   "metadata": {},
   "source": [
    "### Vowel one - 7 kyu, Codewars/Python"
   ]
  },
  {
   "cell_type": "code",
   "execution_count": 61,
   "id": "69b00270",
   "metadata": {},
   "outputs": [
    {
     "data": {
      "text/plain": [
       "'1001110'"
      ]
     },
     "execution_count": 61,
     "metadata": {},
     "output_type": "execute_result"
    }
   ],
   "source": [
    "\"\"\"\n",
    "vowelOne\n",
    "Write a function that takes a string and outputs a strings of 1's and 0's where vowels become 1's and \n",
    "non-vowels become 0's.\n",
    "\n",
    "All non-vowels including non alpha characters (spaces,commas etc.) should be included.\n",
    "Examples:\n",
    "vowelOne \"abceios\" -- \"1001110\"\n",
    "vowelOne \"aeiou, abc\" -- \"1111100100\"\n",
    "\"\"\"\n",
    "\n",
    "import re # Regular expression will replace the appropriate character (vowels, consonants or non-alpha characters)\n",
    "# with the corresponding digit (\"0\" or \"1\")\n",
    "\n",
    "def vowel_one(s):\n",
    "    s = s.casefold() # All characters are lowercase right now\n",
    "    zeros = re.sub(r\"[^aeiou]\", \"0\", s) # Non-vowels are replaced with \"0\"\n",
    "    return re.sub(r\"[aeiou]\", \"1\", zeros) # Vowels are replaced with \"1\". The final result is returned\n",
    "\n",
    "vowel_one(\"abceios\")"
   ]
  }
 ],
 "metadata": {
  "kernelspec": {
   "display_name": "Python 3 (ipykernel)",
   "language": "python",
   "name": "python3"
  },
  "language_info": {
   "codemirror_mode": {
    "name": "ipython",
    "version": 3
   },
   "file_extension": ".py",
   "mimetype": "text/x-python",
   "name": "python",
   "nbconvert_exporter": "python",
   "pygments_lexer": "ipython3",
   "version": "3.9.7"
  }
 },
 "nbformat": 4,
 "nbformat_minor": 5
}
