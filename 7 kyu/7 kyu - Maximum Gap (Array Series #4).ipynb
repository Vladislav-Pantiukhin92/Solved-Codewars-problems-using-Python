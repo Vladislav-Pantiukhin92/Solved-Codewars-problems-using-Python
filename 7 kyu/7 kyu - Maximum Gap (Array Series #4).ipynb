{
 "cells": [
  {
   "cell_type": "markdown",
   "id": "94d54374",
   "metadata": {},
   "source": [
    "### Maximum Gap (Array Series #4) - 7 kyu, Codewars/Python"
   ]
  },
  {
   "cell_type": "code",
   "execution_count": 57,
   "id": "72852f05",
   "metadata": {},
   "outputs": [
    {
     "data": {
      "text/plain": [
       "4"
      ]
     },
     "execution_count": 57,
     "metadata": {},
     "output_type": "execute_result"
    }
   ],
   "source": [
    "\"\"\"\n",
    "Given an array/list [] of integers , Find The maximum difference between the successive elements in \n",
    "its sorted form.\n",
    "\n",
    "Notes:\n",
    "Array/list size is at least 3.\n",
    "Array/list's numbers Will be mixture of positives and negatives also zeros.\n",
    "Repetition of numbers in the array/list could occur.\n",
    "The Maximum Gap is computed Regardless the sign.\n",
    "\n",
    "maxGap ({13,10,5,2,9}) ==> return (4)\n",
    "Explanation:\n",
    "The Maximum Gap after sorting the array is 4 , The difference between 9 - 5 = 4.\n",
    "\"\"\"\n",
    "\n",
    "def max_gap(numbers):\n",
    "    numbers = sorted(numbers) # For starters, let's sort the numbers in ascending order\n",
    "    # We have to use two pointers for calculating the gap between adjacent numbers within the sorted input list\n",
    "    i = 0 # The first pointer\n",
    "    j = 1 # The second pointer\n",
    "    maxGap = 0 # The initial maxGap is 0\n",
    "    while j < len(numbers): # While iterating over elements of the given input list, we update the maxGap\n",
    "        maxGap = max(abs(numbers[j] - numbers[i]), maxGap)\n",
    "        i += 1\n",
    "        j += 1\n",
    "    return maxGap # Finally, the maxGap is returned\n",
    "\n",
    "max_gap([13,10,5,2,9])"
   ]
  }
 ],
 "metadata": {
  "kernelspec": {
   "display_name": "Python 3 (ipykernel)",
   "language": "python",
   "name": "python3"
  },
  "language_info": {
   "codemirror_mode": {
    "name": "ipython",
    "version": 3
   },
   "file_extension": ".py",
   "mimetype": "text/x-python",
   "name": "python",
   "nbconvert_exporter": "python",
   "pygments_lexer": "ipython3",
   "version": "3.9.7"
  }
 },
 "nbformat": 4,
 "nbformat_minor": 5
}
