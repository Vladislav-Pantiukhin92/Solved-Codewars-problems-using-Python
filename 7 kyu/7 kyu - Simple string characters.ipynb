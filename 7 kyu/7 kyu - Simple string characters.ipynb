{
 "cells": [
  {
   "cell_type": "markdown",
   "id": "d4d77496",
   "metadata": {},
   "source": [
    "### Simple string characters - 7 kyu, Codewars/Python"
   ]
  },
  {
   "cell_type": "code",
   "execution_count": 603,
   "id": "748acf81",
   "metadata": {},
   "outputs": [
    {
     "data": {
      "text/plain": [
       "[4, 5, 5, 3]"
      ]
     },
     "execution_count": 603,
     "metadata": {},
     "output_type": "execute_result"
    }
   ],
   "source": [
    "\"\"\"\n",
    "In this Kata, you will be given a string and your task will be to return a list of ints detailing the count of uppercase letters, lowercase, numbers and special characters, as follows.\n",
    "\n",
    "Solve(\"*'&ABCDabcde12345\") = [4,5,5,3]. \n",
    "--the order is: uppercase letters, lowercase, numbers and special characters.\n",
    "More examples in the test cases.\n",
    "\"\"\"\n",
    "\n",
    "import string\n",
    "\n",
    "def solve(s):\n",
    "    final = [0] * 4 # List with 4 zeros to reserve the memory for 4 value categories\n",
    "    for i in s:\n",
    "        if i in string.ascii_uppercase: # Uppercase from string module\n",
    "            final[0] += 1\n",
    "        elif i in string.ascii_lowercase: # Lowercase from string module\n",
    "            final[1] += 1\n",
    "        elif i in string.digits: # Digits from string module\n",
    "            final[2] += 1\n",
    "        else:\n",
    "            final[3] += 1 # Special characters\n",
    "    return final\n",
    "        \n",
    "solve(\"*'&ABCDabcde12345\")"
   ]
  }
 ],
 "metadata": {
  "kernelspec": {
   "display_name": "Python 3",
   "language": "python",
   "name": "python3"
  },
  "language_info": {
   "codemirror_mode": {
    "name": "ipython",
    "version": 3
   },
   "file_extension": ".py",
   "mimetype": "text/x-python",
   "name": "python",
   "nbconvert_exporter": "python",
   "pygments_lexer": "ipython3",
   "version": "3.8.8"
  }
 },
 "nbformat": 4,
 "nbformat_minor": 5
}
