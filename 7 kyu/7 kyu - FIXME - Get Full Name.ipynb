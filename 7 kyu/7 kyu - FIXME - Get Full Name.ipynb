{
 "cells": [
  {
   "cell_type": "markdown",
   "id": "f1239a80",
   "metadata": {},
   "source": [
    "### FIXME: Get Full Name - 7 kyu, Codewars/Python"
   ]
  },
  {
   "cell_type": "code",
   "execution_count": null,
   "id": "fef14dbd",
   "metadata": {},
   "outputs": [],
   "source": [
    "\"\"\"\n",
    "The code provided is supposed return a person's Full Name given their first and last names.\n",
    "But it's not working properly.\n",
    "\n",
    "Notes:\n",
    "The first and/or last names are never null, but may be empty.\n",
    "Task:\n",
    "Fix the bug so we can all go home early.\n",
    "\"\"\"\n",
    "\n",
    "# To correct the mistake, we need to add 'self.':\n",
    "class Dinglemouse(object):\n",
    "    def __init__(self, first_name, last_name):\n",
    "        self.first_name = first_name\n",
    "        self.last_name = last_name\n",
    "    def get_full_name(self):\n",
    "# What is more, we need to incorporate some conditions as regards empty names:\n",
    "        if not self.first_name and not self.last_name:\n",
    "            return \"\" # The case, when both the first name and the last name are empty\n",
    "        elif not self.first_name:\n",
    "            return f\"{self.last_name}\" # The case, when the first name is empty\n",
    "        elif not self.last_name:\n",
    "            return f\"{self.first_name}\" # The case, when the last name is empty\n",
    "        return self.first_name + ' ' + self.last_name # The case, when the first name and the last name are \n",
    "    # non-empty"
   ]
  }
 ],
 "metadata": {
  "kernelspec": {
   "display_name": "Python 3 (ipykernel)",
   "language": "python",
   "name": "python3"
  },
  "language_info": {
   "codemirror_mode": {
    "name": "ipython",
    "version": 3
   },
   "file_extension": ".py",
   "mimetype": "text/x-python",
   "name": "python",
   "nbconvert_exporter": "python",
   "pygments_lexer": "ipython3",
   "version": "3.9.7"
  }
 },
 "nbformat": 4,
 "nbformat_minor": 5
}
