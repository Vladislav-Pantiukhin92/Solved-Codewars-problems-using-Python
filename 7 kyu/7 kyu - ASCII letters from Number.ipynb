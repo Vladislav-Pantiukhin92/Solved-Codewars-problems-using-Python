{
 "cells": [
  {
   "cell_type": "markdown",
   "id": "11d87341",
   "metadata": {},
   "source": [
    "### ASCII letters from Number - 7 kyu, Codewars/Python"
   ]
  },
  {
   "cell_type": "code",
   "execution_count": 35,
   "id": "3332c2e5",
   "metadata": {},
   "outputs": [
    {
     "name": "stdout",
     "output_type": "stream",
     "text": [
      "I LIKE UPPERCASE\n"
     ]
    }
   ],
   "source": [
    "\"\"\"\n",
    "You have to create a function that converts integer given as string into ASCII uppercase letters.\n",
    "All ASCII characters have their numerical order in table.\n",
    "\n",
    "For example,\n",
    "\n",
    "from ASCII table, character of number 65 is \"A\".\n",
    "Numbers will be next to each other, So you have to split given number to two digit long integers.\n",
    "\n",
    "For example,\n",
    "\n",
    "'658776' to [65, 87, 76] and then turn it into 'AWL'.\n",
    "Good Luck!\n",
    "\"\"\"\n",
    "\n",
    "import re\n",
    "\n",
    "def convert(number):\n",
    "    all_numbers = re.findall(r\"\\d{2}\", number) # We utilize regular expressions to pick out two-digit numbers\n",
    "    uppercase = list(map(lambda x: chr(int(x)), all_numbers)) # Using 'chr' we turn numbers into uppercase letters\n",
    "    return \"\".join(uppercase)\n",
    "    \n",
    "print(convert(\"73327673756932858080698267658369\"))"
   ]
  }
 ],
 "metadata": {
  "kernelspec": {
   "display_name": "Python 3",
   "language": "python",
   "name": "python3"
  },
  "language_info": {
   "codemirror_mode": {
    "name": "ipython",
    "version": 3
   },
   "file_extension": ".py",
   "mimetype": "text/x-python",
   "name": "python",
   "nbconvert_exporter": "python",
   "pygments_lexer": "ipython3",
   "version": "3.8.8"
  }
 },
 "nbformat": 4,
 "nbformat_minor": 5
}
