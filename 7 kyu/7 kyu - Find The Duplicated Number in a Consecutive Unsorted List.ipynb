{
 "cells": [
  {
   "cell_type": "markdown",
   "id": "3b0abeab",
   "metadata": {},
   "source": [
    "### Find The Duplicated Number in a Consecutive Unsorted List - 7 kyu, Codewars/Python"
   ]
  },
  {
   "cell_type": "code",
   "execution_count": 7,
   "id": "b9fe16b8",
   "metadata": {},
   "outputs": [
    {
     "data": {
      "text/plain": [
       "3"
      ]
     },
     "execution_count": 7,
     "metadata": {},
     "output_type": "execute_result"
    }
   ],
   "source": [
    "\"\"\"\n",
    "You are given an array of n+1 integers 1 through n. In addition there is a single duplicate integer.\n",
    "The array is unsorted.\n",
    "An example valid array would be [3, 2, 5, 1, 3, 4]. It has the integers 1 through 5 and 3 is duplicated. \n",
    "[1, 2, 4, 5, 5] would not be valid as it is missing 3.\n",
    "You should return the duplicate value as a single integer.\n",
    "\"\"\"\n",
    "\n",
    "def find_dup(arr):\n",
    "    myDict = {} # Let's create the dictionary, which will store the occurrence of integers\n",
    "    for i in arr:\n",
    "        if i not in myDict:\n",
    "            myDict[i] = 1 # If the integer is new, we add this number to the dictionary as a new key, which \n",
    "            # will correspond to the value '1'\n",
    "        else:\n",
    "            # If the key is already within the dictionary, we return it - because it is a duplicate number\n",
    "            return i\n",
    "        \n",
    "find_dup([3, 2, 5, 1, 3, 4])"
   ]
  }
 ],
 "metadata": {
  "kernelspec": {
   "display_name": "Python 3 (ipykernel)",
   "language": "python",
   "name": "python3"
  },
  "language_info": {
   "codemirror_mode": {
    "name": "ipython",
    "version": 3
   },
   "file_extension": ".py",
   "mimetype": "text/x-python",
   "name": "python",
   "nbconvert_exporter": "python",
   "pygments_lexer": "ipython3",
   "version": "3.9.7"
  }
 },
 "nbformat": 4,
 "nbformat_minor": 5
}
