{
 "cells": [
  {
   "cell_type": "markdown",
   "id": "c50f6744",
   "metadata": {},
   "source": [
    "### Counting Array Elements - 7 kyu, Codewars/Python"
   ]
  },
  {
   "cell_type": "code",
   "execution_count": 56,
   "id": "0435defd",
   "metadata": {},
   "outputs": [
    {
     "data": {
      "text/plain": [
       "{'james': 2, 'john': 1}"
      ]
     },
     "execution_count": 56,
     "metadata": {},
     "output_type": "execute_result"
    }
   ],
   "source": [
    "\"\"\"\n",
    "Write a function that takes an array and counts the number of each unique element present.\n",
    "count(['james', 'james', 'john']) \n",
    "#=> { 'james' => 2, 'john' => 1}\n",
    "\"\"\"\n",
    "\n",
    "from collections import Counter # 'collections.Counter' will count the occurrence of elements through the \n",
    "# dictionary structure\n",
    "\n",
    "def count(array):\n",
    "    return dict(Counter(array)) # The dictionary with elements' occurrences is returned\n",
    "\n",
    "count(['james', 'james', 'john'])"
   ]
  }
 ],
 "metadata": {
  "kernelspec": {
   "display_name": "Python 3 (ipykernel)",
   "language": "python",
   "name": "python3"
  },
  "language_info": {
   "codemirror_mode": {
    "name": "ipython",
    "version": 3
   },
   "file_extension": ".py",
   "mimetype": "text/x-python",
   "name": "python",
   "nbconvert_exporter": "python",
   "pygments_lexer": "ipython3",
   "version": "3.9.7"
  }
 },
 "nbformat": 4,
 "nbformat_minor": 5
}
