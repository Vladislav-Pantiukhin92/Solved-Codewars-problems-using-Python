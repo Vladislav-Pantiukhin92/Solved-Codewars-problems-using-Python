{
 "cells": [
  {
   "cell_type": "markdown",
   "id": "b9351f5a",
   "metadata": {},
   "source": [
    "### The Office IV - Find a Meeting Room - 7 kyu, Codewars/Python"
   ]
  },
  {
   "cell_type": "code",
   "execution_count": 6,
   "id": "81d74763",
   "metadata": {},
   "outputs": [
    {
     "data": {
      "text/plain": [
       "0"
      ]
     },
     "execution_count": 6,
     "metadata": {},
     "output_type": "execute_result"
    }
   ],
   "source": [
    "\"\"\"\n",
    "Your job at E-Corp is both boring and difficult. It isn't made any easier by the fact that everyone constantly wants to have a meeting with you, and that the meeting rooms are always taken!\n",
    "In this kata, you will be given an array. Each value represents a meeting room. Your job? Find the first empty one and return its index (N.B. There may be more than one empty room in some test cases).\n",
    "\n",
    "'X' --> busy\n",
    "'O' --> empty\n",
    "If all rooms are busy, return \"None available!\"\n",
    "\n",
    "\"\"\"\n",
    "def meeting(rooms):\n",
    "    if \"O\" not in \"\".join(rooms):\n",
    "        return \"None available!\"\n",
    "    for i, j in enumerate(rooms): # We use 'enumerate' function to loop over both values and index\n",
    "        if j == \"O\":\n",
    "            return i\n",
    "\n",
    "meeting(['O', 'X', 'X', 'X', 'X'])"
   ]
  }
 ],
 "metadata": {
  "kernelspec": {
   "display_name": "Python 3",
   "language": "python",
   "name": "python3"
  },
  "language_info": {
   "codemirror_mode": {
    "name": "ipython",
    "version": 3
   },
   "file_extension": ".py",
   "mimetype": "text/x-python",
   "name": "python",
   "nbconvert_exporter": "python",
   "pygments_lexer": "ipython3",
   "version": "3.8.8"
  }
 },
 "nbformat": 4,
 "nbformat_minor": 5
}
