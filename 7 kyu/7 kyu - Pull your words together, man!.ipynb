{
 "cells": [
  {
   "cell_type": "markdown",
   "id": "b0b25765",
   "metadata": {},
   "source": [
    "### Pull your words together, man! - 7 kyu, Codewars/Python"
   ]
  },
  {
   "cell_type": "code",
   "execution_count": 5,
   "id": "9d414422",
   "metadata": {},
   "outputs": [
    {
     "data": {
      "text/plain": [
       "'This is a sentence.'"
      ]
     },
     "execution_count": 5,
     "metadata": {},
     "output_type": "execute_result"
    }
   ],
   "source": [
    "\"\"\"\n",
    "Your friend Robbie has successfully created an AI that is capable of communicating in English!\n",
    "Robbie's almost done with the project, however the machine's output isn't working as expected. Here's a sample of a sentence that it outputs:\n",
    "\n",
    "[\"this\",\"is\",\"a\",\"sentence\"]\n",
    "Every time that it tries to say a sentence, instead of formatting it in normal English orthography, it just outputs a list of words.\n",
    "\n",
    "Robbie has pulled multiple all-nighters to get this project finished, and he needs some beauty sleep. So, he wants you to write the last part of his code, a sentencify function, which takes the output that the machine gives, and formats it into proper English orthography.\n",
    "\n",
    "Your function should:\n",
    "\n",
    "- Capitalise the first letter of the first word.\n",
    "- Add a period (.) to the end of the sentence.\n",
    "- Join the words into a complete string, with spaces.\n",
    "- Do no other manipulation on the words.\n",
    "\n",
    "\"\"\"\n",
    "\n",
    "def sentencify(words):\n",
    "    first_word = words[0]\n",
    "    if len(words) < 2:\n",
    "        if first_word[0].isupper():\n",
    "            return first_word + \".\"\n",
    "        return first_word.title() + \".\"\n",
    "    else:\n",
    "        if first_word[0].isupper():\n",
    "            return first_word + \" \" + \" \".join(words[1:]) + \".\"\n",
    "        return first_word.title() + \" \" + \" \".join(words[1: ]) + \".\"\n",
    "sentencify([\"this\",\"is\",\"a\",\"sentence\"])"
   ]
  }
 ],
 "metadata": {
  "kernelspec": {
   "display_name": "Python 3",
   "language": "python",
   "name": "python3"
  },
  "language_info": {
   "codemirror_mode": {
    "name": "ipython",
    "version": 3
   },
   "file_extension": ".py",
   "mimetype": "text/x-python",
   "name": "python",
   "nbconvert_exporter": "python",
   "pygments_lexer": "ipython3",
   "version": "3.8.8"
  }
 },
 "nbformat": 4,
 "nbformat_minor": 5
}
