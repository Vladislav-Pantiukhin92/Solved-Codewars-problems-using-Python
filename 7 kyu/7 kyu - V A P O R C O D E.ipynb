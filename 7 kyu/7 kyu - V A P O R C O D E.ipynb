{
 "cells": [
  {
   "cell_type": "markdown",
   "id": "ce64ca15",
   "metadata": {},
   "source": [
    "### V A P O R C O D E - 7 kyu, Codewars/Python"
   ]
  },
  {
   "cell_type": "code",
   "execution_count": 14,
   "id": "3d2defcd",
   "metadata": {},
   "outputs": [
    {
     "data": {
      "text/plain": [
       "'L  E  T  S  G  O  T  O  T  H  E  M  O  V  I  E  S'"
      ]
     },
     "execution_count": 14,
     "metadata": {},
     "output_type": "execute_result"
    }
   ],
   "source": [
    "\"\"\"\n",
    "ASC Week 1 Challenge 4 (Medium #1)\n",
    "Write a function that converts any sentence into a V A P O R W A V E sentence. a V A P O R W A V E \n",
    "sentence converts all the letters into uppercase, and adds 2 spaces between each letter (or special \n",
    "character) to create this V A P O R W A V E effect.\n",
    "Note that spaces should be ignored in this case.\n",
    "\n",
    "Examples\n",
    "\"Lets go to the movies\"       -->  \"L  E  T  S  G  O  T  O  T  H  E  M  O  V  I  E  S\"\n",
    "\"Why isn't my code working?\"  -->  \"W  H  Y  I  S  N  '  T  M  Y  C  O  D\n",
    "\"\"\"\n",
    "\n",
    "def vaporcode(s):\n",
    "# To make the problem easier, we need to evaporate all the spaces within the given input string:\n",
    "    without_spaces = s.replace(\" \", \"\") # Now we have only characters without spaces\n",
    "# The second operation is to make all characters uppercase:\n",
    "    list_of_values = list(map(lambda x: x.upper(), list(without_spaces)))\n",
    "# Finally, it is necessary to add two spaces between adjacent letters:\n",
    "    final = \"  \".join(list_of_values)\n",
    "    return final # The obtained result is returned\n",
    "\n",
    "vaporcode(\"Lets go to the movies\")"
   ]
  }
 ],
 "metadata": {
  "kernelspec": {
   "display_name": "Python 3 (ipykernel)",
   "language": "python",
   "name": "python3"
  },
  "language_info": {
   "codemirror_mode": {
    "name": "ipython",
    "version": 3
   },
   "file_extension": ".py",
   "mimetype": "text/x-python",
   "name": "python",
   "nbconvert_exporter": "python",
   "pygments_lexer": "ipython3",
   "version": "3.9.7"
  }
 },
 "nbformat": 4,
 "nbformat_minor": 5
}
