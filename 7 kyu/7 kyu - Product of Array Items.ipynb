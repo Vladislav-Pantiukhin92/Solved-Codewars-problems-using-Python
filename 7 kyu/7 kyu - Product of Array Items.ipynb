{
 "cells": [
  {
   "cell_type": "markdown",
   "id": "479ea8b8",
   "metadata": {},
   "source": [
    "### Product of Array Items - 7 kyu, Codewars/Python"
   ]
  },
  {
   "cell_type": "code",
   "execution_count": 63,
   "id": "00fa0f97",
   "metadata": {},
   "outputs": [
    {
     "data": {
      "text/plain": [
       "540"
      ]
     },
     "execution_count": 63,
     "metadata": {},
     "output_type": "execute_result"
    }
   ],
   "source": [
    "\"\"\"\n",
    "Calculate the product of all elements in an array.\n",
    "If the array is empty or None, return None.\n",
    "\"\"\"\n",
    "\n",
    "from functools import reduce # 'functools.reduce' will execute the product operation within the given input list\n",
    "\n",
    "def product(numbers):\n",
    "    if not numbers: # If the given input data is None, or we deal with an empty given input list - we return None\n",
    "        return None\n",
    "    return reduce(lambda x, y: x * y, numbers) # Alternatively, the product result is returned\n",
    "\n",
    "product([5, 4, 1, 3, 9])"
   ]
  }
 ],
 "metadata": {
  "kernelspec": {
   "display_name": "Python 3 (ipykernel)",
   "language": "python",
   "name": "python3"
  },
  "language_info": {
   "codemirror_mode": {
    "name": "ipython",
    "version": 3
   },
   "file_extension": ".py",
   "mimetype": "text/x-python",
   "name": "python",
   "nbconvert_exporter": "python",
   "pygments_lexer": "ipython3",
   "version": "3.9.7"
  }
 },
 "nbformat": 4,
 "nbformat_minor": 5
}
