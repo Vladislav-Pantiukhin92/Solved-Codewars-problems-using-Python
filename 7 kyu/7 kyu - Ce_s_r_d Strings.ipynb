{
 "cells": [
  {
   "cell_type": "markdown",
   "id": "db1a7afc",
   "metadata": {},
   "source": [
    "### Ce*s*r*d Strings - 7 kyu, Codewars/Python"
   ]
  },
  {
   "cell_type": "code",
   "execution_count": 39,
   "id": "790f604f",
   "metadata": {},
   "outputs": [
    {
     "data": {
      "text/plain": [
       "'This is very strange'"
      ]
     },
     "execution_count": 39,
     "metadata": {},
     "output_type": "execute_result"
    }
   ],
   "source": [
    "\"\"\"\n",
    "My PC got infected by a strange virus. It only infects my text files and replaces random letters by *, \n",
    "li*e th*s (like this).\n",
    "Fortunately, I discovered that the virus hides my censored letters inside root directory.\n",
    "It will be very tedious to recover all these files manually, so your goal is to implement uncensor \n",
    "function that does the hard work automatically.\n",
    "Examples\n",
    "uncensor(\"*h*s *s v*ry *tr*ng*\", \"Tiiesae\") ➜ \"This is very strange\"\n",
    "\n",
    "uncensor(\"A**Z*N*\", \"MAIG\") ➜ \"AMAZING\"\n",
    "\n",
    "uncensor(\"xyz\", \"\") ➜ \"xyz\"\n",
    "Notes\n",
    "Expect all discovered letters to be given in the correct order.\n",
    "Discovered letters will match the number of censored ones.\n",
    "Any character can be censored.\n",
    "\"\"\"\n",
    "\n",
    "def uncensor(infected, discovered): # We need to obtain the full-fledged string\n",
    "    final = [] # The list container, which will comprise all values, incl. restored characters\n",
    "# Let's transform the given input strings into lists with values:\n",
    "    infected = list(infected)\n",
    "    discovered = list(discovered)\n",
    "    while infected: # We are going to use the in-built queue structure:\n",
    "        curChar = infected.pop(0) # Each time the first element is popped\n",
    "        if curChar == \"*\": # If the popped element is \"*\", this value is replaced with real letters from \"discovered\"\n",
    "            replace = discovered.pop(0)\n",
    "            final.append(replace)\n",
    "        else: # If the popped element is not \"*\" - we append the value without changes\n",
    "            final.append(curChar)\n",
    "    return \"\".join(final) # The list is turned into the final string and returned\n",
    "\n",
    "uncensor(\"*h*s *s v*ry *tr*ng*\", \"Tiiesae\")"
   ]
  }
 ],
 "metadata": {
  "kernelspec": {
   "display_name": "Python 3 (ipykernel)",
   "language": "python",
   "name": "python3"
  },
  "language_info": {
   "codemirror_mode": {
    "name": "ipython",
    "version": 3
   },
   "file_extension": ".py",
   "mimetype": "text/x-python",
   "name": "python",
   "nbconvert_exporter": "python",
   "pygments_lexer": "ipython3",
   "version": "3.9.7"
  }
 },
 "nbformat": 4,
 "nbformat_minor": 5
}
