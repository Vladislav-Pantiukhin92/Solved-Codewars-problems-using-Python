{
 "cells": [
  {
   "cell_type": "markdown",
   "id": "247c8fe9",
   "metadata": {},
   "source": [
    "### getNames() - 7 kyu, Codewars/Python"
   ]
  },
  {
   "cell_type": "code",
   "execution_count": 49,
   "id": "41c86e78",
   "metadata": {},
   "outputs": [
    {
     "data": {
      "text/plain": [
       "['Joe', 'Bill', 'Kate']"
      ]
     },
     "execution_count": 49,
     "metadata": {},
     "output_type": "execute_result"
    }
   ],
   "source": [
    "\"\"\"\n",
    "The following code is not giving the expected results. Can you debug what the issue is?\n",
    "The following is an example of data that would be passed in to the function.\n",
    "\n",
    "data = [\n",
    "    {'name': 'Joe', 'age': 20},\n",
    "    {'name': 'Bill', 'age': 30},\n",
    "    {'name': 'Kate', 'age': 23}\n",
    "]\n",
    "get_names(data) # should return ['Joe', 'Bill', 'Kate']\n",
    "\"\"\"\n",
    "\n",
    "def itemgetter(item):\n",
    "    return item['name'] # Here we need to add the 'return' statement\n",
    "    \n",
    "def get_names(data):\n",
    "    return list(map(itemgetter, data))\n",
    "\n",
    "get_names([\n",
    "    {'name': 'Joe', 'age': 20},\n",
    "    {'name': 'Bill', 'age': 30},\n",
    "    {'name': 'Kate', 'age': 23}])"
   ]
  }
 ],
 "metadata": {
  "kernelspec": {
   "display_name": "Python 3 (ipykernel)",
   "language": "python",
   "name": "python3"
  },
  "language_info": {
   "codemirror_mode": {
    "name": "ipython",
    "version": 3
   },
   "file_extension": ".py",
   "mimetype": "text/x-python",
   "name": "python",
   "nbconvert_exporter": "python",
   "pygments_lexer": "ipython3",
   "version": "3.9.7"
  }
 },
 "nbformat": 4,
 "nbformat_minor": 5
}
