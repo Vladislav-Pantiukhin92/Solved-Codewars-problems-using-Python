{
 "cells": [
  {
   "cell_type": "markdown",
   "id": "69dcb8ea",
   "metadata": {},
   "source": [
    "### Sort Numbers (by Quick Sort) - 7 kyu, Codewars/Python. "
   ]
  },
  {
   "cell_type": "code",
   "execution_count": 13,
   "id": "46280a48",
   "metadata": {},
   "outputs": [
    {
     "data": {
      "text/plain": [
       "[1, 2, 3, 5, 10]"
      ]
     },
     "execution_count": 13,
     "metadata": {},
     "output_type": "execute_result"
    }
   ],
   "source": [
    "\"\"\"\n",
    "Finish the solution so that it sorts the passed in array of numbers. \n",
    "If the function passes in an empty array or null/nil value then it should return an empty array.\n",
    "\n",
    "For example:\n",
    "\n",
    "solution([1,2,3,10,5]) # should return [1,2,3,5,10]\n",
    "solution(None) # should return []\n",
    "\"\"\"\n",
    "# Implementation of the Quick Sort algorithm\n",
    "# The Quick Sort algorithm envisages the recursion solution\n",
    "\n",
    "def solution(nums):\n",
    "    if not nums:\n",
    "        return []\n",
    "    if len(nums) < 2:\n",
    "        return nums\n",
    "    pivot = nums[0] # We find the pivot number (random number, for example, the first element)\n",
    "    # After that we form three lists (for example, through list comprehension)\n",
    "    # 1 list with elements < pivot number\n",
    "    # 2 list with elements == pivot number\n",
    "    # 3 list with elements > pivot number\n",
    "    smaller = [i for i in nums if i < pivot]\n",
    "    equal = [i for i in nums if i == pivot]\n",
    "    greater = [i for i in nums if i > pivot]\n",
    "    # Divide-and-Conquer through recursion\n",
    "    return solution(smaller) + equal + solution(greater)\n",
    "\n",
    "solution([1,2,3,10,5])"
   ]
  }
 ],
 "metadata": {
  "kernelspec": {
   "display_name": "Python 3 (ipykernel)",
   "language": "python",
   "name": "python3"
  },
  "language_info": {
   "codemirror_mode": {
    "name": "ipython",
    "version": 3
   },
   "file_extension": ".py",
   "mimetype": "text/x-python",
   "name": "python",
   "nbconvert_exporter": "python",
   "pygments_lexer": "ipython3",
   "version": "3.9.7"
  }
 },
 "nbformat": 4,
 "nbformat_minor": 5
}
