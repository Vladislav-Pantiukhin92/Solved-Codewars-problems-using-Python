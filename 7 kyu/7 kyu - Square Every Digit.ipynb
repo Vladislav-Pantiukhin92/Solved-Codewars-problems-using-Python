{
 "cells": [
  {
   "cell_type": "markdown",
   "id": "98973b33",
   "metadata": {},
   "source": [
    "### Square Every Digit - 7 kyu, Codewars/Python"
   ]
  },
  {
   "cell_type": "code",
   "execution_count": 17,
   "id": "1b643f0c",
   "metadata": {},
   "outputs": [
    {
     "data": {
      "text/plain": [
       "811181"
      ]
     },
     "execution_count": 17,
     "metadata": {},
     "output_type": "execute_result"
    }
   ],
   "source": [
    "\"\"\"\n",
    "Welcome. In this kata, you are asked to square every digit of a number and concatenate them.\n",
    "For example, if we run 9119 through the function, 811181 will come out, because 92 is 81 and 12 is 1.\n",
    "Note: The function accepts an integer and returns an integer\n",
    "\"\"\"\n",
    "\n",
    "def square_digits(num):\n",
    "# To manipulate with the given input array it is necessary to change the data type of the input number:\n",
    "# Integer type -> string type -> list type\n",
    "    my_list = list(str(num)) # Currently we have the list of string digits\n",
    "# The following operation is to transform all elements into integers and obtain the square numbers:\n",
    "    final = list(map(str, list(map(lambda x: pow(int(x), 2), my_list))))\n",
    "# Finally, we should return the integer type again:\n",
    "# List type -> string type -> integer type\n",
    "    return int(\"\".join(final))\n",
    "\n",
    "square_digits(9119)"
   ]
  }
 ],
 "metadata": {
  "kernelspec": {
   "display_name": "Python 3 (ipykernel)",
   "language": "python",
   "name": "python3"
  },
  "language_info": {
   "codemirror_mode": {
    "name": "ipython",
    "version": 3
   },
   "file_extension": ".py",
   "mimetype": "text/x-python",
   "name": "python",
   "nbconvert_exporter": "python",
   "pygments_lexer": "ipython3",
   "version": "3.9.7"
  }
 },
 "nbformat": 4,
 "nbformat_minor": 5
}
