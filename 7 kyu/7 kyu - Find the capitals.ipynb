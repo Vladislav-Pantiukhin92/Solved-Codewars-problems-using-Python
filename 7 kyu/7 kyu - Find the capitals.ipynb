{
 "cells": [
  {
   "cell_type": "markdown",
   "id": "efa60b4f",
   "metadata": {},
   "source": [
    "### Find the capitals - 7 kyu, Codewars/Python"
   ]
  },
  {
   "cell_type": "code",
   "execution_count": 64,
   "id": "8015771b",
   "metadata": {},
   "outputs": [
    {
     "data": {
      "text/plain": [
       "[0, 3, 4, 6]"
      ]
     },
     "execution_count": 64,
     "metadata": {},
     "output_type": "execute_result"
    }
   ],
   "source": [
    "\"\"\"\n",
    "Instructions\n",
    "Write a function that takes a single string (word) as argument. The function must return an ordered list containing the indexes of all capital letters in the string.\n",
    "\n",
    "Example\n",
    "Test.assertSimilar( capitals('CodEWaRs'), [0,3,4,6] );\n",
    "\"\"\"\n",
    "\n",
    "def capitals(word):\n",
    "    return [i for i, j in enumerate(word) if j.isupper()]\n",
    "    \n",
    "\n",
    "capitals('CodEWaRs')"
   ]
  }
 ],
 "metadata": {
  "kernelspec": {
   "display_name": "Python 3",
   "language": "python",
   "name": "python3"
  },
  "language_info": {
   "codemirror_mode": {
    "name": "ipython",
    "version": 3
   },
   "file_extension": ".py",
   "mimetype": "text/x-python",
   "name": "python",
   "nbconvert_exporter": "python",
   "pygments_lexer": "ipython3",
   "version": "3.8.8"
  }
 },
 "nbformat": 4,
 "nbformat_minor": 5
}
