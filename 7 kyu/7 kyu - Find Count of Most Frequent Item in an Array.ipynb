{
 "cells": [
  {
   "cell_type": "markdown",
   "id": "b4878033",
   "metadata": {},
   "source": [
    "### Find Count of Most Frequent Item in an Array - 7 kyu, Codewars/Python"
   ]
  },
  {
   "cell_type": "code",
   "execution_count": 53,
   "id": "dee1c437",
   "metadata": {},
   "outputs": [
    {
     "data": {
      "text/plain": [
       "5"
      ]
     },
     "execution_count": 53,
     "metadata": {},
     "output_type": "execute_result"
    }
   ],
   "source": [
    "\"\"\"\n",
    "Complete the function to find the count of the most frequent item of an array. You can assume that \n",
    "input is an array of integers. For an empty array return 0\n",
    "\n",
    "Example:\n",
    "input array: [3, -1, -1, -1, 2, 3, -1, 3, -1, 2, 4, 9, 3]\n",
    "ouptut: 5 \n",
    "The most frequent number in the array is -1 and it occurs 5 times.\n",
    "\"\"\"\n",
    "\n",
    "from collections import Counter # 'collections.Counter' is to be used to create the occurrence dictionary\n",
    "\n",
    "def most_frequent_item_count(collection):\n",
    "    myDict = dict(Counter(collection)) # The occurrence dictionary is created\n",
    "    maxCount = 0 # The initial maxCount equals to 0\n",
    "    for i in myDict: # While looping over the keys of the occurrence dictionary - we are going to update and \n",
    "        # find the maxValue (that is, the maxCount)\n",
    "        maxCount = max(myDict[i], maxCount)\n",
    "    return maxCount # The maxCount is finally returned\n",
    "\n",
    "most_frequent_item_count([3, -1, -1, -1, 2, 3, -1, 3, -1, 2, 4, 9, 3])"
   ]
  }
 ],
 "metadata": {
  "kernelspec": {
   "display_name": "Python 3 (ipykernel)",
   "language": "python",
   "name": "python3"
  },
  "language_info": {
   "codemirror_mode": {
    "name": "ipython",
    "version": 3
   },
   "file_extension": ".py",
   "mimetype": "text/x-python",
   "name": "python",
   "nbconvert_exporter": "python",
   "pygments_lexer": "ipython3",
   "version": "3.9.7"
  }
 },
 "nbformat": 4,
 "nbformat_minor": 5
}
