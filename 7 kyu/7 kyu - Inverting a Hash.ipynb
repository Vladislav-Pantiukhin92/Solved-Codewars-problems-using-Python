{
 "cells": [
  {
   "cell_type": "markdown",
   "id": "dcbae4b3",
   "metadata": {},
   "source": [
    "### Inverting a Hash - 7 kyu, Codewars/Python"
   ]
  },
  {
   "cell_type": "code",
   "execution_count": 36,
   "id": "fda03872",
   "metadata": {},
   "outputs": [
    {
     "data": {
      "text/plain": [
       "{1: 'a', 2: 'b', 3: 'c'}"
      ]
     },
     "execution_count": 36,
     "metadata": {},
     "output_type": "execute_result"
    }
   ],
   "source": [
    "\"\"\"\n",
    "Given a Hash made up of keys and values, invert the hash by swapping them.\n",
    "\"\"\"\n",
    "\n",
    "a =  { 'a' : 1,\n",
    "    'b' : 2,\n",
    "    'c' : 3 }\n",
    "\n",
    "def invert_hash(dictionary):\n",
    "# The first step is to extract keys and values from the given input dictionary:\n",
    "    dict_keys = list(dictionary.keys()) # All dictionary keys are obtained as a list\n",
    "    dict_values = list(dictionary.values()) # All dictionary values are obtained as a list\n",
    "    zip_list = list(zip(dict_values, dict_keys)) # Let's merge these two lists in a reverse order\n",
    "    return dict(zip_list) # Finally, the new dictionary with reversed 'key-value' pairs is returned\n",
    "invert_hash(a)"
   ]
  }
 ],
 "metadata": {
  "kernelspec": {
   "display_name": "Python 3 (ipykernel)",
   "language": "python",
   "name": "python3"
  },
  "language_info": {
   "codemirror_mode": {
    "name": "ipython",
    "version": 3
   },
   "file_extension": ".py",
   "mimetype": "text/x-python",
   "name": "python",
   "nbconvert_exporter": "python",
   "pygments_lexer": "ipython3",
   "version": "3.9.7"
  }
 },
 "nbformat": 4,
 "nbformat_minor": 5
}
