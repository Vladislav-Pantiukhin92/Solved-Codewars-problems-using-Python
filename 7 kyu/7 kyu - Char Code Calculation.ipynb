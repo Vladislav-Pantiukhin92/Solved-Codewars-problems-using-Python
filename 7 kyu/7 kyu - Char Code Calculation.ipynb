{
 "cells": [
  {
   "cell_type": "markdown",
   "id": "1dca9537",
   "metadata": {},
   "source": [
    "### Char Code Calculation - 7 kyu, Codewars/Python"
   ]
  },
  {
   "cell_type": "code",
   "execution_count": 47,
   "id": "39208224",
   "metadata": {},
   "outputs": [
    {
     "data": {
      "text/plain": [
       "6"
      ]
     },
     "execution_count": 47,
     "metadata": {},
     "output_type": "execute_result"
    }
   ],
   "source": [
    "\"\"\"\n",
    "Given a string, turn each character into its ASCII character code and join them together to create \n",
    "a number - let's call this number total1:\n",
    "'ABC' --> 'A' = 65, 'B' = 66, 'C' = 67 --> 656667\n",
    "Then replace any incidence of the number 7 with the number 1, and call this number 'total2':\n",
    "\n",
    "total1 = 656667\n",
    "              ^\n",
    "total2 = 656661\n",
    "              ^\n",
    "Then return the difference between the sum of the digits in total1 and total2:\n",
    "\n",
    "  (6 + 5 + 6 + 6 + 6 + 7)\n",
    "- (6 + 5 + 6 + 6 + 6 + 1)\n",
    "-------------------------\n",
    "                       6\n",
    "\"\"\"\n",
    "\n",
    "from operator import * # The subtraction internal operation is to be used ('operator.sub')\n",
    "\n",
    "def calc(x):\n",
    "# The first step is to obtain the ascii code of letters:\n",
    "    ascii_list = list(map(lambda x: ord(x), list(x)))\n",
    "    total1 = \"\".join(list(map(str, ascii_list))) # The string with the ascii code of letters\n",
    "# The second step is to replace \"7\" with \"1\" through the string method 'str.maketrans()':\n",
    "    total2 = total1.translate(str.maketrans(\"7\", \"1\"))\n",
    "# The third step is to find the sum of digits:\n",
    "    sum_digits1 = sum(list(map(int, list(total1))))\n",
    "    sum_digits2 = sum(list(map(int, list(total2))))\n",
    "# Finally, we return the subtraction result:\n",
    "    return sub(sum_digits1, sum_digits2)\n",
    "\n",
    "calc(\"ABC\")"
   ]
  }
 ],
 "metadata": {
  "kernelspec": {
   "display_name": "Python 3 (ipykernel)",
   "language": "python",
   "name": "python3"
  },
  "language_info": {
   "codemirror_mode": {
    "name": "ipython",
    "version": 3
   },
   "file_extension": ".py",
   "mimetype": "text/x-python",
   "name": "python",
   "nbconvert_exporter": "python",
   "pygments_lexer": "ipython3",
   "version": "3.9.7"
  }
 },
 "nbformat": 4,
 "nbformat_minor": 5
}
