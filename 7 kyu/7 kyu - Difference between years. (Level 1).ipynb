{
 "cells": [
  {
   "cell_type": "markdown",
   "id": "dcbae4b3",
   "metadata": {},
   "source": [
    "### Difference between years. (Level 1) - 7 kyu, Codewars/Python"
   ]
  },
  {
   "cell_type": "code",
   "execution_count": 32,
   "id": "56ba15c7",
   "metadata": {},
   "outputs": [
    {
     "data": {
      "text/plain": [
       "18"
      ]
     },
     "execution_count": 32,
     "metadata": {},
     "output_type": "execute_result"
    }
   ],
   "source": [
    "\"\"\"\n",
    "Write a function that receives two strings as parameter. This strings are in the following format of \n",
    "date: YYYY/MM/DD. Your job is: Take the years and calculate the difference between them.\n",
    "Examples:\n",
    "'1997/10/10' and '2015/10/10' -> 2015 - 1997 = returns 18 \n",
    "'2015/10/10' and '1997/10/10' -> 2015 - 1997 = returns 18\n",
    "At this level, you don't need validate months and days to calculate the difference.\n",
    "\"\"\"\n",
    "\n",
    "from itertools import islice # 'itertools.islice' will extract the specific slice of elements\n",
    "\n",
    "def how_many_years (date1, date2):\n",
    "    year1 = int(\"\".join(list(islice(date1, 4)))) # The year segment is extracted\n",
    "    year2 = int(\"\".join(list(islice(date2, 4)))) # The year segment is extracted\n",
    "    return abs(year1 - year2) # The absolute value of the subtraction result is returned\n",
    "\n",
    "how_many_years ('1997/10/10','2015/10/10')"
   ]
  }
 ],
 "metadata": {
  "kernelspec": {
   "display_name": "Python 3 (ipykernel)",
   "language": "python",
   "name": "python3"
  },
  "language_info": {
   "codemirror_mode": {
    "name": "ipython",
    "version": 3
   },
   "file_extension": ".py",
   "mimetype": "text/x-python",
   "name": "python",
   "nbconvert_exporter": "python",
   "pygments_lexer": "ipython3",
   "version": "3.9.7"
  }
 },
 "nbformat": 4,
 "nbformat_minor": 5
}
