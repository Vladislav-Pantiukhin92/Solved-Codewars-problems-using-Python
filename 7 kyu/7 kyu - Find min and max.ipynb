{
 "cells": [
  {
   "cell_type": "markdown",
   "id": "939a954d",
   "metadata": {},
   "source": [
    "### Find min and max - 7 kyu, Codewars/Python"
   ]
  },
  {
   "cell_type": "code",
   "execution_count": 62,
   "id": "77b9df04",
   "metadata": {},
   "outputs": [
    {
     "data": {
      "text/plain": [
       "(1, 2)"
      ]
     },
     "execution_count": 62,
     "metadata": {},
     "output_type": "execute_result"
    }
   ],
   "source": [
    "\"\"\"\n",
    "Implement a function that returns the minimal and the maximal value of a list (in this order).\n",
    "\"\"\"\n",
    "\n",
    "def get_min_max(seq):\n",
    "    if len(seq) == 1: # If the length of the given input sequence is 1, we return the doubled amount of this \n",
    "        # element as a tuple\n",
    "        return (seq[0], seq[0])\n",
    "# Otherwise, we need to create the maxHeap and minHeap to return the maxElement and minElement respectively\n",
    "    def maxHeapify(array, n, i): # The function, aimed at creating the maxHeap\n",
    "    # The maxHeap is the structure, where parent nodes are always larger than their child nodes\n",
    "        index = i\n",
    "        left = index * 2 + 1 # The left child node index\n",
    "        right = index * 2 + 2 # The right child node index\n",
    "        largest = index \n",
    "        if left < n and array[largest] < array[left]:\n",
    "            largest = left \n",
    "        if right < n and array[largest] < array[right]:\n",
    "            largest = right\n",
    "        if largest != index:\n",
    "        # Elements are swapped, if necessary (when parent nodes < child nodes)\n",
    "            array[index], array[largest] = array[largest], array[index]\n",
    "            maxHeapify(array, n, largest)\n",
    "    def minHeapify(array, n, i): # The function, aimed at creating the minHeap\n",
    "    # The minHeap is the structure, where parent nodes are always smaller than their child nodes\n",
    "        index = i\n",
    "        left = index * 2 + 1 # The left child node index\n",
    "        right = index * 2 + 2 # The right child node index\n",
    "        smallest = index \n",
    "        if left < n and array[smallest] > array[left]:\n",
    "            smallest = left \n",
    "        if right < n and array[smallest] > array[right]:\n",
    "            smallest = right\n",
    "        if smallest != index:\n",
    "        # Elements are swapped, if necessary (when parent nodes > child nodes)\n",
    "            array[index], array[smallest] = array[smallest], array[index]\n",
    "            minHeapify(array, n, smallest)\n",
    "    for i in range(len(seq) - 1, -1, -1): # The maxHeap is obtained\n",
    "        maxHeapify(seq, len(seq), i)\n",
    "    maxElem = seq.pop(0) # The maxElement is popped from the maxHeap\n",
    "    for j in range(len(seq) - 1, -1, -1): # The minHeap is obtained\n",
    "        minHeapify(seq, len(seq), j)\n",
    "    minElem = seq.pop(0) # The minElement is popped from the minHeap\n",
    "    return (minElem, maxElem) # The minElement and the maxElement are returned within the tuple\n",
    "\n",
    "get_min_max([1,2])"
   ]
  }
 ],
 "metadata": {
  "kernelspec": {
   "display_name": "Python 3 (ipykernel)",
   "language": "python",
   "name": "python3"
  },
  "language_info": {
   "codemirror_mode": {
    "name": "ipython",
    "version": 3
   },
   "file_extension": ".py",
   "mimetype": "text/x-python",
   "name": "python",
   "nbconvert_exporter": "python",
   "pygments_lexer": "ipython3",
   "version": "3.9.7"
  }
 },
 "nbformat": 4,
 "nbformat_minor": 5
}
