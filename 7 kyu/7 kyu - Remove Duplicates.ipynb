{
 "cells": [
  {
   "cell_type": "markdown",
   "id": "e018e374",
   "metadata": {},
   "source": [
    "### Remove Duplicates - 7 kyu, Codewars/Python"
   ]
  },
  {
   "cell_type": "code",
   "execution_count": 5,
   "id": "bd03bdfe",
   "metadata": {},
   "outputs": [
    {
     "data": {
      "text/plain": [
       "[1, 5, 2, 0, -3, 10]"
      ]
     },
     "execution_count": 5,
     "metadata": {},
     "output_type": "execute_result"
    }
   ],
   "source": [
    "\"\"\"\n",
    "You are to write a function called unique that takes an array of integers and returns the array with \n",
    "duplicates removed. It must return the values in the same order as first seen in the given array. \n",
    "Thus no sorting should be done, if 52 appears before 10 in the given array then it should also be that \n",
    "52 appears before 10 in the returned array.\n",
    "\n",
    "Assumptions\n",
    "All values given are integers (they can be positive or negative).\n",
    "You are given an array but it may be empty.\n",
    "They array may have duplicates or it may not.\n",
    "Example\n",
    "print unique([1, 5, 2, 0, 2, -3, 1, 10])\n",
    "[1, 5, 2, 0, -3, 10]\n",
    "\n",
    "print unique([])\n",
    "[]\n",
    "\n",
    "print unique([5, 2, 1, 3])\n",
    "[5, 2, 1, 3]\n",
    "\"\"\"\n",
    "\n",
    "def unique(integers):\n",
    "    final = [] # It is the list container, which will store the first occurrence of elements\n",
    "    occurrence_dict = {} # It is the dictionary, which will monitor the occurrence of elements\n",
    "    for i in integers:\n",
    "        if i not in occurrence_dict: # If an element is not within the dictionary - we append it to the rear \n",
    "            # of the list container. Simultaneously, we are going to add the element to the dictionary\n",
    "            occurrence_dict[i] = 1\n",
    "            final.append(i)\n",
    "    return final # The list with the first occurrences of elements is returned\n",
    "\n",
    "unique([1,5,2,0,2,-3,1,10])"
   ]
  }
 ],
 "metadata": {
  "kernelspec": {
   "display_name": "Python 3 (ipykernel)",
   "language": "python",
   "name": "python3"
  },
  "language_info": {
   "codemirror_mode": {
    "name": "ipython",
    "version": 3
   },
   "file_extension": ".py",
   "mimetype": "text/x-python",
   "name": "python",
   "nbconvert_exporter": "python",
   "pygments_lexer": "ipython3",
   "version": "3.9.7"
  }
 },
 "nbformat": 4,
 "nbformat_minor": 5
}
