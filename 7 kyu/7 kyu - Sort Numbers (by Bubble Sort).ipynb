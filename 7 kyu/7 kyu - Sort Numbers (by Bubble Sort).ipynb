{
 "cells": [
  {
   "cell_type": "markdown",
   "id": "4de92cff",
   "metadata": {},
   "source": [
    "### Sort Numbers (by Bubble Sort) - 7 kyu, Codewars/Python. "
   ]
  },
  {
   "cell_type": "code",
   "execution_count": 12,
   "id": "01a50df5",
   "metadata": {},
   "outputs": [
    {
     "data": {
      "text/plain": [
       "[1, 2, 3, 5, 10]"
      ]
     },
     "execution_count": 12,
     "metadata": {},
     "output_type": "execute_result"
    }
   ],
   "source": [
    "\"\"\"\n",
    "Finish the solution so that it sorts the passed in array of numbers. \n",
    "If the function passes in an empty array or null/nil value then it should return an empty array.\n",
    "\n",
    "For example:\n",
    "\n",
    "solution([1,2,3,10,5]) # should return [1,2,3,5,10]\n",
    "solution(None) # should return []\n",
    "\"\"\"\n",
    "\n",
    "# Implementation of the Bubble Sort algorithm\n",
    "\n",
    "def solution(nums):\n",
    "    if not nums:\n",
    "        return []\n",
    "    # Execution of the swapping procedure, when bigger values are moving towards the end of the array\n",
    "    for i in range(len(nums)):\n",
    "        for j in range(len(nums) - i - 1):\n",
    "            if nums[j] > nums[j + 1]:\n",
    "                temp = nums[j]\n",
    "                nums[j] = nums[j + 1]\n",
    "                nums[j + 1] = temp\n",
    "    return nums\n",
    "\n",
    "solution([1,2,3,10,5])"
   ]
  }
 ],
 "metadata": {
  "kernelspec": {
   "display_name": "Python 3 (ipykernel)",
   "language": "python",
   "name": "python3"
  },
  "language_info": {
   "codemirror_mode": {
    "name": "ipython",
    "version": 3
   },
   "file_extension": ".py",
   "mimetype": "text/x-python",
   "name": "python",
   "nbconvert_exporter": "python",
   "pygments_lexer": "ipython3",
   "version": "3.9.7"
  }
 },
 "nbformat": 4,
 "nbformat_minor": 5
}
