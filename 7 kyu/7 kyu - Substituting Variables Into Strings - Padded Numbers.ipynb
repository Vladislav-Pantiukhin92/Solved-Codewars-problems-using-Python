{
 "cells": [
  {
   "cell_type": "markdown",
   "id": "e66a33af",
   "metadata": {},
   "source": [
    "### Substituting Variables Into Strings: Padded Numbers - 7 kyu, Codewars/Python"
   ]
  },
  {
   "cell_type": "code",
   "execution_count": 45,
   "id": "5d54e6fc",
   "metadata": {},
   "outputs": [
    {
     "data": {
      "text/plain": [
       "'Value is 00005'"
      ]
     },
     "execution_count": 45,
     "metadata": {},
     "output_type": "execute_result"
    }
   ],
   "source": [
    "\"\"\"\n",
    "Complete the solution so that it returns a formatted string. The return value should equal \n",
    "\"Value is VALUE\" where value is a 5 digit padded number.\n",
    "Example:\n",
    "solution(5)  # should return \"Value is 00005\"\n",
    "\"\"\"\n",
    "\n",
    "def solution(value):\n",
    "# To return the valid output string it is feasible to utilize the string method 'str.zfill()' to append \n",
    "# the specific amount of zeros to the front of the string:\n",
    "    return f\"Value is {str(value).zfill(5)}\"\n",
    "\n",
    "solution(5)"
   ]
  }
 ],
 "metadata": {
  "kernelspec": {
   "display_name": "Python 3 (ipykernel)",
   "language": "python",
   "name": "python3"
  },
  "language_info": {
   "codemirror_mode": {
    "name": "ipython",
    "version": 3
   },
   "file_extension": ".py",
   "mimetype": "text/x-python",
   "name": "python",
   "nbconvert_exporter": "python",
   "pygments_lexer": "ipython3",
   "version": "3.9.7"
  }
 },
 "nbformat": 4,
 "nbformat_minor": 5
}
