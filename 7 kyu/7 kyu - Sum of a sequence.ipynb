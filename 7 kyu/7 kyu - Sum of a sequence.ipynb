{
 "cells": [
  {
   "cell_type": "markdown",
   "id": "b87fc30a",
   "metadata": {},
   "source": [
    "### Sum of a sequence - 7 kyu, Codewars/Python"
   ]
  },
  {
   "cell_type": "code",
   "execution_count": 61,
   "id": "7ca9f57f",
   "metadata": {},
   "outputs": [
    {
     "data": {
      "text/plain": [
       "12"
      ]
     },
     "execution_count": 61,
     "metadata": {},
     "output_type": "execute_result"
    }
   ],
   "source": [
    "\"\"\"\n",
    "Your task is to make function, which returns the sum of a sequence of integers.\n",
    "The sequence is defined by 3 non-negative values: begin, end, step (inclusive).\n",
    "If begin value is greater than the end, function should returns 0\n",
    "\n",
    "Examples\n",
    "\n",
    "2,2,2 --> 2\n",
    "2,6,2 --> 12 (2 + 4 + 6)\n",
    "1,5,1 --> 15 (1 + 2 + 3 + 4 + 5)\n",
    "1,5,3  --> 5 (1 + 4)\n",
    "\"\"\"\n",
    "\n",
    "from functools import reduce # 'functools.reduce' is aimed at summarizing elements of the list\n",
    "\n",
    "\n",
    "def sequence_sum(begin_number, end_number, step):\n",
    "    if begin_number > end_number: # This condition doesn't make sense, so we have to return 0\n",
    "        return 0\n",
    "    elif begin_number == end_number == step: # It is impossible to generate the list, if all arguments are the same\n",
    "        # so we return the initial number\n",
    "        return begin_number\n",
    "    else:\n",
    "        # The range list is generated\n",
    "        range_list = list(range(begin_number, end_number + 1, step))\n",
    "        # After that all elements of the generated array is summarized\n",
    "        final = reduce(lambda x, y: x + y, range_list)\n",
    "        return final # The sum is returned\n",
    "    \n",
    "sequence_sum(2,6,2)"
   ]
  }
 ],
 "metadata": {
  "kernelspec": {
   "display_name": "Python 3 (ipykernel)",
   "language": "python",
   "name": "python3"
  },
  "language_info": {
   "codemirror_mode": {
    "name": "ipython",
    "version": 3
   },
   "file_extension": ".py",
   "mimetype": "text/x-python",
   "name": "python",
   "nbconvert_exporter": "python",
   "pygments_lexer": "ipython3",
   "version": "3.9.7"
  }
 },
 "nbformat": 4,
 "nbformat_minor": 5
}
