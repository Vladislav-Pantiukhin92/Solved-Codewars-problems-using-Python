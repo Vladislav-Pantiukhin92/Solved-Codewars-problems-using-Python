{
 "cells": [
  {
   "cell_type": "markdown",
   "id": "f5341112",
   "metadata": {},
   "source": [
    "### Thinkful - List Drills: Longest word - 7 kyu, Codewars/Python"
   ]
  },
  {
   "cell_type": "code",
   "execution_count": 1,
   "id": "28e14a7b",
   "metadata": {},
   "outputs": [
    {
     "data": {
      "text/plain": [
       "'special'"
      ]
     },
     "execution_count": 1,
     "metadata": {},
     "output_type": "execute_result"
    }
   ],
   "source": [
    "\"\"\"\n",
    "Complete the function that takes one argument, a list of words, and returns the length of the longest word in the list.\n",
    "\n",
    "For example:\n",
    "\n",
    "['simple', 'is', 'better', 'than', 'complex'] ==> 7\n",
    "Do not modify the input list.\n",
    "\"\"\"\n",
    "# We are going to use recursion to find out the longest word in the list\n",
    "\n",
    "def longest(words, longest_=None):\n",
    "    if len(words) < 1:\n",
    "        return longest_\n",
    "    else:\n",
    "        if longest_ is None or len(longest_) < len(words[-1]):\n",
    "            longest_ = words.pop()\n",
    "        else:\n",
    "            words.pop()\n",
    "        return longest(words, longest_)\n",
    "\n",
    "longest(['be', 'special', 'the', 'better'])\n"
   ]
  }
 ],
 "metadata": {
  "kernelspec": {
   "display_name": "Python 3",
   "language": "python",
   "name": "python3"
  },
  "language_info": {
   "codemirror_mode": {
    "name": "ipython",
    "version": 3
   },
   "file_extension": ".py",
   "mimetype": "text/x-python",
   "name": "python",
   "nbconvert_exporter": "python",
   "pygments_lexer": "ipython3",
   "version": "3.8.8"
  }
 },
 "nbformat": 4,
 "nbformat_minor": 5
}
