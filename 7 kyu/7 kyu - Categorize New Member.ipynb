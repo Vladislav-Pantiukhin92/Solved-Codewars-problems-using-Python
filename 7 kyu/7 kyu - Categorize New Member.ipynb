{
 "cells": [
  {
   "cell_type": "markdown",
   "id": "d64513ce",
   "metadata": {},
   "source": [
    "### Categorize New Member - 7 kyu, Codewars/Python"
   ]
  },
  {
   "cell_type": "code",
   "execution_count": 24,
   "id": "d52fd918",
   "metadata": {},
   "outputs": [
    {
     "data": {
      "text/plain": [
       "['Open', 'Open', 'Senior', 'Open', 'Open', 'Senior']"
      ]
     },
     "execution_count": 24,
     "metadata": {},
     "output_type": "execute_result"
    }
   ],
   "source": [
    "\"\"\"\n",
    "The Western Suburbs Croquet Club has two categories of membership, Senior and Open. They would like your \n",
    "help with an application form that will tell prospective members which category they will be placed.\n",
    "To be a senior, a member must be at least 55 years old and have a handicap greater than 7. In this \n",
    "croquet club, handicaps range from -2 to +26; the better the player the lower the handicap.\n",
    "\n",
    "Input\n",
    "Input will consist of a list of pairs. Each pair contains information for a single potential member. \n",
    "Information consists of an integer for the person's age and an integer for the person's handicap.\n",
    "Output\n",
    "Output will consist of a list of string values (in Haskell and C: Open or Senior) stating whether the \n",
    "respective member is to be placed in the senior or open category.\n",
    "\n",
    "Example\n",
    "input =  [[18, 20], [45, 2], [61, 12], [37, 6], [21, 21], [78, 9]]\n",
    "output = [\"Open\", \"Open\", \"Senior\", \"Open\", \"Open\", \"Senior\"]\n",
    "\"\"\"\n",
    "\n",
    "def open_or_senior(data):\n",
    "    final = [] # The list container, which will store the specific category - \"Senior\" or \"Open\"\n",
    "    for i, j in data:\n",
    "        if i >= 55 and j > 7: # The condition is determined\n",
    "            final.append(\"Senior\")\n",
    "        else:\n",
    "            final.append(\"Open\")\n",
    "    return final # The final list with identified categories is returned\n",
    "\n",
    "open_or_senior([[18, 20], [45, 2], [61, 12], [37, 6], [21, 21], [78, 9]])"
   ]
  }
 ],
 "metadata": {
  "kernelspec": {
   "display_name": "Python 3 (ipykernel)",
   "language": "python",
   "name": "python3"
  },
  "language_info": {
   "codemirror_mode": {
    "name": "ipython",
    "version": 3
   },
   "file_extension": ".py",
   "mimetype": "text/x-python",
   "name": "python",
   "nbconvert_exporter": "python",
   "pygments_lexer": "ipython3",
   "version": "3.9.7"
  }
 },
 "nbformat": 4,
 "nbformat_minor": 5
}
