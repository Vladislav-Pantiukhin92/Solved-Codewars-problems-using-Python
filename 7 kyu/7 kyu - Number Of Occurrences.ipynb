{
 "cells": [
  {
   "cell_type": "markdown",
   "id": "30137124",
   "metadata": {},
   "source": [
    "### Number Of Occurrences - 7 kyu, Codewars/Python"
   ]
  },
  {
   "cell_type": "code",
   "execution_count": 43,
   "id": "0f683164",
   "metadata": {},
   "outputs": [
    {
     "data": {
      "text/plain": [
       "2"
      ]
     },
     "execution_count": 43,
     "metadata": {},
     "output_type": "execute_result"
    }
   ],
   "source": [
    "\"\"\"\n",
    "Write a function that returns the number of occurrences of an element in an array.\n",
    "Examples:\n",
    "sample = [0, 1, 2, 2, 3]\n",
    "number_of_occurrences(0, sample) == 1\n",
    "number_of_occurrences(4, sample) == 0\n",
    "number_of_occurrences(2, sample) == 2\n",
    "number_of_occurrences(3, sample) == 1\n",
    "\"\"\"\n",
    "\n",
    "from collections import Counter # 'collections.Counter' will count the occurrence of elements from the given \n",
    "# input list\n",
    "\n",
    "def number_of_occurrences(element, sample):\n",
    "    occurrence_dict = dict(Counter(sample)) # The dictionary with occurrences is created\n",
    "# Through the implementation of the 'try-except' expression - we either return the specific occurrence of \n",
    "# the given input element or 0 (if the 'KeyError' exception occurred)\n",
    "    try:\n",
    "        return occurrence_dict[element]\n",
    "    except KeyError:\n",
    "        return 0\n",
    "    \n",
    "number_of_occurrences(2, [0, 1, 2, 2, 3])"
   ]
  }
 ],
 "metadata": {
  "kernelspec": {
   "display_name": "Python 3 (ipykernel)",
   "language": "python",
   "name": "python3"
  },
  "language_info": {
   "codemirror_mode": {
    "name": "ipython",
    "version": 3
   },
   "file_extension": ".py",
   "mimetype": "text/x-python",
   "name": "python",
   "nbconvert_exporter": "python",
   "pygments_lexer": "ipython3",
   "version": "3.9.7"
  }
 },
 "nbformat": 4,
 "nbformat_minor": 5
}
