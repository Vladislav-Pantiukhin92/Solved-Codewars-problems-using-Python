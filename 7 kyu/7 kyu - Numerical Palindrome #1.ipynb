{
 "cells": [
  {
   "cell_type": "markdown",
   "id": "00f22a8f",
   "metadata": {},
   "source": [
    "### Numerical Palindrome #1 - 7 kyu, Codewars/Python"
   ]
  },
  {
   "cell_type": "code",
   "execution_count": 1,
   "id": "5ab6e246",
   "metadata": {},
   "outputs": [
    {
     "data": {
      "text/plain": [
       "True"
      ]
     },
     "execution_count": 1,
     "metadata": {},
     "output_type": "execute_result"
    }
   ],
   "source": [
    "\"\"\"\n",
    "A palindrome is a word, phrase, number, or other sequence of characters which reads the same backward as forward. Examples of numerical palindromes are:\n",
    "\n",
    "- 2332\n",
    "- 110011\n",
    "- 54322345\n",
    "\n",
    "For a given number num, write a function to test if it's a numerical palindrome or not and return a boolean (true if it is and false if not).\n",
    "Return \"Not valid\" if the input is not an integer or less than 0.\n",
    "\n",
    "\"\"\"\n",
    "\n",
    "def palindrome(num):\n",
    "    if not isinstance(num, int):\n",
    "        return \"Not valid\"\n",
    "    elif num < 0:\n",
    "        return \"Not valid\"\n",
    "    else:\n",
    "        num = str(num)\n",
    "        if num == num[::-1]:\n",
    "            return True\n",
    "        return False\n",
    "\n",
    "palindrome(54322345)"
   ]
  }
 ],
 "metadata": {
  "kernelspec": {
   "display_name": "Python 3",
   "language": "python",
   "name": "python3"
  },
  "language_info": {
   "codemirror_mode": {
    "name": "ipython",
    "version": 3
   },
   "file_extension": ".py",
   "mimetype": "text/x-python",
   "name": "python",
   "nbconvert_exporter": "python",
   "pygments_lexer": "ipython3",
   "version": "3.8.8"
  }
 },
 "nbformat": 4,
 "nbformat_minor": 5
}
