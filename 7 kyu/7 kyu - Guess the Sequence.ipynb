{
 "cells": [
  {
   "cell_type": "markdown",
   "id": "23e1593f",
   "metadata": {},
   "source": [
    "### Guess the Sequence - 7 kyu, Codewars/Python"
   ]
  },
  {
   "cell_type": "code",
   "execution_count": 156,
   "id": "164189ed",
   "metadata": {},
   "outputs": [
    {
     "data": {
      "text/plain": [
       "[1, 10, 11, 12, 13, 14, 15, 16, 2, 3, 4, 5, 6, 7, 8, 9]"
      ]
     },
     "execution_count": 156,
     "metadata": {},
     "output_type": "execute_result"
    }
   ],
   "source": [
    "\"\"\"\n",
    "You have read the title: you must guess a sequence. It will have something to do with the number given.\n",
    "Example\n",
    "x = 16\n",
    "\n",
    "result = [1, 10, 11, 12, 13, 14, 15, 16, 2, 3, 4, 5, 6, 7, 8, 9]\n",
    "\"\"\"\n",
    "\n",
    "# The major point is to understand the logic behind the sequence order\n",
    "# All digits are combined with their decimal manifestation (1 -10, 2 - 20, 3-30, etc.)\n",
    "\n",
    "def sequence(x):\n",
    "    if x // 10 < 1:\n",
    "        return list(range(1, x + 1)) # If there are numbers < 10, it is the simplest case\n",
    "    index = 0\n",
    "    tens = list(range(1, x // 10 + 1)) # We can calculate the number of tens to use them to make new sequences\n",
    "    final = []\n",
    "    while index < len(tens) - 1:\n",
    "        final += [tens[index]] + list(range(tens[index] * 10, tens[index] * 10 + 10))\n",
    "        index += 1\n",
    "    return final + [x // 10] + list(range(x // 10 * 10, x + 1)) + list(range(x // 10 + 1, 10))\n",
    "\n",
    "sequence(16)"
   ]
  }
 ],
 "metadata": {
  "kernelspec": {
   "display_name": "Python 3 (ipykernel)",
   "language": "python",
   "name": "python3"
  },
  "language_info": {
   "codemirror_mode": {
    "name": "ipython",
    "version": 3
   },
   "file_extension": ".py",
   "mimetype": "text/x-python",
   "name": "python",
   "nbconvert_exporter": "python",
   "pygments_lexer": "ipython3",
   "version": "3.9.7"
  }
 },
 "nbformat": 4,
 "nbformat_minor": 5
}
