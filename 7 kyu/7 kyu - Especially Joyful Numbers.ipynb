{
 "cells": [
  {
   "cell_type": "markdown",
   "id": "c5f795ed",
   "metadata": {},
   "source": [
    "### Especially Joyful Numbers - 7 kyu, Codewars/Python"
   ]
  },
  {
   "cell_type": "code",
   "execution_count": 1,
   "id": "1067aa94",
   "metadata": {},
   "outputs": [
    {
     "data": {
      "text/plain": [
       "True"
      ]
     },
     "execution_count": 1,
     "metadata": {},
     "output_type": "execute_result"
    }
   ],
   "source": [
    "\"\"\"\n",
    "Positive integers that are divisible exactly by the sum of their digits are called Harshad numbers. \n",
    "The first few Harshad numbers are: 1, 2, 3, 4, 5, 6, 7, 8, 9, 10, 12, 18, ...\n",
    "We are interested in Harshad numbers where the product of its digit sum s and s with the digits reversed, \n",
    "gives the original number n. For example consider number 1729:\n",
    "\n",
    "its digit sum, s = 1 + 7 + 2 + 9 = 19\n",
    "reversing s = 91\n",
    "and 19 * 91 = 1729 --> the number that we started with.\n",
    "Complete the function which tests if a positive integer n is Harshad number, and returns \n",
    "True if the product of its digit sum and its digit sum reversed equals n; otherwise return False.\n",
    "\"\"\"\n",
    "\n",
    "from operator import * # 'operator.eq' (will be used to compare numbers) and 'operator.add' (will be used for the \n",
    "# summation operation)\n",
    "\n",
    "def number_joy(n):\n",
    "    # All the digits are split into the list with elements, and their sum is obtained\n",
    "    digits = sum(list(map(int, list(str(n)))))\n",
    "    reversed = int(str(digits)[::-1]) # The reversed sum is obtained\n",
    "    return eq(n, mul(digits, reversed)) # The comparison process\n",
    "\n",
    "number_joy(1729)"
   ]
  }
 ],
 "metadata": {
  "kernelspec": {
   "display_name": "Python 3 (ipykernel)",
   "language": "python",
   "name": "python3"
  },
  "language_info": {
   "codemirror_mode": {
    "name": "ipython",
    "version": 3
   },
   "file_extension": ".py",
   "mimetype": "text/x-python",
   "name": "python",
   "nbconvert_exporter": "python",
   "pygments_lexer": "ipython3",
   "version": "3.9.7"
  }
 },
 "nbformat": 4,
 "nbformat_minor": 5
}
