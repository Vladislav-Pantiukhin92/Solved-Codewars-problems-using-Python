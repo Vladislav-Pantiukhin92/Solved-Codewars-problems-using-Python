{
 "cells": [
  {
   "cell_type": "markdown",
   "id": "dd5ef482",
   "metadata": {},
   "source": [
    "### Help Suzuki rake his garden! - 7 kyu, Codewars/Python"
   ]
  },
  {
   "cell_type": "code",
   "execution_count": 18,
   "id": "d7e4d01e",
   "metadata": {},
   "outputs": [
    {
     "data": {
      "text/plain": [
       "'gravel gravel rock gravel gravel gravel gravel gravel gravel gravel'"
      ]
     },
     "execution_count": 18,
     "metadata": {},
     "output_type": "execute_result"
    }
   ],
   "source": [
    "\"\"\"\n",
    "Help Suzuki rake his garden!\n",
    "\n",
    "The monastery has a magnificent Zen garden made of white gravel and rocks and it is raked diligently \n",
    "everyday by the monks. Suzuki having a keen eye is always on the lookout for anything creeping into the \n",
    "garden that must be removed during the daily raking such as insects or moss.\n",
    "You will be given a string representing the garden such as:\n",
    "\n",
    "garden = 'gravel gravel gravel gravel gravel gravel gravel gravel gravel rock slug ant gravel gravel \n",
    "snail rock gravel gravel gravel gravel gravel gravel gravel slug gravel ant gravel gravel gravel gravel \n",
    "rock slug gravel gravel gravel gravel gravel snail gravel gravel rock gravel snail slug gravel gravel \n",
    "spider gravel gravel gravel gravel gravel gravel gravel gravel moss gravel gravel gravel snail gravel \n",
    "gravel gravel ant gravel gravel moss gravel gravel gravel gravel snail gravel gravel gravel gravel \n",
    "slug gravel rock gravel gravel rock gravel gravel gravel gravel snail gravel gravel rock gravel gravel \n",
    "gravel gravel gravel spider gravel rock gravel gravel'\n",
    "Rake out any items that are not a rock or gravel and replace them with gravel such that:\n",
    "\n",
    "garden = 'slug spider rock gravel gravel gravel gravel gravel gravel gravel'\n",
    "Returns a string with all items except a rock or gravel replaced with gravel:\n",
    "\n",
    "garden = 'gravel gravel rock gravel gravel gravel gravel gravel gravel gr\n",
    "\"\"\"\n",
    "\n",
    "# To solve such kind of problem we are going to use the stack structure\n",
    "\n",
    "from queue import LifoQueue # The special Python module for stack structures\n",
    "from collections import deque # A double-ended queue\n",
    "\n",
    "def rake_garden(garden):\n",
    "    cleaned = LifoQueue() # The stack structure is initialized\n",
    "    goodItems = [\"gravel\", \"rock\"] # Items that are good for the garden\n",
    "    garden = deque(garden.split()) # The garden items should be transformed into the list of items\n",
    "    while garden:\n",
    "# We are going to take items from the garden and verify their good or bad nature, and, if necessary, we will\n",
    "# replace insects or moss with the word \"gravel\" and put it inside the initialized stack structure\n",
    "        curItem = garden.popleft()\n",
    "        if curItem not in goodItems:\n",
    "            cleaned.put(\"gravel\")\n",
    "        else:\n",
    "            cleaned.put(curItem)\n",
    "    final = cleaned.queue\n",
    "    return \" \".join(final) # The cleaned list with exclusively good items is returned as a string\n",
    "\n",
    "rake_garden(\"slug spider rock gravel gravel gravel gravel gravel gravel gravel\")"
   ]
  }
 ],
 "metadata": {
  "kernelspec": {
   "display_name": "Python 3 (ipykernel)",
   "language": "python",
   "name": "python3"
  },
  "language_info": {
   "codemirror_mode": {
    "name": "ipython",
    "version": 3
   },
   "file_extension": ".py",
   "mimetype": "text/x-python",
   "name": "python",
   "nbconvert_exporter": "python",
   "pygments_lexer": "ipython3",
   "version": "3.9.7"
  }
 },
 "nbformat": 4,
 "nbformat_minor": 5
}
