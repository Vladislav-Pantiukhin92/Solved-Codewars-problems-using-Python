{
 "cells": [
  {
   "cell_type": "markdown",
   "id": "c0a4e511",
   "metadata": {},
   "source": [
    "### Make a function that does arithmetic! - 7 kyu, Codewars/Python"
   ]
  },
  {
   "cell_type": "code",
   "execution_count": 5,
   "id": "e4e82abc",
   "metadata": {},
   "outputs": [
    {
     "data": {
      "text/plain": [
       "7"
      ]
     },
     "execution_count": 5,
     "metadata": {},
     "output_type": "execute_result"
    }
   ],
   "source": [
    "\"\"\"\n",
    "Given two numbers and an arithmetic operator (the name of it, as a string), return the result of the two \n",
    "numbers having that operator used on them.\n",
    "a and b will both be positive integers, and a will always be the first number in the operation, and \n",
    "b always the second.\n",
    "The four operators are \"add\", \"subtract\", \"divide\", \"multiply\".\n",
    "A few examples:(Input1, Input2, Input3 --> Output)\n",
    "\n",
    "5, 2, \"add\"      --> 7\n",
    "5, 2, \"subtract\" --> 3\n",
    "5, 2, \"multiply\" --> 10\n",
    "5, 2, \"divide\"   --> 2.5\n",
    "Try to do it without using if statements!\n",
    "\"\"\"\n",
    "\n",
    "from operator import * # To solve the problem let's utilize the operator module, which will emulate the work \n",
    "# of Python internal operators:\n",
    "\n",
    "def arithmetic(a, b, operator):\n",
    "    if operator == \"add\": # The summation operation\n",
    "        return add(a, b)\n",
    "    elif operator == \"subtract\": # The subtraction operation\n",
    "        return sub(a, b)\n",
    "    elif operator == \"divide\": # The division operation\n",
    "        return truediv(a, b)\n",
    "    return mul(a, b) # The multiplication operation\n",
    "\n",
    "arithmetic(5, 2, \"add\")"
   ]
  }
 ],
 "metadata": {
  "kernelspec": {
   "display_name": "Python 3 (ipykernel)",
   "language": "python",
   "name": "python3"
  },
  "language_info": {
   "codemirror_mode": {
    "name": "ipython",
    "version": 3
   },
   "file_extension": ".py",
   "mimetype": "text/x-python",
   "name": "python",
   "nbconvert_exporter": "python",
   "pygments_lexer": "ipython3",
   "version": "3.9.7"
  }
 },
 "nbformat": 4,
 "nbformat_minor": 5
}
