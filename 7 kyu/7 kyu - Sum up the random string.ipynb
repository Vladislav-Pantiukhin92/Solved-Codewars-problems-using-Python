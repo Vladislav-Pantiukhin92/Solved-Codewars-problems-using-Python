{
 "cells": [
  {
   "cell_type": "markdown",
   "id": "7de06641",
   "metadata": {},
   "source": [
    "### Sum up the random string - 7 kyu, Codewars/Python"
   ]
  },
  {
   "cell_type": "code",
   "execution_count": 352,
   "id": "a0577f57",
   "metadata": {},
   "outputs": [
    {
     "data": {
      "text/plain": [
       "2021"
      ]
     },
     "execution_count": 352,
     "metadata": {},
     "output_type": "execute_result"
    }
   ],
   "source": [
    "\"\"\"\n",
    "Given a random string consisting of numbers, letters, symbols, you need to sum up the numbers in the string.\n",
    "\n",
    "Note:\n",
    "\n",
    "Consecutive integers should be treated as a single number. eg, 2015 should be treated as a single number 2015, NOT four numbers\n",
    "All the numbers should be treaded as positive integer. eg, 11-14 should be treated as two numbers 11 and 14. Same as 3.14, should be treated as two numbers 3 and 14\n",
    "If no number was given in the string, it should return 0\n",
    "Example:\n",
    "\n",
    "str = \"In 2015, I want to know how much does iPhone 6+ cost?\"\n",
    "The numbers are 2015, 6\n",
    "\n",
    "Sum is 2021.\n",
    "\"\"\"\n",
    "\n",
    "import re\n",
    "\n",
    "def sum_from_string(strng):\n",
    "    return sum(list(map(int, re.findall(r\"\\d+\", strng))))\n",
    "    \n",
    "sum_from_string(\"In 2015, I want to know how much does iPhone 6+ cost?\")"
   ]
  }
 ],
 "metadata": {
  "kernelspec": {
   "display_name": "Python 3",
   "language": "python",
   "name": "python3"
  },
  "language_info": {
   "codemirror_mode": {
    "name": "ipython",
    "version": 3
   },
   "file_extension": ".py",
   "mimetype": "text/x-python",
   "name": "python",
   "nbconvert_exporter": "python",
   "pygments_lexer": "ipython3",
   "version": "3.8.8"
  }
 },
 "nbformat": 4,
 "nbformat_minor": 5
}
