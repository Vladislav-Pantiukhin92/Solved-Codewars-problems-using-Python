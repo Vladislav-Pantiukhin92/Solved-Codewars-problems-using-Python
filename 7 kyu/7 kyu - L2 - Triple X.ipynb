{
 "cells": [
  {
   "cell_type": "markdown",
   "id": "dcac00aa",
   "metadata": {},
   "source": [
    "### L2: Triple X - 7 kyu, Codewars/Python"
   ]
  },
  {
   "cell_type": "code",
   "execution_count": 10,
   "id": "4951fe62",
   "metadata": {},
   "outputs": [
    {
     "data": {
      "text/plain": [
       "False"
      ]
     },
     "execution_count": 10,
     "metadata": {},
     "output_type": "execute_result"
    }
   ],
   "source": [
    "\"\"\"\n",
    "Given a string, return true if the first instance of \"x\" in the string is immediately followed by the \n",
    "string \"xx\".\n",
    "\n",
    "tripleX(\"abraxxxas\") → true\n",
    "tripleX(\"xoxotrololololololoxxx\") → false\n",
    "tripleX(\"softX kitty, warm kitty, xxxxx\") → true\n",
    "tripleX(\"softx kitty, warm kitty, xxxxx\") → false\n",
    "Note :\n",
    "\n",
    "capital X's do not count as an occurrence of \"x\".\n",
    "if there are no \"x\"'s then return false\n",
    "\"\"\"\n",
    "\n",
    "import re # Regular expression to find all the relevant pattern chunks within the given input list\n",
    "\n",
    "def triple_x(s):\n",
    "    try:\n",
    "        return len(re.findall(r\"x+\", s)[0]) >= 3 # If the obtained list is non-empty - we verify the length \n",
    "    # of the first pattern element\n",
    "    except IndexError: # Exception - if the regexp list is totally empty. In this case, we return False\n",
    "        return False\n",
    "    \n",
    "triple_x(\"xoxotrololololololoxxx\")"
   ]
  }
 ],
 "metadata": {
  "kernelspec": {
   "display_name": "Python 3 (ipykernel)",
   "language": "python",
   "name": "python3"
  },
  "language_info": {
   "codemirror_mode": {
    "name": "ipython",
    "version": 3
   },
   "file_extension": ".py",
   "mimetype": "text/x-python",
   "name": "python",
   "nbconvert_exporter": "python",
   "pygments_lexer": "ipython3",
   "version": "3.9.7"
  }
 },
 "nbformat": 4,
 "nbformat_minor": 5
}
