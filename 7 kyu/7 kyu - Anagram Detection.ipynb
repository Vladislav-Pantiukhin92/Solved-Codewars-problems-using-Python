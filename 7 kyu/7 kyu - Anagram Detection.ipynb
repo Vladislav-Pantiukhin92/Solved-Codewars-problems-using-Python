{
 "cells": [
  {
   "cell_type": "markdown",
   "id": "9250eab9",
   "metadata": {},
   "source": [
    "### Anagram Detection - 7 kyu, Codewars/Python"
   ]
  },
  {
   "cell_type": "code",
   "execution_count": 412,
   "id": "982fc8c5",
   "metadata": {},
   "outputs": [
    {
     "data": {
      "text/plain": [
       "True"
      ]
     },
     "execution_count": 412,
     "metadata": {},
     "output_type": "execute_result"
    }
   ],
   "source": [
    "\"\"\"\n",
    "An anagram is the result of rearranging the letters of a word to produce a new word (see wikipedia).\n",
    "Note: anagrams are case insensitive\n",
    "\n",
    "Complete the function to return true if the two arguments given are anagrams of each other; return false otherwise.\n",
    "\n",
    "Examples\n",
    "\"foefet\" is an anagram of \"toffee\"\n",
    "\n",
    "\"Buckethead\" is an anagram of \"DeathCubeK\"\n",
    "\"\"\"\n",
    "\n",
    "import re\n",
    "\n",
    "def is_anagram(test, original):\n",
    "    if len(test) != len(original): # Two arguments are not anagrams if their length is different\n",
    "        return False\n",
    "    # For comparison it is necessary to use sorted lowercase letters\n",
    "    test = \"\".join(sorted(list(test.casefold())))\n",
    "    original = \"\".join(sorted(list(original.casefold())))\n",
    "    if re.fullmatch(test, original): # In case of the complete similarity - return True, otherwise - False\n",
    "        return True\n",
    "    return False\n",
    " \n",
    "is_anagram(\"Buckethead\", \"DeathCubeK\")"
   ]
  }
 ],
 "metadata": {
  "kernelspec": {
   "display_name": "Python 3",
   "language": "python",
   "name": "python3"
  },
  "language_info": {
   "codemirror_mode": {
    "name": "ipython",
    "version": 3
   },
   "file_extension": ".py",
   "mimetype": "text/x-python",
   "name": "python",
   "nbconvert_exporter": "python",
   "pygments_lexer": "ipython3",
   "version": "3.8.8"
  }
 },
 "nbformat": 4,
 "nbformat_minor": 5
}
