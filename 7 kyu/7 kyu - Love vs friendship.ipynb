{
 "cells": [
  {
   "cell_type": "markdown",
   "id": "c5f795ed",
   "metadata": {},
   "source": [
    "### Love vs friendship - 7 kyu, Codewars/Python"
   ]
  },
  {
   "cell_type": "code",
   "execution_count": 81,
   "id": "2628f86f",
   "metadata": {},
   "outputs": [
    {
     "data": {
      "text/plain": [
       "100"
      ]
     },
     "execution_count": 81,
     "metadata": {},
     "output_type": "execute_result"
    }
   ],
   "source": [
    "\"\"\"\n",
    "If　a = 1, b = 2, c = 3 ... z = 26\n",
    "Then l + o + v + e = 54\n",
    "and f + r + i + e + n + d + s + h + i + p = 108\n",
    "So friendship is twice as strong as love :-)\n",
    "Your task is to write a function which calculates the value of a word based off the sum of the alphabet \n",
    "positions of its characters.\n",
    "The input will always be made of only lowercase letters and will never be empty.\n",
    "\"\"\"\n",
    "\n",
    "def words_to_marks(s):\n",
    "    # We find the index location of letters, place all these index locations within the list.\n",
    "    # Finally, we return the sum of elements within the obtained list:\n",
    "    return sum(list(map(lambda x: int(ord(x) - 96), list(s))))\n",
    "\n",
    "words_to_marks(\"attitude\")"
   ]
  }
 ],
 "metadata": {
  "kernelspec": {
   "display_name": "Python 3 (ipykernel)",
   "language": "python",
   "name": "python3"
  },
  "language_info": {
   "codemirror_mode": {
    "name": "ipython",
    "version": 3
   },
   "file_extension": ".py",
   "mimetype": "text/x-python",
   "name": "python",
   "nbconvert_exporter": "python",
   "pygments_lexer": "ipython3",
   "version": "3.9.7"
  }
 },
 "nbformat": 4,
 "nbformat_minor": 5
}
