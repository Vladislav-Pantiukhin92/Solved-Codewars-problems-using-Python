{
 "cells": [
  {
   "cell_type": "markdown",
   "id": "c5f795ed",
   "metadata": {},
   "source": [
    "### Alphabetically ordered - 7 kyu, Codewars/Python"
   ]
  },
  {
   "cell_type": "code",
   "execution_count": 83,
   "id": "2492263b",
   "metadata": {},
   "outputs": [
    {
     "data": {
      "text/plain": [
       "False"
      ]
     },
     "execution_count": 83,
     "metadata": {},
     "output_type": "execute_result"
    }
   ],
   "source": [
    "\"\"\"\n",
    "Your task is very simple. Just write a function takes an input string of lowercase letters and returns \n",
    "true/false depending on whether the string is in alphabetical order or not.\n",
    "\n",
    "Examples (input -> output)\n",
    "\"kata\" -> false ('a' comes after 'k')\n",
    "\"ant\" -> true (all characters are in alphabetical order)\n",
    "\"\"\"\n",
    "\n",
    "def alphabetic(s):\n",
    "    if \"\".join(sorted(s)) == s: # If the string, sorted in alphabetical order, equals to the given input string - \n",
    "        # we return True\n",
    "        return True\n",
    "    return False # Alternatively, we return False\n",
    "alphabetic(\"kata\")"
   ]
  }
 ],
 "metadata": {
  "kernelspec": {
   "display_name": "Python 3 (ipykernel)",
   "language": "python",
   "name": "python3"
  },
  "language_info": {
   "codemirror_mode": {
    "name": "ipython",
    "version": 3
   },
   "file_extension": ".py",
   "mimetype": "text/x-python",
   "name": "python",
   "nbconvert_exporter": "python",
   "pygments_lexer": "ipython3",
   "version": "3.9.7"
  }
 },
 "nbformat": 4,
 "nbformat_minor": 5
}
