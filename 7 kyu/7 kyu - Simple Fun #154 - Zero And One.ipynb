{
 "cells": [
  {
   "cell_type": "markdown",
   "id": "463f3fa1",
   "metadata": {},
   "source": [
    "### Simple Fun #154: Zero And One - 7 kyu, Codewars/Python"
   ]
  },
  {
   "cell_type": "code",
   "execution_count": 202,
   "id": "3d21e1f1",
   "metadata": {},
   "outputs": [
    {
     "data": {
      "text/plain": [
       "2"
      ]
     },
     "execution_count": 202,
     "metadata": {},
     "output_type": "execute_result"
    }
   ],
   "source": [
    "\"\"\"\n",
    "You have a string that consists of zeroes and ones. Now choose any two adjacent positions \n",
    "in the string: if one of them is 0, and the other one is 1, remove these two digits from the string.\n",
    "Return the length of the resulting (smallest) string that you can get after applying this operation \n",
    "multiple times?\n",
    "Note: after each operation, the remaining digits are separated by spaces and thus not adjacent anymore \n",
    "- see the examples below.\n",
    "\n",
    "Examples\n",
    "For \"01010\" the result should be 1:\n",
    "\n",
    "\"01010\"  -->  \"  010\"  -->  \"    0\"\n",
    "For \"110100\" the result should be 2:\n",
    "\n",
    "\"110100\"  -->  \"1  100\"  -->  \"1    0\"\n",
    "Input/Output\n",
    "[input] string s\n",
    "The initial string.\n",
    "\n",
    "[output] an integer\n",
    "The minimum length of the string that may remain after applying the described operations as many times as possible.\n",
    "\"\"\"\n",
    "\n",
    "def zero_and_one(string):\n",
    "    # We are going to use two pointers, if the pattern is valid - we execute two-values shift\n",
    "    # If the pattern is non-valid - we execute one-value shift\n",
    "    i = 0\n",
    "    j = 1\n",
    "    final = \"\"\n",
    "    while j < len(string):\n",
    "        if string[i:j + 1] == \"01\" or string[i:j + 1] == \"10\":\n",
    "            final += \"  \" # Pattern is valid - spaces are added\n",
    "            i += 2\n",
    "            j += 2\n",
    "        else:\n",
    "            final += string[i] # Pattern is non-valid - first value is added\n",
    "            i += 1\n",
    "            j += 1\n",
    "            \n",
    "    if i < len(string):\n",
    "        final += string[i]\n",
    "    return final.count(\"0\") + final.count(\"1\") # 'Count' method\n",
    "\n",
    "zero_and_one(\"110100\")"
   ]
  }
 ],
 "metadata": {
  "kernelspec": {
   "display_name": "Python 3 (ipykernel)",
   "language": "python",
   "name": "python3"
  },
  "language_info": {
   "codemirror_mode": {
    "name": "ipython",
    "version": 3
   },
   "file_extension": ".py",
   "mimetype": "text/x-python",
   "name": "python",
   "nbconvert_exporter": "python",
   "pygments_lexer": "ipython3",
   "version": "3.9.7"
  }
 },
 "nbformat": 4,
 "nbformat_minor": 5
}
