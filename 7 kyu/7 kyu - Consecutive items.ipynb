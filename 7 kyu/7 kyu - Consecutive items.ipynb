{
 "cells": [
  {
   "cell_type": "markdown",
   "id": "4be13ef9",
   "metadata": {},
   "source": [
    "### Consecutive items - 7 kyu, Codewars/Python"
   ]
  },
  {
   "cell_type": "code",
   "execution_count": 44,
   "id": "a1afd714",
   "metadata": {},
   "outputs": [
    {
     "data": {
      "text/plain": [
       "False"
      ]
     },
     "execution_count": 44,
     "metadata": {},
     "output_type": "execute_result"
    }
   ],
   "source": [
    "\"\"\"\n",
    "You are given a list of unique integers arr, and two integers a and b. Your task is to find out whether\n",
    "or not a and b appear consecutively in arr, and return a boolean value (True if a and b are consecutive, \n",
    "False otherwise).\n",
    "It is guaranteed that a and b are both present in arr.\n",
    "\"\"\"\n",
    "\n",
    "# We are going to use the Linear Search algorithm to find the index the first argument - \"a\"\n",
    "# After that we will verify the existence of the second argument \"b\" within the index range: [index of \"a\" - 1]\n",
    "# and [index of \"a\" + 1]\n",
    "\n",
    "def consecutive(arr, a, b): \n",
    "    length = len(arr) # Length of the input array\n",
    "    def linear_search(array, target): # The Linear Search algorithm \n",
    "        for i in range(len(array)):\n",
    "            if array[i] == target: # The linear (element-by-element) check of elements within the array\n",
    "                return i\n",
    "        return \"No value!\"\n",
    "    index_a = linear_search(arr, a) # This way we know the index address of \"a\"\n",
    "    # It is time to find out the existence of \"a\" within the aforementioned index range:\n",
    "    if index_a != 0 and index_a != length - 1: # The first case - when \"a\" is not the first and not the last \n",
    "        # element within the input array\n",
    "        if arr[index_a - 1] == b or arr[index_a + 1] == b:\n",
    "            return True\n",
    "        return False\n",
    "    elif index_a == 0: # The second case - when \"a\" is the first element within the input array (index - [0])\n",
    "        if arr[index_a + 1] == b:\n",
    "            return True\n",
    "        return False\n",
    "    else:\n",
    "        if arr[index_a - 1] == b: # The third case - when \"a\" is the last element within the input array \n",
    "        # (index - [-1])\n",
    "            return True\n",
    "        return False\n",
    "    \n",
    "consecutive([1, 3, 5, 7], 3, 7)"
   ]
  }
 ],
 "metadata": {
  "kernelspec": {
   "display_name": "Python 3 (ipykernel)",
   "language": "python",
   "name": "python3"
  },
  "language_info": {
   "codemirror_mode": {
    "name": "ipython",
    "version": 3
   },
   "file_extension": ".py",
   "mimetype": "text/x-python",
   "name": "python",
   "nbconvert_exporter": "python",
   "pygments_lexer": "ipython3",
   "version": "3.9.7"
  }
 },
 "nbformat": 4,
 "nbformat_minor": 5
}
