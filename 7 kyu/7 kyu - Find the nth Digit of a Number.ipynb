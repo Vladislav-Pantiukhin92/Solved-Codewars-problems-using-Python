{
 "cells": [
  {
   "cell_type": "markdown",
   "id": "59419a6f",
   "metadata": {},
   "source": [
    "### Find the nth Digit of a Number - 6 kyu, Codewars/Python"
   ]
  },
  {
   "cell_type": "code",
   "execution_count": 209,
   "id": "61a22e20",
   "metadata": {},
   "outputs": [
    {
     "name": "stdout",
     "output_type": "stream",
     "text": [
      "5\n"
     ]
    }
   ],
   "source": [
    "\"\"\"\n",
    "Complete the function that takes two numbers as input, num and nth and return the nth digit of num (counting from right to left).\n",
    "\n",
    "Note\n",
    "If num is negative, ignore its sign and treat it as a positive value\n",
    "If nth is not positive, return -1\n",
    "Keep in mind that 42 = 00042. This means that findDigit(42, 5) would return 0\n",
    "Examples(num, nth --> output)\n",
    "5673, 4 --> 5\n",
    "129, 2 --> 2\n",
    "-2825, 3 --> 8\n",
    "-456, 4 --> 0\n",
    "0, 20 --> 0\n",
    "65, 0 --> -1\n",
    "24, -8 --> -1\n",
    "\"\"\"\n",
    "\n",
    "def find_digit(num, nth):\n",
    "    if nth <= 0:\n",
    "        return -1 # According to the rules, in these circumstances we return -1\n",
    "    num = abs(num) # Returns the absolute value (it is necessary if the number is negative)\n",
    "    if len(str(num)) < nth: # If the length is smaller than 'nth' - we return 0\n",
    "        return 0\n",
    "    else:\n",
    "        return int(str(num)[-1*nth]) # As the last index is always -1, we can move from right to left (-2, -3, etc)\n",
    "    \n",
    "print(find_digit(5673, 4))"
   ]
  }
 ],
 "metadata": {
  "kernelspec": {
   "display_name": "Python 3",
   "language": "python",
   "name": "python3"
  },
  "language_info": {
   "codemirror_mode": {
    "name": "ipython",
    "version": 3
   },
   "file_extension": ".py",
   "mimetype": "text/x-python",
   "name": "python",
   "nbconvert_exporter": "python",
   "pygments_lexer": "ipython3",
   "version": "3.8.8"
  }
 },
 "nbformat": 4,
 "nbformat_minor": 5
}
