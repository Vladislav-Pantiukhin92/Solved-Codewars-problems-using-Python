{
 "cells": [
  {
   "cell_type": "markdown",
   "id": "ca65054f",
   "metadata": {},
   "source": [
    "### The animals went in two by two - 7 kyu, Codewars/Python"
   ]
  },
  {
   "cell_type": "code",
   "execution_count": 35,
   "id": "e19534d8",
   "metadata": {},
   "outputs": [
    {
     "data": {
      "text/plain": [
       "{'goat': 2, 'rabbit': 2, 'horse': 2}"
      ]
     },
     "execution_count": 35,
     "metadata": {},
     "output_type": "execute_result"
    }
   ],
   "source": [
    "\"\"\"\n",
    "A great flood has hit the land, and just as in Biblical times we need to get the animals to the ark in \n",
    "pairs. We are only interested in getting one pair of each animal, and not interested in any animals where \n",
    "there are less than 2....they need to mate to repopulate the planet after all!\n",
    "You will be given a list of animals, which you need to check to see which animals there are at least two \n",
    "of, and then return a dictionary containing the name of the animal along with the fact that there are 2 \n",
    "of them to bring onto the ark.\n",
    "\n",
    ">>> two_by_two(['goat', 'goat', 'rabbit', 'rabbit', 'rabbit', 'duck', 'horse', 'horse', 'swan'])\n",
    "{'goat': 2, 'horse': 2, 'rabbit': 2}\n",
    "\n",
    "# If the list of animals is empty, return False as there are no animals to bring onto the ark and we are all doomed!!!\n",
    ">>> two_by_two([])\n",
    "False\n",
    "\n",
    "# If there are no pairs of animals, return an empty dictionary\n",
    ">>> two_by_two(['goat'])\n",
    "{}\n",
    "\"\"\"\n",
    "\n",
    "from collections import Counter # 'collections.Counter' will be used to count the occurrence of animals within \n",
    "# the given input list\n",
    "\n",
    "def two_by_two(animals):\n",
    "    if not animals: # If the given input list is empty - we return False\n",
    "        return False\n",
    "    myDict = {} # We create an empty dictionary, which will store pairs of animals, if necessary\n",
    "    animals_count = dict(Counter(animals)) # The count of animals through the dictionary structure\n",
    "    for i in animals_count: # We are going to loop over the first dictionary\n",
    "        if animals_count[i] >= 2: # If the corresponding value is larger than 1 - we add it to the second dictionary\n",
    "            myDict[i] = 2 # The default value in the second dictionary is always 2\n",
    "    return myDict # The obtained dictionary is returned\n",
    "\n",
    "two_by_two(['goat', 'goat', 'rabbit', 'rabbit', 'rabbit', 'duck', 'horse', 'horse', 'swan'])"
   ]
  }
 ],
 "metadata": {
  "kernelspec": {
   "display_name": "Python 3 (ipykernel)",
   "language": "python",
   "name": "python3"
  },
  "language_info": {
   "codemirror_mode": {
    "name": "ipython",
    "version": 3
   },
   "file_extension": ".py",
   "mimetype": "text/x-python",
   "name": "python",
   "nbconvert_exporter": "python",
   "pygments_lexer": "ipython3",
   "version": "3.9.7"
  }
 },
 "nbformat": 4,
 "nbformat_minor": 5
}
