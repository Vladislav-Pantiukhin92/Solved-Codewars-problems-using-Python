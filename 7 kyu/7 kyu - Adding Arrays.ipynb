{
 "cells": [
  {
   "cell_type": "markdown",
   "id": "dcbae4b3",
   "metadata": {},
   "source": [
    "### Adding Arrays - 7 kyu, Codewars/Python"
   ]
  },
  {
   "cell_type": "code",
   "execution_count": 10,
   "id": "edb0d909",
   "metadata": {},
   "outputs": [
    {
     "data": {
      "text/plain": [
       "'Just Live Life Man'"
      ]
     },
     "execution_count": 10,
     "metadata": {},
     "output_type": "execute_result"
    }
   ],
   "source": [
    "\"\"\"\n",
    "Create a function that takes an array of letters, and combines them into words in a sentence.\n",
    "The array will be formatted as so:\n",
    "\n",
    "[['J','L','L','M']\n",
    ",['u','i','i','a']\n",
    ",['s','v','f','n']\n",
    ",['t','e','e','']]\n",
    "\n",
    "The function should combine all the 0th indexed letters to create the word 'just', all the 1st indexed \n",
    "letters to create the word 'live', etc.\n",
    "Shorter words will have an empty string in the place once the word has already been mapped out \n",
    "(see the last element in the last element in the array).\n",
    "In Python, the function is called arr_adder to follow standard Python naming conventions.\n",
    "Examples:\n",
    "\n",
    "arrAdder([\n",
    "['J','L','L','M'],\n",
    "['u','i','i','a'],\n",
    "['s','v','f','n'],\n",
    "['t','e','e','']\n",
    "]) // => \"Just Live Life Man\"\n",
    "\"\"\"\n",
    "\n",
    "x = [\n",
    "['J','L','L','M'],\n",
    "['u','i','i','a'],\n",
    "['s','v','f','n'],\n",
    "['t','e','e','']\n",
    "]\n",
    "\n",
    "import numpy as np # The 'numpy' module is to be used to transpose the matrix with iterables\n",
    "\n",
    "def arr_adder(arr):\n",
    "# Let's transpose the given input matrix (rows -> columns and columns -> rows):\n",
    "    matrix = list(np.array(arr).transpose())\n",
    "# The final step is to 'stringify' all elements within iterables and return the full-fledged string with whitespaces\n",
    "    final = list(map(lambda x: \"\".join(x), matrix))\n",
    "    return \" \".join(final) # The full-fledged string with whitespaces is returned\n",
    "arr_adder(x)"
   ]
  }
 ],
 "metadata": {
  "kernelspec": {
   "display_name": "Python 3 (ipykernel)",
   "language": "python",
   "name": "python3"
  },
  "language_info": {
   "codemirror_mode": {
    "name": "ipython",
    "version": 3
   },
   "file_extension": ".py",
   "mimetype": "text/x-python",
   "name": "python",
   "nbconvert_exporter": "python",
   "pygments_lexer": "ipython3",
   "version": "3.9.7"
  }
 },
 "nbformat": 4,
 "nbformat_minor": 5
}
