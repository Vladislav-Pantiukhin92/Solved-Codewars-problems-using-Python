{
 "cells": [
  {
   "cell_type": "markdown",
   "id": "070e3d04",
   "metadata": {},
   "source": [
    "### Length and two values. - 7 kyu, Codewars/Python"
   ]
  },
  {
   "cell_type": "code",
   "execution_count": 9,
   "id": "dd7f10be",
   "metadata": {},
   "outputs": [
    {
     "data": {
      "text/plain": [
       "['true', 'false', 'true', 'false', 'true']"
      ]
     },
     "execution_count": 9,
     "metadata": {},
     "output_type": "execute_result"
    }
   ],
   "source": [
    "\"\"\"\n",
    "Given an integer n and two other values, build an array of size n filled with these two values alternating.\n",
    "\n",
    "Examples\n",
    "5, true, false     -->  [true, false, true, false, true]\n",
    "10, \"blue\", \"red\"  -->  [\"blue\", \"red\", \"blue\", \"red\", \"blue\", \"red\", \"blue\", \"red\", \"blue\", \"red\"]\n",
    "0, \"one\", \"two\"    -->  []\n",
    "\"\"\"\n",
    "\n",
    "def alternate(n, first_value, second_value):\n",
    "# The special cases, when 'n' equals to 0 or 1. In this case we return either an empty list or the list only\n",
    "# with the first value\n",
    "    if n == 0: \n",
    "        return []\n",
    "    if n == 1:\n",
    "        return [first_value]\n",
    "    final_arr = [0] * n # Let's create the final array, which is initially filled with 0s\n",
    "    final_arr[0] = first_value # The first element is the first argument\n",
    "    final_arr[1] = second_value # The second element is the second argument\n",
    "    n -= 2 # It is logical that the 'n' value is reduced by 2\n",
    "    i = 2\n",
    "    while n != 0:\n",
    "        # The overriding operation is to compare the previous element and the next element and, based upon that,\n",
    "        # make the decision, regarding the following insert elements till the end of the final array\n",
    "        if final_arr[i - 1] == first_value:\n",
    "            final_arr[i] = second_value\n",
    "        else:\n",
    "            final_arr[i] = first_value\n",
    "        i += 1\n",
    "        n -= 1\n",
    "    return final_arr\n",
    "\n",
    "alternate(5, \"true\", \"false\")"
   ]
  }
 ],
 "metadata": {
  "kernelspec": {
   "display_name": "Python 3 (ipykernel)",
   "language": "python",
   "name": "python3"
  },
  "language_info": {
   "codemirror_mode": {
    "name": "ipython",
    "version": 3
   },
   "file_extension": ".py",
   "mimetype": "text/x-python",
   "name": "python",
   "nbconvert_exporter": "python",
   "pygments_lexer": "ipython3",
   "version": "3.9.7"
  }
 },
 "nbformat": 4,
 "nbformat_minor": 5
}
