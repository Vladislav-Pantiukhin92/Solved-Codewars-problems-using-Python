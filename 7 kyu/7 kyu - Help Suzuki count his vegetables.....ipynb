{
 "cells": [
  {
   "cell_type": "markdown",
   "id": "dabaf247",
   "metadata": {},
   "source": [
    "### Help Suzuki count his vegetables.... - 7 kyu, Codewars/Python"
   ]
  },
  {
   "cell_type": "code",
   "execution_count": 15,
   "id": "40d12c16",
   "metadata": {},
   "outputs": [
    {
     "data": {
      "text/plain": [
       "[(2, 'tofu'),\n",
       " (2, 'potato'),\n",
       " (2, 'cucumber'),\n",
       " (2, 'cabbage'),\n",
       " (1, 'turnip'),\n",
       " (1, 'pepper'),\n",
       " (1, 'onion'),\n",
       " (1, 'mushroom'),\n",
       " (1, 'celery'),\n",
       " (1, 'carrot')]"
      ]
     },
     "execution_count": 15,
     "metadata": {},
     "output_type": "execute_result"
    }
   ],
   "source": [
    "\"\"\"\n",
    "Help Suzuki count his vegetables....\n",
    "Suzuki is the master monk of his monastery so it is up to him to ensure the kitchen is operating at full \n",
    "capacity to feed his students and the villagers that come for lunch on a daily basis.\n",
    "\n",
    "This week there was a problem with his deliveries and all the vegetables became mixed up. There are two \n",
    "important aspects of cooking in his kitchen, it must be done in harmony and nothing can be wasted. \n",
    "Since the monks are a record keeping people the first order of business is to sort the mixed up \n",
    "vegetables and then count them to ensure there is enough to feed all the students and villagers.\n",
    "You will be given a string with the following vegetables:\n",
    "\n",
    "\"cabbage\", \"carrot\", \"celery\", \"cucumber\", \"mushroom\", \"onion\", \"pepper\", \"potato\", \"tofu\", \"turnip\"\n",
    "Return a list of tuples with the count of each vegetable in descending order. If there are any non \n",
    "vegetables mixed in discard them. If the count of two vegetables is the same sort in reverse \n",
    "lphabetical order (Z->A).\n",
    "\n",
    "(119, \"pepper\"),\n",
    "(114, \"carrot\"),\n",
    "(113, \"turnip\"),\n",
    "(102, \"onion\"),\n",
    "(101, \"tofu\"),\n",
    "(100, \"cabbage\"),\n",
    "(93, \"mushroom\"),\n",
    "(90, \"cucumber\"),\n",
    "(88, \"potato\"),\n",
    "(80, \"celery\")\n",
    "\"\"\"\n",
    "\n",
    "from collections import Counter # 'collections.Counter' will be utilized to count occurrences of vegetables\n",
    "# through the dictionary\n",
    "\n",
    "def count_vegetables(string):\n",
    "    # First of all, let's define the list of valid vegetables:\n",
    "    veg_list = [\"cabbage\", \"carrot\", \"celery\", \"cucumber\", \"mushroom\", \"onion\", \"pepper\", \"potato\", \"tofu\", \"turnip\"]\n",
    "    # Secondly, the given input string should be transformed into the list of vegetables:\n",
    "    input_list = string.split()\n",
    "    def filter_func(veg): # The 'filter_func' function will remove non-valid vegetables from the given input list\n",
    "        if veg not in veg_list:\n",
    "            return 0\n",
    "        return 1\n",
    "    # Using the 'filter' function we are going to remove all non-valid vegetables:\n",
    "    input_list = list(filter(filter_func, input_list))\n",
    "    # Using the 'collections.Counter' the dictionary with occurrences of valid vegetables is created:\n",
    "    myDict = dict(Counter(input_list))\n",
    "    keys = list(myDict.keys()) # The list of dictionary keys is extracted\n",
    "    values = list(myDict.values()) # The list of dictionary values is extracted\n",
    "    zip_list = list(zip(values, keys)) # The zip_list with keys and values is initialized\n",
    "    return sorted(zip_list, reverse=True) # The zip_list, sorted in reverse order, is returned\n",
    "count_vegetables(\"potato tofu cucumber cabbage turnip pepper onion carrot celery mushroom potato tofu cucumber cabbage\")"
   ]
  }
 ],
 "metadata": {
  "kernelspec": {
   "display_name": "Python 3 (ipykernel)",
   "language": "python",
   "name": "python3"
  },
  "language_info": {
   "codemirror_mode": {
    "name": "ipython",
    "version": 3
   },
   "file_extension": ".py",
   "mimetype": "text/x-python",
   "name": "python",
   "nbconvert_exporter": "python",
   "pygments_lexer": "ipython3",
   "version": "3.9.7"
  }
 },
 "nbformat": 4,
 "nbformat_minor": 5
}
