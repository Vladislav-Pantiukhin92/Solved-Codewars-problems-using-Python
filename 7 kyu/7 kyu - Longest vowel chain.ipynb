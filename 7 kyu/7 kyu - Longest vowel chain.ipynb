{
 "cells": [
  {
   "cell_type": "markdown",
   "id": "c51e85fc",
   "metadata": {},
   "source": [
    "### Longest vowel chain - 7 kyu, Codewars/Python"
   ]
  },
  {
   "cell_type": "code",
   "execution_count": 37,
   "id": "9285ccdb",
   "metadata": {},
   "outputs": [
    {
     "data": {
      "text/plain": [
       "2"
      ]
     },
     "execution_count": 37,
     "metadata": {},
     "output_type": "execute_result"
    }
   ],
   "source": [
    "\"\"\"\n",
    "The vowel substrings in the word codewarriors are o,e,a,io. The longest of these has a length of 2. \n",
    "Given a lowercase string that has alphabetic characters only (both vowels and consonants) and no spaces, \n",
    "return the length of the longest vowel substring. Vowels are any of aeiou.\n",
    "\"\"\"\n",
    "\n",
    "import re # Regular expression is aimed at extracting the chunks of vowels from the given input string\n",
    "\n",
    "def solve(s):\n",
    "    vowels_list = re.findall(r\"[aeiou]+\", s) # The vowels' chunks are extracted\n",
    "    if not vowels_list: # If the list is empty - we return 0\n",
    "        return 0\n",
    "    # If the list is not empty - we sort it according to the length of obtained chunks\n",
    "    longest = len(sorted(vowels_list, key=len)[-1]) # The longest chunk is the last element\n",
    "    return longest # We return the length of the last element\n",
    "\n",
    "solve(\"codewarriors\")"
   ]
  }
 ],
 "metadata": {
  "kernelspec": {
   "display_name": "Python 3 (ipykernel)",
   "language": "python",
   "name": "python3"
  },
  "language_info": {
   "codemirror_mode": {
    "name": "ipython",
    "version": 3
   },
   "file_extension": ".py",
   "mimetype": "text/x-python",
   "name": "python",
   "nbconvert_exporter": "python",
   "pygments_lexer": "ipython3",
   "version": "3.9.7"
  }
 },
 "nbformat": 4,
 "nbformat_minor": 5
}
