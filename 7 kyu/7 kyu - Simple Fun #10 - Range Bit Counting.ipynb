{
 "cells": [
  {
   "cell_type": "markdown",
   "id": "2a37e8e5",
   "metadata": {},
   "source": [
    "### Simple Fun #10: Range Bit Counting - 7 kyu, Codewars/Python"
   ]
  },
  {
   "cell_type": "code",
   "execution_count": 13,
   "id": "5ab9af7a",
   "metadata": {},
   "outputs": [
    {
     "data": {
      "text/plain": [
       "11"
      ]
     },
     "execution_count": 13,
     "metadata": {},
     "output_type": "execute_result"
    }
   ],
   "source": [
    "\"\"\"\n",
    "You are given two numbers a and b where 0 ≤ a ≤ b. Imagine you construct an array of all the integers \n",
    "from a to b inclusive. You need to count the number of 1s in the binary representations of all the \n",
    "numbers in the array.\n",
    "\n",
    "Example\n",
    "For a = 2 and b = 7, the output should be 11\n",
    "Given a = 2 and b = 7 the array is: [2, 3, 4, 5, 6, 7]. Converting the numbers to binary, \n",
    "we get [10, 11, 100, 101, 110, 111], which contains 1 + 2 + 1 + 2 + 2 + 3 = 11 1s.\n",
    "\n",
    "Input/Output\n",
    "[input] integer a\n",
    "Constraints: 0 ≤ a ≤ b.\n",
    "\n",
    "[input] integer b\n",
    "Constraints: a ≤ b ≤ 100.\n",
    "\n",
    "[output] an integer\n",
    "\"\"\"\n",
    "\n",
    "def range_bit_count(a, b):\n",
    "# The first step is to generate the range of numbers from 'a' to 'b' inclusively:\n",
    "    range_of_numbers = list(range(a, b + 1))\n",
    "# The second step is to create the binary representation of numbers, using the 'map' function:\n",
    "    binary_string = \"\".join(list(map(lambda x: bin(x).lstrip(\"0b\"), range_of_numbers)))\n",
    "# Finally, utilizing the list method 'lst.count()' we obtain and return the total amount of '1's within the \n",
    "# binary string:\n",
    "    return binary_string.count(\"1\")\n",
    "\n",
    "range_bit_count(2, 7)"
   ]
  }
 ],
 "metadata": {
  "kernelspec": {
   "display_name": "Python 3 (ipykernel)",
   "language": "python",
   "name": "python3"
  },
  "language_info": {
   "codemirror_mode": {
    "name": "ipython",
    "version": 3
   },
   "file_extension": ".py",
   "mimetype": "text/x-python",
   "name": "python",
   "nbconvert_exporter": "python",
   "pygments_lexer": "ipython3",
   "version": "3.9.7"
  }
 },
 "nbformat": 4,
 "nbformat_minor": 5
}
