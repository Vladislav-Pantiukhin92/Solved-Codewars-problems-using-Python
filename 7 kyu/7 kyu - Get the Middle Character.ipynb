{
 "cells": [
  {
   "cell_type": "markdown",
   "id": "85caa171",
   "metadata": {},
   "source": [
    "### Get the Middle Character - 7 kyu, Codewars/Python"
   ]
  },
  {
   "cell_type": "code",
   "execution_count": 362,
   "id": "7572a8e2",
   "metadata": {},
   "outputs": [
    {
     "data": {
      "text/plain": [
       "'t'"
      ]
     },
     "execution_count": 362,
     "metadata": {},
     "output_type": "execute_result"
    }
   ],
   "source": [
    "\"\"\"\n",
    "You are going to be given a word. Your job is to return the middle character of the word. \n",
    "If the word's length is odd, return the middle character. \n",
    "If the word's length is even, return the middle 2 characters.\n",
    "#Examples:\n",
    "\n",
    "Kata.getMiddle(\"test\") should return \"es\"\n",
    "Kata.getMiddle(\"testing\") should return \"t\"\n",
    "Kata.getMiddle(\"middle\") should return \"dd\"\n",
    "Kata.getMiddle(\"A\") should return \"A\"\n",
    "#Input\n",
    "A word (string) of length 0 < str < 1000 (In javascript you may get slightly \n",
    "more than 1000 in some test cases due to an error in the test cases). You do not need to test for this. \n",
    "This is only here to tell you that you do not need to worry about your solution timing out.\n",
    "#Output\n",
    "\n",
    "The middle character(s) of the word represented as a string.\n",
    "\"\"\"\n",
    "\n",
    "def get_middle(string):\n",
    "    i = 0\n",
    "    j = len(string) - 1\n",
    "    # We divide the solution into two cases: when the number is even, and when the number is odd\n",
    "    # Two pointers are initialized: the first one starts at the beginning (index 0), the second one - at the end\n",
    "    if len(string) % 2 != 0: # The odd_number case\n",
    "        while i != j: # The central position is the position where i and j met each other\n",
    "            i += 1\n",
    "            j -= 1\n",
    "        return string[i]\n",
    "    else: # The even-number case\n",
    "        while j - i > 1: # The central position is the position where the gap between i and j is 1\n",
    "            i += 1\n",
    "            j -= 1\n",
    "        return string[i: j + 1] # The corresponding slice with two pointers is returned\n",
    "        \n",
    "get_middle(\"testing\")"
   ]
  }
 ],
 "metadata": {
  "kernelspec": {
   "display_name": "Python 3 (ipykernel)",
   "language": "python",
   "name": "python3"
  },
  "language_info": {
   "codemirror_mode": {
    "name": "ipython",
    "version": 3
   },
   "file_extension": ".py",
   "mimetype": "text/x-python",
   "name": "python",
   "nbconvert_exporter": "python",
   "pygments_lexer": "ipython3",
   "version": "3.9.7"
  }
 },
 "nbformat": 4,
 "nbformat_minor": 5
}
