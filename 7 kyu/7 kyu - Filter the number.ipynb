{
 "cells": [
  {
   "cell_type": "markdown",
   "id": "dcac00aa",
   "metadata": {},
   "source": [
    "### Filter the number - 7 kyu, Codewars/Python"
   ]
  },
  {
   "cell_type": "code",
   "execution_count": 14,
   "id": "ffd3949d",
   "metadata": {},
   "outputs": [
    {
     "data": {
      "text/plain": [
       "123"
      ]
     },
     "execution_count": 14,
     "metadata": {},
     "output_type": "execute_result"
    }
   ],
   "source": [
    "\"\"\"\n",
    "Filter the number\n",
    "Oh, no! The number has been mixed up with the text. Your goal is to retrieve the number from the text, \n",
    "can you return the number back to its original state?\n",
    "\n",
    "Task\n",
    "Your task is to return a number from a string.\n",
    "Details\n",
    "You will be given a string of numbers and letters mixed up, you have to return all the numbers in that \n",
    "string in the order they occur.\n",
    "\"\"\"\n",
    "\n",
    "import re # Regexp pattern to extract all the existing digit chunks within the given input string\n",
    "\n",
    "def filter_string(string):\n",
    "    # All the digit chunks are extracted from the given input string, concatenated together.\n",
    "    # The result as an integer is finally returned\n",
    "    return int(\"\".join(re.findall(r\"\\d+\", string)))\n",
    "\n",
    "filter_string(\"aa1bb2cc3dd\")"
   ]
  }
 ],
 "metadata": {
  "kernelspec": {
   "display_name": "Python 3 (ipykernel)",
   "language": "python",
   "name": "python3"
  },
  "language_info": {
   "codemirror_mode": {
    "name": "ipython",
    "version": 3
   },
   "file_extension": ".py",
   "mimetype": "text/x-python",
   "name": "python",
   "nbconvert_exporter": "python",
   "pygments_lexer": "ipython3",
   "version": "3.9.7"
  }
 },
 "nbformat": 4,
 "nbformat_minor": 5
}
