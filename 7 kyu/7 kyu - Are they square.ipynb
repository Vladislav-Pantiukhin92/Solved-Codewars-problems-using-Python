{
 "cells": [
  {
   "cell_type": "markdown",
   "id": "dcac00aa",
   "metadata": {},
   "source": [
    "### Are they square? - 7 kyu, Codewars/Python"
   ]
  },
  {
   "cell_type": "code",
   "execution_count": 16,
   "id": "db245992",
   "metadata": {},
   "outputs": [
    {
     "data": {
      "text/plain": [
       "True"
      ]
     },
     "execution_count": 16,
     "metadata": {},
     "output_type": "execute_result"
    }
   ],
   "source": [
    "\"\"\"\n",
    "Write a function that checks whether all elements in an array are square numbers. \n",
    "The function should be able to take any number of array elements.\n",
    "Your function should return true if all elements in the array are square numbers and false if not.\n",
    "An empty array should return undefined / None / nil /false (for C). You can assume that all array elements \n",
    "will be positive integers.\n",
    "\n",
    "Examples:\n",
    "is_square([1, 4, 9, 16]) --> True\n",
    "is_square([3, 4, 7, 9]) --> False\n",
    "is_square([]) --> None\n",
    "\"\"\"\n",
    "\n",
    "from math import * # 'math.sqrt' is to be used within the code solution\n",
    "\n",
    "def is_square(arr):\n",
    "    if not arr: # If the given input array is empty - we return None\n",
    "        return None\n",
    "# The 'all' function is to be used. If all sqrt(elements) are integers, we return True, otherwise - False\n",
    "    return all(sqrt(i).is_integer() for i in arr)\n",
    "\n",
    "is_square([1, 4, 9, 16])"
   ]
  }
 ],
 "metadata": {
  "kernelspec": {
   "display_name": "Python 3 (ipykernel)",
   "language": "python",
   "name": "python3"
  },
  "language_info": {
   "codemirror_mode": {
    "name": "ipython",
    "version": 3
   },
   "file_extension": ".py",
   "mimetype": "text/x-python",
   "name": "python",
   "nbconvert_exporter": "python",
   "pygments_lexer": "ipython3",
   "version": "3.9.7"
  }
 },
 "nbformat": 4,
 "nbformat_minor": 5
}
