{
 "cells": [
  {
   "cell_type": "markdown",
   "id": "e8b21447",
   "metadata": {},
   "source": [
    "### Alternate capitalization - 7 kyu, Codewars/Python"
   ]
  },
  {
   "cell_type": "code",
   "execution_count": 7,
   "id": "280e43c3",
   "metadata": {},
   "outputs": [
    {
     "data": {
      "text/plain": [
       "['AbCdEf', 'aBcDeF']"
      ]
     },
     "execution_count": 7,
     "metadata": {},
     "output_type": "execute_result"
    }
   ],
   "source": [
    "\"\"\"\n",
    "Given a string, capitalize the letters that occupy even indexes and odd indexes separately, and return \n",
    "as shown below. Index 0 will be considered even.\n",
    "For example, capitalize(\"abcdef\") = ['AbCdEf', 'aBcDeF']. See test cases for more examples.\n",
    "The input will be a lowercase string with no spaces.\n",
    "\"\"\"\n",
    "\n",
    "def capitalize(s):\n",
    "    final = [] # It is the list container, which will store elements for the first string\n",
    "    for i, j in enumerate(s): # Through the use of the 'enumerate' function, we are able to create the first \n",
    "        # string\n",
    "        if i % 2 == 0: # The first string is when elements with odd indices are uppercase, and elements with \n",
    "            # even indices are lowercase\n",
    "            final.append(j.upper())\n",
    "        else:\n",
    "            final.append(j)\n",
    "    first_string = \"\".join(final) # The first string is obtained\n",
    "    second_string = first_string.swapcase() # The second string is obtained through the use of the string method\n",
    "    # 'str.swapcase()'\n",
    "    return [first_string, second_string] # The list, containing the first and the second string, is returned\n",
    "\n",
    "capitalize(\"abcdef\")"
   ]
  }
 ],
 "metadata": {
  "kernelspec": {
   "display_name": "Python 3 (ipykernel)",
   "language": "python",
   "name": "python3"
  },
  "language_info": {
   "codemirror_mode": {
    "name": "ipython",
    "version": 3
   },
   "file_extension": ".py",
   "mimetype": "text/x-python",
   "name": "python",
   "nbconvert_exporter": "python",
   "pygments_lexer": "ipython3",
   "version": "3.9.7"
  }
 },
 "nbformat": 4,
 "nbformat_minor": 5
}
