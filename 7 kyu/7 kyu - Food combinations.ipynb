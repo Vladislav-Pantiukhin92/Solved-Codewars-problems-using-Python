{
 "cells": [
  {
   "cell_type": "markdown",
   "id": "e2785667",
   "metadata": {},
   "source": [
    "### Food combinations - 7 kyu, Codewars/Python"
   ]
  },
  {
   "cell_type": "code",
   "execution_count": 1,
   "id": "d1fadc50",
   "metadata": {},
   "outputs": [
    {
     "data": {
      "text/plain": [
       "\"You know what's actually really good? Pancakes and ketchup.\""
      ]
     },
     "execution_count": 1,
     "metadata": {},
     "output_type": "execute_result"
    }
   ],
   "source": [
    "\"\"\"\n",
    "Given an array containing a list of good foods, return a string containing the assertion that any two of \n",
    "the individually good foods are really good when combined.\n",
    "eg: \"You know what's actually really good? Pancakes and relish.\"\n",
    "\n",
    "Examples:\n",
    "Good_foods = [\"Ice cream\", \"Ham\", \"Relish\", \"Pancakes\", \"Ketchup\", \"Cheese\", \"Eggs\", \"Cupcakes\", \n",
    "\"Sour cream\", \"Hot chocolate\", \"Avocado\", \"Skittles\"]\n",
    "\n",
    "actually_really_good( Good_foods ) #  \"You know what's actually really good? Pancakes and relish.\"\n",
    "actually_really_good( ['Peanut butter'] ) #  \"You know what's actually really good? Peanut butter and more peanut butter.\"\n",
    "\n",
    "actually_really_good( [] ) #  \"You know what's actually really good? Nothing!\"\n",
    "Notes:\n",
    "There are many different valid combinations of 2 foods it doesn't matter which one you choose.\n",
    "But there should be 2 different foods listed unless there was only one food given in the input array.\n",
    "Capitalization should be correct, the first given food should be capitalized, but the second should not.\n",
    "The input array should not be modified by the method.\n",
    "\n",
    "The test cases for this kata are fairly complicated, see if you can trick them. (Then let me know about \n",
    "it in the discourse.)\n",
    "\n",
    "The original kata language is Ruby\n",
    "Bonus:\n",
    "If you thought this kata was easy, try this one: Testing 'Food combinations' in which you get to write \n",
    "a method similar to the one the tests here use to check that a result is valid and returns any errors \n",
    "it has.\n",
    "\"\"\"\n",
    "\n",
    "import random # The 'random' module is going to pick out the random, different elements (pairs) from the \n",
    "# given input list\n",
    "\n",
    "def actually_really_good(foods):\n",
    "    if not foods: # If the given input list is random - we return \"Nothing!\"\n",
    "        return \"You know what's actually really good? Nothing!\"\n",
    "    elif len(foods) < 2: # If the list contains just 1 element - we return the following expression:\n",
    "        return f\"You know what's actually really good? {foods[0].capitalize()} and more {foods[0].lower()}.\"\n",
    "    two_options = random.sample(foods, k=2) # The random option of two elements from the given input list\n",
    "    return f\"You know what's actually really good? {two_options[0].capitalize()} and {two_options[1].lower()}.\"\n",
    "\n",
    "actually_really_good([\"Ice cream\", \"Ham\", \"Relish\", \"Pancakes\", \"Ketchup\", \"Cheese\", \"Eggs\", \"Cupcakes\", \n",
    "\"Sour cream\", \"Hot chocolate\", \"Avocado\", \"Skittles\"])"
   ]
  }
 ],
 "metadata": {
  "kernelspec": {
   "display_name": "Python 3 (ipykernel)",
   "language": "python",
   "name": "python3"
  },
  "language_info": {
   "codemirror_mode": {
    "name": "ipython",
    "version": 3
   },
   "file_extension": ".py",
   "mimetype": "text/x-python",
   "name": "python",
   "nbconvert_exporter": "python",
   "pygments_lexer": "ipython3",
   "version": "3.9.7"
  }
 },
 "nbformat": 4,
 "nbformat_minor": 5
}
