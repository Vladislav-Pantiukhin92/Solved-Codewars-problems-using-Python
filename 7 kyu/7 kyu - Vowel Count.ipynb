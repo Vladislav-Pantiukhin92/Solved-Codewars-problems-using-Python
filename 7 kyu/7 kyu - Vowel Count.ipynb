{
 "cells": [
  {
   "cell_type": "markdown",
   "id": "dcbae4b3",
   "metadata": {},
   "source": [
    "### Vowel Count - 7 kyu, Codewars/Python"
   ]
  },
  {
   "cell_type": "code",
   "execution_count": 37,
   "id": "ea45a6c0",
   "metadata": {},
   "outputs": [
    {
     "data": {
      "text/plain": [
       "5"
      ]
     },
     "execution_count": 37,
     "metadata": {},
     "output_type": "execute_result"
    }
   ],
   "source": [
    "\"\"\"\n",
    "Return the number (count) of vowels in the given string.\n",
    "We will consider a, e, i, o, u as vowels for this Kata (but not y).\n",
    "The input string will only consist of lower case letters and/or spaces.\n",
    "\"\"\"\n",
    "\n",
    "import re # Regular expressions will identify vowels within the given input string\n",
    "\n",
    "def get_count(sentence):\n",
    "    vowels = re.findall(r\"[aeiou]\", sentence) # Vowels are identified as elements of the list\n",
    "    return len(vowels) # The length of this list is returned\n",
    "\n",
    "get_count(\"aeiou\")"
   ]
  }
 ],
 "metadata": {
  "kernelspec": {
   "display_name": "Python 3 (ipykernel)",
   "language": "python",
   "name": "python3"
  },
  "language_info": {
   "codemirror_mode": {
    "name": "ipython",
    "version": 3
   },
   "file_extension": ".py",
   "mimetype": "text/x-python",
   "name": "python",
   "nbconvert_exporter": "python",
   "pygments_lexer": "ipython3",
   "version": "3.9.7"
  }
 },
 "nbformat": 4,
 "nbformat_minor": 5
}
