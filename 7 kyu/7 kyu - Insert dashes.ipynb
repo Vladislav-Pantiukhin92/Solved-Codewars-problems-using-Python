{
 "cells": [
  {
   "cell_type": "markdown",
   "id": "93f0c629",
   "metadata": {},
   "source": [
    "### Insert dashes - 7 kyu, Codewars/Python"
   ]
  },
  {
   "cell_type": "code",
   "execution_count": 13,
   "id": "734a1e53",
   "metadata": {},
   "outputs": [
    {
     "data": {
      "text/plain": [
       "'1003-567'"
      ]
     },
     "execution_count": 13,
     "metadata": {},
     "output_type": "execute_result"
    }
   ],
   "source": [
    "\"\"\"\n",
    "Write a function insert_dash(num) / insertDash(num) / InsertDash(int num) that will insert dashes ('-') between each two odd digits in num. For example: if num is 454793 the output should be 4547-9-3. Don't count zero as an odd digit.\n",
    "Note that the number will always be non-negative (>= 0).\n",
    "\"\"\"\n",
    "\n",
    "def insert_dash(num):\n",
    "    num = list(str(num))\n",
    "    index = 0\n",
    "    final = [num[0]]\n",
    "    while index < len(num) - 1:\n",
    "        # We try to verify the number (is it odd or even?)\n",
    "        if int(num[index]) % 2 != 0 and int(num[index + 1]) % 2 != 0:\n",
    "            final.append(\"-\") # If it meets the requirement, we insert \"-\"\n",
    "            final.append(num[index + 1])\n",
    "            index += 1\n",
    "        else:\n",
    "            final.append(num[index + 1])\n",
    "            index += 1\n",
    "    return \"\".join(final)\n",
    "\n",
    "    \n",
    "insert_dash(1003567)"
   ]
  }
 ],
 "metadata": {
  "kernelspec": {
   "display_name": "Python 3",
   "language": "python",
   "name": "python3"
  },
  "language_info": {
   "codemirror_mode": {
    "name": "ipython",
    "version": 3
   },
   "file_extension": ".py",
   "mimetype": "text/x-python",
   "name": "python",
   "nbconvert_exporter": "python",
   "pygments_lexer": "ipython3",
   "version": "3.8.8"
  }
 },
 "nbformat": 4,
 "nbformat_minor": 5
}
