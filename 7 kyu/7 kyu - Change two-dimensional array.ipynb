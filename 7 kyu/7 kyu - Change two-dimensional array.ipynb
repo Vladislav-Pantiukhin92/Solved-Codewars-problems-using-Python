{
 "cells": [
  {
   "cell_type": "markdown",
   "id": "14417b70",
   "metadata": {},
   "source": [
    "### Change two-dimensional array - 7 kyu, Codewars/Python"
   ]
  },
  {
   "cell_type": "code",
   "execution_count": 37,
   "id": "d0ee6f18",
   "metadata": {},
   "outputs": [
    {
     "data": {
      "text/plain": [
       "[[1, 4, -5, -9, 3],\n",
       " [6, 1, -7, 4, -5],\n",
       " [3, 5, 1, -9, -1],\n",
       " [1, 5, -7, 1, -9],\n",
       " [-3, 2, 1, -5, 1]]"
      ]
     },
     "execution_count": 37,
     "metadata": {},
     "output_type": "execute_result"
    }
   ],
   "source": [
    "\"\"\"\n",
    "Function receive a two-dimensional square array of random integers. On the main diagonal, all the \n",
    "negative integers must be changed to 0, while the others must be changed to 1 (Note: 0 is considered \n",
    "non-negative, here).\n",
    "(You can mutate the input if you want, but it is a better practice to not mutate the input)\n",
    "Example:\n",
    "Input array\n",
    "\n",
    "[\n",
    "  [-1,  4, -5, -9,  3 ],\n",
    "  [ 6, -4, -7,  4, -5 ],\n",
    "  [ 3,  5,  0, -9, -1 ],\n",
    "  [ 1,  5, -7, -8, -9 ],\n",
    "  [-3,  2,  1, -5,  6 ]\n",
    "]\n",
    "Output array\n",
    "\n",
    "[\n",
    "  [ 0,  4, -5, -9,  3 ],\n",
    "  [ 6,  0, -7,  4, -5 ],\n",
    "  [ 3,  5,  1, -9, -1 ],\n",
    "  [ 1,  5, -7,  0, -9 ],\n",
    "  [-3,  2,  1, -5,  1 ]\n",
    "]\n",
    "\"\"\"\n",
    "\n",
    "input_ = [\n",
    "  [ 0,  4, -5, -9,  3 ],\n",
    "  [ 6,  0, -7,  4, -5 ],\n",
    "  [ 3,  5,  1, -9, -1 ],\n",
    "  [ 1,  5, -7,  0, -9 ],\n",
    "  [-3,  2,  1, -5,  1 ]\n",
    "]\n",
    "\n",
    "def matrix(array):\n",
    "    final_arr = array.copy() # We are not going to mutate the given input array, so we need to create the \n",
    "    # array copy\n",
    "    j = 0 # The variable will ensure the second value shift within the two-dimensional square array\n",
    "    for i in range(len(array)): # The 'for loop' will ensure the first value shift within \n",
    "        # the two-dimensional square array\n",
    "        curNumber = final_arr[i][j]\n",
    "        if curNumber >= 0: # If the value is positive or equals to 0\n",
    "            final_arr[i][j] = 1\n",
    "        else: # If the value is negative\n",
    "            final_arr[i][j] = 0\n",
    "        j += 1\n",
    "    return final_arr # The transformed matrix is returned\n",
    "\n",
    "matrix(input_)"
   ]
  }
 ],
 "metadata": {
  "kernelspec": {
   "display_name": "Python 3 (ipykernel)",
   "language": "python",
   "name": "python3"
  },
  "language_info": {
   "codemirror_mode": {
    "name": "ipython",
    "version": 3
   },
   "file_extension": ".py",
   "mimetype": "text/x-python",
   "name": "python",
   "nbconvert_exporter": "python",
   "pygments_lexer": "ipython3",
   "version": "3.9.7"
  }
 },
 "nbformat": 4,
 "nbformat_minor": 5
}
