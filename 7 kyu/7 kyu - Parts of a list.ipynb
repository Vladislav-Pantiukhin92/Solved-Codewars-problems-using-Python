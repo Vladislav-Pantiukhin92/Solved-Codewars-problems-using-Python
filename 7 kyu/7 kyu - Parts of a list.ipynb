{
 "cells": [
  {
   "cell_type": "markdown",
   "id": "372fcdab",
   "metadata": {},
   "source": [
    "### Parts of a list - 7 kyu, Codewars/Python"
   ]
  },
  {
   "cell_type": "code",
   "execution_count": 173,
   "id": "c004f41f",
   "metadata": {},
   "outputs": [
    {
     "data": {
      "text/plain": [
       "[('az', 'toto picaro zone kiwi'),\n",
       " ('az toto', 'picaro zone kiwi'),\n",
       " ('az toto picaro', 'zone kiwi'),\n",
       " ('az toto picaro zone', 'kiwi')]"
      ]
     },
     "execution_count": 173,
     "metadata": {},
     "output_type": "execute_result"
    }
   ],
   "source": [
    "\"\"\"\n",
    "Write a function partlist that gives all the ways to divide a list (an array) of at least two elements \n",
    "into two non-empty parts.\n",
    "\n",
    "Each two non empty parts will be in a pair\n",
    "Each part will be in a string\n",
    "Elements of a pair must be in the same order as in the original array.\n",
    "\n",
    "Examples of returns in different languages:\n",
    "a = [\"az\", \"toto\", \"picaro\", \"zone\", \"kiwi\"] -->\n",
    "[[\"az\", \"toto picaro zone kiwi\"], [\"az toto\", \"picaro zone kiwi\"], [\"az toto picaro\", \"zone kiwi\"], [\"az toto picaro zone\", \"kiwi\"]] \n",
    "or\n",
    " a = {\"az\", \"toto\", \"picaro\", \"zone\", \"kiwi\"} -->\n",
    "{{\"az\", \"toto picaro zone kiwi\"}, {\"az toto\", \"picaro zone kiwi\"}, {\"az toto picaro\", \"zone kiwi\"}, {\"az toto picaro zone\", \"kiwi\"}}\n",
    "or\n",
    "a = [\"az\", \"toto\", \"picaro\", \"zone\", \"kiwi\"] -->\n",
    "[(\"az\", \"toto picaro zone kiwi\"), (\"az toto\", \"picaro zone kiwi\"), (\"az toto picaro\", \"zone kiwi\"), (\"az toto picaro zone\", \"kiwi\")]\n",
    "or \n",
    "a = [|\"az\", \"toto\", \"picaro\", \"zone\", \"kiwi\"|] -->\n",
    "[(\"az\", \"toto picaro zone kiwi\"), (\"az toto\", \"picaro zone kiwi\"), (\"az toto picaro\", \"zone kiwi\"), (\"az toto picaro zone\", \"kiwi\")]\n",
    "or\n",
    "a = [\"az\", \"toto\", \"picaro\", \"zone\", \"kiwi\"] -->\n",
    "\"(az, toto picaro zone kiwi)(az toto, picaro zone kiwi)(az toto picaro, zone kiwi)(az toto picaro zone, kiwi)\"\n",
    "\"\"\"\n",
    "\n",
    "def partlist(arr):\n",
    "    index = 1\n",
    "    # We use two lists - for each element of pairs\n",
    "    first_lst = []\n",
    "    second_lst = []\n",
    "    while index < len(arr):\n",
    "        first_lst.append(\" \".join(arr[:index]))\n",
    "        second_lst.append(\" \".join(arr[index:]))\n",
    "        index += 1\n",
    "    final = list(zip(first_lst, second_lst))\n",
    "    return final\n",
    "    \n",
    "partlist([\"az\", \"toto\", \"picaro\", \"zone\", \"kiwi\"])"
   ]
  }
 ],
 "metadata": {
  "kernelspec": {
   "display_name": "Python 3",
   "language": "python",
   "name": "python3"
  },
  "language_info": {
   "codemirror_mode": {
    "name": "ipython",
    "version": 3
   },
   "file_extension": ".py",
   "mimetype": "text/x-python",
   "name": "python",
   "nbconvert_exporter": "python",
   "pygments_lexer": "ipython3",
   "version": "3.8.8"
  }
 },
 "nbformat": 4,
 "nbformat_minor": 5
}
