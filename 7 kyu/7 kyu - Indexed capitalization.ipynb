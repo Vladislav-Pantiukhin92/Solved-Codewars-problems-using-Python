{
 "cells": [
  {
   "cell_type": "markdown",
   "id": "d63f78b8",
   "metadata": {},
   "source": [
    "### Indexed capitalization - 7 kyu, Codewars/Python"
   ]
  },
  {
   "cell_type": "code",
   "execution_count": 56,
   "id": "14fa70d7",
   "metadata": {},
   "outputs": [
    {
     "data": {
      "text/plain": [
       "'aBCdeF'"
      ]
     },
     "execution_count": 56,
     "metadata": {},
     "output_type": "execute_result"
    }
   ],
   "source": [
    "\"\"\"\n",
    "Given a string and an array of integers representing indices, capitalize all letters at the given indices.\n",
    "For example:\n",
    "\n",
    "capitalize(\"abcdef\",[1,2,5]) = \"aBCdeF\"\n",
    "capitalize(\"abcdef\",[1,2,5,100]) = \"aBCdeF\". There is no index 100.\n",
    "The input will be a lowercase string with no spaces and an array of digits.\n",
    "\"\"\"\n",
    "\n",
    "def capitalize(s,ind):\n",
    "    final = [] # It is the list container, which will store all final elements\n",
    "    for i, j in enumerate(s): # Through the implementation of the 'enumerate' function, we are going to find out \n",
    "        # the necessity of making an element uppercase\n",
    "        if i in ind:\n",
    "            final.append(j.upper()) # If we have the necessity of making an element uppercase\n",
    "        else:\n",
    "            final.append(j) # If we don't have the necessity of making an element uppercase\n",
    "    return \"\".join(final) # The list with elements is transformed into the final string, which is to be returned\n",
    "\n",
    "capitalize(\"abcdef\", [1,2,5])"
   ]
  }
 ],
 "metadata": {
  "kernelspec": {
   "display_name": "Python 3 (ipykernel)",
   "language": "python",
   "name": "python3"
  },
  "language_info": {
   "codemirror_mode": {
    "name": "ipython",
    "version": 3
   },
   "file_extension": ".py",
   "mimetype": "text/x-python",
   "name": "python",
   "nbconvert_exporter": "python",
   "pygments_lexer": "ipython3",
   "version": "3.9.7"
  }
 },
 "nbformat": 4,
 "nbformat_minor": 5
}
