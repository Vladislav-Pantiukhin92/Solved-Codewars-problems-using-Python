{
 "cells": [
  {
   "cell_type": "markdown",
   "id": "dcac00aa",
   "metadata": {},
   "source": [
    "### Homogenous arrays - 7 kyu, Codewars/Python"
   ]
  },
  {
   "cell_type": "code",
   "execution_count": 13,
   "id": "09e64792",
   "metadata": {},
   "outputs": [
    {
     "data": {
      "text/plain": [
       "[[1, 5, 4], ['b']]"
      ]
     },
     "execution_count": 13,
     "metadata": {},
     "output_type": "execute_result"
    }
   ],
   "source": [
    "\"\"\"\n",
    "Given a two-dimensional array, return a new array which carries over only those arrays from the original, \n",
    "which were not empty and whose items are all of the same type (i.e. homogenous). For simplicity, \n",
    "the arrays inside the array will only contain characters and integers.\n",
    "Example:\n",
    "\n",
    "Given [[1, 5, 4], ['a', 3, 5], ['b'], [], ['1', 2, 3]], your function should return [[1, 5, 4], ['b']].\n",
    "Addendum:\n",
    "Please keep in mind that for this kata, we assume that empty arrays are not homogenous.\n",
    "\n",
    "The resultant arrays should be in the order they were originally in and should not have its values changed.\n",
    "No implicit type casting is allowed. A subarray [1, '2'] would be considered illegal and should be \n",
    "filtered out.\n",
    "\"\"\"\n",
    "\n",
    "def filter_homogenous(arrays):\n",
    "# One-liner code implementation: if sublists contain only one-type elements (verification through the 'all' function)\n",
    "# and all the sublists contain, at least, one element - we preserve such iterables within the list:\n",
    "    return [i for i in arrays if i and all(isinstance(elem, type(i[0])) for elem in i)]\n",
    "\n",
    "filter_homogenous([[1, 5, 4], ['a', 3, 5], ['b'], [], ['1', 2, 3]])"
   ]
  }
 ],
 "metadata": {
  "kernelspec": {
   "display_name": "Python 3 (ipykernel)",
   "language": "python",
   "name": "python3"
  },
  "language_info": {
   "codemirror_mode": {
    "name": "ipython",
    "version": 3
   },
   "file_extension": ".py",
   "mimetype": "text/x-python",
   "name": "python",
   "nbconvert_exporter": "python",
   "pygments_lexer": "ipython3",
   "version": "3.9.7"
  }
 },
 "nbformat": 4,
 "nbformat_minor": 5
}
