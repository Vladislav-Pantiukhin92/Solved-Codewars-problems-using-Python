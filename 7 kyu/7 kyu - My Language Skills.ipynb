{
 "cells": [
  {
   "cell_type": "markdown",
   "id": "bae845a8",
   "metadata": {},
   "source": [
    "### My Language Skills - 7 kyu, Codewars/Python"
   ]
  },
  {
   "cell_type": "code",
   "execution_count": 42,
   "id": "adb715c0",
   "metadata": {},
   "outputs": [
    {
     "data": {
      "text/plain": [
       "['Ruby', 'Python']"
      ]
     },
     "execution_count": 42,
     "metadata": {},
     "output_type": "execute_result"
    }
   ],
   "source": [
    "\"\"\"\n",
    "You are given a dictionary/hash/object containing some languages and your test results in the given \n",
    "languages. Return the list of languages where your test score is at least 60, in descending order of \n",
    "the results.\n",
    "Note: the scores will always be unique (so no duplicate values)\n",
    "\n",
    "Examples\n",
    "{\"Java\": 10, \"Ruby\": 80, \"Python\": 65}    -->  [\"Ruby\", \"Python\"]\n",
    "{\"Hindi\": 60, \"Dutch\" : 93, \"Greek\": 71}  -->  [\"Dutch\", \"Greek\", \"Hindi\"]\n",
    "{\"C++\": 50, \"ASM\": 10, \"Haskell\": 20}     -->  []\n",
    "\"\"\"\n",
    "\n",
    "from operator import * # 'operator.itemgetter' will be utilized to sort the obtained array in a specific manner\n",
    "\n",
    "def my_languages(results):\n",
    "# Firstly, let's use the dictionary method 'dict.items()' to get the tuple with iterables\n",
    "    tuple_with_results = list(results.items())\n",
    "# Through the 'filter' function we need to extract only iterables, where the second argument ([1]) >= 60\n",
    "    above_sixty = list(filter(lambda x: x[1] >= 60, tuple_with_results))\n",
    "    if not above_sixty: # If the obtained list is empty - we return an empty list\n",
    "        return []\n",
    "# If the obtained list is not empty - we sort it in a descending order, according to the second argument ([1])\n",
    "    above_sixty = sorted(above_sixty, key=itemgetter(1), reverse=True)\n",
    "# Finally, we are going to extract all values - the first arguments within the remaining iterables\n",
    "    final = list(map(lambda x: x[0], above_sixty))\n",
    "    return final # The list with these values is returned\n",
    "\n",
    "my_languages({\"Java\": 10, \"Ruby\": 80, \"Python\": 65})"
   ]
  }
 ],
 "metadata": {
  "kernelspec": {
   "display_name": "Python 3 (ipykernel)",
   "language": "python",
   "name": "python3"
  },
  "language_info": {
   "codemirror_mode": {
    "name": "ipython",
    "version": 3
   },
   "file_extension": ".py",
   "mimetype": "text/x-python",
   "name": "python",
   "nbconvert_exporter": "python",
   "pygments_lexer": "ipython3",
   "version": "3.9.7"
  }
 },
 "nbformat": 4,
 "nbformat_minor": 5
}
