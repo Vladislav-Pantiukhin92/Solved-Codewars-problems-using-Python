{
 "cells": [
  {
   "cell_type": "markdown",
   "id": "82f36644",
   "metadata": {},
   "source": [
    "### Array Leaders (Array Series #3) - 7 kyu, Codewars/Python"
   ]
  },
  {
   "cell_type": "code",
   "execution_count": 364,
   "id": "afbddc23",
   "metadata": {},
   "outputs": [
    {
     "data": {
      "text/plain": [
       "[17, 5, 2]"
      ]
     },
     "execution_count": 364,
     "metadata": {},
     "output_type": "execute_result"
    }
   ],
   "source": [
    "\"\"\"\n",
    "Definition\n",
    "An element is leader if it is greater than The Sum all the elements to its right side.\n",
    "Task\n",
    "Given an array/list [] of integers , Find all the LEADERS in the array.\n",
    "Notes\n",
    "Array/list size is at least 3 .\n",
    "Array/list's numbers Will be mixture of positives , negatives and zeros\n",
    "Repetition of numbers in the array/list could occur.\n",
    "Returned Array/list should store the leading numbers in the same order in the original array/list .\n",
    "\n",
    "Input >> Output Examples\n",
    "arrayLeaders ({1, 2, 3, 4, 0}) ==> return {4}\n",
    "Explanation:\n",
    "4 is greater than the sum all the elements to its right side\n",
    "Note : The last element 0 is equal to right sum of its elements (abstract zero).\n",
    "arrayLeaders ({16, 17, 4, 3, 5, 2}) ==> return {17, 5, 2}\n",
    "Explanation:\n",
    "17 is greater than the sum all the elements to its right side\n",
    "5 is greater than the sum all the elements to its right side\n",
    "Note : The last element 2 is greater than the sum of its right elements (abstract zero).\n",
    "arrayLeaders ({5, 2, -1}) ==> return {5, 2}\n",
    "Explanation:\n",
    "5 is greater than the sum all the elements to its right side\n",
    "2 is greater than the sum all the elements to its right side\n",
    "Note : The last element -1 is less than the sum of its right elements (abstract zero).\n",
    "arrayLeaders ({0, -1, -29, 3, 2}) ==> return {0, -1, 3, 2}\n",
    "Explanation:\n",
    "0 is greater than the sum all the elements to its right side\n",
    "-1 is greater than the sum all the elements to its right side\n",
    "3 is greater than the sum all the elements to its right side\n",
    "Note : The last element 2 is greater than the sum of its right elements (abstract zero).\n",
    "\"\"\"\n",
    "\n",
    "def array_leaders(numbers):\n",
    "    leaders_list = []\n",
    "    for i in range(len(numbers)):\n",
    "        # Through array slicing it is possible to compare the number and the following sum of numbers\n",
    "        if numbers[i] > sum(numbers[i + 1:]): \n",
    "            leaders_list.append(numbers[i])\n",
    "    return leaders_list\n",
    " \n",
    "array_leaders([16,17,4,3,5,2])"
   ]
  }
 ],
 "metadata": {
  "kernelspec": {
   "display_name": "Python 3 (ipykernel)",
   "language": "python",
   "name": "python3"
  },
  "language_info": {
   "codemirror_mode": {
    "name": "ipython",
    "version": 3
   },
   "file_extension": ".py",
   "mimetype": "text/x-python",
   "name": "python",
   "nbconvert_exporter": "python",
   "pygments_lexer": "ipython3",
   "version": "3.9.7"
  }
 },
 "nbformat": 4,
 "nbformat_minor": 5
}
