{
 "cells": [
  {
   "cell_type": "markdown",
   "id": "f6db20da",
   "metadata": {},
   "source": [
    "### Sort array by string length - 7 kyu, Codewars/Python"
   ]
  },
  {
   "cell_type": "code",
   "execution_count": 25,
   "id": "b9f86cd2",
   "metadata": {},
   "outputs": [
    {
     "data": {
      "text/plain": [
       "['Eyes', 'Glasses', 'Monocles', 'Telescopes']"
      ]
     },
     "execution_count": 25,
     "metadata": {},
     "output_type": "execute_result"
    }
   ],
   "source": [
    "\"\"\"\n",
    "Write a function that takes an array of strings as an argument and returns a sorted array containing the \n",
    "same strings, ordered from shortest to longest.\n",
    "For example, if this array were passed as an argument:\n",
    "[\"Telescopes\", \"Glasses\", \"Eyes\", \"Monocles\"]\n",
    "Your function would return the following array:\n",
    "[\"Eyes\", \"Glasses\", \"Monocles\", \"Telescopes\"]\n",
    "All of the strings in the array passed to your function will be different lengths, so you will not have \n",
    "to decide how to order multiple strings of the same length.\n",
    "\"\"\"\n",
    "\n",
    "def sort_by_length(arr):\n",
    "    return sorted(arr, key=len) # The final list, sorted by the string length, is returned\n",
    "sort_by_length([\"Telescopes\", \"Glasses\", \"Eyes\", \"Monocles\"])"
   ]
  }
 ],
 "metadata": {
  "kernelspec": {
   "display_name": "Python 3 (ipykernel)",
   "language": "python",
   "name": "python3"
  },
  "language_info": {
   "codemirror_mode": {
    "name": "ipython",
    "version": 3
   },
   "file_extension": ".py",
   "mimetype": "text/x-python",
   "name": "python",
   "nbconvert_exporter": "python",
   "pygments_lexer": "ipython3",
   "version": "3.9.7"
  }
 },
 "nbformat": 4,
 "nbformat_minor": 5
}
