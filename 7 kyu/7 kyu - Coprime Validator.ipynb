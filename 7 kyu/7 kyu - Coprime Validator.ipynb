{
 "cells": [
  {
   "cell_type": "markdown",
   "id": "4c2c0925",
   "metadata": {},
   "source": [
    "### Coprime Validator - 7 kyu, Codewars/Python"
   ]
  },
  {
   "cell_type": "code",
   "execution_count": 2,
   "id": "bf62f9d3",
   "metadata": {},
   "outputs": [
    {
     "data": {
      "text/plain": [
       "True"
      ]
     },
     "execution_count": 2,
     "metadata": {},
     "output_type": "execute_result"
    }
   ],
   "source": [
    "\"\"\"\n",
    "Write a program to determine if the two given numbers are coprime. A pair of numbers are coprime if \n",
    "their greatest shared factor is 1.\n",
    "The inputs will always be two positive integers between 2 and 99.\n",
    "\n",
    "Examples\n",
    "20 and 27:\n",
    "\n",
    "Factors of 20: 1, 2, 4, 5, 10, 20\n",
    "Factors of 27: 1, 3, 9, 27\n",
    "Greatest shared factor: 1\n",
    "Result: 20 and 27 are coprime\n",
    "12 and 39:\n",
    "\n",
    "Factors of 12: 1, 2, 3, 4, 6, 12\n",
    "Factors of 39: 1, 3, 13, 39\n",
    "Greatest shared factor: 3\n",
    "Result: 12 and 39 are not coprimes\n",
    "\"\"\"\n",
    "\n",
    "def are_coprime(n,m):\n",
    "    def coprime_func(a, b): # The function (the Euclidean algorithm) for finding the greatest common divisor\n",
    "        while a != 0 and b != 0:\n",
    "            if a > b:\n",
    "                a %= b \n",
    "            else:\n",
    "                b %= a \n",
    "        return a + b # We return the greatest common divisor\n",
    "    result = coprime_func(n, m)\n",
    "    if result == 1: # If the greatest common divisor equals to 1, we return True (the given input numbers are \n",
    "        # coprimes)\n",
    "        return True\n",
    "    return False # Alternatively, we return False (the given input numbers are not coprimes)\n",
    "\n",
    "are_coprime(20,27)"
   ]
  }
 ],
 "metadata": {
  "kernelspec": {
   "display_name": "Python 3 (ipykernel)",
   "language": "python",
   "name": "python3"
  },
  "language_info": {
   "codemirror_mode": {
    "name": "ipython",
    "version": 3
   },
   "file_extension": ".py",
   "mimetype": "text/x-python",
   "name": "python",
   "nbconvert_exporter": "python",
   "pygments_lexer": "ipython3",
   "version": "3.9.7"
  }
 },
 "nbformat": 4,
 "nbformat_minor": 5
}
