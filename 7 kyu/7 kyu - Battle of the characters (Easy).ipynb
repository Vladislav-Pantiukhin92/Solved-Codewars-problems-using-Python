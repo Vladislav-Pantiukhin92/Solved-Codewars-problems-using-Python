{
 "cells": [
  {
   "cell_type": "markdown",
   "id": "87a477e7",
   "metadata": {},
   "source": [
    "### Battle of the characters (Easy) - 7 kyu, Codewars/Python"
   ]
  },
  {
   "cell_type": "code",
   "execution_count": 7,
   "id": "043cc36b",
   "metadata": {},
   "outputs": [
    {
     "data": {
      "text/plain": [
       "'Tie!'"
      ]
     },
     "execution_count": 7,
     "metadata": {},
     "output_type": "execute_result"
    }
   ],
   "source": [
    "\"\"\"\n",
    "Description:\n",
    "Groups of characters decided to make a battle. Help them to figure out which group is more powerful. Create a function that will accept 2 strings and return the one who's stronger.\n",
    "\n",
    "Rules:\n",
    "Each character have its own power: A = 1, B = 2, ... Y = 25, Z = 26\n",
    "Strings will consist of uppercase letters only\n",
    "Only two groups to a fight.\n",
    "Group whose total power (A + B + C + ...) is bigger wins.\n",
    "If the powers are equal, it's a tie.\n",
    "Examples:\n",
    "  battle(\"ONE\", \"TWO\"); // => \"TWO\"`\n",
    "  battle(\"ONE\", \"NEO\"); // => \"Tie!\"\n",
    "\"\"\"\n",
    "\n",
    "import string # Let's import the string library to have the English uppercase alphabet\n",
    "def battle(x, y):\n",
    "    numbers = list(range(1, 27))\n",
    "    upper_string = string.ascii_uppercase\n",
    "    # We are going to create the zip_list, where the first element is a letter, and the second one is a value\n",
    "    zip_list = list(zip(upper_string, numbers))\n",
    "    count1 = 0\n",
    "    count2 = 0\n",
    "    for i in x:\n",
    "        for j in zip_list:\n",
    "            if j[0] == i:\n",
    "                count1 += j[1] # The count1 accumulates the value of the first string\n",
    "    for i in y:\n",
    "        for j in zip_list:\n",
    "            if j[0] == i:\n",
    "                count2 += j[1] # The count2 accumulates the value of the second string\n",
    "    if count1 > count2:\n",
    "        return x\n",
    "    elif count1 < count2:\n",
    "        return y\n",
    "    return \"Tie!\"\n",
    "\n",
    "battle(\"ONE\", \"NEO\")"
   ]
  }
 ],
 "metadata": {
  "kernelspec": {
   "display_name": "Python 3",
   "language": "python",
   "name": "python3"
  },
  "language_info": {
   "codemirror_mode": {
    "name": "ipython",
    "version": 3
   },
   "file_extension": ".py",
   "mimetype": "text/x-python",
   "name": "python",
   "nbconvert_exporter": "python",
   "pygments_lexer": "ipython3",
   "version": "3.8.8"
  }
 },
 "nbformat": 4,
 "nbformat_minor": 5
}
