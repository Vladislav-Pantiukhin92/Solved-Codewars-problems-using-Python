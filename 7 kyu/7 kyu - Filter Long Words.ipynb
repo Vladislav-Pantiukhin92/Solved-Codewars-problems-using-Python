{
 "cells": [
  {
   "cell_type": "markdown",
   "id": "ef89ed6c",
   "metadata": {},
   "source": [
    "### Filter Long Words - 7 kuy, Codewars/Python"
   ]
  },
  {
   "cell_type": "code",
   "execution_count": 332,
   "id": "4ba4687c",
   "metadata": {},
   "outputs": [
    {
     "data": {
      "text/plain": [
       "['quick', 'brown', 'jumps']"
      ]
     },
     "execution_count": 332,
     "metadata": {},
     "output_type": "execute_result"
    }
   ],
   "source": [
    "\"\"\"\n",
    "Write a function that takes a string and an an \n",
    "integer n as parameters and returns a list of all words that are longer than n.\n",
    "\n",
    "Example:\n",
    "\n",
    "* With input 'The quick brown fox jumps over the lazy dog', 4\n",
    "* Return ['quick', 'brown', 'jumps']\n",
    "\"\"\"\n",
    "\n",
    "def filter_long_words(sentence, n):\n",
    "    my_list = sentence.split() # We transform the string into the list of words\n",
    "    def filter_function(x):\n",
    "        if len(x) > n:\n",
    "            return 1\n",
    "        return 0\n",
    "    final_result = list(filter(filter_function, my_list)) # Use of an in-built function: filter()\n",
    "    return final_result\n",
    "filter_long_words('The quick brown fox jumps over the lazy dog', 4)"
   ]
  },
  {
   "cell_type": "code",
   "execution_count": null,
   "id": "f043efd9",
   "metadata": {},
   "outputs": [],
   "source": []
  }
 ],
 "metadata": {
  "kernelspec": {
   "display_name": "Python 3",
   "language": "python",
   "name": "python3"
  },
  "language_info": {
   "codemirror_mode": {
    "name": "ipython",
    "version": 3
   },
   "file_extension": ".py",
   "mimetype": "text/x-python",
   "name": "python",
   "nbconvert_exporter": "python",
   "pygments_lexer": "ipython3",
   "version": "3.8.8"
  }
 },
 "nbformat": 4,
 "nbformat_minor": 5
}
