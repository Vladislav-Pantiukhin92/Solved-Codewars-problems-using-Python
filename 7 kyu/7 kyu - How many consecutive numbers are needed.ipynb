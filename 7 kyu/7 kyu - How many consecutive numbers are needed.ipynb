{
 "cells": [
  {
   "cell_type": "markdown",
   "id": "c5f795ed",
   "metadata": {},
   "source": [
    "### How many consecutive numbers are needed? - 7 kyu, Codewars/Python"
   ]
  },
  {
   "cell_type": "code",
   "execution_count": 77,
   "id": "00134365",
   "metadata": {},
   "outputs": [
    {
     "data": {
      "text/plain": [
       "2"
      ]
     },
     "execution_count": 77,
     "metadata": {},
     "output_type": "execute_result"
    }
   ],
   "source": [
    "\"\"\"Create the function consecutive(arr) that takes an array of integers and return the minimum number \n",
    "of integers needed to make the contents of arr consecutive from the lowest number to the highest number.\n",
    "For example:\n",
    "If arr contains [4, 8, 6] then the output should be 2 because two numbers need to be added to \n",
    "the array (5 and 7) to make it a consecutive array of numbers from 4 to 8. Numbers in arr will be unique.\"\"\"\n",
    "\n",
    "def consecutive(arr):\n",
    "    if len(arr) < 2: # If the given input list contains no elements, or just 1 element - we return 0\n",
    "        return 0\n",
    "    # We are going to utilize the Exponential Search algorithm to find the missing numbers in the sorted given \n",
    "    # input list\n",
    "    arr.sort() # It is the sorted given input array\n",
    "    needed = 0 # It is the initial number of elements, which are needed\n",
    "    smallest = arr[0] # The smallest element within the sorted given input list\n",
    "    largest = arr[-1] # The largest element within the sorted given input list\n",
    "    def exponential_search(array, target): # The Exponential Search algorithm\n",
    "        if array[0] == target: # The case, when the element is within the list\n",
    "            return \"Yes\"\n",
    "        index = 1\n",
    "        # Through the use of the 'while loop' we can find the slice of the list, where the number can be located\n",
    "        while index < len(array) and target < array[index]:\n",
    "            index *= 2\n",
    "        def binary_search(array, target, low, high): # When the slice is determined - we execute the Binary Search \n",
    "            # algorithm to figure out the number's existence\n",
    "            if low > high:\n",
    "                return \"No\"\n",
    "            mid = (low + high) // 2\n",
    "            if array[mid] == target:\n",
    "                return \"Yes\"\n",
    "            else:\n",
    "                if target > array[mid]:\n",
    "                    return binary_search(array, target, mid + 1, high)\n",
    "                else:\n",
    "                    return binary_search(array, target, low, mid - 1)\n",
    "        return binary_search(array, target, 0, len(array) - 1)\n",
    "    smallest += 1\n",
    "    # We are going to verify the existence of numbers within the gap between the smallest one and the largest one\n",
    "    # If the number doesn't exist within the list, this number is needed\n",
    "    while smallest < largest:\n",
    "        result = exponential_search(arr, smallest)\n",
    "        if result == \"No\":\n",
    "            needed += 1\n",
    "        smallest += 1\n",
    "    return needed # The number of needed elements is returned\n",
    "\n",
    "consecutive([4,8,6])"
   ]
  }
 ],
 "metadata": {
  "kernelspec": {
   "display_name": "Python 3 (ipykernel)",
   "language": "python",
   "name": "python3"
  },
  "language_info": {
   "codemirror_mode": {
    "name": "ipython",
    "version": 3
   },
   "file_extension": ".py",
   "mimetype": "text/x-python",
   "name": "python",
   "nbconvert_exporter": "python",
   "pygments_lexer": "ipython3",
   "version": "3.9.7"
  }
 },
 "nbformat": 4,
 "nbformat_minor": 5
}
