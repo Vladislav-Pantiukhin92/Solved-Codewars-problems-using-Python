{
 "cells": [
  {
   "cell_type": "markdown",
   "id": "0ba9259d",
   "metadata": {},
   "source": [
    "### Minimum Steps (Array Series #6) - 7 kyu, Codewars/Python"
   ]
  },
  {
   "cell_type": "code",
   "execution_count": 168,
   "id": "a7639ffd",
   "metadata": {},
   "outputs": [
    {
     "data": {
      "text/plain": [
       "8"
      ]
     },
     "execution_count": 168,
     "metadata": {},
     "output_type": "execute_result"
    }
   ],
   "source": [
    "\"\"\"\n",
    "Given an array of N integers, you have to find how many \n",
    "times you have to add up the smallest numbers in the array until their Sum becomes greater or equal to K.\n",
    "\n",
    "Notes:\n",
    "List size is at least 3.\n",
    "All numbers will be positive.\n",
    "Numbers could occur more than once , (Duplications may exist).\n",
    "Threshold K will always be reachable.\n",
    "\"\"\"\n",
    "\n",
    "from itertools import accumulate \n",
    "# Cumulative sum of the sorted array together with 'enumerate' function makes it possible to find the proper number\n",
    "\n",
    "def minimum_steps(numbers, value):\n",
    "    for i, j in enumerate(list(accumulate(sorted(numbers)))):\n",
    "        if j >= value:\n",
    "            return i\n",
    "\n",
    "minimum_steps([19,98,69,28,75,45,17,98,67], 464)"
   ]
  }
 ],
 "metadata": {
  "kernelspec": {
   "display_name": "Python 3 (ipykernel)",
   "language": "python",
   "name": "python3"
  },
  "language_info": {
   "codemirror_mode": {
    "name": "ipython",
    "version": 3
   },
   "file_extension": ".py",
   "mimetype": "text/x-python",
   "name": "python",
   "nbconvert_exporter": "python",
   "pygments_lexer": "ipython3",
   "version": "3.9.7"
  }
 },
 "nbformat": 4,
 "nbformat_minor": 5
}
