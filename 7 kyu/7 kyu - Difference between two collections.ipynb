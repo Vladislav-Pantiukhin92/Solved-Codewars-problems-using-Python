{
 "cells": [
  {
   "cell_type": "markdown",
   "id": "d24f5e21",
   "metadata": {},
   "source": [
    "### Difference between two collections - 7 kyu, Codewars/Python"
   ]
  },
  {
   "cell_type": "code",
   "execution_count": 1,
   "id": "2c48f976",
   "metadata": {},
   "outputs": [
    {
     "data": {
      "text/plain": [
       "['a', 'e', 'g', 'j', 'k']"
      ]
     },
     "execution_count": 1,
     "metadata": {},
     "output_type": "execute_result"
    }
   ],
   "source": [
    "\"\"\"\n",
    "Find the difference between two collections. The difference means that either the character is present in \n",
    "one collection or it is present in other, but not in both. Return a sorted list with the difference.\n",
    "The collections can contain any character and can contain duplicates.\n",
    "\n",
    "Example\n",
    "A = [a, a, t, e, f, i, j]\n",
    "B = [t, g, g, i, k, f]\n",
    "difference = [a, e, g, j, k]\n",
    "\"\"\"\n",
    "\n",
    "def diff(a, b):\n",
    "    # The relevant usage of the set method 'set1.symmetric_difference(set2)'\n",
    "    return sorted(list(set(a).symmetric_difference(set(b))))\n",
    "\n",
    "diff([\"a\",\"a\",\"t\",\"e\",\"f\",\"i\",\"j\"], [\"t\",\"g\",\"g\",\"i\",\"k\",\"f\"])"
   ]
  }
 ],
 "metadata": {
  "kernelspec": {
   "display_name": "Python 3 (ipykernel)",
   "language": "python",
   "name": "python3"
  },
  "language_info": {
   "codemirror_mode": {
    "name": "ipython",
    "version": 3
   },
   "file_extension": ".py",
   "mimetype": "text/x-python",
   "name": "python",
   "nbconvert_exporter": "python",
   "pygments_lexer": "ipython3",
   "version": "3.9.7"
  }
 },
 "nbformat": 4,
 "nbformat_minor": 5
}
