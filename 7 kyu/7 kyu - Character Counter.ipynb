{
 "cells": [
  {
   "cell_type": "markdown",
   "id": "cb40bb04",
   "metadata": {},
   "source": [
    "### Character Counter - 7 kyu, Codewars/Python"
   ]
  },
  {
   "cell_type": "code",
   "execution_count": 91,
   "id": "fa0d8626",
   "metadata": {},
   "outputs": [
    {
     "data": {
      "text/plain": [
       "True"
      ]
     },
     "execution_count": 91,
     "metadata": {},
     "output_type": "execute_result"
    }
   ],
   "source": [
    "\"\"\"\n",
    "You are going to be given a word. Your job will be to make sure that each character in that word has \n",
    "the exact same number of occurrences. You will return true if it is valid, or false if it is not.\n",
    "For this kata, capitals are considered the same as lowercase letters. Therefore: \"A\" == \"a\"\n",
    "The input is a string (with no spaces) containing [a-z],[A-Z],[0-9] and common symbols. \n",
    "The length will be 0 < length < 100.\n",
    "\n",
    "Examples\n",
    "\"abcabc\" is a valid word because \"a\" appears twice, \"b\" appears twice, and\"c\" appears twice.\n",
    "\"abcabcd\" is NOT a valid word because \"a\" appears twice, \"b\" appears twice, \"c\" appears twice, \n",
    "but \"d\" only appears once!\n",
    "\"123abc!\" is a valid word because all of the characters only appear once in the word.\n",
    "\"\"\"\n",
    "\n",
    "from collections import Counter\n",
    "# We will use the 'most_common()' method to make a comparison between the first and the last elements\n",
    "# If these elements are equal, then the number of characters is the same (True)\n",
    "# Otherwise, we return False\n",
    "\n",
    "def validate_word(word):\n",
    "    return Counter(word.casefold()).most_common()[0][1] == Counter(word.casefold()).most_common()[-1][1]\n",
    "\n",
    "validate_word(\"Abcabc\")"
   ]
  }
 ],
 "metadata": {
  "kernelspec": {
   "display_name": "Python 3 (ipykernel)",
   "language": "python",
   "name": "python3"
  },
  "language_info": {
   "codemirror_mode": {
    "name": "ipython",
    "version": 3
   },
   "file_extension": ".py",
   "mimetype": "text/x-python",
   "name": "python",
   "nbconvert_exporter": "python",
   "pygments_lexer": "ipython3",
   "version": "3.9.7"
  }
 },
 "nbformat": 4,
 "nbformat_minor": 5
}
