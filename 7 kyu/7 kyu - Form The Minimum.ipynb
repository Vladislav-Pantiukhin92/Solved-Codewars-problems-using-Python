{
 "cells": [
  {
   "cell_type": "markdown",
   "id": "14417b70",
   "metadata": {},
   "source": [
    "### Form The Minimum - 7 kyu, Codewars/Python"
   ]
  },
  {
   "cell_type": "code",
   "execution_count": 34,
   "id": "048e1850",
   "metadata": {},
   "outputs": [
    {
     "data": {
      "text/plain": [
       "134679"
      ]
     },
     "execution_count": 34,
     "metadata": {},
     "output_type": "execute_result"
    }
   ],
   "source": [
    "\"\"\"\n",
    "Task\n",
    "Given a list of digits, return the smallest number that could be formed from these digits, using the digits only once (ignore duplicates).\n",
    "\n",
    "Notes:\n",
    "Only positive integers will be passed to the function (> 0 ), no negatives or zeros.\n",
    "Input >> Output Examples\n",
    "minValue ({1, 3, 1})  ==> return (13)\n",
    "Explanation:\n",
    "(13) is the minimum number could be formed from {1, 3, 1} , Without duplications\n",
    "\n",
    "minValue({5, 7, 5, 9, 7})  ==> return (579)\n",
    "Explanation:\n",
    "(579) is the minimum number could be formed from {5, 7, 5, 9, 7} , Without duplications\n",
    "\n",
    "minValue({1, 9, 3, 1, 7, 4, 6, 6, 7}) return  ==> (134679)\n",
    "Explanation:\n",
    "(134679) is the minimum number could be formed from {1, 9, 3, 1, 7, 4, 6, 6, 7} , Without duplications\n",
    "\"\"\"\n",
    "\n",
    "def min_value(digits):\n",
    "# To solve the problem the following operations should be executed: removal of duplicates with the set \n",
    "# structure -> the obtained unique elements are sorted in ascending order (the front part is represented \n",
    "# by the smaller numbers and the rear part is represented by the larger numbers) -> numeric elements are merged\n",
    "# together (through the 'map' function) to obtain the integer result, which is to be returned\n",
    "\n",
    "    smallest_lst = sorted(list(set(digits)))\n",
    "    result = int(\"\".join(list(map(str, smallest_lst))))\n",
    "    return result\n",
    "\n",
    "min_value({1, 9, 3, 1, 7, 4, 6, 6, 7})"
   ]
  }
 ],
 "metadata": {
  "kernelspec": {
   "display_name": "Python 3 (ipykernel)",
   "language": "python",
   "name": "python3"
  },
  "language_info": {
   "codemirror_mode": {
    "name": "ipython",
    "version": 3
   },
   "file_extension": ".py",
   "mimetype": "text/x-python",
   "name": "python",
   "nbconvert_exporter": "python",
   "pygments_lexer": "ipython3",
   "version": "3.9.7"
  }
 },
 "nbformat": 4,
 "nbformat_minor": 5
}
