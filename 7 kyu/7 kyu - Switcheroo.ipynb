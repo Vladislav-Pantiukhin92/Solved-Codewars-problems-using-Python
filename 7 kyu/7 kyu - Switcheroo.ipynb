{
 "cells": [
  {
   "cell_type": "markdown",
   "id": "a5206eb3",
   "metadata": {},
   "source": [
    "### Switcheroo - 7 kyu, Codewars/Python"
   ]
  },
  {
   "cell_type": "code",
   "execution_count": 44,
   "id": "a5d98bc4",
   "metadata": {},
   "outputs": [
    {
     "data": {
      "text/plain": [
       "'bbabcabb'"
      ]
     },
     "execution_count": 44,
     "metadata": {},
     "output_type": "execute_result"
    }
   ],
   "source": [
    "\"\"\"\n",
    "Given a string made up of letters a, b, and/or c, switch the position of letters a and b (change a to b \n",
    "and vice versa). Leave any incidence of c untouched.\n",
    "Example:\n",
    "\n",
    "'acb' --> 'bca'\n",
    "'aabacbaa' --> 'bbabcabb'\n",
    "\"\"\"\n",
    "\n",
    "def switcheroo(s):\n",
    "# It is possible to utilize the string method 'str.maketrans()' to tackle such kind of problem:\n",
    "    switch_letters = str.maketrans(\"ab\", \"ba\")\n",
    "    return s.translate(switch_letters) # The output string with switched positions of \"a\" and \"b\" is returned\n",
    "\n",
    "switcheroo(\"aabacbaa\")"
   ]
  }
 ],
 "metadata": {
  "kernelspec": {
   "display_name": "Python 3 (ipykernel)",
   "language": "python",
   "name": "python3"
  },
  "language_info": {
   "codemirror_mode": {
    "name": "ipython",
    "version": 3
   },
   "file_extension": ".py",
   "mimetype": "text/x-python",
   "name": "python",
   "nbconvert_exporter": "python",
   "pygments_lexer": "ipython3",
   "version": "3.9.7"
  }
 },
 "nbformat": 4,
 "nbformat_minor": 5
}
