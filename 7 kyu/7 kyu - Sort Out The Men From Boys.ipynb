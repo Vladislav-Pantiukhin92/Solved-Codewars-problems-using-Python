{
 "cells": [
  {
   "cell_type": "markdown",
   "id": "41d92190",
   "metadata": {},
   "source": [
    "### Sort Out The Men From Boys - 7 kyu, Codewars/Python"
   ]
  },
  {
   "cell_type": "code",
   "execution_count": 10,
   "id": "9f344c5c",
   "metadata": {},
   "outputs": [
    {
     "data": {
      "text/plain": [
       "[-86, -56, -30, -15, -17, -33, -45, -85]"
      ]
     },
     "execution_count": 10,
     "metadata": {},
     "output_type": "execute_result"
    }
   ],
   "source": [
    "\"\"\"\n",
    "Now that the competition gets tough it will Sort out the men from the boys.\n",
    "Given an array/list [] of n integers , Separate The even numbers from the odds, \n",
    "or Separate the men from the boys!\n",
    "Notes\n",
    "Return an array/list where Even numbers come first then odds.\n",
    "Since, Men are stronger than Boys, then Even numbers in ascending order, while odds in descending.\n",
    "\"\"\"\n",
    "\n",
    "from itertools import chain # 'itertools.chain' will be used to concatenate two lists with even and odd numbers\n",
    "\n",
    "def men_from_boys(arr):\n",
    "    arr = list(set(arr)) # To remove all duplicates, we need to use the set structure\n",
    "    # Through the use of the 'filter' function, let's create two lists:\n",
    "    even_nums = sorted(list(filter(lambda x: x % 2 == 0, arr))) # The list with only even numbers (sorted in ascending order)\n",
    "    odd_nums = sorted(list(filter(lambda y: y % 2 != 0, arr)), reverse=True) # The list with only odd numbers \n",
    "    # (sorted in descending order)\n",
    "    return list(chain(even_nums, odd_nums)) # Through the use of the 'itertools.chain' we concatenate two lists \n",
    "# and return the obtained result\n",
    "\n",
    "men_from_boys([-17,-45,-15,-33,-85,-56,-86,-30])"
   ]
  }
 ],
 "metadata": {
  "kernelspec": {
   "display_name": "Python 3 (ipykernel)",
   "language": "python",
   "name": "python3"
  },
  "language_info": {
   "codemirror_mode": {
    "name": "ipython",
    "version": 3
   },
   "file_extension": ".py",
   "mimetype": "text/x-python",
   "name": "python",
   "nbconvert_exporter": "python",
   "pygments_lexer": "ipython3",
   "version": "3.9.7"
  }
 },
 "nbformat": 4,
 "nbformat_minor": 5
}
