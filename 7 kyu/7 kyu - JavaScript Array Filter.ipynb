{
 "cells": [
  {
   "cell_type": "markdown",
   "id": "dcbae4b3",
   "metadata": {},
   "source": [
    "### JavaScript Array Filter - 7 kyu, Codewars/Python"
   ]
  },
  {
   "cell_type": "code",
   "execution_count": 2,
   "id": "57d36e58",
   "metadata": {},
   "outputs": [
    {
     "data": {
      "text/plain": [
       "[2, 4, 6]"
      ]
     },
     "execution_count": 2,
     "metadata": {},
     "output_type": "execute_result"
    }
   ],
   "source": [
    "\"\"\"\n",
    "In Python, there is a built-in filter function that operates similarly to JS's filter. For more \n",
    "information on how to use this function, visit https://docs.python.org/3/library/functions.html#filter\n",
    "The solution would work like the following:\n",
    "get_even_numbers([2,4,5,6]) => [2,4,6]\n",
    "\"\"\"\n",
    "\n",
    "def get_even_numbers(arr): # With the help of the 'filter' function we are going to remove odd numbers from \n",
    "    # the given input list.\n",
    "    return list(filter(lambda x: x % 2 == 0, arr)) # The list with just even numbers is returned\n",
    "get_even_numbers([2,4,5,6])"
   ]
  }
 ],
 "metadata": {
  "kernelspec": {
   "display_name": "Python 3 (ipykernel)",
   "language": "python",
   "name": "python3"
  },
  "language_info": {
   "codemirror_mode": {
    "name": "ipython",
    "version": 3
   },
   "file_extension": ".py",
   "mimetype": "text/x-python",
   "name": "python",
   "nbconvert_exporter": "python",
   "pygments_lexer": "ipython3",
   "version": "3.9.7"
  }
 },
 "nbformat": 4,
 "nbformat_minor": 5
}
