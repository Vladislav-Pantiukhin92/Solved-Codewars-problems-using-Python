{
 "cells": [
  {
   "cell_type": "markdown",
   "id": "22a40a2a",
   "metadata": {},
   "source": [
    "### Flatten - 7 kyu, Codewars/Python"
   ]
  },
  {
   "cell_type": "code",
   "execution_count": 4,
   "id": "25f71784",
   "metadata": {},
   "outputs": [
    {
     "data": {
      "text/plain": [
       "[1, 2, 3, 'a', 'b', 'c', 1, 2, 3]"
      ]
     },
     "execution_count": 4,
     "metadata": {},
     "output_type": "execute_result"
    }
   ],
   "source": [
    "\"\"\"\n",
    "Write a function that flattens an Array of Array objects into a flat Array. Your function must only do \n",
    "one level of flattening.\n",
    "\n",
    "flatten [1,2,3] # => [1,2,3]\n",
    "flatten [[1,2,3],[\"a\",\"b\",\"c\"],[1,2,3]]  # => [1,2,3,\"a\",\"b\",\"c\",1,2,3]\n",
    "flatten [[[1,2,3]]] # => [[1,2,3]]\n",
    "\"\"\"\n",
    "\n",
    "from itertools import chain # 'itertools.chain (chain.from_iterable)' will flatten the given input array\n",
    "\n",
    "def flatten(lst):\n",
    "    if not lst: # If the given input array is empty - we return an empty list\n",
    "        return lst\n",
    "    if all(isinstance(i, int) for i in lst):\n",
    "        return lst # If there are no iterables within the given input array, we return the array without changes\n",
    "    result = list(chain.from_iterable(lst)) # Otherwise, we use the 'chain.from_iterable'\n",
    "    return result\n",
    "\n",
    "flatten([[1,2,3],[\"a\",\"b\",\"c\"],[1,2,3]])"
   ]
  }
 ],
 "metadata": {
  "kernelspec": {
   "display_name": "Python 3 (ipykernel)",
   "language": "python",
   "name": "python3"
  },
  "language_info": {
   "codemirror_mode": {
    "name": "ipython",
    "version": 3
   },
   "file_extension": ".py",
   "mimetype": "text/x-python",
   "name": "python",
   "nbconvert_exporter": "python",
   "pygments_lexer": "ipython3",
   "version": "3.9.7"
  }
 },
 "nbformat": 4,
 "nbformat_minor": 5
}
