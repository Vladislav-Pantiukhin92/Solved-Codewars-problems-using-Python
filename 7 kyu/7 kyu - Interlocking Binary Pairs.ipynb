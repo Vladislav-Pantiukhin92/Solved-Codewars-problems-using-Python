{
 "cells": [
  {
   "cell_type": "markdown",
   "id": "c5f795ed",
   "metadata": {},
   "source": [
    "### Interlocking Binary Pairs - 7 kyu, Codewars/Python"
   ]
  },
  {
   "cell_type": "code",
   "execution_count": 8,
   "id": "b5e63a40",
   "metadata": {},
   "outputs": [
    {
     "data": {
      "text/plain": [
       "True"
      ]
     },
     "execution_count": 8,
     "metadata": {},
     "output_type": "execute_result"
    }
   ],
   "source": [
    "\"\"\"\n",
    "Write a function that checks if two non-negative integers make an \"interlocking binary pair\".\n",
    "\n",
    "Interlock?\n",
    "numbers can be interlocked if their binary representations have no 1's in the same place\n",
    "comparisons are made by bit position, starting from right to left (see the examples below)\n",
    "when representations are of different lengths, the unmatched left-most bits are ignored\n",
    "Examples\n",
    "a = 9, b = 4\n",
    "Stacking representations shows how they can interlock. Here, no 1's share any position, so the function \n",
    "returns true.\n",
    "\n",
    " 9    1001\n",
    " 4     100\n",
    "a = 3, b = 6\n",
    "These representations do not interlock. Finding they both have a 1 in the same position, the function \n",
    "returns false.\n",
    "\n",
    " 3      11\n",
    " 6     110\n",
    "Input\n",
    "Two non-negative integers.\n",
    "\n",
    "Output\n",
    "Boolean true or false whether or not these integers are interlockable.\n",
    "\"\"\"\n",
    "\n",
    "def interlockable(a, b):\n",
    "    a = bin(a).lstrip(\"0b\") # The binary representation of the first given input number\n",
    "    b = bin(b).lstrip(\"0b\") # The binary representation of the second given input number\n",
    "    i = len(a) - 1 # The first pointer\n",
    "    j = len(b) - 1 # The second pointer\n",
    "    if len(a) <= len(b): # The focus is on the shorter string\n",
    "        while i >= 0:\n",
    "            if a[i] + b[j] == \"11\": # If we have two \"1\"s within the same location - we return False\n",
    "                return False\n",
    "            i -= 1\n",
    "            j -= 1\n",
    "        return True # Alternatively, we return True\n",
    "    else: # The focus is on the shorter string\n",
    "        while j >= 0:\n",
    "            if a[i] + b[j] == \"11\": # If we have two \"1\"s within the same location - we return False\n",
    "                return False\n",
    "            i -= 1\n",
    "            j -= 1\n",
    "        return True # Alternatively, we return True\n",
    "    \n",
    "interlockable(9, 4)"
   ]
  }
 ],
 "metadata": {
  "kernelspec": {
   "display_name": "Python 3 (ipykernel)",
   "language": "python",
   "name": "python3"
  },
  "language_info": {
   "codemirror_mode": {
    "name": "ipython",
    "version": 3
   },
   "file_extension": ".py",
   "mimetype": "text/x-python",
   "name": "python",
   "nbconvert_exporter": "python",
   "pygments_lexer": "ipython3",
   "version": "3.9.7"
  }
 },
 "nbformat": 4,
 "nbformat_minor": 5
}
