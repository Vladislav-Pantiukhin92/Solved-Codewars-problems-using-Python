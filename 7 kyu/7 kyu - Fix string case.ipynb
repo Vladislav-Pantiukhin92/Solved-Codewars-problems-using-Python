{
 "cells": [
  {
   "cell_type": "markdown",
   "id": "6e3f1004",
   "metadata": {},
   "source": [
    "### Fix string case - 7 kyu, Codewars/Python"
   ]
  },
  {
   "cell_type": "code",
   "execution_count": 17,
   "id": "74f70001",
   "metadata": {},
   "outputs": [
    {
     "data": {
      "text/plain": [
       "'CODE'"
      ]
     },
     "execution_count": 17,
     "metadata": {},
     "output_type": "execute_result"
    }
   ],
   "source": [
    "\"\"\"\n",
    "In this Kata, you will be given a string that may have mixed uppercase and lowercase letters and your task is to convert that string to either lowercase only or uppercase only based on:\n",
    "make as few changes as possible.\n",
    "if the string contains equal number of uppercase and lowercase letters, convert the string to lowercase.\n",
    "For example:\n",
    "\n",
    "solve(\"coDe\") = \"code\". Lowercase characters > uppercase. Change only the \"D\" to lowercase.\n",
    "solve(\"CODe\") = \"CODE\". Uppercase characters > lowecase. Change only the \"e\" to uppercase.\n",
    "solve(\"coDE\") = \"code\". Upper == lowercase. Change all to lowercase.\n",
    "\"\"\"\n",
    "import re\n",
    "\n",
    "def solve(string):\n",
    "    # Through regular expressions:\n",
    "    # If lowercase patterns >= uppercase patterns --> lowercase letters prevail\n",
    "    # Otherwise, uppercase letters prevail\n",
    "    if (len(re.findall(r\"[A-Z]\", string)) == len(re.findall(r\"[a-z]\", string)) or\n",
    "        len(re.findall(r\"[a-z]\", string)) > len(re.findall(r\"[A-Z]\", string))):\n",
    "        return string.lower()\n",
    "    return string.upper()\n",
    "    \n",
    "solve(\"CODe\")"
   ]
  }
 ],
 "metadata": {
  "kernelspec": {
   "display_name": "Python 3 (ipykernel)",
   "language": "python",
   "name": "python3"
  },
  "language_info": {
   "codemirror_mode": {
    "name": "ipython",
    "version": 3
   },
   "file_extension": ".py",
   "mimetype": "text/x-python",
   "name": "python",
   "nbconvert_exporter": "python",
   "pygments_lexer": "ipython3",
   "version": "3.9.7"
  }
 },
 "nbformat": 4,
 "nbformat_minor": 5
}
