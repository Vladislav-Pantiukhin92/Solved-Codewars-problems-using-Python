{
 "cells": [
  {
   "cell_type": "markdown",
   "id": "2f69a9dc",
   "metadata": {},
   "source": [
    "### Sort the Gift Code - 7 kyu, Codewars/Python"
   ]
  },
  {
   "cell_type": "code",
   "execution_count": 9,
   "id": "ecf1a11f",
   "metadata": {},
   "outputs": [
    {
     "data": {
      "text/plain": [
       "'abcdefghijklmnopqrstuvwxyz'"
      ]
     },
     "execution_count": 9,
     "metadata": {},
     "output_type": "execute_result"
    }
   ],
   "source": [
    "\"\"\"\n",
    "Happy Holidays fellow Code Warriors!\n",
    "Santa's senior gift organizer Elf developed a way to represent up to 26 gifts by assigning a unique \n",
    "alphabetical character to each gift. After each gift was assigned a character, the gift organizer \n",
    "Elf then joined the characters to form the gift ordering code.\n",
    "Santa asked his organizer to order the characters in alphabetical order, but the Elf fell asleep from \n",
    "consuming too much hot chocolate and candy canes! Can you help him out?\n",
    "\n",
    "Sort the Gift Code\n",
    "Write a function called sortGiftCode/sort_gift_code/SortGiftCode that accepts a string containing up \n",
    "to 26 unique alphabetical characters, and returns a string containing the same characters in alphabetical order.\n",
    "\n",
    "Examples (Input -- => Output):\n",
    "\"abcdef\"                      -- => \"abcdef\"\n",
    "\"pqksuvy\"                     -- => \"kpqsuvy\"\n",
    "\"zyxwvutsrqponmlkjihgfedcba\"  -- => \"abcdefghijklmnopqrstuvwxyz\"\n",
    "\"\"\"\n",
    "\n",
    "def sort_gift_code(code):\n",
    "    # To obtain and return the alphabetical order of the given input string, it is feasible to use just the sort()\n",
    "    # function:\n",
    "    return \"\".join(sorted(code)) \n",
    "sort_gift_code(\"zyxwvutsrqponmlkjihgfedcba\")"
   ]
  }
 ],
 "metadata": {
  "kernelspec": {
   "display_name": "Python 3 (ipykernel)",
   "language": "python",
   "name": "python3"
  },
  "language_info": {
   "codemirror_mode": {
    "name": "ipython",
    "version": 3
   },
   "file_extension": ".py",
   "mimetype": "text/x-python",
   "name": "python",
   "nbconvert_exporter": "python",
   "pygments_lexer": "ipython3",
   "version": "3.9.7"
  }
 },
 "nbformat": 4,
 "nbformat_minor": 5
}
