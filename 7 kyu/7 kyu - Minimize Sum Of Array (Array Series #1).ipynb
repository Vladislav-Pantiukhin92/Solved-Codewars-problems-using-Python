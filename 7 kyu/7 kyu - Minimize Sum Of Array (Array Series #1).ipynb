{
 "cells": [
  {
   "cell_type": "markdown",
   "id": "14417b70",
   "metadata": {},
   "source": [
    "### Minimize Sum Of Array (Array Series #1) - 7 kyu, Codewars/Python"
   ]
  },
  {
   "cell_type": "code",
   "execution_count": 35,
   "id": "e8b68e6d",
   "metadata": {},
   "outputs": [
    {
     "data": {
      "text/plain": [
       "342"
      ]
     },
     "execution_count": 35,
     "metadata": {},
     "output_type": "execute_result"
    }
   ],
   "source": [
    "\"\"\"\n",
    "Given an array of integers , Find the minimum sum which is obtained from summing each Two integers product.\n",
    "\n",
    "Notes\n",
    "Array/list will contain positives only .\n",
    "Array/list will always have even size\n",
    "Input >> Output Examples\n",
    "minSum({5,4,2,3}) ==> return (22) \n",
    "Explanation:\n",
    "The minimum sum obtained from summing each two integers product ,  5*2 + 3*4 = 22\n",
    "minSum({12,6,10,26,3,24}) ==> return (342)\n",
    "Explanation:\n",
    "The minimum sum obtained from summing each two integers product ,  26*3 + 24*6 + 12*10 = 342\n",
    "minSum({9,2,8,7,5,4,0,6}) ==> return (74)\n",
    "Explanation:\n",
    "The minimum sum obtained from summing each two integers product ,  9*0 + 8*2 +7*4 +6*5 = 74\n",
    "\"\"\"\n",
    "\n",
    "from itertools import starmap # 'itertools.starmap' will be used for finding the product of elements within\n",
    "# each iterable of the obatined zip_list\n",
    "\n",
    "def min_sum(arr):\n",
    "    length = len(arr) # Let's determine the length of the given input array\n",
    "    # We are going to divide the array into two subarrays. The first subarray will be represented by the smaller\n",
    "    # numbers. The second subarray will comprise the larger numbers. To divide the array it is necessary, \n",
    "    # first of all, to find the middle index, as well as to sort the given input array in ascending order:\n",
    "    middle = length // 2\n",
    "    arr = sorted(arr) # The array is sorted in ascending order\n",
    "    smallest = arr[:middle] # The smaller subarray\n",
    "    largest = sorted(arr[middle:], reverse=True) # The larger subarray (sorted in reverse order). \n",
    "    # The reverse order is essential, because we should pair the smallest number and the largest number for the \n",
    "    # smallest sum possible\n",
    "    zip_list = list(zip(smallest, largest)) # Zip_list merges two subarrays into the list with iterables/tuples\n",
    "    product_list = list(starmap(lambda x, y: x * y, zip_list)) # Implementation of the 'starmap' function\n",
    "    return sum(product_list) # The final step is to find and return the minimum sum\n",
    "\n",
    "min_sum({12,6,10,26,3,24})"
   ]
  }
 ],
 "metadata": {
  "kernelspec": {
   "display_name": "Python 3 (ipykernel)",
   "language": "python",
   "name": "python3"
  },
  "language_info": {
   "codemirror_mode": {
    "name": "ipython",
    "version": 3
   },
   "file_extension": ".py",
   "mimetype": "text/x-python",
   "name": "python",
   "nbconvert_exporter": "python",
   "pygments_lexer": "ipython3",
   "version": "3.9.7"
  }
 },
 "nbformat": 4,
 "nbformat_minor": 5
}
